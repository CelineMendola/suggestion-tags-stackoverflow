{
 "cells": [
  {
   "cell_type": "code",
   "execution_count": 1,
   "id": "cc0bbd30",
   "metadata": {},
   "outputs": [],
   "source": [
    "import pandas as pd\n",
    "import matplotlib.pyplot as plt\n",
    "import numpy as np\n",
    "import gensim\n",
    "import gensim.corpora as corpora\n",
    "\n",
    "from sklearn.feature_extraction.text import TfidfVectorizer\n",
    "from collections import Counter\n",
    "\n",
    "from sklearn.model_selection import train_test_split\n",
    "import timeit"
   ]
  },
  {
   "cell_type": "code",
   "execution_count": 2,
   "id": "5cc1b4f6",
   "metadata": {},
   "outputs": [],
   "source": [
    "import warnings\n",
    "warnings.filterwarnings(\"ignore\")"
   ]
  },
  {
   "cell_type": "code",
   "execution_count": 3,
   "id": "57a7b275",
   "metadata": {},
   "outputs": [
    {
     "data": {
      "application/javascript": [
       "IPython.OutputArea.prototype._should_scroll = function(lines) {\n",
       "    return false;\n",
       "}\n"
      ],
      "text/plain": [
       "<IPython.core.display.Javascript object>"
      ]
     },
     "metadata": {},
     "output_type": "display_data"
    }
   ],
   "source": [
    "%%javascript\n",
    "IPython.OutputArea.prototype._should_scroll = function(lines) {\n",
    "    return false;\n",
    "}"
   ]
  },
  {
   "cell_type": "code",
   "execution_count": 4,
   "id": "5d66f1da",
   "metadata": {},
   "outputs": [],
   "source": [
    "# change display options\n",
    "#pd.set_option('display.max_columns', None)\n",
    "#pd.set_option('display.expand_frame_repr', False)\n",
    "#pd.set_option('max_colwidth', -1)"
   ]
  },
  {
   "cell_type": "markdown",
   "id": "087f72f2",
   "metadata": {},
   "source": [
    "## I. Topic predictions"
   ]
  },
  {
   "cell_type": "markdown",
   "id": "6e73473f",
   "metadata": {},
   "source": [
    "### LDA"
   ]
  },
  {
   "cell_type": "markdown",
   "id": "6e20ee11",
   "metadata": {},
   "source": [
    "We try topic prediction with the Latent direichlet allocation that is a probabilistic model."
   ]
  },
  {
   "cell_type": "markdown",
   "id": "a5acdd38",
   "metadata": {},
   "source": [
    "#### Create model"
   ]
  },
  {
   "cell_type": "code",
   "execution_count": 5,
   "id": "1764f9a8",
   "metadata": {
    "scrolled": true
   },
   "outputs": [],
   "source": [
    "#import dataset\n",
    "df = pd.read_pickle('./data/cleaned_data.pkl')"
   ]
  },
  {
   "cell_type": "code",
   "execution_count": null,
   "id": "d1464e28",
   "metadata": {},
   "outputs": [],
   "source": []
  },
  {
   "cell_type": "code",
   "execution_count": 6,
   "id": "6ef544df",
   "metadata": {
    "scrolled": false
   },
   "outputs": [
    {
     "data": {
      "text/html": [
       "<div>\n",
       "<style scoped>\n",
       "    .dataframe tbody tr th:only-of-type {\n",
       "        vertical-align: middle;\n",
       "    }\n",
       "\n",
       "    .dataframe tbody tr th {\n",
       "        vertical-align: top;\n",
       "    }\n",
       "\n",
       "    .dataframe thead th {\n",
       "        text-align: right;\n",
       "    }\n",
       "</style>\n",
       "<table border=\"1\" class=\"dataframe\">\n",
       "  <thead>\n",
       "    <tr style=\"text-align: right;\">\n",
       "      <th></th>\n",
       "      <th>Body</th>\n",
       "      <th>Title</th>\n",
       "      <th>Tags</th>\n",
       "      <th>Preprocessed_text</th>\n",
       "      <th>Score</th>\n",
       "    </tr>\n",
       "  </thead>\n",
       "  <tbody>\n",
       "    <tr>\n",
       "      <th>0</th>\n",
       "      <td>have   table   csv format that looks like t...</td>\n",
       "      <td>how pivot dataframe pandas</td>\n",
       "      <td>[python, pandas, dataframe, transpose]</td>\n",
       "      <td>table csv format transpose table value indicat...</td>\n",
       "      <td>46</td>\n",
       "    </tr>\n",
       "    <tr>\n",
       "      <th>1</th>\n",
       "      <td>greets      reading that the default behaviou...</td>\n",
       "      <td>uitableview with fixed section headers</td>\n",
       "      <td>[ios, objective-c, uitableview]</td>\n",
       "      <td>greet read default behaviour uitableview pin s...</td>\n",
       "      <td>111</td>\n",
       "    </tr>\n",
       "    <tr>\n",
       "      <th>3</th>\n",
       "      <td>have installed react using  create react ap...</td>\n",
       "      <td>load local images react</td>\n",
       "      <td>[image, reactjs, local]</td>\n",
       "      <td>instal react create react app instal fine load...</td>\n",
       "      <td>70</td>\n",
       "    </tr>\n",
       "    <tr>\n",
       "      <th>4</th>\n",
       "      <td>are used   say   every r new user that   ...</td>\n",
       "      <td>the apply family really not vectorized</td>\n",
       "      <td>[r, performance, loops, vectorization, apply]</td>\n",
       "      <td>r user apply vectorize patrick burn r inferno ...</td>\n",
       "      <td>144</td>\n",
       "    </tr>\n",
       "    <tr>\n",
       "      <th>5</th>\n",
       "      <td>want   add some leading zeroes     string  ...</td>\n",
       "      <td>add leading zeroes number dart</td>\n",
       "      <td>[dart]</td>\n",
       "      <td>lead zero string example total length characte...</td>\n",
       "      <td>77</td>\n",
       "    </tr>\n",
       "  </tbody>\n",
       "</table>\n",
       "</div>"
      ],
      "text/plain": [
       "                                                Body  \\\n",
       "0     have   table   csv format that looks like t...   \n",
       "1   greets      reading that the default behaviou...   \n",
       "3     have installed react using  create react ap...   \n",
       "4       are used   say   every r new user that   ...   \n",
       "5     want   add some leading zeroes     string  ...   \n",
       "\n",
       "                                      Title  \\\n",
       "0               how pivot dataframe pandas    \n",
       "1    uitableview with fixed section headers   \n",
       "3                  load local images react    \n",
       "4   the apply family really not vectorized    \n",
       "5            add leading zeroes number dart   \n",
       "\n",
       "                                            Tags  \\\n",
       "0         [python, pandas, dataframe, transpose]   \n",
       "1                [ios, objective-c, uitableview]   \n",
       "3                        [image, reactjs, local]   \n",
       "4  [r, performance, loops, vectorization, apply]   \n",
       "5                                         [dart]   \n",
       "\n",
       "                                   Preprocessed_text  Score  \n",
       "0  table csv format transpose table value indicat...     46  \n",
       "1  greet read default behaviour uitableview pin s...    111  \n",
       "3  instal react create react app instal fine load...     70  \n",
       "4  r user apply vectorize patrick burn r inferno ...    144  \n",
       "5  lead zero string example total length characte...     77  "
      ]
     },
     "execution_count": 6,
     "metadata": {},
     "output_type": "execute_result"
    }
   ],
   "source": [
    "df.head()"
   ]
  },
  {
   "cell_type": "code",
   "execution_count": 7,
   "id": "8a9282ad",
   "metadata": {},
   "outputs": [],
   "source": [
    "df.reset_index(inplace=True, drop=True)"
   ]
  },
  {
   "cell_type": "code",
   "execution_count": 8,
   "id": "35d50a67",
   "metadata": {},
   "outputs": [],
   "source": [
    "data_cleaned = []\n",
    "for i in range(df.shape[0]):\n",
    "    data_cleaned.append(df['Preprocessed_text'][i].split())"
   ]
  },
  {
   "cell_type": "code",
   "execution_count": 9,
   "id": "0c87cb70",
   "metadata": {
    "scrolled": false
   },
   "outputs": [],
   "source": [
    "#mapping between words and ids\n",
    "dictionary = corpora.Dictionary(data_cleaned)\n",
    "\n",
    "#filter on tokens\n",
    "dictionary.filter_extremes(no_below=5, no_above=0.90, keep_n=3000)\n",
    "\n",
    "# Print dictionary\n",
    "#print(dictionary.token2id)"
   ]
  },
  {
   "cell_type": "code",
   "execution_count": 10,
   "id": "396c8aaa",
   "metadata": {},
   "outputs": [],
   "source": [
    "# Term Document Frequency\n",
    "corpus = [dictionary.doc2bow(text) for text in data_cleaned]"
   ]
  },
  {
   "cell_type": "code",
   "execution_count": 11,
   "id": "4f64fce8",
   "metadata": {
    "scrolled": true
   },
   "outputs": [
    {
     "name": "stdout",
     "output_type": "stream",
     "text": [
      "[(0, 1), (1, 3), (2, 3), (3, 1), (4, 1), (5, 1), (6, 1), (7, 1), (8, 1), (9, 2), (10, 2), (11, 1), (12, 1), (13, 1), (14, 2), (15, 1), (16, 4), (17, 3)]\n"
     ]
    }
   ],
   "source": [
    "print(corpus[0])"
   ]
  },
  {
   "cell_type": "code",
   "execution_count": 12,
   "id": "a7ae23bb",
   "metadata": {},
   "outputs": [],
   "source": [
    "import pyLDAvis\n",
    "import pyLDAvis.gensim_models "
   ]
  },
  {
   "cell_type": "code",
   "execution_count": 13,
   "id": "3633867e",
   "metadata": {},
   "outputs": [],
   "source": [
    "from gensim.models import TfidfModel"
   ]
  },
  {
   "cell_type": "code",
   "execution_count": 14,
   "id": "456cda43",
   "metadata": {},
   "outputs": [],
   "source": [
    "#create TF-IDF bag of words\n",
    "\n",
    "model = TfidfModel(corpus) \n",
    "corpus = model[corpus]"
   ]
  },
  {
   "cell_type": "code",
   "execution_count": 15,
   "id": "e21498db",
   "metadata": {},
   "outputs": [],
   "source": [
    "# Look for the best number of topics : we calculate coherence score. \n",
    "\n",
    "scores = []\n",
    "\n",
    "#t is the number of topics\n",
    "for t in range(4, 30):    \n",
    "    \n",
    "    lda_model = gensim.models.LdaMulticore(corpus=corpus,\n",
    "                                           id2word=dictionary,\n",
    "                                           num_topics=t, \n",
    "                                           random_state=0,\n",
    "                                           chunksize=100,\n",
    "                                           passes=10,\n",
    "                                           per_word_topics=True)\n",
    "    \n",
    "    coherence_model_lda = gensim.models.CoherenceModel(model=lda_model, \n",
    "                                                       texts=data_cleaned, \n",
    "                                                       dictionary=dictionary, \n",
    "                                                       coherence='c_v')\n",
    "    score = coherence_model_lda.get_coherence()\n",
    "    scores.append(score)"
   ]
  },
  {
   "cell_type": "code",
   "execution_count": 16,
   "id": "8dc023f2",
   "metadata": {},
   "outputs": [
    {
     "data": {
      "image/png": "[encoded data removed]",
      "text/plain": [
       "<Figure size 432x288 with 1 Axes>"
      ]
     },
     "metadata": {
      "needs_background": "light"
     },
     "output_type": "display_data"
    }
   ],
   "source": [
    "plt.plot(np.arange(4,30),scores)\n",
    "plt.xticks(np.arange(4,30,2))\n",
    "plt.xlabel('Number of topics')\n",
    "plt.ylabel('Coherence score')\n",
    "plt.title('Cohence scores for LDA models')\n",
    "plt.grid()"
   ]
  },
  {
   "cell_type": "code",
   "execution_count": 17,
   "id": "a09e10b9",
   "metadata": {},
   "outputs": [],
   "source": [
    "# Build LDA model\n",
    "lda_model = gensim.models.LdaMulticore(corpus=corpus,\n",
    "                                       id2word=dictionary,\n",
    "                                       num_topics=17, \n",
    "                                       random_state=0,\n",
    "                                       chunksize=100,\n",
    "                                       passes=10,\n",
    "                                       per_word_topics=True)"
   ]
  },
  {
   "cell_type": "code",
   "execution_count": 18,
   "id": "bc6a0d98",
   "metadata": {},
   "outputs": [
    {
     "name": "stdout",
     "output_type": "stream",
     "text": [
      "nCoherence Score:  0.5402846427453079\n"
     ]
    }
   ],
   "source": [
    "#check coherence score\n",
    "coherence_model_lda = gensim.models.CoherenceModel(model=lda_model, texts=data_cleaned, dictionary=dictionary, coherence='c_v')\n",
    "coherence_lda = coherence_model_lda.get_coherence()\n",
    "print('nCoherence Score: ', coherence_lda)"
   ]
  },
  {
   "cell_type": "code",
   "execution_count": 19,
   "id": "8ca0b0f5",
   "metadata": {
    "scrolled": true
   },
   "outputs": [
    {
     "data": {
      "text/plain": [
       "[(0,\n",
       "  '0.033*\"column\" + 0.025*\"panda\" + 0.025*\"dataframe\" + 0.019*\"col\" + 0.019*\"redirect\" + 0.018*\"csv\" + 0.012*\"numpy\" + 0.012*\"blank\" + 0.011*\"flask\" + 0.011*\"nuget\" + 0.010*\"row\" + 0.010*\"alpha\" + 0.010*\"apt\" + 0.010*\"sum\" + 0.010*\"frame\" + 0.009*\"datum\" + 0.009*\"nodejs\" + 0.009*\"gcc\" + 0.009*\"sizeof\" + 0.008*\"dataset\" + 0.008*\"user_id\" + 0.008*\"photo\" + 0.008*\"reverse\" + 0.007*\"agent\" + 0.007*\"index\" + 0.007*\"primary\" + 0.007*\"table\" + 0.007*\"drive\" + 0.007*\"overlap\" + 0.007*\"wrapper\"'),\n",
       " (1,\n",
       "  '0.020*\"float\" + 0.020*\"cell\" + 0.017*\"center\" + 0.016*\"func\" + 0.015*\"border\" + 0.014*\"leave\" + 0.014*\"proxy\" + 0.013*\"image\" + 0.012*\"position\" + 0.011*\"pool\" + 0.011*\"camera\" + 0.011*\"align\" + 0.011*\"quote\" + 0.010*\"swift\" + 0.010*\"background\" + 0.009*\"arrow\" + 0.009*\"rate\" + 0.008*\"viewcontroller\" + 0.008*\"span\" + 0.008*\"procedure\" + 0.008*\"width\" + 0.008*\"left\" + 0.008*\"pop\" + 0.007*\"nil\" + 0.007*\"row\" + 0.007*\"nsstre\" + 0.007*\"listener\" + 0.007*\"height\" + 0.007*\"footer\" + 0.007*\"grid\"'),\n",
       " (2,\n",
       "  '0.034*\"django\" + 0.021*\"dll\" + 0.018*\"min\" + 0.016*\"max\" + 0.015*\"desc\" + 0.015*\"area\" + 0.014*\"scale\" + 0.014*\"uuid\" + 0.014*\"watch\" + 0.014*\"varchar\" + 0.013*\"assembly\" + 0.013*\"reach\" + 0.013*\"xampp\" + 0.011*\"green\" + 0.011*\"derive\" + 0.011*\"win\" + 0.011*\"textarea\" + 0.010*\"webpage\" + 0.010*\"populate\" + 0.010*\"browse\" + 0.009*\"administrator\" + 0.009*\"visibility\" + 0.009*\"complexity\" + 0.008*\"setting\" + 0.008*\"adjust\" + 0.008*\"sourcetree\" + 0.008*\"domain\" + 0.008*\"sbt\" + 0.007*\"logical\" + 0.007*\"commons\"'),\n",
       " (3,\n",
       "  '0.022*\"split\" + 0.019*\"iframe\" + 0.018*\"amazon\" + 0.017*\"async\" + 0.016*\"task\" + 0.016*\"stream\" + 0.015*\"architecture\" + 0.013*\"jenkin\" + 0.013*\"nbsp\" + 0.012*\"zip\" + 0.012*\"difference\" + 0.012*\"await\" + 0.011*\"identify\" + 0.011*\"ruby\" + 0.010*\"gmail\" + 0.010*\"digit\" + 0.010*\"textfield\" + 0.010*\"compute\" + 0.009*\"autocomplete\" + 0.009*\"partition\" + 0.009*\"uiimage\" + 0.009*\"aug\" + 0.008*\"kafka\" + 0.008*\"revision\" + 0.008*\"awk\" + 0.008*\"room\" + 0.008*\"gradient\" + 0.008*\"eslint\" + 0.007*\"asynchronous\" + 0.007*\"range\"'),\n",
       " (4,\n",
       "  '0.029*\"group\" + 0.020*\"batch\" + 0.019*\"security\" + 0.019*\"shape\" + 0.018*\"observable\" + 0.015*\"catch\" + 0.014*\"exception\" + 0.014*\"forward\" + 0.013*\"datepicker\" + 0.013*\"prompt\" + 0.012*\"sy\" + 0.011*\"jdk\" + 0.011*\"shift\" + 0.011*\"temp\" + 0.010*\"subscribe\" + 0.009*\"bat\" + 0.009*\"myproject\" + 0.009*\"helper\" + 0.008*\"uint\" + 0.008*\"seed\" + 0.008*\"endif\" + 0.008*\"monitor\" + 0.008*\"factor\" + 0.008*\"binary\" + 0.008*\"straight\" + 0.008*\"legend\" + 0.008*\"observe\" + 0.008*\"workspace\" + 0.008*\"dim\" + 0.007*\"jre\"'),\n",
       " (5,\n",
       "  '0.015*\"random\" + 0.014*\"swift\" + 0.010*\"flutter\" + 0.010*\"difference\" + 0.010*\"firebase\" + 0.009*\"optional\" + 0.008*\"reduce\" + 0.008*\"picture\" + 0.008*\"val\" + 0.008*\"listen\" + 0.007*\"practice\" + 0.007*\"condition\" + 0.007*\"entity\" + 0.007*\"deprecate\" + 0.007*\"delay\" + 0.007*\"average\" + 0.007*\"price\" + 0.006*\"objective\" + 0.006*\"memory\" + 0.006*\"recognize\" + 0.006*\"scan\" + 0.006*\"cmake\" + 0.006*\"bitmap\" + 0.006*\"requirejs\" + 0.006*\"counter\" + 0.006*\"logic\" + 0.006*\"clause\" + 0.005*\"builder\" + 0.005*\"generator\" + 0.005*\"makefile\"'),\n",
       " (6,\n",
       "  '0.049*\"docker\" + 0.028*\"container\" + 0.022*\"notification\" + 0.022*\"listview\" + 0.017*\"card\" + 0.017*\"setting\" + 0.016*\"symfony\" + 0.016*\"child\" + 0.016*\"bucket\" + 0.015*\"pod\" + 0.015*\"unique\" + 0.013*\"checkbox\" + 0.011*\"volume\" + 0.010*\"parent\" + 0.009*\"xpath\" + 0.009*\"subclass\" + 0.009*\"drag\" + 0.008*\"bring\" + 0.008*\"engine\" + 0.008*\"singleton\" + 0.008*\"readonly\" + 0.007*\"myobject\" + 0.007*\"razor\" + 0.007*\"stringify\" + 0.007*\"customize\" + 0.006*\"feb\" + 0.006*\"cocoapod\" + 0.006*\"javadoc\" + 0.006*\"node_env\" + 0.006*\"story\"'),\n",
       " (7,\n",
       "  '0.015*\"string\" + 0.013*\"array\" + 0.013*\"value\" + 0.013*\"int\" + 0.011*\"c\" + 0.011*\"function\" + 0.011*\"list\" + 0.010*\"object\" + 0.010*\"return\" + 0.010*\"class\" + 0.008*\"type\" + 0.008*\"print\" + 0.008*\"number\" + 0.007*\"method\" + 0.007*\"variable\" + 0.007*\"python\" + 0.006*\"c++\" + 0.006*\"std\" + 0.006*\"public\" + 0.006*\"line\" + 0.006*\"example\" + 0.005*\"time\" + 0.005*\"var\" + 0.005*\"case\" + 0.005*\"character\" + 0.005*\"java\" + 0.005*\"amp\" + 0.005*\"result\" + 0.004*\"parameter\" + 0.004*\"error\"'),\n",
       " (8,\n",
       "  '0.025*\"exe\" + 0.020*\"haskell\" + 0.020*\"textbox\" + 0.019*\"maximum\" + 0.017*\"cpp\" + 0.016*\"constexpr\" + 0.015*\"literal\" + 0.015*\"secret\" + 0.013*\"clang\" + 0.012*\"gets\" + 0.012*\"imagine\" + 0.012*\"lookup\" + 0.011*\"soon\" + 0.011*\"matplotlib\" + 0.010*\"someclass\" + 0.010*\"urlencode\" + 0.010*\"arbitrary\" + 0.009*\"dat\" + 0.009*\"loss\" + 0.009*\"constant\" + 0.009*\"classloader\" + 0.009*\"overload\" + 0.009*\"valueof\" + 0.008*\"knockout\" + 0.007*\"idle\" + 0.007*\"operand\" + 0.007*\"terminate\" + 0.007*\"circumstance\" + 0.007*\"pad\" + 0.007*\"decrypt\"'),\n",
       " (9,\n",
       "  '0.083*\"android\" + 0.023*\"activity\" + 0.018*\"layout\" + 0.016*\"vector\" + 0.016*\"symbol\" + 0.015*\"fragment\" + 0.013*\"layout_width\" + 0.013*\"layout_height\" + 0.012*\"r\" + 0.012*\"wrap_content\" + 0.011*\"widget\" + 0.011*\"textview\" + 0.011*\"override\" + 0.011*\"edittext\" + 0.009*\"public\" + 0.009*\"scala\" + 0.009*\"super\" + 0.009*\"xml\" + 0.008*\"employee\" + 0.008*\"oncreate\" + 0.008*\"import\" + 0.008*\"match_parent\" + 0.008*\"linearlayout\" + 0.007*\"policy\" + 0.007*\"savedinstancestate\" + 0.007*\"orientation\" + 0.006*\"imageview\" + 0.006*\"onchange\" + 0.006*\"retrofit\" + 0.006*\"gson\"'),\n",
       " (10,\n",
       "  '0.036*\"java\" + 0.022*\"dictionary\" + 0.018*\"minute\" + 0.016*\"printf\" + 0.016*\"invoke\" + 0.016*\"postgre\" + 0.015*\"gradle\" + 0.012*\"androidruntime\" + 0.012*\"inspect\" + 0.012*\"lang\" + 0.012*\"offset\" + 0.011*\"popup\" + 0.010*\"strong\" + 0.009*\"sun\" + 0.009*\"util\" + 0.009*\"iso\" + 0.008*\"anonymous\" + 0.008*\"startup\" + 0.008*\"timezone\" + 0.008*\"activitythread\" + 0.008*\"unexpected\" + 0.007*\"utc\" + 0.007*\"macro\" + 0.007*\"rspec\" + 0.007*\"org\" + 0.007*\"vuejs\" + 0.007*\"reflect\" + 0.007*\"key\" + 0.007*\"vary\" + 0.007*\"metadata\"'),\n",
       " (11,\n",
       "  '0.007*\"app\" + 0.007*\"user\" + 0.006*\"html\" + 0.006*\"page\" + 0.005*\"url\" + 0.005*\"file\" + 0.005*\"class\" + 0.005*\"text\" + 0.005*\"datum\" + 0.005*\"image\" + 0.005*\"error\" + 0.005*\"function\" + 0.005*\"request\" + 0.005*\"android\" + 0.005*\"button\" + 0.004*\"form\" + 0.004*\"com\" + 0.004*\"react\" + 0.004*\"json\" + 0.004*\"work\" + 0.004*\"component\" + 0.004*\"server\" + 0.004*\"create\" + 0.004*\"var\" + 0.004*\"style\" + 0.004*\"io\" + 0.004*\"item\" + 0.004*\"set\" + 0.004*\"content\" + 0.004*\"jquery\"'),\n",
       " (12,\n",
       "  '0.037*\"date\" + 0.021*\"table\" + 0.020*\"query\" + 0.020*\"branch\" + 0.019*\"datetime\" + 0.019*\"git\" + 0.019*\"sql\" + 0.018*\"mysql\" + 0.018*\"key\" + 0.016*\"day\" + 0.015*\"commit\" + 0.015*\"integer\" + 0.014*\"master\" + 0.014*\"month\" + 0.014*\"column\" + 0.014*\"select\" + 0.012*\"order\" + 0.011*\"sort\" + 0.010*\"convert\" + 0.010*\"merge\" + 0.010*\"person\" + 0.009*\"hash\" + 0.009*\"format\" + 0.009*\"value\" + 0.009*\"list\" + 0.009*\"string\" + 0.008*\"decimal\" + 0.008*\"row\" + 0.008*\"array\" + 0.007*\"arraylist\"'),\n",
       " (13,\n",
       "  '0.022*\"width\" + 0.022*\"height\" + 0.019*\"scroll\" + 0.017*\"box\" + 0.015*\"placeholder\" + 0.015*\"css\" + 0.012*\"vim\" + 0.011*\"margin\" + 0.011*\"padding\" + 0.010*\"hover\" + 0.010*\"touch\" + 0.009*\"arr\" + 0.009*\"select\" + 0.009*\"svn\" + 0.009*\"resize\" + 0.009*\"count\" + 0.008*\"text\" + 0.008*\"algorithm\" + 0.008*\"actionbar\" + 0.008*\"size\" + 0.008*\"option\" + 0.008*\"brew\" + 0.008*\"screen\" + 0.007*\"raw\" + 0.007*\"auto\" + 0.007*\"occurrence\" + 0.007*\"shadow\" + 0.007*\"preference\" + 0.007*\"medium\" + 0.007*\"mouse\"'),\n",
       " (14,\n",
       "  '0.016*\"file\" + 0.009*\"project\" + 0.009*\"run\" + 0.008*\"command\" + 0.008*\"install\" + 0.007*\"module\" + 0.007*\"python\" + 0.007*\"version\" + 0.007*\"package\" + 0.006*\"git\" + 0.006*\"error\" + 0.006*\"directory\" + 0.006*\"folder\" + 0.006*\"test\" + 0.006*\"script\" + 0.006*\"studio\" + 0.006*\"window\" + 0.005*\"path\" + 0.005*\"instal\" + 0.005*\"web\" + 0.005*\"npm\" + 0.005*\"net\" + 0.005*\"c\" + 0.005*\"line\" + 0.005*\"android\" + 0.005*\"java\" + 0.004*\"service\" + 0.004*\"open\" + 0.004*\"app\" + 0.004*\"application\"'),\n",
       " (15,\n",
       "  '0.044*\"byte\" + 0.031*\"email\" + 0.027*\"char\" + 0.027*\"timestamp\" + 0.023*\"buffer\" + 0.018*\"curl\" + 0.017*\"promise\" + 0.016*\"decode\" + 0.015*\"opencv\" + 0.014*\"topic\" + 0.012*\"millisecond\" + 0.012*\"represent\" + 0.012*\"subject\" + 0.011*\"unicode\" + 0.011*\"queue\" + 0.011*\"mail\" + 0.010*\"certificate\" + 0.010*\"somebody\" + 0.010*\"reader\" + 0.010*\"ipad\" + 0.010*\"review\" + 0.009*\"nullable\" + 0.009*\"encode\" + 0.009*\"car\" + 0.008*\"regard\" + 0.007*\"coordinate\" + 0.007*\"act\" + 0.007*\"decoder\" + 0.007*\"cert\" + 0.007*\"jsonobject\"'),\n",
       " (16,\n",
       "  '0.031*\"color\" + 0.021*\"modal\" + 0.016*\"round\" + 0.015*\"programmatically\" + 0.013*\"svg\" + 0.013*\"background\" + 0.012*\"red\" + 0.012*\"flex\" + 0.011*\"history\" + 0.010*\"unsigned\" + 0.010*\"webkit\" + 0.009*\"mongodb\" + 0.009*\"font\" + 0.008*\"alter\" + 0.008*\"zone\" + 0.008*\"near\" + 0.008*\"button\" + 0.008*\"increment\" + 0.008*\"cast\" + 0.008*\"assert\" + 0.008*\"dialog\" + 0.008*\"cron\" + 0.008*\"logger\" + 0.007*\"prefix\" + 0.007*\"tableview\" + 0.007*\"hardware\" + 0.007*\"uiview\" + 0.007*\"rust\" + 0.007*\"live\" + 0.007*\"hex\"')]"
      ]
     },
     "execution_count": 19,
     "metadata": {},
     "output_type": "execute_result"
    }
   ],
   "source": [
    "# See the topics\n",
    "lda_model.print_topics(-1,num_words=30)"
   ]
  },
  {
   "cell_type": "code",
   "execution_count": 20,
   "id": "108daa52",
   "metadata": {},
   "outputs": [
    {
     "data": {
      "text/html": [
       "\n",
       "<link rel=\"stylesheet\" type=\"text/css\" href=\"https://cdn.jsdelivr.net/gh/bmabey/pyLDAvis@3.3.1/pyLDAvis/js/ldavis.v1.0.0.css\">\n",
       "\n",
       "\n",
       "<div id=\"ldavis_el1390426646823564008089733532\"></div>\n",
       "<script type=\"text/javascript\">\n",
       "\n",
       "var ldavis_el1390426646823564008089733532_data = {\"mdsDat\": {\"x\": [2.9721131324768066, -7.288965702056885, 38.04939270019531, -42.22704315185547, -63.238548278808594, -48.09906005859375, -48.08784103393555, 17.708776473999023, 92.84619140625, 47.89286422729492, 92.0391845703125, -94.76649475097656, -9.109380722045898, -94.60684204101562, 44.94553756713867, -1.4934841394424438, 71.31283569335938], \"y\": [-13.78672981262207, 86.1502914428711, 65.5876235961914, 6.162611484527588, -41.294517517089844, 56.47357940673828, 120.04415893554688, 131.64089965820312, -8.328437805175781, -45.58987808227539, 50.145565032958984, 15.104292869567871, -64.73255157470703, 77.71231842041016, 14.845922470092773, 35.84217834472656, 105.5743637084961], \"topics\": [1, 2, 3, 4, 5, 6, 7, 8, 9, 10, 11, 12, 13, 14, 15, 16, 17], \"cluster\": [1, 1, 1, 1, 1, 1, 1, 1, 1, 1, 1, 1, 1, 1, 1, 1, 1], \"Freq\": [26.792095994903658, 18.59585099842772, 15.389602713841846, 4.555887659922913, 3.7374606867266817, 3.3917579023518787, 3.281713076300711, 3.262762722282485, 2.9899073719795908, 2.7861427136219907, 2.419801076438525, 2.3699404824627828, 2.329108716498595, 2.154077837946614, 2.121832928183959, 2.106181615816734, 1.7158755022932997]}, \"tinfo\": {\"Term\": [\"android\", \"java\", \"date\", \"column\", \"color\", \"git\", \"docker\", \"byte\", \"table\", \"key\", \"query\", \"image\", \"group\", \"array\", \"string\", \"django\", \"container\", \"email\", \"value\", \"css\", \"sql\", \"select\", \"difference\", \"dataframe\", \"width\", \"panda\", \"activity\", \"branch\", \"char\", \"mysql\", \"connection\", \"err\", \"menu\", \"href\", \"theme\", \"ajax\", \"www\", \"submit\", \"icon\", \"schema\", \"profile\", \"migration\", \"pdf\", \"facebook\", \"react\", \"pip\", \"emulator\", \"iphone\", \"response\", \"aw\", \"localhost\", \"req\", \"connect\", \"website\", \"tomcat\", \"active\", \"mongoose\", \"white\", \"io\", \"launch\", \"render\", \"url\", \"component\", \"html\", \"event\", \"page\", \"tag\", \"form\", \"jquery\", \"device\", \"site\", \"http\", \"request\", \"chrome\", \"app\", \"style\", \"body\", \"xcode\", \"title\", \"user\", \"com\", \"button\", \"content\", \"document\", \"json\", \"image\", \"text\", \"header\", \"post\", \"datum\", \"item\", \"error\", \"class\", \"function\", \"server\", \"file\", \"var\", \"work\", \"android\", \"create\", \"set\", \"npm\", \"spring\", \"laravel\", \"maven\", \"video\", \"bean\", \"lock\", \"execution\", \"restart\", \"external\", \"directive\", \"authentication\", \"boot\", \"visual\", \"node_modules\", \"webpack\", \"annotation\", \"sudo\", \"iis\", \"module\", \"plt\", \"driver\", \"upload\", \"install\", \"timer\", \"unix\", \"microsoft\", \"bin\", \"pycharm\", \"cmd\", \"package\", \"mvc\", \"studio\", \"asp\", \"directory\", \"instal\", \"eclipse\", \"dependency\", \"project\", \"command\", \"folder\", \"linux\", \"jar\", \"file\", \"bash\", \"run\", \"apache\", \"net\", \"path\", \"version\", \"window\", \"web\", \"git\", \"script\", \"python\", \"service\", \"test\", \"error\", \"open\", \"process\", \"line\", \"c\", \"java\", \"android\", \"app\", \"application\", \"std\", \"struct\", \"operator\", \"str\", \"axis\", \"grep\", \"mock\", \"pointer\", \"generic\", \"c++\", \"iterate\", \"cout\", \"expression\", \"obj\", \"sheet\", \"num\", \"kernel\", \"letter\", \"len\", \"ggplot\", \"regex\", \"efficient\", \"partial\", \"restriction\", \"equal\", \"myclass\", \"cpu\", \"immutable\", \"ids\", \"exit\", \"int\", \"regular\", \"array\", \"print\", \"character\", \"intellij\", \"member\", \"string\", \"argument\", \"loop\", \"list\", \"kotlin\", \"value\", \"object\", \"number\", \"variable\", \"c\", \"return\", \"constructor\", \"function\", \"type\", \"method\", \"class\", \"case\", \"parameter\", \"syntax\", \"python\", \"example\", \"public\", \"line\", \"time\", \"var\", \"amp\", \"result\", \"java\", \"static\", \"error\", \"month\", \"arraylist\", \"dict\", \"decimal\", \"datetime\", \"branch\", \"integer\", \"person\", \"master\", \"upstream\", \"emac\", \"pid\", \"comma\", \"datatable\", \"substre\", \"community\", \"date\", \"soft\", \"mysql\", \"subtract\", \"dimension\", \"day\", \"serializable\", \"merge\", \"encrypt\", \"locally\", \"typename\", \"tablet\", \"hash\", \"week\", \"commit\", \"sql\", \"sort\", \"query\", \"table\", \"track\", \"git\", \"order\", \"key\", \"year\", \"select\", \"column\", \"convert\", \"format\", \"row\", \"list\", \"value\", \"string\", \"array\", \"random\", \"firebase\", \"reduce\", \"picture\", \"listen\", \"delay\", \"scan\", \"cmake\", \"bitmap\", \"requirejs\", \"makefile\", \"clause\", \"locale\", \"adapter\", \"dog\", \"websocket\", \"average\", \"clearly\", \"pipeline\", \"ienumerable\", \"counter\", \"clarify\", \"expose\", \"recognize\", \"grunt\", \"measure\", \"mercurial\", \"deprecate\", \"uibutton\", \"elegant\", \"objective\", \"flutter\", \"price\", \"optional\", \"swift\", \"practice\", \"val\", \"generator\", \"condition\", \"logic\", \"entity\", \"difference\", \"fun\", \"builder\", \"memory\", \"redirect\", \"col\", \"panda\", \"flask\", \"dataframe\", \"nuget\", \"alpha\", \"apt\", \"sizeof\", \"dataset\", \"user_id\", \"reverse\", \"agent\", \"photo\", \"drive\", \"overlap\", \"hibernate\", \"csv\", \"javafx\", \"wrapper\", \"heap\", \"cross\", \"dtype\", \"destroy\", \"weight\", \"score\", \"blank\", \"archive\", \"notify\", \"sep\", \"nodejs\", \"transaction\", \"numpy\", \"sum\", \"column\", \"gcc\", \"frame\", \"row\", \"primary\", \"datum\", \"index\", \"table\", \"symbol\", \"fragment\", \"layout_width\", \"layout_height\", \"wrap_content\", \"textview\", \"edittext\", \"employee\", \"oncreate\", \"match_parent\", \"linearlayout\", \"policy\", \"savedinstancestate\", \"orientation\", \"imageview\", \"onchange\", \"retrofit\", \"lion\", \"fill_parent\", \"toast\", \"findviewbyid\", \"iterator\", \"wordpress\", \"inflate\", \"vector\", \"scrollview\", \"sentence\", \"cardview\", \"activity\", \"mainactivity\", \"gson\", \"android\", \"layout\", \"widget\", \"scala\", \"super\", \"override\", \"r\", \"xml\", \"public\", \"import\", \"placeholder\", \"vim\", \"scroll\", \"hover\", \"padding\", \"touch\", \"arr\", \"svn\", \"actionbar\", \"brew\", \"resize\", \"occurrence\", \"shadow\", \"mouse\", \"radius\", \"ipython\", \"percentage\", \"viewmodel\", \"homebrew\", \"student\", \"alias\", \"paragraph\", \"hidden\", \"forum\", \"dagger\", \"elem\", \"vagrant\", \"stable\", \"pagination\", \"circle\", \"panel\", \"height\", \"medium\", \"canvas\", \"box\", \"width\", \"margin\", \"preference\", \"raw\", \"sequence\", \"algorithm\", \"css\", \"count\", \"auto\", \"screen\", \"select\", \"size\", \"option\", \"text\", \"camera\", \"pool\", \"arrow\", \"rate\", \"proxy\", \"viewcontroller\", \"nsstre\", \"listener\", \"transparent\", \"viewdidload\", \"solid\", \"navbar\", \"cell\", \"quote\", \"alloc\", \"func\", \"vba\", \"horizontally\", \"se\", \"xamarin\", \"uiviewcontroller\", \"postman\", \"nslog\", \"incompatible\", \"minimum\", \"nsurl\", \"invocation\", \"rectangle\", \"uicolor\", \"reply\", \"center\", \"footer\", \"float\", \"left\", \"align\", \"border\", \"pop\", \"procedure\", \"leave\", \"position\", \"swift\", \"nil\", \"image\", \"span\", \"background\", \"grid\", \"width\", \"row\", \"height\", \"modal\", \"svg\", \"flex\", \"programmatically\", \"unsigned\", \"alter\", \"zone\", \"near\", \"increment\", \"cron\", \"prefix\", \"hardware\", \"webkit\", \"rust\", \"history\", \"hex\", \"recursively\", \"opacity\", \"round\", \"organize\", \"fixture\", \"caller\", \"readable\", \"fff\", \"uitableview\", \"mess\", \"orange\", \"eax\", \"tableview\", \"red\", \"dispatch\", \"live\", \"color\", \"assert\", \"logger\", \"uiview\", \"mongodb\", \"cast\", \"background\", \"font\", \"dialog\", \"button\", \"dictionary\", \"minute\", \"androidruntime\", \"inspect\", \"postgre\", \"popup\", \"strong\", \"sun\", \"iso\", \"anonymous\", \"startup\", \"timezone\", \"activitythread\", \"unexpected\", \"utc\", \"macro\", \"rspec\", \"vuejs\", \"invoke\", \"printf\", \"offset\", \"formatter\", \"exceed\", \"groovy\", \"valueerror\", \"metadata\", \"vary\", \"reflect\", \"mistake\", \"inf\", \"fiddler\", \"closure\", \"lang\", \"java\", \"gradle\", \"util\", \"org\", \"key\", \"split\", \"iframe\", \"amazon\", \"zip\", \"identify\", \"nbsp\", \"architecture\", \"digit\", \"textfield\", \"partition\", \"autocomplete\", \"aug\", \"kafka\", \"awk\", \"gmail\", \"room\", \"gradient\", \"eslint\", \"asynchronous\", \"virtualenv\", \"scheme\", \"nsdate\", \"revision\", \"uiimage\", \"tsconfig\", \"intel\", \"invisible\", \"privilege\", \"shutdown\", \"tick\", \"jenkin\", \"versus\", \"compute\", \"await\", \"async\", \"stream\", \"task\", \"ruby\", \"difference\", \"range\", \"shape\", \"observable\", \"batch\", \"datepicker\", \"sy\", \"shift\", \"subscribe\", \"jdk\", \"bat\", \"security\", \"seed\", \"uint\", \"factor\", \"straight\", \"legend\", \"observe\", \"workspace\", \"dim\", \"jre\", \"myproject\", \"rel\", \"monitor\", \"guarantee\", \"tester\", \"forward\", \"union\", \"readline\", \"completion\", \"alternate\", \"tfs\", \"endif\", \"group\", \"prompt\", \"helper\", \"catch\", \"temp\", \"exception\", \"binary\", \"docker\", \"listview\", \"card\", \"symfony\", \"bucket\", \"pod\", \"notification\", \"volume\", \"subclass\", \"bring\", \"myobject\", \"customize\", \"cocoapod\", \"javadoc\", \"node_env\", \"xpath\", \"story\", \"singleton\", \"dirname\", \"helloworld\", \"permanently\", \"separator\", \"cls\", \"drag\", \"predicate\", \"readonly\", \"repl\", \"stringify\", \"tbody\", \"templateurl\", \"unique\", \"checkbox\", \"container\", \"setting\", \"child\", \"razor\", \"feb\", \"engine\", \"parent\", \"timestamp\", \"buffer\", \"decode\", \"opencv\", \"topic\", \"promise\", \"millisecond\", \"unicode\", \"mail\", \"reader\", \"byte\", \"ipad\", \"review\", \"nullable\", \"regard\", \"somebody\", \"coordinate\", \"decoder\", \"cert\", \"car\", \"anchor\", \"precision\", \"circular\", \"openssl\", \"curl\", \"jsonobject\", \"subject\", \"foundation\", \"middleware\", \"lodash\", \"char\", \"email\", \"queue\", \"represent\", \"certificate\", \"encode\", \"act\", \"dll\", \"desc\", \"uuid\", \"watch\", \"reach\", \"xampp\", \"derive\", \"textarea\", \"browse\", \"green\", \"visibility\", \"complexity\", \"sourcetree\", \"sbt\", \"logical\", \"commons\", \"varchar\", \"inspector\", \"subdirectory\", \"guideline\", \"codebase\", \"win\", \"happy\", \"reloaddata\", \"adjust\", \"assembly\", \"encapsulate\", \"scale\", \"purchase\", \"populate\", \"django\", \"webpage\", \"administrator\", \"min\", \"area\", \"max\", \"signal\", \"domain\", \"setting\", \"haskell\", \"textbox\", \"constexpr\", \"maximum\", \"literal\", \"secret\", \"cpp\", \"lookup\", \"someclass\", \"urlencode\", \"soon\", \"arbitrary\", \"dat\", \"loss\", \"classloader\", \"overload\", \"knockout\", \"imagine\", \"idle\", \"clang\", \"operand\", \"circumstance\", \"pad\", \"valueof\", \"decrypt\", \"threading\", \"urllib\", \"statuscode\", \"size_t\", \"loadclass\", \"exe\", \"gets\", \"matplotlib\", \"constant\", \"terminate\"], \"Freq\": [116.0, 68.0, 52.0, 51.0, 37.0, 51.0, 26.0, 26.0, 51.0, 49.0, 40.0, 52.0, 25.0, 64.0, 85.0, 24.0, 26.0, 23.0, 87.0, 34.0, 29.0, 46.0, 53.0, 22.0, 29.0, 22.0, 22.0, 25.0, 20.0, 26.0, 21.839385264636892, 15.202865697056978, 17.187798196137205, 13.665518250401028, 12.705277742404549, 12.701746516785251, 11.782746519482082, 11.77273133441486, 14.896516438334409, 11.543549352282515, 12.375932883708186, 10.898007643351983, 10.888654011793792, 10.420325581564235, 27.537996900566178, 9.950900442628605, 9.673118534544745, 9.584550485815615, 24.40915752783766, 9.41155865356169, 12.349272277294384, 9.326012434249908, 16.725191468701283, 13.421641694714276, 9.080803950831646, 9.0911205102752, 8.979536279907556, 9.105532085939634, 25.609680150788513, 8.67525915378715, 15.85516186731468, 34.40276124947398, 26.865382216867882, 39.66711299076971, 23.501917746746635, 36.584779359606905, 23.213065843278383, 28.169398270770976, 24.804113793440447, 17.039138301945304, 17.70953898656672, 20.313998705424154, 31.980990267193903, 19.960686498155187, 45.111624864119406, 26.073326252293064, 17.197756781626428, 20.27901281562897, 21.12821965278921, 43.60422373963876, 27.87870577842872, 29.217713602602633, 25.156163168566625, 21.113459658943356, 27.31503866683487, 33.26822932410806, 33.71443687511465, 21.13202432052557, 22.079144017259676, 33.574140487395766, 25.45462964969941, 32.67529508527484, 34.01190955586498, 32.600204351643505, 26.35297521139129, 34.37576986630567, 26.327718568535534, 26.97437977301523, 29.243055512355106, 26.32785087923734, 25.450439810808902, 22.332076078695874, 16.42535790979471, 11.739074122849866, 9.488000073730891, 14.01303631011392, 8.529471153605002, 8.400733922219342, 8.165803729617755, 8.254883391876874, 7.841949482668743, 7.84273517507531, 7.572093221835747, 7.37313396632833, 17.438187868822006, 6.921620009008378, 6.693699315091095, 9.045743001491948, 6.476372203725735, 6.499943996302501, 30.81741937949489, 6.435716703204878, 6.286125970893225, 14.745957737213029, 32.90366944703255, 5.749938861259298, 5.683543771385374, 9.537490532306634, 14.274303524411488, 5.43910619047445, 7.9074940860220515, 29.703360606729525, 15.950195631416832, 24.911283847430283, 14.180497973345854, 28.0787487043793, 23.169436434222742, 17.707531388831235, 15.364403780675296, 41.49597099385908, 37.19481321701851, 26.918958552032727, 14.519911991084145, 10.135607550033788, 68.79266392509585, 15.200652218209957, 40.85102160680178, 12.935357136532113, 21.51028059585703, 23.726482146681406, 29.949904761631824, 24.667243704431513, 22.400072144395647, 28.46131356131411, 25.74579734345803, 30.43502390559838, 19.147203543232525, 26.09109997272658, 28.459727891184492, 18.949994749184157, 16.19738874783936, 20.817744778835223, 21.36685193684831, 20.41340705882076, 20.445859216351234, 18.247159218978076, 17.95944478197166, 21.01032517666003, 14.799043160693145, 14.17326289217094, 14.723145816142102, 8.36091018180427, 7.749465271446447, 7.485509240325643, 11.248544136270501, 7.575792609952583, 21.872201430558494, 8.424017508992108, 6.719234692866044, 14.02823139130746, 9.603347296982047, 5.811879819192537, 5.79655181178674, 5.789818601470782, 5.743285687711987, 5.768089674243705, 5.503923375440118, 8.390370457504131, 8.066108134953694, 5.0651529884193325, 4.8300682301520395, 12.640484951701401, 5.688361066733674, 6.244970023208332, 4.45060430750701, 4.426410857259037, 9.998343161351718, 46.405320964425265, 8.207159749917743, 48.90835083807337, 27.86801564972355, 18.291374881800575, 9.602991784152923, 10.46267416078283, 53.82321690023242, 14.886522961216306, 14.733699733810486, 39.221685182900515, 10.565684214133583, 47.99562696067642, 36.936543295527564, 27.21391257766497, 25.111137793801703, 40.09907733400164, 35.92141145657836, 13.873833267402077, 39.32313385092811, 29.762186314398093, 26.530632120162487, 34.45724918102677, 19.013898551167763, 16.14341872404315, 12.671690702502923, 23.993687504843912, 20.43063828643923, 20.864080203265786, 20.858101507707122, 19.26907907321433, 19.03611599186669, 17.246856234173197, 17.107912362728136, 17.76955804901411, 15.620563219570647, 15.876988458743408, 14.939359720795458, 7.902642695919396, 6.542529682185764, 9.090172646013407, 20.825513988513972, 21.370975324782847, 15.592430796788353, 10.553794099954466, 15.355017402243215, 4.416093628543492, 4.237969335775211, 4.5623124809421745, 4.289009340791828, 3.8322869167077163, 3.4741639227976697, 3.341883639041351, 40.06536548880637, 3.021449552788258, 19.629390458499053, 2.9380651288605875, 3.31053517144531, 16.94267779280153, 3.517178320129252, 10.617964963096679, 2.5914105743399825, 5.91126204037781, 2.494020585044942, 2.4801240143495966, 10.155370576051135, 2.8135564652049525, 15.809566182581333, 19.932705631574244, 11.362221581675952, 21.64045815168118, 22.464195884993188, 4.869634458153163, 20.762053090666598, 13.218127859597786, 19.528605385165562, 7.192706399663291, 14.629141885142426, 14.790976974174198, 11.13919448388693, 9.807964558264233, 9.05530235057452, 9.565773397270169, 9.77748504819103, 9.438373624940306, 8.730196242703386, 12.85941131307992, 8.395651771378768, 7.392573943024494, 7.258243540932619, 6.657512968992335, 6.127118538467605, 5.336360823313819, 5.274343939887778, 5.268268252435298, 5.227285970731597, 4.760033080015456, 4.914180731479777, 4.563842885451048, 4.48658530842079, 4.469013270221968, 4.362710683317954, 5.782202586210181, 4.320731304726587, 4.313849244390048, 4.279732206497837, 5.027812042031999, 4.108227440228003, 4.032106824354721, 5.38250782900332, 3.882639088763809, 3.6376969677638864, 3.53446688303408, 6.191678818767529, 3.434099093915368, 4.506179021057828, 5.6820860195693355, 9.003563409674147, 5.750304509306151, 7.888106896804232, 12.770271425545488, 6.60415987723974, 7.235713498958357, 4.785300524140387, 6.595347607954886, 4.954953011699939, 6.361429334363343, 8.915855797882916, 4.644064682640562, 4.794672250502483, 5.526547928594861, 15.19258566625992, 15.44194529969547, 20.213791869794825, 8.708621032649507, 20.19680371342187, 8.567069192441952, 8.044393051765491, 7.954819610079969, 6.868768708704713, 6.7580970487998195, 6.468361138536913, 6.028194433594047, 5.977089265020545, 6.378799607916332, 5.446011729131682, 5.403817526017616, 5.2292541693244114, 14.160554422161063, 4.886020083097081, 5.244471671449646, 4.671096455070037, 4.664503308404081, 4.431266045808546, 4.410158522069689, 4.320580241514034, 4.116551143479983, 9.551660153761526, 4.123045279418612, 3.5669128184250893, 3.6371985237623643, 7.277531146487488, 3.8795901842070792, 9.982883137816367, 7.827590081023131, 26.242723300532134, 6.884323815076886, 7.599768630768231, 8.114410013700022, 5.633341514117608, 7.4372942605491925, 5.704547349221621, 5.4711399817298885, 12.286496634254322, 11.704300551129611, 10.069593245781942, 9.745881269419847, 9.22102950024226, 8.414200700486859, 8.277366808222421, 6.429922347833711, 6.277154957662847, 5.8751483613047935, 5.852239231172213, 5.0926696284643, 5.087813804761204, 5.049092185159803, 4.918342568326656, 4.7822620976439785, 4.732243836190246, 4.719570363215988, 4.652321364593162, 4.589849318102491, 4.534627693831705, 4.353729083214912, 4.291109737762989, 4.0540455650332525, 12.531581937705361, 3.905413710246401, 3.890655002588399, 3.6898573467244704, 17.700101527610652, 3.6284970652543036, 4.723018743543596, 64.1377276343156, 13.999559784105072, 8.597955614432975, 6.667378357409028, 6.656536577630197, 8.382762276223861, 9.559366930923327, 6.6329478554685615, 6.815661952793603, 5.9020367242561464, 11.589144836032197, 9.495303973599377, 14.583522918590972, 7.957245092691902, 8.086537169263405, 7.451814856710937, 7.027438248411976, 6.712345788781851, 6.233327822277466, 6.083921830712506, 6.640871818623522, 5.452906201821738, 5.385752637871103, 5.002574214342983, 4.681713335683689, 4.580457351077735, 4.272891765216213, 4.270854378234464, 4.285600548369679, 3.866045636572693, 3.683562721068711, 3.5314626522364967, 3.419134597287899, 3.326938360557554, 3.312239096871304, 3.2825516114506015, 3.2310841369369547, 3.1604047118950573, 3.1142638048226234, 3.553921531613693, 3.9886211393298456, 16.720655210837744, 5.197384932376779, 4.213583036306551, 12.901494897424492, 16.802273864294303, 8.637708712339364, 5.281521495368602, 5.701570536169948, 4.658174891851313, 6.278422464892841, 11.322172664007919, 6.563177552042179, 5.691743456079596, 5.885429135467231, 6.8629419867312285, 6.223803306686161, 6.135498872961903, 6.355111286369658, 7.902542600479991, 8.042137574113104, 6.287231115380096, 6.148459724463662, 9.740249637455584, 5.974139747282223, 5.0635056499310185, 4.758883402749577, 4.638655091541416, 4.621462228119653, 4.440666462692634, 4.2558000330492245, 13.915345454802809, 7.479597110318693, 4.1313310911516705, 11.153984823019771, 3.937512218941763, 3.833400535573408, 3.7299913584187636, 3.629050960690535, 3.5869668682299745, 3.2818202843229325, 3.1440496612494777, 3.0531884722427596, 3.032124441931994, 3.0308195062888714, 2.9997300790356936, 2.9661361072102355, 2.9203862513589365, 2.9073585508875888, 12.071171160717347, 4.730702436532517, 14.438343448337221, 5.424173193163475, 7.615884628260915, 10.364551586347739, 5.302719023377817, 5.4753081643718104, 10.02539628617146, 8.58750354923959, 7.3123402572644505, 5.231442040756673, 9.356240250677622, 5.581899783267126, 6.737858172198777, 4.667228818121769, 5.428328512495763, 5.125969313121868, 4.753157041964115, 13.66400751299385, 8.84518465502327, 7.806473314577573, 9.921718984636914, 6.892958630537488, 5.570673631461362, 5.458124386770541, 5.284913185078677, 5.225920060229733, 4.985459019977818, 4.854194272166835, 4.698531491820757, 6.2521986317181995, 4.573147099442007, 7.429528221854308, 4.390569890699388, 4.277397815100941, 4.246845161387839, 10.221244697323629, 3.880726380288143, 3.5801831019359516, 3.5604809148006167, 3.4939257604929583, 3.3819048672053666, 3.3548666064486947, 3.2165675690644004, 3.68654195165584, 3.1346250974144434, 4.714005033176777, 8.011501788850452, 3.3306633423417558, 4.531408255863668, 20.136539687179386, 5.052250831684839, 4.980909021579989, 4.584341239039005, 6.221015503124624, 5.074949761935363, 8.649742945736985, 6.154354556232755, 5.004696147805102, 5.245478234916618, 12.727949439487455, 10.050151749243325, 6.9805878759929385, 6.7216733082855775, 9.059035647242643, 6.111773928252764, 5.736471660200393, 5.317295892273968, 5.181761103377631, 4.762601268786107, 4.6978359801889935, 4.665481750337678, 4.588240660512562, 4.5746723636214695, 4.27236309275385, 4.21896278638651, 4.175046797619385, 3.955431269335811, 9.110422776745159, 9.324385157805622, 6.655416659541668, 3.5896467788869484, 3.459701934985277, 3.1286489279550587, 3.1245904420000232, 3.7230820853544104, 3.7392676980586828, 3.9317492881158884, 2.762171071882392, 2.714799142775096, 2.7161245306833326, 3.552444831891802, 6.674333245848085, 20.50573464061574, 8.445455666847545, 5.189123366324526, 4.003800359652369, 3.824178564194295, 12.36130075212321, 10.447180107994916, 9.972552243455997, 6.6609272595175675, 6.23416832820698, 7.523648445499627, 8.22926968716427, 5.533951106572644, 5.503143146775256, 5.086487948746862, 5.107206739951715, 4.750596555705071, 4.724645919908358, 4.5157747458694555, 5.633135602803188, 4.3991058598729325, 4.326821825271746, 4.275639425146401, 4.1465390563599716, 3.9505706368548834, 3.730149403834078, 3.8514142296686784, 4.670932384787587, 4.785753115700109, 3.3205169870578928, 3.3023758858386207, 3.302864323109625, 3.290071844083215, 3.237357810790169, 3.149798277659764, 7.536406073304358, 3.691713447912476, 5.475766731894601, 6.600911375115131, 9.439517892721762, 8.671366797186352, 8.798909784514436, 6.062372091857963, 6.6290019799564766, 4.037472938364507, 10.165533178305328, 10.00628039343304, 10.779255839643065, 7.018803069047505, 6.484690952775145, 6.265937936341707, 5.671943717993248, 6.295616994556582, 5.037515188733724, 10.687117181177548, 4.43886797784566, 4.495427755321135, 4.353773220083638, 4.295456940480489, 4.280728342968426, 4.235931404246663, 4.203371191785116, 4.170301051828706, 4.071684141555002, 4.724716717287558, 3.7428708795370453, 4.385134144421924, 3.5303780857623632, 3.4764482050260654, 7.535954408954343, 3.0257206084865866, 2.9752349748647227, 2.9644372921113153, 2.7900599810605256, 2.7896093534046633, 4.401197243914281, 16.150880635066965, 6.943764234845859, 4.6764292673528285, 8.350107970090498, 6.20209757001224, 7.760718179758321, 4.297837113328698, 24.733250707364547, 11.254380304846931, 8.601063223680065, 8.1585868282512, 7.953592234477578, 7.708029999869738, 11.380470234392309, 5.761331674806169, 4.511620452922704, 4.260134647753569, 3.684857795302134, 3.3132938062554427, 3.2268131746974684, 3.1863772055370716, 3.162027401655429, 4.609488202125247, 2.926985190078906, 3.883667129927528, 2.76905600966797, 2.73025730803521, 2.727897855653844, 2.6787500441319096, 2.6380616057656923, 4.3678255293331585, 2.6062076984481104, 3.8681818791817304, 2.4983071350468324, 3.4752348358161806, 2.2319913643739735, 2.2081538271299848, 7.508300854682687, 6.355067383003424, 13.966438554568155, 8.489551263221363, 8.085035078532892, 3.678498549884726, 3.2966242196284057, 3.9521839155870513, 5.053733300361184, 13.500491637658127, 11.715701733183764, 8.079962019118431, 7.625047588261626, 7.02116323012604, 8.510097804653938, 6.196394242763222, 5.736577267093853, 5.4429410523779245, 5.183509017747373, 21.998547074708448, 4.88481750485149, 4.796853919385821, 4.389290238151192, 3.879719907303648, 5.189427279310788, 3.573721614048999, 3.525237089814286, 3.440628489893379, 4.332430125697465, 3.163007394611939, 2.9011620430612104, 3.3754542631367834, 2.7295252391941585, 9.12025995362009, 3.429653998727038, 5.835350481859838, 2.2657511130286987, 2.1695455985404823, 2.1467606640905257, 13.630161549536295, 15.388363985277945, 5.684857212310523, 6.147351097601114, 5.234762429621784, 4.355072086721236, 3.530659135789424, 10.346861192057396, 7.258086149554031, 6.857529788189968, 6.783845727536705, 6.225255144941071, 6.206930052099709, 5.519356536951461, 5.297382113872163, 4.913284173850422, 5.546630835723953, 4.495794171158645, 4.350356977749962, 4.003835625016708, 3.7786675664616514, 3.6444331757047066, 3.5664568800666547, 6.759151854793842, 3.335885736697142, 3.1098835006482726, 3.07353078973267, 3.0004849014430586, 5.426463511266109, 2.8398760326349897, 2.63359750622301, 4.073526543419177, 6.603868177252039, 2.5527960092807533, 6.883936856716744, 2.4431586443922173, 5.018973930698828, 16.73034702563645, 5.07644503869872, 4.515565726387449, 8.933042904311511, 7.2552413015091854, 7.744890777780467, 3.4304330179444844, 3.9003236515838484, 4.124833197620237, 8.210914667510156, 7.977870071950527, 6.390526335993899, 7.701833969074248, 5.920820185011043, 5.89207469401679, 6.904933049256025, 4.707088367326308, 4.133033828142021, 4.116347757367703, 4.3211417271205805, 3.8841659747034822, 3.8107274536245934, 3.751723630343702, 3.5481310456350634, 3.521488543382827, 3.43451730481345, 5.030705720319911, 3.0024574392247083, 5.217737268685167, 2.930817794529459, 2.853264435521617, 2.8019771573391408, 3.4788905932358416, 2.666352084136455, 2.6544274902004816, 2.607034168339295, 2.32095539035653, 2.081975802034465, 1.8455390826210853, 9.982819015382118, 5.044291539782574, 4.286203265697652, 3.739792634042289, 2.9228042926575695], \"Total\": [116.0, 68.0, 52.0, 51.0, 37.0, 51.0, 26.0, 26.0, 51.0, 49.0, 40.0, 52.0, 25.0, 64.0, 85.0, 24.0, 26.0, 23.0, 87.0, 34.0, 29.0, 46.0, 53.0, 22.0, 29.0, 22.0, 22.0, 25.0, 20.0, 26.0, 22.832150371515326, 16.192316304345017, 18.345958940380648, 14.65702562721879, 13.694620682504315, 13.695187253538004, 12.772268334853132, 12.76240255590701, 16.16807270210977, 12.53407838961808, 13.439619338412598, 11.887211411116027, 11.879600801528996, 11.409547983438566, 30.18402795676532, 10.940348131935922, 10.662342418669656, 10.574453110580553, 26.969547019088278, 10.401973403740886, 13.649872360623771, 10.315309306471711, 18.534378602401393, 14.887348323515722, 10.073476769493375, 10.086927045348288, 9.968919770645924, 10.123049388185775, 28.49994949594486, 9.672965450018179, 17.77730695950044, 38.99491060378637, 30.630661617065684, 45.85147400313554, 26.739394291506017, 42.94353715074306, 26.7120084177879, 33.68205790426909, 29.532961581331627, 19.637200066168095, 20.493369574739795, 24.262487212995655, 40.986317234714384, 24.05278380241456, 65.23970349901377, 33.78368087905282, 20.351452021176478, 24.956652671136382, 26.434133580662692, 67.76002573553102, 38.22554675919022, 41.075074184624775, 33.69848289678153, 26.711185392341562, 39.233898625597156, 52.691350377268435, 55.36054729733442, 27.145349593195764, 29.74614021740012, 64.59509773921566, 40.44531243459744, 78.50719850311383, 89.23206397535282, 81.51318084912705, 48.08075722150868, 114.13142032192208, 52.06219114211648, 61.735848757553434, 116.62894758925411, 61.97176979700853, 63.71365815758505, 23.509089450240392, 17.47358282856968, 12.727844421701896, 10.499359014004577, 15.545444002207285, 9.518324788423417, 9.411506986185799, 9.157812140920482, 9.259694801349598, 8.830851651699563, 8.835966848440965, 8.560967017843225, 8.362048357975988, 19.837261438948946, 7.910496521846308, 7.682746163321225, 10.426632860992978, 7.465368163346151, 7.495779032835577, 35.54898910798955, 7.424502391642655, 7.274924568039441, 17.133501704398338, 38.24191573014078, 6.738723084481553, 6.67571762227723, 11.236478602835609, 16.833852280085758, 6.4281314921437795, 9.352288283840386, 35.359621776666415, 18.94155961993681, 29.809161290930362, 16.840932129841654, 33.94750928182991, 27.866034853737975, 21.2063203921614, 18.339820824968893, 54.04280559131061, 48.056346691667414, 34.07916302553786, 17.860696812178073, 11.989233630427428, 114.13142032192208, 19.31912723205958, 63.82453980552303, 16.195002713982976, 30.358867050485795, 34.916140203239614, 47.690680096777534, 39.127302823797436, 35.0570500246507, 51.694578003521926, 45.905819924978026, 64.97572926023162, 29.570413334952523, 60.287960317512116, 78.50719850311383, 34.02257614661833, 23.076018645883558, 59.71406481071156, 78.69829689180285, 68.83793427109951, 116.62894758925411, 65.23970349901377, 42.75892772166612, 21.99969745531987, 15.792037859089517, 15.174517376642905, 16.333335924819618, 9.349787540187275, 8.738321821339209, 8.477437113660358, 12.74222774932614, 8.62536071988646, 24.93789280893567, 9.628526889620199, 7.708092956125463, 16.11560888755263, 11.206103472931042, 6.800723264915061, 6.7853862062789965, 6.778672746898331, 6.7322845593491065, 6.788828946771773, 6.492814308499594, 9.947358521415122, 9.611873971245446, 6.054829006720525, 5.818902687294646, 15.253810411788526, 6.922878208326224, 7.6010506629957755, 5.43943894445697, 5.415248708010176, 12.24402699143973, 57.59919846857073, 10.143600322571455, 64.8073755330439, 36.56671938343628, 23.722408235616022, 12.044881137516255, 13.224288333396677, 85.44359392529373, 20.376435652594857, 20.32559552386198, 67.20963220540467, 13.908111789006625, 87.36011534057803, 66.05552064594873, 46.509951269211, 41.92482119130757, 78.69829689180285, 70.10643766387845, 19.56019723334314, 81.51318084912705, 63.05305403217373, 56.90564843789259, 89.23206397535282, 34.79470623261695, 29.161628271257857, 18.87545762845319, 64.97572926023162, 52.7391840495156, 56.128575529153075, 59.71406481071156, 49.70778527402439, 52.06219114211648, 36.648475678772286, 39.678785370768786, 68.83793427109951, 29.191759833780328, 78.50719850311383, 15.92625212129426, 8.889007397907541, 7.528816720777294, 10.51482487519696, 24.572254069441737, 25.34326527781853, 18.550474045444584, 12.619769515639835, 18.60703498887012, 5.402365030940331, 5.224247508116756, 5.630034419033016, 5.336889242021777, 4.818597394951882, 4.460465285339398, 4.328181697628443, 52.64625020420235, 4.00772145500791, 26.21381195844918, 3.9243560631633962, 4.429689210364849, 22.73790207802346, 4.752567881284285, 14.438391996638952, 3.579218502362304, 8.200636004910573, 3.4803014353370685, 3.4664030992283994, 14.282772219651772, 3.980885256787096, 23.200240809378727, 29.896484913515625, 18.717097174899898, 40.5674318438292, 51.736494290811365, 7.487064876615751, 51.694578003521926, 28.63079936780092, 49.323899539279196, 13.587375595809746, 46.01978408325044, 51.400470460600154, 33.830915593957144, 31.16992137297158, 30.529613559592157, 67.20963220540467, 87.36011534057803, 85.44359392529373, 64.8073755330439, 13.843506307634609, 9.37933118379554, 8.381020211154969, 8.279603666500558, 7.641221556507966, 7.111315806778195, 6.322295604435203, 6.258021541003697, 6.251947924701837, 6.210963603506858, 5.7438239629390235, 5.944562022669945, 5.547522172423464, 5.470316338275139, 5.452698172786078, 5.346407403008463, 7.088956306370195, 5.304958810425026, 5.297536067821353, 5.26341616822435, 6.187119254314792, 5.0919445571277295, 5.01583590776355, 6.702678434458746, 4.866320610241565, 4.621700233214447, 4.51814676458204, 7.945049119200187, 4.417782667813844, 5.831988985681679, 7.3804415934023, 11.84817863729956, 7.512512745432403, 11.406379048794982, 21.5520469661135, 10.368202769662888, 13.77207125892305, 6.709516873437076, 15.693086464234609, 7.6545414351579915, 16.57408705908554, 53.22221470199033, 6.585099677639278, 7.88833160248388, 18.9384387800764, 16.182344395713002, 16.66411293971115, 22.297935670050343, 9.690768821179827, 22.48612219640594, 9.549033414195062, 9.026382811485197, 8.936794659035185, 7.850724468078652, 7.767694293113886, 7.451565004023038, 7.010687709409639, 6.959407372128744, 7.429001418338834, 6.427977514321399, 6.385775148933669, 6.211214597094894, 16.939190811565656, 5.86798344479954, 6.318675626870311, 5.653061642747673, 5.64650923040658, 5.413221364078819, 5.392175329644912, 5.302545668824699, 5.0985076475460005, 11.946640974216084, 5.168062523749763, 4.549072790798963, 4.641623022331838, 9.330143908775673, 4.978744726654775, 14.142068633628755, 11.214843868248632, 51.400470460600154, 10.220575297540766, 17.490968905942243, 30.529613559592157, 11.001272511556499, 64.59509773921566, 30.85414567117701, 51.736494290811365, 13.273446980490798, 12.692548545128439, 11.050072210981739, 10.726360256998674, 10.201499627529731, 9.394929968091606, 9.259324676861002, 7.41040580957457, 7.25802653630232, 6.855663058372967, 6.832785201399319, 6.073343390867997, 6.068400774929987, 6.029565177306258, 5.899220714718885, 5.762732740954659, 5.71282509877171, 5.700237288414826, 5.632791503291342, 5.570319475577466, 5.515571225605895, 5.3342426293915794, 5.271723071769524, 5.036954886308624, 15.59568108166439, 4.885883987875849, 4.87117387733154, 4.67032913398993, 22.419128236294345, 4.608969773607105, 6.069545320556423, 116.62894758925411, 23.11387439113783, 14.39371720856187, 12.051240550836342, 13.532191988774404, 22.703798940523104, 38.830402343212015, 23.76362775096175, 56.128575529153075, 45.212388803691915, 12.617977823939988, 10.475056942272092, 16.210050784218012, 8.952018871310512, 9.158559713293611, 8.452529406431635, 8.007190440212902, 7.692099059035709, 7.213107940920258, 7.064055940278276, 7.740431684609522, 6.432667527808748, 6.369145955828211, 5.9863838918681145, 5.661603654989303, 5.560215577790295, 5.252639726173132, 5.250801763488751, 5.274488886899595, 4.845794363694678, 4.663324617298078, 4.515654230518244, 4.399025978934473, 4.30671110265776, 4.292116567114254, 4.2625647038392405, 4.210838676832507, 4.140161276656096, 4.094036605818694, 4.710753221544022, 5.3333750929432755, 26.486970507461862, 7.203158196438529, 5.705797316860694, 20.759711830570957, 29.58475769480472, 14.161127532364228, 8.241280723367039, 9.264777601778123, 6.961481760247666, 11.855618592212876, 34.02864872725617, 22.43807606444032, 17.491281595440768, 20.7994178582248, 46.01978408325044, 34.077499378129524, 38.93150831886145, 55.36054729733442, 8.880446017046783, 9.269225584017953, 7.265901852132346, 7.12634637053251, 11.32754164709194, 6.952015888045154, 6.054288543848197, 5.736767752357464, 5.616589261463345, 5.599357754834629, 5.424775890126367, 5.233742436213663, 17.20727559346079, 9.249583794516923, 5.109511337359064, 13.806656747377296, 4.915383079741289, 4.811279313576563, 4.707862299000195, 4.606934086608639, 4.564850541326994, 4.259695952658592, 4.12206110854872, 4.031075573023343, 4.010005537967329, 4.0086967274375285, 3.9776214071407434, 3.9440110012634673, 3.900272130998925, 3.885243445837406, 16.376262164614584, 6.36066339820166, 19.902018705259245, 7.3626297402200125, 10.800589103738375, 15.556666197569758, 7.700760169767944, 8.653987800650592, 22.06160705620698, 20.126429668567315, 21.5520469661135, 11.272080038242708, 52.691350377268435, 14.666649685187615, 30.616814103038475, 9.4660449284189, 29.58475769480472, 30.529613559592157, 26.486970507461862, 14.642246480559045, 9.823067278451044, 8.78435439265283, 11.218904938313772, 7.870868140345869, 6.548566000233895, 6.436011426274522, 6.262812173640035, 6.2431059495534615, 5.96334126535815, 5.8320880115006055, 5.676441272400998, 7.569766648812363, 5.551188621998071, 9.082164194039482, 5.368502767166357, 5.25718584146612, 5.224781073332953, 12.645368981852178, 4.8586152458902, 4.558064518341881, 4.5384924360756544, 4.482480984258043, 4.3598381001205295, 4.3328145985039015, 4.194524893983088, 4.820595624551901, 4.112506143065963, 6.1858410906160275, 10.514371178541193, 4.373726493471051, 6.228255259104847, 37.95041675800583, 7.330844809269723, 7.566249165580951, 6.906541385844851, 12.91725272835556, 8.88194973512594, 30.616814103038475, 16.745780666299034, 13.24312953671364, 41.075074184624775, 13.702415515961125, 11.023873967737268, 7.954268606745535, 7.695362315120666, 10.49773155366956, 7.085473893305685, 6.71146619674725, 6.291111145773404, 6.155443611069167, 5.736294372743921, 5.6771717668572705, 5.639163653964211, 5.561921091955183, 5.548362256906642, 5.246052649760201, 5.192746656432563, 5.148729558886947, 4.92911593969477, 11.399652538036639, 11.834758972715594, 8.447305339814626, 4.563350005304747, 4.433395993292412, 4.102328204655768, 4.098347283711429, 4.896828666652393, 4.948793892057115, 5.267287869715458, 3.7358686177523506, 3.688500639419277, 3.690353834858866, 4.966571451253142, 11.798008012764782, 68.83793427109951, 18.82177156529871, 10.882481419740637, 19.801354044510717, 49.323899539279196, 13.339062441812773, 11.422301853345694, 10.948414949565592, 7.645742683615511, 7.209622303805282, 8.710184492491015, 9.67162320408711, 6.509082740708847, 6.478269679060731, 6.061611104676269, 6.12517496168198, 5.725719902046889, 5.699767513583154, 5.490896671010587, 6.863337144825827, 5.376265571335739, 5.30194411479593, 5.250761470625206, 5.12169865679555, 4.925693540912231, 4.70528426426942, 4.880395180262604, 5.957447712071045, 6.16524363993494, 4.295644503590607, 4.2777088989582905, 4.280811805036765, 4.265198453296117, 4.2124879773157105, 4.124983551568034, 10.136300617881993, 4.904238070522091, 7.841603074641911, 9.848594906352453, 15.518998119557123, 15.270314751226108, 24.159448590123716, 18.620764751533212, 53.22221470199033, 16.455026051049597, 11.139335728049788, 11.021747180809472, 12.207174732884512, 7.992597246872594, 7.458509754974314, 7.239742351166398, 6.663690280174253, 7.509715393661327, 6.01445923110922, 12.937000056993385, 5.412673051870046, 5.488342321128408, 5.327585105254186, 5.270142539644821, 5.254523370708359, 5.209731629634532, 5.177185282178716, 5.144100510523276, 5.045482985730694, 5.943349516593071, 4.71686379061961, 5.589794959315786, 4.504194644538412, 4.4605306289035855, 9.682001681736823, 3.9995365232649096, 3.9490447600788126, 3.9388009681421607, 3.7638544913681766, 3.763408321044551, 6.036813673797484, 25.637933267039383, 11.152863518167296, 6.949823603989594, 16.81876853076925, 11.057787071659481, 25.625322702633344, 8.717316760843318, 26.78989558598884, 12.226707371677643, 9.573398745115396, 9.13088437032571, 8.92592460606285, 8.680491488040671, 13.164566708634656, 6.733638702441211, 5.483920444310337, 5.2324907237132, 4.657163057602936, 4.28559226615156, 4.199487985054472, 4.158680031905408, 4.134317429293339, 6.057157183961063, 3.8992890734382977, 5.229365837582115, 3.7413785367449797, 3.70254723794575, 3.7002000175670027, 3.651044519079254, 3.6104531700707008, 5.9864347924436965, 3.578498513846656, 5.36686856311286, 3.470597383253531, 4.846095163488053, 3.204410487292312, 3.1809669815746675, 11.5184822983221, 9.671886902407335, 26.885467438052462, 19.04068656284921, 20.109550984537904, 6.172636129805538, 5.511254551487317, 9.259734489266078, 18.461615456163116, 14.67341626582778, 12.78666771916012, 9.067059801436871, 8.597079562122824, 7.993282843867216, 9.746364236382432, 7.168389805520386, 6.708560327232769, 6.414929899490452, 6.155664979641968, 26.127983278133694, 5.856810071772438, 5.76884052090139, 5.361276579095384, 4.854178365711301, 6.584206771870261, 4.545709132289519, 4.497385558657306, 4.41261232676824, 5.631503054513922, 4.13499364286692, 3.873166518670787, 4.5568999274244275, 3.7032823180837524, 12.511169069509611, 4.705266145198598, 8.060476721957926, 3.2385119148411836, 3.141538598251269, 3.118756879958927, 20.398143610285935, 23.704031385175433, 9.378032641911952, 10.497466761955518, 9.842888980570622, 12.781817845552107, 6.078518405607966, 11.421301368107049, 8.228525288248912, 7.8279635243601895, 7.754281806655541, 7.195768301741031, 7.177368888147355, 6.489811530025751, 6.267817844261528, 5.88385083797249, 6.663796165287836, 5.466798519909974, 5.3207902582680076, 4.97426828720674, 4.749116758654981, 4.614891520182611, 4.536903753314015, 8.6999303338696, 4.306323788169776, 4.08032287015106, 4.043968480253872, 3.9709220877552696, 7.193880669249739, 3.8104059333499203, 3.604186565106048, 5.595879094848341, 9.07293809354327, 3.523232554181848, 9.504171910678172, 3.4136567346412416, 7.081377761373553, 24.36136602267645, 7.255193584653585, 6.43071250914344, 13.638161959162598, 11.458251395548087, 15.755636032596488, 6.1087606761404585, 12.144796020373386, 19.04068656284921, 9.17429426100149, 9.11184606945815, 7.353377179128046, 8.896447610180834, 6.8837445004886355, 6.85517658888576, 8.091289605958126, 5.670209936296827, 5.0959040011695445, 5.079203883517061, 5.3572439677227415, 4.847031501275968, 4.773589741889193, 4.714595587416541, 4.510994172195893, 4.484409586703088, 4.397380634096386, 6.49442688539126, 3.965313751864284, 6.930764986899851, 3.893678377708018, 3.8161268714469356, 3.764850042846227, 4.731519641481127, 3.6292191676764225, 3.617683091568496, 3.5699187258414344, 3.2838099437882087, 3.044876775961306, 2.808395246009888, 15.32446622620615, 8.176129349271411, 10.33963452096354, 10.839621616722487, 5.357302138411082], \"Category\": [\"Default\", \"Default\", \"Default\", \"Default\", \"Default\", \"Default\", \"Default\", \"Default\", \"Default\", \"Default\", \"Default\", \"Default\", \"Default\", \"Default\", \"Default\", \"Default\", \"Default\", \"Default\", \"Default\", \"Default\", \"Default\", \"Default\", \"Default\", \"Default\", \"Default\", \"Default\", \"Default\", \"Default\", \"Default\", \"Default\", \"Topic1\", \"Topic1\", \"Topic1\", \"Topic1\", \"Topic1\", \"Topic1\", \"Topic1\", \"Topic1\", \"Topic1\", \"Topic1\", \"Topic1\", \"Topic1\", \"Topic1\", \"Topic1\", \"Topic1\", \"Topic1\", \"Topic1\", \"Topic1\", \"Topic1\", \"Topic1\", \"Topic1\", \"Topic1\", \"Topic1\", \"Topic1\", \"Topic1\", \"Topic1\", \"Topic1\", \"Topic1\", \"Topic1\", \"Topic1\", \"Topic1\", \"Topic1\", \"Topic1\", \"Topic1\", \"Topic1\", \"Topic1\", \"Topic1\", \"Topic1\", \"Topic1\", \"Topic1\", \"Topic1\", \"Topic1\", \"Topic1\", \"Topic1\", \"Topic1\", \"Topic1\", \"Topic1\", \"Topic1\", \"Topic1\", \"Topic1\", \"Topic1\", \"Topic1\", \"Topic1\", \"Topic1\", \"Topic1\", \"Topic1\", \"Topic1\", \"Topic1\", \"Topic1\", \"Topic1\", \"Topic1\", \"Topic1\", \"Topic1\", \"Topic1\", \"Topic1\", \"Topic1\", \"Topic1\", \"Topic1\", \"Topic1\", \"Topic1\", \"Topic1\", \"Topic2\", \"Topic2\", \"Topic2\", \"Topic2\", \"Topic2\", \"Topic2\", \"Topic2\", \"Topic2\", \"Topic2\", \"Topic2\", \"Topic2\", \"Topic2\", \"Topic2\", \"Topic2\", \"Topic2\", \"Topic2\", \"Topic2\", \"Topic2\", \"Topic2\", \"Topic2\", \"Topic2\", \"Topic2\", \"Topic2\", \"Topic2\", \"Topic2\", \"Topic2\", \"Topic2\", \"Topic2\", \"Topic2\", \"Topic2\", \"Topic2\", \"Topic2\", \"Topic2\", \"Topic2\", \"Topic2\", \"Topic2\", \"Topic2\", \"Topic2\", \"Topic2\", \"Topic2\", \"Topic2\", \"Topic2\", \"Topic2\", \"Topic2\", \"Topic2\", \"Topic2\", \"Topic2\", \"Topic2\", \"Topic2\", \"Topic2\", \"Topic2\", \"Topic2\", \"Topic2\", \"Topic2\", \"Topic2\", \"Topic2\", \"Topic2\", \"Topic2\", \"Topic2\", \"Topic2\", \"Topic2\", \"Topic2\", \"Topic2\", \"Topic2\", \"Topic2\", \"Topic2\", \"Topic3\", \"Topic3\", \"Topic3\", \"Topic3\", \"Topic3\", \"Topic3\", \"Topic3\", \"Topic3\", \"Topic3\", \"Topic3\", \"Topic3\", \"Topic3\", \"Topic3\", \"Topic3\", \"Topic3\", \"Topic3\", \"Topic3\", \"Topic3\", \"Topic3\", \"Topic3\", \"Topic3\", \"Topic3\", \"Topic3\", \"Topic3\", \"Topic3\", \"Topic3\", \"Topic3\", \"Topic3\", \"Topic3\", \"Topic3\", \"Topic3\", \"Topic3\", \"Topic3\", \"Topic3\", \"Topic3\", \"Topic3\", \"Topic3\", \"Topic3\", \"Topic3\", \"Topic3\", \"Topic3\", \"Topic3\", \"Topic3\", \"Topic3\", \"Topic3\", \"Topic3\", \"Topic3\", \"Topic3\", \"Topic3\", \"Topic3\", \"Topic3\", \"Topic3\", \"Topic3\", \"Topic3\", \"Topic3\", \"Topic3\", \"Topic3\", \"Topic3\", \"Topic3\", \"Topic3\", \"Topic3\", \"Topic3\", \"Topic3\", \"Topic3\", \"Topic3\", \"Topic3\", \"Topic3\", \"Topic4\", \"Topic4\", \"Topic4\", \"Topic4\", \"Topic4\", \"Topic4\", \"Topic4\", \"Topic4\", \"Topic4\", \"Topic4\", \"Topic4\", \"Topic4\", \"Topic4\", \"Topic4\", \"Topic4\", \"Topic4\", \"Topic4\", \"Topic4\", \"Topic4\", \"Topic4\", \"Topic4\", \"Topic4\", \"Topic4\", \"Topic4\", \"Topic4\", \"Topic4\", \"Topic4\", \"Topic4\", \"Topic4\", \"Topic4\", \"Topic4\", \"Topic4\", \"Topic4\", \"Topic4\", \"Topic4\", \"Topic4\", \"Topic4\", \"Topic4\", \"Topic4\", \"Topic4\", \"Topic4\", \"Topic4\", \"Topic4\", \"Topic4\", \"Topic4\", \"Topic4\", \"Topic4\", \"Topic4\", \"Topic4\", \"Topic5\", \"Topic5\", \"Topic5\", \"Topic5\", \"Topic5\", \"Topic5\", \"Topic5\", \"Topic5\", \"Topic5\", \"Topic5\", \"Topic5\", \"Topic5\", \"Topic5\", \"Topic5\", \"Topic5\", \"Topic5\", \"Topic5\", \"Topic5\", \"Topic5\", \"Topic5\", \"Topic5\", \"Topic5\", \"Topic5\", \"Topic5\", \"Topic5\", \"Topic5\", \"Topic5\", \"Topic5\", \"Topic5\", \"Topic5\", \"Topic5\", \"Topic5\", \"Topic5\", \"Topic5\", \"Topic5\", \"Topic5\", \"Topic5\", \"Topic5\", \"Topic5\", \"Topic5\", \"Topic5\", \"Topic5\", \"Topic5\", \"Topic5\", \"Topic5\", \"Topic6\", \"Topic6\", \"Topic6\", \"Topic6\", \"Topic6\", \"Topic6\", \"Topic6\", \"Topic6\", \"Topic6\", \"Topic6\", \"Topic6\", \"Topic6\", \"Topic6\", \"Topic6\", \"Topic6\", \"Topic6\", \"Topic6\", \"Topic6\", \"Topic6\", \"Topic6\", \"Topic6\", \"Topic6\", \"Topic6\", \"Topic6\", \"Topic6\", \"Topic6\", \"Topic6\", \"Topic6\", \"Topic6\", \"Topic6\", \"Topic6\", \"Topic6\", \"Topic6\", \"Topic6\", \"Topic6\", \"Topic6\", \"Topic6\", \"Topic6\", \"Topic6\", \"Topic6\", \"Topic6\", \"Topic6\", \"Topic7\", \"Topic7\", \"Topic7\", \"Topic7\", \"Topic7\", \"Topic7\", \"Topic7\", \"Topic7\", \"Topic7\", \"Topic7\", \"Topic7\", \"Topic7\", \"Topic7\", \"Topic7\", \"Topic7\", \"Topic7\", \"Topic7\", \"Topic7\", \"Topic7\", \"Topic7\", \"Topic7\", \"Topic7\", \"Topic7\", \"Topic7\", \"Topic7\", \"Topic7\", \"Topic7\", \"Topic7\", \"Topic7\", \"Topic7\", \"Topic7\", \"Topic7\", \"Topic7\", \"Topic7\", \"Topic7\", \"Topic7\", \"Topic7\", \"Topic7\", \"Topic7\", \"Topic7\", \"Topic7\", \"Topic8\", \"Topic8\", \"Topic8\", \"Topic8\", \"Topic8\", \"Topic8\", \"Topic8\", \"Topic8\", \"Topic8\", \"Topic8\", \"Topic8\", \"Topic8\", \"Topic8\", \"Topic8\", \"Topic8\", \"Topic8\", \"Topic8\", \"Topic8\", \"Topic8\", \"Topic8\", \"Topic8\", \"Topic8\", \"Topic8\", \"Topic8\", \"Topic8\", \"Topic8\", \"Topic8\", \"Topic8\", \"Topic8\", \"Topic8\", \"Topic8\", \"Topic8\", \"Topic8\", \"Topic8\", \"Topic8\", \"Topic8\", \"Topic8\", \"Topic8\", \"Topic8\", \"Topic8\", \"Topic8\", \"Topic8\", \"Topic8\", \"Topic8\", \"Topic8\", \"Topic8\", \"Topic8\", \"Topic8\", \"Topic8\", \"Topic9\", \"Topic9\", \"Topic9\", \"Topic9\", \"Topic9\", \"Topic9\", \"Topic9\", \"Topic9\", \"Topic9\", \"Topic9\", \"Topic9\", \"Topic9\", \"Topic9\", \"Topic9\", \"Topic9\", \"Topic9\", \"Topic9\", \"Topic9\", \"Topic9\", \"Topic9\", \"Topic9\", \"Topic9\", \"Topic9\", \"Topic9\", \"Topic9\", \"Topic9\", \"Topic9\", \"Topic9\", \"Topic9\", \"Topic9\", \"Topic9\", \"Topic9\", \"Topic9\", \"Topic9\", \"Topic9\", \"Topic9\", \"Topic9\", \"Topic9\", \"Topic9\", \"Topic9\", \"Topic9\", \"Topic9\", \"Topic9\", \"Topic9\", \"Topic9\", \"Topic9\", \"Topic9\", \"Topic9\", \"Topic9\", \"Topic10\", \"Topic10\", \"Topic10\", \"Topic10\", \"Topic10\", \"Topic10\", \"Topic10\", \"Topic10\", \"Topic10\", \"Topic10\", \"Topic10\", \"Topic10\", \"Topic10\", \"Topic10\", \"Topic10\", \"Topic10\", \"Topic10\", \"Topic10\", \"Topic10\", \"Topic10\", \"Topic10\", \"Topic10\", \"Topic10\", \"Topic10\", \"Topic10\", \"Topic10\", \"Topic10\", \"Topic10\", \"Topic10\", \"Topic10\", \"Topic10\", \"Topic10\", \"Topic10\", \"Topic10\", \"Topic10\", \"Topic10\", \"Topic10\", \"Topic10\", \"Topic10\", \"Topic10\", \"Topic10\", \"Topic10\", \"Topic11\", \"Topic11\", \"Topic11\", \"Topic11\", \"Topic11\", \"Topic11\", \"Topic11\", \"Topic11\", \"Topic11\", \"Topic11\", \"Topic11\", \"Topic11\", \"Topic11\", \"Topic11\", \"Topic11\", \"Topic11\", \"Topic11\", \"Topic11\", \"Topic11\", \"Topic11\", \"Topic11\", \"Topic11\", \"Topic11\", \"Topic11\", \"Topic11\", \"Topic11\", \"Topic11\", \"Topic11\", \"Topic11\", \"Topic11\", \"Topic11\", \"Topic11\", \"Topic11\", \"Topic11\", \"Topic11\", \"Topic11\", \"Topic11\", \"Topic11\", \"Topic12\", \"Topic12\", \"Topic12\", \"Topic12\", \"Topic12\", \"Topic12\", \"Topic12\", \"Topic12\", \"Topic12\", \"Topic12\", \"Topic12\", \"Topic12\", \"Topic12\", \"Topic12\", \"Topic12\", \"Topic12\", \"Topic12\", \"Topic12\", \"Topic12\", \"Topic12\", \"Topic12\", \"Topic12\", \"Topic12\", \"Topic12\", \"Topic12\", \"Topic12\", \"Topic12\", \"Topic12\", \"Topic12\", \"Topic12\", \"Topic12\", \"Topic12\", \"Topic12\", \"Topic12\", \"Topic12\", \"Topic12\", \"Topic12\", \"Topic12\", \"Topic12\", \"Topic12\", \"Topic13\", \"Topic13\", \"Topic13\", \"Topic13\", \"Topic13\", \"Topic13\", \"Topic13\", \"Topic13\", \"Topic13\", \"Topic13\", \"Topic13\", \"Topic13\", \"Topic13\", \"Topic13\", \"Topic13\", \"Topic13\", \"Topic13\", \"Topic13\", \"Topic13\", \"Topic13\", \"Topic13\", \"Topic13\", \"Topic13\", \"Topic13\", \"Topic13\", \"Topic13\", \"Topic13\", \"Topic13\", \"Topic13\", \"Topic13\", \"Topic13\", \"Topic13\", \"Topic13\", \"Topic13\", \"Topic13\", \"Topic13\", \"Topic13\", \"Topic13\", \"Topic14\", \"Topic14\", \"Topic14\", \"Topic14\", \"Topic14\", \"Topic14\", \"Topic14\", \"Topic14\", \"Topic14\", \"Topic14\", \"Topic14\", \"Topic14\", \"Topic14\", \"Topic14\", \"Topic14\", \"Topic14\", \"Topic14\", \"Topic14\", \"Topic14\", \"Topic14\", \"Topic14\", \"Topic14\", \"Topic14\", \"Topic14\", \"Topic14\", \"Topic14\", \"Topic14\", \"Topic14\", \"Topic14\", \"Topic14\", \"Topic14\", \"Topic14\", \"Topic14\", \"Topic14\", \"Topic14\", \"Topic14\", \"Topic14\", \"Topic14\", \"Topic14\", \"Topic15\", \"Topic15\", \"Topic15\", \"Topic15\", \"Topic15\", \"Topic15\", \"Topic15\", \"Topic15\", \"Topic15\", \"Topic15\", \"Topic15\", \"Topic15\", \"Topic15\", \"Topic15\", \"Topic15\", \"Topic15\", \"Topic15\", \"Topic15\", \"Topic15\", \"Topic15\", \"Topic15\", \"Topic15\", \"Topic15\", \"Topic15\", \"Topic15\", \"Topic15\", \"Topic15\", \"Topic15\", \"Topic15\", \"Topic15\", \"Topic15\", \"Topic15\", \"Topic15\", \"Topic15\", \"Topic15\", \"Topic15\", \"Topic15\", \"Topic16\", \"Topic16\", \"Topic16\", \"Topic16\", \"Topic16\", \"Topic16\", \"Topic16\", \"Topic16\", \"Topic16\", \"Topic16\", \"Topic16\", \"Topic16\", \"Topic16\", \"Topic16\", \"Topic16\", \"Topic16\", \"Topic16\", \"Topic16\", \"Topic16\", \"Topic16\", \"Topic16\", \"Topic16\", \"Topic16\", \"Topic16\", \"Topic16\", \"Topic16\", \"Topic16\", \"Topic16\", \"Topic16\", \"Topic16\", \"Topic16\", \"Topic16\", \"Topic16\", \"Topic16\", \"Topic16\", \"Topic16\", \"Topic16\", \"Topic16\", \"Topic16\", \"Topic17\", \"Topic17\", \"Topic17\", \"Topic17\", \"Topic17\", \"Topic17\", \"Topic17\", \"Topic17\", \"Topic17\", \"Topic17\", \"Topic17\", \"Topic17\", \"Topic17\", \"Topic17\", \"Topic17\", \"Topic17\", \"Topic17\", \"Topic17\", \"Topic17\", \"Topic17\", \"Topic17\", \"Topic17\", \"Topic17\", \"Topic17\", \"Topic17\", \"Topic17\", \"Topic17\", \"Topic17\", \"Topic17\", \"Topic17\", \"Topic17\", \"Topic17\", \"Topic17\", \"Topic17\", \"Topic17\"], \"logprob\": [30.0, 29.0, 28.0, 27.0, 26.0, 25.0, 24.0, 23.0, 22.0, 21.0, 20.0, 19.0, 18.0, 17.0, 16.0, 15.0, 14.0, 13.0, 12.0, 11.0, 10.0, 9.0, 8.0, 7.0, 6.0, 5.0, 4.0, 3.0, 2.0, 1.0, -5.6668, -6.0291, -5.9063, -6.1357, -6.2085, -6.2088, -6.2839, -6.2848, -6.0494, -6.3044, -6.2348, -6.362, -6.3628, -6.4068, -5.435, -6.4529, -6.4812, -6.4904, -5.5556, -6.5086, -6.2369, -6.5177, -5.9336, -6.1537, -6.5444, -6.5432, -6.5556, -6.5417, -5.5076, -6.5901, -5.987, -5.2124, -5.4597, -5.07, -5.5935, -5.1509, -5.6058, -5.4123, -5.5395, -5.915, -5.8764, -5.7392, -5.2854, -5.7568, -4.9414, -5.4896, -5.9058, -5.741, -5.6999, -4.9754, -5.4227, -5.3758, -5.5254, -5.7006, -5.4431, -5.2459, -5.2326, -5.6998, -5.6559, -5.2368, -5.5136, -5.2639, -5.2238, -5.2662, -5.479, -5.2132, -5.4799, -5.4557, -5.3749, -5.4799, -5.5138, -5.2794, -5.5865, -5.9225, -6.1353, -5.7454, -6.2418, -6.2571, -6.2854, -6.2746, -6.3259, -6.3258, -6.3609, -6.3875, -5.5267, -6.4507, -6.4842, -6.1831, -6.5172, -6.5136, -4.9573, -6.5235, -6.547, -5.6944, -4.8918, -6.6362, -6.6478, -6.1301, -5.7269, -6.6918, -6.3176, -4.9941, -5.6159, -5.1701, -5.7335, -5.0504, -5.2425, -5.5114, -5.6533, -4.6598, -4.7692, -5.0925, -5.7099, -6.0693, -4.1543, -5.664, -4.6754, -5.8254, -5.3168, -5.2188, -4.9858, -5.1799, -5.2763, -5.0368, -5.1371, -4.9698, -5.4332, -5.1238, -5.0369, -5.4436, -5.6005, -5.3496, -5.3235, -5.3692, -5.3676, -5.4814, -5.4973, -5.1511, -5.5016, -5.5448, -5.5067, -6.0726, -6.1485, -6.1832, -5.7759, -6.1712, -5.1109, -6.065, -6.2912, -5.5551, -5.934, -6.4362, -6.4389, -6.44, -6.4481, -6.4438, -6.4907, -6.069, -6.1085, -6.5737, -6.6213, -5.6592, -6.4577, -6.3644, -6.7031, -6.7085, -5.8937, -4.3587, -6.0911, -4.3062, -4.8686, -5.2897, -5.9341, -5.8483, -4.2104, -5.4957, -5.506, -4.5269, -5.8385, -4.325, -4.5869, -4.8924, -4.9728, -4.5048, -4.6148, -5.5661, -4.5243, -4.8029, -4.9178, -4.6564, -5.251, -5.4146, -5.6568, -5.0183, -5.1791, -5.1581, -5.1584, -5.2376, -5.2498, -5.3485, -5.3566, -5.3186, -5.4475, -5.4313, -4.2749, -4.9117, -5.1005, -4.7717, -3.9427, -3.9168, -4.2321, -4.6224, -4.2474, -5.4936, -5.5348, -5.461, -5.5228, -5.6354, -5.7335, -5.7723, -3.2883, -5.8731, -4.0018, -5.9011, -5.7817, -4.149, -5.7212, -4.6163, -6.0267, -5.202, -6.065, -6.0705, -4.6609, -5.9444, -4.2182, -3.9865, -4.5486, -3.9043, -3.8669, -5.3958, -3.9457, -4.3973, -4.007, -5.0058, -4.2958, -4.2848, -4.5684, -4.6957, -4.7755, -4.7207, -4.6988, -4.7341, -4.8121, -4.2268, -4.6531, -4.7804, -4.7987, -4.8851, -4.9681, -5.1063, -5.118, -5.1191, -5.1269, -5.2206, -5.1887, -5.2627, -5.2798, -5.2837, -5.3077, -5.0261, -5.3174, -5.319, -5.327, -5.1659, -5.3679, -5.3866, -5.0977, -5.4243, -5.4895, -5.5183, -4.9576, -5.5471, -5.2754, -5.0435, -4.5832, -5.0316, -4.7155, -4.2337, -4.8931, -4.8018, -5.2153, -4.8945, -5.1805, -4.9306, -4.593, -5.2453, -5.2133, -5.0713, -3.963, -3.9467, -3.6774, -4.5195, -3.6783, -4.5359, -4.5988, -4.61, -4.7568, -4.773, -4.8169, -4.8873, -4.8959, -4.8308, -4.9889, -4.9967, -5.0295, -4.0333, -5.0974, -5.0266, -5.1424, -5.1438, -5.1951, -5.1999, -5.2204, -5.2688, -4.4271, -5.2672, -5.4121, -5.3926, -4.699, -5.3281, -4.3829, -4.6261, -3.4164, -4.7545, -4.6557, -4.5901, -4.9551, -4.6773, -4.9425, -4.9843, -4.1423, -4.1908, -4.3413, -4.374, -4.4293, -4.5209, -4.5373, -4.7898, -4.8139, -4.8801, -4.884, -5.023, -5.024, -5.0316, -5.0578, -5.0859, -5.0964, -5.0991, -5.1134, -5.127, -5.1391, -5.1798, -5.1943, -5.2511, -4.1225, -5.2884, -5.2922, -5.3452, -3.7772, -5.362, -5.0984, -2.4898, -4.0118, -4.4993, -4.7536, -4.7552, -4.5246, -4.3933, -4.7588, -4.7316, -4.8755, -4.1949, -4.3942, -3.9651, -4.5709, -4.5548, -4.6366, -4.6952, -4.7411, -4.8151, -4.8394, -4.7518, -4.9489, -4.9613, -5.0351, -5.1013, -5.1232, -5.1927, -5.1932, -5.1897, -5.2928, -5.3411, -5.3833, -5.4156, -5.443, -5.4474, -5.4564, -5.4722, -5.4943, -5.509, -5.377, -5.2616, -3.8284, -4.9969, -5.2067, -4.0877, -3.8235, -4.4889, -4.9808, -4.9043, -5.1064, -4.8079, -4.2182, -4.7635, -4.906, -4.8725, -4.7189, -4.8166, -4.8309, -4.7958, -4.4905, -4.473, -4.7192, -4.7415, -4.2814, -4.7702, -4.9356, -4.9977, -5.0233, -5.027, -5.0669, -5.1094, -3.9247, -4.5455, -5.1391, -4.1459, -5.1871, -5.2139, -5.2413, -5.2687, -5.2804, -5.3693, -5.4122, -5.4415, -5.4484, -5.4488, -5.4592, -5.4704, -5.486, -5.4904, -4.0669, -5.0036, -3.8878, -4.8668, -4.5274, -4.2193, -4.8895, -4.8574, -4.2526, -4.4074, -4.5681, -4.903, -4.3216, -4.8381, -4.6499, -5.0171, -4.866, -4.9234, -4.9989, -3.8723, -4.3072, -4.4321, -4.1924, -4.5566, -4.7696, -4.79, -4.8222, -4.8335, -4.8806, -4.9073, -4.9398, -4.6542, -4.9669, -4.4816, -5.0076, -5.0337, -5.0409, -4.1626, -5.1311, -5.2117, -5.2172, -5.2361, -5.2687, -5.2767, -5.3188, -5.1824, -5.3446, -4.9366, -4.4062, -5.2839, -4.9761, -3.4846, -4.8673, -4.8815, -4.9644, -4.6592, -4.8628, -4.3296, -4.6699, -4.8767, -4.8297, -3.8023, -4.0385, -4.403, -4.4408, -4.1424, -4.5359, -4.5993, -4.6752, -4.701, -4.7853, -4.799, -4.8059, -4.8226, -4.8256, -4.894, -4.9065, -4.917, -4.971, -4.1367, -4.1135, -4.4507, -5.0681, -5.1049, -5.2055, -5.2068, -5.0316, -5.0272, -4.977, -5.3301, -5.3474, -5.3469, -5.0785, -4.4479, -3.3254, -4.2125, -4.6996, -4.9589, -5.0048, -3.8107, -3.979, -4.0255, -4.429, -4.4953, -4.3072, -4.2176, -4.6144, -4.62, -4.6987, -4.6946, -4.767, -4.7725, -4.8177, -4.5966, -4.8439, -4.8605, -4.8724, -4.903, -4.9514, -5.0089, -4.9769, -4.7839, -4.7597, -5.1252, -5.1307, -5.1305, -5.1344, -5.1505, -5.178, -4.3056, -5.0192, -4.625, -4.4381, -4.0804, -4.1653, -4.1507, -4.5232, -4.4338, -4.9297, -3.9889, -4.0047, -3.9303, -4.3593, -4.4385, -4.4728, -4.5724, -4.4681, -4.691, -3.9389, -4.8175, -4.8049, -4.8369, -4.8504, -4.8538, -4.8643, -4.872, -4.8799, -4.9039, -4.7551, -4.9881, -4.8297, -5.0465, -5.0619, -4.2882, -5.2008, -5.2176, -5.2212, -5.2819, -5.282, -4.826, -3.5259, -4.3701, -4.7654, -4.1856, -4.483, -4.2588, -4.8498, -3.0216, -3.809, -4.0779, -4.1307, -4.1562, -4.1875, -3.7979, -4.4786, -4.7231, -4.7805, -4.9256, -5.0319, -5.0583, -5.0709, -5.0786, -4.7017, -5.1558, -4.873, -5.2113, -5.2254, -5.2263, -5.2444, -5.2598, -4.7555, -5.2719, -4.877, -5.3142, -4.9841, -5.4269, -5.4376, -4.2138, -4.3805, -3.5931, -4.091, -4.1398, -4.9273, -5.0369, -4.8555, -4.6097, -3.612, -3.7538, -4.1253, -4.1833, -4.2658, -4.0735, -4.3907, -4.4679, -4.5204, -4.5692, -3.1237, -4.6286, -4.6468, -4.7355, -4.859, -4.5681, -4.9411, -4.9548, -4.9791, -4.7486, -5.0632, -5.1496, -4.9982, -5.2106, -4.0042, -4.9823, -4.4508, -5.3968, -5.4402, -5.4508, -3.6024, -3.4811, -4.4769, -4.3987, -4.5594, -4.7434, -4.9532, -3.8706, -4.2252, -4.282, -4.2928, -4.3787, -4.3816, -4.4991, -4.5401, -4.6154, -4.4941, -4.7042, -4.7371, -4.8201, -4.8779, -4.9141, -4.9357, -4.2964, -5.0026, -5.0727, -5.0845, -5.1085, -4.516, -5.1636, -5.239, -4.8028, -4.3197, -5.2701, -4.2781, -5.314, -4.5941, -3.3901, -4.5827, -4.6998, -4.0176, -4.2256, -4.1603, -4.9746, -4.8463, -4.7903, -3.8969, -3.9257, -4.1475, -3.9609, -4.2239, -4.2288, -4.0701, -4.4533, -4.5833, -4.5874, -4.5388, -4.6455, -4.6645, -4.6801, -4.7359, -4.7435, -4.7685, -4.3868, -4.9029, -4.3503, -4.9271, -4.9539, -4.972, -4.7556, -5.0216, -5.0261, -5.0441, -5.1604, -5.269, -5.3896, -3.7015, -4.3841, -4.547, -4.6833, -4.9298], \"loglift\": [30.0, 29.0, 28.0, 27.0, 26.0, 25.0, 24.0, 23.0, 22.0, 21.0, 20.0, 19.0, 18.0, 17.0, 16.0, 15.0, 14.0, 13.0, 12.0, 11.0, 10.0, 9.0, 8.0, 7.0, 6.0, 5.0, 4.0, 3.0, 2.0, 1.0, 1.2726, 1.254, 1.2519, 1.247, 1.2421, 1.2418, 1.2364, 1.2363, 1.2352, 1.2347, 1.2346, 1.2302, 1.23, 1.2264, 1.2253, 1.2223, 1.2197, 1.2188, 1.2173, 1.217, 1.2169, 1.2162, 1.2144, 1.2134, 1.2133, 1.2131, 1.2125, 1.2111, 1.2101, 1.2082, 1.2026, 1.1918, 1.1859, 1.1722, 1.188, 1.1568, 1.1767, 1.1383, 1.1426, 1.1752, 1.1711, 1.1394, 1.069, 1.1306, 0.9481, 1.058, 1.1487, 1.1095, 1.093, 0.8762, 1.0014, 0.9764, 1.0247, 1.0819, 0.955, 0.8572, 0.8211, 1.0666, 1.019, 0.6627, 0.854, 0.4405, 0.3525, 0.4006, 0.7158, 0.1171, 0.6352, 0.4891, -0.0663, 0.461, 0.3994, 1.6309, 1.6204, 1.6014, 1.5809, 1.5785, 1.5725, 1.5686, 1.5676, 1.5674, 1.5635, 1.563, 1.5595, 1.5564, 1.5533, 1.5487, 1.5444, 1.5402, 1.5401, 1.5397, 1.5394, 1.5393, 1.5361, 1.5322, 1.5319, 1.5236, 1.5213, 1.5183, 1.5173, 1.5152, 1.5144, 1.5079, 1.5103, 1.5027, 1.5103, 1.4924, 1.4977, 1.5019, 1.5052, 1.4181, 1.426, 1.4464, 1.4752, 1.5143, 1.176, 1.4425, 1.236, 1.4575, 1.3377, 1.2959, 1.217, 1.2209, 1.2343, 1.0854, 1.1039, 0.9238, 1.2476, 0.8447, 0.6675, 1.097, 1.3283, 0.6285, 0.3785, 0.4667, -0.059, 0.4082, 0.8148, 1.8255, 1.8065, 1.8032, 1.7677, 1.7597, 1.7514, 1.747, 1.7468, 1.7417, 1.7403, 1.7378, 1.7342, 1.7328, 1.7171, 1.7144, 1.714, 1.7138, 1.7126, 1.7085, 1.7062, 1.7013, 1.6961, 1.693, 1.6852, 1.6836, 1.6751, 1.675, 1.6708, 1.6698, 1.6689, 1.6554, 1.6596, 1.59, 1.5998, 1.6115, 1.6449, 1.6372, 1.4093, 1.5576, 1.5497, 1.3329, 1.5966, 1.2725, 1.2902, 1.3355, 1.3589, 1.1972, 1.2028, 1.528, 1.1425, 1.1207, 1.1084, 0.92, 1.2672, 1.2801, 1.473, 0.8753, 0.9232, 0.8819, 0.8197, 0.9238, 0.8654, 1.1177, 1.0302, 0.5172, 1.2462, 0.2732, 3.0248, 2.9711, 2.9483, 2.9432, 2.9233, 2.9183, 2.915, 2.91, 2.8967, 2.8872, 2.8795, 2.8785, 2.8702, 2.8597, 2.8389, 2.8301, 2.8157, 2.8063, 2.7995, 2.7993, 2.7975, 2.7946, 2.7877, 2.7814, 2.7658, 2.7614, 2.7555, 2.7539, 2.7477, 2.7417, 2.7052, 2.6834, 2.5896, 2.4603, 2.2545, 2.6586, 2.1765, 2.3159, 2.1622, 2.4527, 1.9427, 1.8431, 1.9778, 1.9325, 1.8734, 1.1391, 0.8988, 0.8857, 1.0841, 3.213, 3.176, 3.1613, 3.1551, 3.149, 3.1378, 3.1172, 3.1158, 3.1156, 3.1143, 3.0989, 3.0964, 3.0916, 3.0885, 3.0878, 3.0834, 3.083, 3.0815, 3.0814, 3.0799, 3.0793, 3.0721, 3.0685, 3.0674, 3.0609, 3.0474, 3.0412, 3.0374, 3.0349, 3.0289, 3.0252, 3.0122, 3.0194, 2.9179, 2.7634, 2.8357, 2.6431, 2.9488, 2.4199, 2.8519, 2.3292, 1.5001, 2.9375, 2.7889, 2.0551, 3.3207, 3.3077, 3.2857, 3.277, 3.2764, 3.2753, 3.2686, 3.2674, 3.2502, 3.2446, 3.2423, 3.2328, 3.2317, 3.2314, 3.218, 3.2169, 3.2117, 3.2047, 3.2007, 3.1975, 3.193, 3.1928, 3.1837, 3.1828, 3.179, 3.1699, 3.1601, 3.1579, 3.1406, 3.14, 3.1354, 3.1344, 3.0355, 3.0242, 2.7116, 2.9887, 2.5503, 2.0588, 2.7145, 1.2222, 1.6958, 1.1371, 3.3395, 3.3357, 3.3239, 3.3209, 3.3158, 3.3066, 3.3047, 3.2749, 3.2716, 3.2625, 3.2619, 3.2407, 3.2406, 3.2393, 3.235, 3.2303, 3.2285, 3.228, 3.2256, 3.2232, 3.221, 3.2137, 3.211, 3.1997, 3.1981, 3.1928, 3.192, 3.1812, 3.1805, 3.1776, 3.166, 2.8188, 2.9154, 2.9015, 2.8249, 2.7073, 2.4204, 2.0151, 2.1407, 1.3084, 1.3807, 3.3375, 3.3244, 3.3169, 3.3048, 3.2981, 3.2966, 3.2921, 3.2864, 3.2766, 3.2732, 3.2694, 3.2574, 3.2549, 3.2431, 3.2326, 3.2288, 3.2162, 3.216, 3.215, 3.1967, 3.1867, 3.1768, 3.1706, 3.1645, 3.1634, 3.1613, 3.1578, 3.1526, 3.1491, 3.1408, 3.1321, 2.9626, 3.0962, 3.1194, 2.9469, 2.8569, 2.9282, 2.9777, 2.9371, 3.0208, 2.7869, 2.3222, 2.1933, 2.2999, 2.1602, 1.5197, 1.7223, 1.5749, 1.258, 3.3933, 3.3679, 3.3653, 3.3623, 3.359, 3.3583, 3.3312, 3.323, 3.3186, 3.318, 3.3098, 3.3031, 3.2976, 3.2975, 3.2974, 3.2966, 3.2881, 3.2827, 3.2771, 3.2713, 3.2688, 3.2491, 3.2391, 3.2321, 3.2304, 3.2303, 3.2278, 3.225, 3.2206, 3.22, 3.2049, 3.2139, 3.189, 3.2044, 3.1606, 3.1038, 3.1368, 3.0522, 2.7212, 2.6582, 2.429, 2.7423, 1.7815, 2.5439, 1.9961, 2.8028, 1.8143, 1.7256, 1.7921, 3.5114, 3.4757, 3.4625, 3.4576, 3.4478, 3.4188, 3.4157, 3.4107, 3.4027, 3.4014, 3.397, 3.3914, 3.3893, 3.3867, 3.3797, 3.3794, 3.3743, 3.3733, 3.3677, 3.3558, 3.339, 3.3378, 3.3314, 3.3265, 3.3247, 3.315, 3.3123, 3.309, 3.3088, 3.3086, 3.3081, 3.2624, 2.9468, 3.2083, 3.1624, 3.1707, 2.8499, 3.0208, 2.3165, 2.5795, 2.6074, 1.5225, 3.6477, 3.629, 3.5909, 3.5862, 3.5741, 3.5737, 3.5645, 3.5533, 3.5493, 3.5355, 3.5321, 3.5319, 3.529, 3.5285, 3.5162, 3.5138, 3.5119, 3.5014, 3.4973, 3.4831, 3.4831, 3.4815, 3.4735, 3.4505, 3.4502, 3.4474, 3.4412, 3.4291, 3.4195, 3.415, 3.415, 3.3864, 3.1518, 2.5104, 2.9201, 2.9809, 2.123, 1.1644, 3.6662, 3.6531, 3.6489, 3.6044, 3.5969, 3.5959, 3.5808, 3.58, 3.5792, 3.5669, 3.5606, 3.5556, 3.5547, 3.5468, 3.5448, 3.5417, 3.5391, 3.5369, 3.5311, 3.5217, 3.5101, 3.5055, 3.499, 3.489, 3.4848, 3.4835, 3.483, 3.4827, 3.479, 3.4726, 3.4459, 3.4583, 3.3832, 3.3422, 3.2451, 3.1764, 2.7323, 2.6201, 1.6593, 2.3373, 3.6682, 3.663, 3.6353, 3.6298, 3.6198, 3.6152, 3.5985, 3.5833, 3.5824, 3.5686, 3.5613, 3.5601, 3.5578, 3.5552, 3.5547, 3.5528, 3.5513, 3.5498, 3.5452, 3.5302, 3.5284, 3.517, 3.5161, 3.5104, 3.5091, 3.4807, 3.4765, 3.4755, 3.4603, 3.4603, 3.4437, 3.2976, 3.2858, 3.3635, 3.0595, 3.1814, 2.5652, 3.0525, 3.7579, 3.7549, 3.7307, 3.7252, 3.7225, 3.719, 3.6922, 3.6819, 3.6426, 3.6322, 3.6036, 3.5805, 3.5743, 3.5715, 3.5697, 3.5647, 3.551, 3.5403, 3.5369, 3.5332, 3.533, 3.5281, 3.524, 3.5226, 3.5208, 3.5103, 3.5091, 3.5053, 3.4762, 3.4728, 3.4099, 3.4178, 3.1829, 3.0301, 2.9266, 3.3202, 3.3239, 2.9864, 2.5422, 3.7696, 3.7654, 3.7376, 3.7329, 3.7232, 3.7172, 3.7072, 3.6964, 3.6886, 3.681, 3.6809, 3.6714, 3.6684, 3.6529, 3.6288, 3.6148, 3.6123, 3.6093, 3.6041, 3.5906, 3.5849, 3.5639, 3.5528, 3.5478, 3.5368, 3.5367, 3.5299, 3.4957, 3.4827, 3.4794, 3.4497, 3.4209, 3.3523, 3.3178, 3.2215, 2.7762, 3.3096, 3.7615, 3.7348, 3.7279, 3.7266, 3.7154, 3.715, 3.6983, 3.6921, 3.68, 3.6768, 3.6647, 3.6589, 3.6433, 3.6317, 3.6242, 3.6196, 3.6079, 3.6049, 3.5887, 3.5859, 3.5801, 3.5784, 3.5663, 3.5465, 3.5428, 3.5427, 3.5381, 3.5378, 3.5258, 3.5161, 3.4845, 3.5032, 3.5067, 3.4372, 3.4033, 3.1501, 3.2833, 2.7245, 2.3307, 3.9543, 3.9323, 3.9249, 3.9211, 3.9146, 3.9139, 3.9067, 3.8791, 3.8558, 3.8551, 3.8503, 3.8438, 3.84, 3.8368, 3.8252, 3.8235, 3.8181, 3.8099, 3.7871, 3.7813, 3.7812, 3.7745, 3.7699, 3.7577, 3.7569, 3.7556, 3.7509, 3.7182, 3.6851, 3.6454, 3.6367, 3.5823, 3.1847, 3.0011, 3.4593]}, \"token.table\": {\"Topic\": [11, 15, 8, 1, 1, 7, 11, 5, 6, 16, 1, 16, 6, 1, 4, 8, 9, 10, 8, 1, 2, 9, 9, 6, 10, 13, 12, 1, 2, 3, 4, 15, 1, 2, 7, 11, 11, 2, 11, 1, 2, 1, 2, 7, 1, 2, 3, 6, 17, 6, 12, 6, 8, 16, 2, 3, 8, 1, 2, 3, 4, 4, 9, 1, 2, 1, 16, 5, 10, 1, 2, 12, 12, 12, 2, 1, 2, 3, 8, 12, 5, 1, 1, 2, 12, 12, 3, 1, 2, 7, 9, 10, 2, 3, 13, 13, 17, 2, 1, 2, 3, 3, 13, 5, 6, 12, 1, 3, 10, 2, 1, 8, 9, 1, 2, 8, 10, 1, 2, 4, 8, 14, 16, 14, 15, 5, 7, 1, 7, 8, 9, 10, 1, 4, 15, 1, 2, 3, 4, 5, 2, 3, 10, 9, 1, 8, 15, 14, 7, 1, 2, 3, 4, 1, 10, 1, 2, 13, 15, 3, 6, 9, 1, 9, 15, 1, 15, 2, 15, 16, 1, 3, 4, 1, 14, 1, 8, 14, 1, 2, 8, 15, 17, 10, 17, 5, 1, 2, 3, 7, 9, 10, 17, 5, 5, 11, 14, 5, 2, 3, 14, 16, 6, 1, 7, 9, 10, 1, 3, 4, 6, 9, 1, 2, 11, 4, 1, 2, 3, 1, 2, 4, 16, 4, 13, 16, 1, 2, 14, 1, 6, 12, 1, 2, 5, 6, 1, 9, 1, 1, 2, 10, 17, 17, 1, 3, 1, 7, 8, 9, 14, 1, 2, 3, 8, 9, 1, 2, 3, 4, 15, 1, 2, 5, 8, 5, 3, 17, 3, 1, 2, 3, 4, 6, 10, 6, 1, 8, 9, 1, 3, 6, 6, 15, 14, 8, 17, 3, 6, 6, 4, 1, 3, 4, 13, 4, 11, 1, 2, 3, 4, 6, 1, 2, 4, 4, 12, 15, 15, 17, 5, 1, 2, 5, 6, 16, 16, 6, 1, 2, 1, 2, 10, 4, 11, 1, 2, 4, 5, 7, 8, 12, 16, 12, 13, 4, 2, 1, 2, 14, 10, 3, 5, 6, 16, 16, 6, 14, 1, 4, 13, 16, 5, 2, 16, 7, 14, 6, 2, 6, 10, 1, 2, 13, 7, 1, 3, 5, 8, 4, 2, 4, 6, 14, 15, 7, 1, 16, 1, 15, 4, 13, 17, 5, 6, 14, 1, 2, 5, 1, 3, 1, 1, 2, 3, 4, 12, 1, 2, 1, 2, 3, 4, 11, 1, 2, 3, 11, 13, 3, 13, 16, 17, 2, 3, 11, 5, 2, 3, 2, 1, 13, 12, 14, 10, 11, 1, 2, 3, 6, 7, 7, 5, 10, 6, 10, 5, 9, 13, 15, 5, 7, 1, 2, 1, 8, 10, 9, 1, 2, 3, 1, 2, 3, 4, 11, 8, 5, 8, 13, 15, 7, 1, 3, 6, 9, 5, 13, 1, 5, 9, 1, 2, 3, 6, 10, 17, 1, 5, 3, 6, 8, 17, 3, 1, 2, 4, 12, 12, 1, 11, 12, 16, 3, 8, 9, 11, 1, 6, 13, 5, 7, 13, 16, 16, 10, 1, 3, 4, 17, 1, 3, 6, 9, 6, 7, 8, 9, 10, 14, 5, 13, 10, 6, 8, 6, 10, 8, 9, 8, 1, 1, 2, 8, 9, 1, 2, 1, 12, 17, 3, 5, 12, 2, 1, 2, 8, 9, 7, 16, 17, 3, 1, 2, 3, 6, 7, 9, 10, 1, 2, 3, 4, 6, 9, 11, 7, 11, 16, 1, 2, 1, 2, 2, 3, 4, 5, 7, 9, 15, 2, 4, 6, 7, 12, 3, 9, 12, 9, 6, 10, 11, 1, 9, 15, 1, 8, 11, 1, 2, 3, 4, 8, 3, 7, 1, 2, 1, 2, 3, 4, 5, 7, 11, 14, 6, 13, 11, 12, 1, 3, 8, 13, 1, 2, 3, 15, 12, 3, 1, 4, 6, 11, 17, 1, 3, 1, 2, 7, 11, 2, 1, 1, 7, 9, 7, 7, 2, 5, 6, 8, 9, 8, 9, 13, 3, 3, 1, 2, 3, 8, 9, 7, 1, 2, 3, 7, 1, 3, 4, 5, 6, 7, 8, 14, 5, 9, 14, 17, 7, 10, 17, 5, 1, 4, 13, 2, 15, 6, 10, 5, 12, 16, 16, 17, 1, 2, 3, 17, 11, 15, 7, 5, 8, 9, 10, 1, 2, 4, 7, 2, 17, 2, 4, 6, 7, 8, 9, 16, 17, 5, 6, 8, 2, 3, 4, 3, 5, 6, 1, 5, 2, 4, 10, 11, 1, 2, 3, 4, 5, 7, 12, 1, 2, 15, 1, 15, 3, 8, 9, 16, 9, 11, 11, 3, 10, 1, 2, 3, 4, 10, 1, 13, 4, 8, 2, 4, 14, 3, 14, 13, 1, 4, 9, 12, 10, 1, 2, 15, 1, 5, 9, 14, 2, 5, 6, 2, 14, 6, 2, 12, 9, 9, 9, 6, 15, 3, 1, 2, 3, 4, 5, 5, 6, 7, 3, 17, 1, 2, 3, 4, 5, 9, 13, 13, 8, 10, 11, 7, 7, 10, 1, 2, 3, 15, 15, 17, 3, 1, 2, 3, 8, 2, 5, 17, 10, 1, 2, 3, 4, 1, 2, 11, 10, 7, 6, 17, 1, 2, 3, 7, 9, 1, 2, 3, 7, 17, 8, 1, 2, 8, 8, 3, 6, 8, 8, 1, 2, 3, 1, 2, 7, 8, 14, 3, 12, 1, 2, 3, 1, 8, 14, 4, 9, 6, 5, 4, 1, 5, 8, 2, 14, 3, 7, 9, 9, 11, 8, 16, 11, 2, 3, 7, 9, 1, 2, 3, 6, 11, 9, 5, 10, 14, 15, 14, 2, 8, 10, 5, 6, 1, 6, 16, 2, 3, 6, 8, 2, 11, 12, 2, 9, 2, 3, 5, 1, 10, 1, 2, 3, 15, 3, 11, 13, 9, 13, 1, 2, 3, 4, 7, 16, 2, 1, 2, 3, 4, 5, 6, 1, 2, 3, 4, 9, 13, 15, 6, 9, 1, 2, 3, 7, 8, 5, 1, 3, 12, 9, 5, 8, 14, 16, 16, 1, 2, 10, 15, 13, 4, 14, 5, 9, 10, 2, 10, 6, 5, 11, 15, 3, 4, 1, 3, 13, 16, 1, 3, 14, 9, 8, 12, 13, 15, 1, 1, 2, 5, 8, 1, 3, 15, 2, 3, 1, 2, 3, 4, 7, 1, 2, 3, 4, 6, 15, 12, 12, 1, 10, 1, 3, 4, 6, 9, 11, 1, 3, 12, 1, 2, 3, 11, 10, 7, 16, 2, 7, 12, 16, 5, 1, 12, 6, 1, 8, 9, 1, 2, 3, 8, 9, 7, 9, 17, 12, 13, 16, 13, 1, 2, 3, 4, 6, 8, 7, 6, 14, 1, 7, 8, 4, 1, 2, 4, 1, 2, 1, 2, 3, 4, 5, 8, 9, 10, 6, 7, 12, 13, 14, 16, 8, 13, 3, 13, 12, 1, 16, 14, 1, 5, 6, 1, 2, 3, 6, 7, 8, 9, 17, 6, 4, 9, 15, 17, 17, 1, 2, 4, 5, 16, 1, 9, 12, 2, 1, 3, 4, 8, 11, 1, 2, 3, 17, 3, 14, 3, 6, 13, 4, 5, 7, 11, 12, 13, 1, 2, 3, 4, 7, 14, 11, 3, 8, 1, 2, 1, 2, 7, 8, 14, 16, 2, 13, 15, 1, 13, 4, 4, 2, 5, 6, 11, 1, 3, 7, 9, 10, 8, 5, 9, 12, 13, 7, 14, 1, 2, 3, 1, 3, 4, 6, 9, 4, 6, 10, 1, 8, 9, 1, 2, 12, 14, 1, 13, 14, 13, 16, 17, 1, 2, 3, 13, 1, 2, 3, 4, 7, 8, 9, 16, 17, 12, 7, 13, 1, 17, 12, 1, 2, 3, 4, 5, 2, 15, 11, 1, 2, 3, 10, 7, 1, 15, 8, 3, 4, 6, 9, 12, 1, 2, 3, 4, 4, 5, 9, 12, 13, 10, 5, 10, 9, 11, 15, 13, 8, 11, 13, 14, 15, 2, 10, 2, 6, 4, 1, 2, 17, 17, 1, 2, 3, 4, 6, 11, 1, 5, 7, 11, 16, 8, 4, 5, 6, 7, 15, 1, 2, 3, 4, 5, 8, 11, 17, 1, 2, 3, 4, 9, 16, 1, 2, 3, 4, 5, 11, 9, 1, 7, 13, 1, 2, 3, 7, 12, 2, 12, 9, 9, 8, 8, 12, 16, 1, 2, 14, 11, 16, 1, 2, 10, 2, 9, 16, 1, 16, 5, 4, 6, 1, 5, 7, 10, 1, 6, 8, 9, 10, 6, 16, 1, 2, 3, 7, 1, 2, 3, 4, 8, 9, 13, 7, 6, 1, 9, 16, 1, 2, 1, 2, 7, 1, 14, 2, 3, 4, 6, 12, 10], \"Freq\": [0.3290275469355863, 0.6580550938711726, 0.831818967516312, 0.8922439866510645, 0.17841906954813688, 0.802885812966616, 0.8989699633157415, 0.7312191384641663, 0.17870293175573015, 0.7148117270229206, 0.1555037639418899, 0.7775188197094495, 0.8621423749425835, 0.9492385725972159, 0.25304457769672933, 0.5060891553934587, 0.08434819256557645, 0.08434819256557645, 0.8577571428680839, 0.09258754225303072, 0.09258754225303072, 0.7407003380242457, 0.7828537282525078, 0.8862907952253892, 0.916231125987842, 0.7970552546279459, 0.9133742232154598, 0.3820077026589444, 0.10914505790255555, 0.4638664960858611, 0.027286264475638887, 0.7255150210871923, 0.2486518192904622, 0.17148401330376703, 0.5487488425720545, 0.017148401330376702, 0.8800306283425886, 0.8631741541096986, 0.8716428542714904, 0.12349488513967176, 0.8027167534078664, 0.6897640177147688, 0.2759056070859075, 0.015328089282550418, 0.5378993633730859, 0.4209647191615455, 0.023386928842308082, 0.8951755417040855, 0.8252473702609547, 0.10339526043336884, 0.8271620834669507, 0.7739844441931678, 0.2618200540761045, 0.6109134595109105, 0.19630518645151837, 0.7361444491931939, 0.8742142518361132, 0.0771517124227721, 0.015430342484554422, 0.7560867817431667, 0.1388730823609898, 0.8999880011218336, 0.8257749859694515, 0.11875827208258008, 0.8313079045780606, 0.22043575954996256, 0.771525158424869, 0.13640992627964485, 0.6820496313982242, 0.06443714937627286, 0.25774859750509144, 0.5799343443864557, 0.7809908915068124, 0.8732526364435935, 0.9344738723237658, 0.22868535836977374, 0.17151401877733033, 0.2858566979622172, 0.34302803755466066, 0.8163032127701042, 0.8463869349298078, 0.8652204394950009, 0.10153732684801452, 0.10153732684801452, 0.7107612879361017, 0.9105980861737399, 0.8556344158211493, 0.35927970699303874, 0.032661791544821704, 0.09798537463446512, 0.22863254081375192, 0.2939561239033953, 0.7764325903453805, 0.15528651806907612, 0.8313299347243014, 0.9011094082537753, 0.08191903711397956, 0.9455445364657208, 0.05940410925329242, 0.8316575295460938, 0.05940410925329242, 0.34414259367922506, 0.4588567915723001, 0.7997507433234828, 0.8370553715962977, 0.08370553715962976, 0.835321233212787, 0.04913654313016393, 0.09827308626032787, 0.8371154650550636, 0.06428112471528243, 0.2571244988611297, 0.6428112471528242, 0.19268090196269297, 0.09634045098134648, 0.6262129313787521, 0.09634045098134648, 0.07891642920024525, 0.07891642920024525, 0.8286225066025752, 0.8493703972230492, 0.7644542936067411, 0.8497836090153068, 0.8962656926954184, 0.9384775035655818, 0.6338475931242037, 0.25353903724968146, 0.7060242878600882, 0.0730369952958712, 0.04869133019724746, 0.02434566509862373, 0.12172832549311866, 0.11481942437213195, 0.03827314145737732, 0.842009112062301, 0.12706755285630064, 0.2668418609982314, 0.5082702114252026, 0.05082702114252026, 0.02541351057126013, 0.08019923797584719, 0.8821916177343191, 0.8813499320181134, 0.9008556534934518, 0.17526034390408313, 0.7010413756163325, 0.7102899459130732, 0.940104997150781, 0.8564706865922193, 0.2586600369559464, 0.11496001642486507, 0.5460600780181091, 0.057480008212432536, 0.33776367683502345, 0.5629394613917058, 0.2972869262605466, 0.11891477050421864, 0.47565908201687457, 0.05945738525210932, 0.058114952281000595, 0.058114952281000595, 0.8136093319340084, 0.18319198665995495, 0.7327679466398198, 0.6798693784634315, 0.406384752270985, 0.5079809403387312, 0.2451203450434925, 0.686336966121779, 0.0490240690086985, 0.08430847240025435, 0.7587762516022892, 0.08430847240025435, 0.20678488284454602, 0.6203546485336381, 0.49727614543402443, 0.049727614543402444, 0.39782091634721956, 0.831504584429528, 0.1247256876644292, 0.8491211090630935, 0.6583423045885514, 0.7861373851185691, 0.14428421709438205, 0.7214210854719102, 0.7855545077372809, 0.38102895400235604, 0.13448080729494918, 0.38102895400235604, 0.033620201823737296, 0.04482693576498306, 0.011206733941245765, 0.886722493381731, 0.8411048586812954, 0.7540115094087838, 0.8053845674546248, 0.8309206237236012, 0.7989745588504432, 0.8554056245061463, 0.10692570306326829, 0.7143728022741531, 0.7554920327575291, 0.9001379223885653, 0.3425522329015685, 0.052700343523318226, 0.052700343523318226, 0.5270034352331823, 0.03891014969470083, 0.09727537423675207, 0.2918261227102562, 0.5058319460311108, 0.058365224542051244, 0.7324944277812904, 0.1831236069453226, 0.052321030555806454, 0.7495002835180963, 0.1248534358738583, 0.7699295212221262, 0.08323562391590553, 0.08620600175802906, 0.17241200351605812, 0.6896480140642325, 0.881658553386364, 0.6931317143279363, 0.7616531082084681, 0.7517680280263588, 0.8814696965264739, 0.06529405159455362, 0.03264702579727681, 0.12752494489727348, 0.12752494489727348, 0.6376247244863673, 0.19116698342529126, 0.25488931123372166, 0.4460562946590129, 0.06372232780843042, 0.9172144566960236, 0.053953791570354334, 0.9635535699452343, 0.27676242825412317, 0.27676242825412317, 0.09225414275137439, 0.36901657100549756, 0.8159516170380195, 0.2556211443244953, 0.7157392041085868, 0.2231688927791478, 0.037194815463191304, 0.037194815463191304, 0.1115844463895739, 0.5207274164846782, 0.74187316018276, 0.0890247792219312, 0.059349852814620796, 0.029674926407310398, 0.059349852814620796, 0.17735257514200164, 0.029558762523666942, 0.44338143785500417, 0.3251463877603364, 0.8799507147491717, 0.3565368072121983, 0.17826840360609916, 0.08913420180304958, 0.3119697063106735, 0.8081305361155088, 0.9081364274982237, 0.8651278524063036, 0.7893645584037248, 0.419545868790971, 0.25818207310213603, 0.2097729343954855, 0.0806818978444175, 0.016136379568883502, 0.838456123422899, 0.8855028471528722, 0.5877400586870927, 0.3232570322779009, 0.05877400586870926, 0.059034697177932784, 0.059034697177932784, 0.826485760491059, 0.1598571635383065, 0.7193572359223793, 0.7000199304293557, 0.6989558538520795, 0.8379438150914416, 0.04447187430831602, 0.8894374861663205, 0.9011683178888165, 0.830117080167463, 0.09497352576121153, 0.11396823091345384, 0.7597882060896922, 0.8758104260463035, 0.8546224510235623, 0.12208892157479462, 0.5263557327100167, 0.07740525481029657, 0.2322157644308897, 0.04644315288617794, 0.1083673567344152, 0.08795886239359925, 0.13193829359039888, 0.7476503303455937, 0.8559343695043152, 0.0951038188338128, 0.882314683612457, 0.8894056219618849, 0.8266240922343429, 0.843725713078452, 0.10905231949033463, 0.8178923961775096, 0.7551872757463844, 0.12586454595773075, 0.9245260778745901, 0.8506992145964042, 0.741815641269849, 0.8657038652515646, 0.1018475135590076, 0.5285759669264015, 0.07551085241805736, 0.3775542620902868, 0.9297609783330338, 0.9487378327461371, 0.1878914670498677, 0.2254697604598412, 0.09394573352493385, 0.16910232034488093, 0.07515658681994708, 0.0563674401149603, 0.1315240269349074, 0.03757829340997354, 0.9217888662675983, 0.7775897830567673, 0.6772484157535076, 0.9053904498760694, 0.147286210557904, 0.8248027791242624, 0.8018434837684232, 0.6859139464889488, 0.04104860125943527, 0.12314580377830579, 0.08209720251887054, 0.6978262214103995, 0.8755569683087162, 0.0373275064395175, 0.9331876609879376, 0.7861874975425451, 0.07487499976595668, 0.03743749988297834, 0.07487499976595668, 0.733581774242271, 0.5763785565650684, 0.3293591751800391, 0.16704433183874945, 0.6681773273549978, 0.7778496407089329, 0.8247508195974289, 0.738931540199574, 0.7294821930073603, 0.09431150539153743, 0.8488035485238369, 0.047155752695768716, 0.8639938957958729, 0.10403798499559669, 0.8323038799647735, 0.8573404394753961, 0.7038016331571311, 0.7656605078119519, 0.21093458402721377, 0.04218691680544275, 0.04218691680544275, 0.04218691680544275, 0.6328037520816413, 0.8096722573880821, 0.9378802149976068, 0.8514907698724556, 0.625889063407666, 0.312944531703833, 0.8381717958878406, 0.6626012025784096, 0.1656503006446024, 0.32398337160505114, 0.1079944572016837, 0.4319778288067348, 0.42234603782672653, 0.12067029652192188, 0.3620108895657656, 0.06555739012117097, 0.8522460715752226, 0.9263653030280126, 0.4203436198107505, 0.3566551925666974, 0.20380296718096994, 0.012737685448810621, 0.761794269722125, 0.8975521187338111, 0.07479600989448426, 0.3602634424939404, 0.17065110433923492, 0.3792246763094109, 0.05688370144641164, 0.6766821652157635, 0.15609559522108757, 0.15609559522108757, 0.27316729163690323, 0.03902389880527189, 0.31219119044217514, 0.06525512766571369, 0.06525512766571369, 0.13051025533142738, 0.6525512766571369, 0.8735710972114233, 0.8167247595085656, 0.08167247595085657, 0.7974742542531682, 0.06205164241559497, 0.8687229938183296, 0.9059148896992671, 0.8764589109503212, 0.7508092167415794, 0.18144689029653527, 0.5443406708896058, 0.688098945673479, 0.8129301780393456, 0.297902189459298, 0.60456620802034, 0.07885646191569652, 0.008761829101744058, 0.8876593421003439, 0.9065244188648368, 0.852939281408617, 0.8775654631266843, 0.928718883514164, 0.9107100695631248, 0.050246159186642866, 0.7034462286130001, 0.050246159186642866, 0.10049231837328573, 0.7596104241429029, 0.16880231647620064, 0.1760606619212974, 0.7922729786458383, 0.41801574614479065, 0.11943307032708304, 0.3582992109812491, 0.7860815275044489, 0.8313031252300975, 0.05937879465929268, 0.08906819198893902, 0.22457547827085378, 0.06416442236310108, 0.35290432299705593, 0.3208221118155054, 0.8765490254637776, 0.6965872398890742, 0.10328442742230687, 0.10328442742230687, 0.826275419378455, 0.6175675904833223, 0.9454366045821233, 0.11434472331149911, 0.17151708496724866, 0.45737889324599645, 0.22868944662299823, 0.7592899492437862, 0.15185798984875723, 0.07242883040385278, 0.07242883040385278, 0.7967171344423807, 0.40484250100704305, 0.09814363660776801, 0.47845022846286905, 0.6848929533041367, 0.09784185047201951, 0.09784185047201951, 0.14904202774405292, 0.7452101387202646, 0.9274974415337041, 0.1223072626766982, 0.1223072626766982, 0.611536313383491, 0.9240985056580993, 0.03868877699057222, 0.5416428778680111, 0.40623215840100835, 0.8742102964478898, 0.7544402418043893, 0.4250396925839556, 0.4250396925839556, 0.05312996157299445, 0.9003876846135247, 0.9155075955733047, 0.4225629637559849, 0.5282037046949811, 0.7312920493770523, 0.23402822440893528, 0.07800940813631176, 0.624075265090494, 0.8219762568832142, 0.8237849354326309, 0.8880610887565047, 0.7418455447040642, 0.7873176906804122, 0.8808335645627353, 0.14002883818648212, 0.07001441909324106, 0.7001441909324105, 0.8720016790835635, 0.7736131718584993, 0.0736774449389047, 0.0736774449389047, 0.03683872246945235, 0.8844764688555117, 0.03775441210682368, 0.6418250058160027, 0.18877206053411844, 0.11326323632047106, 0.8102529980588343, 0.1438885440813121, 0.7194427204065605, 0.7450866980015192, 0.8049955321683132, 0.681969148253736, 0.11010591513598579, 0.7707414059519005, 0.7583673197103361, 0.8313797099064112, 0.8936531652807895, 0.9551733316206624, 0.8723819870494154, 0.04361909935247077, 0.04361909935247077, 0.021809549676235385, 0.8243177966225759, 0.12364766949338638, 0.9277543635762258, 0.8322211271501926, 0.7565605618444584, 0.7386549013128879, 0.7599627071384377, 0.8754802778277928, 0.8004504900313558, 0.6262887506909772, 0.11387068194381404, 0.05693534097190702, 0.17080602291572106, 0.8475695760161543, 0.15397817507953276, 0.7698908753976638, 0.7353699601824151, 0.2654139787239049, 0.3981209680858573, 0.15482482092227784, 0.04423566312065081, 0.13270698936195244, 0.7442182478732278, 0.8008834129040571, 0.32410555477935954, 0.032410555477935955, 0.3565161102572955, 0.06482111095587191, 0.19446333286761572, 0.032410555477935955, 0.8133386145955297, 0.7941305988014188, 0.909638781561416, 0.6966498915482213, 0.14354392438662425, 0.8253775652230895, 0.10459727039373597, 0.8629274807483217, 0.01736135270260149, 0.7986222243196686, 0.05208405810780447, 0.01736135270260149, 0.08680676351300745, 0.01736135270260149, 0.01736135270260149, 0.05390697820175483, 0.8625116512280773, 0.05390697820175483, 0.05390697820175483, 0.701309993471169, 0.8302282011611511, 0.08302282011611511, 0.7008016555341738, 0.7542195933012407, 0.08772197193408755, 0.08772197193408755, 0.789497747406788, 0.912282318384439, 0.035087781476324575, 0.8537070416706986, 0.9456753834384335, 0.8992457091001979, 0.8122891404623764, 0.6181186025061999, 0.024724744100247997, 0.17307320870173598, 0.09889897640099199, 0.07417423230074399, 0.8308643774598798, 0.7498721520389929, 0.0834081669292109, 0.8340816692921089, 0.029053748070410466, 0.2905374807041047, 0.2614837326336942, 0.014526874035205233, 0.0435806221056157, 0.05810749614082093, 0.3050643547393099, 0.7213827409139414, 0.852081476888149, 0.7989650320256315, 0.19731064373443033, 0.7892425749377213, 0.8465117841687437, 0.03386047136674975, 0.10158141410024925, 0.7927883239944598, 0.6881803987326546, 0.07646448874807273, 0.20390530332819395, 0.6375834878248693, 0.8772287620652012, 0.8851290251097278, 0.4054829441064966, 0.4054829441064966, 0.10137073602662415, 0.08109658882129932, 0.6822243170715349, 0.14380097243544288, 0.7909053483949359, 0.08476007126949364, 0.16952014253898728, 0.08476007126949364, 0.5933204988864554, 0.9428147927027716, 0.9304282173346423, 0.3028484053146838, 0.6056968106293676, 0.04326405790209768, 0.9322826905310454, 0.904971461640028, 0.18131045439296814, 0.045327613598242035, 0.045327613598242035, 0.22663806799121017, 0.45327613598242034, 0.1358210361356726, 0.6791051806783629, 0.7612488741221, 0.8838048575156873, 0.8912279252468339, 0.21770415464445234, 0.3516759421179615, 0.3516759421179615, 0.050239420302565924, 0.01674647343418864, 0.8781192183198194, 0.05598885701470301, 0.8398328552205452, 0.05598885701470301, 0.8771564668302512, 0.1934246561604395, 0.5802739684813185, 0.14878819704649193, 0.014878819704649193, 0.014878819704649193, 0.014878819704649193, 0.014878819704649193, 0.014878819704649193, 0.9160838942090558, 0.871570929108173, 0.8996698510574295, 0.8716186371493155, 0.1605586088556885, 0.8027930442784426, 0.7121504719969741, 0.9013032926402391, 0.879129099742851, 0.7316505691030765, 0.12194176151717942, 0.8500232759474537, 0.6412811504647773, 0.13216588274002714, 0.6608294137001356, 0.6532069938291214, 0.13064139876582428, 0.13064139876582428, 0.866759268881302, 0.8818015657574513, 0.14759715140833338, 0.04919905046944446, 0.7379857570416669, 0.8484290806779212, 0.7703052478104171, 0.7794317441250852, 0.8678729079339332, 0.8705002159295946, 0.6355426133569628, 0.2824633837142057, 0.07061584592855143, 0.05374311385979306, 0.05374311385979306, 0.8061467078968958, 0.875188869247603, 0.4835760867429631, 0.3868608693943705, 0.8571951857247041, 0.1904080542222076, 0.12693870281480507, 0.06346935140740254, 0.06346935140740254, 0.06346935140740254, 0.5077548112592203, 0.8992353297112697, 0.8654823545788372, 0.1388279936007003, 0.6941399680035015, 0.0756184359255534, 0.7561843592555341, 0.0756184359255534, 0.633631955587819, 0.3168159777939095, 0.052802662965651594, 0.926634582321118, 0.8853187398329296, 0.20777937049349793, 0.7618576918094924, 0.7152180701808217, 0.8168552081963101, 0.29874011572953035, 0.1581565318568102, 0.47446959557043056, 0.01757294798409002, 0.01757294798409002, 0.01757294798409002, 0.01757294798409002, 0.08899585318016291, 0.8899585318016292, 0.6366307264578241, 0.9253642102901969, 0.8370080538002261, 0.14664732725631913, 0.07332366362815956, 0.07332366362815956, 0.6599129726534361, 0.7481286426154662, 0.907122126873569, 0.8030260983334369, 0.8257212535048302, 0.9561374355081527, 0.08439058536620264, 0.872036048784094, 0.1548316845740473, 0.23224752686107095, 0.4644950537221419, 0.90280594157263, 0.7155897540273313, 0.9418411742926127, 0.8352287608537743, 0.8447034099113627, 0.05279396311946017, 0.05279396311946017, 0.8666915435235785, 0.8588919800585249, 0.8412764529564751, 0.2288869703311537, 0.7629565677705124, 0.7642714651609392, 0.9184650459352199, 0.7983633967253291, 0.2305751393278027, 0.7246647236016656, 0.032939305618257524, 0.26614431318992776, 0.26614431318992776, 0.44357385531654625, 0.7256336871338824, 0.8849002057795232, 0.10717948295089295, 0.7502563806562507, 0.07596148222213031, 0.8355763044434334, 0.8793000648594748, 0.9358082560605102, 0.8196057598320897, 0.7277912483583313, 0.8258608693304738, 0.748372901214127, 0.9425037707608291, 0.7460909619169331, 0.8842532786781947, 0.1505054253762229, 0.06450232516123838, 0.5805209264511455, 0.1505054253762229, 0.02150077505374613, 0.07071101307075237, 0.7071101307075237, 0.14142202614150473, 0.8923708427425776, 0.08923708427425776, 0.2573592613268219, 0.09083268046829009, 0.5601348628877889, 0.06055512031219339, 0.812959485427493, 0.13549324757124884, 0.9072971676769643, 0.7677938681614209, 0.7772825159056871, 0.11838094632222028, 0.8286666242555419, 0.8676439156141911, 0.826670992450899, 0.7655823170114858, 0.38209922564291576, 0.5584527144011846, 0.029392248126378136, 0.9305485592161497, 0.8100921675213617, 0.7704796618990204, 0.9225993586820257, 0.410978168864019, 0.28254749109401306, 0.12843067777000594, 0.15411681332400712, 0.17534048197453936, 0.7013619278981574, 0.08767024098726968, 0.8297729806722423, 0.13970968636308925, 0.13970968636308925, 0.24449195113540617, 0.45405648068004, 0.2020063875939267, 0.5555175658832985, 0.2020063875939267, 0.8232798436516485, 0.8292471932833103, 0.7829903000632471, 0.891979183137189, 0.22022746118825515, 0.1321364767129531, 0.1321364767129531, 0.35236393790120824, 0.1321364767129531, 0.08484253646569491, 0.8484253646569491, 0.05656169097712994, 0.02828084548856497, 0.7968444867280822, 0.8734997914997522, 0.8615964695716682, 0.09314556427801819, 0.023286391069504548, 0.7327731256081632, 0.04484720087084825, 0.896944017416965, 0.7499941276008324, 0.8858074147853733, 0.2743331039537638, 0.10287491398266144, 0.5486662079075276, 0.4333315261059306, 0.05416644076324133, 0.10833288152648266, 0.05416644076324133, 0.27083220381620665, 0.8257871517841836, 0.8248632110599636, 0.22912039971868764, 0.687361199156063, 0.05728009992967191, 0.9259570404574718, 0.7615218649146234, 0.810766981719165, 0.8716482489135452, 0.07924074990123138, 0.807645558552287, 0.8454510966898259, 0.8880940377730006, 0.9140476956861221, 0.7550680068602207, 0.9510240204442661, 0.8081349676382168, 0.9216068019906245, 0.8632713381364356, 0.8232697672781193, 0.8630710222214941, 0.6492865496096434, 0.12985730992192868, 0.1412154574572552, 0.706077287286276, 0.8468029224790123, 0.0993718226697467, 0.24842955667436672, 0.1987436453394934, 0.4471732020138601, 0.7395917533909496, 0.13447122788926358, 0.06723561394463179, 0.09525867516115351, 0.8573280764503817, 0.7042756181054703, 0.6751411170778634, 0.1928974620222467, 0.09644873101112335, 0.7745600364813531, 0.8383404347917955, 0.24268072732060564, 0.6067018183015142, 0.8573258822809658, 0.7986675302012621, 0.13311125503354368, 0.1817971510022192, 0.5453914530066576, 0.1817971510022192, 0.13673635711123877, 0.7657235998229371, 0.027347271422247754, 0.027347271422247754, 0.16899372472315602, 0.7604717612542021, 0.7033670373957911, 0.23110732832898648, 0.5777683208224662, 0.6933605075264653, 0.17334012688161632, 0.04333503172040408, 0.892882431997316, 0.8913525923416037, 0.20354235646434793, 0.7586578740943878, 0.018503850587667993, 0.9234212657889072, 0.17932614316871437, 0.08966307158435718, 0.6276415010905003, 0.8828040815517326, 0.08828040815517327, 0.23161108005044284, 0.16034613234261427, 0.3741409754661, 0.0890811846347857, 0.12471365848869999, 0.585881989745577, 0.7778310082970163, 0.07695181042100668, 0.4617108625260401, 0.36936869002083206, 0.030780724168402673, 0.015390362084201336, 0.030780724168402673, 0.2958037877821775, 0.02465031564851479, 0.14790189389108874, 0.5423069442673253, 0.21326434619790882, 0.10663217309895441, 0.6397930385937265, 0.10811297267156948, 0.7567908087009864, 0.12876508349839583, 0.20602413359743332, 0.3862952504951875, 0.25753016699679165, 0.8831420044025401, 0.9390684492143858, 0.06077170567203169, 0.607717056720317, 0.24308682268812676, 0.8419461654025182, 0.3238070171726768, 0.6476140343453536, 0.648021350340963, 0.3240106751704815, 0.8338234012549136, 0.9276429255931762, 0.06626020897094115, 0.6692722201244478, 0.8122599291118041, 0.7596773858648611, 0.18632839396759623, 0.7453135758703849, 0.7459704428448773, 0.7606469654975474, 0.7608633441203371, 0.09510792257751967, 0.7608633806201573, 0.9269361492500291, 0.8352205129732465, 0.759404099213602, 0.8240323487606053, 0.8042336046074181, 0.10052920057592726, 0.09858432590002668, 0.7886746072002134, 0.848021095702354, 0.8323653467455088, 0.9000238358065465, 0.05625148973790916, 0.5762696674787119, 0.7721523867993798, 0.1905221559975133, 0.09526107799875665, 0.09526107799875665, 0.5715664679925399, 0.8724895912092039, 0.780748360891932, 0.17078870394511014, 0.8050280631457702, 0.9043423267875693, 0.8898925882223192, 0.03707885784259663, 0.03707885784259663, 0.8639593606080842, 0.8592685371620514, 0.35283338109219814, 0.1260119218186422, 0.42844053418338346, 0.07560715309118532, 0.8752237139335892, 0.32807258172597875, 0.0713201264621693, 0.5135049105276189, 0.0713201264621693, 0.855836153127587, 0.8667252946036965, 0.8392855869920514, 0.7440108653349495, 0.07908033379137737, 0.7908033379137737, 0.1637754107250742, 0.06551016429002968, 0.29479573930513353, 0.2620406571601187, 0.1637754107250742, 0.7768906784190701, 0.16111046136023943, 0.42962789696063847, 0.32222092272047886, 0.2506872755957646, 0.6423861437141468, 0.09400772834841173, 0.015667954724735287, 0.900707999758135, 0.8239403074128185, 0.8422618780029443, 0.3319160366210103, 0.5808530640867681, 0.21043390405774862, 0.7365186642021202, 0.7908519804882915, 0.9573898955298976, 0.8501080434979993, 0.7845432970813074, 0.5769392240588498, 0.2884696120294249, 0.04807826867157082, 0.3703234149348033, 0.5663769875473462, 0.0435674605805651, 0.9253518202795448, 0.061690121351969655, 0.8186850137919485, 0.8496425226475882, 0.8752509759891159, 0.07729767299950097, 0.8502744029945106, 0.07729767299950097, 0.7390063951152609, 0.34767655517582985, 0.04345956939697873, 0.08691913879395746, 0.3259467704773405, 0.04345956939697873, 0.15210849288942557, 0.8211573022704798, 0.8617675284604431, 0.8216826676100244, 0.14364757884023005, 0.14364757884023005, 0.7182378942011503, 0.8416502614832893, 0.5407568745271141, 0.33277346124745477, 0.10399170663982962, 0.3043582752142971, 0.642534136563516, 0.392380546384053, 0.20403788411970758, 0.2197331059750697, 0.0784761092768106, 0.01569522185536212, 0.03139044371072424, 0.01569522185536212, 0.03139044371072424, 0.10503822923603255, 0.10503822923603255, 0.052519114618016276, 0.10503822923603255, 0.4201529169441302, 0.2100764584720651, 0.7850346081996524, 0.8977195987386533, 0.8822591019037647, 0.82875877468669, 0.7121682046702636, 0.32739865023875986, 0.49109797535813976, 0.7649111047563402, 0.8783328644102953, 0.048796270245016406, 0.048796270245016406, 0.23475900949276493, 0.08803462855978685, 0.3521385142391474, 0.029344876186595616, 0.029344876186595616, 0.1760692571195737, 0.05868975237319123, 0.656841030740423, 0.8916374569585609, 0.7485550165297301, 0.737357649609157, 0.7593929190318756, 0.7849441431946075, 0.7466525743647103, 0.10685417622782077, 0.21370835245564154, 0.5876979692530142, 0.053427088113910386, 0.8041383715244212, 0.545455176997886, 0.40909138274841456, 0.8996134512711078, 0.915667963289112, 0.23414123835124961, 0.0334487483358928, 0.6689749667178561, 0.724609453480765, 0.8807202257274427, 0.23979369657254065, 0.20553745420503486, 0.548099877880093, 0.609048646004402, 0.9545585816645799, 0.7693710169978943, 0.9183672012284078, 0.06122448008189385, 0.758992753973895, 0.06548653490719347, 0.13097306981438694, 0.06548653490719347, 0.06548653490719347, 0.5893788141647412, 0.06548653490719347, 0.18725804083088254, 0.035110882655790474, 0.6319958878042286, 0.10533264796737143, 0.023407255103860318, 0.6190551152612329, 0.8939924338601204, 0.9498457471950881, 0.8254580569841182, 0.13418693538409035, 0.8386683461505647, 0.7696023441933766, 0.029600090161283715, 0.029600090161283715, 0.14800045080641858, 0.9117564798350761, 0.7352359348682951, 0.12406214104878595, 0.12406214104878595, 0.7443728462927157, 0.9402618313779693, 0.9004019916488529, 0.6725755740909728, 0.7644566272056672, 0.803711199329607, 0.17833507300644483, 0.7133402920257793, 0.7947721609336342, 0.22169357355324568, 0.07389785785108188, 0.5172850049575732, 0.07389785785108188, 0.9162107664419021, 0.9100246819855086, 0.6031909646652139, 0.3247951348197306, 0.04639930497424723, 0.8044502450370079, 0.904060566756887, 0.8761473342055508, 0.1589365439001462, 0.1059576959334308, 0.6887250235673001, 0.21261587494059583, 0.15462972722952426, 0.42523174988119167, 0.09664357951845266, 0.07731486361476213, 0.5769669431824557, 0.1616595035907095, 0.8082975179535474, 0.8610359670553255, 0.0748726927874196, 0.0374363463937098, 0.33113338535674885, 0.24835003901756167, 0.3725250585263425, 0.6241397623467322, 0.36173603037191654, 0.5426040455578748, 0.62873962904511, 0.18666111676437744, 0.18666111676437744, 0.5599833502931323, 0.33174119500258675, 0.4312635535033628, 0.2156317767516814, 0.6725657213427566, 0.614155778074056, 0.036126810474944475, 0.12644383666230566, 0.018063405237472237, 0.036126810474944475, 0.10838043142483342, 0.05419021571241671, 0.7977257993510017, 0.8779779573773828, 0.9261732371829765, 0.851523111632629, 0.7971497493971997, 0.9492778443004461, 0.8292600330282963, 0.7272756272833153, 0.22129330323932636, 0.26152844928284025, 0.3822338874133819, 0.08047029208702776, 0.02011757302175694, 0.8903763999172573, 0.9541063748463221, 0.8866563034546989, 0.794427399555932, 0.0378298761693301, 0.0756597523386602, 0.0378298761693301, 0.8976145842122741, 0.8934353258505242, 0.8757353063479664, 0.8281544687290425, 0.2671273767436653, 0.6678184418591634, 0.8034153626284842, 0.8902199835594354, 0.6983818138331479, 0.3806318404141638, 0.11101762012079777, 0.47578980051770475, 0.015859660017256826, 0.5746628667543273, 0.6790736950137388, 0.7691770982225412, 0.8109979575848139, 0.7288175128219037, 0.6923905770248938, 0.14479027115504264, 0.7239513557752132, 0.8762608904249486, 0.9011668251790812, 0.8943796742266094, 0.7500869119582471, 0.08681699325489003, 0.08681699325489003, 0.08681699325489003, 0.6945359460391203, 0.08681699325489003, 0.8987797776193642, 0.8893555164668785, 0.8754777779109424, 0.05836518519406282, 0.7404164615110733, 0.8719086535538468, 0.10257748865339374, 0.7875249924463018, 0.8403552658731457, 0.6493504027246543, 0.23612741917260155, 0.05903185479315039, 0.04427389109486279, 0.8051999810456796, 0.7624780510319205, 0.18378161403262622, 0.18378161403262622, 0.09189080701631311, 0.45945403508156557, 0.8942300226893479, 0.71244714657572, 0.0726107192737687, 0.5082750349163809, 0.1452214385475374, 0.0726107192737687, 0.0726107192737687, 0.2518311693412015, 0.03434061400107293, 0.5494498240171669, 0.11446871333690976, 0.011446871333690977, 0.03434061400107293, 0.7320023883586617, 0.6340457669665084, 0.4994027225828172, 0.057623391067248134, 0.36494814342590487, 0.038415594044832094, 0.11494344915693305, 0.8046041440985313, 0.11926109302135005, 0.2146699674384301, 0.5963054651067502, 0.02385221860427001, 0.02385221860427001, 0.8082777515588309, 0.8137717722319481, 0.06412031605183856, 0.8335641086739012, 0.06412031605183856, 0.29355840536537, 0.6290537257829356, 0.041936915052195704, 0.020968457526097852, 0.8156210898575263, 0.9005854061171975, 0.06432752900837126, 0.8630590172150984, 0.892959553385006, 0.7617884239724773, 0.8591838736150923, 0.8120683852489949, 0.7316896690873238, 0.05041018404065475, 0.8569731286911307, 0.8910486982060327, 0.8115045474559673, 0.9027270577130513, 0.3422991949283264, 0.6275485240352651, 0.7926268111502952, 0.9111325366207237, 0.13783229742004838, 0.6891614871002419, 0.8732246816221456, 0.06717112935554967, 0.7481659549081819, 0.7536012234678797, 0.754354653372857, 0.8890601690142456, 0.06947475662542307, 0.6252728096288077, 0.2778990265016923, 0.16900594730502164, 0.03380118946100433, 0.5746202208370736, 0.16900594730502164, 0.03380118946100433, 0.13900703194515063, 0.6950351597257531, 0.33224881506765475, 0.6389400289762591, 0.025557601159050366, 0.7587651979331582, 0.43734719038258185, 0.2753667495001441, 0.19437652905892527, 0.04859413226473132, 0.01619804408824377, 0.01619804408824377, 0.7726206001877297, 0.8822232346813631, 0.7913050606265317, 0.939535537885173, 0.8682563988981598, 0.8359609340838462, 0.801389523809457, 0.12020842857141856, 0.4628922871237458, 0.2104055850562481, 0.29456781907874735, 0.16509394912978836, 0.8254697456489418, 0.2207931898876174, 0.14719545992507826, 0.515184109737774, 0.07359772996253913, 0.9155421899040221, 0.7768786704740586], \"Term\": [\"act\", \"act\", \"actionbar\", \"active\", \"activity\", \"activity\", \"activitythread\", \"adapter\", \"adjust\", \"adjust\", \"administrator\", \"administrator\", \"agent\", \"ajax\", \"algorithm\", \"algorithm\", \"algorithm\", \"algorithm\", \"alias\", \"align\", \"align\", \"align\", \"alloc\", \"alpha\", \"alter\", \"alternate\", \"amazon\", \"amp\", \"amp\", \"amp\", \"amp\", \"anchor\", \"android\", \"android\", \"android\", \"android\", \"androidruntime\", \"annotation\", \"anonymous\", \"apache\", \"apache\", \"app\", \"app\", \"app\", \"application\", \"application\", \"application\", \"apt\", \"arbitrary\", \"architecture\", \"architecture\", \"archive\", \"area\", \"area\", \"argument\", \"argument\", \"arr\", \"array\", \"array\", \"array\", \"array\", \"arraylist\", \"arrow\", \"asp\", \"asp\", \"assembly\", \"assembly\", \"assert\", \"assert\", \"async\", \"async\", \"async\", \"asynchronous\", \"aug\", \"authentication\", \"auto\", \"auto\", \"auto\", \"auto\", \"autocomplete\", \"average\", \"aw\", \"await\", \"await\", \"await\", \"awk\", \"axis\", \"background\", \"background\", \"background\", \"background\", \"background\", \"bash\", \"bash\", \"bat\", \"batch\", \"batch\", \"bean\", \"bin\", \"bin\", \"bin\", \"binary\", \"binary\", \"bitmap\", \"blank\", \"blank\", \"body\", \"body\", \"body\", \"boot\", \"border\", \"border\", \"border\", \"box\", \"box\", \"box\", \"box\", \"branch\", \"branch\", \"branch\", \"brew\", \"bring\", \"browse\", \"bucket\", \"buffer\", \"builder\", \"builder\", \"button\", \"button\", \"button\", \"button\", \"button\", \"byte\", \"byte\", \"byte\", \"c\", \"c\", \"c\", \"c\", \"c\", \"c++\", \"c++\", \"caller\", \"camera\", \"canvas\", \"canvas\", \"car\", \"card\", \"cardview\", \"case\", \"case\", \"case\", \"case\", \"cast\", \"cast\", \"catch\", \"catch\", \"catch\", \"catch\", \"cell\", \"cell\", \"cell\", \"center\", \"center\", \"cert\", \"certificate\", \"certificate\", \"char\", \"char\", \"char\", \"character\", \"character\", \"character\", \"checkbox\", \"checkbox\", \"child\", \"child\", \"child\", \"chrome\", \"chrome\", \"circle\", \"circular\", \"circumstance\", \"clang\", \"clang\", \"clarify\", \"class\", \"class\", \"class\", \"class\", \"class\", \"class\", \"classloader\", \"clause\", \"clearly\", \"closure\", \"cls\", \"cmake\", \"cmd\", \"cmd\", \"cocoapod\", \"codebase\", \"col\", \"color\", \"color\", \"color\", \"color\", \"column\", \"column\", \"column\", \"column\", \"column\", \"com\", \"com\", \"com\", \"comma\", \"command\", \"command\", \"command\", \"commit\", \"commit\", \"commit\", \"commons\", \"community\", \"completion\", \"complexity\", \"component\", \"component\", \"component\", \"compute\", \"compute\", \"compute\", \"condition\", \"condition\", \"condition\", \"condition\", \"connect\", \"connect\", \"connection\", \"constant\", \"constant\", \"constant\", \"constant\", \"constexpr\", \"constructor\", \"constructor\", \"container\", \"container\", \"container\", \"container\", \"container\", \"content\", \"content\", \"content\", \"content\", \"content\", \"convert\", \"convert\", \"convert\", \"convert\", \"coordinate\", \"count\", \"count\", \"count\", \"count\", \"counter\", \"cout\", \"cpp\", \"cpu\", \"create\", \"create\", \"create\", \"create\", \"create\", \"cron\", \"cross\", \"css\", \"css\", \"css\", \"csv\", \"csv\", \"csv\", \"curl\", \"curl\", \"customize\", \"dagger\", \"dat\", \"dataframe\", \"dataframe\", \"dataset\", \"datatable\", \"date\", \"date\", \"date\", \"datepicker\", \"datetime\", \"datetime\", \"datum\", \"datum\", \"datum\", \"datum\", \"datum\", \"day\", \"day\", \"day\", \"decimal\", \"decimal\", \"decode\", \"decoder\", \"decrypt\", \"delay\", \"dependency\", \"dependency\", \"deprecate\", \"deprecate\", \"derive\", \"desc\", \"destroy\", \"device\", \"device\", \"dialog\", \"dialog\", \"dialog\", \"dict\", \"dictionary\", \"difference\", \"difference\", \"difference\", \"difference\", \"difference\", \"difference\", \"difference\", \"difference\", \"digit\", \"dim\", \"dimension\", \"directive\", \"directory\", \"directory\", \"dirname\", \"dispatch\", \"django\", \"django\", \"django\", \"django\", \"dll\", \"docker\", \"docker\", \"document\", \"document\", \"document\", \"document\", \"dog\", \"domain\", \"domain\", \"drag\", \"drag\", \"drive\", \"driver\", \"dtype\", \"eax\", \"eclipse\", \"eclipse\", \"eclipse\", \"edittext\", \"efficient\", \"efficient\", \"elegant\", \"elem\", \"emac\", \"email\", \"email\", \"email\", \"email\", \"email\", \"employee\", \"emulator\", \"encapsulate\", \"encode\", \"encode\", \"encrypt\", \"endif\", \"endif\", \"engine\", \"engine\", \"engine\", \"entity\", \"entity\", \"entity\", \"equal\", \"equal\", \"err\", \"error\", \"error\", \"error\", \"error\", \"eslint\", \"event\", \"event\", \"example\", \"example\", \"example\", \"example\", \"exceed\", \"exception\", \"exception\", \"exception\", \"exception\", \"exception\", \"exe\", \"exe\", \"exe\", \"exe\", \"execution\", \"exit\", \"exit\", \"expose\", \"expression\", \"expression\", \"external\", \"facebook\", \"factor\", \"feb\", \"feb\", \"fff\", \"fiddler\", \"file\", \"file\", \"file\", \"file\", \"fill_parent\", \"findviewbyid\", \"firebase\", \"fixture\", \"flask\", \"flex\", \"float\", \"float\", \"float\", \"float\", \"flutter\", \"flutter\", \"folder\", \"folder\", \"font\", \"font\", \"font\", \"footer\", \"form\", \"form\", \"form\", \"format\", \"format\", \"format\", \"format\", \"formatter\", \"forum\", \"forward\", \"forward\", \"forward\", \"foundation\", \"fragment\", \"frame\", \"frame\", \"frame\", \"frame\", \"fun\", \"fun\", \"func\", \"func\", \"func\", \"function\", \"function\", \"function\", \"gcc\", \"gcc\", \"gcc\", \"generator\", \"generator\", \"generic\", \"gets\", \"gets\", \"gets\", \"ggplot\", \"git\", \"git\", \"git\", \"gmail\", \"gradient\", \"gradle\", \"gradle\", \"gradle\", \"green\", \"grep\", \"grid\", \"grid\", \"groovy\", \"group\", \"group\", \"group\", \"grunt\", \"gson\", \"guarantee\", \"guideline\", \"happy\", \"hardware\", \"hash\", \"hash\", \"hash\", \"haskell\", \"header\", \"header\", \"header\", \"header\", \"heap\", \"height\", \"height\", \"height\", \"height\", \"helloworld\", \"helper\", \"helper\", \"hex\", \"hibernate\", \"hidden\", \"history\", \"history\", \"homebrew\", \"horizontally\", \"hover\", \"href\", \"html\", \"html\", \"html\", \"html\", \"http\", \"http\", \"icon\", \"identify\", \"idle\", \"ids\", \"ienumerable\", \"iframe\", \"iis\", \"image\", \"image\", \"image\", \"image\", \"imageview\", \"imagine\", \"imagine\", \"immutable\", \"import\", \"import\", \"import\", \"import\", \"import\", \"incompatible\", \"increment\", \"index\", \"index\", \"index\", \"index\", \"index\", \"index\", \"inf\", \"inflate\", \"inspect\", \"inspector\", \"instal\", \"instal\", \"install\", \"install\", \"int\", \"int\", \"int\", \"int\", \"int\", \"int\", \"int\", \"integer\", \"integer\", \"integer\", \"integer\", \"intel\", \"intellij\", \"intellij\", \"invisible\", \"invocation\", \"invoke\", \"invoke\", \"invoke\", \"io\", \"io\", \"ipad\", \"iphone\", \"ipython\", \"iso\", \"item\", \"item\", \"item\", \"item\", \"item\", \"iterate\", \"iterator\", \"jar\", \"jar\", \"java\", \"java\", \"java\", \"java\", \"java\", \"java\", \"java\", \"javadoc\", \"javafx\", \"jdk\", \"jenkin\", \"jenkin\", \"jquery\", \"jquery\", \"jquery\", \"jre\", \"json\", \"json\", \"json\", \"jsonobject\", \"kafka\", \"kernel\", \"key\", \"key\", \"key\", \"key\", \"knockout\", \"kotlin\", \"kotlin\", \"lang\", \"lang\", \"lang\", \"lang\", \"laravel\", \"launch\", \"layout\", \"layout\", \"layout\", \"layout_height\", \"layout_width\", \"leave\", \"leave\", \"leave\", \"leave\", \"leave\", \"left\", \"left\", \"legend\", \"len\", \"letter\", \"line\", \"line\", \"line\", \"line\", \"line\", \"linearlayout\", \"linux\", \"linux\", \"linux\", \"lion\", \"list\", \"list\", \"list\", \"list\", \"list\", \"list\", \"list\", \"list\", \"listen\", \"listener\", \"listview\", \"literal\", \"live\", \"live\", \"loadclass\", \"locale\", \"localhost\", \"locally\", \"locally\", \"lock\", \"lodash\", \"logger\", \"logger\", \"logic\", \"logic\", \"logic\", \"logical\", \"lookup\", \"loop\", \"loop\", \"loop\", \"loss\", \"macro\", \"mail\", \"mainactivity\", \"makefile\", \"margin\", \"margin\", \"margin\", \"master\", \"master\", \"master\", \"match_parent\", \"matplotlib\", \"matplotlib\", \"maven\", \"max\", \"max\", \"max\", \"max\", \"max\", \"max\", \"maximum\", \"measure\", \"medium\", \"medium\", \"member\", \"member\", \"member\", \"memory\", \"memory\", \"memory\", \"menu\", \"mercurial\", \"merge\", \"merge\", \"mess\", \"metadata\", \"method\", \"method\", \"method\", \"method\", \"method\", \"method\", \"method\", \"microsoft\", \"microsoft\", \"middleware\", \"migration\", \"millisecond\", \"min\", \"min\", \"min\", \"min\", \"minimum\", \"minute\", \"mistake\", \"mock\", \"modal\", \"module\", \"module\", \"mongodb\", \"mongodb\", \"mongodb\", \"mongoose\", \"monitor\", \"month\", \"mouse\", \"mvc\", \"mvc\", \"mvc\", \"myclass\", \"myobject\", \"myproject\", \"mysql\", \"mysql\", \"navbar\", \"nbsp\", \"near\", \"net\", \"net\", \"net\", \"nil\", \"nil\", \"nil\", \"node_env\", \"node_modules\", \"nodejs\", \"nodejs\", \"notification\", \"notification\", \"notify\", \"npm\", \"nsdate\", \"nslog\", \"nsstre\", \"nsurl\", \"nuget\", \"nullable\", \"num\", \"number\", \"number\", \"number\", \"number\", \"number\", \"numpy\", \"numpy\", \"numpy\", \"obj\", \"obj\", \"object\", \"object\", \"object\", \"object\", \"objective\", \"objective\", \"observable\", \"observe\", \"occurrence\", \"offset\", \"offset\", \"onchange\", \"oncreate\", \"opacity\", \"open\", \"open\", \"open\", \"opencv\", \"openssl\", \"operand\", \"operator\", \"option\", \"option\", \"option\", \"option\", \"optional\", \"optional\", \"optional\", \"orange\", \"order\", \"order\", \"order\", \"order\", \"org\", \"org\", \"org\", \"organize\", \"orientation\", \"overlap\", \"overload\", \"override\", \"override\", \"override\", \"override\", \"override\", \"package\", \"package\", \"package\", \"package\", \"pad\", \"padding\", \"page\", \"page\", \"page\", \"pagination\", \"panda\", \"panda\", \"panel\", \"paragraph\", \"parameter\", \"parameter\", \"parameter\", \"parent\", \"parent\", \"parent\", \"parent\", \"parent\", \"partial\", \"partition\", \"path\", \"path\", \"path\", \"pdf\", \"percentage\", \"permanently\", \"person\", \"person\", \"photo\", \"picture\", \"pid\", \"pip\", \"pipeline\", \"placeholder\", \"plt\", \"pod\", \"pointer\", \"policy\", \"pool\", \"pop\", \"pop\", \"populate\", \"populate\", \"popup\", \"position\", \"position\", \"position\", \"position\", \"post\", \"post\", \"post\", \"postgre\", \"postgre\", \"postman\", \"practice\", \"practice\", \"practice\", \"precision\", \"predicate\", \"preference\", \"preference\", \"prefix\", \"price\", \"price\", \"primary\", \"primary\", \"primary\", \"print\", \"print\", \"print\", \"print\", \"printf\", \"printf\", \"privilege\", \"procedure\", \"procedure\", \"process\", \"process\", \"process\", \"profile\", \"programmatically\", \"project\", \"project\", \"project\", \"promise\", \"prompt\", \"prompt\", \"prompt\", \"proxy\", \"proxy\", \"public\", \"public\", \"public\", \"public\", \"public\", \"purchase\", \"pycharm\", \"python\", \"python\", \"python\", \"python\", \"python\", \"python\", \"query\", \"query\", \"query\", \"query\", \"queue\", \"queue\", \"queue\", \"quote\", \"quote\", \"r\", \"r\", \"r\", \"r\", \"radius\", \"random\", \"range\", \"range\", \"range\", \"rate\", \"raw\", \"raw\", \"razor\", \"razor\", \"reach\", \"react\", \"react\", \"readable\", \"reader\", \"readline\", \"readonly\", \"readonly\", \"recognize\", \"rectangle\", \"recursively\", \"red\", \"red\", \"redirect\", \"reduce\", \"reflect\", \"regard\", \"regex\", \"regex\", \"regular\", \"regular\", \"rel\", \"reloaddata\", \"render\", \"render\", \"repl\", \"reply\", \"represent\", \"represent\", \"represent\", \"represent\", \"req\", \"request\", \"request\", \"requirejs\", \"resize\", \"response\", \"response\", \"response\", \"restart\", \"restriction\", \"result\", \"result\", \"result\", \"result\", \"retrofit\", \"return\", \"return\", \"return\", \"return\", \"reverse\", \"review\", \"revision\", \"room\", \"round\", \"round\", \"row\", \"row\", \"row\", \"row\", \"row\", \"rspec\", \"ruby\", \"ruby\", \"ruby\", \"run\", \"run\", \"run\", \"run\", \"rust\", \"savedinstancestate\", \"sbt\", \"scala\", \"scala\", \"scale\", \"scale\", \"scan\", \"schema\", \"scheme\", \"score\", \"screen\", \"screen\", \"screen\", \"script\", \"script\", \"script\", \"scroll\", \"scroll\", \"scrollview\", \"se\", \"secret\", \"security\", \"security\", \"security\", \"seed\", \"select\", \"select\", \"select\", \"select\", \"select\", \"select\", \"sentence\", \"sep\", \"separator\", \"sequence\", \"sequence\", \"sequence\", \"serializable\", \"server\", \"server\", \"server\", \"service\", \"service\", \"set\", \"set\", \"set\", \"set\", \"set\", \"set\", \"set\", \"set\", \"setting\", \"setting\", \"setting\", \"setting\", \"setting\", \"setting\", \"shadow\", \"shape\", \"sheet\", \"shift\", \"shutdown\", \"signal\", \"signal\", \"singleton\", \"site\", \"site\", \"site\", \"size\", \"size\", \"size\", \"size\", \"size\", \"size\", \"size\", \"size_t\", \"sizeof\", \"soft\", \"solid\", \"somebody\", \"someclass\", \"soon\", \"sort\", \"sort\", \"sort\", \"sort\", \"sourcetree\", \"span\", \"span\", \"split\", \"spring\", \"sql\", \"sql\", \"sql\", \"stable\", \"startup\", \"static\", \"static\", \"static\", \"statuscode\", \"std\", \"story\", \"str\", \"str\", \"straight\", \"stream\", \"stream\", \"stream\", \"stream\", \"stream\", \"stream\", \"string\", \"string\", \"string\", \"string\", \"string\", \"stringify\", \"strong\", \"struct\", \"student\", \"studio\", \"studio\", \"style\", \"style\", \"style\", \"style\", \"subclass\", \"subdirectory\", \"subject\", \"subject\", \"subject\", \"submit\", \"subscribe\", \"substre\", \"subtract\", \"sudo\", \"sum\", \"sum\", \"sun\", \"super\", \"super\", \"super\", \"super\", \"svg\", \"svn\", \"swift\", \"swift\", \"swift\", \"sy\", \"symbol\", \"symfony\", \"syntax\", \"syntax\", \"syntax\", \"table\", \"table\", \"table\", \"table\", \"table\", \"tablet\", \"tableview\", \"tableview\", \"tag\", \"tag\", \"tag\", \"task\", \"task\", \"task\", \"tbody\", \"temp\", \"temp\", \"templateurl\", \"terminate\", \"terminate\", \"terminate\", \"test\", \"test\", \"test\", \"tester\", \"text\", \"text\", \"text\", \"text\", \"text\", \"text\", \"text\", \"textarea\", \"textbox\", \"textfield\", \"textview\", \"tfs\", \"theme\", \"threading\", \"tick\", \"time\", \"time\", \"time\", \"time\", \"time\", \"timer\", \"timestamp\", \"timezone\", \"title\", \"title\", \"title\", \"title\", \"toast\", \"tomcat\", \"topic\", \"touch\", \"track\", \"track\", \"transaction\", \"transparent\", \"tsconfig\", \"type\", \"type\", \"type\", \"type\", \"typename\", \"uibutton\", \"uicolor\", \"uiimage\", \"uint\", \"uitableview\", \"uiview\", \"uiview\", \"uiviewcontroller\", \"unexpected\", \"unicode\", \"union\", \"unique\", \"unique\", \"unique\", \"unique\", \"unique\", \"unix\", \"unsigned\", \"upload\", \"upload\", \"upstream\", \"url\", \"url\", \"urlencode\", \"urllib\", \"user\", \"user\", \"user\", \"user\", \"user_id\", \"utc\", \"util\", \"util\", \"util\", \"util\", \"uuid\", \"vagrant\", \"val\", \"val\", \"val\", \"val\", \"val\", \"value\", \"value\", \"value\", \"value\", \"value\", \"value\", \"valueerror\", \"valueof\", \"var\", \"var\", \"var\", \"var\", \"varchar\", \"varchar\", \"variable\", \"variable\", \"variable\", \"variable\", \"variable\", \"vary\", \"vba\", \"vector\", \"vector\", \"vector\", \"version\", \"version\", \"version\", \"version\", \"versus\", \"video\", \"video\", \"viewcontroller\", \"viewdidload\", \"viewmodel\", \"vim\", \"virtualenv\", \"visibility\", \"visual\", \"visual\", \"volume\", \"vuejs\", \"watch\", \"web\", \"web\", \"webkit\", \"webpack\", \"webpage\", \"webpage\", \"website\", \"website\", \"websocket\", \"week\", \"weight\", \"white\", \"widget\", \"widget\", \"widget\", \"width\", \"width\", \"width\", \"width\", \"width\", \"win\", \"win\", \"window\", \"window\", \"window\", \"wordpress\", \"work\", \"work\", \"work\", \"work\", \"work\", \"work\", \"workspace\", \"wrap_content\", \"wrapper\", \"www\", \"xamarin\", \"xampp\", \"xcode\", \"xcode\", \"xml\", \"xml\", \"xml\", \"xpath\", \"xpath\", \"year\", \"year\", \"year\", \"year\", \"zip\", \"zone\"]}, \"R\": 30, \"lambda.step\": 0.01, \"plot.opts\": {\"xlab\": \"PC1\", \"ylab\": \"PC2\"}, \"topic.order\": [12, 15, 8, 13, 6, 1, 10, 14, 2, 17, 11, 4, 5, 7, 16, 3, 9]};\n",
       "\n",
       "function LDAvis_load_lib(url, callback){\n",
       "  var s = document.createElement('script');\n",
       "  s.src = url;\n",
       "  s.async = true;\n",
       "  s.onreadystatechange = s.onload = callback;\n",
       "  s.onerror = function(){console.warn(\"failed to load library \" + url);};\n",
       "  document.getElementsByTagName(\"head\")[0].appendChild(s);\n",
       "}\n",
       "\n",
       "if(typeof(LDAvis) !== \"undefined\"){\n",
       "   // already loaded: just create the visualization\n",
       "   !function(LDAvis){\n",
       "       new LDAvis(\"#\" + \"ldavis_el1390426646823564008089733532\", ldavis_el1390426646823564008089733532_data);\n",
       "   }(LDAvis);\n",
       "}else if(typeof define === \"function\" && define.amd){\n",
       "   // require.js is available: use it to load d3/LDAvis\n",
       "   require.config({paths: {d3: \"https://d3js.org/d3.v5\"}});\n",
       "   require([\"d3\"], function(d3){\n",
       "      window.d3 = d3;\n",
       "      LDAvis_load_lib(\"https://cdn.jsdelivr.net/gh/bmabey/pyLDAvis@3.3.1/pyLDAvis/js/ldavis.v3.0.0.js\", function(){\n",
       "        new LDAvis(\"#\" + \"ldavis_el1390426646823564008089733532\", ldavis_el1390426646823564008089733532_data);\n",
       "      });\n",
       "    });\n",
       "}else{\n",
       "    // require.js not available: dynamically load d3 & LDAvis\n",
       "    LDAvis_load_lib(\"https://d3js.org/d3.v5.js\", function(){\n",
       "         LDAvis_load_lib(\"https://cdn.jsdelivr.net/gh/bmabey/pyLDAvis@3.3.1/pyLDAvis/js/ldavis.v3.0.0.js\", function(){\n",
       "                 new LDAvis(\"#\" + \"ldavis_el1390426646823564008089733532\", ldavis_el1390426646823564008089733532_data);\n",
       "            })\n",
       "         });\n",
       "}\n",
       "</script>"
      ],
      "text/plain": [
       "PreparedData(topic_coordinates=               x           y  topics  cluster       Freq\n",
       "topic                                                   \n",
       "11      2.972113  -13.786730       1        1  26.792096\n",
       "14     -7.288966   86.150291       2        1  18.595851\n",
       "7      38.049393   65.587624       3        1  15.389603\n",
       "12    -42.227043    6.162611       4        1   4.555888\n",
       "5     -63.238548  -41.294518       5        1   3.737461\n",
       "0     -48.099060   56.473579       6        1   3.391758\n",
       "9     -48.087841  120.044159       7        1   3.281713\n",
       "13     17.708776  131.640900       8        1   3.262763\n",
       "1      92.846191   -8.328438       9        1   2.989907\n",
       "16     47.892864  -45.589878      10        1   2.786143\n",
       "10     92.039185   50.145565      11        1   2.419801\n",
       "3     -94.766495   15.104293      12        1   2.369940\n",
       "4      -9.109381  -64.732552      13        1   2.329109\n",
       "6     -94.606842   77.712318      14        1   2.154078\n",
       "15     44.945538   14.845922      15        1   2.121833\n",
       "2      -1.493484   35.842178      16        1   2.106182\n",
       "8      71.312836  105.574364      17        1   1.715876, topic_info=            Term        Freq       Total Category  logprob  loglift\n",
       "710      android  116.000000  116.000000  Default  30.0000  30.0000\n",
       "707         java   68.000000   68.000000  Default  29.0000  29.0000\n",
       "1300        date   52.000000   52.000000  Default  28.0000  28.0000\n",
       "1         column   51.000000   51.000000  Default  27.0000  27.0000\n",
       "950        color   37.000000   37.000000  Default  26.0000  26.0000\n",
       "...          ...         ...         ...      ...      ...      ...\n",
       "262          exe    9.982819   15.324466  Topic17  -3.7015   3.6367\n",
       "1717        gets    5.044292    8.176129  Topic17  -4.3841   3.5823\n",
       "373   matplotlib    4.286203   10.339635  Topic17  -4.5470   3.1847\n",
       "1771    constant    3.739793   10.839622  Topic17  -4.6833   3.0011\n",
       "477    terminate    2.922804    5.357302  Topic17  -4.9298   3.4593\n",
       "\n",
       "[817 rows x 6 columns], token_table=      Topic      Freq       Term\n",
       "term                            \n",
       "2639     11  0.329028        act\n",
       "2639     15  0.658055        act\n",
       "2098      8  0.831819  actionbar\n",
       "945       1  0.892244     active\n",
       "1468      1  0.178419   activity\n",
       "...     ...       ...        ...\n",
       "17        3  0.147195       year\n",
       "17        4  0.515184       year\n",
       "17        6  0.073598       year\n",
       "1858     12  0.915542        zip\n",
       "1575     10  0.776879       zone\n",
       "\n",
       "[1407 rows x 3 columns], R=30, lambda_step=0.01, plot_opts={'xlab': 'PC1', 'ylab': 'PC2'}, topic_order=[12, 15, 8, 13, 6, 1, 10, 14, 2, 17, 11, 4, 5, 7, 16, 3, 9])"
      ]
     },
     "execution_count": 20,
     "metadata": {},
     "output_type": "execute_result"
    }
   ],
   "source": [
    "pyLDAvis.enable_notebook()\n",
    "plot=pyLDAvis.gensim_models.prepare(lda_model, corpus, dictionary,mds='tsne')\n",
    "plot"
   ]
  },
  {
   "cell_type": "code",
   "execution_count": 21,
   "id": "57895937",
   "metadata": {},
   "outputs": [],
   "source": [
    "#pyLDAvis.save_html(plot, 'lda.html')"
   ]
  },
  {
   "cell_type": "markdown",
   "id": "e2694bba",
   "metadata": {},
   "source": [
    "#### Test model"
   ]
  },
  {
   "cell_type": "code",
   "execution_count": 22,
   "id": "a18f97a6",
   "metadata": {},
   "outputs": [],
   "source": [
    "#Import test data (50 posts randomly chosen)\n",
    "d_test = pd.read_pickle('./data/test_data.pkl')\n",
    "d_test.reset_index(drop=True, inplace=True)"
   ]
  },
  {
   "cell_type": "code",
   "execution_count": 23,
   "id": "c96f3d39",
   "metadata": {},
   "outputs": [
    {
     "data": {
      "text/html": [
       "<div>\n",
       "<style scoped>\n",
       "    .dataframe tbody tr th:only-of-type {\n",
       "        vertical-align: middle;\n",
       "    }\n",
       "\n",
       "    .dataframe tbody tr th {\n",
       "        vertical-align: top;\n",
       "    }\n",
       "\n",
       "    .dataframe thead th {\n",
       "        text-align: right;\n",
       "    }\n",
       "</style>\n",
       "<table border=\"1\" class=\"dataframe\">\n",
       "  <thead>\n",
       "    <tr style=\"text-align: right;\">\n",
       "      <th></th>\n",
       "      <th>Body</th>\n",
       "      <th>Title</th>\n",
       "      <th>Tags</th>\n",
       "      <th>Preprocessed_text</th>\n",
       "      <th>Score</th>\n",
       "    </tr>\n",
       "  </thead>\n",
       "  <tbody>\n",
       "    <tr>\n",
       "      <th>0</th>\n",
       "      <td>fairly new   spring   excuse     this    ...</td>\n",
       "      <td>spring could not resolve placeholder</td>\n",
       "      <td>[java, spring]</td>\n",
       "      <td>fairly spring excuse dumb launch program error...</td>\n",
       "      <td>30</td>\n",
       "    </tr>\n",
       "    <tr>\n",
       "      <th>1</th>\n",
       "      <td>now writing   extractor for   basic virtu...</td>\n",
       "      <td>how create directories automatically using ofs...</td>\n",
       "      <td>[c++, filestream]</td>\n",
       "      <td>write extractor basic virtual file archive com...</td>\n",
       "      <td>30</td>\n",
       "    </tr>\n",
       "    <tr>\n",
       "      <th>2</th>\n",
       "      <td>this     pseudo followup   this question   wh...</td>\n",
       "      <td>there way check column date r</td>\n",
       "      <td>[r]</td>\n",
       "      <td>pseudo followup ggplot graph percentage datum ...</td>\n",
       "      <td>30</td>\n",
       "    </tr>\n",
       "    <tr>\n",
       "      <th>3</th>\n",
       "      <td>suppose   have these tables     create table ...</td>\n",
       "      <td>left join with condition</td>\n",
       "      <td>[mysql, sql, tsql, left-join]</td>\n",
       "      <td>suppose table create table bug int primary key...</td>\n",
       "      <td>30</td>\n",
       "    </tr>\n",
       "    <tr>\n",
       "      <th>4</th>\n",
       "      <td>back   the old days    used   write select st...</td>\n",
       "      <td>correct way select from two tables sql server ...</td>\n",
       "      <td>[sql, sql-server, sql-server-2012]</td>\n",
       "      <td>old day write select statement select table co...</td>\n",
       "      <td>30</td>\n",
       "    </tr>\n",
       "  </tbody>\n",
       "</table>\n",
       "</div>"
      ],
      "text/plain": [
       "                                                Body  \\\n",
       "0       fairly new   spring   excuse     this    ...   \n",
       "1       now writing   extractor for   basic virtu...   \n",
       "2   this     pseudo followup   this question   wh...   \n",
       "3   suppose   have these tables     create table ...   \n",
       "4   back   the old days    used   write select st...   \n",
       "\n",
       "                                               Title  \\\n",
       "0               spring could not resolve placeholder   \n",
       "1  how create directories automatically using ofs...   \n",
       "2                     there way check column date r    \n",
       "3                           left join with condition   \n",
       "4  correct way select from two tables sql server ...   \n",
       "\n",
       "                                 Tags  \\\n",
       "0                      [java, spring]   \n",
       "1                   [c++, filestream]   \n",
       "2                                 [r]   \n",
       "3       [mysql, sql, tsql, left-join]   \n",
       "4  [sql, sql-server, sql-server-2012]   \n",
       "\n",
       "                                   Preprocessed_text  Score  \n",
       "0  fairly spring excuse dumb launch program error...     30  \n",
       "1  write extractor basic virtual file archive com...     30  \n",
       "2  pseudo followup ggplot graph percentage datum ...     30  \n",
       "3  suppose table create table bug int primary key...     30  \n",
       "4  old day write select statement select table co...     30  "
      ]
     },
     "execution_count": 23,
     "metadata": {},
     "output_type": "execute_result"
    }
   ],
   "source": [
    "d_test.head()"
   ]
  },
  {
   "cell_type": "code",
   "execution_count": 24,
   "id": "2ec2cb3d",
   "metadata": {},
   "outputs": [],
   "source": [
    "#Prepare test data\n",
    "data_test = []\n",
    "for i in range(d_test.shape[0]):\n",
    "    data_test.append(df['Preprocessed_text'][i].split())"
   ]
  },
  {
   "cell_type": "code",
   "execution_count": 25,
   "id": "db76c35b",
   "metadata": {},
   "outputs": [],
   "source": [
    "corpus_new = [dictionary.doc2bow(text) for text in data_test]"
   ]
  },
  {
   "cell_type": "code",
   "execution_count": 26,
   "id": "04267397",
   "metadata": {},
   "outputs": [
    {
     "name": "stdout",
     "output_type": "stream",
     "text": [
      "[(0, 0.31886595), (7, 0.48009053), (12, 0.174474)]\n"
     ]
    }
   ],
   "source": [
    "#prediction of topic number with weight\n",
    "print(lda_model.get_document_topics(corpus_new[0]))"
   ]
  },
  {
   "cell_type": "code",
   "execution_count": 27,
   "id": "ba8bc137",
   "metadata": {},
   "outputs": [],
   "source": [
    "#prepare column for predicted topic number\n",
    "d_test['LDA_prediction'] = int(0)"
   ]
  },
  {
   "cell_type": "code",
   "execution_count": 28,
   "id": "0781ed02",
   "metadata": {},
   "outputs": [
    {
     "data": {
      "text/html": [
       "<div>\n",
       "<style scoped>\n",
       "    .dataframe tbody tr th:only-of-type {\n",
       "        vertical-align: middle;\n",
       "    }\n",
       "\n",
       "    .dataframe tbody tr th {\n",
       "        vertical-align: top;\n",
       "    }\n",
       "\n",
       "    .dataframe thead th {\n",
       "        text-align: right;\n",
       "    }\n",
       "</style>\n",
       "<table border=\"1\" class=\"dataframe\">\n",
       "  <thead>\n",
       "    <tr style=\"text-align: right;\">\n",
       "      <th></th>\n",
       "      <th>Body</th>\n",
       "      <th>Title</th>\n",
       "      <th>Tags</th>\n",
       "      <th>Preprocessed_text</th>\n",
       "      <th>Score</th>\n",
       "      <th>LDA_prediction</th>\n",
       "    </tr>\n",
       "  </thead>\n",
       "  <tbody>\n",
       "    <tr>\n",
       "      <th>0</th>\n",
       "      <td>fairly new   spring   excuse     this    ...</td>\n",
       "      <td>spring could not resolve placeholder</td>\n",
       "      <td>[java, spring]</td>\n",
       "      <td>fairly spring excuse dumb launch program error...</td>\n",
       "      <td>30</td>\n",
       "      <td>0</td>\n",
       "    </tr>\n",
       "    <tr>\n",
       "      <th>1</th>\n",
       "      <td>now writing   extractor for   basic virtu...</td>\n",
       "      <td>how create directories automatically using ofs...</td>\n",
       "      <td>[c++, filestream]</td>\n",
       "      <td>write extractor basic virtual file archive com...</td>\n",
       "      <td>30</td>\n",
       "      <td>0</td>\n",
       "    </tr>\n",
       "    <tr>\n",
       "      <th>2</th>\n",
       "      <td>this     pseudo followup   this question   wh...</td>\n",
       "      <td>there way check column date r</td>\n",
       "      <td>[r]</td>\n",
       "      <td>pseudo followup ggplot graph percentage datum ...</td>\n",
       "      <td>30</td>\n",
       "      <td>0</td>\n",
       "    </tr>\n",
       "    <tr>\n",
       "      <th>3</th>\n",
       "      <td>suppose   have these tables     create table ...</td>\n",
       "      <td>left join with condition</td>\n",
       "      <td>[mysql, sql, tsql, left-join]</td>\n",
       "      <td>suppose table create table bug int primary key...</td>\n",
       "      <td>30</td>\n",
       "      <td>0</td>\n",
       "    </tr>\n",
       "    <tr>\n",
       "      <th>4</th>\n",
       "      <td>back   the old days    used   write select st...</td>\n",
       "      <td>correct way select from two tables sql server ...</td>\n",
       "      <td>[sql, sql-server, sql-server-2012]</td>\n",
       "      <td>old day write select statement select table co...</td>\n",
       "      <td>30</td>\n",
       "      <td>0</td>\n",
       "    </tr>\n",
       "  </tbody>\n",
       "</table>\n",
       "</div>"
      ],
      "text/plain": [
       "                                                Body  \\\n",
       "0       fairly new   spring   excuse     this    ...   \n",
       "1       now writing   extractor for   basic virtu...   \n",
       "2   this     pseudo followup   this question   wh...   \n",
       "3   suppose   have these tables     create table ...   \n",
       "4   back   the old days    used   write select st...   \n",
       "\n",
       "                                               Title  \\\n",
       "0               spring could not resolve placeholder   \n",
       "1  how create directories automatically using ofs...   \n",
       "2                     there way check column date r    \n",
       "3                           left join with condition   \n",
       "4  correct way select from two tables sql server ...   \n",
       "\n",
       "                                 Tags  \\\n",
       "0                      [java, spring]   \n",
       "1                   [c++, filestream]   \n",
       "2                                 [r]   \n",
       "3       [mysql, sql, tsql, left-join]   \n",
       "4  [sql, sql-server, sql-server-2012]   \n",
       "\n",
       "                                   Preprocessed_text  Score  LDA_prediction  \n",
       "0  fairly spring excuse dumb launch program error...     30               0  \n",
       "1  write extractor basic virtual file archive com...     30               0  \n",
       "2  pseudo followup ggplot graph percentage datum ...     30               0  \n",
       "3  suppose table create table bug int primary key...     30               0  \n",
       "4  old day write select statement select table co...     30               0  "
      ]
     },
     "execution_count": 28,
     "metadata": {},
     "output_type": "execute_result"
    }
   ],
   "source": [
    "d_test.head()"
   ]
  },
  {
   "cell_type": "code",
   "execution_count": 29,
   "id": "7edd6030",
   "metadata": {
    "scrolled": true
   },
   "outputs": [],
   "source": [
    "#make prediction of topic number for each document\n",
    "from operator import itemgetter\n",
    "for i in range(len(corpus_new)):\n",
    "    d_test.loc[i,'LDA_prediction']=max(lda_model.get_document_topics(corpus_new[i]), key=itemgetter(1))[0]"
   ]
  },
  {
   "cell_type": "code",
   "execution_count": 30,
   "id": "b0da5bde",
   "metadata": {},
   "outputs": [],
   "source": [
    "def main_tag(elt):\n",
    "    ''' returns the most weighted token\n",
    "    given topic number'''\n",
    "    N=lda_model.get_topic_terms(elt, topn=30)[0][0]\n",
    "    Topic=[key  for (key, value) in dictionary.token2id.items() if value == N]\n",
    "    return Topic"
   ]
  },
  {
   "cell_type": "code",
   "execution_count": 31,
   "id": "1a7dccf5",
   "metadata": {},
   "outputs": [
    {
     "data": {
      "text/html": [
       "<div>\n",
       "<style scoped>\n",
       "    .dataframe tbody tr th:only-of-type {\n",
       "        vertical-align: middle;\n",
       "    }\n",
       "\n",
       "    .dataframe tbody tr th {\n",
       "        vertical-align: top;\n",
       "    }\n",
       "\n",
       "    .dataframe thead th {\n",
       "        text-align: right;\n",
       "    }\n",
       "</style>\n",
       "<table border=\"1\" class=\"dataframe\">\n",
       "  <thead>\n",
       "    <tr style=\"text-align: right;\">\n",
       "      <th></th>\n",
       "      <th>Body</th>\n",
       "      <th>Title</th>\n",
       "      <th>Tags</th>\n",
       "      <th>Preprocessed_text</th>\n",
       "      <th>Score</th>\n",
       "      <th>LDA_prediction</th>\n",
       "    </tr>\n",
       "  </thead>\n",
       "  <tbody>\n",
       "    <tr>\n",
       "      <th>0</th>\n",
       "      <td>fairly new   spring   excuse     this    ...</td>\n",
       "      <td>spring could not resolve placeholder</td>\n",
       "      <td>[java, spring]</td>\n",
       "      <td>fairly spring excuse dumb launch program error...</td>\n",
       "      <td>30</td>\n",
       "      <td>7</td>\n",
       "    </tr>\n",
       "    <tr>\n",
       "      <th>1</th>\n",
       "      <td>now writing   extractor for   basic virtu...</td>\n",
       "      <td>how create directories automatically using ofs...</td>\n",
       "      <td>[c++, filestream]</td>\n",
       "      <td>write extractor basic virtual file archive com...</td>\n",
       "      <td>30</td>\n",
       "      <td>16</td>\n",
       "    </tr>\n",
       "    <tr>\n",
       "      <th>2</th>\n",
       "      <td>this     pseudo followup   this question   wh...</td>\n",
       "      <td>there way check column date r</td>\n",
       "      <td>[r]</td>\n",
       "      <td>pseudo followup ggplot graph percentage datum ...</td>\n",
       "      <td>30</td>\n",
       "      <td>11</td>\n",
       "    </tr>\n",
       "    <tr>\n",
       "      <th>3</th>\n",
       "      <td>suppose   have these tables     create table ...</td>\n",
       "      <td>left join with condition</td>\n",
       "      <td>[mysql, sql, tsql, left-join]</td>\n",
       "      <td>suppose table create table bug int primary key...</td>\n",
       "      <td>30</td>\n",
       "      <td>7</td>\n",
       "    </tr>\n",
       "    <tr>\n",
       "      <th>4</th>\n",
       "      <td>back   the old days    used   write select st...</td>\n",
       "      <td>correct way select from two tables sql server ...</td>\n",
       "      <td>[sql, sql-server, sql-server-2012]</td>\n",
       "      <td>old day write select statement select table co...</td>\n",
       "      <td>30</td>\n",
       "      <td>7</td>\n",
       "    </tr>\n",
       "  </tbody>\n",
       "</table>\n",
       "</div>"
      ],
      "text/plain": [
       "                                                Body  \\\n",
       "0       fairly new   spring   excuse     this    ...   \n",
       "1       now writing   extractor for   basic virtu...   \n",
       "2   this     pseudo followup   this question   wh...   \n",
       "3   suppose   have these tables     create table ...   \n",
       "4   back   the old days    used   write select st...   \n",
       "\n",
       "                                               Title  \\\n",
       "0               spring could not resolve placeholder   \n",
       "1  how create directories automatically using ofs...   \n",
       "2                     there way check column date r    \n",
       "3                           left join with condition   \n",
       "4  correct way select from two tables sql server ...   \n",
       "\n",
       "                                 Tags  \\\n",
       "0                      [java, spring]   \n",
       "1                   [c++, filestream]   \n",
       "2                                 [r]   \n",
       "3       [mysql, sql, tsql, left-join]   \n",
       "4  [sql, sql-server, sql-server-2012]   \n",
       "\n",
       "                                   Preprocessed_text  Score  LDA_prediction  \n",
       "0  fairly spring excuse dumb launch program error...     30               7  \n",
       "1  write extractor basic virtual file archive com...     30              16  \n",
       "2  pseudo followup ggplot graph percentage datum ...     30              11  \n",
       "3  suppose table create table bug int primary key...     30               7  \n",
       "4  old day write select statement select table co...     30               7  "
      ]
     },
     "execution_count": 31,
     "metadata": {},
     "output_type": "execute_result"
    }
   ],
   "source": [
    "d_test.head()"
   ]
  },
  {
   "cell_type": "code",
   "execution_count": 32,
   "id": "abf2e285",
   "metadata": {
    "scrolled": false
   },
   "outputs": [],
   "source": [
    "#Define main tag\n",
    "d_test['LDA_prediction_tags'] = d_test['LDA_prediction'].apply(main_tag)"
   ]
  },
  {
   "cell_type": "code",
   "execution_count": 33,
   "id": "96e295e5",
   "metadata": {},
   "outputs": [],
   "source": [
    "def tags_2(elt, text):\n",
    "    \n",
    "    '''returns words that are contained\n",
    "    in the document text and in the topic 50 first words '''\n",
    "    \n",
    "    list_id=[x[0] for x in lda_model.get_topic_terms(elt, topn=50)]\n",
    "    words_topic = []\n",
    "    \n",
    "    for word_id in list_id:\n",
    "        Topic = [key  for (key, value) in dictionary.token2id.items() if value == word_id][0]\n",
    "        words_topic.append(Topic)\n",
    "        \n",
    "    a = [w for w in words_topic if w in text.split()]\n",
    "    return a"
   ]
  },
  {
   "cell_type": "code",
   "execution_count": 34,
   "id": "97d3da6c",
   "metadata": {},
   "outputs": [
    {
     "data": {
      "text/html": [
       "<div>\n",
       "<style scoped>\n",
       "    .dataframe tbody tr th:only-of-type {\n",
       "        vertical-align: middle;\n",
       "    }\n",
       "\n",
       "    .dataframe tbody tr th {\n",
       "        vertical-align: top;\n",
       "    }\n",
       "\n",
       "    .dataframe thead th {\n",
       "        text-align: right;\n",
       "    }\n",
       "</style>\n",
       "<table border=\"1\" class=\"dataframe\">\n",
       "  <thead>\n",
       "    <tr style=\"text-align: right;\">\n",
       "      <th></th>\n",
       "      <th>Body</th>\n",
       "      <th>Title</th>\n",
       "      <th>Tags</th>\n",
       "      <th>Preprocessed_text</th>\n",
       "      <th>Score</th>\n",
       "      <th>LDA_prediction</th>\n",
       "      <th>LDA_prediction_tags</th>\n",
       "    </tr>\n",
       "  </thead>\n",
       "  <tbody>\n",
       "    <tr>\n",
       "      <th>0</th>\n",
       "      <td>fairly new   spring   excuse     this    ...</td>\n",
       "      <td>spring could not resolve placeholder</td>\n",
       "      <td>[java, spring]</td>\n",
       "      <td>fairly spring excuse dumb launch program error...</td>\n",
       "      <td>30</td>\n",
       "      <td>7</td>\n",
       "      <td>[string]</td>\n",
       "    </tr>\n",
       "    <tr>\n",
       "      <th>1</th>\n",
       "      <td>now writing   extractor for   basic virtu...</td>\n",
       "      <td>how create directories automatically using ofs...</td>\n",
       "      <td>[c++, filestream]</td>\n",
       "      <td>write extractor basic virtual file archive com...</td>\n",
       "      <td>30</td>\n",
       "      <td>16</td>\n",
       "      <td>[color]</td>\n",
       "    </tr>\n",
       "    <tr>\n",
       "      <th>2</th>\n",
       "      <td>this     pseudo followup   this question   wh...</td>\n",
       "      <td>there way check column date r</td>\n",
       "      <td>[r]</td>\n",
       "      <td>pseudo followup ggplot graph percentage datum ...</td>\n",
       "      <td>30</td>\n",
       "      <td>11</td>\n",
       "      <td>[app]</td>\n",
       "    </tr>\n",
       "    <tr>\n",
       "      <th>3</th>\n",
       "      <td>suppose   have these tables     create table ...</td>\n",
       "      <td>left join with condition</td>\n",
       "      <td>[mysql, sql, tsql, left-join]</td>\n",
       "      <td>suppose table create table bug int primary key...</td>\n",
       "      <td>30</td>\n",
       "      <td>7</td>\n",
       "      <td>[string]</td>\n",
       "    </tr>\n",
       "    <tr>\n",
       "      <th>4</th>\n",
       "      <td>back   the old days    used   write select st...</td>\n",
       "      <td>correct way select from two tables sql server ...</td>\n",
       "      <td>[sql, sql-server, sql-server-2012]</td>\n",
       "      <td>old day write select statement select table co...</td>\n",
       "      <td>30</td>\n",
       "      <td>7</td>\n",
       "      <td>[string]</td>\n",
       "    </tr>\n",
       "  </tbody>\n",
       "</table>\n",
       "</div>"
      ],
      "text/plain": [
       "                                                Body  \\\n",
       "0       fairly new   spring   excuse     this    ...   \n",
       "1       now writing   extractor for   basic virtu...   \n",
       "2   this     pseudo followup   this question   wh...   \n",
       "3   suppose   have these tables     create table ...   \n",
       "4   back   the old days    used   write select st...   \n",
       "\n",
       "                                               Title  \\\n",
       "0               spring could not resolve placeholder   \n",
       "1  how create directories automatically using ofs...   \n",
       "2                     there way check column date r    \n",
       "3                           left join with condition   \n",
       "4  correct way select from two tables sql server ...   \n",
       "\n",
       "                                 Tags  \\\n",
       "0                      [java, spring]   \n",
       "1                   [c++, filestream]   \n",
       "2                                 [r]   \n",
       "3       [mysql, sql, tsql, left-join]   \n",
       "4  [sql, sql-server, sql-server-2012]   \n",
       "\n",
       "                                   Preprocessed_text  Score  LDA_prediction  \\\n",
       "0  fairly spring excuse dumb launch program error...     30               7   \n",
       "1  write extractor basic virtual file archive com...     30              16   \n",
       "2  pseudo followup ggplot graph percentage datum ...     30              11   \n",
       "3  suppose table create table bug int primary key...     30               7   \n",
       "4  old day write select statement select table co...     30               7   \n",
       "\n",
       "  LDA_prediction_tags  \n",
       "0            [string]  \n",
       "1             [color]  \n",
       "2               [app]  \n",
       "3            [string]  \n",
       "4            [string]  "
      ]
     },
     "execution_count": 34,
     "metadata": {},
     "output_type": "execute_result"
    }
   ],
   "source": [
    "d_test.head()"
   ]
  },
  {
   "cell_type": "code",
   "execution_count": 35,
   "id": "537a69f6",
   "metadata": {},
   "outputs": [],
   "source": [
    "#Define other tags\n",
    "d_test['LDA_predictions_tags2'] = d_test.apply(lambda x: tags_2(x.LDA_prediction, x.Preprocessed_text), axis=1)"
   ]
  },
  {
   "cell_type": "code",
   "execution_count": 36,
   "id": "447f516b",
   "metadata": {},
   "outputs": [
    {
     "data": {
      "text/html": [
       "<div>\n",
       "<style scoped>\n",
       "    .dataframe tbody tr th:only-of-type {\n",
       "        vertical-align: middle;\n",
       "    }\n",
       "\n",
       "    .dataframe tbody tr th {\n",
       "        vertical-align: top;\n",
       "    }\n",
       "\n",
       "    .dataframe thead th {\n",
       "        text-align: right;\n",
       "    }\n",
       "</style>\n",
       "<table border=\"1\" class=\"dataframe\">\n",
       "  <thead>\n",
       "    <tr style=\"text-align: right;\">\n",
       "      <th></th>\n",
       "      <th>Body</th>\n",
       "      <th>Title</th>\n",
       "      <th>Tags</th>\n",
       "      <th>Preprocessed_text</th>\n",
       "      <th>Score</th>\n",
       "      <th>LDA_prediction</th>\n",
       "      <th>LDA_prediction_tags</th>\n",
       "      <th>LDA_predictions_tags2</th>\n",
       "    </tr>\n",
       "  </thead>\n",
       "  <tbody>\n",
       "    <tr>\n",
       "      <th>0</th>\n",
       "      <td>fairly new   spring   excuse     this    ...</td>\n",
       "      <td>spring could not resolve placeholder</td>\n",
       "      <td>[java, spring]</td>\n",
       "      <td>fairly spring excuse dumb launch program error...</td>\n",
       "      <td>30</td>\n",
       "      <td>7</td>\n",
       "      <td>[string]</td>\n",
       "      <td>[string, value, int, return, class, public, ja...</td>\n",
       "    </tr>\n",
       "    <tr>\n",
       "      <th>1</th>\n",
       "      <td>now writing   extractor for   basic virtu...</td>\n",
       "      <td>how create directories automatically using ofs...</td>\n",
       "      <td>[c++, filestream]</td>\n",
       "      <td>write extractor basic virtual file archive com...</td>\n",
       "      <td>30</td>\n",
       "      <td>16</td>\n",
       "      <td>[color]</td>\n",
       "      <td>[unsigned]</td>\n",
       "    </tr>\n",
       "    <tr>\n",
       "      <th>2</th>\n",
       "      <td>this     pseudo followup   this question   wh...</td>\n",
       "      <td>there way check column date r</td>\n",
       "      <td>[r]</td>\n",
       "      <td>pseudo followup ggplot graph percentage datum ...</td>\n",
       "      <td>30</td>\n",
       "      <td>11</td>\n",
       "      <td>[app]</td>\n",
       "      <td>[file, datum, set, type, return, input]</td>\n",
       "    </tr>\n",
       "    <tr>\n",
       "      <th>3</th>\n",
       "      <td>suppose   have these tables     create table ...</td>\n",
       "      <td>left join with condition</td>\n",
       "      <td>[mysql, sql, tsql, left-join]</td>\n",
       "      <td>suppose table create table bug int primary key...</td>\n",
       "      <td>30</td>\n",
       "      <td>7</td>\n",
       "      <td>[string]</td>\n",
       "      <td>[value, int, return, result]</td>\n",
       "    </tr>\n",
       "    <tr>\n",
       "      <th>4</th>\n",
       "      <td>back   the old days    used   write select st...</td>\n",
       "      <td>correct way select from two tables sql server ...</td>\n",
       "      <td>[sql, sql-server, sql-server-2012]</td>\n",
       "      <td>old day write select statement select table co...</td>\n",
       "      <td>30</td>\n",
       "      <td>7</td>\n",
       "      <td>[string]</td>\n",
       "      <td>[value, list, type, method, example, datum, wr...</td>\n",
       "    </tr>\n",
       "  </tbody>\n",
       "</table>\n",
       "</div>"
      ],
      "text/plain": [
       "                                                Body  \\\n",
       "0       fairly new   spring   excuse     this    ...   \n",
       "1       now writing   extractor for   basic virtu...   \n",
       "2   this     pseudo followup   this question   wh...   \n",
       "3   suppose   have these tables     create table ...   \n",
       "4   back   the old days    used   write select st...   \n",
       "\n",
       "                                               Title  \\\n",
       "0               spring could not resolve placeholder   \n",
       "1  how create directories automatically using ofs...   \n",
       "2                     there way check column date r    \n",
       "3                           left join with condition   \n",
       "4  correct way select from two tables sql server ...   \n",
       "\n",
       "                                 Tags  \\\n",
       "0                      [java, spring]   \n",
       "1                   [c++, filestream]   \n",
       "2                                 [r]   \n",
       "3       [mysql, sql, tsql, left-join]   \n",
       "4  [sql, sql-server, sql-server-2012]   \n",
       "\n",
       "                                   Preprocessed_text  Score  LDA_prediction  \\\n",
       "0  fairly spring excuse dumb launch program error...     30               7   \n",
       "1  write extractor basic virtual file archive com...     30              16   \n",
       "2  pseudo followup ggplot graph percentage datum ...     30              11   \n",
       "3  suppose table create table bug int primary key...     30               7   \n",
       "4  old day write select statement select table co...     30               7   \n",
       "\n",
       "  LDA_prediction_tags                              LDA_predictions_tags2  \n",
       "0            [string]  [string, value, int, return, class, public, ja...  \n",
       "1             [color]                                         [unsigned]  \n",
       "2               [app]            [file, datum, set, type, return, input]  \n",
       "3            [string]                       [value, int, return, result]  \n",
       "4            [string]  [value, list, type, method, example, datum, wr...  "
      ]
     },
     "execution_count": 36,
     "metadata": {},
     "output_type": "execute_result"
    }
   ],
   "source": [
    "d_test.head()"
   ]
  },
  {
   "cell_type": "code",
   "execution_count": 37,
   "id": "4b2123f1",
   "metadata": {},
   "outputs": [],
   "source": [
    "def Union(lst1, lst2):\n",
    "    ''' Union of two lists without repetition'''\n",
    "    final_list = list(set(lst1) | set(lst2))\n",
    "    return final_list"
   ]
  },
  {
   "cell_type": "code",
   "execution_count": 38,
   "id": "75884c77",
   "metadata": {
    "scrolled": true
   },
   "outputs": [],
   "source": [
    "#Conclude all tags with LDA\n",
    "d_test['LDA_prediction_tags'] = d_test.apply(lambda x: Union(x.LDA_prediction_tags, x.LDA_predictions_tags2), axis=1)\n",
    "d_test.drop(['LDA_predictions_tags2'], axis=1, inplace=True)"
   ]
  },
  {
   "cell_type": "code",
   "execution_count": 39,
   "id": "2a38daba",
   "metadata": {},
   "outputs": [
    {
     "data": {
      "text/html": [
       "<div>\n",
       "<style scoped>\n",
       "    .dataframe tbody tr th:only-of-type {\n",
       "        vertical-align: middle;\n",
       "    }\n",
       "\n",
       "    .dataframe tbody tr th {\n",
       "        vertical-align: top;\n",
       "    }\n",
       "\n",
       "    .dataframe thead th {\n",
       "        text-align: right;\n",
       "    }\n",
       "</style>\n",
       "<table border=\"1\" class=\"dataframe\">\n",
       "  <thead>\n",
       "    <tr style=\"text-align: right;\">\n",
       "      <th></th>\n",
       "      <th>Body</th>\n",
       "      <th>Title</th>\n",
       "      <th>Tags</th>\n",
       "      <th>Preprocessed_text</th>\n",
       "      <th>Score</th>\n",
       "      <th>LDA_prediction</th>\n",
       "      <th>LDA_prediction_tags</th>\n",
       "    </tr>\n",
       "  </thead>\n",
       "  <tbody>\n",
       "    <tr>\n",
       "      <th>0</th>\n",
       "      <td>fairly new   spring   excuse     this    ...</td>\n",
       "      <td>spring could not resolve placeholder</td>\n",
       "      <td>[java, spring]</td>\n",
       "      <td>fairly spring excuse dumb launch program error...</td>\n",
       "      <td>30</td>\n",
       "      <td>7</td>\n",
       "      <td>[class, int, return, java, define, static, err...</td>\n",
       "    </tr>\n",
       "    <tr>\n",
       "      <th>1</th>\n",
       "      <td>now writing   extractor for   basic virtu...</td>\n",
       "      <td>how create directories automatically using ofs...</td>\n",
       "      <td>[c++, filestream]</td>\n",
       "      <td>write extractor basic virtual file archive com...</td>\n",
       "      <td>30</td>\n",
       "      <td>16</td>\n",
       "      <td>[color, unsigned]</td>\n",
       "    </tr>\n",
       "    <tr>\n",
       "      <th>2</th>\n",
       "      <td>this     pseudo followup   this question   wh...</td>\n",
       "      <td>there way check column date r</td>\n",
       "      <td>[r]</td>\n",
       "      <td>pseudo followup ggplot graph percentage datum ...</td>\n",
       "      <td>30</td>\n",
       "      <td>11</td>\n",
       "      <td>[input, app, datum, file, return, type, set]</td>\n",
       "    </tr>\n",
       "    <tr>\n",
       "      <th>3</th>\n",
       "      <td>suppose   have these tables     create table ...</td>\n",
       "      <td>left join with condition</td>\n",
       "      <td>[mysql, sql, tsql, left-join]</td>\n",
       "      <td>suppose table create table bug int primary key...</td>\n",
       "      <td>30</td>\n",
       "      <td>7</td>\n",
       "      <td>[int, result, string, return, value]</td>\n",
       "    </tr>\n",
       "    <tr>\n",
       "      <th>4</th>\n",
       "      <td>back   the old days    used   write select st...</td>\n",
       "      <td>correct way select from two tables sql server ...</td>\n",
       "      <td>[sql, sql-server, sql-server-2012]</td>\n",
       "      <td>old day write select statement select table co...</td>\n",
       "      <td>30</td>\n",
       "      <td>7</td>\n",
       "      <td>[datum, write, method, list, string, example, ...</td>\n",
       "    </tr>\n",
       "  </tbody>\n",
       "</table>\n",
       "</div>"
      ],
      "text/plain": [
       "                                                Body  \\\n",
       "0       fairly new   spring   excuse     this    ...   \n",
       "1       now writing   extractor for   basic virtu...   \n",
       "2   this     pseudo followup   this question   wh...   \n",
       "3   suppose   have these tables     create table ...   \n",
       "4   back   the old days    used   write select st...   \n",
       "\n",
       "                                               Title  \\\n",
       "0               spring could not resolve placeholder   \n",
       "1  how create directories automatically using ofs...   \n",
       "2                     there way check column date r    \n",
       "3                           left join with condition   \n",
       "4  correct way select from two tables sql server ...   \n",
       "\n",
       "                                 Tags  \\\n",
       "0                      [java, spring]   \n",
       "1                   [c++, filestream]   \n",
       "2                                 [r]   \n",
       "3       [mysql, sql, tsql, left-join]   \n",
       "4  [sql, sql-server, sql-server-2012]   \n",
       "\n",
       "                                   Preprocessed_text  Score  LDA_prediction  \\\n",
       "0  fairly spring excuse dumb launch program error...     30               7   \n",
       "1  write extractor basic virtual file archive com...     30              16   \n",
       "2  pseudo followup ggplot graph percentage datum ...     30              11   \n",
       "3  suppose table create table bug int primary key...     30               7   \n",
       "4  old day write select statement select table co...     30               7   \n",
       "\n",
       "                                 LDA_prediction_tags  \n",
       "0  [class, int, return, java, define, static, err...  \n",
       "1                                  [color, unsigned]  \n",
       "2       [input, app, datum, file, return, type, set]  \n",
       "3               [int, result, string, return, value]  \n",
       "4  [datum, write, method, list, string, example, ...  "
      ]
     },
     "execution_count": 39,
     "metadata": {},
     "output_type": "execute_result"
    }
   ],
   "source": [
    "d_test.head()"
   ]
  },
  {
   "cell_type": "markdown",
   "id": "fb3bf511",
   "metadata": {},
   "source": [
    "### Test on particular questions"
   ]
  },
  {
   "cell_type": "code",
   "execution_count": 40,
   "id": "28aaa7e4",
   "metadata": {},
   "outputs": [
    {
     "name": "stderr",
     "output_type": "stream",
     "text": [
      "C:\\Users\\celine\\anaconda3\\lib\\site-packages\\tensorflow\\core\\framework\\tensor_shape_pb2.py:18: DeprecationWarning: Call to deprecated create function FileDescriptor(). Note: Create unlinked descriptors is going to go away. Please use get/find descriptors from generated code or query the descriptor_pool.\n",
      "  DESCRIPTOR = _descriptor.FileDescriptor(\n",
      "C:\\Users\\celine\\anaconda3\\lib\\site-packages\\tensorflow\\core\\framework\\tensor_shape_pb2.py:36: DeprecationWarning: Call to deprecated create function FieldDescriptor(). Note: Create unlinked descriptors is going to go away. Please use get/find descriptors from generated code or query the descriptor_pool.\n",
      "  _descriptor.FieldDescriptor(\n",
      "C:\\Users\\celine\\anaconda3\\lib\\site-packages\\tensorflow\\core\\framework\\tensor_shape_pb2.py:43: DeprecationWarning: Call to deprecated create function FieldDescriptor(). Note: Create unlinked descriptors is going to go away. Please use get/find descriptors from generated code or query the descriptor_pool.\n",
      "  _descriptor.FieldDescriptor(\n",
      "C:\\Users\\celine\\anaconda3\\lib\\site-packages\\tensorflow\\core\\framework\\tensor_shape_pb2.py:29: DeprecationWarning: Call to deprecated create function Descriptor(). Note: Create unlinked descriptors is going to go away. Please use get/find descriptors from generated code or query the descriptor_pool.\n",
      "  _TENSORSHAPEPROTO_DIM = _descriptor.Descriptor(\n",
      "C:\\Users\\celine\\anaconda3\\lib\\site-packages\\tensorflow\\core\\framework\\tensor_shape_pb2.py:73: DeprecationWarning: Call to deprecated create function FieldDescriptor(). Note: Create unlinked descriptors is going to go away. Please use get/find descriptors from generated code or query the descriptor_pool.\n",
      "  _descriptor.FieldDescriptor(\n",
      "C:\\Users\\celine\\anaconda3\\lib\\site-packages\\tensorflow\\core\\framework\\tensor_shape_pb2.py:80: DeprecationWarning: Call to deprecated create function FieldDescriptor(). Note: Create unlinked descriptors is going to go away. Please use get/find descriptors from generated code or query the descriptor_pool.\n",
      "  _descriptor.FieldDescriptor(\n",
      "C:\\Users\\celine\\anaconda3\\lib\\site-packages\\tensorflow\\core\\framework\\tensor_shape_pb2.py:66: DeprecationWarning: Call to deprecated create function Descriptor(). Note: Create unlinked descriptors is going to go away. Please use get/find descriptors from generated code or query the descriptor_pool.\n",
      "  _TENSORSHAPEPROTO = _descriptor.Descriptor(\n",
      "C:\\Users\\celine\\anaconda3\\lib\\site-packages\\tensorflow\\core\\framework\\types_pb2.py:19: DeprecationWarning: Call to deprecated create function FileDescriptor(). Note: Create unlinked descriptors is going to go away. Please use get/find descriptors from generated code or query the descriptor_pool.\n",
      "  DESCRIPTOR = _descriptor.FileDescriptor(\n",
      "C:\\Users\\celine\\anaconda3\\lib\\site-packages\\tensorflow\\core\\framework\\types_pb2.py:33: DeprecationWarning: Call to deprecated create function EnumValueDescriptor(). Note: Create unlinked descriptors is going to go away. Please use get/find descriptors from generated code or query the descriptor_pool.\n",
      "  _descriptor.EnumValueDescriptor(\n",
      "C:\\Users\\celine\\anaconda3\\lib\\site-packages\\tensorflow\\core\\framework\\types_pb2.py:37: DeprecationWarning: Call to deprecated create function EnumValueDescriptor(). Note: Create unlinked descriptors is going to go away. Please use get/find descriptors from generated code or query the descriptor_pool.\n",
      "  _descriptor.EnumValueDescriptor(\n",
      "C:\\Users\\celine\\anaconda3\\lib\\site-packages\\tensorflow\\core\\framework\\types_pb2.py:41: DeprecationWarning: Call to deprecated create function EnumValueDescriptor(). Note: Create unlinked descriptors is going to go away. Please use get/find descriptors from generated code or query the descriptor_pool.\n",
      "  _descriptor.EnumValueDescriptor(\n",
      "C:\\Users\\celine\\anaconda3\\lib\\site-packages\\tensorflow\\core\\framework\\types_pb2.py:45: DeprecationWarning: Call to deprecated create function EnumValueDescriptor(). Note: Create unlinked descriptors is going to go away. Please use get/find descriptors from generated code or query the descriptor_pool.\n",
      "  _descriptor.EnumValueDescriptor(\n",
      "C:\\Users\\celine\\anaconda3\\lib\\site-packages\\tensorflow\\core\\framework\\types_pb2.py:49: DeprecationWarning: Call to deprecated create function EnumValueDescriptor(). Note: Create unlinked descriptors is going to go away. Please use get/find descriptors from generated code or query the descriptor_pool.\n",
      "  _descriptor.EnumValueDescriptor(\n",
      "C:\\Users\\celine\\anaconda3\\lib\\site-packages\\tensorflow\\core\\framework\\types_pb2.py:53: DeprecationWarning: Call to deprecated create function EnumValueDescriptor(). Note: Create unlinked descriptors is going to go away. Please use get/find descriptors from generated code or query the descriptor_pool.\n",
      "  _descriptor.EnumValueDescriptor(\n",
      "C:\\Users\\celine\\anaconda3\\lib\\site-packages\\tensorflow\\core\\framework\\types_pb2.py:57: DeprecationWarning: Call to deprecated create function EnumValueDescriptor(). Note: Create unlinked descriptors is going to go away. Please use get/find descriptors from generated code or query the descriptor_pool.\n",
      "  _descriptor.EnumValueDescriptor(\n",
      "C:\\Users\\celine\\anaconda3\\lib\\site-packages\\tensorflow\\core\\framework\\types_pb2.py:61: DeprecationWarning: Call to deprecated create function EnumValueDescriptor(). Note: Create unlinked descriptors is going to go away. Please use get/find descriptors from generated code or query the descriptor_pool.\n",
      "  _descriptor.EnumValueDescriptor(\n",
      "C:\\Users\\celine\\anaconda3\\lib\\site-packages\\tensorflow\\core\\framework\\types_pb2.py:65: DeprecationWarning: Call to deprecated create function EnumValueDescriptor(). Note: Create unlinked descriptors is going to go away. Please use get/find descriptors from generated code or query the descriptor_pool.\n",
      "  _descriptor.EnumValueDescriptor(\n",
      "C:\\Users\\celine\\anaconda3\\lib\\site-packages\\tensorflow\\core\\framework\\types_pb2.py:69: DeprecationWarning: Call to deprecated create function EnumValueDescriptor(). Note: Create unlinked descriptors is going to go away. Please use get/find descriptors from generated code or query the descriptor_pool.\n",
      "  _descriptor.EnumValueDescriptor(\n",
      "C:\\Users\\celine\\anaconda3\\lib\\site-packages\\tensorflow\\core\\framework\\types_pb2.py:73: DeprecationWarning: Call to deprecated create function EnumValueDescriptor(). Note: Create unlinked descriptors is going to go away. Please use get/find descriptors from generated code or query the descriptor_pool.\n",
      "  _descriptor.EnumValueDescriptor(\n",
      "C:\\Users\\celine\\anaconda3\\lib\\site-packages\\tensorflow\\core\\framework\\types_pb2.py:77: DeprecationWarning: Call to deprecated create function EnumValueDescriptor(). Note: Create unlinked descriptors is going to go away. Please use get/find descriptors from generated code or query the descriptor_pool.\n",
      "  _descriptor.EnumValueDescriptor(\n",
      "C:\\Users\\celine\\anaconda3\\lib\\site-packages\\tensorflow\\core\\framework\\types_pb2.py:81: DeprecationWarning: Call to deprecated create function EnumValueDescriptor(). Note: Create unlinked descriptors is going to go away. Please use get/find descriptors from generated code or query the descriptor_pool.\n",
      "  _descriptor.EnumValueDescriptor(\n",
      "C:\\Users\\celine\\anaconda3\\lib\\site-packages\\tensorflow\\core\\framework\\types_pb2.py:85: DeprecationWarning: Call to deprecated create function EnumValueDescriptor(). Note: Create unlinked descriptors is going to go away. Please use get/find descriptors from generated code or query the descriptor_pool.\n",
      "  _descriptor.EnumValueDescriptor(\n",
      "C:\\Users\\celine\\anaconda3\\lib\\site-packages\\tensorflow\\core\\framework\\types_pb2.py:89: DeprecationWarning: Call to deprecated create function EnumValueDescriptor(). Note: Create unlinked descriptors is going to go away. Please use get/find descriptors from generated code or query the descriptor_pool.\n",
      "  _descriptor.EnumValueDescriptor(\n",
      "C:\\Users\\celine\\anaconda3\\lib\\site-packages\\tensorflow\\core\\framework\\types_pb2.py:93: DeprecationWarning: Call to deprecated create function EnumValueDescriptor(). Note: Create unlinked descriptors is going to go away. Please use get/find descriptors from generated code or query the descriptor_pool.\n",
      "  _descriptor.EnumValueDescriptor(\n",
      "C:\\Users\\celine\\anaconda3\\lib\\site-packages\\tensorflow\\core\\framework\\types_pb2.py:97: DeprecationWarning: Call to deprecated create function EnumValueDescriptor(). Note: Create unlinked descriptors is going to go away. Please use get/find descriptors from generated code or query the descriptor_pool.\n",
      "  _descriptor.EnumValueDescriptor(\n",
      "C:\\Users\\celine\\anaconda3\\lib\\site-packages\\tensorflow\\core\\framework\\types_pb2.py:101: DeprecationWarning: Call to deprecated create function EnumValueDescriptor(). Note: Create unlinked descriptors is going to go away. Please use get/find descriptors from generated code or query the descriptor_pool.\n",
      "  _descriptor.EnumValueDescriptor(\n",
      "C:\\Users\\celine\\anaconda3\\lib\\site-packages\\tensorflow\\core\\framework\\types_pb2.py:105: DeprecationWarning: Call to deprecated create function EnumValueDescriptor(). Note: Create unlinked descriptors is going to go away. Please use get/find descriptors from generated code or query the descriptor_pool.\n",
      "  _descriptor.EnumValueDescriptor(\n",
      "C:\\Users\\celine\\anaconda3\\lib\\site-packages\\tensorflow\\core\\framework\\types_pb2.py:109: DeprecationWarning: Call to deprecated create function EnumValueDescriptor(). Note: Create unlinked descriptors is going to go away. Please use get/find descriptors from generated code or query the descriptor_pool.\n",
      "  _descriptor.EnumValueDescriptor(\n",
      "C:\\Users\\celine\\anaconda3\\lib\\site-packages\\tensorflow\\core\\framework\\types_pb2.py:113: DeprecationWarning: Call to deprecated create function EnumValueDescriptor(). Note: Create unlinked descriptors is going to go away. Please use get/find descriptors from generated code or query the descriptor_pool.\n",
      "  _descriptor.EnumValueDescriptor(\n",
      "C:\\Users\\celine\\anaconda3\\lib\\site-packages\\tensorflow\\core\\framework\\types_pb2.py:117: DeprecationWarning: Call to deprecated create function EnumValueDescriptor(). Note: Create unlinked descriptors is going to go away. Please use get/find descriptors from generated code or query the descriptor_pool.\n",
      "  _descriptor.EnumValueDescriptor(\n",
      "C:\\Users\\celine\\anaconda3\\lib\\site-packages\\tensorflow\\core\\framework\\types_pb2.py:121: DeprecationWarning: Call to deprecated create function EnumValueDescriptor(). Note: Create unlinked descriptors is going to go away. Please use get/find descriptors from generated code or query the descriptor_pool.\n",
      "  _descriptor.EnumValueDescriptor(\n",
      "C:\\Users\\celine\\anaconda3\\lib\\site-packages\\tensorflow\\core\\framework\\types_pb2.py:125: DeprecationWarning: Call to deprecated create function EnumValueDescriptor(). Note: Create unlinked descriptors is going to go away. Please use get/find descriptors from generated code or query the descriptor_pool.\n",
      "  _descriptor.EnumValueDescriptor(\n",
      "C:\\Users\\celine\\anaconda3\\lib\\site-packages\\tensorflow\\core\\framework\\types_pb2.py:129: DeprecationWarning: Call to deprecated create function EnumValueDescriptor(). Note: Create unlinked descriptors is going to go away. Please use get/find descriptors from generated code or query the descriptor_pool.\n",
      "  _descriptor.EnumValueDescriptor(\n",
      "C:\\Users\\celine\\anaconda3\\lib\\site-packages\\tensorflow\\core\\framework\\types_pb2.py:133: DeprecationWarning: Call to deprecated create function EnumValueDescriptor(). Note: Create unlinked descriptors is going to go away. Please use get/find descriptors from generated code or query the descriptor_pool.\n",
      "  _descriptor.EnumValueDescriptor(\n",
      "C:\\Users\\celine\\anaconda3\\lib\\site-packages\\tensorflow\\core\\framework\\types_pb2.py:137: DeprecationWarning: Call to deprecated create function EnumValueDescriptor(). Note: Create unlinked descriptors is going to go away. Please use get/find descriptors from generated code or query the descriptor_pool.\n",
      "  _descriptor.EnumValueDescriptor(\n",
      "C:\\Users\\celine\\anaconda3\\lib\\site-packages\\tensorflow\\core\\framework\\types_pb2.py:141: DeprecationWarning: Call to deprecated create function EnumValueDescriptor(). Note: Create unlinked descriptors is going to go away. Please use get/find descriptors from generated code or query the descriptor_pool.\n",
      "  _descriptor.EnumValueDescriptor(\n",
      "C:\\Users\\celine\\anaconda3\\lib\\site-packages\\tensorflow\\core\\framework\\types_pb2.py:145: DeprecationWarning: Call to deprecated create function EnumValueDescriptor(). Note: Create unlinked descriptors is going to go away. Please use get/find descriptors from generated code or query the descriptor_pool.\n",
      "  _descriptor.EnumValueDescriptor(\n",
      "C:\\Users\\celine\\anaconda3\\lib\\site-packages\\tensorflow\\core\\framework\\types_pb2.py:149: DeprecationWarning: Call to deprecated create function EnumValueDescriptor(). Note: Create unlinked descriptors is going to go away. Please use get/find descriptors from generated code or query the descriptor_pool.\n",
      "  _descriptor.EnumValueDescriptor(\n",
      "C:\\Users\\celine\\anaconda3\\lib\\site-packages\\tensorflow\\core\\framework\\types_pb2.py:153: DeprecationWarning: Call to deprecated create function EnumValueDescriptor(). Note: Create unlinked descriptors is going to go away. Please use get/find descriptors from generated code or query the descriptor_pool.\n",
      "  _descriptor.EnumValueDescriptor(\n",
      "C:\\Users\\celine\\anaconda3\\lib\\site-packages\\tensorflow\\core\\framework\\types_pb2.py:157: DeprecationWarning: Call to deprecated create function EnumValueDescriptor(). Note: Create unlinked descriptors is going to go away. Please use get/find descriptors from generated code or query the descriptor_pool.\n",
      "  _descriptor.EnumValueDescriptor(\n",
      "C:\\Users\\celine\\anaconda3\\lib\\site-packages\\tensorflow\\core\\framework\\types_pb2.py:161: DeprecationWarning: Call to deprecated create function EnumValueDescriptor(). Note: Create unlinked descriptors is going to go away. Please use get/find descriptors from generated code or query the descriptor_pool.\n",
      "  _descriptor.EnumValueDescriptor(\n",
      "C:\\Users\\celine\\anaconda3\\lib\\site-packages\\tensorflow\\core\\framework\\types_pb2.py:165: DeprecationWarning: Call to deprecated create function EnumValueDescriptor(). Note: Create unlinked descriptors is going to go away. Please use get/find descriptors from generated code or query the descriptor_pool.\n",
      "  _descriptor.EnumValueDescriptor(\n",
      "C:\\Users\\celine\\anaconda3\\lib\\site-packages\\tensorflow\\core\\framework\\types_pb2.py:169: DeprecationWarning: Call to deprecated create function EnumValueDescriptor(). Note: Create unlinked descriptors is going to go away. Please use get/find descriptors from generated code or query the descriptor_pool.\n",
      "  _descriptor.EnumValueDescriptor(\n",
      "C:\\Users\\celine\\anaconda3\\lib\\site-packages\\tensorflow\\core\\framework\\types_pb2.py:173: DeprecationWarning: Call to deprecated create function EnumValueDescriptor(). Note: Create unlinked descriptors is going to go away. Please use get/find descriptors from generated code or query the descriptor_pool.\n",
      "  _descriptor.EnumValueDescriptor(\n",
      "C:\\Users\\celine\\anaconda3\\lib\\site-packages\\tensorflow\\core\\framework\\types_pb2.py:177: DeprecationWarning: Call to deprecated create function EnumValueDescriptor(). Note: Create unlinked descriptors is going to go away. Please use get/find descriptors from generated code or query the descriptor_pool.\n",
      "  _descriptor.EnumValueDescriptor(\n",
      "C:\\Users\\celine\\anaconda3\\lib\\site-packages\\tensorflow\\core\\framework\\types_pb2.py:181: DeprecationWarning: Call to deprecated create function EnumValueDescriptor(). Note: Create unlinked descriptors is going to go away. Please use get/find descriptors from generated code or query the descriptor_pool.\n",
      "  _descriptor.EnumValueDescriptor(\n",
      "C:\\Users\\celine\\anaconda3\\lib\\site-packages\\tensorflow\\core\\framework\\types_pb2.py:185: DeprecationWarning: Call to deprecated create function EnumValueDescriptor(). Note: Create unlinked descriptors is going to go away. Please use get/find descriptors from generated code or query the descriptor_pool.\n",
      "  _descriptor.EnumValueDescriptor(\n",
      "C:\\Users\\celine\\anaconda3\\lib\\site-packages\\tensorflow\\core\\framework\\types_pb2.py:189: DeprecationWarning: Call to deprecated create function EnumValueDescriptor(). Note: Create unlinked descriptors is going to go away. Please use get/find descriptors from generated code or query the descriptor_pool.\n",
      "  _descriptor.EnumValueDescriptor(\n",
      "C:\\Users\\celine\\anaconda3\\lib\\site-packages\\tensorflow\\core\\framework\\types_pb2.py:193: DeprecationWarning: Call to deprecated create function EnumValueDescriptor(). Note: Create unlinked descriptors is going to go away. Please use get/find descriptors from generated code or query the descriptor_pool.\n",
      "  _descriptor.EnumValueDescriptor(\n",
      "C:\\Users\\celine\\anaconda3\\lib\\site-packages\\tensorflow\\core\\framework\\types_pb2.py:197: DeprecationWarning: Call to deprecated create function EnumValueDescriptor(). Note: Create unlinked descriptors is going to go away. Please use get/find descriptors from generated code or query the descriptor_pool.\n",
      "  _descriptor.EnumValueDescriptor(\n",
      "C:\\Users\\celine\\anaconda3\\lib\\site-packages\\tensorflow\\core\\framework\\types_pb2.py:201: DeprecationWarning: Call to deprecated create function EnumValueDescriptor(). Note: Create unlinked descriptors is going to go away. Please use get/find descriptors from generated code or query the descriptor_pool.\n",
      "  _descriptor.EnumValueDescriptor(\n",
      "C:\\Users\\celine\\anaconda3\\lib\\site-packages\\tensorflow\\core\\framework\\types_pb2.py:205: DeprecationWarning: Call to deprecated create function EnumValueDescriptor(). Note: Create unlinked descriptors is going to go away. Please use get/find descriptors from generated code or query the descriptor_pool.\n",
      "  _descriptor.EnumValueDescriptor(\n",
      "C:\\Users\\celine\\anaconda3\\lib\\site-packages\\tensorflow\\core\\framework\\types_pb2.py:209: DeprecationWarning: Call to deprecated create function EnumValueDescriptor(). Note: Create unlinked descriptors is going to go away. Please use get/find descriptors from generated code or query the descriptor_pool.\n",
      "  _descriptor.EnumValueDescriptor(\n",
      "C:\\Users\\celine\\anaconda3\\lib\\site-packages\\tensorflow\\core\\framework\\types_pb2.py:213: DeprecationWarning: Call to deprecated create function EnumValueDescriptor(). Note: Create unlinked descriptors is going to go away. Please use get/find descriptors from generated code or query the descriptor_pool.\n",
      "  _descriptor.EnumValueDescriptor(\n",
      "C:\\Users\\celine\\anaconda3\\lib\\site-packages\\tensorflow\\core\\framework\\types_pb2.py:217: DeprecationWarning: Call to deprecated create function EnumValueDescriptor(). Note: Create unlinked descriptors is going to go away. Please use get/find descriptors from generated code or query the descriptor_pool.\n",
      "  _descriptor.EnumValueDescriptor(\n",
      "C:\\Users\\celine\\anaconda3\\lib\\site-packages\\tensorflow\\core\\framework\\types_pb2.py:27: DeprecationWarning: Call to deprecated create function EnumDescriptor(). Note: Create unlinked descriptors is going to go away. Please use get/find descriptors from generated code or query the descriptor_pool.\n",
      "  _DATATYPE = _descriptor.EnumDescriptor(\n",
      "C:\\Users\\celine\\anaconda3\\lib\\site-packages\\tensorflow\\core\\framework\\types_pb2.py:236: DeprecationWarning: Call to deprecated create function EnumValueDescriptor(). Note: Create unlinked descriptors is going to go away. Please use get/find descriptors from generated code or query the descriptor_pool.\n",
      "  _descriptor.EnumValueDescriptor(\n",
      "C:\\Users\\celine\\anaconda3\\lib\\site-packages\\tensorflow\\core\\framework\\types_pb2.py:240: DeprecationWarning: Call to deprecated create function EnumValueDescriptor(). Note: Create unlinked descriptors is going to go away. Please use get/find descriptors from generated code or query the descriptor_pool.\n",
      "  _descriptor.EnumValueDescriptor(\n",
      "C:\\Users\\celine\\anaconda3\\lib\\site-packages\\tensorflow\\core\\framework\\types_pb2.py:230: DeprecationWarning: Call to deprecated create function EnumDescriptor(). Note: Create unlinked descriptors is going to go away. Please use get/find descriptors from generated code or query the descriptor_pool.\n",
      "  _SPECIALIZEDTYPE = _descriptor.EnumDescriptor(\n",
      "C:\\Users\\celine\\anaconda3\\lib\\site-packages\\tensorflow\\core\\framework\\resource_handle_pb2.py:20: DeprecationWarning: Call to deprecated create function FileDescriptor(). Note: Create unlinked descriptors is going to go away. Please use get/find descriptors from generated code or query the descriptor_pool.\n",
      "  DESCRIPTOR = _descriptor.FileDescriptor(\n",
      "C:\\Users\\celine\\anaconda3\\lib\\site-packages\\tensorflow\\core\\framework\\resource_handle_pb2.py:39: DeprecationWarning: Call to deprecated create function FieldDescriptor(). Note: Create unlinked descriptors is going to go away. Please use get/find descriptors from generated code or query the descriptor_pool.\n",
      "  _descriptor.FieldDescriptor(\n",
      "C:\\Users\\celine\\anaconda3\\lib\\site-packages\\tensorflow\\core\\framework\\resource_handle_pb2.py:46: DeprecationWarning: Call to deprecated create function FieldDescriptor(). Note: Create unlinked descriptors is going to go away. Please use get/find descriptors from generated code or query the descriptor_pool.\n",
      "  _descriptor.FieldDescriptor(\n",
      "C:\\Users\\celine\\anaconda3\\lib\\site-packages\\tensorflow\\core\\framework\\resource_handle_pb2.py:32: DeprecationWarning: Call to deprecated create function Descriptor(). Note: Create unlinked descriptors is going to go away. Please use get/find descriptors from generated code or query the descriptor_pool.\n",
      "  _RESOURCEHANDLEPROTO_DTYPEANDSHAPE = _descriptor.Descriptor(\n",
      "C:\\Users\\celine\\anaconda3\\lib\\site-packages\\tensorflow\\core\\framework\\resource_handle_pb2.py:76: DeprecationWarning: Call to deprecated create function FieldDescriptor(). Note: Create unlinked descriptors is going to go away. Please use get/find descriptors from generated code or query the descriptor_pool.\n",
      "  _descriptor.FieldDescriptor(\n",
      "C:\\Users\\celine\\anaconda3\\lib\\site-packages\\tensorflow\\core\\framework\\resource_handle_pb2.py:83: DeprecationWarning: Call to deprecated create function FieldDescriptor(). Note: Create unlinked descriptors is going to go away. Please use get/find descriptors from generated code or query the descriptor_pool.\n",
      "  _descriptor.FieldDescriptor(\n",
      "C:\\Users\\celine\\anaconda3\\lib\\site-packages\\tensorflow\\core\\framework\\resource_handle_pb2.py:90: DeprecationWarning: Call to deprecated create function FieldDescriptor(). Note: Create unlinked descriptors is going to go away. Please use get/find descriptors from generated code or query the descriptor_pool.\n",
      "  _descriptor.FieldDescriptor(\n",
      "C:\\Users\\celine\\anaconda3\\lib\\site-packages\\tensorflow\\core\\framework\\resource_handle_pb2.py:97: DeprecationWarning: Call to deprecated create function FieldDescriptor(). Note: Create unlinked descriptors is going to go away. Please use get/find descriptors from generated code or query the descriptor_pool.\n",
      "  _descriptor.FieldDescriptor(\n",
      "C:\\Users\\celine\\anaconda3\\lib\\site-packages\\tensorflow\\core\\framework\\resource_handle_pb2.py:104: DeprecationWarning: Call to deprecated create function FieldDescriptor(). Note: Create unlinked descriptors is going to go away. Please use get/find descriptors from generated code or query the descriptor_pool.\n",
      "  _descriptor.FieldDescriptor(\n",
      "C:\\Users\\celine\\anaconda3\\lib\\site-packages\\tensorflow\\core\\framework\\resource_handle_pb2.py:111: DeprecationWarning: Call to deprecated create function FieldDescriptor(). Note: Create unlinked descriptors is going to go away. Please use get/find descriptors from generated code or query the descriptor_pool.\n",
      "  _descriptor.FieldDescriptor(\n",
      "C:\\Users\\celine\\anaconda3\\lib\\site-packages\\tensorflow\\core\\framework\\resource_handle_pb2.py:69: DeprecationWarning: Call to deprecated create function Descriptor(). Note: Create unlinked descriptors is going to go away. Please use get/find descriptors from generated code or query the descriptor_pool.\n",
      "  _RESOURCEHANDLEPROTO = _descriptor.Descriptor(\n",
      "C:\\Users\\celine\\anaconda3\\lib\\site-packages\\tensorflow\\core\\framework\\tensor_pb2.py:21: DeprecationWarning: Call to deprecated create function FileDescriptor(). Note: Create unlinked descriptors is going to go away. Please use get/find descriptors from generated code or query the descriptor_pool.\n",
      "  DESCRIPTOR = _descriptor.FileDescriptor(\n",
      "C:\\Users\\celine\\anaconda3\\lib\\site-packages\\tensorflow\\core\\framework\\tensor_pb2.py:40: DeprecationWarning: Call to deprecated create function FieldDescriptor(). Note: Create unlinked descriptors is going to go away. Please use get/find descriptors from generated code or query the descriptor_pool.\n",
      "  _descriptor.FieldDescriptor(\n",
      "C:\\Users\\celine\\anaconda3\\lib\\site-packages\\tensorflow\\core\\framework\\tensor_pb2.py:47: DeprecationWarning: Call to deprecated create function FieldDescriptor(). Note: Create unlinked descriptors is going to go away. Please use get/find descriptors from generated code or query the descriptor_pool.\n",
      "  _descriptor.FieldDescriptor(\n",
      "C:\\Users\\celine\\anaconda3\\lib\\site-packages\\tensorflow\\core\\framework\\tensor_pb2.py:54: DeprecationWarning: Call to deprecated create function FieldDescriptor(). Note: Create unlinked descriptors is going to go away. Please use get/find descriptors from generated code or query the descriptor_pool.\n",
      "  _descriptor.FieldDescriptor(\n",
      "C:\\Users\\celine\\anaconda3\\lib\\site-packages\\tensorflow\\core\\framework\\tensor_pb2.py:61: DeprecationWarning: Call to deprecated create function FieldDescriptor(). Note: Create unlinked descriptors is going to go away. Please use get/find descriptors from generated code or query the descriptor_pool.\n",
      "  _descriptor.FieldDescriptor(\n",
      "C:\\Users\\celine\\anaconda3\\lib\\site-packages\\tensorflow\\core\\framework\\tensor_pb2.py:68: DeprecationWarning: Call to deprecated create function FieldDescriptor(). Note: Create unlinked descriptors is going to go away. Please use get/find descriptors from generated code or query the descriptor_pool.\n",
      "  _descriptor.FieldDescriptor(\n",
      "C:\\Users\\celine\\anaconda3\\lib\\site-packages\\tensorflow\\core\\framework\\tensor_pb2.py:75: DeprecationWarning: Call to deprecated create function FieldDescriptor(). Note: Create unlinked descriptors is going to go away. Please use get/find descriptors from generated code or query the descriptor_pool.\n",
      "  _descriptor.FieldDescriptor(\n",
      "C:\\Users\\celine\\anaconda3\\lib\\site-packages\\tensorflow\\core\\framework\\tensor_pb2.py:82: DeprecationWarning: Call to deprecated create function FieldDescriptor(). Note: Create unlinked descriptors is going to go away. Please use get/find descriptors from generated code or query the descriptor_pool.\n",
      "  _descriptor.FieldDescriptor(\n",
      "C:\\Users\\celine\\anaconda3\\lib\\site-packages\\tensorflow\\core\\framework\\tensor_pb2.py:89: DeprecationWarning: Call to deprecated create function FieldDescriptor(). Note: Create unlinked descriptors is going to go away. Please use get/find descriptors from generated code or query the descriptor_pool.\n",
      "  _descriptor.FieldDescriptor(\n",
      "C:\\Users\\celine\\anaconda3\\lib\\site-packages\\tensorflow\\core\\framework\\tensor_pb2.py:96: DeprecationWarning: Call to deprecated create function FieldDescriptor(). Note: Create unlinked descriptors is going to go away. Please use get/find descriptors from generated code or query the descriptor_pool.\n",
      "  _descriptor.FieldDescriptor(\n",
      "C:\\Users\\celine\\anaconda3\\lib\\site-packages\\tensorflow\\core\\framework\\tensor_pb2.py:103: DeprecationWarning: Call to deprecated create function FieldDescriptor(). Note: Create unlinked descriptors is going to go away. Please use get/find descriptors from generated code or query the descriptor_pool.\n",
      "  _descriptor.FieldDescriptor(\n",
      "C:\\Users\\celine\\anaconda3\\lib\\site-packages\\tensorflow\\core\\framework\\tensor_pb2.py:110: DeprecationWarning: Call to deprecated create function FieldDescriptor(). Note: Create unlinked descriptors is going to go away. Please use get/find descriptors from generated code or query the descriptor_pool.\n",
      "  _descriptor.FieldDescriptor(\n",
      "C:\\Users\\celine\\anaconda3\\lib\\site-packages\\tensorflow\\core\\framework\\tensor_pb2.py:117: DeprecationWarning: Call to deprecated create function FieldDescriptor(). Note: Create unlinked descriptors is going to go away. Please use get/find descriptors from generated code or query the descriptor_pool.\n",
      "  _descriptor.FieldDescriptor(\n",
      "C:\\Users\\celine\\anaconda3\\lib\\site-packages\\tensorflow\\core\\framework\\tensor_pb2.py:124: DeprecationWarning: Call to deprecated create function FieldDescriptor(). Note: Create unlinked descriptors is going to go away. Please use get/find descriptors from generated code or query the descriptor_pool.\n",
      "  _descriptor.FieldDescriptor(\n",
      "C:\\Users\\celine\\anaconda3\\lib\\site-packages\\tensorflow\\core\\framework\\tensor_pb2.py:131: DeprecationWarning: Call to deprecated create function FieldDescriptor(). Note: Create unlinked descriptors is going to go away. Please use get/find descriptors from generated code or query the descriptor_pool.\n",
      "  _descriptor.FieldDescriptor(\n",
      "C:\\Users\\celine\\anaconda3\\lib\\site-packages\\tensorflow\\core\\framework\\tensor_pb2.py:138: DeprecationWarning: Call to deprecated create function FieldDescriptor(). Note: Create unlinked descriptors is going to go away. Please use get/find descriptors from generated code or query the descriptor_pool.\n",
      "  _descriptor.FieldDescriptor(\n",
      "C:\\Users\\celine\\anaconda3\\lib\\site-packages\\tensorflow\\core\\framework\\tensor_pb2.py:145: DeprecationWarning: Call to deprecated create function FieldDescriptor(). Note: Create unlinked descriptors is going to go away. Please use get/find descriptors from generated code or query the descriptor_pool.\n",
      "  _descriptor.FieldDescriptor(\n",
      "C:\\Users\\celine\\anaconda3\\lib\\site-packages\\tensorflow\\core\\framework\\tensor_pb2.py:152: DeprecationWarning: Call to deprecated create function FieldDescriptor(). Note: Create unlinked descriptors is going to go away. Please use get/find descriptors from generated code or query the descriptor_pool.\n",
      "  _descriptor.FieldDescriptor(\n",
      "C:\\Users\\celine\\anaconda3\\lib\\site-packages\\tensorflow\\core\\framework\\tensor_pb2.py:33: DeprecationWarning: Call to deprecated create function Descriptor(). Note: Create unlinked descriptors is going to go away. Please use get/find descriptors from generated code or query the descriptor_pool.\n",
      "  _TENSORPROTO = _descriptor.Descriptor(\n",
      "C:\\Users\\celine\\anaconda3\\lib\\site-packages\\tensorflow\\core\\framework\\tensor_pb2.py:183: DeprecationWarning: Call to deprecated create function FieldDescriptor(). Note: Create unlinked descriptors is going to go away. Please use get/find descriptors from generated code or query the descriptor_pool.\n",
      "  _descriptor.FieldDescriptor(\n",
      "C:\\Users\\celine\\anaconda3\\lib\\site-packages\\tensorflow\\core\\framework\\tensor_pb2.py:190: DeprecationWarning: Call to deprecated create function FieldDescriptor(). Note: Create unlinked descriptors is going to go away. Please use get/find descriptors from generated code or query the descriptor_pool.\n",
      "  _descriptor.FieldDescriptor(\n",
      "C:\\Users\\celine\\anaconda3\\lib\\site-packages\\tensorflow\\core\\framework\\tensor_pb2.py:197: DeprecationWarning: Call to deprecated create function FieldDescriptor(). Note: Create unlinked descriptors is going to go away. Please use get/find descriptors from generated code or query the descriptor_pool.\n",
      "  _descriptor.FieldDescriptor(\n",
      "C:\\Users\\celine\\anaconda3\\lib\\site-packages\\tensorflow\\core\\framework\\tensor_pb2.py:176: DeprecationWarning: Call to deprecated create function Descriptor(). Note: Create unlinked descriptors is going to go away. Please use get/find descriptors from generated code or query the descriptor_pool.\n",
      "  _VARIANTTENSORDATAPROTO = _descriptor.Descriptor(\n",
      "C:\\Users\\celine\\anaconda3\\lib\\site-packages\\tensorflow\\core\\framework\\attr_value_pb2.py:21: DeprecationWarning: Call to deprecated create function FileDescriptor(). Note: Create unlinked descriptors is going to go away. Please use get/find descriptors from generated code or query the descriptor_pool.\n",
      "  DESCRIPTOR = _descriptor.FileDescriptor(\n",
      "C:\\Users\\celine\\anaconda3\\lib\\site-packages\\tensorflow\\core\\framework\\attr_value_pb2.py:40: DeprecationWarning: Call to deprecated create function FieldDescriptor(). Note: Create unlinked descriptors is going to go away. Please use get/find descriptors from generated code or query the descriptor_pool.\n",
      "  _descriptor.FieldDescriptor(\n",
      "C:\\Users\\celine\\anaconda3\\lib\\site-packages\\tensorflow\\core\\framework\\attr_value_pb2.py:47: DeprecationWarning: Call to deprecated create function FieldDescriptor(). Note: Create unlinked descriptors is going to go away. Please use get/find descriptors from generated code or query the descriptor_pool.\n",
      "  _descriptor.FieldDescriptor(\n",
      "C:\\Users\\celine\\anaconda3\\lib\\site-packages\\tensorflow\\core\\framework\\attr_value_pb2.py:54: DeprecationWarning: Call to deprecated create function FieldDescriptor(). Note: Create unlinked descriptors is going to go away. Please use get/find descriptors from generated code or query the descriptor_pool.\n",
      "  _descriptor.FieldDescriptor(\n",
      "C:\\Users\\celine\\anaconda3\\lib\\site-packages\\tensorflow\\core\\framework\\attr_value_pb2.py:61: DeprecationWarning: Call to deprecated create function FieldDescriptor(). Note: Create unlinked descriptors is going to go away. Please use get/find descriptors from generated code or query the descriptor_pool.\n",
      "  _descriptor.FieldDescriptor(\n",
      "C:\\Users\\celine\\anaconda3\\lib\\site-packages\\tensorflow\\core\\framework\\attr_value_pb2.py:68: DeprecationWarning: Call to deprecated create function FieldDescriptor(). Note: Create unlinked descriptors is going to go away. Please use get/find descriptors from generated code or query the descriptor_pool.\n",
      "  _descriptor.FieldDescriptor(\n",
      "C:\\Users\\celine\\anaconda3\\lib\\site-packages\\tensorflow\\core\\framework\\attr_value_pb2.py:75: DeprecationWarning: Call to deprecated create function FieldDescriptor(). Note: Create unlinked descriptors is going to go away. Please use get/find descriptors from generated code or query the descriptor_pool.\n",
      "  _descriptor.FieldDescriptor(\n"
     ]
    },
    {
     "name": "stderr",
     "output_type": "stream",
     "text": [
      "C:\\Users\\celine\\anaconda3\\lib\\site-packages\\tensorflow\\python\\framework\\dtypes.py:513: DeprecationWarning: `np.object` is a deprecated alias for the builtin `object`. To silence this warning, use `object` by itself. Doing this will not modify any behavior and is safe. \n",
      "Deprecated in NumPy 1.20; for more details and guidance: https://numpy.org/devdocs/release/1.20.0-notes.html#deprecations\n",
      "  np.object,\n",
      "C:\\Users\\celine\\anaconda3\\lib\\site-packages\\tensorflow\\python\\framework\\dtypes.py:521: DeprecationWarning: `np.bool` is a deprecated alias for the builtin `bool`. To silence this warning, use `bool` by itself. Doing this will not modify any behavior and is safe. If you specifically wanted the numpy scalar type, use `np.bool_` here.\n",
      "Deprecated in NumPy 1.20; for more details and guidance: https://numpy.org/devdocs/release/1.20.0-notes.html#deprecations\n",
      "  np.bool,\n",
      "C:\\Users\\celine\\anaconda3\\lib\\site-packages\\tensorflow\\python\\framework\\dtypes.py:555: DeprecationWarning: `np.object` is a deprecated alias for the builtin `object`. To silence this warning, use `object` by itself. Doing this will not modify any behavior and is safe. \n",
      "Deprecated in NumPy 1.20; for more details and guidance: https://numpy.org/devdocs/release/1.20.0-notes.html#deprecations\n",
      "  np.object,\n",
      "C:\\Users\\celine\\anaconda3\\lib\\site-packages\\tensorflow\\python\\framework\\dtypes.py:565: DeprecationWarning: `np.bool` is a deprecated alias for the builtin `bool`. To silence this warning, use `bool` by itself. Doing this will not modify any behavior and is safe. If you specifically wanted the numpy scalar type, use `np.bool_` here.\n",
      "Deprecated in NumPy 1.20; for more details and guidance: https://numpy.org/devdocs/release/1.20.0-notes.html#deprecations\n",
      "  np.bool,\n",
      "C:\\Users\\celine\\anaconda3\\lib\\site-packages\\tensorflow\\python\\framework\\tensor_util.py:176: DeprecationWarning: `np.object` is a deprecated alias for the builtin `object`. To silence this warning, use `object` by itself. Doing this will not modify any behavior and is safe. \n",
      "Deprecated in NumPy 1.20; for more details and guidance: https://numpy.org/devdocs/release/1.20.0-notes.html#deprecations\n",
      "  np.object: SlowAppendObjectArrayToTensorProto,\n",
      "C:\\Users\\celine\\anaconda3\\lib\\site-packages\\tensorflow\\python\\framework\\tensor_util.py:177: DeprecationWarning: `np.bool` is a deprecated alias for the builtin `bool`. To silence this warning, use `bool` by itself. Doing this will not modify any behavior and is safe. If you specifically wanted the numpy scalar type, use `np.bool_` here.\n",
      "Deprecated in NumPy 1.20; for more details and guidance: https://numpy.org/devdocs/release/1.20.0-notes.html#deprecations\n",
      "  np.bool: SlowAppendBoolArrayToTensorProto,\n",
      "C:\\Users\\celine\\anaconda3\\lib\\site-packages\\tensorflow\\python\\ops\\numpy_ops\\np_random.py:95: DeprecationWarning: `np.int` is a deprecated alias for the builtin `int`. To silence this warning, use `int` by itself. Doing this will not modify any behavior and is safe. When replacing `np.int`, you may wish to use e.g. `np.int64` or `np.int32` to specify the precision. If you wish to review your current use, check the release note link for additional information.\n",
      "Deprecated in NumPy 1.20; for more details and guidance: https://numpy.org/devdocs/release/1.20.0-notes.html#deprecations\n",
      "  def randint(low, high=None, size=None, dtype=onp.int):  # pylint: disable=missing-function-docstring\n",
      "C:\\Users\\celine\\anaconda3\\lib\\site-packages\\tensorboard\\compat\\tensorflow_stub\\dtypes.py:569: DeprecationWarning: `np.object` is a deprecated alias for the builtin `object`. To silence this warning, use `object` by itself. Doing this will not modify any behavior and is safe. \n",
      "Deprecated in NumPy 1.20; for more details and guidance: https://numpy.org/devdocs/release/1.20.0-notes.html#deprecations\n",
      "  (np.object, string),\n",
      "C:\\Users\\celine\\anaconda3\\lib\\site-packages\\tensorboard\\compat\\tensorflow_stub\\dtypes.py:570: DeprecationWarning: `np.bool` is a deprecated alias for the builtin `bool`. To silence this warning, use `bool` by itself. Doing this will not modify any behavior and is safe. If you specifically wanted the numpy scalar type, use `np.bool_` here.\n",
      "Deprecated in NumPy 1.20; for more details and guidance: https://numpy.org/devdocs/release/1.20.0-notes.html#deprecations\n",
      "  (np.bool, bool),\n",
      "C:\\Users\\celine\\anaconda3\\lib\\site-packages\\tensorboard\\compat\\tensorflow_stub\\dtypes.py:594: DeprecationWarning: `np.object` is a deprecated alias for the builtin `object`. To silence this warning, use `object` by itself. Doing this will not modify any behavior and is safe. \n",
      "Deprecated in NumPy 1.20; for more details and guidance: https://numpy.org/devdocs/release/1.20.0-notes.html#deprecations\n",
      "  types_pb2.DT_STRING: np.object,\n",
      "C:\\Users\\celine\\anaconda3\\lib\\site-packages\\tensorboard\\compat\\tensorflow_stub\\dtypes.py:598: DeprecationWarning: `np.bool` is a deprecated alias for the builtin `bool`. To silence this warning, use `bool` by itself. Doing this will not modify any behavior and is safe. If you specifically wanted the numpy scalar type, use `np.bool_` here.\n",
      "Deprecated in NumPy 1.20; for more details and guidance: https://numpy.org/devdocs/release/1.20.0-notes.html#deprecations\n",
      "  types_pb2.DT_BOOL: np.bool,\n",
      "C:\\Users\\celine\\anaconda3\\lib\\site-packages\\tensorboard\\compat\\tensorflow_stub\\dtypes.py:615: DeprecationWarning: `np.object` is a deprecated alias for the builtin `object`. To silence this warning, use `object` by itself. Doing this will not modify any behavior and is safe. \n",
      "Deprecated in NumPy 1.20; for more details and guidance: https://numpy.org/devdocs/release/1.20.0-notes.html#deprecations\n",
      "  types_pb2.DT_STRING_REF: np.object,\n",
      "C:\\Users\\celine\\anaconda3\\lib\\site-packages\\tensorboard\\compat\\tensorflow_stub\\dtypes.py:620: DeprecationWarning: `np.bool` is a deprecated alias for the builtin `bool`. To silence this warning, use `bool` by itself. Doing this will not modify any behavior and is safe. If you specifically wanted the numpy scalar type, use `np.bool_` here.\n",
      "Deprecated in NumPy 1.20; for more details and guidance: https://numpy.org/devdocs/release/1.20.0-notes.html#deprecations\n",
      "  types_pb2.DT_BOOL_REF: np.bool,\n",
      "C:\\Users\\celine\\anaconda3\\lib\\site-packages\\tensorboard\\util\\tensor_util.py:109: DeprecationWarning: `np.object` is a deprecated alias for the builtin `object`. To silence this warning, use `object` by itself. Doing this will not modify any behavior and is safe. \n",
      "Deprecated in NumPy 1.20; for more details and guidance: https://numpy.org/devdocs/release/1.20.0-notes.html#deprecations\n",
      "  np.object: SlowAppendObjectArrayToTensorProto,\n",
      "C:\\Users\\celine\\anaconda3\\lib\\site-packages\\tensorboard\\util\\tensor_util.py:110: DeprecationWarning: `np.bool` is a deprecated alias for the builtin `bool`. To silence this warning, use `bool` by itself. Doing this will not modify any behavior and is safe. If you specifically wanted the numpy scalar type, use `np.bool_` here.\n",
      "Deprecated in NumPy 1.20; for more details and guidance: https://numpy.org/devdocs/release/1.20.0-notes.html#deprecations\n",
      "  np.bool: SlowAppendBoolArrayToTensorProto,\n"
     ]
    }
   ],
   "source": [
    "from functions import *"
   ]
  },
  {
   "cell_type": "code",
   "execution_count": 41,
   "id": "c6917bde",
   "metadata": {},
   "outputs": [],
   "source": [
    "def predict_lda(text):\n",
    "    ''' predicts tags obtaned with lda model'''\n",
    "    #clean text\n",
    "    text = clean_text(text)\n",
    "    text = remove_stop_words(text)\n",
    "    text = lemmatize(text)\n",
    "    \n",
    "    #make prediction\n",
    "    corpus = dictionary.doc2bow(text.split())\n",
    "    num_topic = max(lda_model.get_document_topics(corpus),\n",
    "                    key=itemgetter(1))[0]\n",
    "    m_tag = main_tag(num_topic)\n",
    "    other_tags = tags_2(num_topic, text)\n",
    "    a = Union(m_tag, other_tags)\n",
    "    \n",
    "    return a"
   ]
  },
  {
   "cell_type": "code",
   "execution_count": 42,
   "id": "e0d3a6c1",
   "metadata": {},
   "outputs": [
    {
     "name": "stderr",
     "output_type": "stream",
     "text": [
      "<>:2: DeprecationWarning: invalid escape sequence \\ \n",
      "<>:2: DeprecationWarning: invalid escape sequence \\ \n",
      "C:\\Users\\celine\\AppData\\Local\\Temp/ipykernel_13904/211915831.py:2: DeprecationWarning: invalid escape sequence \\ \n",
      "  text1 =\"\"\"How can I safely create a nested directory?\n"
     ]
    }
   ],
   "source": [
    "#https://stackoverflow.com/questions/273192/how-can-i-safely-create-a-nested-directory\n",
    "text1 =\"\"\"How can I safely create a nested directory?\n",
    "        What is the most elegant way to check if the directory a file is going to be written to exists, \n",
    "        and if not, create the directory using Python? Here is what I tried:\n",
    "        import os\\ file_path =\"/my/directory/filename.txt\" \n",
    "        directory = os.path.dirname(file_path) \n",
    "        try: \n",
    "        os.stat(directory) \n",
    "        except: \n",
    "        os.mkdir(directory) \n",
    "        f = file(filename) \n",
    "        Somehow, I missed os.path.exists (thanks kanja, Blair, and Douglas). This is what I have now: \n",
    "        def ensure_dir(file_path): \n",
    "        directory = os.path.dirname(file_path) \n",
    "        if not os.path.exists(directory): \n",
    "        os.makedirs(directory) \n",
    "        Is there a flag for open(), that makes this happen automatically?\"\"\""
   ]
  },
  {
   "cell_type": "code",
   "execution_count": 43,
   "id": "1befbf82",
   "metadata": {},
   "outputs": [
    {
     "data": {
      "text/plain": [
       "['python', 'create', 'file', 'open', 'directory', 'path', 'import']"
      ]
     },
     "execution_count": 43,
     "metadata": {},
     "output_type": "execute_result"
    }
   ],
   "source": [
    "predict_lda(text1)"
   ]
  },
  {
   "cell_type": "code",
   "execution_count": 44,
   "id": "788077d2",
   "metadata": {},
   "outputs": [],
   "source": [
    "#https://stackoverflow.com/questions/509211/understanding-slice-notation\n",
    "text2 = \"\"\"I need a good explanation (references are a plus) on Python's slice notation.\n",
    "To me, this notation needs a bit of picking up.\n",
    "It looks extremely powerful, but I haven't quite got my head around it.\"\"\""
   ]
  },
  {
   "cell_type": "code",
   "execution_count": 45,
   "id": "dd6d8da3",
   "metadata": {},
   "outputs": [
    {
     "data": {
      "text/plain": [
       "['python', 'string']"
      ]
     },
     "execution_count": 45,
     "metadata": {},
     "output_type": "execute_result"
    }
   ],
   "source": [
    "predict_lda(text2)"
   ]
  },
  {
   "cell_type": "code",
   "execution_count": 46,
   "id": "8e3f2a4a",
   "metadata": {},
   "outputs": [],
   "source": [
    "#https://stackoverflow.com/questions/1642028/what-is-the-operator-in-c-c\n",
    "text3 = \"\"\"After reading Hidden Features and Dark Corners of C++/STL on comp.lang.c++.moderated, \n",
    "I was completely surprised that the following snippet compiled and worked in both Visual Studio 2008 and G++ 4.4.\n",
    "Here's the code:\n",
    "\n",
    "#include <stdio.h>\n",
    "int main()\n",
    "{\n",
    "    int x = 10;\n",
    "    while (x --> 0) // x goes to 0\n",
    "    {\n",
    "        printf(\"%d \", x);\n",
    "    }\n",
    "}\n",
    "Output:\n",
    "\n",
    "9 8 7 6 5 4 3 2 1 0\n",
    "I'd assume this is C, since it works in GCC as well. Where is this defined in the standard, and where has it come from?\"\"\""
   ]
  },
  {
   "cell_type": "code",
   "execution_count": 47,
   "id": "8fdf630d",
   "metadata": {},
   "outputs": [
    {
     "data": {
      "text/plain": [
       "['int', 'c++', 'string', 'define', 'c']"
      ]
     },
     "execution_count": 47,
     "metadata": {},
     "output_type": "execute_result"
    }
   ],
   "source": [
    "predict_lda(text3)"
   ]
  },
  {
   "cell_type": "markdown",
   "id": "732ea8d7",
   "metadata": {},
   "source": [
    "### NMF"
   ]
  },
  {
   "cell_type": "markdown",
   "id": "d9d37443",
   "metadata": {},
   "source": [
    "We try topic prediction with the non negative matrix factorization that is a linear algebra model."
   ]
  },
  {
   "cell_type": "code",
   "execution_count": 48,
   "id": "6c597225",
   "metadata": {},
   "outputs": [],
   "source": [
    "#df = pd.read_pickle('./data/cleaned_data.pkl')\n",
    "#df.reset_index(drop=True, inplace=True)"
   ]
  },
  {
   "cell_type": "code",
   "execution_count": 49,
   "id": "a5e87f30",
   "metadata": {},
   "outputs": [],
   "source": [
    "documents = []\n",
    "for i in range(df.shape[0]):\n",
    "    documents.append(df['Preprocessed_text'][i])"
   ]
  },
  {
   "cell_type": "code",
   "execution_count": 50,
   "id": "aa9c5f4c",
   "metadata": {},
   "outputs": [],
   "source": [
    "from sklearn.decomposition import NMF"
   ]
  },
  {
   "cell_type": "code",
   "execution_count": 51,
   "id": "535f4d5a",
   "metadata": {},
   "outputs": [],
   "source": [
    "#preprocessing\n",
    "tfidf_vectorizer = TfidfVectorizer(max_df=0.90, \n",
    "                                   min_df=2, \n",
    "                                   stop_words='english')\n",
    "\n",
    "tfidf = tfidf_vectorizer.fit_transform(documents)\n",
    "\n",
    "tfidf_feature_names = tfidf_vectorizer.get_feature_names()"
   ]
  },
  {
   "cell_type": "code",
   "execution_count": 52,
   "id": "1ff11cd2",
   "metadata": {},
   "outputs": [
    {
     "data": {
      "text/plain": [
       "NMF(alpha=0.1, init='nndsvd', l1_ratio=0.5, n_components=18, random_state=1)"
      ]
     },
     "execution_count": 52,
     "metadata": {},
     "output_type": "execute_result"
    }
   ],
   "source": [
    "# alpha=0 means no regularization, l1_ratio=.5, the penalty is a combination of L1 and L2\n",
    "# Run NMF\n",
    "nmf = NMF(n_components=18, random_state=1, alpha=.1, l1_ratio=.5, init='nndsvd')\n",
    "nmf.fit(tfidf)\n"
   ]
  },
  {
   "cell_type": "code",
   "execution_count": 53,
   "id": "66df65ec",
   "metadata": {},
   "outputs": [],
   "source": [
    "def display_topics(model, feature_names, no_top_words):\n",
    "    '''display topics and associated words'''\n",
    "    for topic_idx, topic in enumerate(model.components_):\n",
    "        print(\"Topic {}:\".format(topic_idx))\n",
    "        print(\" \".join([feature_names[i] for i in topic.argsort()[:-no_top_words - 1:-1]]))"
   ]
  },
  {
   "cell_type": "code",
   "execution_count": 54,
   "id": "9e8dadca",
   "metadata": {
    "scrolled": false
   },
   "outputs": [
    {
     "name": "stdout",
     "output_type": "stream",
     "text": [
      "Topic 0:\n",
      "error user run request server test web application api net url project log work window\n",
      "Topic 1:\n",
      "android studio layout_width com layout_height wrap_content activity layout xml support gradle item match_parent sdk widget\n",
      "Topic 2:\n",
      "file directory folder line project path open txt command upload create text copy bash include\n",
      "Topic 3:\n",
      "string convert object json public stre format str number character return char contain method split\n",
      "Topic 4:\n",
      "git branch commit master push repository github merge remote origin pull repo rebase local clone\n",
      "Topic 5:\n",
      "table sql query select key database mysql create row field primary foreign column server schema\n",
      "Topic 6:\n",
      "class public static method type extend href object span bootstrap btn override col constructor model\n",
      "Topic 7:\n",
      "function return var datum console javascript log jquery scope react test component object method event\n",
      "Topic 8:\n",
      "date day datetime month format year time hour convert number timestamp return datepicker iso end\n",
      "Topic 9:\n",
      "python line module print import package install pip lib usr instal script run version command\n",
      "Topic 10:\n",
      "image background color css text width button html height style size tag page center bootstrap\n",
      "Topic 11:\n",
      "array numpy arr object php convert index return byte remove store test javascript create var\n",
      "Topic 12:\n",
      "list item loop collection index contain convert object arraylist type return map generic foreach dict\n",
      "Topic 13:\n",
      "value select option type key input default property variable set text label return number dictionary\n",
      "Topic 14:\n",
      "int std struct amp cout main char include return type static byte pointer const compiler\n",
      "Topic 15:\n",
      "java org lang method eclipse androidruntime exception util apache main activitythread bean springframework maven jdk\n",
      "Topic 16:\n",
      "column dataframe panda datum row frame index csv col data series nan count sum grid\n",
      "Topic 17:\n",
      "app io xcode component react device play google angular store import route iphone simulator router\n"
     ]
    }
   ],
   "source": [
    "#Topics for nmf models\n",
    "display_topics(nmf, tfidf_feature_names, 15)"
   ]
  },
  {
   "cell_type": "code",
   "execution_count": 55,
   "id": "4e7230ec",
   "metadata": {},
   "outputs": [],
   "source": [
    "def tags_nmf(text):\n",
    "        '''Suggests a tag given a text'''\n",
    "        #clean text\n",
    "        text = clean_text(text)\n",
    "        text = remove_stop_words(text)\n",
    "        text = lemmatize(text)\n",
    "         \n",
    "        #apply tfidf transformation\n",
    "        tfidf_new = tfidf_vectorizer.transform([text])\n",
    "        X_new = nmf.transform(tfidf_new)\n",
    "        \n",
    "        #predict topic number\n",
    "        predicted_topics = [np.argsort(each)[::-1][0] for each in X_new][0]\n",
    "        \n",
    "        main_tag = [tfidf_feature_names[nmf.components_[predicted_topics].argsort()[:-2:-1][0]]]\n",
    "        other_tags = [tfidf_feature_names[i] for i in nmf.components_[predicted_topics].argsort()[:-51:-1]\n",
    "                      if (tfidf_feature_names[i] in text.split())]\n",
    "        return Union(main_tag, other_tags)"
   ]
  },
  {
   "cell_type": "code",
   "execution_count": 56,
   "id": "f41ae84d",
   "metadata": {},
   "outputs": [
    {
     "data": {
      "text/plain": [
       "['txt',\n",
       " 'create',\n",
       " 'filename',\n",
       " 'write',\n",
       " 'file',\n",
       " 'open',\n",
       " 'directory',\n",
       " 'path',\n",
       " 'import']"
      ]
     },
     "execution_count": 56,
     "metadata": {},
     "output_type": "execute_result"
    }
   ],
   "source": [
    "tags_nmf(text1)"
   ]
  },
  {
   "cell_type": "code",
   "execution_count": 57,
   "id": "6f8509a5",
   "metadata": {},
   "outputs": [
    {
     "data": {
      "text/plain": [
       "['python']"
      ]
     },
     "execution_count": 57,
     "metadata": {},
     "output_type": "execute_result"
    }
   ],
   "source": [
    "tags_nmf(text2)"
   ]
  },
  {
   "cell_type": "code",
   "execution_count": 58,
   "id": "4e9c9bfa",
   "metadata": {},
   "outputs": [
    {
     "data": {
      "text/plain": [
       "['int', 'main', 'printf', 'include', 'compile', 'gcc']"
      ]
     },
     "execution_count": 58,
     "metadata": {},
     "output_type": "execute_result"
    }
   ],
   "source": [
    "tags_nmf(text3)"
   ]
  },
  {
   "cell_type": "code",
   "execution_count": 59,
   "id": "74c9fd08",
   "metadata": {},
   "outputs": [],
   "source": [
    "d_test['NMF_prediction'] = d_test['Preprocessed_text'].apply(tags_nmf)"
   ]
  },
  {
   "cell_type": "code",
   "execution_count": null,
   "id": "b273165c",
   "metadata": {},
   "outputs": [],
   "source": []
  },
  {
   "cell_type": "markdown",
   "id": "75f99753",
   "metadata": {},
   "source": [
    "### II. Multi-label classification"
   ]
  },
  {
   "cell_type": "code",
   "execution_count": 60,
   "id": "d688da00",
   "metadata": {},
   "outputs": [],
   "source": [
    "#import dataset\n",
    "df = pd.read_pickle('./data/cleaned_data.pkl')\n",
    "df.reset_index(drop=True, inplace=True)"
   ]
  },
  {
   "cell_type": "code",
   "execution_count": 61,
   "id": "3d47410d",
   "metadata": {
    "scrolled": true
   },
   "outputs": [
    {
     "data": {
      "text/html": [
       "<div>\n",
       "<style scoped>\n",
       "    .dataframe tbody tr th:only-of-type {\n",
       "        vertical-align: middle;\n",
       "    }\n",
       "\n",
       "    .dataframe tbody tr th {\n",
       "        vertical-align: top;\n",
       "    }\n",
       "\n",
       "    .dataframe thead th {\n",
       "        text-align: right;\n",
       "    }\n",
       "</style>\n",
       "<table border=\"1\" class=\"dataframe\">\n",
       "  <thead>\n",
       "    <tr style=\"text-align: right;\">\n",
       "      <th></th>\n",
       "      <th>Body</th>\n",
       "      <th>Title</th>\n",
       "      <th>Tags</th>\n",
       "      <th>Preprocessed_text</th>\n",
       "      <th>Score</th>\n",
       "    </tr>\n",
       "  </thead>\n",
       "  <tbody>\n",
       "    <tr>\n",
       "      <th>0</th>\n",
       "      <td>have   table   csv format that looks like t...</td>\n",
       "      <td>how pivot dataframe pandas</td>\n",
       "      <td>[python, pandas, dataframe, transpose]</td>\n",
       "      <td>table csv format transpose table value indicat...</td>\n",
       "      <td>46</td>\n",
       "    </tr>\n",
       "    <tr>\n",
       "      <th>1</th>\n",
       "      <td>greets      reading that the default behaviou...</td>\n",
       "      <td>uitableview with fixed section headers</td>\n",
       "      <td>[ios, objective-c, uitableview]</td>\n",
       "      <td>greet read default behaviour uitableview pin s...</td>\n",
       "      <td>111</td>\n",
       "    </tr>\n",
       "    <tr>\n",
       "      <th>2</th>\n",
       "      <td>have installed react using  create react ap...</td>\n",
       "      <td>load local images react</td>\n",
       "      <td>[image, reactjs, local]</td>\n",
       "      <td>instal react create react app instal fine load...</td>\n",
       "      <td>70</td>\n",
       "    </tr>\n",
       "    <tr>\n",
       "      <th>3</th>\n",
       "      <td>are used   say   every r new user that   ...</td>\n",
       "      <td>the apply family really not vectorized</td>\n",
       "      <td>[r, performance, loops, vectorization, apply]</td>\n",
       "      <td>r user apply vectorize patrick burn r inferno ...</td>\n",
       "      <td>144</td>\n",
       "    </tr>\n",
       "    <tr>\n",
       "      <th>4</th>\n",
       "      <td>want   add some leading zeroes     string  ...</td>\n",
       "      <td>add leading zeroes number dart</td>\n",
       "      <td>[dart]</td>\n",
       "      <td>lead zero string example total length characte...</td>\n",
       "      <td>77</td>\n",
       "    </tr>\n",
       "  </tbody>\n",
       "</table>\n",
       "</div>"
      ],
      "text/plain": [
       "                                                Body  \\\n",
       "0     have   table   csv format that looks like t...   \n",
       "1   greets      reading that the default behaviou...   \n",
       "2     have installed react using  create react ap...   \n",
       "3       are used   say   every r new user that   ...   \n",
       "4     want   add some leading zeroes     string  ...   \n",
       "\n",
       "                                      Title  \\\n",
       "0               how pivot dataframe pandas    \n",
       "1    uitableview with fixed section headers   \n",
       "2                  load local images react    \n",
       "3   the apply family really not vectorized    \n",
       "4            add leading zeroes number dart   \n",
       "\n",
       "                                            Tags  \\\n",
       "0         [python, pandas, dataframe, transpose]   \n",
       "1                [ios, objective-c, uitableview]   \n",
       "2                        [image, reactjs, local]   \n",
       "3  [r, performance, loops, vectorization, apply]   \n",
       "4                                         [dart]   \n",
       "\n",
       "                                   Preprocessed_text  Score  \n",
       "0  table csv format transpose table value indicat...     46  \n",
       "1  greet read default behaviour uitableview pin s...    111  \n",
       "2  instal react create react app instal fine load...     70  \n",
       "3  r user apply vectorize patrick burn r inferno ...    144  \n",
       "4  lead zero string example total length characte...     77  "
      ]
     },
     "execution_count": 61,
     "metadata": {},
     "output_type": "execute_result"
    }
   ],
   "source": [
    "df.head()"
   ]
  },
  {
   "cell_type": "code",
   "execution_count": 62,
   "id": "f6afcc46",
   "metadata": {},
   "outputs": [
    {
     "data": {
      "text/plain": [
       "(6252, 5)"
      ]
     },
     "execution_count": 62,
     "metadata": {},
     "output_type": "execute_result"
    }
   ],
   "source": [
    "df.shape"
   ]
  },
  {
   "cell_type": "code",
   "execution_count": 63,
   "id": "3f29d2b8",
   "metadata": {},
   "outputs": [],
   "source": [
    "# Find all tags\n",
    "all_tags = []\n",
    "for i in range(df.shape[0]):\n",
    "    all_tags += df.iloc[i, df.columns.get_loc('Tags')]"
   ]
  },
  {
   "cell_type": "code",
   "execution_count": 64,
   "id": "6d2b6684",
   "metadata": {},
   "outputs": [],
   "source": [
    "# Remove tags that are too rare and define new tags\n",
    "t = Counter(all_tags)\n",
    "L = []\n",
    "L_test = []\n",
    "for k in range(df.shape[0]):\n",
    "    L.append([elt for elt in df.iloc[k, df.columns.get_loc('Tags')] if (t[elt] >= 60)])\n",
    "    \n",
    "for k in range(d_test.shape[0]):\n",
    "    L_test.append([elt for elt in d_test.iloc[k, d_test.columns.get_loc('Tags')] if (t[elt] >= 60)])\n",
    "    \n",
    "df['new_tags'] = pd.Series(L)\n",
    "d_test['new_tags'] = pd.Series(L_test)"
   ]
  },
  {
   "cell_type": "code",
   "execution_count": 65,
   "id": "1b7abe1c",
   "metadata": {},
   "outputs": [
    {
     "data": {
      "text/html": [
       "<div>\n",
       "<style scoped>\n",
       "    .dataframe tbody tr th:only-of-type {\n",
       "        vertical-align: middle;\n",
       "    }\n",
       "\n",
       "    .dataframe tbody tr th {\n",
       "        vertical-align: top;\n",
       "    }\n",
       "\n",
       "    .dataframe thead th {\n",
       "        text-align: right;\n",
       "    }\n",
       "</style>\n",
       "<table border=\"1\" class=\"dataframe\">\n",
       "  <thead>\n",
       "    <tr style=\"text-align: right;\">\n",
       "      <th></th>\n",
       "      <th>Body</th>\n",
       "      <th>Title</th>\n",
       "      <th>Tags</th>\n",
       "      <th>Preprocessed_text</th>\n",
       "      <th>Score</th>\n",
       "      <th>new_tags</th>\n",
       "    </tr>\n",
       "  </thead>\n",
       "  <tbody>\n",
       "    <tr>\n",
       "      <th>0</th>\n",
       "      <td>have   table   csv format that looks like t...</td>\n",
       "      <td>how pivot dataframe pandas</td>\n",
       "      <td>[python, pandas, dataframe, transpose]</td>\n",
       "      <td>table csv format transpose table value indicat...</td>\n",
       "      <td>46</td>\n",
       "      <td>[python, pandas]</td>\n",
       "    </tr>\n",
       "    <tr>\n",
       "      <th>1</th>\n",
       "      <td>greets      reading that the default behaviou...</td>\n",
       "      <td>uitableview with fixed section headers</td>\n",
       "      <td>[ios, objective-c, uitableview]</td>\n",
       "      <td>greet read default behaviour uitableview pin s...</td>\n",
       "      <td>111</td>\n",
       "      <td>[ios, objective-c]</td>\n",
       "    </tr>\n",
       "    <tr>\n",
       "      <th>2</th>\n",
       "      <td>have installed react using  create react ap...</td>\n",
       "      <td>load local images react</td>\n",
       "      <td>[image, reactjs, local]</td>\n",
       "      <td>instal react create react app instal fine load...</td>\n",
       "      <td>70</td>\n",
       "      <td>[reactjs]</td>\n",
       "    </tr>\n",
       "    <tr>\n",
       "      <th>3</th>\n",
       "      <td>are used   say   every r new user that   ...</td>\n",
       "      <td>the apply family really not vectorized</td>\n",
       "      <td>[r, performance, loops, vectorization, apply]</td>\n",
       "      <td>r user apply vectorize patrick burn r inferno ...</td>\n",
       "      <td>144</td>\n",
       "      <td>[r]</td>\n",
       "    </tr>\n",
       "    <tr>\n",
       "      <th>4</th>\n",
       "      <td>want   add some leading zeroes     string  ...</td>\n",
       "      <td>add leading zeroes number dart</td>\n",
       "      <td>[dart]</td>\n",
       "      <td>lead zero string example total length characte...</td>\n",
       "      <td>77</td>\n",
       "      <td>[]</td>\n",
       "    </tr>\n",
       "    <tr>\n",
       "      <th>5</th>\n",
       "      <td>work with conda environments and need some ...</td>\n",
       "      <td>combining conda environment yml with pip requi...</td>\n",
       "      <td>[python, pip, anaconda, conda]</td>\n",
       "      <td>work conda environment pip package pre compile...</td>\n",
       "      <td>163</td>\n",
       "      <td>[python]</td>\n",
       "    </tr>\n",
       "    <tr>\n",
       "      <th>6</th>\n",
       "      <td>does anyone know how   install gitk   mac    ...</td>\n",
       "      <td>install gitk mac</td>\n",
       "      <td>[git, macos, osx-mountain-lion, gitk]</td>\n",
       "      <td>install gitk mac official website gitk come gi...</td>\n",
       "      <td>281</td>\n",
       "      <td>[git]</td>\n",
       "    </tr>\n",
       "    <tr>\n",
       "      <th>7</th>\n",
       "      <td>have   bunch   rpm files     folder      tr...</td>\n",
       "      <td>how ignore conflicts rpm installs</td>\n",
       "      <td>[linux, unix, rpm, aix]</td>\n",
       "      <td>bunch rpm file folder install rpm ivh rpm rpm ...</td>\n",
       "      <td>42</td>\n",
       "      <td>[linux]</td>\n",
       "    </tr>\n",
       "    <tr>\n",
       "      <th>8</th>\n",
       "      <td>the  find  command does completely different ...</td>\n",
       "      <td>how execute bat file from cygwin bash that use...</td>\n",
       "      <td>[batch-file, cygwin]</td>\n",
       "      <td>command completely different window unix windo...</td>\n",
       "      <td>42</td>\n",
       "      <td>[]</td>\n",
       "    </tr>\n",
       "    <tr>\n",
       "      <th>9</th>\n",
       "      <td>test       bit    linux with  gcc           w...</td>\n",
       "      <td>why gcc compiled c program needs eh_frame sect...</td>\n",
       "      <td>[c, assembly, exception-handling, x86, elf]</td>\n",
       "      <td>test bit linux gcc gcc compile c program reade...</td>\n",
       "      <td>57</td>\n",
       "      <td>[c]</td>\n",
       "    </tr>\n",
       "    <tr>\n",
       "      <th>10</th>\n",
       "      <td>far     can tell  anywhere  std  back_inser...</td>\n",
       "      <td>what the benefit std back_inserter over std in...</td>\n",
       "      <td>[c++, vector, stl, iterator, containers]</td>\n",
       "      <td>far tell std back_inserter work stl algorithm ...</td>\n",
       "      <td>63</td>\n",
       "      <td>[c++]</td>\n",
       "    </tr>\n",
       "    <tr>\n",
       "      <th>11</th>\n",
       "      <td>getting the error message when using matplotl...</td>\n",
       "      <td>error initializing libiomp dylib but found lib...</td>\n",
       "      <td>[python, macos, matplotlib]</td>\n",
       "      <td>error message matplotlib error initialize libi...</td>\n",
       "      <td>61</td>\n",
       "      <td>[python]</td>\n",
       "    </tr>\n",
       "    <tr>\n",
       "      <th>12</th>\n",
       "      <td>insert into opt  email  campaign_id  values ...</td>\n",
       "      <td>oracle insert not exists statement</td>\n",
       "      <td>[oracle]</td>\n",
       "      <td>insert opt email campaign_id value mom cox net...</td>\n",
       "      <td>50</td>\n",
       "      <td>[]</td>\n",
       "    </tr>\n",
       "    <tr>\n",
       "      <th>13</th>\n",
       "      <td>want   check   all the values      values c...</td>\n",
       "      <td>how check all values dictionary are</td>\n",
       "      <td>[python, dictionary]</td>\n",
       "      <td>value value correspond key dictionary loop val...</td>\n",
       "      <td>61</td>\n",
       "      <td>[python]</td>\n",
       "    </tr>\n",
       "    <tr>\n",
       "      <th>14</th>\n",
       "      <td>after debugging   website   visual studio    ...</td>\n",
       "      <td>bad request invalid hostname asp net visual st...</td>\n",
       "      <td>[asp.net, iis, port]</td>\n",
       "      <td>debug website visual studio visit localhost vi...</td>\n",
       "      <td>36</td>\n",
       "      <td>[asp.net]</td>\n",
       "    </tr>\n",
       "    <tr>\n",
       "      <th>15</th>\n",
       "      <td>below   have pasted     app   file         us...</td>\n",
       "      <td>angular app takes long time load for first ti...</td>\n",
       "      <td>[typescript, angular]</td>\n",
       "      <td>paste app file angular firebase typescript rea...</td>\n",
       "      <td>42</td>\n",
       "      <td>[typescript, angular]</td>\n",
       "    </tr>\n",
       "    <tr>\n",
       "      <th>16</th>\n",
       "      <td>have   watchdog application    watches   ma...</td>\n",
       "      <td>how signal application without killing linux</td>\n",
       "      <td>[linux, signals]</td>\n",
       "      <td>watchdog application watch main app crash reas...</td>\n",
       "      <td>39</td>\n",
       "      <td>[linux]</td>\n",
       "    </tr>\n",
       "    <tr>\n",
       "      <th>17</th>\n",
       "      <td>vscode   showing errors for jsconfig json   q...</td>\n",
       "      <td>how fix file node_modules dotenv types not fou...</td>\n",
       "      <td>[visual-studio-code, dotenv, vscode-jsconfig]</td>\n",
       "      <td>vscode error jsconfig json file node_module do...</td>\n",
       "      <td>31</td>\n",
       "      <td>[]</td>\n",
       "    </tr>\n",
       "    <tr>\n",
       "      <th>18</th>\n",
       "      <td>don   know why     getting this error and  ...</td>\n",
       "      <td>attempted import error switch not exported fro...</td>\n",
       "      <td>[reactjs]</td>\n",
       "      <td>error answer uninstalled react router dom pack...</td>\n",
       "      <td>137</td>\n",
       "      <td>[reactjs]</td>\n",
       "    </tr>\n",
       "    <tr>\n",
       "      <th>19</th>\n",
       "      <td>when   call this promise  the output does not...</td>\n",
       "      <td>javascript promises curiosity</td>\n",
       "      <td>[javascript, node.js]</td>\n",
       "      <td>promise output match sequence function come ca...</td>\n",
       "      <td>98</td>\n",
       "      <td>[javascript, node.js]</td>\n",
       "    </tr>\n",
       "    <tr>\n",
       "      <th>20</th>\n",
       "      <td>bootstrap    font size defaults   using    ...</td>\n",
       "      <td>how increase font size bootstrap</td>\n",
       "      <td>[html, css, twitter-bootstrap, bootstrap-4]</td>\n",
       "      <td>bootstrap font size default rem font increase ...</td>\n",
       "      <td>44</td>\n",
       "      <td>[html, css, twitter-bootstrap]</td>\n",
       "    </tr>\n",
       "    <tr>\n",
       "      <th>21</th>\n",
       "      <td>have some components like  cricketcomponent...</td>\n",
       "      <td>class using angular features but not decorated...</td>\n",
       "      <td>[angular, typescript]</td>\n",
       "      <td>component cricketcomponent footballcomponent t...</td>\n",
       "      <td>71</td>\n",
       "      <td>[angular, typescript]</td>\n",
       "    </tr>\n",
       "    <tr>\n",
       "      <th>22</th>\n",
       "      <td>been reading around   here    here  and  ...</td>\n",
       "      <td>mysql and jdbc with rewritebatchedstatements true</td>\n",
       "      <td>[java, mysql, sql, jdbc]</td>\n",
       "      <td>reading advantage rewritebatchedstatement rewr...</td>\n",
       "      <td>65</td>\n",
       "      <td>[java, mysql, sql]</td>\n",
       "    </tr>\n",
       "    <tr>\n",
       "      <th>23</th>\n",
       "      <td>you can see  here     have   button that la...</td>\n",
       "      <td>bootstrap how load content modal body via ajax</td>\n",
       "      <td>[ajax, twitter-bootstrap, twitter-bootstrap-3,...</td>\n",
       "      <td>button launch modal set href url button url au...</td>\n",
       "      <td>79</td>\n",
       "      <td>[twitter-bootstrap]</td>\n",
       "    </tr>\n",
       "    <tr>\n",
       "      <th>24</th>\n",
       "      <td>understand both   and lalr are bottom   par...</td>\n",
       "      <td>what the difference between lalr and parsing</td>\n",
       "      <td>[parsing, compiler-construction, context-free-...</td>\n",
       "      <td>lalr parse algorithm difference difference lal...</td>\n",
       "      <td>39</td>\n",
       "      <td>[]</td>\n",
       "    </tr>\n",
       "    <tr>\n",
       "      <th>25</th>\n",
       "      <td>running wordpress with  nginx + php fpm +...</td>\n",
       "      <td>how find php fpm sock</td>\n",
       "      <td>[php, linux, sockets, amazon-web-services, nginx]</td>\n",
       "      <td>run wordpress nginx php fpm apc total cache pa...</td>\n",
       "      <td>39</td>\n",
       "      <td>[php, linux]</td>\n",
       "    </tr>\n",
       "    <tr>\n",
       "      <th>26</th>\n",
       "      <td>does rstudio support any automated roxygen te...</td>\n",
       "      <td>can rstudio automatically generate roxygen tem...</td>\n",
       "      <td>[r, roxygen, rstudio, roxygen2]</td>\n",
       "      <td>rstudio support automate roxygen template crea...</td>\n",
       "      <td>42</td>\n",
       "      <td>[r]</td>\n",
       "    </tr>\n",
       "    <tr>\n",
       "      <th>27</th>\n",
       "      <td>would like   list all azure locations via s...</td>\n",
       "      <td>there api list all azure regions</td>\n",
       "      <td>[azure, azure-powershell]</td>\n",
       "      <td>list azure location api generate config file r...</td>\n",
       "      <td>34</td>\n",
       "      <td>[]</td>\n",
       "    </tr>\n",
       "    <tr>\n",
       "      <th>28</th>\n",
       "      <td>the default placement  new  operator   declar...</td>\n",
       "      <td>passing null pointer placement new</td>\n",
       "      <td>[c++, micro-optimization, placement-new, noexc...</td>\n",
       "      <td>default placement operator declare support dyn...</td>\n",
       "      <td>43</td>\n",
       "      <td>[c++]</td>\n",
       "    </tr>\n",
       "    <tr>\n",
       "      <th>29</th>\n",
       "      <td>installing   module globally       npm in...</td>\n",
       "      <td>npm warn message about deprecated package</td>\n",
       "      <td>[node.js, npm]</td>\n",
       "      <td>instal module globally npm install npm npm war...</td>\n",
       "      <td>39</td>\n",
       "      <td>[node.js]</td>\n",
       "    </tr>\n",
       "  </tbody>\n",
       "</table>\n",
       "</div>"
      ],
      "text/plain": [
       "                                                 Body  \\\n",
       "0      have   table   csv format that looks like t...   \n",
       "1    greets      reading that the default behaviou...   \n",
       "2      have installed react using  create react ap...   \n",
       "3        are used   say   every r new user that   ...   \n",
       "4      want   add some leading zeroes     string  ...   \n",
       "5      work with conda environments and need some ...   \n",
       "6    does anyone know how   install gitk   mac    ...   \n",
       "7      have   bunch   rpm files     folder      tr...   \n",
       "8    the  find  command does completely different ...   \n",
       "9    test       bit    linux with  gcc           w...   \n",
       "10     far     can tell  anywhere  std  back_inser...   \n",
       "11   getting the error message when using matplotl...   \n",
       "12    insert into opt  email  campaign_id  values ...   \n",
       "13     want   check   all the values      values c...   \n",
       "14   after debugging   website   visual studio    ...   \n",
       "15   below   have pasted     app   file         us...   \n",
       "16     have   watchdog application    watches   ma...   \n",
       "17   vscode   showing errors for jsconfig json   q...   \n",
       "18     don   know why     getting this error and  ...   \n",
       "19   when   call this promise  the output does not...   \n",
       "20     bootstrap    font size defaults   using    ...   \n",
       "21     have some components like  cricketcomponent...   \n",
       "22       been reading around   here    here  and  ...   \n",
       "23     you can see  here     have   button that la...   \n",
       "24     understand both   and lalr are bottom   par...   \n",
       "25       running wordpress with  nginx + php fpm +...   \n",
       "26   does rstudio support any automated roxygen te...   \n",
       "27     would like   list all azure locations via s...   \n",
       "28   the default placement  new  operator   declar...   \n",
       "29       installing   module globally       npm in...   \n",
       "\n",
       "                                                Title  \\\n",
       "0                         how pivot dataframe pandas    \n",
       "1              uitableview with fixed section headers   \n",
       "2                            load local images react    \n",
       "3             the apply family really not vectorized    \n",
       "4                      add leading zeroes number dart   \n",
       "5   combining conda environment yml with pip requi...   \n",
       "6                                    install gitk mac   \n",
       "7                   how ignore conflicts rpm installs   \n",
       "8   how execute bat file from cygwin bash that use...   \n",
       "9   why gcc compiled c program needs eh_frame sect...   \n",
       "10  what the benefit std back_inserter over std in...   \n",
       "11  error initializing libiomp dylib but found lib...   \n",
       "12                 oracle insert not exists statement   \n",
       "13               how check all values dictionary are    \n",
       "14  bad request invalid hostname asp net visual st...   \n",
       "15   angular app takes long time load for first ti...   \n",
       "16      how signal application without killing linux    \n",
       "17  how fix file node_modules dotenv types not fou...   \n",
       "18  attempted import error switch not exported fro...   \n",
       "19                      javascript promises curiosity   \n",
       "20                  how increase font size bootstrap    \n",
       "21  class using angular features but not decorated...   \n",
       "22  mysql and jdbc with rewritebatchedstatements true   \n",
       "23    bootstrap how load content modal body via ajax    \n",
       "24      what the difference between lalr and parsing    \n",
       "25                             how find php fpm sock    \n",
       "26  can rstudio automatically generate roxygen tem...   \n",
       "27                  there api list all azure regions    \n",
       "28                 passing null pointer placement new   \n",
       "29          npm warn message about deprecated package   \n",
       "\n",
       "                                                 Tags  \\\n",
       "0              [python, pandas, dataframe, transpose]   \n",
       "1                     [ios, objective-c, uitableview]   \n",
       "2                             [image, reactjs, local]   \n",
       "3       [r, performance, loops, vectorization, apply]   \n",
       "4                                              [dart]   \n",
       "5                      [python, pip, anaconda, conda]   \n",
       "6               [git, macos, osx-mountain-lion, gitk]   \n",
       "7                             [linux, unix, rpm, aix]   \n",
       "8                                [batch-file, cygwin]   \n",
       "9         [c, assembly, exception-handling, x86, elf]   \n",
       "10           [c++, vector, stl, iterator, containers]   \n",
       "11                        [python, macos, matplotlib]   \n",
       "12                                           [oracle]   \n",
       "13                               [python, dictionary]   \n",
       "14                               [asp.net, iis, port]   \n",
       "15                              [typescript, angular]   \n",
       "16                                   [linux, signals]   \n",
       "17      [visual-studio-code, dotenv, vscode-jsconfig]   \n",
       "18                                          [reactjs]   \n",
       "19                              [javascript, node.js]   \n",
       "20        [html, css, twitter-bootstrap, bootstrap-4]   \n",
       "21                              [angular, typescript]   \n",
       "22                           [java, mysql, sql, jdbc]   \n",
       "23  [ajax, twitter-bootstrap, twitter-bootstrap-3,...   \n",
       "24  [parsing, compiler-construction, context-free-...   \n",
       "25  [php, linux, sockets, amazon-web-services, nginx]   \n",
       "26                    [r, roxygen, rstudio, roxygen2]   \n",
       "27                          [azure, azure-powershell]   \n",
       "28  [c++, micro-optimization, placement-new, noexc...   \n",
       "29                                     [node.js, npm]   \n",
       "\n",
       "                                    Preprocessed_text  Score  \\\n",
       "0   table csv format transpose table value indicat...     46   \n",
       "1   greet read default behaviour uitableview pin s...    111   \n",
       "2   instal react create react app instal fine load...     70   \n",
       "3   r user apply vectorize patrick burn r inferno ...    144   \n",
       "4   lead zero string example total length characte...     77   \n",
       "5   work conda environment pip package pre compile...    163   \n",
       "6   install gitk mac official website gitk come gi...    281   \n",
       "7   bunch rpm file folder install rpm ivh rpm rpm ...     42   \n",
       "8   command completely different window unix windo...     42   \n",
       "9   test bit linux gcc gcc compile c program reade...     57   \n",
       "10  far tell std back_inserter work stl algorithm ...     63   \n",
       "11  error message matplotlib error initialize libi...     61   \n",
       "12  insert opt email campaign_id value mom cox net...     50   \n",
       "13  value value correspond key dictionary loop val...     61   \n",
       "14  debug website visual studio visit localhost vi...     36   \n",
       "15  paste app file angular firebase typescript rea...     42   \n",
       "16  watchdog application watch main app crash reas...     39   \n",
       "17  vscode error jsconfig json file node_module do...     31   \n",
       "18  error answer uninstalled react router dom pack...    137   \n",
       "19  promise output match sequence function come ca...     98   \n",
       "20  bootstrap font size default rem font increase ...     44   \n",
       "21  component cricketcomponent footballcomponent t...     71   \n",
       "22  reading advantage rewritebatchedstatement rewr...     65   \n",
       "23  button launch modal set href url button url au...     79   \n",
       "24  lalr parse algorithm difference difference lal...     39   \n",
       "25  run wordpress nginx php fpm apc total cache pa...     39   \n",
       "26  rstudio support automate roxygen template crea...     42   \n",
       "27  list azure location api generate config file r...     34   \n",
       "28  default placement operator declare support dyn...     43   \n",
       "29  instal module globally npm install npm npm war...     39   \n",
       "\n",
       "                          new_tags  \n",
       "0                 [python, pandas]  \n",
       "1               [ios, objective-c]  \n",
       "2                        [reactjs]  \n",
       "3                              [r]  \n",
       "4                               []  \n",
       "5                         [python]  \n",
       "6                            [git]  \n",
       "7                          [linux]  \n",
       "8                               []  \n",
       "9                              [c]  \n",
       "10                           [c++]  \n",
       "11                        [python]  \n",
       "12                              []  \n",
       "13                        [python]  \n",
       "14                       [asp.net]  \n",
       "15           [typescript, angular]  \n",
       "16                         [linux]  \n",
       "17                              []  \n",
       "18                       [reactjs]  \n",
       "19           [javascript, node.js]  \n",
       "20  [html, css, twitter-bootstrap]  \n",
       "21           [angular, typescript]  \n",
       "22              [java, mysql, sql]  \n",
       "23             [twitter-bootstrap]  \n",
       "24                              []  \n",
       "25                    [php, linux]  \n",
       "26                             [r]  \n",
       "27                              []  \n",
       "28                           [c++]  \n",
       "29                       [node.js]  "
      ]
     },
     "execution_count": 65,
     "metadata": {},
     "output_type": "execute_result"
    }
   ],
   "source": [
    "df.head(30)"
   ]
  },
  {
   "cell_type": "code",
   "execution_count": 66,
   "id": "09f77a4f",
   "metadata": {
    "scrolled": false
   },
   "outputs": [],
   "source": [
    "# Remove rows with missing new tags\n",
    "df = df[df['new_tags'].apply(lambda x: len(x) != 0)]\n",
    "df.reset_index(inplace=True, drop=True)"
   ]
  },
  {
   "cell_type": "code",
   "execution_count": 67,
   "id": "b2aa45a5",
   "metadata": {},
   "outputs": [],
   "source": [
    "# Preprocess text data\n",
    "X=df.Preprocessed_text.values.tolist()\n",
    "y = df.new_tags\n",
    "\n",
    "# Train test split\n",
    "X_train, X_test, y_train, y_test = train_test_split(X, y, random_state=0, test_size=0.2)"
   ]
  },
  {
   "cell_type": "code",
   "execution_count": 68,
   "id": "94136696",
   "metadata": {},
   "outputs": [],
   "source": [
    "# Use tf-idf\n",
    "vectorizer = TfidfVectorizer(min_df = 0.005, max_df=0.90,sublinear_tf=True)\n",
    "vectorised_train_documents = vectorizer.fit_transform(X_train).toarray()\n",
    "vectorised_test_documents = vectorizer.transform(X_test).toarray()"
   ]
  },
  {
   "cell_type": "code",
   "execution_count": 69,
   "id": "b5b33b07",
   "metadata": {},
   "outputs": [],
   "source": [
    "#Use multilabelbinarizer on targets\n",
    "from sklearn.preprocessing import MultiLabelBinarizer\n",
    "mlb = MultiLabelBinarizer()\n",
    "train_labels = mlb.fit_transform(y_train)\n",
    "test_labels = mlb.transform(y_test)"
   ]
  },
  {
   "cell_type": "markdown",
   "id": "280d7338",
   "metadata": {},
   "source": [
    "#### Use multi-label classifiers"
   ]
  },
  {
   "cell_type": "code",
   "execution_count": 70,
   "id": "db287aea",
   "metadata": {},
   "outputs": [],
   "source": [
    "#KNN multi label classifier\n",
    "from sklearn.neighbors import KNeighborsClassifier"
   ]
  },
  {
   "cell_type": "code",
   "execution_count": 71,
   "id": "346cf9a8",
   "metadata": {},
   "outputs": [],
   "source": [
    "from sklearn.model_selection import GridSearchCV"
   ]
  },
  {
   "cell_type": "code",
   "execution_count": 72,
   "id": "baecd42b",
   "metadata": {},
   "outputs": [],
   "source": [
    "param_grid = {'n_neighbors':np.arange(1,21)}"
   ]
  },
  {
   "cell_type": "code",
   "execution_count": 73,
   "id": "a2bc9a61",
   "metadata": {},
   "outputs": [],
   "source": [
    "score = 'accuracy'"
   ]
  },
  {
   "cell_type": "code",
   "execution_count": 74,
   "id": "9b093c5d",
   "metadata": {},
   "outputs": [
    {
     "data": {
      "text/plain": [
       "GridSearchCV(cv=5, estimator=KNeighborsClassifier(),\n",
       "             param_grid={'n_neighbors': array([ 1,  2,  3,  4,  5,  6,  7,  8,  9, 10, 11, 12, 13, 14, 15, 16, 17,\n",
       "       18, 19, 20])},\n",
       "             scoring='accuracy')"
      ]
     },
     "execution_count": 74,
     "metadata": {},
     "output_type": "execute_result"
    }
   ],
   "source": [
    "clf = GridSearchCV(KNeighborsClassifier(),\n",
    "                   param_grid,     \n",
    "                   cv=5,           \n",
    "                   scoring=score)   \n",
    "\n",
    "clf.fit(vectorised_train_documents, train_labels)"
   ]
  },
  {
   "cell_type": "code",
   "execution_count": 75,
   "id": "b5a82275",
   "metadata": {},
   "outputs": [
    {
     "name": "stdout",
     "output_type": "stream",
     "text": [
      "{'n_neighbors': 3}\n"
     ]
    }
   ],
   "source": [
    "print(clf.best_params_)"
   ]
  },
  {
   "cell_type": "code",
   "execution_count": 76,
   "id": "9a6028d9",
   "metadata": {},
   "outputs": [],
   "source": [
    "#prediction on test set\n",
    "knnPredictions = clf.predict(vectorised_test_documents)"
   ]
  },
  {
   "cell_type": "code",
   "execution_count": 77,
   "id": "9286b985",
   "metadata": {},
   "outputs": [
    {
     "data": {
      "text/plain": [
       "array([[0, 0, 0, ..., 0, 0, 0],\n",
       "       [0, 0, 0, ..., 0, 0, 0],\n",
       "       [0, 0, 0, ..., 0, 0, 0],\n",
       "       ...,\n",
       "       [0, 0, 0, ..., 0, 0, 0],\n",
       "       [0, 0, 0, ..., 0, 0, 0],\n",
       "       [0, 0, 0, ..., 0, 0, 0]])"
      ]
     },
     "execution_count": 77,
     "metadata": {},
     "output_type": "execute_result"
    }
   ],
   "source": [
    "knnPredictions"
   ]
  },
  {
   "cell_type": "code",
   "execution_count": 78,
   "id": "5e35a8e1",
   "metadata": {},
   "outputs": [
    {
     "data": {
      "text/plain": [
       "[('c#',),\n",
       " ('sql',),\n",
       " ('javascript',),\n",
       " (),\n",
       " ('css',),\n",
       " ('android',),\n",
       " ('css',),\n",
       " ('javascript',),\n",
       " ('css', 'html'),\n",
       " ('javascript',)]"
      ]
     },
     "execution_count": 78,
     "metadata": {},
     "output_type": "execute_result"
    }
   ],
   "source": [
    "mlb.inverse_transform(knnPredictions)[:10]"
   ]
  },
  {
   "cell_type": "code",
   "execution_count": 79,
   "id": "94eb0c05",
   "metadata": {},
   "outputs": [],
   "source": [
    "dg=pd.DataFrame(index=['KNN'], columns=[])"
   ]
  },
  {
   "cell_type": "code",
   "execution_count": 80,
   "id": "01f0fa36",
   "metadata": {},
   "outputs": [],
   "source": [
    "from sklearn.metrics import accuracy_score, f1_score"
   ]
  },
  {
   "cell_type": "code",
   "execution_count": 81,
   "id": "2c536b73",
   "metadata": {},
   "outputs": [],
   "source": [
    "def input_scores(model_name, prediction, dg):\n",
    "    '''add model scores in a dataframe dg'''\n",
    "    dg.loc[model_name, 'macro_f1'] = f1_score(test_labels, prediction, average='macro')\n",
    "    dg.loc[model_name, 'micro_f1'] = f1_score(test_labels, prediction, average='micro')\n",
    "    dg.loc[model_name, 'accuracy'] = accuracy_score(prediction,test_labels)\n",
    "    return dg"
   ]
  },
  {
   "cell_type": "code",
   "execution_count": 82,
   "id": "ec92c49c",
   "metadata": {},
   "outputs": [],
   "source": [
    "dg = input_scores('KNN', knnPredictions, dg)"
   ]
  },
  {
   "cell_type": "code",
   "execution_count": 83,
   "id": "a658531e",
   "metadata": {},
   "outputs": [
    {
     "data": {
      "text/html": [
       "<div>\n",
       "<style scoped>\n",
       "    .dataframe tbody tr th:only-of-type {\n",
       "        vertical-align: middle;\n",
       "    }\n",
       "\n",
       "    .dataframe tbody tr th {\n",
       "        vertical-align: top;\n",
       "    }\n",
       "\n",
       "    .dataframe thead th {\n",
       "        text-align: right;\n",
       "    }\n",
       "</style>\n",
       "<table border=\"1\" class=\"dataframe\">\n",
       "  <thead>\n",
       "    <tr style=\"text-align: right;\">\n",
       "      <th></th>\n",
       "      <th>macro_f1</th>\n",
       "      <th>micro_f1</th>\n",
       "      <th>accuracy</th>\n",
       "    </tr>\n",
       "  </thead>\n",
       "  <tbody>\n",
       "    <tr>\n",
       "      <th>KNN</th>\n",
       "      <td>0.490787</td>\n",
       "      <td>0.557951</td>\n",
       "      <td>0.353955</td>\n",
       "    </tr>\n",
       "  </tbody>\n",
       "</table>\n",
       "</div>"
      ],
      "text/plain": [
       "     macro_f1  micro_f1  accuracy\n",
       "KNN  0.490787  0.557951  0.353955"
      ]
     },
     "execution_count": 83,
     "metadata": {},
     "output_type": "execute_result"
    }
   ],
   "source": [
    "dg"
   ]
  },
  {
   "cell_type": "markdown",
   "id": "823fd541",
   "metadata": {},
   "source": [
    "#### Problem transformation : use binary classifiers and binary relevance"
   ]
  },
  {
   "cell_type": "code",
   "execution_count": 84,
   "id": "e3bea85a",
   "metadata": {},
   "outputs": [],
   "source": [
    "from skmultilearn.problem_transform import BinaryRelevance"
   ]
  },
  {
   "cell_type": "code",
   "execution_count": 85,
   "id": "4d086b60",
   "metadata": {},
   "outputs": [],
   "source": [
    "#Naive Bayes \n",
    "\n",
    "from sklearn.naive_bayes import MultinomialNB\n",
    "\n",
    "nbClassifier = BinaryRelevance(MultinomialNB())\n",
    "nbClassifier.fit(vectorised_train_documents, train_labels)\n",
    "nbPreds = nbClassifier.predict(vectorised_test_documents)"
   ]
  },
  {
   "cell_type": "code",
   "execution_count": 86,
   "id": "c92a31f2",
   "metadata": {},
   "outputs": [],
   "source": [
    "dg = input_scores('Naive Bayes', nbPreds, dg)"
   ]
  },
  {
   "cell_type": "code",
   "execution_count": 87,
   "id": "76b15d11",
   "metadata": {},
   "outputs": [],
   "source": [
    "# Support vector classification\n",
    "\n",
    "from sklearn.svm import LinearSVC\n",
    "\n",
    "svmClassifier = BinaryRelevance(LinearSVC())\n",
    "svmClassifier.fit(vectorised_train_documents, train_labels)\n",
    "svmPreds = svmClassifier.predict(vectorised_test_documents)"
   ]
  },
  {
   "cell_type": "code",
   "execution_count": 88,
   "id": "95137671",
   "metadata": {},
   "outputs": [],
   "source": [
    "dg = input_scores('Linear SVC', svmPreds, dg)"
   ]
  },
  {
   "cell_type": "code",
   "execution_count": 89,
   "id": "6ca1f8d3",
   "metadata": {},
   "outputs": [],
   "source": [
    "#too long\n",
    "#svmClassifier = BinaryRelevance(SVC(kernel='rbf'))\n",
    "#svmClassifier.fit(vectorised_train_documents, train_labels)\n",
    "#svmPreds = svmClassifier.predict(vectorised_test_documents)\n",
    "#print(accuracy_score(svmPreds,test_labels))"
   ]
  },
  {
   "cell_type": "code",
   "execution_count": 90,
   "id": "0274e72d",
   "metadata": {
    "scrolled": true
   },
   "outputs": [
    {
     "data": {
      "text/html": [
       "<div>\n",
       "<style scoped>\n",
       "    .dataframe tbody tr th:only-of-type {\n",
       "        vertical-align: middle;\n",
       "    }\n",
       "\n",
       "    .dataframe tbody tr th {\n",
       "        vertical-align: top;\n",
       "    }\n",
       "\n",
       "    .dataframe thead th {\n",
       "        text-align: right;\n",
       "    }\n",
       "</style>\n",
       "<table border=\"1\" class=\"dataframe\">\n",
       "  <thead>\n",
       "    <tr style=\"text-align: right;\">\n",
       "      <th></th>\n",
       "      <th>macro_f1</th>\n",
       "      <th>micro_f1</th>\n",
       "      <th>accuracy</th>\n",
       "    </tr>\n",
       "  </thead>\n",
       "  <tbody>\n",
       "    <tr>\n",
       "      <th>KNN</th>\n",
       "      <td>0.490787</td>\n",
       "      <td>0.557951</td>\n",
       "      <td>0.353955</td>\n",
       "    </tr>\n",
       "    <tr>\n",
       "      <th>Naive Bayes</th>\n",
       "      <td>0.116853</td>\n",
       "      <td>0.294155</td>\n",
       "      <td>0.160243</td>\n",
       "    </tr>\n",
       "    <tr>\n",
       "      <th>Linear SVC</th>\n",
       "      <td>0.608758</td>\n",
       "      <td>0.689837</td>\n",
       "      <td>0.451318</td>\n",
       "    </tr>\n",
       "  </tbody>\n",
       "</table>\n",
       "</div>"
      ],
      "text/plain": [
       "             macro_f1  micro_f1  accuracy\n",
       "KNN          0.490787  0.557951  0.353955\n",
       "Naive Bayes  0.116853  0.294155  0.160243\n",
       "Linear SVC   0.608758  0.689837  0.451318"
      ]
     },
     "execution_count": 90,
     "metadata": {},
     "output_type": "execute_result"
    }
   ],
   "source": [
    "dg"
   ]
  },
  {
   "cell_type": "markdown",
   "id": "c2ffa6a4",
   "metadata": {},
   "source": [
    "We choose lienar svc model."
   ]
  },
  {
   "cell_type": "code",
   "execution_count": 91,
   "id": "3e657152",
   "metadata": {},
   "outputs": [],
   "source": [
    "import joblib"
   ]
  },
  {
   "cell_type": "code",
   "execution_count": 92,
   "id": "a59a836c",
   "metadata": {},
   "outputs": [],
   "source": [
    "def predict_multi_labels(text):\n",
    "    '''prediction with svm model'''\n",
    "    vect = vectorizer.transform([text]).toarray()\n",
    "    return mlb.inverse_transform(svmClassifier.predict(vect))\n",
    "    "
   ]
  },
  {
   "cell_type": "code",
   "execution_count": 93,
   "id": "cd843a0f",
   "metadata": {
    "scrolled": true
   },
   "outputs": [
    {
     "name": "stdout",
     "output_type": "stream",
     "text": [
      "[('python',)]\n",
      "0.04020999999988817\n"
     ]
    }
   ],
   "source": [
    "start_time = timeit.default_timer()\n",
    "\n",
    "a = predict_multi_labels(text1)\n",
    "elapsed = timeit.default_timer() - start_time\n",
    "\n",
    "print(a)\n",
    "print(elapsed)"
   ]
  },
  {
   "cell_type": "code",
   "execution_count": 94,
   "id": "f21a9dff",
   "metadata": {},
   "outputs": [
    {
     "data": {
      "text/plain": [
       "[('python',)]"
      ]
     },
     "execution_count": 94,
     "metadata": {},
     "output_type": "execute_result"
    }
   ],
   "source": [
    "predict_multi_labels(text2)"
   ]
  },
  {
   "cell_type": "code",
   "execution_count": 95,
   "id": "583e0a34",
   "metadata": {},
   "outputs": [
    {
     "data": {
      "text/plain": [
       "[('c', 'c++')]"
      ]
     },
     "execution_count": 95,
     "metadata": {},
     "output_type": "execute_result"
    }
   ],
   "source": [
    "predict_multi_labels(text3)"
   ]
  },
  {
   "cell_type": "code",
   "execution_count": null,
   "id": "40477df3",
   "metadata": {},
   "outputs": [],
   "source": []
  },
  {
   "cell_type": "markdown",
   "id": "4381d613",
   "metadata": {},
   "source": [
    "#### PCA with multilabel classifier"
   ]
  },
  {
   "cell_type": "code",
   "execution_count": 96,
   "id": "743ec340",
   "metadata": {},
   "outputs": [],
   "source": [
    "# Apply PCA before SVC model\n",
    "from sklearn import decomposition\n",
    "\n",
    "pca = decomposition.PCA(n_components=500)\n",
    "pca.fit(vectorised_train_documents)\n",
    "vectorised_train_documents = pca.transform(vectorised_train_documents)\n",
    "vectorised_test_documents = pca.transform(vectorised_test_documents)\n"
   ]
  },
  {
   "cell_type": "code",
   "execution_count": 97,
   "id": "101d2253",
   "metadata": {},
   "outputs": [
    {
     "data": {
      "text/plain": [
       "BinaryRelevance(classifier=LinearSVC(), require_dense=[True, True])"
      ]
     },
     "execution_count": 97,
     "metadata": {},
     "output_type": "execute_result"
    }
   ],
   "source": [
    "svmClassifier2 = BinaryRelevance(LinearSVC())\n",
    "svmClassifier2.fit(vectorised_train_documents, train_labels)"
   ]
  },
  {
   "cell_type": "code",
   "execution_count": 98,
   "id": "310f8781",
   "metadata": {},
   "outputs": [],
   "source": [
    "svmPreds2 = svmClassifier2.predict(vectorised_test_documents)"
   ]
  },
  {
   "cell_type": "code",
   "execution_count": 99,
   "id": "34853913",
   "metadata": {},
   "outputs": [],
   "source": [
    "dg = input_scores('(PCA)Linear SVC', svmPreds2, dg)"
   ]
  },
  {
   "cell_type": "code",
   "execution_count": 100,
   "id": "1b764b4b",
   "metadata": {},
   "outputs": [
    {
     "data": {
      "text/html": [
       "<div>\n",
       "<style scoped>\n",
       "    .dataframe tbody tr th:only-of-type {\n",
       "        vertical-align: middle;\n",
       "    }\n",
       "\n",
       "    .dataframe tbody tr th {\n",
       "        vertical-align: top;\n",
       "    }\n",
       "\n",
       "    .dataframe thead th {\n",
       "        text-align: right;\n",
       "    }\n",
       "</style>\n",
       "<table border=\"1\" class=\"dataframe\">\n",
       "  <thead>\n",
       "    <tr style=\"text-align: right;\">\n",
       "      <th></th>\n",
       "      <th>macro_f1</th>\n",
       "      <th>micro_f1</th>\n",
       "      <th>accuracy</th>\n",
       "    </tr>\n",
       "  </thead>\n",
       "  <tbody>\n",
       "    <tr>\n",
       "      <th>KNN</th>\n",
       "      <td>0.490787</td>\n",
       "      <td>0.557951</td>\n",
       "      <td>0.353955</td>\n",
       "    </tr>\n",
       "    <tr>\n",
       "      <th>Naive Bayes</th>\n",
       "      <td>0.116853</td>\n",
       "      <td>0.294155</td>\n",
       "      <td>0.160243</td>\n",
       "    </tr>\n",
       "    <tr>\n",
       "      <th>Linear SVC</th>\n",
       "      <td>0.608758</td>\n",
       "      <td>0.689837</td>\n",
       "      <td>0.451318</td>\n",
       "    </tr>\n",
       "    <tr>\n",
       "      <th>(PCA)Linear SVC</th>\n",
       "      <td>0.591399</td>\n",
       "      <td>0.686860</td>\n",
       "      <td>0.451318</td>\n",
       "    </tr>\n",
       "  </tbody>\n",
       "</table>\n",
       "</div>"
      ],
      "text/plain": [
       "                 macro_f1  micro_f1  accuracy\n",
       "KNN              0.490787  0.557951  0.353955\n",
       "Naive Bayes      0.116853  0.294155  0.160243\n",
       "Linear SVC       0.608758  0.689837  0.451318\n",
       "(PCA)Linear SVC  0.591399  0.686860  0.451318"
      ]
     },
     "execution_count": 100,
     "metadata": {},
     "output_type": "execute_result"
    }
   ],
   "source": [
    "dg"
   ]
  },
  {
   "cell_type": "code",
   "execution_count": 101,
   "id": "ed2556ea",
   "metadata": {},
   "outputs": [
    {
     "name": "stdout",
     "output_type": "stream",
     "text": [
      "[('python',)]\n",
      "0.08801229999994575\n"
     ]
    }
   ],
   "source": [
    "vect = vectorizer.transform([text1]).toarray()\n",
    "vect = pca.transform(vect)\n",
    "\n",
    "start_time = timeit.default_timer()\n",
    "\n",
    "a = mlb.inverse_transform(svmClassifier2.predict(vect))\n",
    "\n",
    "elapsed = timeit.default_timer() - start_time\n",
    "print(a)\n",
    "print(elapsed)"
   ]
  },
  {
   "cell_type": "code",
   "execution_count": 102,
   "id": "d11a2602",
   "metadata": {},
   "outputs": [
    {
     "name": "stdout",
     "output_type": "stream",
     "text": [
      "[('python',)]\n",
      "0.036827600000151506\n"
     ]
    }
   ],
   "source": [
    "vect = vectorizer.transform([text1]).toarray()\n",
    "\n",
    "start_time = timeit.default_timer()\n",
    "\n",
    "a = mlb.inverse_transform(svmClassifier.predict(vect))\n",
    "\n",
    "elapsed = timeit.default_timer() - start_time\n",
    "print(a)\n",
    "print(elapsed)"
   ]
  },
  {
   "cell_type": "code",
   "execution_count": 103,
   "id": "87a946e3",
   "metadata": {},
   "outputs": [],
   "source": [
    "def predict_multi_labels2(text):\n",
    "    '''prediction with svm model, applying PCA to text'''\n",
    "    vect = vectorizer.transform([text]).toarray()\n",
    "    pca.transform(vect)\n",
    "    return mlb.inverse_transform(svmClassifier.predict(vect))"
   ]
  },
  {
   "cell_type": "code",
   "execution_count": 104,
   "id": "c47455e4",
   "metadata": {},
   "outputs": [
    {
     "data": {
      "text/plain": [
       "[('python',)]"
      ]
     },
     "execution_count": 104,
     "metadata": {},
     "output_type": "execute_result"
    }
   ],
   "source": [
    "predict_multi_labels2(text1)"
   ]
  },
  {
   "cell_type": "code",
   "execution_count": 105,
   "id": "9d93fd1e",
   "metadata": {},
   "outputs": [
    {
     "data": {
      "text/plain": [
       "[('python',)]"
      ]
     },
     "execution_count": 105,
     "metadata": {},
     "output_type": "execute_result"
    }
   ],
   "source": [
    "predict_multi_labels2(text2)"
   ]
  },
  {
   "cell_type": "code",
   "execution_count": 106,
   "id": "3149c116",
   "metadata": {},
   "outputs": [
    {
     "data": {
      "text/plain": [
       "[('c', 'c++')]"
      ]
     },
     "execution_count": 106,
     "metadata": {},
     "output_type": "execute_result"
    }
   ],
   "source": [
    "predict_multi_labels2(text3)"
   ]
  },
  {
   "cell_type": "code",
   "execution_count": null,
   "id": "edc59ac8",
   "metadata": {},
   "outputs": [],
   "source": []
  },
  {
   "cell_type": "code",
   "execution_count": 107,
   "id": "e9b62389",
   "metadata": {},
   "outputs": [],
   "source": [
    "d_test['Multi_label_classfication'] = d_test['Preprocessed_text'].apply(predict_multi_labels2)"
   ]
  },
  {
   "cell_type": "code",
   "execution_count": 108,
   "id": "d945213d",
   "metadata": {},
   "outputs": [
    {
     "data": {
      "text/html": [
       "<div>\n",
       "<style scoped>\n",
       "    .dataframe tbody tr th:only-of-type {\n",
       "        vertical-align: middle;\n",
       "    }\n",
       "\n",
       "    .dataframe tbody tr th {\n",
       "        vertical-align: top;\n",
       "    }\n",
       "\n",
       "    .dataframe thead th {\n",
       "        text-align: right;\n",
       "    }\n",
       "</style>\n",
       "<table border=\"1\" class=\"dataframe\">\n",
       "  <thead>\n",
       "    <tr style=\"text-align: right;\">\n",
       "      <th></th>\n",
       "      <th>Body</th>\n",
       "      <th>Title</th>\n",
       "      <th>Tags</th>\n",
       "      <th>Preprocessed_text</th>\n",
       "      <th>Score</th>\n",
       "      <th>LDA_prediction</th>\n",
       "      <th>LDA_prediction_tags</th>\n",
       "      <th>NMF_prediction</th>\n",
       "      <th>new_tags</th>\n",
       "      <th>Multi_label_classfication</th>\n",
       "    </tr>\n",
       "  </thead>\n",
       "  <tbody>\n",
       "    <tr>\n",
       "      <th>0</th>\n",
       "      <td>fairly new   spring   excuse     this    ...</td>\n",
       "      <td>spring could not resolve placeholder</td>\n",
       "      <td>[java, spring]</td>\n",
       "      <td>fairly spring excuse dumb launch program error...</td>\n",
       "      <td>30</td>\n",
       "      <td>7</td>\n",
       "      <td>[class, int, return, java, define, static, err...</td>\n",
       "      <td>[class, create, public, define, property, stat...</td>\n",
       "      <td>[java, spring]</td>\n",
       "      <td>[(java, spring)]</td>\n",
       "    </tr>\n",
       "    <tr>\n",
       "      <th>1</th>\n",
       "      <td>now writing   extractor for   basic virtu...</td>\n",
       "      <td>how create directories automatically using ofs...</td>\n",
       "      <td>[c++, filestream]</td>\n",
       "      <td>write extractor basic virtual file archive com...</td>\n",
       "      <td>30</td>\n",
       "      <td>16</td>\n",
       "      <td>[color, unsigned]</td>\n",
       "      <td>[txt, create, save, read, write, file, directo...</td>\n",
       "      <td>[c++]</td>\n",
       "      <td>[()]</td>\n",
       "    </tr>\n",
       "    <tr>\n",
       "      <th>2</th>\n",
       "      <td>this     pseudo followup   this question   wh...</td>\n",
       "      <td>there way check column date r</td>\n",
       "      <td>[r]</td>\n",
       "      <td>pseudo followup ggplot graph percentage datum ...</td>\n",
       "      <td>30</td>\n",
       "      <td>11</td>\n",
       "      <td>[input, app, datum, file, return, type, set]</td>\n",
       "      <td>[format, input, return, date, convert]</td>\n",
       "      <td>[r]</td>\n",
       "      <td>[(r,)]</td>\n",
       "    </tr>\n",
       "    <tr>\n",
       "      <th>3</th>\n",
       "      <td>suppose   have these tables     create table ...</td>\n",
       "      <td>left join with condition</td>\n",
       "      <td>[mysql, sql, tsql, left-join]</td>\n",
       "      <td>suppose table create table bug int primary key...</td>\n",
       "      <td>30</td>\n",
       "      <td>7</td>\n",
       "      <td>[int, result, string, return, value]</td>\n",
       "      <td>[create, column, key, table, insert, row, varc...</td>\n",
       "      <td>[mysql, sql]</td>\n",
       "      <td>[()]</td>\n",
       "    </tr>\n",
       "    <tr>\n",
       "      <th>4</th>\n",
       "      <td>back   the old days    used   write select st...</td>\n",
       "      <td>correct way select from two tables sql server ...</td>\n",
       "      <td>[sql, sql-server, sql-server-2012]</td>\n",
       "      <td>old day write select statement select table co...</td>\n",
       "      <td>30</td>\n",
       "      <td>7</td>\n",
       "      <td>[datum, write, method, list, string, example, ...</td>\n",
       "      <td>[create, column, datum, table, server, stateme...</td>\n",
       "      <td>[sql]</td>\n",
       "      <td>[(sql,)]</td>\n",
       "    </tr>\n",
       "  </tbody>\n",
       "</table>\n",
       "</div>"
      ],
      "text/plain": [
       "                                                Body  \\\n",
       "0       fairly new   spring   excuse     this    ...   \n",
       "1       now writing   extractor for   basic virtu...   \n",
       "2   this     pseudo followup   this question   wh...   \n",
       "3   suppose   have these tables     create table ...   \n",
       "4   back   the old days    used   write select st...   \n",
       "\n",
       "                                               Title  \\\n",
       "0               spring could not resolve placeholder   \n",
       "1  how create directories automatically using ofs...   \n",
       "2                     there way check column date r    \n",
       "3                           left join with condition   \n",
       "4  correct way select from two tables sql server ...   \n",
       "\n",
       "                                 Tags  \\\n",
       "0                      [java, spring]   \n",
       "1                   [c++, filestream]   \n",
       "2                                 [r]   \n",
       "3       [mysql, sql, tsql, left-join]   \n",
       "4  [sql, sql-server, sql-server-2012]   \n",
       "\n",
       "                                   Preprocessed_text  Score  LDA_prediction  \\\n",
       "0  fairly spring excuse dumb launch program error...     30               7   \n",
       "1  write extractor basic virtual file archive com...     30              16   \n",
       "2  pseudo followup ggplot graph percentage datum ...     30              11   \n",
       "3  suppose table create table bug int primary key...     30               7   \n",
       "4  old day write select statement select table co...     30               7   \n",
       "\n",
       "                                 LDA_prediction_tags  \\\n",
       "0  [class, int, return, java, define, static, err...   \n",
       "1                                  [color, unsigned]   \n",
       "2       [input, app, datum, file, return, type, set]   \n",
       "3               [int, result, string, return, value]   \n",
       "4  [datum, write, method, list, string, example, ...   \n",
       "\n",
       "                                      NMF_prediction        new_tags  \\\n",
       "0  [class, create, public, define, property, stat...  [java, spring]   \n",
       "1  [txt, create, save, read, write, file, directo...           [c++]   \n",
       "2             [format, input, return, date, convert]             [r]   \n",
       "3  [create, column, key, table, insert, row, varc...    [mysql, sql]   \n",
       "4  [create, column, datum, table, server, stateme...           [sql]   \n",
       "\n",
       "  Multi_label_classfication  \n",
       "0          [(java, spring)]  \n",
       "1                      [()]  \n",
       "2                    [(r,)]  \n",
       "3                      [()]  \n",
       "4                  [(sql,)]  "
      ]
     },
     "execution_count": 108,
     "metadata": {},
     "output_type": "execute_result"
    }
   ],
   "source": [
    "d_test.head()"
   ]
  },
  {
   "cell_type": "code",
   "execution_count": null,
   "id": "1f27f618",
   "metadata": {},
   "outputs": [],
   "source": []
  },
  {
   "cell_type": "code",
   "execution_count": 109,
   "id": "a5d2862f",
   "metadata": {},
   "outputs": [],
   "source": [
    "#d_test.to_excel('./data/test.xlsx')"
   ]
  },
  {
   "cell_type": "code",
   "execution_count": null,
   "id": "aa6ca2da",
   "metadata": {},
   "outputs": [],
   "source": []
  },
  {
   "cell_type": "code",
   "execution_count": 110,
   "id": "ad133ac5",
   "metadata": {},
   "outputs": [],
   "source": [
    "d_test[['Body','Title','Tags','LDA_prediction_tags', 'NMF_prediction', 'Multi_label_classfication', 'new_tags']].to_excel('./data/test.xlsx')"
   ]
  },
  {
   "cell_type": "code",
   "execution_count": null,
   "id": "15b321e3",
   "metadata": {},
   "outputs": [],
   "source": []
  }
 ],
 "metadata": {
  "kernelspec": {
   "display_name": "Python 3 (ipykernel)",
   "language": "python",
   "name": "python3"
  },
  "language_info": {
   "codemirror_mode": {
    "name": "ipython",
    "version": 3
   },
   "file_extension": ".py",
   "mimetype": "text/x-python",
   "name": "python",
   "nbconvert_exporter": "python",
   "pygments_lexer": "ipython3",
   "version": "3.8.3"
  }
 },
 "nbformat": 4,
 "nbformat_minor": 5
}
