{
 "cells": [
  {
   "cell_type": "code",
   "execution_count": 423,
   "id": "cc0bbd30",
   "metadata": {},
   "outputs": [],
   "source": [
    "import pandas as pd\n",
    "import matplotlib.pyplot as plt\n",
    "import numpy as np\n",
    "import gensim\n",
    "import gensim.corpora as corpora\n",
    "\n",
    "from sklearn.feature_extraction.text import TfidfVectorizer\n",
    "from collections import Counter\n",
    "\n",
    "from sklearn.model_selection import train_test_split\n",
    "import timeit"
   ]
  },
  {
   "cell_type": "code",
   "execution_count": 424,
   "id": "5cc1b4f6",
   "metadata": {},
   "outputs": [],
   "source": [
    "import warnings\n",
    "warnings.filterwarnings(\"ignore\")"
   ]
  },
  {
   "cell_type": "code",
   "execution_count": 425,
   "id": "57a7b275",
   "metadata": {},
   "outputs": [
    {
     "data": {
      "application/javascript": [
       "IPython.OutputArea.prototype._should_scroll = function(lines) {\n",
       "    return false;\n",
       "}\n"
      ],
      "text/plain": [
       "<IPython.core.display.Javascript object>"
      ]
     },
     "metadata": {},
     "output_type": "display_data"
    }
   ],
   "source": [
    "%%javascript\n",
    "IPython.OutputArea.prototype._should_scroll = function(lines) {\n",
    "    return false;\n",
    "}"
   ]
  },
  {
   "cell_type": "code",
   "execution_count": 426,
   "id": "5d66f1da",
   "metadata": {},
   "outputs": [],
   "source": [
    "# change display options\n",
    "#pd.set_option('display.max_columns', None)\n",
    "#pd.set_option('display.expand_frame_repr', False)\n",
    "#pd.set_option('max_colwidth', -1)"
   ]
  },
  {
   "cell_type": "markdown",
   "id": "087f72f2",
   "metadata": {},
   "source": [
    "## I. Topic predictions"
   ]
  },
  {
   "cell_type": "markdown",
   "id": "6e73473f",
   "metadata": {},
   "source": [
    "### LDA"
   ]
  },
  {
   "cell_type": "markdown",
   "id": "6e20ee11",
   "metadata": {},
   "source": [
    "We try topic prediction with the Latent direichlet allocation that is a probabilistic model."
   ]
  },
  {
   "cell_type": "markdown",
   "id": "a5acdd38",
   "metadata": {},
   "source": [
    "#### Create model"
   ]
  },
  {
   "cell_type": "code",
   "execution_count": 427,
   "id": "1764f9a8",
   "metadata": {
    "scrolled": true
   },
   "outputs": [],
   "source": [
    "#import dataset\n",
    "df = pd.read_pickle('./data/cleaned_data.pkl')"
   ]
  },
  {
   "cell_type": "code",
   "execution_count": null,
   "id": "d1464e28",
   "metadata": {},
   "outputs": [],
   "source": []
  },
  {
   "cell_type": "code",
   "execution_count": 428,
   "id": "6ef544df",
   "metadata": {
    "scrolled": false
   },
   "outputs": [
    {
     "data": {
      "text/html": [
       "<div>\n",
       "<style scoped>\n",
       "    .dataframe tbody tr th:only-of-type {\n",
       "        vertical-align: middle;\n",
       "    }\n",
       "\n",
       "    .dataframe tbody tr th {\n",
       "        vertical-align: top;\n",
       "    }\n",
       "\n",
       "    .dataframe thead th {\n",
       "        text-align: right;\n",
       "    }\n",
       "</style>\n",
       "<table border=\"1\" class=\"dataframe\">\n",
       "  <thead>\n",
       "    <tr style=\"text-align: right;\">\n",
       "      <th></th>\n",
       "      <th>Body</th>\n",
       "      <th>Title</th>\n",
       "      <th>Tags</th>\n",
       "      <th>Preprocessed_text</th>\n",
       "      <th>Score</th>\n",
       "    </tr>\n",
       "  </thead>\n",
       "  <tbody>\n",
       "    <tr>\n",
       "      <th>0</th>\n",
       "      <td>have   table   csv format that looks like t...</td>\n",
       "      <td>how pivot dataframe pandas</td>\n",
       "      <td>[python, pandas, dataframe, transpose]</td>\n",
       "      <td>table csv format transpose table value indicat...</td>\n",
       "      <td>46</td>\n",
       "    </tr>\n",
       "    <tr>\n",
       "      <th>1</th>\n",
       "      <td>greets      reading that the default behaviou...</td>\n",
       "      <td>uitableview with fixed section headers</td>\n",
       "      <td>[ios, objective-c, uitableview]</td>\n",
       "      <td>greet read default behaviour uitableview pin s...</td>\n",
       "      <td>111</td>\n",
       "    </tr>\n",
       "    <tr>\n",
       "      <th>3</th>\n",
       "      <td>have installed react using  create react ap...</td>\n",
       "      <td>load local images react</td>\n",
       "      <td>[image, reactjs, local]</td>\n",
       "      <td>instal react create react app instal fine load...</td>\n",
       "      <td>70</td>\n",
       "    </tr>\n",
       "    <tr>\n",
       "      <th>4</th>\n",
       "      <td>are used   say   every r new user that   ...</td>\n",
       "      <td>the apply family really not vectorized</td>\n",
       "      <td>[r, performance, loops, vectorization, apply]</td>\n",
       "      <td>r user apply vectorize patrick burn r inferno ...</td>\n",
       "      <td>144</td>\n",
       "    </tr>\n",
       "    <tr>\n",
       "      <th>5</th>\n",
       "      <td>want   add some leading zeroes     string  ...</td>\n",
       "      <td>add leading zeroes number dart</td>\n",
       "      <td>[dart]</td>\n",
       "      <td>lead zero string example total length characte...</td>\n",
       "      <td>77</td>\n",
       "    </tr>\n",
       "  </tbody>\n",
       "</table>\n",
       "</div>"
      ],
      "text/plain": [
       "                                                Body  \\\n",
       "0     have   table   csv format that looks like t...   \n",
       "1   greets      reading that the default behaviou...   \n",
       "3     have installed react using  create react ap...   \n",
       "4       are used   say   every r new user that   ...   \n",
       "5     want   add some leading zeroes     string  ...   \n",
       "\n",
       "                                      Title  \\\n",
       "0               how pivot dataframe pandas    \n",
       "1    uitableview with fixed section headers   \n",
       "3                  load local images react    \n",
       "4   the apply family really not vectorized    \n",
       "5            add leading zeroes number dart   \n",
       "\n",
       "                                            Tags  \\\n",
       "0         [python, pandas, dataframe, transpose]   \n",
       "1                [ios, objective-c, uitableview]   \n",
       "3                        [image, reactjs, local]   \n",
       "4  [r, performance, loops, vectorization, apply]   \n",
       "5                                         [dart]   \n",
       "\n",
       "                                   Preprocessed_text  Score  \n",
       "0  table csv format transpose table value indicat...     46  \n",
       "1  greet read default behaviour uitableview pin s...    111  \n",
       "3  instal react create react app instal fine load...     70  \n",
       "4  r user apply vectorize patrick burn r inferno ...    144  \n",
       "5  lead zero string example total length characte...     77  "
      ]
     },
     "execution_count": 428,
     "metadata": {},
     "output_type": "execute_result"
    }
   ],
   "source": [
    "df.head()"
   ]
  },
  {
   "cell_type": "code",
   "execution_count": 429,
   "id": "8a9282ad",
   "metadata": {},
   "outputs": [],
   "source": [
    "df.reset_index(inplace=True, drop=True)"
   ]
  },
  {
   "cell_type": "code",
   "execution_count": 430,
   "id": "35d50a67",
   "metadata": {},
   "outputs": [],
   "source": [
    "data_cleaned = []\n",
    "for i in range(df.shape[0]):\n",
    "    data_cleaned.append(df['Preprocessed_text'][i].split())"
   ]
  },
  {
   "cell_type": "code",
   "execution_count": 431,
   "id": "0c87cb70",
   "metadata": {
    "scrolled": false
   },
   "outputs": [],
   "source": [
    "#mapping between words and ids\n",
    "dictionary = corpora.Dictionary(data_cleaned)\n",
    "\n",
    "#filter on tokens\n",
    "dictionary.filter_extremes(no_below=5, no_above=0.90, keep_n=3000)\n",
    "\n",
    "# Print dictionary\n",
    "#print(dictionary.token2id)"
   ]
  },
  {
   "cell_type": "code",
   "execution_count": 432,
   "id": "396c8aaa",
   "metadata": {},
   "outputs": [],
   "source": [
    "# Term Document Frequency\n",
    "corpus = [dictionary.doc2bow(text) for text in data_cleaned]"
   ]
  },
  {
   "cell_type": "code",
   "execution_count": 433,
   "id": "4f64fce8",
   "metadata": {
    "scrolled": true
   },
   "outputs": [
    {
     "name": "stdout",
     "output_type": "stream",
     "text": [
      "[(0, 1), (1, 3), (2, 3), (3, 1), (4, 1), (5, 1), (6, 1), (7, 1), (8, 1), (9, 2), (10, 2), (11, 1), (12, 1), (13, 1), (14, 2), (15, 1), (16, 4), (17, 3)]\n"
     ]
    }
   ],
   "source": [
    "print(corpus[0])"
   ]
  },
  {
   "cell_type": "code",
   "execution_count": 434,
   "id": "a7ae23bb",
   "metadata": {},
   "outputs": [],
   "source": [
    "import pyLDAvis\n",
    "import pyLDAvis.gensim_models "
   ]
  },
  {
   "cell_type": "code",
   "execution_count": 435,
   "id": "3633867e",
   "metadata": {},
   "outputs": [],
   "source": [
    "from gensim.models import TfidfModel"
   ]
  },
  {
   "cell_type": "code",
   "execution_count": 436,
   "id": "456cda43",
   "metadata": {},
   "outputs": [],
   "source": [
    "#create TF-IDF bag of words\n",
    "\n",
    "model = TfidfModel(corpus) \n",
    "corpus = model[corpus]"
   ]
  },
  {
   "cell_type": "code",
   "execution_count": 437,
   "id": "e21498db",
   "metadata": {},
   "outputs": [],
   "source": [
    "# Look for the best number of topics : we calculate coherence score. \n",
    "\n",
    "scores = []\n",
    "\n",
    "#t is the number of topics\n",
    "for t in range(4, 30):    \n",
    "    \n",
    "    lda_model = gensim.models.LdaMulticore(corpus=corpus,\n",
    "                                           id2word=dictionary,\n",
    "                                           num_topics=t, \n",
    "                                           random_state=0,\n",
    "                                           chunksize=100,\n",
    "                                           passes=10,\n",
    "                                           per_word_topics=True)\n",
    "    \n",
    "    coherence_model_lda = gensim.models.CoherenceModel(model=lda_model, \n",
    "                                                       texts=data_cleaned, \n",
    "                                                       dictionary=dictionary, \n",
    "                                                       coherence='c_v')\n",
    "    score = coherence_model_lda.get_coherence()\n",
    "    scores.append(score)"
   ]
  },
  {
   "cell_type": "code",
   "execution_count": 438,
   "id": "8dc023f2",
   "metadata": {},
   "outputs": [
    {
     "data": {
      "image/png": "[encoded data removed]",
      "text/plain": [
       "<Figure size 432x288 with 1 Axes>"
      ]
     },
     "metadata": {
      "needs_background": "light"
     },
     "output_type": "display_data"
    }
   ],
   "source": [
    "plt.plot(np.arange(4,30),scores)\n",
    "plt.xticks(np.arange(4,30,2))\n",
    "plt.xlabel('Number of topics')\n",
    "plt.ylabel('Coherence score')\n",
    "plt.title('Cohence scores for LDA models')\n",
    "plt.grid()"
   ]
  },
  {
   "cell_type": "code",
   "execution_count": 439,
   "id": "a09e10b9",
   "metadata": {},
   "outputs": [],
   "source": [
    "# Build LDA model\n",
    "lda_model = gensim.models.LdaMulticore(corpus=corpus,\n",
    "                                       id2word=dictionary,\n",
    "                                       num_topics=17, \n",
    "                                       random_state=0,\n",
    "                                       chunksize=100,\n",
    "                                       passes=10,\n",
    "                                       per_word_topics=True)"
   ]
  },
  {
   "cell_type": "code",
   "execution_count": 440,
   "id": "bc6a0d98",
   "metadata": {},
   "outputs": [
    {
     "name": "stdout",
     "output_type": "stream",
     "text": [
      "nCoherence Score:  0.5447431781950375\n"
     ]
    }
   ],
   "source": [
    "#check coherence score\n",
    "coherence_model_lda = gensim.models.CoherenceModel(model=lda_model, texts=data_cleaned, dictionary=dictionary, coherence='c_v')\n",
    "coherence_lda = coherence_model_lda.get_coherence()\n",
    "print('nCoherence Score: ', coherence_lda)"
   ]
  },
  {
   "cell_type": "code",
   "execution_count": 441,
   "id": "8ca0b0f5",
   "metadata": {
    "scrolled": true
   },
   "outputs": [
    {
     "data": {
      "text/plain": [
       "[(0,\n",
       "  '0.032*\"column\" + 0.025*\"dataframe\" + 0.024*\"panda\" + 0.020*\"col\" + 0.019*\"redirect\" + 0.017*\"csv\" + 0.014*\"route\" + 0.012*\"blank\" + 0.011*\"flask\" + 0.011*\"nuget\" + 0.010*\"alpha\" + 0.010*\"row\" + 0.010*\"sum\" + 0.010*\"apt\" + 0.009*\"nodejs\" + 0.009*\"gcc\" + 0.009*\"sizeof\" + 0.009*\"dataset\" + 0.008*\"router\" + 0.008*\"user_id\" + 0.008*\"photo\" + 0.008*\"datum\" + 0.008*\"session\" + 0.008*\"frame\" + 0.008*\"reverse\" + 0.008*\"agent\" + 0.007*\"index\" + 0.007*\"overlap\" + 0.007*\"wrapper\" + 0.007*\"drive\"'),\n",
       " (1,\n",
       "  '0.027*\"swift\" + 0.018*\"cell\" + 0.017*\"center\" + 0.016*\"float\" + 0.015*\"image\" + 0.015*\"func\" + 0.014*\"border\" + 0.013*\"proxy\" + 0.013*\"leave\" + 0.012*\"position\" + 0.011*\"align\" + 0.011*\"width\" + 0.011*\"span\" + 0.010*\"pool\" + 0.010*\"camera\" + 0.010*\"nil\" + 0.010*\"background\" + 0.009*\"quote\" + 0.008*\"class\" + 0.008*\"row\" + 0.008*\"height\" + 0.008*\"arrow\" + 0.008*\"objective\" + 0.008*\"rate\" + 0.008*\"viewcontroller\" + 0.007*\"left\" + 0.007*\"bootstrap\" + 0.007*\"grid\" + 0.007*\"nsstre\" + 0.007*\"table\"'),\n",
       " (2,\n",
       "  '0.023*\"dll\" + 0.018*\"inner\" + 0.016*\"assembly\" + 0.016*\"desc\" + 0.015*\"uuid\" + 0.015*\"varchar\" + 0.015*\"watch\" + 0.014*\"reach\" + 0.013*\"populate\" + 0.013*\"xampp\" + 0.012*\"green\" + 0.012*\"win\" + 0.012*\"derive\" + 0.011*\"textarea\" + 0.011*\"browse\" + 0.010*\"min\" + 0.010*\"visibility\" + 0.010*\"administrator\" + 0.009*\"complexity\" + 0.009*\"slide\" + 0.009*\"adjust\" + 0.009*\"sourcetree\" + 0.008*\"webpage\" + 0.008*\"sbt\" + 0.008*\"vary\" + 0.008*\"commons\" + 0.008*\"signal\" + 0.007*\"inspector\" + 0.007*\"max\" + 0.007*\"subdirectory\"'),\n",
       " (3,\n",
       "  '0.021*\"split\" + 0.018*\"iframe\" + 0.017*\"decimal\" + 0.017*\"amazon\" + 0.016*\"async\" + 0.014*\"task\" + 0.014*\"architecture\" + 0.013*\"stream\" + 0.013*\"scale\" + 0.013*\"await\" + 0.013*\"programmatically\" + 0.012*\"nbsp\" + 0.011*\"zip\" + 0.011*\"actionbar\" + 0.010*\"identify\" + 0.010*\"gmail\" + 0.009*\"textfield\" + 0.009*\"digit\" + 0.009*\"partition\" + 0.008*\"wordpress\" + 0.008*\"aug\" + 0.008*\"kafka\" + 0.008*\"uiimage\" + 0.008*\"revision\" + 0.008*\"iteration\" + 0.008*\"awk\" + 0.007*\"room\" + 0.007*\"gradient\" + 0.007*\"eslint\" + 0.007*\"asynchronous\"'),\n",
       " (4,\n",
       "  '0.030*\"group\" + 0.019*\"batch\" + 0.019*\"security\" + 0.018*\"shape\" + 0.018*\"observable\" + 0.014*\"rename\" + 0.013*\"prompt\" + 0.012*\"datepicker\" + 0.012*\"exception\" + 0.012*\"sy\" + 0.011*\"temp\" + 0.011*\"jdk\" + 0.011*\"shift\" + 0.011*\"catch\" + 0.010*\"subscribe\" + 0.009*\"bat\" + 0.008*\"myproject\" + 0.008*\"monitor\" + 0.008*\"uint\" + 0.008*\"helper\" + 0.008*\"seed\" + 0.008*\"binary\" + 0.008*\"endif\" + 0.008*\"observe\" + 0.008*\"factor\" + 0.008*\"legend\" + 0.008*\"material\" + 0.008*\"workspace\" + 0.007*\"dim\" + 0.007*\"jre\"'),\n",
       " (5,\n",
       "  '0.016*\"random\" + 0.015*\"django\" + 0.011*\"flutter\" + 0.011*\"val\" + 0.010*\"firebase\" + 0.009*\"alert\" + 0.009*\"picture\" + 0.008*\"optional\" + 0.008*\"deprecate\" + 0.008*\"listen\" + 0.008*\"logic\" + 0.008*\"practice\" + 0.008*\"difference\" + 0.007*\"delay\" + 0.007*\"recognize\" + 0.007*\"average\" + 0.007*\"price\" + 0.006*\"bitmap\" + 0.006*\"cmake\" + 0.006*\"scan\" + 0.006*\"counter\" + 0.006*\"requirejs\" + 0.006*\"reduce\" + 0.006*\"forward\" + 0.006*\"fun\" + 0.006*\"builder\" + 0.006*\"relationship\" + 0.006*\"makefile\" + 0.006*\"model\" + 0.006*\"entity\"'),\n",
       " (6,\n",
       "  '0.048*\"docker\" + 0.026*\"container\" + 0.023*\"notification\" + 0.023*\"listview\" + 0.022*\"setting\" + 0.017*\"card\" + 0.016*\"symfony\" + 0.016*\"bucket\" + 0.016*\"pod\" + 0.015*\"unique\" + 0.014*\"checkbox\" + 0.012*\"child\" + 0.012*\"volume\" + 0.009*\"subclass\" + 0.009*\"drag\" + 0.009*\"bring\" + 0.009*\"engine\" + 0.008*\"singleton\" + 0.008*\"xamarin\" + 0.008*\"readonly\" + 0.008*\"xpath\" + 0.007*\"myobject\" + 0.007*\"razor\" + 0.007*\"feb\" + 0.007*\"regard\" + 0.007*\"stringify\" + 0.007*\"customize\" + 0.007*\"importerror\" + 0.007*\"javadoc\" + 0.006*\"cocoapod\"'),\n",
       " (7,\n",
       "  '0.014*\"string\" + 0.012*\"value\" + 0.012*\"int\" + 0.011*\"c\" + 0.011*\"array\" + 0.010*\"function\" + 0.010*\"object\" + 0.010*\"list\" + 0.010*\"return\" + 0.009*\"class\" + 0.008*\"type\" + 0.007*\"print\" + 0.007*\"number\" + 0.007*\"method\" + 0.007*\"python\" + 0.007*\"variable\" + 0.006*\"line\" + 0.006*\"public\" + 0.006*\"c++\" + 0.006*\"example\" + 0.005*\"std\" + 0.005*\"case\" + 0.005*\"time\" + 0.005*\"java\" + 0.005*\"var\" + 0.005*\"character\" + 0.005*\"mean\" + 0.005*\"static\" + 0.005*\"amp\" + 0.005*\"datum\"'),\n",
       " (8,\n",
       "  '0.023*\"exe\" + 0.020*\"textbox\" + 0.020*\"haskell\" + 0.017*\"cpp\" + 0.016*\"constexpr\" + 0.015*\"literal\" + 0.015*\"secret\" + 0.013*\"clang\" + 0.012*\"maximum\" + 0.012*\"lookup\" + 0.011*\"gets\" + 0.011*\"evaluate\" + 0.011*\"imagine\" + 0.011*\"matplotlib\" + 0.010*\"straight\" + 0.010*\"someclass\" + 0.010*\"urlencode\" + 0.010*\"constant\" + 0.010*\"arbitrary\" + 0.009*\"dat\" + 0.009*\"loss\" + 0.009*\"classloader\" + 0.009*\"overload\" + 0.009*\"signature\" + 0.009*\"knockout\" + 0.008*\"terminate\" + 0.007*\"idle\" + 0.007*\"operand\" + 0.007*\"circumstance\" + 0.007*\"pad\"'),\n",
       " (9,\n",
       "  '0.084*\"android\" + 0.024*\"activity\" + 0.018*\"layout\" + 0.016*\"symbol\" + 0.016*\"vector\" + 0.016*\"fragment\" + 0.013*\"layout_width\" + 0.013*\"layout_height\" + 0.013*\"r\" + 0.012*\"wrap_content\" + 0.011*\"textview\" + 0.011*\"edittext\" + 0.011*\"override\" + 0.010*\"widget\" + 0.010*\"curl\" + 0.009*\"public\" + 0.009*\"employee\" + 0.008*\"oncreate\" + 0.008*\"match_parent\" + 0.008*\"linearlayout\" + 0.008*\"xml\" + 0.007*\"age\" + 0.007*\"savedinstancestate\" + 0.007*\"orientation\" + 0.007*\"condition\" + 0.007*\"policy\" + 0.007*\"imageview\" + 0.006*\"final\" + 0.006*\"onchange\" + 0.006*\"lion\"'),\n",
       " (10,\n",
       "  '0.036*\"java\" + 0.022*\"dictionary\" + 0.017*\"minute\" + 0.017*\"job\" + 0.016*\"printf\" + 0.016*\"jenkin\" + 0.015*\"postgre\" + 0.012*\"invoke\" + 0.012*\"androidruntime\" + 0.012*\"inspect\" + 0.010*\"popup\" + 0.010*\"lang\" + 0.010*\"collect\" + 0.009*\"strong\" + 0.009*\"util\" + 0.009*\"sun\" + 0.009*\"iso\" + 0.008*\"anonymous\" + 0.008*\"timezone\" + 0.008*\"unexpected\" + 0.008*\"recent\" + 0.008*\"installation\" + 0.008*\"activitythread\" + 0.007*\"utc\" + 0.007*\"macro\" + 0.007*\"stdin\" + 0.007*\"rspec\" + 0.007*\"startup\" + 0.007*\"reflect\" + 0.007*\"vuejs\"'),\n",
       " (11,\n",
       "  '0.008*\"app\" + 0.007*\"user\" + 0.007*\"file\" + 0.006*\"html\" + 0.006*\"error\" + 0.006*\"android\" + 0.005*\"page\" + 0.005*\"url\" + 0.005*\"image\" + 0.005*\"request\" + 0.005*\"text\" + 0.005*\"function\" + 0.005*\"server\" + 0.005*\"datum\" + 0.005*\"com\" + 0.004*\"work\" + 0.004*\"form\" + 0.004*\"class\" + 0.004*\"style\" + 0.004*\"set\" + 0.004*\"button\" + 0.004*\"create\" + 0.004*\"json\" + 0.004*\"io\" + 0.004*\"var\" + 0.004*\"content\" + 0.004*\"item\" + 0.004*\"response\" + 0.004*\"jquery\" + 0.004*\"google\"'),\n",
       " (12,\n",
       "  '0.034*\"date\" + 0.021*\"table\" + 0.020*\"query\" + 0.018*\"branch\" + 0.018*\"git\" + 0.018*\"sql\" + 0.018*\"key\" + 0.018*\"datetime\" + 0.017*\"mysql\" + 0.015*\"select\" + 0.015*\"day\" + 0.014*\"array\" + 0.014*\"commit\" + 0.014*\"column\" + 0.013*\"integer\" + 0.013*\"month\" + 0.013*\"convert\" + 0.012*\"master\" + 0.011*\"order\" + 0.011*\"list\" + 0.011*\"sort\" + 0.011*\"value\" + 0.011*\"string\" + 0.010*\"person\" + 0.010*\"merge\" + 0.009*\"row\" + 0.009*\"hash\" + 0.008*\"format\" + 0.007*\"field\" + 0.007*\"arraylist\"'),\n",
       " (13,\n",
       "  '0.020*\"height\" + 0.019*\"width\" + 0.018*\"scroll\" + 0.016*\"box\" + 0.014*\"placeholder\" + 0.014*\"difference\" + 0.013*\"css\" + 0.012*\"area\" + 0.012*\"vim\" + 0.010*\"margin\" + 0.010*\"hover\" + 0.010*\"text\" + 0.010*\"padding\" + 0.010*\"count\" + 0.009*\"touch\" + 0.009*\"arr\" + 0.009*\"raw\" + 0.009*\"svn\" + 0.008*\"resize\" + 0.008*\"algorithm\" + 0.008*\"brew\" + 0.008*\"option\" + 0.007*\"size\" + 0.007*\"select\" + 0.007*\"auto\" + 0.007*\"preference\" + 0.007*\"occurrence\" + 0.007*\"shadow\" + 0.007*\"medium\" + 0.007*\"screen\"'),\n",
       " (14,\n",
       "  '0.014*\"file\" + 0.009*\"project\" + 0.009*\"run\" + 0.008*\"command\" + 0.008*\"install\" + 0.007*\"module\" + 0.007*\"package\" + 0.007*\"version\" + 0.007*\"python\" + 0.006*\"error\" + 0.006*\"test\" + 0.006*\"folder\" + 0.006*\"studio\" + 0.006*\"net\" + 0.006*\"window\" + 0.006*\"directory\" + 0.006*\"git\" + 0.005*\"web\" + 0.005*\"instal\" + 0.005*\"script\" + 0.005*\"path\" + 0.005*\"npm\" + 0.005*\"service\" + 0.005*\"import\" + 0.005*\"java\" + 0.005*\"c\" + 0.005*\"open\" + 0.004*\"application\" + 0.004*\"visual\" + 0.004*\"spring\"'),\n",
       " (15,\n",
       "  '0.042*\"byte\" + 0.032*\"char\" + 0.027*\"timestamp\" + 0.025*\"email\" + 0.024*\"buffer\" + 0.018*\"println\" + 0.017*\"promise\" + 0.015*\"opencv\" + 0.015*\"decode\" + 0.014*\"topic\" + 0.013*\"queue\" + 0.012*\"millisecond\" + 0.012*\"subject\" + 0.011*\"unicode\" + 0.011*\"represent\" + 0.011*\"mail\" + 0.010*\"reader\" + 0.010*\"somebody\" + 0.010*\"ipad\" + 0.010*\"review\" + 0.009*\"car\" + 0.009*\"act\" + 0.009*\"eval\" + 0.008*\"nullable\" + 0.008*\"encode\" + 0.007*\"certificate\" + 0.007*\"circular\" + 0.007*\"coordinate\" + 0.007*\"decoder\" + 0.007*\"cert\"'),\n",
       " (16,\n",
       "  '0.027*\"color\" + 0.019*\"modal\" + 0.015*\"round\" + 0.013*\"prop\" + 0.012*\"svg\" + 0.012*\"button\" + 0.011*\"flex\" + 0.010*\"red\" + 0.010*\"background\" + 0.010*\"unsigned\" + 0.009*\"webkit\" + 0.009*\"mongodb\" + 0.009*\"font\" + 0.008*\"react\" + 0.008*\"cast\" + 0.008*\"history\" + 0.008*\"constraint\" + 0.008*\"alter\" + 0.008*\"zone\" + 0.008*\"logger\" + 0.008*\"assert\" + 0.007*\"uiview\" + 0.007*\"near\" + 0.007*\"increment\" + 0.007*\"dialog\" + 0.007*\"btn\" + 0.007*\"cron\" + 0.007*\"adb\" + 0.007*\"prefix\" + 0.007*\"const\"')]"
      ]
     },
     "execution_count": 441,
     "metadata": {},
     "output_type": "execute_result"
    }
   ],
   "source": [
    "# See the topics\n",
    "lda_model.print_topics(-1,num_words=30)"
   ]
  },
  {
   "cell_type": "code",
   "execution_count": 442,
   "id": "108daa52",
   "metadata": {},
   "outputs": [
    {
     "data": {
      "text/html": [
       "\n",
       "<link rel=\"stylesheet\" type=\"text/css\" href=\"https://cdn.jsdelivr.net/gh/bmabey/pyLDAvis@3.3.1/pyLDAvis/js/ldavis.v1.0.0.css\">\n",
       "\n",
       "\n",
       "<div id=\"ldavis_el720823992726685128321667925\"></div>\n",
       "<script type=\"text/javascript\">\n",
       "\n",
       "var ldavis_el720823992726685128321667925_data = {\"mdsDat\": {\"x\": [2.9721131324768066, -7.288965702056885, 38.04939270019531, -42.22704315185547, -63.238548278808594, -48.09906005859375, -48.08784103393555, 17.708776473999023, 92.84619140625, 47.89286422729492, 92.0391845703125, -94.76649475097656, -9.109380722045898, -94.60684204101562, 44.94553756713867, -1.4934841394424438, 71.31283569335938], \"y\": [-13.78672981262207, 86.1502914428711, 65.5876235961914, 6.162611484527588, -41.294517517089844, 56.47357940673828, 120.04415893554688, 131.64089965820312, -8.328437805175781, -45.58987808227539, 50.145565032958984, 15.104292869567871, -64.73255157470703, 77.71231842041016, 14.845922470092773, 35.84217834472656, 105.5743637084961], \"topics\": [1, 2, 3, 4, 5, 6, 7, 8, 9, 10, 11, 12, 13, 14, 15, 16, 17], \"cluster\": [1, 1, 1, 1, 1, 1, 1, 1, 1, 1, 1, 1, 1, 1, 1, 1, 1], \"Freq\": [26.5081033775489, 16.926350030655378, 16.831488103313074, 4.902814381321787, 3.5895145365622385, 3.3395849073720383, 3.242609348993914, 3.2229464142194124, 3.2065519539357075, 2.9848339171273124, 2.4817624449280227, 2.4310377539761556, 2.353590357731695, 2.129479502912884, 2.1257300544985354, 2.0050196121114396, 1.7185833027915038]}, \"tinfo\": {\"Term\": [\"android\", \"java\", \"date\", \"column\", \"docker\", \"byte\", \"color\", \"array\", \"git\", \"table\", \"image\", \"query\", \"key\", \"group\", \"string\", \"value\", \"container\", \"char\", \"select\", \"dataframe\", \"activity\", \"sql\", \"swift\", \"panda\", \"width\", \"css\", \"difference\", \"list\", \"email\", \"r\", \"connection\", \"chrome\", \"err\", \"menu\", \"gradle\", \"website\", \"href\", \"theme\", \"ajax\", \"www\", \"submit\", \"schema\", \"pull\", \"xcode\", \"migration\", \"pdf\", \"facebook\", \"pip\", \"emulator\", \"iphone\", \"sdk\", \"aw\", \"req\", \"profile\", \"io\", \"tomcat\", \"white\", \"mongoose\", \"origin\", \"response\", \"site\", \"icon\", \"connect\", \"tab\", \"url\", \"local\", \"device\", \"html\", \"tag\", \"event\", \"page\", \"form\", \"request\", \"jquery\", \"app\", \"style\", \"com\", \"content\", \"user\", \"post\", \"image\", \"server\", \"title\", \"json\", \"text\", \"button\", \"error\", \"file\", \"item\", \"datum\", \"api\", \"android\", \"function\", \"work\", \"set\", \"var\", \"create\", \"class\", \"google\", \"spring\", \"laravel\", \"video\", \"upload\", \"bean\", \"lock\", \"external\", \"authentication\", \"boot\", \"execution\", \"npm\", \"node_modules\", \"webpack\", \"iis\", \"sudo\", \"driver\", \"plt\", \"asp\", \"exclude\", \"maven\", \"userid\", \"microsoft\", \"timer\", \"restart\", \"unix\", \"step\", \"directive\", \"pycharm\", \"loader\", \"servlet\", \"visual\", \"module\", \"annotation\", \"mvc\", \"install\", \"studio\", \"instal\", \"package\", \"net\", \"project\", \"folder\", \"dependency\", \"command\", \"core\", \"apache\", \"directory\", \"file\", \"service\", \"run\", \"web\", \"path\", \"version\", \"window\", \"repository\", \"eclipse\", \"python\", \"script\", \"test\", \"git\", \"open\", \"error\", \"import\", \"application\", \"java\", \"c\", \"std\", \"struct\", \"operator\", \"intellij\", \"arg\", \"str\", \"obj\", \"pointer\", \"iterate\", \"book\", \"axis\", \"expression\", \"grep\", \"mock\", \"c++\", \"generic\", \"cout\", \"cpu\", \"args\", \"lambda\", \"sheet\", \"num\", \"letter\", \"kernel\", \"len\", \"kill\", \"ggplot\", \"myclass\", \"restriction\", \"partial\", \"exit\", \"compiler\", \"int\", \"print\", \"constructor\", \"character\", \"loop\", \"equal\", \"member\", \"typescript\", \"string\", \"array\", \"argument\", \"value\", \"variable\", \"number\", \"object\", \"list\", \"c\", \"return\", \"function\", \"statement\", \"type\", \"method\", \"case\", \"class\", \"static\", \"parameter\", \"python\", \"line\", \"example\", \"public\", \"mean\", \"time\", \"amp\", \"var\", \"result\", \"java\", \"datum\", \"month\", \"person\", \"arraylist\", \"dict\", \"integer\", \"branch\", \"foreign\", \"datetime\", \"upstream\", \"emac\", \"pid\", \"datatable\", \"substre\", \"community\", \"comma\", \"merge\", \"soft\", \"date\", \"day\", \"subtract\", \"master\", \"hash\", \"serializable\", \"mysql\", \"firstname\", \"dimension\", \"lastname\", \"tablet\", \"encrypt\", \"typename\", \"sql\", \"commit\", \"sort\", \"query\", \"locally\", \"table\", \"key\", \"git\", \"order\", \"convert\", \"select\", \"column\", \"year\", \"array\", \"row\", \"list\", \"format\", \"value\", \"string\", \"field\", \"random\", \"firebase\", \"picture\", \"listen\", \"delay\", \"logic\", \"recognize\", \"deprecate\", \"bitmap\", \"cmake\", \"scan\", \"counter\", \"requirejs\", \"makefile\", \"relationship\", \"locale\", \"adapter\", \"dog\", \"websocket\", \"clearly\", \"pipeline\", \"average\", \"ienumerable\", \"clarify\", \"azure\", \"grunt\", \"stage\", \"measure\", \"mercurial\", \"jvm\", \"flutter\", \"price\", \"django\", \"val\", \"optional\", \"alert\", \"practice\", \"fun\", \"reduce\", \"builder\", \"forward\", \"difference\", \"entity\", \"model\", \"redirect\", \"col\", \"nuget\", \"flask\", \"alpha\", \"apt\", \"dataframe\", \"sizeof\", \"panda\", \"dataset\", \"reverse\", \"agent\", \"photo\", \"user_id\", \"overlap\", \"drive\", \"wrapper\", \"hibernate\", \"javafx\", \"cross\", \"heap\", \"dtype\", \"destroy\", \"weight\", \"blank\", \"score\", \"csv\", \"notify\", \"transaction\", \"typedef\", \"nodejs\", \"sum\", \"route\", \"column\", \"gcc\", \"locate\", \"router\", \"row\", \"frame\", \"session\", \"datum\", \"index\", \"vim\", \"area\", \"hover\", \"arr\", \"scroll\", \"svn\", \"placeholder\", \"brew\", \"padding\", \"occurrence\", \"shadow\", \"mouse\", \"resize\", \"radius\", \"ipython\", \"touch\", \"viewmodel\", \"percentage\", \"homebrew\", \"student\", \"alias\", \"forum\", \"hidden\", \"vagrant\", \"dagger\", \"elem\", \"logical\", \"stable\", \"pagination\", \"strip\", \"raw\", \"medium\", \"height\", \"box\", \"preference\", \"width\", \"margin\", \"panel\", \"algorithm\", \"css\", \"count\", \"difference\", \"text\", \"auto\", \"option\", \"size\", \"select\", \"screen\", \"symbol\", \"fragment\", \"layout_width\", \"layout_height\", \"wrap_content\", \"textview\", \"edittext\", \"employee\", \"oncreate\", \"match_parent\", \"linearlayout\", \"savedinstancestate\", \"orientation\", \"policy\", \"imageview\", \"onchange\", \"lion\", \"fill_parent\", \"retrofit\", \"toast\", \"findviewbyid\", \"iterator\", \"inflate\", \"sentence\", \"scrollview\", \"activity\", \"mainactivity\", \"cardview\", \"viewpager\", \"logcat\", \"vector\", \"gson\", \"android\", \"curl\", \"layout\", \"widget\", \"override\", \"r\", \"public\", \"age\", \"xml\", \"condition\", \"final\", \"swift\", \"proxy\", \"camera\", \"arrow\", \"rate\", \"pool\", \"viewcontroller\", \"listener\", \"nsstre\", \"viewdidload\", \"transparent\", \"solid\", \"cell\", \"func\", \"navbar\", \"alloc\", \"vba\", \"horizontally\", \"se\", \"align\", \"objective\", \"uiviewcontroller\", \"center\", \"quote\", \"postman\", \"nslog\", \"incompatible\", \"minimum\", \"nsurl\", \"invocation\", \"delegate\", \"left\", \"border\", \"float\", \"nil\", \"span\", \"leave\", \"position\", \"pop\", \"image\", \"width\", \"grid\", \"background\", \"height\", \"row\", \"class\", \"bootstrap\", \"table\", \"modal\", \"svg\", \"flex\", \"unsigned\", \"webkit\", \"round\", \"alter\", \"zone\", \"near\", \"prop\", \"cron\", \"adb\", \"prefix\", \"hardware\", \"increment\", \"opacity\", \"recursively\", \"organize\", \"orange\", \"fixture\", \"caller\", \"readable\", \"dispatch\", \"fff\", \"uitableview\", \"mess\", \"eax\", \"tableview\", \"uiview\", \"appbar\", \"assert\", \"red\", \"logger\", \"color\", \"live\", \"cast\", \"history\", \"rust\", \"mongodb\", \"constraint\", \"btn\", \"font\", \"button\", \"background\", \"dialog\", \"react\", \"const\", \"split\", \"iframe\", \"amazon\", \"zip\", \"actionbar\", \"scale\", \"identify\", \"nbsp\", \"architecture\", \"textfield\", \"digit\", \"partition\", \"decimal\", \"wordpress\", \"aug\", \"kafka\", \"awk\", \"iteration\", \"gmail\", \"room\", \"gradient\", \"eslint\", \"asynchronous\", \"virtualenv\", \"versus\", \"scheme\", \"nsdate\", \"installer\", \"revision\", \"privilege\", \"await\", \"uiimage\", \"async\", \"programmatically\", \"stream\", \"task\", \"dictionary\", \"minute\", \"jenkin\", \"androidruntime\", \"inspect\", \"popup\", \"sun\", \"iso\", \"anonymous\", \"timezone\", \"postgre\", \"unexpected\", \"activitythread\", \"utc\", \"macro\", \"rspec\", \"printf\", \"vuejs\", \"strong\", \"formatter\", \"exceed\", \"valueerror\", \"groovy\", \"stdin\", \"nonatomic\", \"reflect\", \"mistake\", \"extremely\", \"fiddler\", \"inf\", \"startup\", \"invoke\", \"job\", \"collect\", \"java\", \"lang\", \"installation\", \"util\", \"recent\", \"shape\", \"observable\", \"batch\", \"datepicker\", \"sy\", \"shift\", \"subscribe\", \"bat\", \"jdk\", \"monitor\", \"uint\", \"seed\", \"observe\", \"factor\", \"legend\", \"workspace\", \"dim\", \"security\", \"jre\", \"myproject\", \"rel\", \"guarantee\", \"tester\", \"emit\", \"union\", \"readline\", \"alternate\", \"tfs\", \"subscription\", \"endif\", \"group\", \"rename\", \"prompt\", \"temp\", \"material\", \"helper\", \"catch\", \"exception\", \"binary\", \"timestamp\", \"buffer\", \"opencv\", \"topic\", \"promise\", \"millisecond\", \"unicode\", \"mail\", \"reader\", \"decode\", \"ipad\", \"review\", \"byte\", \"eval\", \"nullable\", \"somebody\", \"circular\", \"coordinate\", \"decoder\", \"cert\", \"car\", \"anchor\", \"char\", \"precision\", \"linq\", \"jsonobject\", \"subject\", \"act\", \"foundation\", \"lodash\", \"queue\", \"email\", \"println\", \"represent\", \"encode\", \"certificate\", \"listview\", \"docker\", \"card\", \"symfony\", \"bucket\", \"pod\", \"volume\", \"notification\", \"subclass\", \"bring\", \"singleton\", \"xamarin\", \"myobject\", \"customize\", \"javadoc\", \"cocoapod\", \"node_env\", \"hashmap\", \"distinct\", \"story\", \"dirname\", \"drag\", \"importerror\", \"permanently\", \"helloworld\", \"separator\", \"registration\", \"regard\", \"predicate\", \"readonly\", \"checkbox\", \"unique\", \"stringify\", \"setting\", \"container\", \"xpath\", \"feb\", \"engine\", \"child\", \"razor\", \"dll\", \"desc\", \"uuid\", \"watch\", \"reach\", \"populate\", \"xampp\", \"derive\", \"textarea\", \"browse\", \"green\", \"visibility\", \"complexity\", \"sourcetree\", \"sbt\", \"assembly\", \"commons\", \"varchar\", \"inspector\", \"win\", \"subdirectory\", \"guideline\", \"codebase\", \"happy\", \"vary\", \"reloaddata\", \"encapsulate\", \"slide\", \"adjust\", \"purchase\", \"inner\", \"administrator\", \"webpage\", \"signal\", \"min\", \"max\", \"textbox\", \"haskell\", \"constexpr\", \"literal\", \"secret\", \"cpp\", \"lookup\", \"someclass\", \"urlencode\", \"arbitrary\", \"dat\", \"loss\", \"classloader\", \"overload\", \"knockout\", \"idle\", \"operand\", \"clang\", \"circumstance\", \"pad\", \"decrypt\", \"threading\", \"urllib\", \"statuscode\", \"straight\", \"size_t\", \"bonus\", \"personal\", \"imagine\", \"loadclass\", \"exe\", \"maximum\", \"signature\", \"gets\", \"evaluate\", \"matplotlib\", \"terminate\", \"constant\"], \"Freq\": [116.0, 68.0, 52.0, 51.0, 26.0, 25.0, 37.0, 65.0, 51.0, 51.0, 52.0, 40.0, 49.0, 25.0, 85.0, 87.0, 26.0, 21.0, 45.0, 22.0, 22.0, 29.0, 22.0, 22.0, 29.0, 33.0, 53.0, 66.0, 23.0, 38.0, 21.842664460621638, 22.887144834754373, 15.199364338357459, 17.16878842159445, 15.456050642993159, 13.831335555745977, 13.652116375818265, 12.693180163955306, 12.683812953096684, 11.743067166543966, 11.72911525869367, 11.537659795947917, 11.114488045462428, 22.92939473751997, 10.931663071168485, 10.91950751508999, 10.405034549449871, 9.921374471205574, 9.697152679420658, 9.569797884211262, 14.879855175927531, 9.408300041782935, 9.33385253349459, 12.135260212547006, 25.568034764349097, 9.050487132341985, 9.07744331793786, 8.941007855431819, 8.796904079937166, 24.05421494465973, 18.212409165041247, 14.462961929428262, 16.495374687546107, 14.043326882856242, 33.7040101186859, 22.05532196515011, 17.063242936884155, 37.5853983010358, 22.653662740495633, 22.69802608384781, 34.320774045077286, 27.294330271585984, 31.927678578291147, 24.023714782471146, 47.08466065112088, 26.208301080966198, 28.794044002625206, 25.03596264222079, 42.073415203990926, 22.16620268734945, 32.628020134486334, 30.07876860817223, 20.221901347272418, 25.750288106054928, 31.00609339245903, 25.991895237558428, 34.79367273985302, 41.76658959415219, 24.51097410967036, 29.999356769035984, 23.11399279101215, 34.76725255071699, 30.40902097237262, 27.313946142026882, 26.194712807077803, 25.22400503660012, 25.910054323556672, 26.617331106673277, 23.15452343240587, 16.5341970272524, 11.75593096861139, 14.126188565573603, 15.412910155132773, 8.559045902358603, 8.374629872558366, 7.9048300854027875, 7.620243678767301, 7.428990029864483, 8.088254186759457, 20.549647822261885, 6.735636691669376, 6.724031686142788, 6.55516237002879, 6.4880386279787805, 6.460264167172868, 6.4518397411921615, 14.713161293283717, 7.034772310915828, 9.09172540813452, 5.9286861849307275, 9.680374569216022, 5.797941564243556, 7.920698154184042, 5.740235105389773, 11.034885365928027, 7.654771704814237, 5.445561770981455, 5.423337651354166, 5.308633386645142, 16.73089792364729, 29.351606598204732, 8.76509767475523, 15.6921928095426, 30.29138263918656, 22.988660549205875, 21.56621101305694, 26.722615426246517, 22.68510815494688, 36.53409544405264, 23.934456889973486, 14.09157230619133, 31.460790114854657, 15.171281773156634, 12.465833165427766, 22.381286416822128, 57.04829389849229, 19.361427141956206, 33.94931567450153, 21.80909045085095, 21.258085345711677, 26.15572089057112, 22.606270276666052, 13.92690846947104, 14.48733503728032, 26.106213630499948, 21.556226714584685, 24.204965435763093, 22.365307824178714, 18.04651267982724, 24.221096347006455, 19.219949168218374, 17.4936964693837, 19.024591276064495, 18.63479869107594, 21.009931782734206, 14.760542577855867, 14.182451672984246, 10.730370668159606, 10.06600108131691, 14.886003579083443, 9.968091923296402, 11.31883138047052, 8.654311760217904, 9.876361426815695, 8.415141221056086, 14.358115915464499, 7.749317940153054, 7.4953103011949915, 21.941930694491692, 7.63032236794033, 6.723235745625976, 6.5010883887513895, 8.3302802140422, 9.027250783499749, 5.801774730455801, 5.794363107308284, 5.754607253101677, 5.720455601918016, 5.76322643977136, 6.326272904111955, 5.484176750242164, 5.8123694263980745, 4.762152585629138, 5.088207204764923, 10.264346275978687, 12.141649925622788, 45.62865260528386, 29.2690050005554, 15.535488040659033, 18.40490279094566, 15.793259214112563, 12.068024108090464, 10.535227479410908, 9.562759719917858, 54.01987344758347, 42.039058976745416, 15.295081769189256, 49.50848262557882, 27.002651629288607, 29.221596472280215, 38.42350203980536, 38.18395099114363, 42.51665750740418, 38.00865432822883, 40.37164418253827, 13.318053229299348, 31.320531204987134, 28.717347499559803, 20.582704582476136, 37.05295854086773, 18.180003205163956, 17.813319499461944, 27.354709731979522, 24.404940980406096, 21.869506437297673, 22.062192014931664, 18.25773427688827, 19.986651227935226, 18.02346233575442, 18.943802140893307, 17.874385732797, 19.37530730232512, 17.88090241976633, 14.808280062034196, 11.196578477835795, 7.859516088451664, 6.513768645681875, 15.592215281270311, 21.273627055761054, 5.192112313154721, 20.524648831108166, 4.374201230313101, 4.213369193552576, 4.500512091570166, 3.8045913425652143, 3.4650342055785273, 3.2884884697753196, 4.13349620036522, 10.994548893903563, 3.024450439564299, 39.34306488883501, 16.993685690701817, 2.894804217226405, 13.693926186256197, 10.592037152796395, 3.5266089849705375, 19.20770472512495, 4.913279570306253, 3.21145045279943, 4.272958036866293, 2.5109589839393984, 2.5360137385917376, 2.4733354222458996, 20.89309135723904, 16.15117638714512, 12.561139853645319, 22.779533705958965, 5.484322549559025, 24.506842905257084, 20.57762075708489, 21.06186417904738, 12.92804248569435, 14.574292564445429, 17.252484745135447, 15.785789975055076, 7.062700532239593, 16.29477931197634, 10.807340386972864, 12.846111726987777, 9.16379991919179, 12.421258070487754, 12.15021734234691, 8.478670803869395, 13.21873519307253, 8.521175042782643, 7.36012993919389, 6.743688294344122, 6.226354558424662, 6.521462467591286, 6.0585929379924295, 6.794494924372881, 5.400625492132306, 5.383291692501712, 5.326762541116827, 5.325353871992472, 5.286893186881615, 4.827750957969182, 4.944324236856576, 4.670113949906686, 4.636049446962442, 4.536505859046804, 4.461897605463294, 4.408649439854907, 4.398052119725319, 5.893246460289902, 4.337322565971027, 4.286864951838291, 4.038458205806122, 4.011165241521739, 4.539478796933133, 3.6976390623387965, 3.637601237606419, 4.6498351809322225, 9.223443872049712, 5.86973200669926, 12.59892865681889, 8.999585233909725, 7.140559548282016, 7.819556974531634, 6.485515405993436, 4.970921926810845, 5.048026077366367, 4.955398203977346, 5.040459995746822, 6.456863012976349, 4.700368428306534, 4.716708359872042, 15.08823390489524, 15.443531917171494, 8.590650515278286, 8.663404205020266, 8.234631973492316, 7.912462925865739, 19.78786894076375, 6.882567510889644, 19.27135409991683, 6.73501582133183, 6.015947894364982, 5.937698609506933, 6.347654612368389, 6.471379717752423, 5.411251016486908, 5.2913704454655, 5.305534017913354, 5.250477647075323, 4.866059760844603, 4.684569152305234, 4.677204431807908, 4.4591453014221765, 4.372201285084727, 4.182258564870348, 9.629330819546288, 4.105825996583846, 13.502585209892047, 3.5197063925196037, 3.930999003276245, 3.4892444132423597, 7.334892188202124, 8.140131193186996, 11.011719825736405, 25.27180657837602, 6.99209459327958, 5.279722862378886, 6.514187086925283, 8.22376539161893, 6.080986127729272, 6.085394331667656, 6.2850718966618295, 5.610654076596657, 9.39982920272421, 9.419085821686915, 7.825419651369234, 6.947135060666684, 14.063387034189772, 6.603506506353615, 10.860022812756323, 5.988039143625692, 7.750553913781003, 5.386947878570725, 5.306930815704301, 4.937941343325038, 6.407107781962403, 4.63170046449921, 4.592131767139212, 7.007106223037727, 4.236329488194549, 4.207952361710425, 4.192537885537763, 3.815673746325044, 3.643023570917717, 3.419199626309247, 3.3989935920493464, 3.3060943016065307, 3.27831180516799, 3.261009885690856, 3.1909794760854977, 3.17780473749925, 3.064113679071202, 3.061041245909285, 6.6515509059432345, 5.229774097725008, 15.273070229829809, 12.030728738406655, 5.403978638206605, 14.514672450830977, 7.836698762036379, 3.8639252522501075, 6.113993245740656, 10.169273364652417, 7.33708711038, 10.418409475492105, 7.817361008632985, 5.514143906992741, 5.930333340243388, 5.544603839974051, 5.5423993318158296, 5.084454129834656, 12.33813320629858, 11.796224446736607, 10.122672244862114, 9.794166745661334, 9.177156523466259, 8.469068437933826, 8.337424593866505, 6.50719826399645, 6.302064391469341, 5.906114571518265, 5.8795351037271795, 5.117937924616179, 5.09943967894798, 5.055969509017604, 4.949556847607772, 4.816901082300362, 4.796855421244049, 4.679286513852069, 4.666622466315743, 4.609862208794879, 4.569490406590191, 4.3736866530397815, 4.0831892127205425, 3.9788113583342115, 3.935525109775681, 18.004685592955187, 3.6299330302522024, 3.5655492318683875, 3.5548386415180167, 3.3768795053758662, 12.050095360632813, 4.718567874538687, 64.05934976564328, 7.90038284880098, 13.555184781966407, 7.933911714888219, 8.13466755137554, 9.624945643156522, 7.090627980642193, 5.167854892324646, 5.805097526507446, 5.084418608292478, 4.885193563530817, 20.40432027812925, 9.93189996266133, 7.7802325549407385, 6.142033864374136, 6.031750432911554, 7.9308495761115445, 5.9678975373199705, 4.665160735246108, 4.943335047583882, 4.572358078202429, 4.566113687710774, 4.3935915065673, 13.860704365205436, 11.277949855953297, 4.218802764750016, 4.062297823505592, 3.8706117504610185, 3.8103633232721403, 3.6527273890133354, 8.538968403117394, 6.1185434139441615, 3.5461578655388584, 12.748473025857775, 7.154964439334139, 3.2043263116592815, 3.0904042779040144, 3.0280536253673116, 2.99915136984457, 2.9989722548961195, 2.949837048113944, 4.320118132438024, 5.242707913182166, 10.436548060369626, 11.975652197471542, 7.529002198149033, 7.951878163713702, 9.68468051389013, 8.977408014929733, 4.794362083464471, 11.547597733711596, 8.489479189187595, 5.131256539649041, 7.470621281827397, 6.147471357858332, 6.167737035424653, 6.286204858775366, 5.133621631139286, 4.921266607972548, 13.636190047916859, 8.786432628543505, 7.770686673057601, 6.876498344557645, 6.421584904126353, 10.697994904763503, 5.537438372392951, 5.413410586566431, 5.244890133301095, 8.985039164448926, 4.9412083271979395, 4.9398590917829655, 4.7813932102735475, 4.625411900413212, 5.146499785742056, 4.210790776431122, 4.203231913494503, 3.8773514342091766, 3.801521717864244, 3.5190149479751125, 3.512225532474709, 3.4803339180047286, 3.3775551978177685, 3.3718670519131755, 3.3504332402736035, 3.20410916724363, 3.120418901674826, 4.69086111899157, 5.253599727971826, 2.9656374581230733, 5.2860861983567355, 7.2269215437912395, 5.369024377372304, 18.82904633928933, 4.407814523910917, 5.834460805836137, 5.588952370523673, 4.001444732801659, 6.249859566350188, 5.539939649797355, 5.054767500587667, 6.236454999306838, 8.168612523762103, 7.217337026131095, 5.058098497172972, 5.894135729222662, 4.77335675927307, 12.207930622331792, 10.272727905649488, 9.881019844549517, 6.53647275467702, 6.416067159490397, 7.575112569876566, 6.069810310894518, 7.255392941241789, 8.092595440358254, 5.440586014952001, 5.353466606336728, 5.015503524133717, 10.027496931977165, 4.722135369082796, 4.64844961781554, 4.645306636593496, 4.461017088337204, 4.48338209605043, 5.597066715922604, 4.325877611161832, 4.230525171406075, 4.201603752344646, 4.088471135542205, 3.9376448048619723, 3.8806375530813333, 3.6912974464384223, 3.8131209237950596, 3.4835463876612835, 4.579507752763672, 3.2898662978491107, 7.472760868905444, 4.617163609241997, 9.630178349804913, 7.341312896711319, 7.650453697215536, 8.19722076414061, 12.460504028403323, 9.94235461184085, 9.135201329639543, 6.841933465721685, 6.656854123060283, 5.965772078160247, 5.101182918363618, 5.059538799018355, 4.798912359330567, 4.583616525599396, 8.494813944814513, 4.533513069340482, 4.477419672612749, 4.197193065615913, 4.138697236413491, 4.109898727420677, 9.397671279421733, 3.8454257278861297, 5.30436814468157, 3.5347043691786486, 3.3634158693247556, 3.086852805108867, 3.0676448172265602, 4.117384018696895, 2.861392587718266, 3.893175840795879, 2.7324007724326322, 2.7298510725813716, 2.65780184253729, 2.6517444045208753, 3.9263630243260206, 7.132156379480777, 9.647451690255995, 5.467189837537493, 20.72282920684937, 5.876858332400173, 4.4819390736256555, 5.178365963855833, 4.483666797413116, 10.014368081753975, 9.937056887533169, 10.697918678333032, 6.930695438247292, 6.447867761946368, 6.168585076309973, 5.602442009540557, 4.950715254468736, 6.1776908121146645, 4.561072724595027, 4.474189840425554, 4.408889621594484, 4.261139798487051, 4.24633464797009, 4.245625126887221, 4.1786253635620545, 4.113600739560042, 10.37944676960982, 3.98264360418569, 4.669119328636424, 3.694715454520968, 3.4957078343925767, 3.403981506704366, 3.9458970243026217, 2.9934402619208824, 2.955103393975481, 2.756530733258649, 2.7258738434268435, 2.6447311837006526, 4.330003636677551, 16.436334062399894, 7.914387658799253, 7.0384248628603086, 6.363872553680237, 4.2332652024683775, 4.426022993094694, 6.006653613385997, 6.636727448392608, 4.384906414230529, 13.547042787191566, 11.815979603682248, 7.655679910040565, 7.061817703856379, 8.464279685225415, 6.182704699338309, 5.758712978452415, 5.4540982207686755, 5.230024073154138, 7.600593815784841, 4.973876702790246, 4.78915537403595, 21.12800436188224, 4.283891578046275, 4.160752126966584, 5.216919397985149, 3.606274755843834, 3.578234639665319, 3.5373980918898935, 3.457862603582261, 4.4338592035570965, 3.1673207190350037, 15.932329232406119, 2.7906470739545646, 3.30603242972461, 3.449652434382658, 5.887773323498893, 4.422029100368484, 2.334268044374755, 2.1796033850843943, 6.570893894273002, 12.347387782827917, 8.8431430515116, 5.49478730706269, 3.9615538665950445, 3.7603194225665493, 11.347419924926823, 24.15862615303961, 8.65286106742807, 8.233056347414516, 8.045674702643268, 7.7764614316548855, 5.795055601691224, 11.347782913935363, 4.534545476122203, 4.395102175387605, 4.252304725575376, 3.9737909110185528, 3.722689065259001, 3.3504902604021667, 3.2762557421876854, 3.252921800934306, 3.178832151726447, 2.9969900551536597, 2.9534589015728887, 2.938879853958017, 2.875845039670928, 4.498531647612903, 3.285189797496218, 2.7547690760818515, 2.749028904138312, 2.7137543508012905, 2.712853876782675, 3.5024473505944314, 2.6405080211730416, 3.9074812640181653, 6.99244529795636, 7.641313345332402, 3.457256385448258, 11.253381510238677, 13.072333429040736, 3.8142439446097933, 3.513943557754378, 4.380341866551888, 6.042792334052192, 3.6541354649982334, 10.670463826340068, 7.383819000386736, 7.030123360835951, 6.916409025184296, 6.433541937820321, 6.358304475179131, 6.327535914907007, 5.522022074549728, 5.428381653351111, 5.02354340952004, 5.663956069618263, 4.568780682535639, 4.444843458957995, 4.105304516854096, 3.872212110397645, 7.497791658690675, 3.625470630309315, 6.930048197181292, 3.407345535142182, 5.653810634480691, 3.180182447690071, 3.140873617313094, 3.065238989094926, 2.8993014507427426, 3.8374010426572402, 2.7105047780630676, 2.611826625072251, 4.431470530921189, 4.119296187052931, 2.499619318249807, 8.517539471742353, 4.544460506972061, 3.973878136723524, 3.587795349651721, 4.867717200674164, 3.272169955972201, 8.231594333825297, 8.093682496056518, 6.395533981556536, 5.930060782863882, 5.907989064790269, 6.893393543206471, 4.703078607858499, 4.136682578233322, 4.125743283434592, 3.914843592637649, 3.8140576867770863, 3.759352537090173, 3.562324148211387, 3.5517537589784363, 3.499376712718914, 3.033298855926114, 2.9204899480168383, 5.207904751200022, 2.8693286304265446, 2.814872435415924, 2.669078353112072, 2.6461068147652824, 2.608785302554555, 2.3226922466199276, 4.174278129189999, 2.058615836966885, 2.037367932549367, 2.009217005323527, 4.328666994488798, 1.8326868278029689, 9.423183452351083, 4.863661163740214, 3.5219252167180333, 4.595401938321402, 4.564386712104004, 4.32844633011663, 3.074174761947001, 3.983968121734619], \"Total\": [116.0, 68.0, 52.0, 51.0, 26.0, 25.0, 37.0, 65.0, 51.0, 51.0, 52.0, 40.0, 49.0, 25.0, 85.0, 87.0, 26.0, 21.0, 45.0, 22.0, 22.0, 29.0, 22.0, 22.0, 29.0, 33.0, 53.0, 66.0, 23.0, 38.0, 22.836592928639007, 23.973943765767494, 16.187409116105886, 18.304427218674352, 16.551672558143014, 14.822866648783778, 14.642906108174135, 13.68109056360829, 13.676740780999696, 12.731121508215518, 12.717082867870387, 12.53390408720284, 12.10437793075349, 24.99192552781599, 11.919366927594199, 11.910606786532249, 11.392774316490739, 10.909172443963998, 10.684870649903138, 10.558803711245782, 16.422778342070785, 10.39648388120234, 10.321754267565405, 13.436170198699651, 28.34651256365723, 10.038646202644815, 10.080378731510763, 9.929356061403285, 9.784689617830283, 26.822800093133832, 20.459622371775783, 16.190224560132116, 18.59215057340361, 15.770012813500253, 38.954176864645454, 25.3672164841686, 19.592105094254165, 45.98684332132816, 26.73926703127182, 26.973772271224135, 43.14737088292314, 33.70264465273534, 40.98065425927464, 29.55085539218105, 65.31337411346095, 33.545493016074325, 38.082917103162046, 33.68470757046743, 67.7901050275611, 29.756381414802725, 52.9284538034947, 48.060520344046054, 26.512635321108036, 39.71431031267314, 55.68595191192207, 41.72154382058988, 78.53737013310568, 114.30947198262261, 40.0679600252563, 64.49945192913167, 37.70025909303403, 116.65516609541746, 81.51591295852323, 61.816037624424624, 63.812052450169055, 52.07397251624341, 62.0122077933701, 89.86235992748837, 39.06305221609418, 17.576475159122996, 12.742830195167222, 15.64571906171868, 17.125876854319966, 9.546010826815047, 9.416385434410731, 8.891800795573472, 8.607235916240578, 8.416145672086373, 9.179269732549155, 23.52961196979983, 7.72387820277373, 7.710923269966521, 7.552527575682606, 7.478963064202019, 7.44715775513141, 7.438748789370029, 16.967671096959094, 8.14088192813605, 10.5501889435396, 6.915646736070904, 11.305780053158193, 6.785001358047435, 9.279432018672532, 6.736576073579107, 12.977993171867405, 9.014712145041404, 6.432734591319654, 6.421506120276458, 6.295947626595752, 19.970542738763935, 35.82262927595211, 10.486298222811676, 19.11490104187256, 38.327563792331944, 29.95875086930547, 27.951234484404395, 35.42178048394741, 30.333807434060468, 54.170120366741465, 34.18174054186922, 18.39174463333299, 48.20939175288524, 20.51460888866149, 16.26234106331682, 34.00995970456859, 114.30947198262261, 29.686665898484776, 64.02199522385334, 35.19961747739696, 35.10986619387455, 47.71282905456036, 39.25036540056642, 20.226417357453595, 21.745033510929996, 64.82056049174338, 45.94036973514079, 60.39246723599605, 51.603443533926644, 34.10706651558542, 78.53737013310568, 45.21966805869202, 42.85244152743248, 68.56764532111315, 78.61648512252088, 21.99784228667486, 15.750295528347637, 15.186427007190755, 11.728666876899357, 11.053897085920088, 16.403888846669883, 10.986031030234534, 12.579525442869802, 9.643574892444686, 11.02319378934132, 9.402512056781976, 16.14035120671253, 8.736694238321205, 8.486501874201956, 24.928444833460816, 8.699110952572223, 7.7106193230960205, 7.489031207467665, 9.615807310719308, 10.483542979490398, 6.789142239794927, 6.78172141668153, 6.742041641995982, 6.707848642535992, 6.7739383065466106, 7.456277165069253, 6.471601881070023, 6.91828552901861, 5.749510979851561, 6.143393714630407, 12.395514776473014, 14.83227208357899, 57.46108329980657, 36.480174243469065, 19.588780720834524, 23.71072365439457, 20.312249914329207, 15.28547571073556, 13.185458787905118, 11.866673965943912, 85.34447223617069, 65.03939343269425, 20.330495883756285, 87.32712945738332, 41.9239536809768, 46.48046376158771, 66.0610220990406, 66.91974044738622, 78.61648512252088, 70.1828117250137, 81.51591295852323, 17.95554678849812, 63.081415037069156, 56.89539925760766, 34.76170784680813, 89.86235992748837, 29.23046991394892, 29.12199814195605, 64.82056049174338, 59.73115802388697, 52.68805661079959, 56.28998514854162, 34.697179643071465, 49.784014515177994, 36.63817545848753, 52.07397251624341, 39.62139233445719, 68.56764532111315, 64.49945192913167, 15.79527087226062, 12.1829750704506, 8.844829656837302, 7.4990131408333, 18.402197812600665, 25.141182019832545, 6.179567459718432, 24.49940139798574, 5.359432916644695, 5.198607596838635, 5.580299505735555, 4.7898340664310854, 4.450287617759469, 4.273746189043855, 5.384966878821884, 14.393481666240445, 4.009682668401849, 52.23568780293295, 22.67296255304898, 3.88008105913403, 18.361635176527287, 14.205855456412293, 4.747015383779042, 25.89798981739153, 6.7359333501745855, 4.438724530716722, 5.910739358263967, 3.496196222778895, 3.540852247213749, 3.458574509562374, 29.75901000537192, 22.98656673905577, 19.030354281069904, 40.36424330137753, 8.16578354500909, 51.461142901183514, 49.33435846378243, 51.603443533926644, 28.467293824131193, 33.87772843118042, 45.694437259872174, 51.180413516603984, 13.525791027328424, 65.03939343269425, 30.729220724515546, 66.91974044738622, 31.14210920142454, 87.32712945738332, 85.34447223617069, 34.766473685895996, 14.200250952705273, 9.502237422114048, 8.39226567692686, 7.72477185312103, 7.207639563687001, 7.558779946765606, 7.039680130159091, 8.019702349345593, 6.3816877709704, 6.364351981511276, 6.308386047469228, 6.309028300143688, 6.267953489778094, 5.809304657669583, 5.961646704889033, 5.651175440226855, 5.617157707130978, 5.5175711129475715, 5.4429793071142045, 5.3902783631574955, 5.379120896600275, 7.212782765990052, 5.318389341756992, 5.267962940900421, 5.019769577734337, 4.9922283015007745, 5.725849168977197, 4.682290730550732, 4.618663734136694, 5.948043071165687, 12.056577244407602, 7.6011983147290465, 20.992730388241675, 13.792018821765327, 11.389440007442923, 13.54145720496483, 10.427819149380051, 6.717745112891095, 8.377003067843532, 8.057671772016963, 9.121401902875872, 53.35602030634942, 16.652227691067356, 37.957160294858575, 16.07711971686264, 16.6646888733774, 9.571086046122133, 9.653123025526904, 9.21509058233539, 8.893256348592935, 22.528677414409206, 7.863001628405495, 22.237358450762155, 7.783630778504166, 6.996403219071708, 6.918147249053709, 7.449402685545572, 7.6254508996264185, 6.391687051977747, 6.271828039345447, 6.295364162701117, 6.230917129870611, 5.846501505755808, 5.665046460456372, 5.657648151099032, 5.4395790548396, 5.352678339515687, 5.162706754367887, 11.898819509569053, 5.086262203819066, 16.821513868875467, 4.500382567394244, 5.029911119163122, 4.469679872592261, 9.444988572155783, 11.246562564403042, 16.609335534645346, 51.180413516603984, 10.224528085101444, 7.153601758787055, 10.553089584260768, 30.729220724515546, 17.22389438200803, 18.676678094048544, 64.49945192913167, 30.860358769133313, 10.378701711602762, 10.406231430220801, 8.839853167442895, 7.926015464257358, 16.10708234563124, 7.582379881801819, 12.549856824037429, 6.967438996464745, 9.136433230295715, 6.365831596235806, 6.286113059462384, 5.925238102817069, 7.752928437743916, 5.610703235136325, 5.571006636083704, 8.504264504395072, 5.21546995453221, 5.186820636491657, 5.253622596396028, 4.794542721996194, 4.621903238721412, 4.398082333657511, 4.377958537160568, 4.284964791037108, 4.257208860844347, 4.239959960169909, 4.169863294470278, 4.1566797130091535, 4.0430026171259215, 4.03992469385959, 9.329661485976606, 7.208300208589456, 26.241273245153746, 20.49543592681573, 8.163480404580557, 29.64883342983846, 14.153122699097695, 5.349641752293031, 11.370744361589711, 33.84224266543996, 22.861641059794824, 53.35602030634942, 55.68595191192207, 17.42351606518631, 38.865100039973505, 34.2213794956451, 45.694437259872174, 20.84510224090911, 13.323492880938266, 12.776132627190167, 11.101212717251576, 10.772707229171196, 10.155687811171834, 9.447746043000903, 9.316279895112523, 7.485739898831688, 7.2810342147577005, 6.884692308036163, 6.8581390267922755, 6.096591773061149, 6.077970489819072, 6.034530618332994, 5.9284403115606965, 5.7954298374495075, 5.775838208251522, 5.6578145861601525, 5.645373252722421, 5.588390293445398, 5.548331287558532, 5.360820562444233, 5.064862744380032, 4.957385047783164, 4.914053949313771, 22.567325367985614, 4.608463762963671, 4.544082372621485, 4.533366714542528, 4.3554095383388125, 15.773458858996973, 6.11701763432579, 116.65516609541746, 11.510499730546673, 23.168589459921865, 14.473756926648853, 22.714284398972424, 38.90935277475994, 56.28998514854162, 10.910035009368762, 23.88789866495102, 15.981881238386741, 14.047891172270225, 22.479350711625308, 11.056751921360043, 8.757524848789036, 7.120169555186422, 7.009032686875149, 9.216129283907806, 6.945161980546359, 5.6424453712184075, 5.992563401245654, 5.549649620889258, 5.543450213426185, 5.371663318920601, 16.964866204930356, 13.853685219108362, 5.196152954859671, 5.040536347010948, 4.847876582047898, 4.787638841019813, 4.629992764831754, 10.876678472331355, 7.798587429939501, 4.523434605866812, 16.370380083567948, 9.281602433270061, 4.181596444306896, 4.067822045992228, 4.005328215882357, 3.9764248195260823, 3.9762444336497977, 3.927122306574213, 5.865515204367588, 7.2760986115286475, 15.395311256542538, 19.2061726447578, 11.382175618830862, 15.017867983310254, 21.77556941494357, 20.17254609716346, 7.682671698408102, 52.9284538034947, 29.64883342983846, 9.353313901300243, 30.434560943641767, 26.241273245153746, 30.729220724515546, 89.86235992748837, 23.77945379885204, 51.461142901183514, 14.613074483944887, 9.76309929886069, 8.747351734699917, 7.853196173470337, 7.409484974998621, 12.58068438659191, 6.514113637032642, 6.390082587970987, 6.2215721732172575, 10.756328097808991, 5.917874589365128, 5.916810001601955, 5.758072760679826, 5.602107972136486, 6.260905888614993, 5.187512018761111, 5.180175797073689, 4.854023001095855, 4.783041098679565, 4.4956814110383405, 4.489265422953899, 4.466709120891065, 4.355241766595348, 4.3485704520031305, 4.32721634400297, 4.180942244445499, 4.097083932765495, 6.169118440766665, 6.947627877014921, 3.94230595147522, 7.277460592227537, 10.681014423488284, 7.676238725211534, 37.83202630822549, 6.220829520480753, 9.137302434193252, 8.997904437553919, 5.506427775114906, 12.75535963274633, 10.735881645531878, 9.390460444437208, 16.64847489916945, 41.72154382058988, 30.434560943641767, 13.16457365116438, 31.602245529037997, 22.663433426929267, 13.18499637283293, 11.247396177416869, 10.856352912186036, 7.521303137962288, 7.390995774986143, 8.762179146476598, 7.051811087286891, 8.50710415371573, 9.52002269247565, 6.415259003967035, 6.328148431219367, 5.990173263232486, 11.977315286765082, 5.696819994820668, 5.623119624995975, 5.619974889956185, 5.43568560350251, 5.463638902084569, 6.833641800135598, 5.303280953803947, 5.205194305574421, 5.17627283703152, 5.063373707789539, 4.9123132960876985, 4.855481377022683, 4.665978067674256, 4.859051888602694, 4.458548777474764, 5.862814402978964, 4.264535501627508, 9.929330972851666, 6.067561411981099, 15.466137840260405, 11.43538623183694, 15.172822024200972, 23.965340287588468, 13.43488871372899, 10.915712187331716, 10.108768944744403, 7.815248518144121, 7.630175179734429, 6.939109638899217, 6.074768896359026, 6.032855438894444, 5.772235666027839, 5.556932735208992, 10.303197430781536, 5.506834835328444, 5.450734520330628, 5.170516682666575, 5.112178047553818, 5.08321593242923, 11.702563592181818, 4.8187485733998106, 6.672857158396723, 4.508064133127972, 4.3367439847474305, 4.060341577640382, 4.040958243500619, 5.442258723535435, 3.834768149187381, 5.2360061731402725, 3.705728067967107, 3.7032810900626814, 3.631722489479263, 3.6250857518301167, 5.600282756498046, 11.494953190568626, 16.578778319882662, 8.879225288654183, 68.56764532111315, 11.555168709766855, 7.524483055133837, 10.832131181462616, 10.078295627218798, 10.987437534326785, 10.912218050989727, 12.122077907331764, 7.903752816736481, 7.420938507826657, 7.141651885205053, 6.578923062382112, 5.941118511435538, 7.44754220445129, 5.535497815736726, 5.455137944748399, 5.381954892976572, 5.234200683115884, 5.219412247535146, 5.218683397170924, 5.15169951317369, 5.08666099652701, 12.857365298054294, 4.9557058994977305, 5.880049612955606, 4.667884029774373, 4.469818796860674, 4.389126649257722, 5.119526057742487, 3.9665107312270735, 3.928174666444943, 3.7295884758793996, 3.69893605906128, 3.6180614422495494, 5.9405745117674025, 25.62316272851377, 12.325785664420586, 11.148383895882827, 11.102324502373941, 6.423240687990911, 6.9225947335686, 16.26262582173147, 25.29384157325449, 8.688386657601054, 14.724866180789014, 12.873276778341028, 8.626043912385361, 8.032384580036636, 9.731809707149626, 7.152940556782726, 6.72893720218272, 6.424328332805477, 6.200369964348652, 9.049035900302929, 5.944101656307654, 5.759383497947442, 25.848230572621304, 5.254123873895622, 5.1309864439697925, 6.572880905352632, 4.576589586945065, 4.548463599012184, 4.507644781036945, 4.428087673668226, 5.724183196927315, 4.137547987098925, 21.184659470431917, 3.7608879251820104, 4.455603917212785, 4.7235927308984955, 8.093031197345125, 6.155168839505303, 3.3053511121222363, 3.1498398868140276, 9.55823421624558, 23.020075545678377, 17.887838737736143, 10.408452184971607, 12.693490909551697, 9.580090772001148, 12.317537349842485, 26.81714817653182, 9.623061120189934, 9.203149156851257, 9.015811271355734, 8.746793713914618, 6.765157931673103, 13.254022867786317, 5.504639850957635, 5.365222164510385, 5.22570690580745, 4.943887615261683, 4.692789258836164, 4.320582449078342, 4.246348237215766, 4.223431888120086, 4.148916321023882, 3.9670953143360284, 3.9235810493777183, 3.908972133775293, 3.845947116883397, 6.042138904385962, 4.422275321650394, 3.7248657002121597, 3.7191129048356295, 3.6838429167152986, 3.682979361331191, 4.762149169191282, 3.610592650036939, 5.35238442221346, 9.865922542757833, 11.452398267196642, 4.854822736319847, 19.19190603716768, 26.79033202559452, 5.896452575077031, 5.450888203815971, 9.533078609567267, 19.93186147408364, 6.364289527743262, 11.646731418680925, 8.351136720280723, 7.997433414711837, 7.883721826062483, 7.400959462505344, 7.32564155035408, 7.294849056090419, 6.489359452709903, 6.39569385694992, 5.990996123286004, 6.805290262222124, 5.536660809090637, 5.412153646474597, 5.072613843430166, 4.839533258874263, 9.390026971784083, 4.59279114943214, 8.854682967387205, 4.37466012459053, 7.333634331799113, 4.147498631818444, 4.10818838051153, 4.032552808677771, 3.8667686895631697, 5.169512188660296, 3.6779759149715034, 3.57913924575623, 6.091134561878928, 5.704066642460564, 3.4670620951872047, 11.894327723694833, 6.528228990370428, 6.710020966241173, 6.217184984878627, 12.924595361729832, 14.860209255869513, 9.19289776458526, 9.055531668579938, 7.356835056166978, 6.89143101933208, 6.869390341467768, 8.08333380858493, 5.682653437584656, 5.097997091151635, 5.087050767961284, 4.876158003257859, 4.775369998424845, 4.720674150281429, 4.5236340917855795, 4.513149817771574, 4.460687136151144, 3.9946053712805454, 3.881799565009538, 6.925989951952384, 3.8306412165450348, 3.7761956421736795, 3.6303898936206753, 3.6081717810669844, 3.5700986483604105, 3.283997248906711, 5.908366495755919, 3.019957161736736, 2.9986881434165102, 2.9705749537510107, 6.556679197025879, 2.7939923997561102, 14.997979123042086, 7.7471468469403515, 5.784361895594407, 8.050864458603069, 9.108679959803982, 10.381009567688697, 5.387636265775401, 10.958046317177303], \"Category\": [\"Default\", \"Default\", \"Default\", \"Default\", \"Default\", \"Default\", \"Default\", \"Default\", \"Default\", \"Default\", \"Default\", \"Default\", \"Default\", \"Default\", \"Default\", \"Default\", \"Default\", \"Default\", \"Default\", \"Default\", \"Default\", \"Default\", \"Default\", \"Default\", \"Default\", \"Default\", \"Default\", \"Default\", \"Default\", \"Default\", \"Topic1\", \"Topic1\", \"Topic1\", \"Topic1\", \"Topic1\", \"Topic1\", \"Topic1\", \"Topic1\", \"Topic1\", \"Topic1\", \"Topic1\", \"Topic1\", \"Topic1\", \"Topic1\", \"Topic1\", \"Topic1\", \"Topic1\", \"Topic1\", \"Topic1\", \"Topic1\", \"Topic1\", \"Topic1\", \"Topic1\", \"Topic1\", \"Topic1\", \"Topic1\", \"Topic1\", \"Topic1\", \"Topic1\", \"Topic1\", \"Topic1\", \"Topic1\", \"Topic1\", \"Topic1\", \"Topic1\", \"Topic1\", \"Topic1\", \"Topic1\", \"Topic1\", \"Topic1\", \"Topic1\", \"Topic1\", \"Topic1\", \"Topic1\", \"Topic1\", \"Topic1\", \"Topic1\", \"Topic1\", \"Topic1\", \"Topic1\", \"Topic1\", \"Topic1\", \"Topic1\", \"Topic1\", \"Topic1\", \"Topic1\", \"Topic1\", \"Topic1\", \"Topic1\", \"Topic1\", \"Topic1\", \"Topic1\", \"Topic1\", \"Topic1\", \"Topic1\", \"Topic1\", \"Topic1\", \"Topic1\", \"Topic1\", \"Topic2\", \"Topic2\", \"Topic2\", \"Topic2\", \"Topic2\", \"Topic2\", \"Topic2\", \"Topic2\", \"Topic2\", \"Topic2\", \"Topic2\", \"Topic2\", \"Topic2\", \"Topic2\", \"Topic2\", \"Topic2\", \"Topic2\", \"Topic2\", \"Topic2\", \"Topic2\", \"Topic2\", \"Topic2\", \"Topic2\", \"Topic2\", \"Topic2\", \"Topic2\", \"Topic2\", \"Topic2\", \"Topic2\", \"Topic2\", \"Topic2\", \"Topic2\", \"Topic2\", \"Topic2\", \"Topic2\", \"Topic2\", \"Topic2\", \"Topic2\", \"Topic2\", \"Topic2\", \"Topic2\", \"Topic2\", \"Topic2\", \"Topic2\", \"Topic2\", \"Topic2\", \"Topic2\", \"Topic2\", \"Topic2\", \"Topic2\", \"Topic2\", \"Topic2\", \"Topic2\", \"Topic2\", \"Topic2\", \"Topic2\", \"Topic2\", \"Topic2\", \"Topic2\", \"Topic2\", \"Topic2\", \"Topic2\", \"Topic2\", \"Topic2\", \"Topic2\", \"Topic3\", \"Topic3\", \"Topic3\", \"Topic3\", \"Topic3\", \"Topic3\", \"Topic3\", \"Topic3\", \"Topic3\", \"Topic3\", \"Topic3\", \"Topic3\", \"Topic3\", \"Topic3\", \"Topic3\", \"Topic3\", \"Topic3\", \"Topic3\", \"Topic3\", \"Topic3\", \"Topic3\", \"Topic3\", \"Topic3\", \"Topic3\", \"Topic3\", \"Topic3\", \"Topic3\", \"Topic3\", \"Topic3\", \"Topic3\", \"Topic3\", \"Topic3\", \"Topic3\", \"Topic3\", \"Topic3\", \"Topic3\", \"Topic3\", \"Topic3\", \"Topic3\", \"Topic3\", \"Topic3\", \"Topic3\", \"Topic3\", \"Topic3\", \"Topic3\", \"Topic3\", \"Topic3\", \"Topic3\", \"Topic3\", \"Topic3\", \"Topic3\", \"Topic3\", \"Topic3\", \"Topic3\", \"Topic3\", \"Topic3\", \"Topic3\", \"Topic3\", \"Topic3\", \"Topic3\", \"Topic3\", \"Topic3\", \"Topic3\", \"Topic3\", \"Topic3\", \"Topic3\", \"Topic3\", \"Topic3\", \"Topic3\", \"Topic4\", \"Topic4\", \"Topic4\", \"Topic4\", \"Topic4\", \"Topic4\", \"Topic4\", \"Topic4\", \"Topic4\", \"Topic4\", \"Topic4\", \"Topic4\", \"Topic4\", \"Topic4\", \"Topic4\", \"Topic4\", \"Topic4\", \"Topic4\", \"Topic4\", \"Topic4\", \"Topic4\", \"Topic4\", \"Topic4\", \"Topic4\", \"Topic4\", \"Topic4\", \"Topic4\", \"Topic4\", \"Topic4\", \"Topic4\", \"Topic4\", \"Topic4\", \"Topic4\", \"Topic4\", \"Topic4\", \"Topic4\", \"Topic4\", \"Topic4\", \"Topic4\", \"Topic4\", \"Topic4\", \"Topic4\", \"Topic4\", \"Topic4\", \"Topic4\", \"Topic4\", \"Topic4\", \"Topic4\", \"Topic4\", \"Topic4\", \"Topic5\", \"Topic5\", \"Topic5\", \"Topic5\", \"Topic5\", \"Topic5\", \"Topic5\", \"Topic5\", \"Topic5\", \"Topic5\", \"Topic5\", \"Topic5\", \"Topic5\", \"Topic5\", \"Topic5\", \"Topic5\", \"Topic5\", \"Topic5\", \"Topic5\", \"Topic5\", \"Topic5\", \"Topic5\", \"Topic5\", \"Topic5\", \"Topic5\", \"Topic5\", \"Topic5\", \"Topic5\", \"Topic5\", \"Topic5\", \"Topic5\", \"Topic5\", \"Topic5\", \"Topic5\", \"Topic5\", \"Topic5\", \"Topic5\", \"Topic5\", \"Topic5\", \"Topic5\", \"Topic5\", \"Topic5\", \"Topic5\", \"Topic5\", \"Topic6\", \"Topic6\", \"Topic6\", \"Topic6\", \"Topic6\", \"Topic6\", \"Topic6\", \"Topic6\", \"Topic6\", \"Topic6\", \"Topic6\", \"Topic6\", \"Topic6\", \"Topic6\", \"Topic6\", \"Topic6\", \"Topic6\", \"Topic6\", \"Topic6\", \"Topic6\", \"Topic6\", \"Topic6\", \"Topic6\", \"Topic6\", \"Topic6\", \"Topic6\", \"Topic6\", \"Topic6\", \"Topic6\", \"Topic6\", \"Topic6\", \"Topic6\", \"Topic6\", \"Topic6\", \"Topic6\", \"Topic6\", \"Topic6\", \"Topic6\", \"Topic6\", \"Topic6\", \"Topic6\", \"Topic6\", \"Topic7\", \"Topic7\", \"Topic7\", \"Topic7\", \"Topic7\", \"Topic7\", \"Topic7\", \"Topic7\", \"Topic7\", \"Topic7\", \"Topic7\", \"Topic7\", \"Topic7\", \"Topic7\", \"Topic7\", \"Topic7\", \"Topic7\", \"Topic7\", \"Topic7\", \"Topic7\", \"Topic7\", \"Topic7\", \"Topic7\", \"Topic7\", \"Topic7\", \"Topic7\", \"Topic7\", \"Topic7\", \"Topic7\", \"Topic7\", \"Topic7\", \"Topic7\", \"Topic7\", \"Topic7\", \"Topic7\", \"Topic7\", \"Topic7\", \"Topic7\", \"Topic7\", \"Topic7\", \"Topic7\", \"Topic7\", \"Topic7\", \"Topic7\", \"Topic7\", \"Topic7\", \"Topic7\", \"Topic7\", \"Topic8\", \"Topic8\", \"Topic8\", \"Topic8\", \"Topic8\", \"Topic8\", \"Topic8\", \"Topic8\", \"Topic8\", \"Topic8\", \"Topic8\", \"Topic8\", \"Topic8\", \"Topic8\", \"Topic8\", \"Topic8\", \"Topic8\", \"Topic8\", \"Topic8\", \"Topic8\", \"Topic8\", \"Topic8\", \"Topic8\", \"Topic8\", \"Topic8\", \"Topic8\", \"Topic8\", \"Topic8\", \"Topic8\", \"Topic8\", \"Topic8\", \"Topic8\", \"Topic8\", \"Topic8\", \"Topic8\", \"Topic8\", \"Topic8\", \"Topic8\", \"Topic8\", \"Topic8\", \"Topic8\", \"Topic8\", \"Topic8\", \"Topic9\", \"Topic9\", \"Topic9\", \"Topic9\", \"Topic9\", \"Topic9\", \"Topic9\", \"Topic9\", \"Topic9\", \"Topic9\", \"Topic9\", \"Topic9\", \"Topic9\", \"Topic9\", \"Topic9\", \"Topic9\", \"Topic9\", \"Topic9\", \"Topic9\", \"Topic9\", \"Topic9\", \"Topic9\", \"Topic9\", \"Topic9\", \"Topic9\", \"Topic9\", \"Topic9\", \"Topic9\", \"Topic9\", \"Topic9\", \"Topic9\", \"Topic9\", \"Topic9\", \"Topic9\", \"Topic9\", \"Topic9\", \"Topic9\", \"Topic9\", \"Topic9\", \"Topic9\", \"Topic9\", \"Topic9\", \"Topic9\", \"Topic9\", \"Topic9\", \"Topic9\", \"Topic9\", \"Topic9\", \"Topic10\", \"Topic10\", \"Topic10\", \"Topic10\", \"Topic10\", \"Topic10\", \"Topic10\", \"Topic10\", \"Topic10\", \"Topic10\", \"Topic10\", \"Topic10\", \"Topic10\", \"Topic10\", \"Topic10\", \"Topic10\", \"Topic10\", \"Topic10\", \"Topic10\", \"Topic10\", \"Topic10\", \"Topic10\", \"Topic10\", \"Topic10\", \"Topic10\", \"Topic10\", \"Topic10\", \"Topic10\", \"Topic10\", \"Topic10\", \"Topic10\", \"Topic10\", \"Topic10\", \"Topic10\", \"Topic10\", \"Topic10\", \"Topic10\", \"Topic10\", \"Topic10\", \"Topic10\", \"Topic10\", \"Topic10\", \"Topic10\", \"Topic10\", \"Topic10\", \"Topic10\", \"Topic10\", \"Topic11\", \"Topic11\", \"Topic11\", \"Topic11\", \"Topic11\", \"Topic11\", \"Topic11\", \"Topic11\", \"Topic11\", \"Topic11\", \"Topic11\", \"Topic11\", \"Topic11\", \"Topic11\", \"Topic11\", \"Topic11\", \"Topic11\", \"Topic11\", \"Topic11\", \"Topic11\", \"Topic11\", \"Topic11\", \"Topic11\", \"Topic11\", \"Topic11\", \"Topic11\", \"Topic11\", \"Topic11\", \"Topic11\", \"Topic11\", \"Topic11\", \"Topic11\", \"Topic11\", \"Topic11\", \"Topic11\", \"Topic11\", \"Topic12\", \"Topic12\", \"Topic12\", \"Topic12\", \"Topic12\", \"Topic12\", \"Topic12\", \"Topic12\", \"Topic12\", \"Topic12\", \"Topic12\", \"Topic12\", \"Topic12\", \"Topic12\", \"Topic12\", \"Topic12\", \"Topic12\", \"Topic12\", \"Topic12\", \"Topic12\", \"Topic12\", \"Topic12\", \"Topic12\", \"Topic12\", \"Topic12\", \"Topic12\", \"Topic12\", \"Topic12\", \"Topic12\", \"Topic12\", \"Topic12\", \"Topic12\", \"Topic12\", \"Topic12\", \"Topic12\", \"Topic12\", \"Topic12\", \"Topic12\", \"Topic12\", \"Topic13\", \"Topic13\", \"Topic13\", \"Topic13\", \"Topic13\", \"Topic13\", \"Topic13\", \"Topic13\", \"Topic13\", \"Topic13\", \"Topic13\", \"Topic13\", \"Topic13\", \"Topic13\", \"Topic13\", \"Topic13\", \"Topic13\", \"Topic13\", \"Topic13\", \"Topic13\", \"Topic13\", \"Topic13\", \"Topic13\", \"Topic13\", \"Topic13\", \"Topic13\", \"Topic13\", \"Topic13\", \"Topic13\", \"Topic13\", \"Topic13\", \"Topic13\", \"Topic13\", \"Topic13\", \"Topic13\", \"Topic13\", \"Topic13\", \"Topic13\", \"Topic13\", \"Topic14\", \"Topic14\", \"Topic14\", \"Topic14\", \"Topic14\", \"Topic14\", \"Topic14\", \"Topic14\", \"Topic14\", \"Topic14\", \"Topic14\", \"Topic14\", \"Topic14\", \"Topic14\", \"Topic14\", \"Topic14\", \"Topic14\", \"Topic14\", \"Topic14\", \"Topic14\", \"Topic14\", \"Topic14\", \"Topic14\", \"Topic14\", \"Topic14\", \"Topic14\", \"Topic14\", \"Topic14\", \"Topic14\", \"Topic14\", \"Topic14\", \"Topic14\", \"Topic14\", \"Topic14\", \"Topic14\", \"Topic14\", \"Topic15\", \"Topic15\", \"Topic15\", \"Topic15\", \"Topic15\", \"Topic15\", \"Topic15\", \"Topic15\", \"Topic15\", \"Topic15\", \"Topic15\", \"Topic15\", \"Topic15\", \"Topic15\", \"Topic15\", \"Topic15\", \"Topic15\", \"Topic15\", \"Topic15\", \"Topic15\", \"Topic15\", \"Topic15\", \"Topic15\", \"Topic15\", \"Topic15\", \"Topic15\", \"Topic15\", \"Topic15\", \"Topic15\", \"Topic15\", \"Topic15\", \"Topic15\", \"Topic15\", \"Topic15\", \"Topic15\", \"Topic15\", \"Topic15\", \"Topic15\", \"Topic15\", \"Topic15\", \"Topic16\", \"Topic16\", \"Topic16\", \"Topic16\", \"Topic16\", \"Topic16\", \"Topic16\", \"Topic16\", \"Topic16\", \"Topic16\", \"Topic16\", \"Topic16\", \"Topic16\", \"Topic16\", \"Topic16\", \"Topic16\", \"Topic16\", \"Topic16\", \"Topic16\", \"Topic16\", \"Topic16\", \"Topic16\", \"Topic16\", \"Topic16\", \"Topic16\", \"Topic16\", \"Topic16\", \"Topic16\", \"Topic16\", \"Topic16\", \"Topic16\", \"Topic16\", \"Topic16\", \"Topic16\", \"Topic16\", \"Topic16\", \"Topic17\", \"Topic17\", \"Topic17\", \"Topic17\", \"Topic17\", \"Topic17\", \"Topic17\", \"Topic17\", \"Topic17\", \"Topic17\", \"Topic17\", \"Topic17\", \"Topic17\", \"Topic17\", \"Topic17\", \"Topic17\", \"Topic17\", \"Topic17\", \"Topic17\", \"Topic17\", \"Topic17\", \"Topic17\", \"Topic17\", \"Topic17\", \"Topic17\", \"Topic17\", \"Topic17\", \"Topic17\", \"Topic17\", \"Topic17\", \"Topic17\", \"Topic17\", \"Topic17\", \"Topic17\", \"Topic17\", \"Topic17\", \"Topic17\", \"Topic17\"], \"logprob\": [30.0, 29.0, 28.0, 27.0, 26.0, 25.0, 24.0, 23.0, 22.0, 21.0, 20.0, 19.0, 18.0, 17.0, 16.0, 15.0, 14.0, 13.0, 12.0, 11.0, 10.0, 9.0, 8.0, 7.0, 6.0, 5.0, 4.0, 3.0, 2.0, 1.0, -5.656, -5.6093, -6.0186, -5.8968, -6.0019, -6.1129, -6.126, -6.1988, -6.1996, -6.2766, -6.2778, -6.2943, -6.3316, -5.6075, -6.3482, -6.3493, -6.3976, -6.4452, -6.4681, -6.4813, -6.0399, -6.4983, -6.5062, -6.2438, -5.4985, -6.5371, -6.5341, -6.5492, -6.5655, -5.5596, -5.8378, -6.0683, -5.9368, -6.0977, -5.2223, -5.6463, -5.903, -5.1133, -5.6196, -5.6176, -5.2041, -5.4332, -5.2764, -5.5608, -4.8879, -5.4738, -5.3797, -5.5196, -5.0005, -5.6413, -5.2547, -5.3361, -5.7331, -5.4914, -5.3057, -5.4821, -5.1905, -5.0078, -5.5408, -5.3387, -5.5994, -5.1912, -5.3251, -5.4325, -5.4743, -5.5121, -5.4853, -5.4583, -5.5977, -5.4859, -5.8269, -5.6433, -5.5561, -6.1443, -6.1661, -6.2238, -6.2605, -6.2859, -6.2009, -5.2685, -6.3839, -6.3856, -6.4111, -6.4213, -6.4256, -6.4269, -5.6026, -6.3404, -6.0839, -6.5115, -6.0212, -6.5338, -6.2218, -6.5438, -5.8902, -6.256, -6.5965, -6.6006, -6.622, -5.474, -4.912, -6.1205, -5.5381, -4.8804, -5.1563, -5.2202, -5.0058, -5.1696, -4.6931, -5.116, -5.6457, -4.8426, -5.5719, -5.7683, -5.1831, -4.2474, -5.328, -4.7664, -5.209, -5.2346, -5.0272, -5.1731, -5.6575, -5.618, -5.0291, -5.2206, -5.1047, -5.1838, -5.3984, -5.1041, -5.3354, -5.4295, -5.3456, -5.3663, -5.2407, -5.5937, -5.6337, -5.9126, -5.9765, -5.5853, -5.9863, -5.8592, -6.1276, -5.9955, -6.1557, -5.6214, -6.2381, -6.2714, -5.1973, -6.2536, -6.3801, -6.4137, -6.1658, -6.0854, -6.5275, -6.5288, -6.5357, -6.5416, -6.5342, -6.441, -6.5838, -6.5257, -6.725, -6.6588, -5.957, -5.789, -4.4652, -4.9092, -5.5426, -5.3731, -5.5261, -5.7951, -5.931, -6.0278, -4.2963, -4.5471, -5.5582, -4.3835, -4.9898, -4.9108, -4.637, -4.6433, -4.5358, -4.6479, -4.5876, -5.6966, -4.8414, -4.9282, -5.2612, -4.6733, -5.3854, -5.4057, -4.9768, -5.0909, -5.2006, -5.1918, -5.3811, -5.2906, -5.394, -5.3442, -5.4023, -5.3217, -5.402, -4.3571, -4.6366, -4.9905, -5.1783, -4.3055, -3.9948, -5.4051, -4.0306, -5.5765, -5.614, -5.5481, -5.716, -5.8095, -5.8618, -5.6331, -4.6548, -5.9455, -3.3799, -4.2194, -5.9893, -4.4353, -4.6921, -5.7919, -4.0969, -5.4603, -5.8855, -5.5999, -6.1316, -6.1217, -6.1467, -4.0128, -4.2703, -4.5216, -3.9264, -5.3504, -3.8533, -4.028, -4.0048, -4.4928, -4.373, -4.2043, -4.2931, -5.0974, -4.2614, -4.672, -4.4992, -4.837, -4.5328, -4.5549, -4.9147, -4.1588, -4.5979, -4.7444, -4.8318, -4.9117, -4.8654, -4.939, -4.8243, -5.0539, -5.0572, -5.0677, -5.068, -5.0752, -5.1661, -5.1422, -5.1993, -5.2066, -5.2283, -5.2449, -5.2569, -5.2593, -4.9666, -5.2732, -5.2849, -5.3446, -5.3514, -5.2276, -5.4328, -5.4491, -5.2036, -4.5187, -4.9706, -4.2068, -4.5433, -4.7747, -4.6838, -4.8709, -5.1368, -5.1215, -5.14, -5.123, -4.8753, -5.1928, -5.1893, -3.9544, -3.9311, -4.5176, -4.5092, -4.5599, -4.5998, -3.6832, -4.7393, -3.7097, -4.761, -4.8739, -4.887, -4.8202, -4.8009, -4.9798, -5.0022, -4.9995, -5.01, -5.086, -5.124, -5.1256, -5.1733, -5.193, -5.2374, -4.4035, -5.2559, -4.0654, -5.4099, -5.2994, -5.4186, -4.6756, -4.5715, -4.2693, -3.4386, -4.7235, -5.0044, -4.7943, -4.5613, -4.8631, -4.8624, -4.8301, -4.9436, -4.3981, -4.3961, -4.5814, -4.7005, -3.9952, -4.7512, -4.2537, -4.849, -4.591, -4.9548, -4.9698, -5.0419, -4.7814, -5.1059, -5.1145, -4.6919, -5.1951, -5.2018, -5.2055, -5.2997, -5.346, -5.4094, -5.4153, -5.443, -5.4515, -5.4568, -5.4785, -5.4826, -5.5191, -5.5201, -4.744, -4.9844, -3.9127, -4.1513, -4.9517, -3.9637, -4.58, -5.2871, -4.8282, -4.3194, -4.6459, -4.2952, -4.5825, -4.9315, -4.8587, -4.926, -4.9264, -5.0126, -4.12, -4.165, -4.318, -4.3509, -4.416, -4.4963, -4.512, -4.7598, -4.7919, -4.8567, -4.8613, -5.0, -5.0036, -5.0122, -5.0334, -5.0606, -5.0648, -5.0896, -5.0923, -5.1045, -5.1133, -5.1571, -5.2259, -5.2517, -5.2627, -3.7421, -5.3435, -5.3614, -5.3644, -5.4158, -4.1437, -5.0812, -2.4729, -4.5658, -4.026, -4.5616, -4.5366, -4.3684, -4.674, -4.9903, -4.874, -5.0066, -5.0465, -3.6119, -4.3319, -4.576, -4.8125, -4.8306, -4.5569, -4.8412, -5.0875, -5.0296, -5.1076, -5.109, -5.1475, -3.9986, -4.2048, -5.1881, -5.2259, -5.2742, -5.2899, -5.3322, -4.483, -4.8163, -5.3618, -4.0822, -4.6598, -5.4631, -5.4993, -5.5197, -5.5293, -5.5294, -5.5459, -5.1643, -4.9708, -4.2823, -4.1448, -4.6089, -4.5542, -4.3571, -4.4329, -5.0602, -4.1812, -4.4888, -4.9923, -4.6167, -4.8116, -4.8083, -4.7893, -4.9918, -5.0341, -3.9433, -4.3828, -4.5056, -4.6279, -4.6963, -4.1859, -4.8444, -4.8671, -4.8987, -4.3604, -4.9584, -4.9586, -4.9912, -5.0244, -4.9177, -5.1183, -5.1201, -5.2008, -5.2206, -5.2978, -5.2997, -5.3089, -5.3388, -5.3405, -5.3469, -5.3915, -5.418, -5.0104, -4.8971, -5.4689, -4.8909, -4.5782, -4.8753, -3.6206, -5.0726, -4.7922, -4.8352, -5.1693, -4.7234, -4.844, -4.9356, -4.7256, -4.4557, -4.5795, -4.935, -4.782, -4.9929, -3.8693, -4.0419, -4.0808, -4.494, -4.5126, -4.3465, -4.5681, -4.3897, -4.2805, -4.6775, -4.6937, -4.7589, -4.0661, -4.8191, -4.8349, -4.8355, -4.876, -4.871, -4.6492, -4.9068, -4.9291, -4.9359, -4.9632, -5.0008, -5.0154, -5.0654, -5.033, -5.1234, -4.8498, -5.1806, -4.3601, -4.8416, -4.1065, -4.3779, -4.3366, -4.2676, -3.8282, -4.0539, -4.1386, -4.4277, -4.4551, -4.5647, -4.7213, -4.7295, -4.7824, -4.8283, -4.2113, -4.8393, -4.8517, -4.9163, -4.9304, -4.9374, -4.1103, -5.0039, -4.6822, -5.0881, -5.1378, -5.2236, -5.2298, -4.9355, -5.2994, -4.9915, -5.3456, -5.3465, -5.3733, -5.3755, -4.983, -4.3861, -4.0841, -4.652, -3.3195, -4.5797, -4.8507, -4.7063, -4.8503, -4.0144, -4.0221, -3.9483, -4.3824, -4.4546, -4.4989, -4.5952, -4.7188, -4.4974, -4.8008, -4.8201, -4.8348, -4.8688, -4.8723, -4.8725, -4.8884, -4.9041, -3.9785, -4.9364, -4.7774, -5.0115, -5.0668, -5.0934, -4.9457, -5.222, -5.2348, -5.3044, -5.3156, -5.3458, -4.8528, -3.5189, -4.2497, -4.367, -4.4677, -4.8754, -4.8309, -4.5255, -4.4258, -4.8402, -3.6121, -3.7489, -4.1829, -4.2636, -4.0825, -4.3966, -4.4676, -4.5219, -4.5639, -4.1901, -4.6141, -4.652, -3.1677, -4.7635, -4.7926, -4.5664, -4.9356, -4.9434, -4.9549, -4.9777, -4.729, -5.0654, -3.45, -5.192, -5.0226, -4.98, -4.4454, -4.7317, -5.3706, -5.4392, -4.3357, -3.7049, -4.0387, -4.5145, -4.8417, -4.8938, -3.7876, -3.0319, -4.0587, -4.1084, -4.1314, -4.1654, -4.4595, -3.7875, -4.7048, -4.7361, -4.7691, -4.8368, -4.9021, -5.0074, -5.0298, -5.037, -5.06, -5.1189, -5.1336, -5.1385, -5.1602, -4.7128, -5.0271, -5.2032, -5.2053, -5.2182, -5.2185, -4.9631, -5.2456, -4.8537, -4.2717, -4.183, -4.9761, -3.7959, -3.6461, -4.8778, -4.9598, -4.7394, -4.4177, -4.9207, -3.7906, -4.1588, -4.2079, -4.2242, -4.2966, -4.3083, -4.3132, -4.4493, -4.4664, -4.544, -4.424, -4.6388, -4.6663, -4.7458, -4.8043, -4.1435, -4.8701, -4.2222, -4.9322, -4.4258, -5.0012, -5.0136, -5.038, -5.0936, -4.8133, -5.161, -5.198, -4.6694, -4.7424, -5.242, -4.016, -4.6442, -4.7783, -4.8806, -4.5755, -4.9726, -3.896, -3.9129, -4.1483, -4.2239, -4.2276, -4.0734, -4.4557, -4.584, -4.5867, -4.6392, -4.6652, -4.6797, -4.7335, -4.7365, -4.7514, -4.8943, -4.9322, -4.3538, -4.9499, -4.969, -5.0222, -5.0308, -5.0451, -5.1612, -4.575, -5.2819, -5.2923, -5.3062, -4.5387, -5.3982, -3.7608, -4.4221, -4.7449, -4.4789, -4.4857, -4.5387, -4.8809, -4.6217], \"loglift\": [30.0, 29.0, 28.0, 27.0, 26.0, 25.0, 24.0, 23.0, 22.0, 21.0, 20.0, 19.0, 18.0, 17.0, 16.0, 15.0, 14.0, 13.0, 12.0, 11.0, 10.0, 9.0, 8.0, 7.0, 6.0, 5.0, 4.0, 3.0, 2.0, 1.0, 1.2832, 1.2813, 1.2647, 1.2637, 1.2592, 1.2585, 1.2577, 1.2528, 1.2523, 1.2469, 1.2468, 1.2449, 1.2424, 1.2416, 1.2412, 1.2408, 1.237, 1.2328, 1.2307, 1.2294, 1.2291, 1.2278, 1.2271, 1.2259, 1.2246, 1.2241, 1.2229, 1.2229, 1.2213, 1.2188, 1.2114, 1.2149, 1.2081, 1.2118, 1.183, 1.1878, 1.1895, 1.126, 1.1619, 1.1551, 1.0988, 1.1168, 1.0781, 1.1206, 1.0005, 1.0809, 1.0481, 1.031, 0.8507, 1.0332, 0.844, 0.8591, 1.0569, 0.8945, 0.7422, 0.8545, 0.5136, 0.3209, 0.8363, 0.5622, 0.8385, 0.1172, 0.3417, 0.511, 0.4373, 0.6029, 0.455, 0.111, 0.8047, 1.7152, 1.6957, 1.6741, 1.6709, 1.6672, 1.6591, 1.6586, 1.6545, 1.6515, 1.6498, 1.6409, 1.6394, 1.6393, 1.6347, 1.6342, 1.6341, 1.634, 1.6337, 1.6303, 1.6275, 1.6223, 1.6211, 1.6191, 1.618, 1.6162, 1.6141, 1.6128, 1.6097, 1.6074, 1.6057, 1.5993, 1.5771, 1.597, 1.579, 1.541, 1.5115, 1.517, 1.4945, 1.4857, 1.3824, 1.4199, 1.51, 1.3495, 1.4746, 1.5104, 1.3579, 1.0813, 1.3489, 1.1419, 1.2976, 1.2746, 1.1752, 1.2246, 1.4031, 1.3702, 0.8668, 1.0196, 0.862, 0.9402, 1.1397, 0.5999, 0.9207, 0.8804, 0.4942, 0.3367, 1.736, 1.717, 1.7135, 1.693, 1.6883, 1.6848, 1.6847, 1.6763, 1.6737, 1.6721, 1.671, 1.6649, 1.662, 1.6577, 1.6543, 1.6508, 1.6449, 1.6404, 1.6384, 1.6324, 1.6248, 1.6246, 1.6236, 1.6227, 1.6203, 1.6176, 1.6164, 1.6077, 1.5935, 1.5935, 1.5933, 1.5818, 1.5513, 1.5617, 1.5501, 1.5286, 1.5303, 1.5456, 1.5575, 1.5661, 1.3246, 1.3455, 1.4973, 1.2144, 1.342, 1.3178, 1.24, 1.2208, 1.1672, 1.1686, 1.0792, 1.4831, 1.0818, 1.0982, 1.2579, 0.896, 1.307, 1.2904, 0.9192, 0.8869, 0.9026, 0.8453, 1.1398, 0.8693, 1.0725, 0.7707, 0.9859, 0.5181, 0.499, 2.9508, 2.9309, 2.8973, 2.8745, 2.8497, 2.8483, 2.8413, 2.8383, 2.8122, 2.8052, 2.8003, 2.7851, 2.7651, 2.7533, 2.7509, 2.746, 2.7334, 2.7319, 2.727, 2.7224, 2.722, 2.7218, 2.7182, 2.7165, 2.6998, 2.6917, 2.6909, 2.6843, 2.6816, 2.6801, 2.6616, 2.6624, 2.5999, 2.4433, 2.6173, 2.2735, 2.1409, 2.1192, 2.226, 2.1719, 2.0413, 1.8391, 2.3656, 1.6312, 1.9704, 1.3649, 1.7921, 1.0651, 1.066, 1.6043, 3.2555, 3.2182, 3.1959, 3.1913, 3.1808, 3.1795, 3.1771, 3.1614, 3.1602, 3.1597, 3.158, 3.1577, 3.1569, 3.1421, 3.14, 3.1365, 3.1352, 3.1314, 3.1284, 3.1261, 3.1258, 3.1251, 3.1232, 3.1211, 3.1096, 3.1084, 3.095, 3.0911, 3.0884, 3.0809, 3.0593, 3.0687, 2.8166, 2.9002, 2.8603, 2.778, 2.8522, 3.026, 2.8207, 2.841, 2.734, 1.2153, 2.0623, 1.2418, 3.3358, 3.3232, 3.2913, 3.2911, 3.2868, 3.2825, 3.2696, 3.2661, 3.2562, 3.2546, 3.2483, 3.2465, 3.2393, 3.2352, 3.2328, 3.2293, 3.2283, 3.2281, 3.2158, 3.2093, 3.209, 3.2006, 3.197, 3.1887, 3.1877, 3.1852, 3.1795, 3.1535, 3.1528, 3.1517, 3.1465, 3.0761, 2.9883, 2.6937, 3.0193, 3.0956, 2.9169, 2.0811, 2.3582, 2.2779, 1.0708, 1.6945, 3.3297, 3.3291, 3.3069, 3.297, 3.2931, 3.2906, 3.2842, 3.2773, 3.2643, 3.2618, 3.2595, 3.2465, 3.2381, 3.237, 3.2356, 3.2351, 3.2209, 3.2196, 3.2032, 3.2004, 3.1908, 3.177, 3.1757, 3.1694, 3.1675, 3.1663, 3.1612, 3.1603, 3.1516, 3.1513, 3.0904, 3.1079, 2.8875, 2.8961, 3.0163, 2.7145, 2.8377, 3.1034, 2.8083, 2.2265, 2.2923, 1.7954, 1.4654, 2.2783, 1.5488, 1.6088, 1.3192, 2.0179, 3.358, 3.3551, 3.3426, 3.3396, 3.3336, 3.3255, 3.3239, 3.2948, 3.2905, 3.2816, 3.2809, 3.2599, 3.2593, 3.2579, 3.2544, 3.2499, 3.2492, 3.245, 3.2445, 3.2424, 3.2408, 3.2314, 3.2194, 3.215, 3.2128, 3.209, 3.1962, 3.1924, 3.1917, 3.1804, 3.1656, 3.1753, 2.8355, 3.0585, 2.8988, 2.8337, 2.408, 2.038, 1.3631, 2.6876, 2.0202, 2.2896, 2.3786, 3.3431, 3.3327, 3.3216, 3.2922, 3.2898, 3.2898, 3.2883, 3.2498, 3.2475, 3.2463, 3.246, 3.239, 3.2379, 3.2343, 3.2316, 3.2242, 3.2148, 3.2117, 3.2029, 3.198, 3.1974, 3.1966, 3.1899, 3.1797, 3.1738, 3.1652, 3.1603, 3.1579, 3.1579, 3.1538, 3.1342, 3.1122, 3.0512, 2.9676, 3.0267, 2.8041, 2.6297, 2.6304, 2.9684, 1.9175, 2.1894, 2.8396, 2.0354, 1.9887, 1.8341, 0.7801, 1.907, 1.0927, 3.4424, 3.4062, 3.3932, 3.3788, 3.3685, 3.3495, 3.3492, 3.3458, 3.3409, 3.3317, 3.3313, 3.3312, 3.3258, 3.32, 3.3156, 3.303, 3.3026, 3.287, 3.282, 3.2667, 3.2662, 3.2621, 3.2574, 3.2572, 3.2558, 3.2455, 3.2393, 3.2377, 3.2321, 3.227, 3.1919, 3.121, 3.1541, 2.8139, 3.1671, 3.063, 3.0354, 3.1924, 2.7982, 2.85, 2.8923, 2.5297, 1.8809, 2.0725, 2.5551, 1.8324, 1.9539, 3.6192, 3.6056, 3.6021, 3.5559, 3.5547, 3.5506, 3.5462, 3.537, 3.5338, 3.5314, 3.5289, 3.5186, 3.5185, 3.5086, 3.5058, 3.5057, 3.4986, 3.4985, 3.4966, 3.4925, 3.4889, 3.4876, 3.4823, 3.475, 3.4721, 3.4619, 3.4538, 3.4494, 3.4492, 3.4367, 3.412, 3.423, 3.2224, 3.253, 3.0115, 2.6234, 3.6416, 3.6235, 3.6156, 3.5838, 3.5804, 3.5657, 3.5422, 3.5409, 3.5322, 3.5243, 3.5239, 3.5224, 3.5201, 3.5083, 3.5056, 3.5043, 3.4975, 3.4912, 3.4873, 3.4736, 3.4627, 3.4427, 3.4413, 3.4379, 3.4241, 3.4205, 3.4122, 3.4119, 3.4046, 3.4042, 3.3617, 3.2396, 3.1754, 3.2319, 2.5203, 3.0407, 3.1987, 2.9788, 2.9069, 3.6565, 3.6556, 3.6242, 3.6179, 3.6087, 3.6028, 3.5886, 3.5669, 3.5623, 3.5556, 3.551, 3.5498, 3.5436, 3.5429, 3.5429, 3.5399, 3.5369, 3.5351, 3.5306, 3.5186, 3.5154, 3.5034, 3.495, 3.4888, 3.4678, 3.4646, 3.4469, 3.444, 3.4359, 3.433, 3.3052, 3.3062, 3.2893, 3.1927, 3.3323, 3.3019, 2.7532, 2.4113, 3.0654, 3.7659, 3.7636, 3.73, 3.7205, 3.7097, 3.7035, 3.6936, 3.6856, 3.6791, 3.6749, 3.6711, 3.6648, 3.6476, 3.6451, 3.6397, 3.6182, 3.611, 3.6094, 3.6069, 3.602, 3.5939, 3.5821, 3.5644, 3.5509, 3.5509, 3.535, 3.5312, 3.5186, 3.5014, 3.4811, 3.4745, 3.2264, 3.1448, 3.2105, 2.6848, 2.9141, 3.769, 3.7467, 3.7448, 3.7397, 3.7372, 3.7335, 3.6963, 3.6958, 3.6572, 3.6516, 3.6449, 3.6326, 3.6195, 3.5968, 3.5917, 3.59, 3.5847, 3.5706, 3.567, 3.5658, 3.5604, 3.556, 3.5538, 3.5494, 3.5488, 3.5454, 3.5453, 3.5438, 3.5382, 3.5364, 3.5068, 3.4464, 3.5116, 3.3172, 3.1335, 3.4154, 3.412, 3.0734, 2.6576, 3.2962, 3.822, 3.7864, 3.7806, 3.7786, 3.7694, 3.7679, 3.7673, 3.7481, 3.7455, 3.7334, 3.7259, 3.7174, 3.7126, 3.6979, 3.6865, 3.6845, 3.673, 3.6644, 3.6596, 3.6494, 3.6439, 3.641, 3.6352, 3.6216, 3.6115, 3.6043, 3.5944, 3.5914, 3.584, 3.5823, 3.5756, 3.5473, 3.3857, 3.3597, 2.933, 2.3963, 3.9532, 3.9514, 3.9236, 3.9134, 3.9129, 3.9044, 3.8745, 3.8547, 3.8542, 3.8441, 3.8389, 3.836, 3.8248, 3.8241, 3.821, 3.7884, 3.7791, 3.7786, 3.7747, 3.7699, 3.7561, 3.7536, 3.75, 3.7173, 3.7162, 3.6805, 3.6772, 3.6727, 3.6484, 3.642, 3.5989, 3.5981, 3.5675, 3.5029, 3.3727, 3.1889, 3.5026, 3.0519]}, \"token.table\": {\"Topic\": [12, 14, 11, 1, 8, 12, 5, 10, 6, 16, 1, 16, 1, 8, 6, 1, 2, 5, 10, 15, 4, 7, 10, 7, 2, 9, 9, 6, 10, 13, 11, 1, 2, 3, 4, 14, 1, 2, 8, 12, 12, 2, 3, 12, 1, 2, 1, 2, 3, 1, 2, 8, 10, 1, 2, 3, 6, 17, 6, 11, 7, 3, 3, 2, 3, 7, 1, 2, 3, 4, 4, 9, 1, 2, 1, 16, 5, 10, 2, 11, 11, 11, 2, 1, 2, 3, 7, 5, 1, 1, 11, 11, 3, 5, 1, 8, 9, 10, 13, 13, 17, 2, 3, 13, 5, 6, 11, 17, 3, 2, 1, 9, 10, 1, 7, 9, 1, 2, 7, 10, 1, 4, 7, 15, 16, 1, 10, 15, 14, 5, 8, 1, 7, 8, 9, 10, 1, 4, 14, 1, 2, 3, 4, 5, 2, 3, 10, 9, 14, 15, 8, 1, 2, 3, 4, 1, 10, 1, 2, 3, 13, 14, 3, 6, 9, 1, 9, 14, 1, 14, 2, 14, 16, 1, 3, 4, 7, 1, 15, 1, 6, 7, 10, 15, 1, 14, 17, 10, 17, 5, 1, 2, 3, 4, 8, 9, 10, 17, 5, 5, 15, 16, 6, 4, 6, 12, 1, 8, 9, 10, 1, 3, 4, 6, 9, 1, 2, 12, 4, 1, 2, 3, 1, 4, 16, 4, 2, 3, 16, 1, 2, 5, 6, 8, 1, 9, 1, 2, 3, 10, 1, 2, 10, 17, 17, 1, 6, 10, 1, 3, 1, 8, 9, 10, 15, 1, 2, 3, 7, 9, 1, 2, 3, 4, 14, 1, 2, 1, 2, 5, 7, 9, 5, 3, 17, 3, 1, 2, 3, 4, 10, 6, 1, 7, 9, 1, 3, 6, 6, 8, 14, 15, 7, 17, 3, 6, 6, 4, 1, 3, 4, 13, 4, 12, 1, 2, 3, 4, 6, 2, 4, 5, 4, 11, 12, 14, 14, 17, 5, 5, 9, 1, 2, 5, 16, 16, 6, 1, 2, 1, 10, 4, 12, 1, 2, 4, 5, 7, 8, 11, 16, 11, 13, 4, 2, 1, 2, 3, 15, 10, 15, 3, 5, 15, 16, 16, 6, 15, 5, 8, 15, 6, 2, 6, 10, 1, 2, 12, 13, 8, 7, 4, 2, 4, 6, 14, 15, 13, 8, 1, 16, 1, 14, 4, 13, 17, 5, 6, 15, 2, 4, 5, 1, 3, 4, 1, 1, 2, 3, 4, 11, 14, 1, 5, 8, 17, 1, 2, 7, 8, 1, 2, 3, 4, 12, 1, 2, 3, 12, 13, 2, 3, 13, 16, 17, 2, 3, 12, 2, 3, 2, 12, 1, 13, 11, 15, 10, 12, 1, 3, 4, 5, 1, 2, 3, 8, 1, 2, 8, 8, 5, 1, 4, 10, 6, 10, 4, 5, 9, 14, 5, 8, 1, 2, 1, 7, 10, 4, 1, 2, 3, 1, 2, 3, 4, 12, 12, 7, 5, 7, 13, 17, 14, 8, 1, 2, 3, 6, 9, 5, 13, 5, 9, 11, 1, 2, 3, 4, 6, 10, 17, 3, 6, 7, 17, 3, 1, 2, 4, 11, 1, 2, 3, 8, 11, 1, 16, 3, 7, 9, 12, 1, 6, 13, 5, 8, 13, 16, 16, 10, 1, 3, 4, 15, 17, 6, 7, 8, 9, 10, 15, 5, 13, 6, 7, 6, 10, 7, 9, 7, 1, 1, 2, 3, 7, 9, 1, 10, 11, 17, 5, 11, 2, 1, 2, 5, 7, 9, 8, 16, 17, 1, 2, 3, 6, 8, 15, 9, 10, 1, 2, 3, 4, 6, 9, 12, 8, 1, 16, 12, 16, 1, 2, 1, 2, 11, 12, 13, 15, 11, 2, 3, 4, 8, 9, 2, 4, 6, 8, 3, 9, 6, 9, 10, 12, 13, 1, 3, 8, 14, 1, 7, 12, 1, 2, 3, 4, 3, 11, 8, 1, 2, 3, 4, 5, 8, 12, 15, 6, 13, 12, 2, 12, 1, 3, 7, 13, 1, 2, 3, 14, 14, 5, 11, 3, 1, 4, 6, 12, 13, 3, 17, 3, 1, 2, 8, 12, 2, 1, 4, 1, 3, 8, 9, 10, 8, 8, 2, 5, 6, 7, 9, 7, 9, 13, 3, 3, 1, 2, 3, 7, 9, 8, 14, 8, 1, 3, 4, 5, 6, 8, 10, 5, 9, 15, 17, 8, 10, 17, 2, 1, 4, 5, 5, 4, 5, 13, 4, 6, 2, 14, 8, 6, 10, 5, 7, 17, 1, 2, 3, 17, 12, 14, 8, 5, 7, 9, 10, 1, 2, 4, 8, 2, 13, 2, 17, 1, 2, 4, 6, 8, 9, 16, 4, 17, 1, 2, 3, 5, 6, 7, 2, 3, 4, 1, 5, 2, 4, 10, 1, 2, 3, 4, 5, 8, 11, 1, 2, 1, 14, 3, 9, 12, 16, 9, 12, 12, 3, 10, 1, 2, 3, 4, 5, 1, 2, 12, 3, 4, 10, 1, 13, 4, 7, 2, 4, 15, 3, 15, 13, 1, 4, 9, 11, 10, 1, 2, 1, 5, 9, 15, 2, 5, 6, 12, 2, 15, 6, 1, 2, 11, 9, 9, 9, 6, 14, 3, 1, 2, 3, 4, 5, 3, 1, 2, 3, 4, 5, 9, 13, 13, 7, 8, 8, 10, 1, 2, 3, 14, 17, 3, 1, 2, 3, 7, 2, 5, 17, 10, 1, 2, 3, 4, 10, 8, 1, 6, 17, 1, 2, 3, 8, 9, 1, 2, 3, 17, 7, 1, 2, 3, 7, 7, 3, 6, 7, 1, 2, 3, 3, 11, 1, 2, 3, 6, 1, 7, 15, 4, 17, 6, 5, 4, 1, 5, 6, 7, 2, 15, 3, 8, 9, 9, 12, 13, 16, 12, 2, 3, 8, 9, 15, 1, 2, 3, 6, 12, 9, 5, 6, 10, 15, 14, 15, 2, 7, 10, 5, 6, 2, 3, 6, 7, 2, 12, 2, 5, 10, 11, 14, 11, 1, 6, 10, 11, 1, 2, 3, 14, 3, 12, 13, 1, 10, 9, 1, 2, 3, 4, 8, 1, 16, 2, 1, 2, 3, 4, 5, 6, 1, 3, 4, 9, 11, 14, 6, 9, 1, 2, 3, 8, 7, 5, 9, 5, 7, 12, 15, 16, 16, 1, 2, 6, 10, 10, 14, 13, 4, 15, 4, 6, 7, 8, 12, 14, 5, 10, 2, 4, 8, 10, 6, 1, 5, 12, 15, 15, 13, 5, 16, 2, 4, 13, 2, 4, 7, 7, 11, 13, 14, 1, 1, 2, 5, 7, 1, 3, 12, 2, 3, 1, 2, 3, 4, 8, 1, 2, 3, 4, 6, 14, 11, 11, 1, 10, 2, 5, 6, 1, 6, 1, 3, 4, 6, 9, 12, 1, 2, 3, 12, 8, 10, 8, 16, 11, 5, 1, 11, 6, 1, 7, 9, 1, 2, 3, 7, 9, 8, 1, 8, 9, 17, 11, 13, 16, 13, 1, 2, 3, 4, 6, 7, 8, 15, 4, 1, 2, 4, 1, 2, 2, 2, 6, 9, 1, 2, 3, 4, 5, 7, 9, 10, 6, 8, 11, 13, 15, 16, 7, 13, 3, 13, 1, 16, 2, 17, 15, 1, 5, 6, 1, 2, 3, 6, 7, 8, 9, 17, 6, 3, 16, 4, 9, 14, 17, 1, 4, 5, 12, 13, 16, 1, 9, 11, 2, 1, 2, 3, 4, 7, 5, 12, 14, 1, 3, 1, 2, 3, 17, 3, 12, 2, 3, 15, 3, 13, 17, 4, 5, 8, 11, 12, 13, 1, 2, 3, 4, 8, 15, 7, 12, 3, 7, 1, 2, 1, 2, 7, 15, 16, 2, 14, 1, 13, 13, 4, 4, 2, 5, 6, 12, 10, 7, 5, 9, 13, 8, 15, 1, 9, 1, 3, 4, 6, 9, 4, 6, 10, 1, 7, 9, 1, 2, 11, 1, 13, 13, 17, 1, 2, 3, 4, 13, 1, 2, 3, 7, 8, 9, 10, 16, 17, 11, 8, 13, 1, 17, 1, 2, 3, 4, 5, 2, 14, 12, 1, 3, 7, 10, 8, 1, 14, 5, 7, 6, 9, 1, 2, 3, 4, 6, 4, 3, 11, 7, 11, 13, 10, 5, 10, 9, 12, 14, 13, 7, 13, 14, 15, 2, 10, 2, 6, 4, 1, 2, 17, 17, 1, 2, 3, 4, 6, 2, 12, 1, 5, 12, 16, 7, 4, 5, 8, 13, 1, 2, 3, 4, 7, 12, 1, 2, 3, 4, 9, 16, 1, 2, 3, 4, 16, 9, 1, 8, 13, 1, 2, 3, 11, 2, 11, 9, 9, 7, 8, 7, 11, 16, 1, 2, 15, 12, 16, 1, 2, 10, 2, 3, 9, 16, 1, 5, 6, 1, 5, 8, 10, 1, 7, 9, 10, 6, 16, 1, 2, 3, 11, 1, 2, 3, 4, 7, 9, 13, 8, 6, 1, 15, 16, 1, 11, 1, 2, 8, 12, 1, 15, 2, 3, 4, 6, 11, 10], \"Freq\": [0.16246508033732035, 0.6498603213492814, 0.8117985969233286, 0.17724741123617896, 0.7976133505628054, 0.7338460504874066, 0.8901298949916437, 0.8450499506738036, 0.1753135197537997, 0.7012540790151988, 0.15318090120231176, 0.7659045060115588, 0.45829367144159994, 0.45829367144159994, 0.8672842285657772, 0.9505188559294878, 0.22154188833533234, 0.5907783688942195, 0.07384729611177744, 0.07384729611177744, 0.35177996029107556, 0.5276699404366133, 0.08794499007276889, 0.8654443404372409, 0.09193983278478357, 0.8274584950630521, 0.7935663438618017, 0.8681412221096747, 0.9210769621656716, 0.8043782898306575, 0.921119650483654, 0.3548211622800241, 0.10917574224000741, 0.4912908400800333, 0.027293935560001852, 0.725067119306929, 0.3000295758129729, 0.1371563775145019, 0.5486255100580076, 0.00857227359465637, 0.8956848888104563, 0.8582628310552514, 0.09536253678391682, 0.8662154993821912, 0.18447528485103168, 0.7379011394041267, 0.6100753828572433, 0.3183001997516052, 0.053050033291934195, 0.7196075939722948, 0.24497279794801527, 0.015310799871750954, 0.7609759457855859, 0.5367255442207718, 0.3967101848588313, 0.023335893226990076, 0.8995580118710664, 0.8203179628977403, 0.1050417664225077, 0.8403341313800616, 0.8648664082045152, 0.9046583229671561, 0.8319634266258568, 0.19674876711669048, 0.7378078766875894, 0.883167593044291, 0.0768764857128354, 0.01537529714256708, 0.6457624799878173, 0.24600475428107327, 0.9044832190539447, 0.8426765617722578, 0.0589356072666459, 0.8840341089996885, 0.1064959667320319, 0.7454717671242234, 0.13741056888278017, 0.6870528444139008, 0.3232869156890829, 0.6465738313781658, 0.7899871174522165, 0.8891861339342535, 0.929450531837426, 0.2295747876051462, 0.17218109070385967, 0.2869684845064328, 0.34436218140771935, 0.831856468531313, 0.8656772907879661, 0.20142343985393485, 0.704982039488772, 0.7358777331460417, 0.8508364521829724, 0.7968493250651143, 0.36143120383335325, 0.09857214650000544, 0.23000167516667935, 0.23000167516667935, 0.841592368570992, 0.9074351843050686, 0.08249410766409715, 0.9428021990839057, 0.3452885004116896, 0.46038466721558613, 0.7834917939333311, 0.840419504805328, 0.0840419504805328, 0.6669583178867443, 0.9071781002044362, 0.8317346529797757, 0.7149028797633982, 0.21026555287158769, 0.042053110574317536, 0.06495484133684082, 0.2598193653473633, 0.6495484133684082, 0.1951654023990042, 0.0975827011995021, 0.5854962071970127, 0.0975827011995021, 0.11932613182759104, 0.8352829227931373, 0.8611485515760353, 0.7455422864795812, 0.8345857512018465, 0.3194731523284529, 0.5324552538807549, 0.8873300204738, 0.9321635980195583, 0.6205266411278032, 0.24821065645112128, 0.6231792407252393, 0.04793686467117225, 0.07190529700675838, 0.04793686467117225, 0.191747458684689, 0.11606210303530907, 0.03868736767843636, 0.8124347212471635, 0.1271997849358868, 0.2416795913781849, 0.5469590752243132, 0.0635998924679434, 0.012719978493588678, 0.08022963379229542, 0.8825259717152496, 0.8910143694217201, 0.9135001199689677, 0.6987896547663185, 0.9352533344215488, 0.8802657328793968, 0.23013828996133662, 0.11506914498066831, 0.6041130111485087, 0.057534572490334154, 0.2188829815368351, 0.6566489446105053, 0.24596273958753134, 0.061490684896882836, 0.24596273958753134, 0.368944109381297, 0.061490684896882836, 0.05894535140568208, 0.05894535140568208, 0.8252349196795491, 0.1832578098178247, 0.7941171758772403, 0.6774933608111696, 0.5219157228251993, 0.4175325782601594, 0.18881587431617314, 0.7552634972646926, 0.047203968579043284, 0.04217500969501869, 0.7591501745103364, 0.08435001939003738, 0.04217500969501869, 0.2027179912808172, 0.7095129694828601, 0.4515383579051174, 0.05017092865612416, 0.10034185731224832, 0.05017092865612416, 0.30102557193674495, 0.9593749040506973, 0.8740132633719628, 0.7831587012228167, 0.14438369199743173, 0.7219184599871586, 0.7593067842114136, 0.3004595029752925, 0.14466568661773344, 0.41174080037354904, 0.01112812973982565, 0.03338438921947695, 0.0667687784389539, 0.01112812973982565, 0.8842448170738564, 0.742076703745017, 0.7856259387483944, 0.7103228084341964, 0.7439456201402274, 0.9001068135129233, 0.11262243804961156, 0.11262243804961156, 0.5631121902480578, 0.31719157473177545, 0.07929789368294386, 0.07929789368294386, 0.5022199933253112, 0.01953872450982795, 0.1172323470589677, 0.3126195921572472, 0.4884681127456988, 0.0390774490196559, 0.7614962877303355, 0.15755095608213837, 0.052516985360712795, 0.7428086541685683, 0.2074284623058228, 0.6430282331480507, 0.12445707738349368, 0.26102201638514305, 0.6960587103603815, 0.8709300880129432, 0.7019602632675703, 0.1348411078714115, 0.809046647228469, 0.7390773176969108, 0.18771256995667857, 0.2502834266089048, 0.1251417133044524, 0.0625708566522262, 0.31285428326113096, 0.8605782282598482, 0.05378613926624051, 0.9633661233418997, 0.17649576410814694, 0.5736112333514776, 0.22061970513518367, 0.1825142860424761, 0.27377142906371416, 0.09125714302123805, 0.3650285720849522, 0.8155681015262684, 0.18629117440320997, 0.18629117440320997, 0.5588735232096299, 0.1531488887825068, 0.816794073506703, 0.2612882883762863, 0.07465379667893896, 0.11198069501840843, 0.03732689833946948, 0.4852496784131032, 0.7421765484441486, 0.059374123875531884, 0.08906118581329783, 0.029687061937765942, 0.059374123875531884, 0.14758958854508364, 0.029517917709016725, 0.3542150125082007, 0.44276876563525086, 0.879417832621262, 0.1949830007342142, 0.7311862527533032, 0.26244835111823106, 0.17496556741215405, 0.17496556741215405, 0.30618974297126955, 0.04374139185303851, 0.7925150692201087, 0.907838878653046, 0.8659793305288999, 0.9347003378781452, 0.41927228404178396, 0.2418878561779523, 0.22576199909942216, 0.09675514247118092, 0.844897931596148, 0.882605294572854, 0.5909773828441991, 0.29548869142209955, 0.08864660742662986, 0.05944768156986639, 0.11889536313973278, 0.8322675419781295, 0.17375440222568106, 0.6950176089027242, 0.08687720111284053, 0.6943508277778506, 0.7046870609503052, 0.8376314298827942, 0.08877573961447076, 0.8877573961447076, 0.8993232334878606, 0.8351019982160692, 0.11486399916156766, 0.11486399916156766, 0.7466159945501897, 0.8856552276251919, 0.8571637999990707, 0.12245197142843867, 0.46512023129998525, 0.09302404625999705, 0.27907213877999115, 0.06201603083999803, 0.09302404625999705, 0.17642158542982705, 0.7497917380767649, 0.044105396357456764, 0.08349116442688945, 0.8349116442688945, 0.11050901013294948, 0.8840720810635958, 0.8873813697182754, 0.8263575229954234, 0.8324500617690094, 0.17048800747381554, 0.6819520298952622, 0.16311666238355843, 0.7612110911232727, 0.8728503496855091, 0.9245904844266948, 0.8382092443775362, 0.7472894402173104, 0.8676964480445565, 0.10208193506406547, 0.5317300951391513, 0.37980721081367946, 0.9334561586355816, 0.8931968292180426, 0.16867824752156396, 0.22490433002875193, 0.11245216501437597, 0.11245216501437597, 0.18742027502395994, 0.07496811000958398, 0.05622608250718798, 0.018742027502395994, 0.7901205312019763, 0.7863704702812034, 0.6758698313534652, 0.8874382089283291, 0.2940315156755887, 0.6468693344862952, 0.029403151567558874, 0.7800419269496043, 0.6888251354976351, 0.7646076281451613, 0.2858132262471529, 0.6192619902021647, 0.04763553770785882, 0.04763553770785882, 0.9444709940126556, 0.07457914565838275, 0.894949747900593, 0.9061958419107575, 0.1655043049861208, 0.6620172199444831, 0.7972157349712381, 0.8056765006576829, 0.7353510188331936, 0.7322281039956697, 0.1379625374452548, 0.6438251747445224, 0.0459875124817516, 0.0919750249635032, 0.8587118560270967, 0.7075538514943382, 0.7694368011989345, 0.30408240781443174, 0.0868806879469805, 0.04344034397349025, 0.521284127681883, 0.04344034397349025, 0.781322324544207, 0.9351113042402798, 0.9359027664121188, 0.8381903563984238, 0.6302442769293747, 0.31512213846468734, 0.8472536526653043, 0.6733355489568542, 0.16833388723921355, 0.31469372307380755, 0.10489790769126918, 0.4195916307650767, 0.36031215230251384, 0.3002601269187615, 0.3002601269187615, 0.06542158182866777, 0.7850589819440132, 0.06542158182866777, 0.9266461292484134, 0.4456477208325381, 0.3055870085708833, 0.2291902564281625, 0.012732792023786804, 0.7727567935336873, 0.7613067556083782, 0.21957078400227817, 0.10978539200113908, 0.10978539200113908, 0.5489269600056954, 0.8526801430935416, 0.0370730496997192, 0.0370730496997192, 0.0370730496997192, 0.34163340153089833, 0.15183706734706592, 0.4175519352044313, 0.07591853367353296, 0.6917632238728333, 0.15814126092374867, 0.15814126092374867, 0.3558178370784345, 0.03953531523093717, 0.27674720661656016, 0.8598576986858144, 0.0666756495522556, 0.0666756495522556, 0.20002694865676682, 0.6000808459703004, 0.8715290249759702, 0.8067434213365823, 0.08067434213365822, 0.06195652047423324, 0.8673912866392652, 0.8997052659999503, 0.8100924361507817, 0.8777493279688043, 0.766369815277379, 0.1834563400694837, 0.7338253602779348, 0.6898818894880906, 0.8260543058261474, 0.37392345618514133, 0.3163967706181965, 0.23010674226777927, 0.02876334278347241, 0.36742362003373497, 0.49864634147435455, 0.12247454001124498, 0.883733449348223, 0.21355518513140515, 0.35592530855234195, 0.35592530855234195, 0.9011718552588778, 0.9471453511627465, 0.14845752593054998, 0.74228762965275, 0.8897427629499538, 0.9323407539922808, 0.9145625147625831, 0.20826637737695095, 0.052066594344237736, 0.6247991321308528, 0.10413318868847547, 0.7464805157844127, 0.16588455906320282, 0.2632984703916964, 0.702129254377857, 0.4805244953938153, 0.12013112384845383, 0.3603933715453615, 0.8091181191228264, 0.8011240743331001, 0.059342524024674076, 0.08901378603701111, 0.22477604052842373, 0.03211086293263196, 0.38533035519158354, 0.2889977663936877, 0.03211086293263196, 0.8872988231479649, 0.6821154704271203, 0.5481613520859724, 0.10963227041719449, 0.10963227041719449, 0.10963227041719449, 0.6050794400222972, 0.9392513642556902, 0.11611775801930063, 0.058058879009650316, 0.23223551603860126, 0.3483532740579019, 0.17417663702895095, 0.7442973670443661, 0.1488594734088732, 0.07218295956520665, 0.7940125552172732, 0.07218295956520665, 0.3680263019965751, 0.11040789059897253, 0.4907017359954335, 0.012267543399885837, 0.6846281746929691, 0.09780402495613845, 0.09780402495613845, 0.9196342067156295, 0.12421026402095374, 0.12421026402095374, 0.6210513201047687, 0.77260624060102, 0.13564986211429583, 0.4263281380735012, 0.40694958634288747, 0.8780091458526468, 0.5887916764098603, 0.2815960191525419, 0.0767989143143296, 0.025599638104776536, 0.7684631476131952, 0.9062528241365173, 0.8816670220971333, 0.915678148024239, 0.32074193506784343, 0.534569891779739, 0.7423981687574052, 0.1951359421542423, 0.11708156529254538, 0.6244350148935753, 0.8012454075462677, 0.8173917910490206, 0.6711681471533064, 0.7302488888366059, 0.7758415982050665, 0.8925211768264332, 0.14078701603972976, 0.07039350801986488, 0.7743285882185137, 0.7562208019451403, 0.8834379131771659, 0.8837594467638855, 0.5716186047782651, 0.03810790698521767, 0.228647441911306, 0.114323720955653, 0.8066439704208411, 0.14445450564235177, 0.5778180225694071, 0.8024500881307385, 0.6852508936609809, 0.2222739765553345, 0.6668219296660035, 0.7613793961416243, 0.8354849087045926, 0.9049924075055831, 0.9560943638219982, 0.826323297176087, 0.043490699851373, 0.0217453499256865, 0.0652360497770595, 0.0217453499256865, 0.8647193217118514, 0.06176566583656081, 0.8508452546065631, 0.7510128588843042, 0.7521074037574228, 0.8890946706472865, 0.926842031340393, 0.6234831669656882, 0.09446714650995276, 0.01889342930199055, 0.0377868586039811, 0.22672115162388662, 0.8433921465397567, 0.15251623115152588, 0.6100649246061035, 0.19902844019815932, 0.42017115152944745, 0.19902844019815932, 0.04422854226625762, 0.08845708453251525, 0.6783838141674995, 0.7490022885275864, 0.7986064778728171, 0.29163627251805785, 0.03240403027978421, 0.3564443330776263, 0.09721209083935263, 0.19442418167870526, 0.03240403027978421, 0.8275666302474242, 0.7897548663956189, 0.16814737633433255, 0.7566631935044965, 0.9174101295330467, 0.6857675601212108, 0.17888297573367604, 0.7870850932281745, 0.18263618418138186, 0.7827265036344937, 0.13289949524409064, 0.5315979809763626, 0.13289949524409064, 0.13289949524409064, 0.6728646808029635, 0.017403082966299842, 0.8005418164497927, 0.08701541483149922, 0.06961233186519937, 0.017403082966299842, 0.05434133521351798, 0.8694613634162877, 0.05434133521351798, 0.05434133521351798, 0.9378730008664045, 0.7639181481508328, 0.08699469962352517, 0.08699469962352517, 0.08699469962352517, 0.6089628973646762, 0.08699469962352517, 0.9172204143847427, 0.03527770824556702, 0.03527770824556702, 0.8411700016425847, 0.9470769865102596, 0.8975038671852833, 0.8287949298046299, 0.6239399256723224, 0.024957597026892896, 0.19966077621514317, 0.12478798513446449, 0.9332638674327195, 0.7321128046133979, 0.7461544279288888, 0.029168275950467355, 0.27709862152943987, 0.27709862152943987, 0.014584137975233677, 0.029168275950467355, 0.043752413925701034, 0.3062668974799072, 0.7064893956900321, 0.8552123000528713, 0.8056349108587643, 0.8903161254545384, 0.3619084521327061, 0.6031807535545102, 0.8121592313145098, 0.06767993594287583, 0.10151990391431373, 0.8071504001892863, 0.6546758534971512, 0.0755395215573636, 0.20143872415296957, 0.05035968103824239, 0.6351097926745596, 0.8406126082439597, 0.8896836903908268, 0.8944745655041524, 0.36485728325046013, 0.4256668304588701, 0.08107939627788002, 0.08107939627788002, 0.04053969813894001, 0.8046911169166916, 0.6725421237653798, 0.8584883962995388, 0.08654135868693662, 0.25962407606080984, 0.08654135868693662, 0.5192481521216197, 0.9417060273275129, 0.16918357237354284, 0.6767342894941714, 0.25897131158455233, 0.04316188526409205, 0.6042663936972887, 0.04316188526409205, 0.04316188526409205, 0.9282717693210117, 0.9008024848005783, 0.2296151207218825, 0.045923024144376504, 0.045923024144376504, 0.2296151207218825, 0.459230241443765, 0.13743629015906209, 0.6871814507953105, 0.7664768478134583, 0.8857476594083171, 0.8899381401957196, 0.23438353554775027, 0.25112521665830384, 0.4018003466532862, 0.06696672444221437, 0.016741681110553592, 0.8748729030660014, 0.6733093999694341, 0.865675217989462, 0.1942625585976516, 0.5678444020546739, 0.1942625585976516, 0.014943273738280891, 0.014943273738280891, 0.014943273738280891, 0.014943273738280891, 0.9061756299212641, 0.8861406129875068, 0.8930356521419979, 0.8706464569069317, 0.16075026597461214, 0.6430010638984486, 0.7158215606365219, 0.7786335333718782, 0.8672610971617621, 0.03942095896189828, 0.03942095896189828, 0.8847716820837692, 0.612311111657618, 0.1224622223315236, 0.1224622223315236, 0.13978972183790636, 0.6989486091895317, 0.8495828952333696, 0.6349529093121437, 0.6887986017370535, 0.13027213402257015, 0.6513606701128507, 0.9260753784736507, 0.7194480461693668, 0.8798706546013108, 0.0984627507260585, 0.04923137536302925, 0.787702005808468, 0.8473366033454215, 0.7824453614079431, 0.7782914790434631, 0.8679682006282344, 0.8606882053257235, 0.5652462831054256, 0.35327892694089097, 0.0706557853881782, 0.16338414150799974, 0.05446138050266658, 0.7624593270373321, 0.8714986424297415, 0.15568465336658344, 0.6227386134663337, 0.4816487228335381, 0.3853189782668305, 0.0947850323204258, 0.8530652908838322, 0.40376282034050825, 0.06729380339008471, 0.06729380339008471, 0.20188141017025413, 0.20188141017025413, 0.2581595572555692, 0.645398893138923, 0.25938707677634465, 0.17292471785089641, 0.5187741535526893, 0.85428270694535, 0.13872896120619305, 0.6936448060309652, 0.07584112286766156, 0.8342523515442772, 0.07584112286766156, 0.9287370643674902, 0.8660513581960665, 0.13895178709199668, 0.7642348290059817, 0.7175416029689444, 0.24606559023536542, 0.15818502229416348, 0.5097072940589712, 0.017576113588240388, 0.017576113588240388, 0.017576113588240388, 0.017576113588240388, 0.08845033206891875, 0.8845033206891875, 0.9228678055488168, 0.8388158621436526, 0.2321155839727952, 0.15474372264853012, 0.15474372264853012, 0.38685930662132534, 0.7544465534136631, 0.9161106328550463, 0.8095575133891958, 0.8248392687308819, 0.958046167175945, 0.44787333583283645, 0.13172745171554012, 0.18441843240175618, 0.10538196137243211, 0.13172745171554012, 0.1395765777403872, 0.8095441508942457, 0.02791531554807744, 0.15679683345544246, 0.23519525018316367, 0.47039050036632735, 0.9064031891236317, 0.9032611278041927, 0.9496513305348083, 0.843847945557297, 0.8370433079904968, 0.05231520674940605, 0.05231520674940605, 0.8672668936303829, 0.8523715384125348, 0.8503329613041736, 0.23167821295422555, 0.7336476743550476, 0.7698002800820218, 0.8228416948371958, 0.8036553881869434, 0.1977991062626339, 0.7582299073400965, 0.17571333170182038, 0.08785666585091019, 0.7028533268072815, 0.7230803824116778, 0.9062804741646784, 0.10587625303730291, 0.7411337712611203, 0.7823158749860079, 0.07544879090487187, 0.8299366999535905, 0.8888133264448296, 0.08499927676525192, 0.892492406035145, 0.8232058623169531, 0.7374953884611823, 0.8343674760221421, 0.7544807795546657, 0.9403321584018652, 0.7795771911853348, 0.8847311222842819, 0.1290864917092008, 0.043028830569733605, 0.6239180432611372, 0.1506009069940676, 0.021514415284866802, 0.9102468373226975, 0.2270627901807448, 0.09082511607229792, 0.5752257351245534, 0.09082511607229792, 0.12822835019594794, 0.7693701011756876, 0.9164039751838545, 0.7642045542699419, 0.7854433351577446, 0.8627487762323484, 0.8240587563561764, 0.7710825508516674, 0.41047212294269336, 0.5277498723548915, 0.058638874706099055, 0.9274239826803478, 0.7728374301037949, 0.9218758298690678, 0.43741042690010246, 0.2315702260059366, 0.15438015067062438, 0.15438015067062438, 0.26340188789260227, 0.6146044050827386, 0.08780062929753409, 0.8362880262735489, 0.1405121268186467, 0.10538409511398501, 0.2810242536372934, 0.4566644121606018, 0.8240587238867536, 0.8226430201290496, 0.9198043424494149, 0.7822660839524169, 0.8862989622567087, 0.17610063912825522, 0.1320754793461914, 0.17610063912825522, 0.35220127825651043, 0.1320754793461914, 0.14115608904148455, 0.7622428808240166, 0.056462435616593816, 0.7944503633485259, 0.8756152207704655, 0.7879970274957475, 0.0695291494849189, 0.04635276632327926, 0.0695291494849189, 0.7420227697336075, 0.08993874000045418, 0.8544180300043147, 0.7477136199420213, 0.24036812192207044, 0.1373532125268974, 0.6180894563710383, 0.8138823966454517, 0.8347003968465918, 0.2848202253116149, 0.5981224731543913, 0.08544606759348446, 0.028482022531161486, 0.9235465662788982, 0.7711853330454825, 0.8053981650477028, 0.9028993276593115, 0.6732703369341198, 0.8054337043212986, 0.8341013344281196, 0.8960092544962667, 0.9166598155236753, 0.7436159322107985, 0.07968218395007066, 0.8765040234507773, 0.8065872594829387, 0.9146208612732457, 0.874436802084208, 0.8285648571920284, 0.8680433784678696, 0.650815262747207, 0.1301630525494414, 0.1301630525494414, 0.8190408933822314, 0.8646642454480381, 0.049572324444489134, 0.24786162222244568, 0.19828929777795654, 0.44615092000040224, 0.049572324444489134, 0.7393372094987261, 0.13442494718158654, 0.06721247359079327, 0.09705724914213804, 0.7764579931371043, 0.7174293454559442, 0.5753839718592271, 0.09589732864320451, 0.19179465728640901, 0.09589732864320451, 0.7976839671059364, 0.8308885246219365, 0.2449935445276249, 0.6124838613190622, 0.8683460956144076, 0.7893492251575174, 0.13155820419291958, 0.08223644931019157, 0.7949523433318518, 0.027412149770063857, 0.027412149770063857, 0.08545136218427168, 0.7690622596584452, 0.22361561162565768, 0.16771170871924326, 0.05590390290641442, 0.05590390290641442, 0.5031351261577298, 0.7034763806879053, 0.8931116398898666, 0.08744785525616336, 0.26234356576849005, 0.6121349867931435, 0.2769054212626315, 0.6830333724478244, 0.01846036141750877, 0.8220464888583544, 0.17939819965641957, 0.08969909982820978, 0.6278936987974685, 0.09296852893541754, 0.836716760418758, 0.904424741653238, 0.14212119578445592, 0.1954166442036269, 0.3908332884072538, 0.10659089683834196, 0.12435604631139895, 0.9087621076381294, 0.5768572771674023, 0.7772744124632487, 0.10799042690924643, 0.4011072999486296, 0.41653450379280765, 0.030854407688356122, 0.015427203844178061, 0.015427203844178061, 0.24774402248384836, 0.17342081573869386, 0.5698112517128513, 0.10462183467950154, 0.10462183467950154, 0.7323528427565107, 0.10774001657466852, 0.7541801160226796, 0.15420456965020846, 0.15420456965020846, 0.4369129473422573, 0.2570076160836807, 0.8911538875711921, 0.9154767787764614, 0.8560382392331218, 0.10718502504116552, 0.7502951752881586, 0.10718502504116552, 0.6285069185748335, 0.31425345928741677, 0.8107056970649726, 0.4430064941789019, 0.28478988911500835, 0.06328664202555741, 0.18985992607667224, 0.6716354073670974, 0.8064034934607728, 0.7637134941138055, 0.18683261909398757, 0.7473304763759503, 0.09922312630910188, 0.09922312630910188, 0.09922312630910188, 0.09922312630910188, 0.3968925052364075, 0.19844625261820376, 0.8523114529444401, 0.7721745664036388, 0.09362406606257655, 0.09362406606257655, 0.09362406606257655, 0.6553684624380358, 0.9330029423284761, 0.23874886803817946, 0.5968721700954487, 0.7639410397411768, 0.8399568887673646, 0.8145579178362997, 0.8569193181505291, 0.8386944492869051, 0.815666026465332, 0.24339219273135274, 0.08113073091045092, 0.6490458472836074, 0.6921641016589074, 0.24720146487818123, 0.04944029297563624, 0.1921515288207529, 0.1921515288207529, 0.09607576441037645, 0.4803788220518822, 0.8719448038286648, 0.7808562498183601, 0.19521406245459003, 0.7977085356734223, 0.7739011198387878, 0.894761170223372, 0.03728171542597383, 0.03728171542597383, 0.8621217315781833, 0.8696391775790797, 0.3533444731528211, 0.05047778187897444, 0.45430003691077, 0.10095556375794888, 0.8856810304949816, 0.27072155607621873, 0.0854910177082796, 0.5414431121524375, 0.0854910177082796, 0.8575835057139671, 0.8681484748813697, 0.852832727820864, 0.7542500642231433, 0.07948693165419267, 0.8743562481961193, 0.24082841794943669, 0.06020710448735917, 0.6622781493609509, 0.2842769386203544, 0.6633128567808271, 0.09762694690160569, 0.06508463126773711, 0.3579654719725542, 0.26033852507094846, 0.19525389380321137, 0.7869034196405721, 0.3280122702607652, 0.5310674851840961, 0.10933742342025507, 0.015619631917179294, 0.18160594142708653, 0.7264237657083461, 0.8201303590792103, 0.8265259862953088, 0.9130148866240562, 0.7925957546630931, 0.9574032094478879, 0.8572693531741757, 0.7864321263258044, 0.5756747969530059, 0.23986449873041912, 0.09594579949216765, 0.41357960568320123, 0.47888164868581196, 0.10883673833768454, 0.8691828662437583, 0.062084490445982736, 0.8139918774311757, 0.913365551648103, 0.060891036776540196, 0.8639322355712911, 0.8734399563496043, 0.07777643217085309, 0.7777643217085308, 0.07777643217085309, 0.7432243635523558, 0.32826752881740073, 0.0437690038423201, 0.0875380076846402, 0.37203653265972086, 0.02188450192116005, 0.1313070115269603, 0.8068770050026101, 0.8143669716174956, 0.8426347244772668, 0.6242129670099698, 0.2496851868039879, 0.0832283956013293, 0.3031664125158415, 0.6400179819778876, 0.7941616253093775, 0.5889698341754483, 0.3212562731866082, 0.05354271219776803, 0.40744654029587035, 0.15671020780610398, 0.23506531170915598, 0.0940261246836624, 0.0156710207806104, 0.0470130623418312, 0.0156710207806104, 0.0156710207806104, 0.10421059774504596, 0.05210529887252298, 0.10421059774504596, 0.05210529887252298, 0.5731582875977528, 0.05210529887252298, 0.7954040840028452, 0.9101303164416773, 0.8837640732920092, 0.8401417622202859, 0.3216889966865035, 0.643377993373007, 0.17287991623788934, 0.6915196649515574, 0.7654466796740373, 0.879781633938227, 0.04887675744101261, 0.04887675744101261, 0.20455049162734062, 0.05844299760781161, 0.37987948445077546, 0.029221498803905805, 0.17532899282343484, 0.029221498803905805, 0.11688599521562322, 0.6622610497063566, 0.8902452690219651, 0.1641730271825633, 0.6566921087302532, 0.7481888837840922, 0.7446483077058844, 0.7607014446174196, 0.7846218678591678, 0.15764288755171493, 0.6831191793907647, 0.05254762918390498, 0.05254762918390498, 0.05254762918390498, 0.7885480983695674, 0.39952408735167705, 0.5326987831355694, 0.9101253925807246, 0.967201890373123, 0.20161961029338393, 0.033603268382230655, 0.033603268382230655, 0.7056686360268438, 0.7217298919161139, 0.8732329218677525, 0.7142496502268163, 0.17856241255670408, 0.16707928949965067, 0.7240102544984862, 0.1368435065113743, 0.23947613639490506, 0.6157957793011845, 0.6090139084817529, 0.9546390835214188, 0.7349889454357831, 0.847588672171971, 0.07705351565199736, 0.7674651794211166, 0.9144173153212457, 0.16925151828653776, 0.677006073146151, 0.06590731759754243, 0.13181463519508485, 0.06590731759754243, 0.5272585407803394, 0.06590731759754243, 0.13181463519508485, 0.15232386655371852, 0.04686888201652878, 0.6327299072231385, 0.14060664604958634, 0.011717220504132195, 0.6179422324849129, 0.7425880993672469, 0.7493042157673494, 0.9523630825213887, 0.8342818558376744, 0.20027537283429794, 0.7677222625314754, 0.7750668618148293, 0.05962052783190994, 0.14905131957977485, 0.9083246380106332, 0.7233275442178191, 0.12356309714066648, 0.7413785828439988, 0.9436126291445273, 0.9120033694127904, 0.8291733150155498, 0.674113733240094, 0.7731797233817457, 0.8022502516049236, 0.17783211435023552, 0.7113284574009421, 0.8230765787644696, 0.921838416725953, 0.9231929960144089, 0.044485270630296496, 0.88970541260593, 0.8085230720712707, 0.9006647211234099, 0.8692676673662758, 0.8877608512793981, 0.06341148937709987, 0.17488923666701184, 0.17488923666701184, 0.485803435186144, 0.07772854962978304, 0.0971606870372288, 0.8580754079116012, 0.1620977145440776, 0.810488572720388, 0.8601582075193492, 0.07479636587124776, 0.03739818293562388, 0.37554234123105923, 0.25036156082070615, 0.3338154144276082, 0.3602849114295574, 0.540427367144336, 0.18561015455932559, 0.5568304636779767, 0.33116712920248587, 0.39740055504298305, 0.23181699044174012, 0.016558356460124296, 0.6835072759878899, 0.5566933658426527, 0.017957850511053315, 0.14366280408842652, 0.14366280408842652, 0.03591570102210663, 0.07183140204421326, 0.017957850511053315, 0.7817760061430581, 0.8702370248061736, 0.7793917590713213, 0.8467628113190633, 0.8110440278227852, 0.9502166468059212, 0.8314460014741483, 0.24104122813039672, 0.24104122813039672, 0.40173538021732785, 0.08034707604346557, 0.020086769010866392, 0.8843034339092101, 0.9507726473103898, 0.8997769521879868, 0.7543573001238771, 0.07543573001238771, 0.037717865006193854, 0.07543573001238771, 0.8947120257267073, 0.896535231775459, 0.871472217278729, 0.11758806413925531, 0.8231164489747871, 0.7952426802852772, 0.9019653478424045, 0.3487556515191031, 0.1109677073015328, 0.49142841804964527, 0.031705059229009375, 0.6711890080530762, 0.5782729255854798, 0.842696110864673, 0.0842696110864673, 0.16481085762484163, 0.8240542881242081, 0.7332536849688202, 0.6932863442701817, 0.14393401858904026, 0.7196700929452013, 0.8842838127497352, 0.907962586406822, 0.8916712728502997, 0.7563322535300251, 0.0873179553023686, 0.0873179553023686, 0.1746359106047372, 0.6985436424189488, 0.8906601713490682, 0.8913568240721397, 0.8758675615617475, 0.05839117077078317, 0.7463476196478309, 0.8728203940270695, 0.10268475223847877, 0.7863102183277528, 0.8403129144282241, 0.619559447251546, 0.23602264657201752, 0.07375707705375548, 0.04425424623225328, 0.7868387166841436, 0.8675978153575952, 0.7736170764924584, 0.18463587326404116, 0.18463587326404116, 0.4615896831601029, 0.875280810356359, 0.7001224388763058, 0.07250570151643715, 0.6525513136479344, 0.07250570151643715, 0.1450114030328743, 0.21757270756589137, 0.034353585405140746, 0.5725597567523457, 0.13741434162056299, 0.02290239027009383, 0.7388540945718693, 0.48008628479806803, 0.07681380556769088, 0.3648655764465317, 0.057610354175768166, 0.11293459107266884, 0.790542137508682, 0.09541084866275433, 0.19082169732550866, 0.6440232284735917, 0.047705424331377165, 0.7737673989383936, 0.8251035133221712, 0.06339763579689518, 0.7607716295627422, 0.12679527159379037, 0.377257026185069, 0.5449268156006553, 0.06287617103084484, 0.82381121240192, 0.894813459501177, 0.06391524710722693, 0.8639107362515387, 0.900957779601015, 0.7669491023573102, 0.8823464440166404, 0.8671604840457592, 0.8142803113119251, 0.9030713949083726, 0.10014750355872346, 0.8512537802491493, 0.8868972551119925, 0.8300910369303306, 0.8879055038267558, 0.3409127956491477, 0.6250067920234376, 0.8097728816841439, 0.9078030937312637, 0.14903083090665528, 0.14903083090665528, 0.5961233236266211, 0.9444866726335088, 0.7348916419307033, 0.7747873722666537, 0.8928235971795829, 0.06909056197833582, 0.5527244958266866, 0.2763622479133433, 0.10118441951853703, 0.5059220975926851, 0.26982511871609877, 0.06745627967902469, 0.1363580395144513, 0.8181482370867078, 0.35668457750963933, 0.5859818059086932, 0.05095493964423419, 0.8776826377778848, 0.43677985580447193, 0.24265547544692886, 0.22647844375046694, 0.04853109508938577, 0.016177031696461924, 0.016177031696461924, 0.7764428010157393, 0.8862029010087813, 0.7942352294127935, 0.9425721050778034, 0.8090798803055473, 0.8224981701287762, 0.9202972365775106, 0.04001292332945698, 0.5023464042740071, 0.16744880142466903, 0.25117320213700356, 0.08372440071233452, 0.16959349494758483, 0.6783739797903393, 0.14786565872258892, 0.22179848808388336, 0.5175298055290611, 0.07393282936129446, 0.9306897849481542, 0.7824625004710035], \"Term\": [\"act\", \"act\", \"actionbar\", \"activity\", \"activity\", \"activitythread\", \"adapter\", \"adb\", \"adjust\", \"adjust\", \"administrator\", \"administrator\", \"age\", \"age\", \"agent\", \"ajax\", \"alert\", \"alert\", \"alert\", \"alert\", \"algorithm\", \"algorithm\", \"algorithm\", \"alias\", \"align\", \"align\", \"alloc\", \"alpha\", \"alter\", \"alternate\", \"amazon\", \"amp\", \"amp\", \"amp\", \"amp\", \"anchor\", \"android\", \"android\", \"android\", \"android\", \"androidruntime\", \"annotation\", \"annotation\", \"anonymous\", \"apache\", \"apache\", \"api\", \"api\", \"api\", \"app\", \"app\", \"app\", \"appbar\", \"application\", \"application\", \"application\", \"apt\", \"arbitrary\", \"architecture\", \"architecture\", \"area\", \"arg\", \"args\", \"argument\", \"argument\", \"arr\", \"array\", \"array\", \"array\", \"array\", \"arraylist\", \"arrow\", \"asp\", \"asp\", \"assembly\", \"assembly\", \"assert\", \"assert\", \"async\", \"async\", \"asynchronous\", \"aug\", \"authentication\", \"auto\", \"auto\", \"auto\", \"auto\", \"average\", \"aw\", \"await\", \"await\", \"awk\", \"axis\", \"azure\", \"background\", \"background\", \"background\", \"background\", \"bat\", \"batch\", \"batch\", \"bean\", \"binary\", \"binary\", \"bitmap\", \"blank\", \"blank\", \"bonus\", \"book\", \"boot\", \"bootstrap\", \"bootstrap\", \"bootstrap\", \"border\", \"border\", \"border\", \"box\", \"box\", \"box\", \"box\", \"branch\", \"branch\", \"brew\", \"bring\", \"browse\", \"btn\", \"btn\", \"bucket\", \"buffer\", \"builder\", \"builder\", \"button\", \"button\", \"button\", \"button\", \"button\", \"byte\", \"byte\", \"byte\", \"c\", \"c\", \"c\", \"c\", \"c\", \"c++\", \"c++\", \"caller\", \"camera\", \"car\", \"card\", \"cardview\", \"case\", \"case\", \"case\", \"case\", \"cast\", \"cast\", \"catch\", \"catch\", \"catch\", \"catch\", \"catch\", \"cell\", \"cell\", \"cell\", \"center\", \"center\", \"cert\", \"certificate\", \"certificate\", \"char\", \"char\", \"char\", \"character\", \"character\", \"character\", \"character\", \"checkbox\", \"checkbox\", \"child\", \"child\", \"child\", \"child\", \"child\", \"chrome\", \"circular\", \"circumstance\", \"clang\", \"clang\", \"clarify\", \"class\", \"class\", \"class\", \"class\", \"class\", \"class\", \"class\", \"classloader\", \"clearly\", \"cmake\", \"cocoapod\", \"codebase\", \"col\", \"collect\", \"collect\", \"collect\", \"color\", \"color\", \"color\", \"color\", \"column\", \"column\", \"column\", \"column\", \"column\", \"com\", \"com\", \"com\", \"comma\", \"command\", \"command\", \"command\", \"commit\", \"commit\", \"commons\", \"community\", \"compiler\", \"compiler\", \"complexity\", \"condition\", \"condition\", \"condition\", \"condition\", \"condition\", \"connect\", \"connect\", \"connection\", \"const\", \"const\", \"const\", \"constant\", \"constant\", \"constant\", \"constant\", \"constexpr\", \"constraint\", \"constraint\", \"constraint\", \"constructor\", \"constructor\", \"container\", \"container\", \"container\", \"container\", \"container\", \"content\", \"content\", \"content\", \"content\", \"content\", \"convert\", \"convert\", \"convert\", \"convert\", \"coordinate\", \"core\", \"core\", \"count\", \"count\", \"count\", \"count\", \"count\", \"counter\", \"cout\", \"cpp\", \"cpu\", \"create\", \"create\", \"create\", \"create\", \"cron\", \"cross\", \"css\", \"css\", \"css\", \"csv\", \"csv\", \"csv\", \"curl\", \"curl\", \"curl\", \"customize\", \"dagger\", \"dat\", \"dataframe\", \"dataframe\", \"dataset\", \"datatable\", \"date\", \"date\", \"date\", \"datepicker\", \"datetime\", \"datetime\", \"datum\", \"datum\", \"datum\", \"datum\", \"datum\", \"day\", \"day\", \"day\", \"decimal\", \"decimal\", \"decode\", \"decode\", \"decoder\", \"decrypt\", \"delay\", \"delegate\", \"delegate\", \"dependency\", \"dependency\", \"deprecate\", \"derive\", \"desc\", \"destroy\", \"device\", \"device\", \"dialog\", \"dialog\", \"dict\", \"dictionary\", \"difference\", \"difference\", \"difference\", \"difference\", \"difference\", \"difference\", \"difference\", \"difference\", \"digit\", \"dim\", \"dimension\", \"directive\", \"directory\", \"directory\", \"directory\", \"dirname\", \"dispatch\", \"distinct\", \"django\", \"django\", \"django\", \"django\", \"dll\", \"docker\", \"docker\", \"dog\", \"drag\", \"drag\", \"drive\", \"driver\", \"dtype\", \"eax\", \"eclipse\", \"eclipse\", \"eclipse\", \"eclipse\", \"edittext\", \"elem\", \"emac\", \"email\", \"email\", \"email\", \"email\", \"email\", \"emit\", \"employee\", \"emulator\", \"encapsulate\", \"encode\", \"encode\", \"encrypt\", \"endif\", \"endif\", \"engine\", \"engine\", \"engine\", \"entity\", \"entity\", \"entity\", \"equal\", \"equal\", \"equal\", \"err\", \"error\", \"error\", \"error\", \"error\", \"eslint\", \"eval\", \"evaluate\", \"evaluate\", \"evaluate\", \"evaluate\", \"event\", \"event\", \"event\", \"event\", \"example\", \"example\", \"example\", \"example\", \"exceed\", \"exception\", \"exception\", \"exception\", \"exception\", \"exception\", \"exclude\", \"exe\", \"exe\", \"exe\", \"exe\", \"execution\", \"exit\", \"exit\", \"expression\", \"expression\", \"external\", \"extremely\", \"facebook\", \"factor\", \"feb\", \"feb\", \"fff\", \"fiddler\", \"field\", \"field\", \"field\", \"field\", \"file\", \"file\", \"file\", \"fill_parent\", \"final\", \"final\", \"final\", \"findviewbyid\", \"firebase\", \"firstname\", \"firstname\", \"fixture\", \"flask\", \"flex\", \"float\", \"float\", \"float\", \"float\", \"flutter\", \"flutter\", \"folder\", \"folder\", \"font\", \"font\", \"font\", \"foreign\", \"form\", \"form\", \"form\", \"format\", \"format\", \"format\", \"format\", \"format\", \"formatter\", \"forum\", \"forward\", \"forward\", \"forward\", \"forward\", \"foundation\", \"fragment\", \"frame\", \"frame\", \"frame\", \"frame\", \"frame\", \"fun\", \"fun\", \"func\", \"func\", \"func\", \"function\", \"function\", \"function\", \"function\", \"gcc\", \"gcc\", \"gcc\", \"generic\", \"gets\", \"gets\", \"gets\", \"ggplot\", \"git\", \"git\", \"git\", \"gmail\", \"google\", \"google\", \"google\", \"google\", \"gradient\", \"gradle\", \"green\", \"grep\", \"grid\", \"grid\", \"groovy\", \"group\", \"group\", \"group\", \"grunt\", \"gson\", \"guarantee\", \"guideline\", \"happy\", \"hardware\", \"hash\", \"hash\", \"hash\", \"hashmap\", \"haskell\", \"heap\", \"height\", \"height\", \"height\", \"height\", \"helloworld\", \"helper\", \"helper\", \"hibernate\", \"hidden\", \"history\", \"history\", \"homebrew\", \"horizontally\", \"hover\", \"href\", \"html\", \"html\", \"html\", \"html\", \"html\", \"icon\", \"icon\", \"identify\", \"idle\", \"ienumerable\", \"iframe\", \"iis\", \"image\", \"image\", \"image\", \"image\", \"image\", \"imageview\", \"imagine\", \"imagine\", \"import\", \"import\", \"import\", \"import\", \"import\", \"importerror\", \"incompatible\", \"increment\", \"index\", \"index\", \"index\", \"index\", \"index\", \"index\", \"inf\", \"inflate\", \"inner\", \"inner\", \"inspect\", \"inspector\", \"instal\", \"instal\", \"install\", \"install\", \"installation\", \"installation\", \"installation\", \"installation\", \"installer\", \"int\", \"int\", \"int\", \"int\", \"int\", \"integer\", \"integer\", \"integer\", \"integer\", \"intellij\", \"invocation\", \"invoke\", \"invoke\", \"invoke\", \"invoke\", \"invoke\", \"io\", \"io\", \"io\", \"ipad\", \"iphone\", \"ipython\", \"iso\", \"item\", \"item\", \"item\", \"item\", \"iterate\", \"iteration\", \"iterator\", \"java\", \"java\", \"java\", \"java\", \"java\", \"java\", \"java\", \"javadoc\", \"javafx\", \"jdk\", \"jenkin\", \"job\", \"job\", \"jquery\", \"jquery\", \"jquery\", \"jre\", \"json\", \"json\", \"json\", \"json\", \"jsonobject\", \"jvm\", \"kafka\", \"kernel\", \"key\", \"key\", \"key\", \"key\", \"key\", \"kill\", \"knockout\", \"lambda\", \"lang\", \"lang\", \"lang\", \"lang\", \"laravel\", \"lastname\", \"lastname\", \"layout\", \"layout\", \"layout\", \"layout\", \"layout\", \"layout_height\", \"layout_width\", \"leave\", \"leave\", \"leave\", \"leave\", \"leave\", \"left\", \"left\", \"legend\", \"len\", \"letter\", \"line\", \"line\", \"line\", \"line\", \"line\", \"linearlayout\", \"linq\", \"lion\", \"list\", \"list\", \"list\", \"list\", \"list\", \"list\", \"list\", \"listen\", \"listener\", \"listview\", \"literal\", \"live\", \"live\", \"loadclass\", \"loader\", \"local\", \"local\", \"local\", \"locale\", \"locally\", \"locally\", \"locally\", \"locate\", \"locate\", \"lock\", \"lodash\", \"logcat\", \"logger\", \"logger\", \"logic\", \"logical\", \"lookup\", \"loop\", \"loop\", \"loop\", \"loss\", \"macro\", \"mail\", \"mainactivity\", \"makefile\", \"margin\", \"margin\", \"margin\", \"master\", \"master\", \"master\", \"match_parent\", \"material\", \"material\", \"matplotlib\", \"matplotlib\", \"maven\", \"maven\", \"max\", \"max\", \"max\", \"max\", \"max\", \"maximum\", \"maximum\", \"mean\", \"mean\", \"mean\", \"measure\", \"medium\", \"medium\", \"member\", \"member\", \"member\", \"menu\", \"mercurial\", \"merge\", \"merge\", \"mess\", \"method\", \"method\", \"method\", \"method\", \"method\", \"method\", \"method\", \"microsoft\", \"microsoft\", \"migration\", \"millisecond\", \"min\", \"min\", \"min\", \"min\", \"minimum\", \"minute\", \"mistake\", \"mock\", \"modal\", \"model\", \"model\", \"model\", \"model\", \"model\", \"module\", \"module\", \"module\", \"mongodb\", \"mongodb\", \"mongodb\", \"mongoose\", \"monitor\", \"month\", \"mouse\", \"mvc\", \"mvc\", \"mvc\", \"myclass\", \"myobject\", \"myproject\", \"mysql\", \"mysql\", \"navbar\", \"nbsp\", \"near\", \"net\", \"net\", \"nil\", \"nil\", \"nil\", \"node_env\", \"node_modules\", \"nodejs\", \"nodejs\", \"nonatomic\", \"notification\", \"notification\", \"notify\", \"npm\", \"npm\", \"nsdate\", \"nslog\", \"nsstre\", \"nsurl\", \"nuget\", \"nullable\", \"num\", \"number\", \"number\", \"number\", \"number\", \"number\", \"obj\", \"object\", \"object\", \"object\", \"object\", \"objective\", \"objective\", \"observable\", \"observe\", \"occurrence\", \"onchange\", \"oncreate\", \"opacity\", \"open\", \"open\", \"open\", \"opencv\", \"operand\", \"operator\", \"option\", \"option\", \"option\", \"option\", \"optional\", \"optional\", \"optional\", \"orange\", \"order\", \"order\", \"order\", \"order\", \"organize\", \"orientation\", \"origin\", \"overlap\", \"overload\", \"override\", \"override\", \"override\", \"override\", \"override\", \"package\", \"package\", \"package\", \"pad\", \"padding\", \"page\", \"page\", \"page\", \"page\", \"pagination\", \"panda\", \"panda\", \"panel\", \"parameter\", \"parameter\", \"parameter\", \"partial\", \"partition\", \"path\", \"path\", \"path\", \"path\", \"pdf\", \"percentage\", \"permanently\", \"person\", \"personal\", \"photo\", \"picture\", \"pid\", \"pip\", \"pipeline\", \"placeholder\", \"placeholder\", \"plt\", \"pod\", \"pointer\", \"policy\", \"pool\", \"pop\", \"pop\", \"pop\", \"populate\", \"popup\", \"position\", \"position\", \"position\", \"position\", \"position\", \"post\", \"post\", \"post\", \"postgre\", \"postgre\", \"postman\", \"practice\", \"practice\", \"practice\", \"practice\", \"precision\", \"predicate\", \"preference\", \"preference\", \"prefix\", \"price\", \"price\", \"print\", \"print\", \"print\", \"print\", \"printf\", \"printf\", \"println\", \"println\", \"println\", \"println\", \"println\", \"privilege\", \"profile\", \"programmatically\", \"programmatically\", \"programmatically\", \"project\", \"project\", \"project\", \"promise\", \"prompt\", \"prompt\", \"prompt\", \"prop\", \"prop\", \"proxy\", \"public\", \"public\", \"public\", \"public\", \"public\", \"pull\", \"purchase\", \"pycharm\", \"python\", \"python\", \"python\", \"python\", \"python\", \"python\", \"query\", \"query\", \"query\", \"queue\", \"queue\", \"queue\", \"quote\", \"quote\", \"r\", \"r\", \"r\", \"r\", \"radius\", \"random\", \"rate\", \"raw\", \"raw\", \"raw\", \"razor\", \"razor\", \"reach\", \"react\", \"react\", \"react\", \"react\", \"readable\", \"reader\", \"readline\", \"readonly\", \"readonly\", \"recent\", \"recent\", \"recent\", \"recent\", \"recent\", \"recent\", \"recognize\", \"recursively\", \"red\", \"red\", \"red\", \"red\", \"redirect\", \"reduce\", \"reduce\", \"reflect\", \"regard\", \"registration\", \"rel\", \"relationship\", \"reloaddata\", \"rename\", \"rename\", \"rename\", \"repository\", \"repository\", \"repository\", \"represent\", \"represent\", \"represent\", \"represent\", \"req\", \"request\", \"request\", \"requirejs\", \"resize\", \"response\", \"response\", \"response\", \"restart\", \"restriction\", \"result\", \"result\", \"result\", \"result\", \"retrofit\", \"return\", \"return\", \"return\", \"return\", \"reverse\", \"review\", \"revision\", \"room\", \"round\", \"round\", \"route\", \"route\", \"route\", \"router\", \"router\", \"row\", \"row\", \"row\", \"row\", \"row\", \"rspec\", \"run\", \"run\", \"run\", \"run\", \"rust\", \"rust\", \"savedinstancestate\", \"sbt\", \"scale\", \"scan\", \"schema\", \"scheme\", \"score\", \"screen\", \"screen\", \"screen\", \"script\", \"script\", \"script\", \"scroll\", \"scroll\", \"scrollview\", \"sdk\", \"sdk\", \"se\", \"secret\", \"security\", \"security\", \"security\", \"seed\", \"select\", \"select\", \"select\", \"select\", \"select\", \"select\", \"sentence\", \"separator\", \"serializable\", \"server\", \"server\", \"server\", \"service\", \"service\", \"servlet\", \"session\", \"session\", \"session\", \"set\", \"set\", \"set\", \"set\", \"set\", \"set\", \"set\", \"set\", \"setting\", \"setting\", \"setting\", \"setting\", \"setting\", \"setting\", \"shadow\", \"shape\", \"sheet\", \"shift\", \"signal\", \"signal\", \"signature\", \"signature\", \"singleton\", \"site\", \"site\", \"site\", \"size\", \"size\", \"size\", \"size\", \"size\", \"size\", \"size\", \"size_t\", \"sizeof\", \"slide\", \"slide\", \"soft\", \"solid\", \"somebody\", \"someclass\", \"sort\", \"sort\", \"sort\", \"sort\", \"sort\", \"sourcetree\", \"span\", \"span\", \"split\", \"spring\", \"sql\", \"sql\", \"sql\", \"sql\", \"stable\", \"stage\", \"startup\", \"startup\", \"statement\", \"statement\", \"static\", \"static\", \"static\", \"statuscode\", \"std\", \"stdin\", \"step\", \"step\", \"story\", \"str\", \"straight\", \"straight\", \"stream\", \"stream\", \"stream\", \"stream\", \"stream\", \"stream\", \"string\", \"string\", \"string\", \"string\", \"string\", \"stringify\", \"strip\", \"strong\", \"struct\", \"student\", \"studio\", \"studio\", \"style\", \"style\", \"style\", \"subclass\", \"subdirectory\", \"subject\", \"subject\", \"submit\", \"subscribe\", \"subscription\", \"substre\", \"subtract\", \"sudo\", \"sum\", \"sum\", \"sun\", \"svg\", \"svn\", \"swift\", \"swift\", \"sy\", \"symbol\", \"symfony\", \"tab\", \"tab\", \"table\", \"table\", \"table\", \"table\", \"table\", \"tablet\", \"tableview\", \"tableview\", \"tag\", \"tag\", \"tag\", \"task\", \"task\", \"task\", \"temp\", \"temp\", \"terminate\", \"terminate\", \"test\", \"test\", \"test\", \"test\", \"tester\", \"text\", \"text\", \"text\", \"text\", \"text\", \"text\", \"text\", \"textarea\", \"textbox\", \"textfield\", \"textview\", \"tfs\", \"theme\", \"threading\", \"time\", \"time\", \"time\", \"time\", \"time\", \"timer\", \"timestamp\", \"timezone\", \"title\", \"title\", \"title\", \"title\", \"toast\", \"tomcat\", \"topic\", \"touch\", \"touch\", \"transaction\", \"transparent\", \"type\", \"type\", \"type\", \"type\", \"typedef\", \"typename\", \"typescript\", \"typescript\", \"uiimage\", \"uiimage\", \"uint\", \"uitableview\", \"uiview\", \"uiview\", \"uiviewcontroller\", \"unexpected\", \"unicode\", \"union\", \"unique\", \"unique\", \"unique\", \"unique\", \"unix\", \"unsigned\", \"upload\", \"upload\", \"upstream\", \"url\", \"url\", \"urlencode\", \"urllib\", \"user\", \"user\", \"user\", \"user\", \"user_id\", \"userid\", \"utc\", \"util\", \"util\", \"util\", \"uuid\", \"vagrant\", \"val\", \"val\", \"val\", \"val\", \"value\", \"value\", \"value\", \"value\", \"value\", \"valueerror\", \"var\", \"var\", \"var\", \"var\", \"varchar\", \"varchar\", \"variable\", \"variable\", \"variable\", \"variable\", \"vary\", \"vba\", \"vector\", \"vector\", \"vector\", \"version\", \"version\", \"version\", \"versus\", \"video\", \"video\", \"viewcontroller\", \"viewdidload\", \"viewmodel\", \"viewpager\", \"vim\", \"virtualenv\", \"visibility\", \"visual\", \"visual\", \"volume\", \"vuejs\", \"watch\", \"web\", \"web\", \"webkit\", \"webpack\", \"webpage\", \"webpage\", \"webpage\", \"website\", \"websocket\", \"weight\", \"white\", \"widget\", \"widget\", \"widget\", \"width\", \"width\", \"width\", \"width\", \"win\", \"win\", \"window\", \"window\", \"window\", \"wordpress\", \"work\", \"work\", \"work\", \"work\", \"work\", \"work\", \"workspace\", \"wrap_content\", \"wrapper\", \"www\", \"xamarin\", \"xampp\", \"xcode\", \"xcode\", \"xml\", \"xml\", \"xml\", \"xml\", \"xpath\", \"xpath\", \"year\", \"year\", \"year\", \"year\", \"zip\", \"zone\"]}, \"R\": 30, \"lambda.step\": 0.01, \"plot.opts\": {\"xlab\": \"PC1\", \"ylab\": \"PC2\"}, \"topic.order\": [12, 15, 8, 13, 6, 1, 14, 10, 2, 17, 4, 11, 5, 16, 7, 3, 9]};\n",
       "\n",
       "function LDAvis_load_lib(url, callback){\n",
       "  var s = document.createElement('script');\n",
       "  s.src = url;\n",
       "  s.async = true;\n",
       "  s.onreadystatechange = s.onload = callback;\n",
       "  s.onerror = function(){console.warn(\"failed to load library \" + url);};\n",
       "  document.getElementsByTagName(\"head\")[0].appendChild(s);\n",
       "}\n",
       "\n",
       "if(typeof(LDAvis) !== \"undefined\"){\n",
       "   // already loaded: just create the visualization\n",
       "   !function(LDAvis){\n",
       "       new LDAvis(\"#\" + \"ldavis_el720823992726685128321667925\", ldavis_el720823992726685128321667925_data);\n",
       "   }(LDAvis);\n",
       "}else if(typeof define === \"function\" && define.amd){\n",
       "   // require.js is available: use it to load d3/LDAvis\n",
       "   require.config({paths: {d3: \"https://d3js.org/d3.v5\"}});\n",
       "   require([\"d3\"], function(d3){\n",
       "      window.d3 = d3;\n",
       "      LDAvis_load_lib(\"https://cdn.jsdelivr.net/gh/bmabey/pyLDAvis@3.3.1/pyLDAvis/js/ldavis.v3.0.0.js\", function(){\n",
       "        new LDAvis(\"#\" + \"ldavis_el720823992726685128321667925\", ldavis_el720823992726685128321667925_data);\n",
       "      });\n",
       "    });\n",
       "}else{\n",
       "    // require.js not available: dynamically load d3 & LDAvis\n",
       "    LDAvis_load_lib(\"https://d3js.org/d3.v5.js\", function(){\n",
       "         LDAvis_load_lib(\"https://cdn.jsdelivr.net/gh/bmabey/pyLDAvis@3.3.1/pyLDAvis/js/ldavis.v3.0.0.js\", function(){\n",
       "                 new LDAvis(\"#\" + \"ldavis_el720823992726685128321667925\", ldavis_el720823992726685128321667925_data);\n",
       "            })\n",
       "         });\n",
       "}\n",
       "</script>"
      ],
      "text/plain": [
       "PreparedData(topic_coordinates=               x           y  topics  cluster       Freq\n",
       "topic                                                   \n",
       "11      2.972113  -13.786730       1        1  26.508103\n",
       "14     -7.288966   86.150291       2        1  16.926350\n",
       "7      38.049393   65.587624       3        1  16.831488\n",
       "12    -42.227043    6.162611       4        1   4.902814\n",
       "5     -63.238548  -41.294518       5        1   3.589515\n",
       "0     -48.099060   56.473579       6        1   3.339585\n",
       "13    -48.087841  120.044159       7        1   3.242609\n",
       "9      17.708776  131.640900       8        1   3.222946\n",
       "1      92.846191   -8.328438       9        1   3.206552\n",
       "16     47.892864  -45.589878      10        1   2.984834\n",
       "3      92.039185   50.145565      11        1   2.481762\n",
       "10    -94.766495   15.104293      12        1   2.431038\n",
       "4      -9.109381  -64.732552      13        1   2.353590\n",
       "15    -94.606842   77.712318      14        1   2.129480\n",
       "6      44.945538   14.845922      15        1   2.125730\n",
       "2      -1.493484   35.842178      16        1   2.005020\n",
       "8      71.312836  105.574364      17        1   1.718583, topic_info=            Term        Freq       Total Category  logprob  loglift\n",
       "710      android  116.000000  116.000000  Default  30.0000  30.0000\n",
       "707         java   68.000000   68.000000  Default  29.0000  29.0000\n",
       "1300        date   52.000000   52.000000  Default  28.0000  28.0000\n",
       "1         column   51.000000   51.000000  Default  27.0000  27.0000\n",
       "786       docker   26.000000   26.000000  Default  26.0000  26.0000\n",
       "...          ...         ...         ...      ...      ...      ...\n",
       "1717        gets    4.595402    8.050864  Topic17  -4.4789   3.5029\n",
       "1949    evaluate    4.564387    9.108680  Topic17  -4.4857   3.3727\n",
       "373   matplotlib    4.328446   10.381010  Topic17  -4.5387   3.1889\n",
       "477    terminate    3.074175    5.387636  Topic17  -4.8809   3.5026\n",
       "1771    constant    3.983968   10.958046  Topic17  -4.6217   3.0519\n",
       "\n",
       "[819 rows x 6 columns], token_table=      Topic      Freq       Term\n",
       "term                            \n",
       "2639     12  0.162465        act\n",
       "2639     14  0.649860        act\n",
       "2098     11  0.811799  actionbar\n",
       "1468      1  0.177247   activity\n",
       "1468      8  0.797613   activity\n",
       "...     ...       ...        ...\n",
       "17        3  0.221798       year\n",
       "17        4  0.517530       year\n",
       "17        6  0.073933       year\n",
       "1858     11  0.930690        zip\n",
       "1575     10  0.782463       zone\n",
       "\n",
       "[1442 rows x 3 columns], R=30, lambda_step=0.01, plot_opts={'xlab': 'PC1', 'ylab': 'PC2'}, topic_order=[12, 15, 8, 13, 6, 1, 14, 10, 2, 17, 4, 11, 5, 16, 7, 3, 9])"
      ]
     },
     "execution_count": 442,
     "metadata": {},
     "output_type": "execute_result"
    }
   ],
   "source": [
    "pyLDAvis.enable_notebook()\n",
    "plot=pyLDAvis.gensim_models.prepare(lda_model, corpus, dictionary,mds='tsne')\n",
    "plot"
   ]
  },
  {
   "cell_type": "code",
   "execution_count": 443,
   "id": "57895937",
   "metadata": {},
   "outputs": [],
   "source": [
    "#pyLDAvis.save_html(plot, 'lda.html')"
   ]
  },
  {
   "cell_type": "markdown",
   "id": "e2694bba",
   "metadata": {},
   "source": [
    "#### Test model"
   ]
  },
  {
   "cell_type": "code",
   "execution_count": 444,
   "id": "a18f97a6",
   "metadata": {},
   "outputs": [],
   "source": [
    "#Import test data (50 posts randomly chosen)\n",
    "d_test = pd.read_pickle('./data/test_data.pkl')\n",
    "d_test.reset_index(drop=True, inplace=True)"
   ]
  },
  {
   "cell_type": "code",
   "execution_count": 445,
   "id": "c96f3d39",
   "metadata": {},
   "outputs": [
    {
     "data": {
      "text/html": [
       "<div>\n",
       "<style scoped>\n",
       "    .dataframe tbody tr th:only-of-type {\n",
       "        vertical-align: middle;\n",
       "    }\n",
       "\n",
       "    .dataframe tbody tr th {\n",
       "        vertical-align: top;\n",
       "    }\n",
       "\n",
       "    .dataframe thead th {\n",
       "        text-align: right;\n",
       "    }\n",
       "</style>\n",
       "<table border=\"1\" class=\"dataframe\">\n",
       "  <thead>\n",
       "    <tr style=\"text-align: right;\">\n",
       "      <th></th>\n",
       "      <th>Body</th>\n",
       "      <th>Title</th>\n",
       "      <th>Tags</th>\n",
       "      <th>Preprocessed_text</th>\n",
       "      <th>Score</th>\n",
       "    </tr>\n",
       "  </thead>\n",
       "  <tbody>\n",
       "    <tr>\n",
       "      <th>0</th>\n",
       "      <td>fairly new   spring   excuse     this    ...</td>\n",
       "      <td>spring could not resolve placeholder</td>\n",
       "      <td>[java, spring]</td>\n",
       "      <td>fairly spring excuse dumb launch program error...</td>\n",
       "      <td>30</td>\n",
       "    </tr>\n",
       "    <tr>\n",
       "      <th>1</th>\n",
       "      <td>now writing   extractor for   basic virtu...</td>\n",
       "      <td>how create directories automatically using ofs...</td>\n",
       "      <td>[c++, filestream]</td>\n",
       "      <td>write extractor basic virtual file archive com...</td>\n",
       "      <td>30</td>\n",
       "    </tr>\n",
       "    <tr>\n",
       "      <th>2</th>\n",
       "      <td>this     pseudo followup   this question   wh...</td>\n",
       "      <td>there way check column date r</td>\n",
       "      <td>[r]</td>\n",
       "      <td>pseudo followup ggplot graph percentage datum ...</td>\n",
       "      <td>30</td>\n",
       "    </tr>\n",
       "    <tr>\n",
       "      <th>3</th>\n",
       "      <td>suppose   have these tables     create table ...</td>\n",
       "      <td>left join with condition</td>\n",
       "      <td>[mysql, sql, tsql, left-join]</td>\n",
       "      <td>suppose table create table bug int primary key...</td>\n",
       "      <td>30</td>\n",
       "    </tr>\n",
       "    <tr>\n",
       "      <th>4</th>\n",
       "      <td>back   the old days    used   write select st...</td>\n",
       "      <td>correct way select from two tables sql server ...</td>\n",
       "      <td>[sql, sql-server, sql-server-2012]</td>\n",
       "      <td>old day write select statement select table co...</td>\n",
       "      <td>30</td>\n",
       "    </tr>\n",
       "  </tbody>\n",
       "</table>\n",
       "</div>"
      ],
      "text/plain": [
       "                                                Body  \\\n",
       "0       fairly new   spring   excuse     this    ...   \n",
       "1       now writing   extractor for   basic virtu...   \n",
       "2   this     pseudo followup   this question   wh...   \n",
       "3   suppose   have these tables     create table ...   \n",
       "4   back   the old days    used   write select st...   \n",
       "\n",
       "                                               Title  \\\n",
       "0               spring could not resolve placeholder   \n",
       "1  how create directories automatically using ofs...   \n",
       "2                     there way check column date r    \n",
       "3                           left join with condition   \n",
       "4  correct way select from two tables sql server ...   \n",
       "\n",
       "                                 Tags  \\\n",
       "0                      [java, spring]   \n",
       "1                   [c++, filestream]   \n",
       "2                                 [r]   \n",
       "3       [mysql, sql, tsql, left-join]   \n",
       "4  [sql, sql-server, sql-server-2012]   \n",
       "\n",
       "                                   Preprocessed_text  Score  \n",
       "0  fairly spring excuse dumb launch program error...     30  \n",
       "1  write extractor basic virtual file archive com...     30  \n",
       "2  pseudo followup ggplot graph percentage datum ...     30  \n",
       "3  suppose table create table bug int primary key...     30  \n",
       "4  old day write select statement select table co...     30  "
      ]
     },
     "execution_count": 445,
     "metadata": {},
     "output_type": "execute_result"
    }
   ],
   "source": [
    "d_test.head()"
   ]
  },
  {
   "cell_type": "code",
   "execution_count": 446,
   "id": "2ec2cb3d",
   "metadata": {},
   "outputs": [],
   "source": [
    "#Prepare test data\n",
    "data_test = []\n",
    "for i in range(d_test.shape[0]):\n",
    "    data_test.append(df['Preprocessed_text'][i].split())"
   ]
  },
  {
   "cell_type": "code",
   "execution_count": 447,
   "id": "db76c35b",
   "metadata": {},
   "outputs": [],
   "source": [
    "corpus_new = [dictionary.doc2bow(text) for text in data_test]"
   ]
  },
  {
   "cell_type": "code",
   "execution_count": 448,
   "id": "04267397",
   "metadata": {},
   "outputs": [
    {
     "name": "stdout",
     "output_type": "stream",
     "text": [
      "[(0, 0.28178552), (7, 0.4851327), (12, 0.20651218)]\n"
     ]
    }
   ],
   "source": [
    "#prediction of topic number with weight\n",
    "print(lda_model.get_document_topics(corpus_new[0]))"
   ]
  },
  {
   "cell_type": "code",
   "execution_count": 449,
   "id": "ba8bc137",
   "metadata": {},
   "outputs": [],
   "source": [
    "#prepare column for predicted topic number\n",
    "d_test['LDA_prediction'] = int(0)"
   ]
  },
  {
   "cell_type": "code",
   "execution_count": 450,
   "id": "0781ed02",
   "metadata": {},
   "outputs": [
    {
     "data": {
      "text/html": [
       "<div>\n",
       "<style scoped>\n",
       "    .dataframe tbody tr th:only-of-type {\n",
       "        vertical-align: middle;\n",
       "    }\n",
       "\n",
       "    .dataframe tbody tr th {\n",
       "        vertical-align: top;\n",
       "    }\n",
       "\n",
       "    .dataframe thead th {\n",
       "        text-align: right;\n",
       "    }\n",
       "</style>\n",
       "<table border=\"1\" class=\"dataframe\">\n",
       "  <thead>\n",
       "    <tr style=\"text-align: right;\">\n",
       "      <th></th>\n",
       "      <th>Body</th>\n",
       "      <th>Title</th>\n",
       "      <th>Tags</th>\n",
       "      <th>Preprocessed_text</th>\n",
       "      <th>Score</th>\n",
       "      <th>LDA_prediction</th>\n",
       "    </tr>\n",
       "  </thead>\n",
       "  <tbody>\n",
       "    <tr>\n",
       "      <th>0</th>\n",
       "      <td>fairly new   spring   excuse     this    ...</td>\n",
       "      <td>spring could not resolve placeholder</td>\n",
       "      <td>[java, spring]</td>\n",
       "      <td>fairly spring excuse dumb launch program error...</td>\n",
       "      <td>30</td>\n",
       "      <td>0</td>\n",
       "    </tr>\n",
       "    <tr>\n",
       "      <th>1</th>\n",
       "      <td>now writing   extractor for   basic virtu...</td>\n",
       "      <td>how create directories automatically using ofs...</td>\n",
       "      <td>[c++, filestream]</td>\n",
       "      <td>write extractor basic virtual file archive com...</td>\n",
       "      <td>30</td>\n",
       "      <td>0</td>\n",
       "    </tr>\n",
       "    <tr>\n",
       "      <th>2</th>\n",
       "      <td>this     pseudo followup   this question   wh...</td>\n",
       "      <td>there way check column date r</td>\n",
       "      <td>[r]</td>\n",
       "      <td>pseudo followup ggplot graph percentage datum ...</td>\n",
       "      <td>30</td>\n",
       "      <td>0</td>\n",
       "    </tr>\n",
       "    <tr>\n",
       "      <th>3</th>\n",
       "      <td>suppose   have these tables     create table ...</td>\n",
       "      <td>left join with condition</td>\n",
       "      <td>[mysql, sql, tsql, left-join]</td>\n",
       "      <td>suppose table create table bug int primary key...</td>\n",
       "      <td>30</td>\n",
       "      <td>0</td>\n",
       "    </tr>\n",
       "    <tr>\n",
       "      <th>4</th>\n",
       "      <td>back   the old days    used   write select st...</td>\n",
       "      <td>correct way select from two tables sql server ...</td>\n",
       "      <td>[sql, sql-server, sql-server-2012]</td>\n",
       "      <td>old day write select statement select table co...</td>\n",
       "      <td>30</td>\n",
       "      <td>0</td>\n",
       "    </tr>\n",
       "  </tbody>\n",
       "</table>\n",
       "</div>"
      ],
      "text/plain": [
       "                                                Body  \\\n",
       "0       fairly new   spring   excuse     this    ...   \n",
       "1       now writing   extractor for   basic virtu...   \n",
       "2   this     pseudo followup   this question   wh...   \n",
       "3   suppose   have these tables     create table ...   \n",
       "4   back   the old days    used   write select st...   \n",
       "\n",
       "                                               Title  \\\n",
       "0               spring could not resolve placeholder   \n",
       "1  how create directories automatically using ofs...   \n",
       "2                     there way check column date r    \n",
       "3                           left join with condition   \n",
       "4  correct way select from two tables sql server ...   \n",
       "\n",
       "                                 Tags  \\\n",
       "0                      [java, spring]   \n",
       "1                   [c++, filestream]   \n",
       "2                                 [r]   \n",
       "3       [mysql, sql, tsql, left-join]   \n",
       "4  [sql, sql-server, sql-server-2012]   \n",
       "\n",
       "                                   Preprocessed_text  Score  LDA_prediction  \n",
       "0  fairly spring excuse dumb launch program error...     30               0  \n",
       "1  write extractor basic virtual file archive com...     30               0  \n",
       "2  pseudo followup ggplot graph percentage datum ...     30               0  \n",
       "3  suppose table create table bug int primary key...     30               0  \n",
       "4  old day write select statement select table co...     30               0  "
      ]
     },
     "execution_count": 450,
     "metadata": {},
     "output_type": "execute_result"
    }
   ],
   "source": [
    "d_test.head()"
   ]
  },
  {
   "cell_type": "code",
   "execution_count": 451,
   "id": "7edd6030",
   "metadata": {
    "scrolled": true
   },
   "outputs": [],
   "source": [
    "#make prediction of topic number for each document\n",
    "from operator import itemgetter\n",
    "for i in range(len(corpus_new)):\n",
    "    d_test.loc[i,'LDA_prediction']=max(lda_model.get_document_topics(corpus_new[i]), key=itemgetter(1))[0]"
   ]
  },
  {
   "cell_type": "code",
   "execution_count": 452,
   "id": "b0da5bde",
   "metadata": {},
   "outputs": [],
   "source": [
    "def main_tag(elt):\n",
    "    ''' returns the most weighted token\n",
    "    given topic number'''\n",
    "    N=lda_model.get_topic_terms(elt, topn=30)[0][0]\n",
    "    Topic=[key  for (key, value) in dictionary.token2id.items() if value == N]\n",
    "    return Topic"
   ]
  },
  {
   "cell_type": "code",
   "execution_count": 453,
   "id": "1a7dccf5",
   "metadata": {},
   "outputs": [
    {
     "data": {
      "text/html": [
       "<div>\n",
       "<style scoped>\n",
       "    .dataframe tbody tr th:only-of-type {\n",
       "        vertical-align: middle;\n",
       "    }\n",
       "\n",
       "    .dataframe tbody tr th {\n",
       "        vertical-align: top;\n",
       "    }\n",
       "\n",
       "    .dataframe thead th {\n",
       "        text-align: right;\n",
       "    }\n",
       "</style>\n",
       "<table border=\"1\" class=\"dataframe\">\n",
       "  <thead>\n",
       "    <tr style=\"text-align: right;\">\n",
       "      <th></th>\n",
       "      <th>Body</th>\n",
       "      <th>Title</th>\n",
       "      <th>Tags</th>\n",
       "      <th>Preprocessed_text</th>\n",
       "      <th>Score</th>\n",
       "      <th>LDA_prediction</th>\n",
       "    </tr>\n",
       "  </thead>\n",
       "  <tbody>\n",
       "    <tr>\n",
       "      <th>0</th>\n",
       "      <td>fairly new   spring   excuse     this    ...</td>\n",
       "      <td>spring could not resolve placeholder</td>\n",
       "      <td>[java, spring]</td>\n",
       "      <td>fairly spring excuse dumb launch program error...</td>\n",
       "      <td>30</td>\n",
       "      <td>7</td>\n",
       "    </tr>\n",
       "    <tr>\n",
       "      <th>1</th>\n",
       "      <td>now writing   extractor for   basic virtu...</td>\n",
       "      <td>how create directories automatically using ofs...</td>\n",
       "      <td>[c++, filestream]</td>\n",
       "      <td>write extractor basic virtual file archive com...</td>\n",
       "      <td>30</td>\n",
       "      <td>16</td>\n",
       "    </tr>\n",
       "    <tr>\n",
       "      <th>2</th>\n",
       "      <td>this     pseudo followup   this question   wh...</td>\n",
       "      <td>there way check column date r</td>\n",
       "      <td>[r]</td>\n",
       "      <td>pseudo followup ggplot graph percentage datum ...</td>\n",
       "      <td>30</td>\n",
       "      <td>11</td>\n",
       "    </tr>\n",
       "    <tr>\n",
       "      <th>3</th>\n",
       "      <td>suppose   have these tables     create table ...</td>\n",
       "      <td>left join with condition</td>\n",
       "      <td>[mysql, sql, tsql, left-join]</td>\n",
       "      <td>suppose table create table bug int primary key...</td>\n",
       "      <td>30</td>\n",
       "      <td>7</td>\n",
       "    </tr>\n",
       "    <tr>\n",
       "      <th>4</th>\n",
       "      <td>back   the old days    used   write select st...</td>\n",
       "      <td>correct way select from two tables sql server ...</td>\n",
       "      <td>[sql, sql-server, sql-server-2012]</td>\n",
       "      <td>old day write select statement select table co...</td>\n",
       "      <td>30</td>\n",
       "      <td>7</td>\n",
       "    </tr>\n",
       "  </tbody>\n",
       "</table>\n",
       "</div>"
      ],
      "text/plain": [
       "                                                Body  \\\n",
       "0       fairly new   spring   excuse     this    ...   \n",
       "1       now writing   extractor for   basic virtu...   \n",
       "2   this     pseudo followup   this question   wh...   \n",
       "3   suppose   have these tables     create table ...   \n",
       "4   back   the old days    used   write select st...   \n",
       "\n",
       "                                               Title  \\\n",
       "0               spring could not resolve placeholder   \n",
       "1  how create directories automatically using ofs...   \n",
       "2                     there way check column date r    \n",
       "3                           left join with condition   \n",
       "4  correct way select from two tables sql server ...   \n",
       "\n",
       "                                 Tags  \\\n",
       "0                      [java, spring]   \n",
       "1                   [c++, filestream]   \n",
       "2                                 [r]   \n",
       "3       [mysql, sql, tsql, left-join]   \n",
       "4  [sql, sql-server, sql-server-2012]   \n",
       "\n",
       "                                   Preprocessed_text  Score  LDA_prediction  \n",
       "0  fairly spring excuse dumb launch program error...     30               7  \n",
       "1  write extractor basic virtual file archive com...     30              16  \n",
       "2  pseudo followup ggplot graph percentage datum ...     30              11  \n",
       "3  suppose table create table bug int primary key...     30               7  \n",
       "4  old day write select statement select table co...     30               7  "
      ]
     },
     "execution_count": 453,
     "metadata": {},
     "output_type": "execute_result"
    }
   ],
   "source": [
    "d_test.head()"
   ]
  },
  {
   "cell_type": "code",
   "execution_count": 454,
   "id": "abf2e285",
   "metadata": {
    "scrolled": false
   },
   "outputs": [],
   "source": [
    "#Define main tag\n",
    "d_test['LDA_prediction_tags'] = d_test['LDA_prediction'].apply(main_tag)"
   ]
  },
  {
   "cell_type": "code",
   "execution_count": 455,
   "id": "96e295e5",
   "metadata": {},
   "outputs": [],
   "source": [
    "def tags_2(elt, text):\n",
    "    \n",
    "    '''returns words that are contained\n",
    "    in the document text and in the topic 50 first words '''\n",
    "    \n",
    "    list_id=[x[0] for x in lda_model.get_topic_terms(elt, topn=50)]\n",
    "    words_topic = []\n",
    "    \n",
    "    for word_id in list_id:\n",
    "        Topic = [key  for (key, value) in dictionary.token2id.items() if value == word_id][0]\n",
    "        words_topic.append(Topic)\n",
    "        \n",
    "    a = [w for w in words_topic if w in text.split()]\n",
    "    return a"
   ]
  },
  {
   "cell_type": "code",
   "execution_count": 456,
   "id": "97d3da6c",
   "metadata": {},
   "outputs": [
    {
     "data": {
      "text/html": [
       "<div>\n",
       "<style scoped>\n",
       "    .dataframe tbody tr th:only-of-type {\n",
       "        vertical-align: middle;\n",
       "    }\n",
       "\n",
       "    .dataframe tbody tr th {\n",
       "        vertical-align: top;\n",
       "    }\n",
       "\n",
       "    .dataframe thead th {\n",
       "        text-align: right;\n",
       "    }\n",
       "</style>\n",
       "<table border=\"1\" class=\"dataframe\">\n",
       "  <thead>\n",
       "    <tr style=\"text-align: right;\">\n",
       "      <th></th>\n",
       "      <th>Body</th>\n",
       "      <th>Title</th>\n",
       "      <th>Tags</th>\n",
       "      <th>Preprocessed_text</th>\n",
       "      <th>Score</th>\n",
       "      <th>LDA_prediction</th>\n",
       "      <th>LDA_prediction_tags</th>\n",
       "    </tr>\n",
       "  </thead>\n",
       "  <tbody>\n",
       "    <tr>\n",
       "      <th>0</th>\n",
       "      <td>fairly new   spring   excuse     this    ...</td>\n",
       "      <td>spring could not resolve placeholder</td>\n",
       "      <td>[java, spring]</td>\n",
       "      <td>fairly spring excuse dumb launch program error...</td>\n",
       "      <td>30</td>\n",
       "      <td>7</td>\n",
       "      <td>[string]</td>\n",
       "    </tr>\n",
       "    <tr>\n",
       "      <th>1</th>\n",
       "      <td>now writing   extractor for   basic virtu...</td>\n",
       "      <td>how create directories automatically using ofs...</td>\n",
       "      <td>[c++, filestream]</td>\n",
       "      <td>write extractor basic virtual file archive com...</td>\n",
       "      <td>30</td>\n",
       "      <td>16</td>\n",
       "      <td>[color]</td>\n",
       "    </tr>\n",
       "    <tr>\n",
       "      <th>2</th>\n",
       "      <td>this     pseudo followup   this question   wh...</td>\n",
       "      <td>there way check column date r</td>\n",
       "      <td>[r]</td>\n",
       "      <td>pseudo followup ggplot graph percentage datum ...</td>\n",
       "      <td>30</td>\n",
       "      <td>11</td>\n",
       "      <td>[app]</td>\n",
       "    </tr>\n",
       "    <tr>\n",
       "      <th>3</th>\n",
       "      <td>suppose   have these tables     create table ...</td>\n",
       "      <td>left join with condition</td>\n",
       "      <td>[mysql, sql, tsql, left-join]</td>\n",
       "      <td>suppose table create table bug int primary key...</td>\n",
       "      <td>30</td>\n",
       "      <td>7</td>\n",
       "      <td>[string]</td>\n",
       "    </tr>\n",
       "    <tr>\n",
       "      <th>4</th>\n",
       "      <td>back   the old days    used   write select st...</td>\n",
       "      <td>correct way select from two tables sql server ...</td>\n",
       "      <td>[sql, sql-server, sql-server-2012]</td>\n",
       "      <td>old day write select statement select table co...</td>\n",
       "      <td>30</td>\n",
       "      <td>7</td>\n",
       "      <td>[string]</td>\n",
       "    </tr>\n",
       "  </tbody>\n",
       "</table>\n",
       "</div>"
      ],
      "text/plain": [
       "                                                Body  \\\n",
       "0       fairly new   spring   excuse     this    ...   \n",
       "1       now writing   extractor for   basic virtu...   \n",
       "2   this     pseudo followup   this question   wh...   \n",
       "3   suppose   have these tables     create table ...   \n",
       "4   back   the old days    used   write select st...   \n",
       "\n",
       "                                               Title  \\\n",
       "0               spring could not resolve placeholder   \n",
       "1  how create directories automatically using ofs...   \n",
       "2                     there way check column date r    \n",
       "3                           left join with condition   \n",
       "4  correct way select from two tables sql server ...   \n",
       "\n",
       "                                 Tags  \\\n",
       "0                      [java, spring]   \n",
       "1                   [c++, filestream]   \n",
       "2                                 [r]   \n",
       "3       [mysql, sql, tsql, left-join]   \n",
       "4  [sql, sql-server, sql-server-2012]   \n",
       "\n",
       "                                   Preprocessed_text  Score  LDA_prediction  \\\n",
       "0  fairly spring excuse dumb launch program error...     30               7   \n",
       "1  write extractor basic virtual file archive com...     30              16   \n",
       "2  pseudo followup ggplot graph percentage datum ...     30              11   \n",
       "3  suppose table create table bug int primary key...     30               7   \n",
       "4  old day write select statement select table co...     30               7   \n",
       "\n",
       "  LDA_prediction_tags  \n",
       "0            [string]  \n",
       "1             [color]  \n",
       "2               [app]  \n",
       "3            [string]  \n",
       "4            [string]  "
      ]
     },
     "execution_count": 456,
     "metadata": {},
     "output_type": "execute_result"
    }
   ],
   "source": [
    "d_test.head()"
   ]
  },
  {
   "cell_type": "code",
   "execution_count": 457,
   "id": "537a69f6",
   "metadata": {},
   "outputs": [],
   "source": [
    "#Define other tags\n",
    "d_test['LDA_predictions_tags2'] = d_test.apply(lambda x: tags_2(x.LDA_prediction, x.Preprocessed_text), axis=1)"
   ]
  },
  {
   "cell_type": "code",
   "execution_count": 458,
   "id": "447f516b",
   "metadata": {},
   "outputs": [
    {
     "data": {
      "text/html": [
       "<div>\n",
       "<style scoped>\n",
       "    .dataframe tbody tr th:only-of-type {\n",
       "        vertical-align: middle;\n",
       "    }\n",
       "\n",
       "    .dataframe tbody tr th {\n",
       "        vertical-align: top;\n",
       "    }\n",
       "\n",
       "    .dataframe thead th {\n",
       "        text-align: right;\n",
       "    }\n",
       "</style>\n",
       "<table border=\"1\" class=\"dataframe\">\n",
       "  <thead>\n",
       "    <tr style=\"text-align: right;\">\n",
       "      <th></th>\n",
       "      <th>Body</th>\n",
       "      <th>Title</th>\n",
       "      <th>Tags</th>\n",
       "      <th>Preprocessed_text</th>\n",
       "      <th>Score</th>\n",
       "      <th>LDA_prediction</th>\n",
       "      <th>LDA_prediction_tags</th>\n",
       "      <th>LDA_predictions_tags2</th>\n",
       "    </tr>\n",
       "  </thead>\n",
       "  <tbody>\n",
       "    <tr>\n",
       "      <th>0</th>\n",
       "      <td>fairly new   spring   excuse     this    ...</td>\n",
       "      <td>spring could not resolve placeholder</td>\n",
       "      <td>[java, spring]</td>\n",
       "      <td>fairly spring excuse dumb launch program error...</td>\n",
       "      <td>30</td>\n",
       "      <td>7</td>\n",
       "      <td>[string]</td>\n",
       "      <td>[string, value, int, return, class, public, ja...</td>\n",
       "    </tr>\n",
       "    <tr>\n",
       "      <th>1</th>\n",
       "      <td>now writing   extractor for   basic virtu...</td>\n",
       "      <td>how create directories automatically using ofs...</td>\n",
       "      <td>[c++, filestream]</td>\n",
       "      <td>write extractor basic virtual file archive com...</td>\n",
       "      <td>30</td>\n",
       "      <td>16</td>\n",
       "      <td>[color]</td>\n",
       "      <td>[unsigned]</td>\n",
       "    </tr>\n",
       "    <tr>\n",
       "      <th>2</th>\n",
       "      <td>this     pseudo followup   this question   wh...</td>\n",
       "      <td>there way check column date r</td>\n",
       "      <td>[r]</td>\n",
       "      <td>pseudo followup ggplot graph percentage datum ...</td>\n",
       "      <td>30</td>\n",
       "      <td>11</td>\n",
       "      <td>[app]</td>\n",
       "      <td>[file, datum, set, type, input]</td>\n",
       "    </tr>\n",
       "    <tr>\n",
       "      <th>3</th>\n",
       "      <td>suppose   have these tables     create table ...</td>\n",
       "      <td>left join with condition</td>\n",
       "      <td>[mysql, sql, tsql, left-join]</td>\n",
       "      <td>suppose table create table bug int primary key...</td>\n",
       "      <td>30</td>\n",
       "      <td>7</td>\n",
       "      <td>[string]</td>\n",
       "      <td>[value, int, return, mean, result, create, work]</td>\n",
       "    </tr>\n",
       "    <tr>\n",
       "      <th>4</th>\n",
       "      <td>back   the old days    used   write select st...</td>\n",
       "      <td>correct way select from two tables sql server ...</td>\n",
       "      <td>[sql, sql-server, sql-server-2012]</td>\n",
       "      <td>old day write select statement select table co...</td>\n",
       "      <td>30</td>\n",
       "      <td>7</td>\n",
       "      <td>[string]</td>\n",
       "      <td>[value, list, type, method, example, datum, wr...</td>\n",
       "    </tr>\n",
       "  </tbody>\n",
       "</table>\n",
       "</div>"
      ],
      "text/plain": [
       "                                                Body  \\\n",
       "0       fairly new   spring   excuse     this    ...   \n",
       "1       now writing   extractor for   basic virtu...   \n",
       "2   this     pseudo followup   this question   wh...   \n",
       "3   suppose   have these tables     create table ...   \n",
       "4   back   the old days    used   write select st...   \n",
       "\n",
       "                                               Title  \\\n",
       "0               spring could not resolve placeholder   \n",
       "1  how create directories automatically using ofs...   \n",
       "2                     there way check column date r    \n",
       "3                           left join with condition   \n",
       "4  correct way select from two tables sql server ...   \n",
       "\n",
       "                                 Tags  \\\n",
       "0                      [java, spring]   \n",
       "1                   [c++, filestream]   \n",
       "2                                 [r]   \n",
       "3       [mysql, sql, tsql, left-join]   \n",
       "4  [sql, sql-server, sql-server-2012]   \n",
       "\n",
       "                                   Preprocessed_text  Score  LDA_prediction  \\\n",
       "0  fairly spring excuse dumb launch program error...     30               7   \n",
       "1  write extractor basic virtual file archive com...     30              16   \n",
       "2  pseudo followup ggplot graph percentage datum ...     30              11   \n",
       "3  suppose table create table bug int primary key...     30               7   \n",
       "4  old day write select statement select table co...     30               7   \n",
       "\n",
       "  LDA_prediction_tags                              LDA_predictions_tags2  \n",
       "0            [string]  [string, value, int, return, class, public, ja...  \n",
       "1             [color]                                         [unsigned]  \n",
       "2               [app]                    [file, datum, set, type, input]  \n",
       "3            [string]   [value, int, return, mean, result, create, work]  \n",
       "4            [string]  [value, list, type, method, example, datum, wr...  "
      ]
     },
     "execution_count": 458,
     "metadata": {},
     "output_type": "execute_result"
    }
   ],
   "source": [
    "d_test.head()"
   ]
  },
  {
   "cell_type": "code",
   "execution_count": 459,
   "id": "4b2123f1",
   "metadata": {},
   "outputs": [],
   "source": [
    "def Union(lst1, lst2):\n",
    "    ''' Union of two lists without repetition'''\n",
    "    final_list = list(set(lst1) | set(lst2))\n",
    "    return final_list"
   ]
  },
  {
   "cell_type": "code",
   "execution_count": 460,
   "id": "75884c77",
   "metadata": {
    "scrolled": true
   },
   "outputs": [],
   "source": [
    "#Conclude all tags with LDA\n",
    "d_test['LDA_prediction_tags'] = d_test.apply(lambda x: Union(x.LDA_prediction_tags, x.LDA_predictions_tags2), axis=1)\n",
    "d_test.drop(['LDA_predictions_tags2'], axis=1, inplace=True)"
   ]
  },
  {
   "cell_type": "code",
   "execution_count": 461,
   "id": "2a38daba",
   "metadata": {},
   "outputs": [
    {
     "data": {
      "text/html": [
       "<div>\n",
       "<style scoped>\n",
       "    .dataframe tbody tr th:only-of-type {\n",
       "        vertical-align: middle;\n",
       "    }\n",
       "\n",
       "    .dataframe tbody tr th {\n",
       "        vertical-align: top;\n",
       "    }\n",
       "\n",
       "    .dataframe thead th {\n",
       "        text-align: right;\n",
       "    }\n",
       "</style>\n",
       "<table border=\"1\" class=\"dataframe\">\n",
       "  <thead>\n",
       "    <tr style=\"text-align: right;\">\n",
       "      <th></th>\n",
       "      <th>Body</th>\n",
       "      <th>Title</th>\n",
       "      <th>Tags</th>\n",
       "      <th>Preprocessed_text</th>\n",
       "      <th>Score</th>\n",
       "      <th>LDA_prediction</th>\n",
       "      <th>LDA_prediction_tags</th>\n",
       "    </tr>\n",
       "  </thead>\n",
       "  <tbody>\n",
       "    <tr>\n",
       "      <th>0</th>\n",
       "      <td>fairly new   spring   excuse     this    ...</td>\n",
       "      <td>spring could not resolve placeholder</td>\n",
       "      <td>[java, spring]</td>\n",
       "      <td>fairly spring excuse dumb launch program error...</td>\n",
       "      <td>30</td>\n",
       "      <td>7</td>\n",
       "      <td>[string, create, int, file, class, return, val...</td>\n",
       "    </tr>\n",
       "    <tr>\n",
       "      <th>1</th>\n",
       "      <td>now writing   extractor for   basic virtu...</td>\n",
       "      <td>how create directories automatically using ofs...</td>\n",
       "      <td>[c++, filestream]</td>\n",
       "      <td>write extractor basic virtual file archive com...</td>\n",
       "      <td>30</td>\n",
       "      <td>16</td>\n",
       "      <td>[color, unsigned]</td>\n",
       "    </tr>\n",
       "    <tr>\n",
       "      <th>2</th>\n",
       "      <td>this     pseudo followup   this question   wh...</td>\n",
       "      <td>there way check column date r</td>\n",
       "      <td>[r]</td>\n",
       "      <td>pseudo followup ggplot graph percentage datum ...</td>\n",
       "      <td>30</td>\n",
       "      <td>11</td>\n",
       "      <td>[app, type, input, set, file, datum]</td>\n",
       "    </tr>\n",
       "    <tr>\n",
       "      <th>3</th>\n",
       "      <td>suppose   have these tables     create table ...</td>\n",
       "      <td>left join with condition</td>\n",
       "      <td>[mysql, sql, tsql, left-join]</td>\n",
       "      <td>suppose table create table bug int primary key...</td>\n",
       "      <td>30</td>\n",
       "      <td>7</td>\n",
       "      <td>[string, create, result, int, return, value, w...</td>\n",
       "    </tr>\n",
       "    <tr>\n",
       "      <th>4</th>\n",
       "      <td>back   the old days    used   write select st...</td>\n",
       "      <td>correct way select from two tables sql server ...</td>\n",
       "      <td>[sql, sql-server, sql-server-2012]</td>\n",
       "      <td>old day write select statement select table co...</td>\n",
       "      <td>30</td>\n",
       "      <td>7</td>\n",
       "      <td>[type, string, create, example, list, datum, m...</td>\n",
       "    </tr>\n",
       "  </tbody>\n",
       "</table>\n",
       "</div>"
      ],
      "text/plain": [
       "                                                Body  \\\n",
       "0       fairly new   spring   excuse     this    ...   \n",
       "1       now writing   extractor for   basic virtu...   \n",
       "2   this     pseudo followup   this question   wh...   \n",
       "3   suppose   have these tables     create table ...   \n",
       "4   back   the old days    used   write select st...   \n",
       "\n",
       "                                               Title  \\\n",
       "0               spring could not resolve placeholder   \n",
       "1  how create directories automatically using ofs...   \n",
       "2                     there way check column date r    \n",
       "3                           left join with condition   \n",
       "4  correct way select from two tables sql server ...   \n",
       "\n",
       "                                 Tags  \\\n",
       "0                      [java, spring]   \n",
       "1                   [c++, filestream]   \n",
       "2                                 [r]   \n",
       "3       [mysql, sql, tsql, left-join]   \n",
       "4  [sql, sql-server, sql-server-2012]   \n",
       "\n",
       "                                   Preprocessed_text  Score  LDA_prediction  \\\n",
       "0  fairly spring excuse dumb launch program error...     30               7   \n",
       "1  write extractor basic virtual file archive com...     30              16   \n",
       "2  pseudo followup ggplot graph percentage datum ...     30              11   \n",
       "3  suppose table create table bug int primary key...     30               7   \n",
       "4  old day write select statement select table co...     30               7   \n",
       "\n",
       "                                 LDA_prediction_tags  \n",
       "0  [string, create, int, file, class, return, val...  \n",
       "1                                  [color, unsigned]  \n",
       "2               [app, type, input, set, file, datum]  \n",
       "3  [string, create, result, int, return, value, w...  \n",
       "4  [type, string, create, example, list, datum, m...  "
      ]
     },
     "execution_count": 461,
     "metadata": {},
     "output_type": "execute_result"
    }
   ],
   "source": [
    "d_test.head()"
   ]
  },
  {
   "cell_type": "markdown",
   "id": "fb3bf511",
   "metadata": {},
   "source": [
    "### Test on particular questions"
   ]
  },
  {
   "cell_type": "code",
   "execution_count": 462,
   "id": "28aaa7e4",
   "metadata": {},
   "outputs": [],
   "source": [
    "from functions import *"
   ]
  },
  {
   "cell_type": "code",
   "execution_count": 463,
   "id": "c6917bde",
   "metadata": {},
   "outputs": [],
   "source": [
    "def predict_lda(text):\n",
    "    ''' predicts tags obtaned with lda model'''\n",
    "    #clean text\n",
    "    text = clean_text(text)\n",
    "    text = remove_stop_words(text)\n",
    "    text = lemmatize(text)\n",
    "    \n",
    "    #make prediction\n",
    "    corpus = dictionary.doc2bow(text.split())\n",
    "    num_topic = max(lda_model.get_document_topics(corpus),\n",
    "                    key=itemgetter(1))[0]\n",
    "    m_tag = main_tag(num_topic)\n",
    "    other_tags = tags_2(num_topic, text)\n",
    "    a = Union(m_tag, other_tags)\n",
    "    \n",
    "    return a"
   ]
  },
  {
   "cell_type": "code",
   "execution_count": 464,
   "id": "e0d3a6c1",
   "metadata": {},
   "outputs": [],
   "source": [
    "#https://stackoverflow.com/questions/273192/how-can-i-safely-create-a-nested-directory\n",
    "text1 =\"\"\"How can I safely create a nested directory?\n",
    "        What is the most elegant way to check if the directory a file is going to be written to exists, \n",
    "        and if not, create the directory using Python? Here is what I tried:\n",
    "        import os\\ file_path =\"/my/directory/filename.txt\" \n",
    "        directory = os.path.dirname(file_path) \n",
    "        try: \n",
    "        os.stat(directory) \n",
    "        except: \n",
    "        os.mkdir(directory) \n",
    "        f = file(filename) \n",
    "        Somehow, I missed os.path.exists (thanks kanja, Blair, and Douglas). This is what I have now: \n",
    "        def ensure_dir(file_path): \n",
    "        directory = os.path.dirname(file_path) \n",
    "        if not os.path.exists(directory): \n",
    "        os.makedirs(directory) \n",
    "        Is there a flag for open(), that makes this happen automatically?\"\"\""
   ]
  },
  {
   "cell_type": "code",
   "execution_count": 465,
   "id": "1befbf82",
   "metadata": {},
   "outputs": [
    {
     "data": {
      "text/plain": [
       "['create', 'file', 'path', 'directory', 'open', 'python', 'import']"
      ]
     },
     "execution_count": 465,
     "metadata": {},
     "output_type": "execute_result"
    }
   ],
   "source": [
    "predict_lda(text1)"
   ]
  },
  {
   "cell_type": "code",
   "execution_count": 466,
   "id": "788077d2",
   "metadata": {},
   "outputs": [],
   "source": [
    "#https://stackoverflow.com/questions/509211/understanding-slice-notation\n",
    "text2 = \"\"\"I need a good explanation (references are a plus) on Python's slice notation.\n",
    "To me, this notation needs a bit of picking up.\n",
    "It looks extremely powerful, but I haven't quite got my head around it.\"\"\""
   ]
  },
  {
   "cell_type": "code",
   "execution_count": 467,
   "id": "dd6d8da3",
   "metadata": {},
   "outputs": [
    {
     "data": {
      "text/plain": [
       "['python', 'string']"
      ]
     },
     "execution_count": 467,
     "metadata": {},
     "output_type": "execute_result"
    }
   ],
   "source": [
    "predict_lda(text2)"
   ]
  },
  {
   "cell_type": "code",
   "execution_count": 468,
   "id": "8e3f2a4a",
   "metadata": {},
   "outputs": [],
   "source": [
    "#https://stackoverflow.com/questions/1642028/what-is-the-operator-in-c-c\n",
    "text3 = \"\"\"After reading Hidden Features and Dark Corners of C++/STL on comp.lang.c++.moderated, \n",
    "I was completely surprised that the following snippet compiled and worked in both Visual Studio 2008 and G++ 4.4.\n",
    "Here's the code:\n",
    "\n",
    "#include <stdio.h>\n",
    "int main()\n",
    "{\n",
    "    int x = 10;\n",
    "    while (x --> 0) // x goes to 0\n",
    "    {\n",
    "        printf(\"%d \", x);\n",
    "    }\n",
    "}\n",
    "Output:\n",
    "\n",
    "9 8 7 6 5 4 3 2 1 0\n",
    "I'd assume this is C, since it works in GCC as well. Where is this defined in the standard, and where has it come from?\"\"\""
   ]
  },
  {
   "cell_type": "code",
   "execution_count": 469,
   "id": "8fdf630d",
   "metadata": {},
   "outputs": [
    {
     "data": {
      "text/plain": [
       "['c', 'string', 'int', 'work', 'c++', 'read']"
      ]
     },
     "execution_count": 469,
     "metadata": {},
     "output_type": "execute_result"
    }
   ],
   "source": [
    "predict_lda(text3)"
   ]
  },
  {
   "cell_type": "markdown",
   "id": "732ea8d7",
   "metadata": {},
   "source": [
    "### NMF"
   ]
  },
  {
   "cell_type": "markdown",
   "id": "d9d37443",
   "metadata": {},
   "source": [
    "We try topic prediction with the non negative matrix factorization that is a linear algebra model."
   ]
  },
  {
   "cell_type": "code",
   "execution_count": 470,
   "id": "6c597225",
   "metadata": {},
   "outputs": [],
   "source": [
    "#df = pd.read_pickle('./data/cleaned_data.pkl')\n",
    "#df.reset_index(drop=True, inplace=True)"
   ]
  },
  {
   "cell_type": "code",
   "execution_count": 471,
   "id": "a5e87f30",
   "metadata": {},
   "outputs": [],
   "source": [
    "documents = []\n",
    "for i in range(df.shape[0]):\n",
    "    documents.append(df['Preprocessed_text'][i])"
   ]
  },
  {
   "cell_type": "code",
   "execution_count": 472,
   "id": "aa9c5f4c",
   "metadata": {},
   "outputs": [],
   "source": [
    "from sklearn.decomposition import NMF"
   ]
  },
  {
   "cell_type": "code",
   "execution_count": 473,
   "id": "535f4d5a",
   "metadata": {},
   "outputs": [],
   "source": [
    "#preprocessing\n",
    "tfidf_vectorizer = TfidfVectorizer(max_df=0.90, \n",
    "                                   min_df=2, \n",
    "                                   stop_words='english')\n",
    "\n",
    "tfidf = tfidf_vectorizer.fit_transform(documents)\n",
    "\n",
    "tfidf_feature_names = tfidf_vectorizer.get_feature_names()"
   ]
  },
  {
   "cell_type": "code",
   "execution_count": 474,
   "id": "1ff11cd2",
   "metadata": {},
   "outputs": [
    {
     "data": {
      "text/plain": [
       "NMF(alpha=0.1, init='nndsvd', l1_ratio=0.5, n_components=18, random_state=1)"
      ]
     },
     "execution_count": 474,
     "metadata": {},
     "output_type": "execute_result"
    }
   ],
   "source": [
    "# alpha=0 means no regularization, l1_ratio=.5, the penalty is a combination of L1 and L2\n",
    "# Run NMF\n",
    "nmf = NMF(n_components=18, random_state=1, alpha=.1, l1_ratio=.5, init='nndsvd')\n",
    "nmf.fit(tfidf)\n"
   ]
  },
  {
   "cell_type": "code",
   "execution_count": 475,
   "id": "66df65ec",
   "metadata": {},
   "outputs": [],
   "source": [
    "def display_topics(model, feature_names, no_top_words):\n",
    "    '''display topics and associated words'''\n",
    "    for topic_idx, topic in enumerate(model.components_):\n",
    "        print(\"Topic {}:\".format(topic_idx))\n",
    "        print(\" \".join([feature_names[i] for i in topic.argsort()[:-no_top_words - 1:-1]]))"
   ]
  },
  {
   "cell_type": "code",
   "execution_count": 476,
   "id": "9e8dadca",
   "metadata": {
    "scrolled": false
   },
   "outputs": [
    {
     "name": "stdout",
     "output_type": "stream",
     "text": [
      "Topic 0:\n",
      "error user run request server test web application api net url project log work window\n",
      "Topic 1:\n",
      "android studio layout_width com layout_height wrap_content activity layout xml support gradle item match_parent sdk widget\n",
      "Topic 2:\n",
      "file directory folder line project path open txt command upload create text copy bash include\n",
      "Topic 3:\n",
      "string convert object json public stre format str number character return char contain method split\n",
      "Topic 4:\n",
      "git branch commit master push repository github merge remote origin pull repo rebase local clone\n",
      "Topic 5:\n",
      "table sql query select key database mysql create row field primary foreign column server schema\n",
      "Topic 6:\n",
      "class public static method type extend href object span bootstrap btn override col constructor model\n",
      "Topic 7:\n",
      "function return var datum console javascript log jquery scope react test component object method event\n",
      "Topic 8:\n",
      "date day datetime month format year time hour convert number timestamp return datepicker iso end\n",
      "Topic 9:\n",
      "python line module print import package install pip lib usr instal script run version command\n",
      "Topic 10:\n",
      "image background color css text width button html height style size tag page center bootstrap\n",
      "Topic 11:\n",
      "array numpy arr object php convert index return byte remove store test javascript create var\n",
      "Topic 12:\n",
      "list item loop collection index contain convert object arraylist type return map generic foreach dict\n",
      "Topic 13:\n",
      "value select option type key input default property variable set text label return number dictionary\n",
      "Topic 14:\n",
      "int std struct amp cout main char include return type static byte pointer const compiler\n",
      "Topic 15:\n",
      "java org lang method eclipse androidruntime exception util apache main activitythread bean springframework maven jdk\n",
      "Topic 16:\n",
      "column dataframe panda datum row frame index csv col data series nan count sum grid\n",
      "Topic 17:\n",
      "app io xcode component react device play google angular store import route iphone simulator router\n"
     ]
    }
   ],
   "source": [
    "#Topics for nmf models\n",
    "display_topics(nmf, tfidf_feature_names, 15)"
   ]
  },
  {
   "cell_type": "code",
   "execution_count": 477,
   "id": "4e7230ec",
   "metadata": {},
   "outputs": [],
   "source": [
    "def tags_nmf(text):\n",
    "        '''Suggests a tag given a text'''\n",
    "        #clean text\n",
    "        text = clean_text(text)\n",
    "        text = remove_stop_words(text)\n",
    "        text = lemmatize(text)\n",
    "         \n",
    "        #apply tfidf transformation\n",
    "        tfidf_new = tfidf_vectorizer.transform([text])\n",
    "        X_new = nmf.transform(tfidf_new)\n",
    "        \n",
    "        #predict topic number\n",
    "        predicted_topics = [np.argsort(each)[::-1][0] for each in X_new][0]\n",
    "        \n",
    "        main_tag = [tfidf_feature_names[nmf.components_[predicted_topics].argsort()[:-2:-1][0]]]\n",
    "        other_tags = [tfidf_feature_names[i] for i in nmf.components_[predicted_topics].argsort()[:-51:-1]\n",
    "                      if (tfidf_feature_names[i] in text.split())]\n",
    "        return Union(main_tag, other_tags)"
   ]
  },
  {
   "cell_type": "code",
   "execution_count": 478,
   "id": "f41ae84d",
   "metadata": {},
   "outputs": [
    {
     "data": {
      "text/plain": [
       "['txt',\n",
       " 'create',\n",
       " 'file',\n",
       " 'path',\n",
       " 'directory',\n",
       " 'open',\n",
       " 'filename',\n",
       " 'import',\n",
       " 'write']"
      ]
     },
     "execution_count": 478,
     "metadata": {},
     "output_type": "execute_result"
    }
   ],
   "source": [
    "tags_nmf(text1)"
   ]
  },
  {
   "cell_type": "code",
   "execution_count": 479,
   "id": "6f8509a5",
   "metadata": {},
   "outputs": [
    {
     "data": {
      "text/plain": [
       "['python']"
      ]
     },
     "execution_count": 479,
     "metadata": {},
     "output_type": "execute_result"
    }
   ],
   "source": [
    "tags_nmf(text2)"
   ]
  },
  {
   "cell_type": "code",
   "execution_count": 480,
   "id": "4e9c9bfa",
   "metadata": {},
   "outputs": [
    {
     "data": {
      "text/plain": [
       "['int', 'main', 'compile', 'gcc', 'printf', 'include']"
      ]
     },
     "execution_count": 480,
     "metadata": {},
     "output_type": "execute_result"
    }
   ],
   "source": [
    "tags_nmf(text3)"
   ]
  },
  {
   "cell_type": "code",
   "execution_count": 481,
   "id": "74c9fd08",
   "metadata": {},
   "outputs": [],
   "source": [
    "d_test['NMF_prediction'] = d_test['Preprocessed_text'].apply(tags_nmf)"
   ]
  },
  {
   "cell_type": "code",
   "execution_count": null,
   "id": "b273165c",
   "metadata": {},
   "outputs": [],
   "source": []
  },
  {
   "cell_type": "markdown",
   "id": "75f99753",
   "metadata": {},
   "source": [
    "### II. Multi-label classification"
   ]
  },
  {
   "cell_type": "code",
   "execution_count": 482,
   "id": "d688da00",
   "metadata": {},
   "outputs": [],
   "source": [
    "#import dataset\n",
    "df = pd.read_pickle('./data/cleaned_data.pkl')\n",
    "df.reset_index(drop=True, inplace=True)"
   ]
  },
  {
   "cell_type": "code",
   "execution_count": 483,
   "id": "3d47410d",
   "metadata": {
    "scrolled": true
   },
   "outputs": [
    {
     "data": {
      "text/html": [
       "<div>\n",
       "<style scoped>\n",
       "    .dataframe tbody tr th:only-of-type {\n",
       "        vertical-align: middle;\n",
       "    }\n",
       "\n",
       "    .dataframe tbody tr th {\n",
       "        vertical-align: top;\n",
       "    }\n",
       "\n",
       "    .dataframe thead th {\n",
       "        text-align: right;\n",
       "    }\n",
       "</style>\n",
       "<table border=\"1\" class=\"dataframe\">\n",
       "  <thead>\n",
       "    <tr style=\"text-align: right;\">\n",
       "      <th></th>\n",
       "      <th>Body</th>\n",
       "      <th>Title</th>\n",
       "      <th>Tags</th>\n",
       "      <th>Preprocessed_text</th>\n",
       "      <th>Score</th>\n",
       "    </tr>\n",
       "  </thead>\n",
       "  <tbody>\n",
       "    <tr>\n",
       "      <th>0</th>\n",
       "      <td>have   table   csv format that looks like t...</td>\n",
       "      <td>how pivot dataframe pandas</td>\n",
       "      <td>[python, pandas, dataframe, transpose]</td>\n",
       "      <td>table csv format transpose table value indicat...</td>\n",
       "      <td>46</td>\n",
       "    </tr>\n",
       "    <tr>\n",
       "      <th>1</th>\n",
       "      <td>greets      reading that the default behaviou...</td>\n",
       "      <td>uitableview with fixed section headers</td>\n",
       "      <td>[ios, objective-c, uitableview]</td>\n",
       "      <td>greet read default behaviour uitableview pin s...</td>\n",
       "      <td>111</td>\n",
       "    </tr>\n",
       "    <tr>\n",
       "      <th>2</th>\n",
       "      <td>have installed react using  create react ap...</td>\n",
       "      <td>load local images react</td>\n",
       "      <td>[image, reactjs, local]</td>\n",
       "      <td>instal react create react app instal fine load...</td>\n",
       "      <td>70</td>\n",
       "    </tr>\n",
       "    <tr>\n",
       "      <th>3</th>\n",
       "      <td>are used   say   every r new user that   ...</td>\n",
       "      <td>the apply family really not vectorized</td>\n",
       "      <td>[r, performance, loops, vectorization, apply]</td>\n",
       "      <td>r user apply vectorize patrick burn r inferno ...</td>\n",
       "      <td>144</td>\n",
       "    </tr>\n",
       "    <tr>\n",
       "      <th>4</th>\n",
       "      <td>want   add some leading zeroes     string  ...</td>\n",
       "      <td>add leading zeroes number dart</td>\n",
       "      <td>[dart]</td>\n",
       "      <td>lead zero string example total length characte...</td>\n",
       "      <td>77</td>\n",
       "    </tr>\n",
       "  </tbody>\n",
       "</table>\n",
       "</div>"
      ],
      "text/plain": [
       "                                                Body  \\\n",
       "0     have   table   csv format that looks like t...   \n",
       "1   greets      reading that the default behaviou...   \n",
       "2     have installed react using  create react ap...   \n",
       "3       are used   say   every r new user that   ...   \n",
       "4     want   add some leading zeroes     string  ...   \n",
       "\n",
       "                                      Title  \\\n",
       "0               how pivot dataframe pandas    \n",
       "1    uitableview with fixed section headers   \n",
       "2                  load local images react    \n",
       "3   the apply family really not vectorized    \n",
       "4            add leading zeroes number dart   \n",
       "\n",
       "                                            Tags  \\\n",
       "0         [python, pandas, dataframe, transpose]   \n",
       "1                [ios, objective-c, uitableview]   \n",
       "2                        [image, reactjs, local]   \n",
       "3  [r, performance, loops, vectorization, apply]   \n",
       "4                                         [dart]   \n",
       "\n",
       "                                   Preprocessed_text  Score  \n",
       "0  table csv format transpose table value indicat...     46  \n",
       "1  greet read default behaviour uitableview pin s...    111  \n",
       "2  instal react create react app instal fine load...     70  \n",
       "3  r user apply vectorize patrick burn r inferno ...    144  \n",
       "4  lead zero string example total length characte...     77  "
      ]
     },
     "execution_count": 483,
     "metadata": {},
     "output_type": "execute_result"
    }
   ],
   "source": [
    "df.head()"
   ]
  },
  {
   "cell_type": "code",
   "execution_count": 484,
   "id": "f6afcc46",
   "metadata": {},
   "outputs": [
    {
     "data": {
      "text/plain": [
       "(6252, 5)"
      ]
     },
     "execution_count": 484,
     "metadata": {},
     "output_type": "execute_result"
    }
   ],
   "source": [
    "df.shape"
   ]
  },
  {
   "cell_type": "code",
   "execution_count": 485,
   "id": "3f29d2b8",
   "metadata": {},
   "outputs": [],
   "source": [
    "# Find all tags\n",
    "all_tags = []\n",
    "for i in range(df.shape[0]):\n",
    "    all_tags += df.iloc[i, df.columns.get_loc('Tags')]"
   ]
  },
  {
   "cell_type": "code",
   "execution_count": 486,
   "id": "6d2b6684",
   "metadata": {},
   "outputs": [],
   "source": [
    "# Remove tags that are too rare and define new tags\n",
    "t = Counter(all_tags)\n",
    "L = []\n",
    "L_test = []\n",
    "for k in range(df.shape[0]):\n",
    "    L.append([elt for elt in df.iloc[k, df.columns.get_loc('Tags')] if (t[elt] >= 30)])\n",
    "    \n",
    "for k in range(d_test.shape[0]):\n",
    "    L_test.append([elt for elt in d_test.iloc[k, d_test.columns.get_loc('Tags')] if (t[elt] >= 30)])\n",
    "    \n",
    "df['new_tags'] = pd.Series(L)\n",
    "d_test['new_tags'] = pd.Series(L_test)"
   ]
  },
  {
   "cell_type": "code",
   "execution_count": 487,
   "id": "1b7abe1c",
   "metadata": {},
   "outputs": [
    {
     "data": {
      "text/html": [
       "<div>\n",
       "<style scoped>\n",
       "    .dataframe tbody tr th:only-of-type {\n",
       "        vertical-align: middle;\n",
       "    }\n",
       "\n",
       "    .dataframe tbody tr th {\n",
       "        vertical-align: top;\n",
       "    }\n",
       "\n",
       "    .dataframe thead th {\n",
       "        text-align: right;\n",
       "    }\n",
       "</style>\n",
       "<table border=\"1\" class=\"dataframe\">\n",
       "  <thead>\n",
       "    <tr style=\"text-align: right;\">\n",
       "      <th></th>\n",
       "      <th>Body</th>\n",
       "      <th>Title</th>\n",
       "      <th>Tags</th>\n",
       "      <th>Preprocessed_text</th>\n",
       "      <th>Score</th>\n",
       "      <th>new_tags</th>\n",
       "    </tr>\n",
       "  </thead>\n",
       "  <tbody>\n",
       "    <tr>\n",
       "      <th>0</th>\n",
       "      <td>have   table   csv format that looks like t...</td>\n",
       "      <td>how pivot dataframe pandas</td>\n",
       "      <td>[python, pandas, dataframe, transpose]</td>\n",
       "      <td>table csv format transpose table value indicat...</td>\n",
       "      <td>46</td>\n",
       "      <td>[python, pandas, dataframe]</td>\n",
       "    </tr>\n",
       "    <tr>\n",
       "      <th>1</th>\n",
       "      <td>greets      reading that the default behaviou...</td>\n",
       "      <td>uitableview with fixed section headers</td>\n",
       "      <td>[ios, objective-c, uitableview]</td>\n",
       "      <td>greet read default behaviour uitableview pin s...</td>\n",
       "      <td>111</td>\n",
       "      <td>[ios, objective-c]</td>\n",
       "    </tr>\n",
       "    <tr>\n",
       "      <th>2</th>\n",
       "      <td>have installed react using  create react ap...</td>\n",
       "      <td>load local images react</td>\n",
       "      <td>[image, reactjs, local]</td>\n",
       "      <td>instal react create react app instal fine load...</td>\n",
       "      <td>70</td>\n",
       "      <td>[reactjs]</td>\n",
       "    </tr>\n",
       "    <tr>\n",
       "      <th>3</th>\n",
       "      <td>are used   say   every r new user that   ...</td>\n",
       "      <td>the apply family really not vectorized</td>\n",
       "      <td>[r, performance, loops, vectorization, apply]</td>\n",
       "      <td>r user apply vectorize patrick burn r inferno ...</td>\n",
       "      <td>144</td>\n",
       "      <td>[r, performance]</td>\n",
       "    </tr>\n",
       "    <tr>\n",
       "      <th>4</th>\n",
       "      <td>want   add some leading zeroes     string  ...</td>\n",
       "      <td>add leading zeroes number dart</td>\n",
       "      <td>[dart]</td>\n",
       "      <td>lead zero string example total length characte...</td>\n",
       "      <td>77</td>\n",
       "      <td>[]</td>\n",
       "    </tr>\n",
       "    <tr>\n",
       "      <th>5</th>\n",
       "      <td>work with conda environments and need some ...</td>\n",
       "      <td>combining conda environment yml with pip requi...</td>\n",
       "      <td>[python, pip, anaconda, conda]</td>\n",
       "      <td>work conda environment pip package pre compile...</td>\n",
       "      <td>163</td>\n",
       "      <td>[python]</td>\n",
       "    </tr>\n",
       "    <tr>\n",
       "      <th>6</th>\n",
       "      <td>does anyone know how   install gitk   mac    ...</td>\n",
       "      <td>install gitk mac</td>\n",
       "      <td>[git, macos, osx-mountain-lion, gitk]</td>\n",
       "      <td>install gitk mac official website gitk come gi...</td>\n",
       "      <td>281</td>\n",
       "      <td>[git, macos]</td>\n",
       "    </tr>\n",
       "    <tr>\n",
       "      <th>7</th>\n",
       "      <td>have   bunch   rpm files     folder      tr...</td>\n",
       "      <td>how ignore conflicts rpm installs</td>\n",
       "      <td>[linux, unix, rpm, aix]</td>\n",
       "      <td>bunch rpm file folder install rpm ivh rpm rpm ...</td>\n",
       "      <td>42</td>\n",
       "      <td>[linux]</td>\n",
       "    </tr>\n",
       "    <tr>\n",
       "      <th>8</th>\n",
       "      <td>the  find  command does completely different ...</td>\n",
       "      <td>how execute bat file from cygwin bash that use...</td>\n",
       "      <td>[batch-file, cygwin]</td>\n",
       "      <td>command completely different window unix windo...</td>\n",
       "      <td>42</td>\n",
       "      <td>[]</td>\n",
       "    </tr>\n",
       "    <tr>\n",
       "      <th>9</th>\n",
       "      <td>test       bit    linux with  gcc           w...</td>\n",
       "      <td>why gcc compiled c program needs eh_frame sect...</td>\n",
       "      <td>[c, assembly, exception-handling, x86, elf]</td>\n",
       "      <td>test bit linux gcc gcc compile c program reade...</td>\n",
       "      <td>57</td>\n",
       "      <td>[c]</td>\n",
       "    </tr>\n",
       "    <tr>\n",
       "      <th>10</th>\n",
       "      <td>far     can tell  anywhere  std  back_inser...</td>\n",
       "      <td>what the benefit std back_inserter over std in...</td>\n",
       "      <td>[c++, vector, stl, iterator, containers]</td>\n",
       "      <td>far tell std back_inserter work stl algorithm ...</td>\n",
       "      <td>63</td>\n",
       "      <td>[c++]</td>\n",
       "    </tr>\n",
       "    <tr>\n",
       "      <th>11</th>\n",
       "      <td>getting the error message when using matplotl...</td>\n",
       "      <td>error initializing libiomp dylib but found lib...</td>\n",
       "      <td>[python, macos, matplotlib]</td>\n",
       "      <td>error message matplotlib error initialize libi...</td>\n",
       "      <td>61</td>\n",
       "      <td>[python, macos]</td>\n",
       "    </tr>\n",
       "    <tr>\n",
       "      <th>12</th>\n",
       "      <td>insert into opt  email  campaign_id  values ...</td>\n",
       "      <td>oracle insert not exists statement</td>\n",
       "      <td>[oracle]</td>\n",
       "      <td>insert opt email campaign_id value mom cox net...</td>\n",
       "      <td>50</td>\n",
       "      <td>[]</td>\n",
       "    </tr>\n",
       "    <tr>\n",
       "      <th>13</th>\n",
       "      <td>want   check   all the values      values c...</td>\n",
       "      <td>how check all values dictionary are</td>\n",
       "      <td>[python, dictionary]</td>\n",
       "      <td>value value correspond key dictionary loop val...</td>\n",
       "      <td>61</td>\n",
       "      <td>[python]</td>\n",
       "    </tr>\n",
       "    <tr>\n",
       "      <th>14</th>\n",
       "      <td>after debugging   website   visual studio    ...</td>\n",
       "      <td>bad request invalid hostname asp net visual st...</td>\n",
       "      <td>[asp.net, iis, port]</td>\n",
       "      <td>debug website visual studio visit localhost vi...</td>\n",
       "      <td>36</td>\n",
       "      <td>[asp.net]</td>\n",
       "    </tr>\n",
       "    <tr>\n",
       "      <th>15</th>\n",
       "      <td>below   have pasted     app   file         us...</td>\n",
       "      <td>angular app takes long time load for first ti...</td>\n",
       "      <td>[typescript, angular]</td>\n",
       "      <td>paste app file angular firebase typescript rea...</td>\n",
       "      <td>42</td>\n",
       "      <td>[typescript, angular]</td>\n",
       "    </tr>\n",
       "    <tr>\n",
       "      <th>16</th>\n",
       "      <td>have   watchdog application    watches   ma...</td>\n",
       "      <td>how signal application without killing linux</td>\n",
       "      <td>[linux, signals]</td>\n",
       "      <td>watchdog application watch main app crash reas...</td>\n",
       "      <td>39</td>\n",
       "      <td>[linux]</td>\n",
       "    </tr>\n",
       "    <tr>\n",
       "      <th>17</th>\n",
       "      <td>vscode   showing errors for jsconfig json   q...</td>\n",
       "      <td>how fix file node_modules dotenv types not fou...</td>\n",
       "      <td>[visual-studio-code, dotenv, vscode-jsconfig]</td>\n",
       "      <td>vscode error jsconfig json file node_module do...</td>\n",
       "      <td>31</td>\n",
       "      <td>[]</td>\n",
       "    </tr>\n",
       "    <tr>\n",
       "      <th>18</th>\n",
       "      <td>don   know why     getting this error and  ...</td>\n",
       "      <td>attempted import error switch not exported fro...</td>\n",
       "      <td>[reactjs]</td>\n",
       "      <td>error answer uninstalled react router dom pack...</td>\n",
       "      <td>137</td>\n",
       "      <td>[reactjs]</td>\n",
       "    </tr>\n",
       "    <tr>\n",
       "      <th>19</th>\n",
       "      <td>when   call this promise  the output does not...</td>\n",
       "      <td>javascript promises curiosity</td>\n",
       "      <td>[javascript, node.js]</td>\n",
       "      <td>promise output match sequence function come ca...</td>\n",
       "      <td>98</td>\n",
       "      <td>[javascript, node.js]</td>\n",
       "    </tr>\n",
       "    <tr>\n",
       "      <th>20</th>\n",
       "      <td>bootstrap    font size defaults   using    ...</td>\n",
       "      <td>how increase font size bootstrap</td>\n",
       "      <td>[html, css, twitter-bootstrap, bootstrap-4]</td>\n",
       "      <td>bootstrap font size default rem font increase ...</td>\n",
       "      <td>44</td>\n",
       "      <td>[html, css, twitter-bootstrap]</td>\n",
       "    </tr>\n",
       "    <tr>\n",
       "      <th>21</th>\n",
       "      <td>have some components like  cricketcomponent...</td>\n",
       "      <td>class using angular features but not decorated...</td>\n",
       "      <td>[angular, typescript]</td>\n",
       "      <td>component cricketcomponent footballcomponent t...</td>\n",
       "      <td>71</td>\n",
       "      <td>[angular, typescript]</td>\n",
       "    </tr>\n",
       "    <tr>\n",
       "      <th>22</th>\n",
       "      <td>been reading around   here    here  and  ...</td>\n",
       "      <td>mysql and jdbc with rewritebatchedstatements true</td>\n",
       "      <td>[java, mysql, sql, jdbc]</td>\n",
       "      <td>reading advantage rewritebatchedstatement rewr...</td>\n",
       "      <td>65</td>\n",
       "      <td>[java, mysql, sql]</td>\n",
       "    </tr>\n",
       "    <tr>\n",
       "      <th>23</th>\n",
       "      <td>you can see  here     have   button that la...</td>\n",
       "      <td>bootstrap how load content modal body via ajax</td>\n",
       "      <td>[ajax, twitter-bootstrap, twitter-bootstrap-3,...</td>\n",
       "      <td>button launch modal set href url button url au...</td>\n",
       "      <td>79</td>\n",
       "      <td>[twitter-bootstrap, twitter-bootstrap-3]</td>\n",
       "    </tr>\n",
       "    <tr>\n",
       "      <th>24</th>\n",
       "      <td>understand both   and lalr are bottom   par...</td>\n",
       "      <td>what the difference between lalr and parsing</td>\n",
       "      <td>[parsing, compiler-construction, context-free-...</td>\n",
       "      <td>lalr parse algorithm difference difference lal...</td>\n",
       "      <td>39</td>\n",
       "      <td>[]</td>\n",
       "    </tr>\n",
       "    <tr>\n",
       "      <th>25</th>\n",
       "      <td>running wordpress with  nginx + php fpm +...</td>\n",
       "      <td>how find php fpm sock</td>\n",
       "      <td>[php, linux, sockets, amazon-web-services, nginx]</td>\n",
       "      <td>run wordpress nginx php fpm apc total cache pa...</td>\n",
       "      <td>39</td>\n",
       "      <td>[php, linux, amazon-web-services]</td>\n",
       "    </tr>\n",
       "    <tr>\n",
       "      <th>26</th>\n",
       "      <td>does rstudio support any automated roxygen te...</td>\n",
       "      <td>can rstudio automatically generate roxygen tem...</td>\n",
       "      <td>[r, roxygen, rstudio, roxygen2]</td>\n",
       "      <td>rstudio support automate roxygen template crea...</td>\n",
       "      <td>42</td>\n",
       "      <td>[r]</td>\n",
       "    </tr>\n",
       "    <tr>\n",
       "      <th>27</th>\n",
       "      <td>would like   list all azure locations via s...</td>\n",
       "      <td>there api list all azure regions</td>\n",
       "      <td>[azure, azure-powershell]</td>\n",
       "      <td>list azure location api generate config file r...</td>\n",
       "      <td>34</td>\n",
       "      <td>[]</td>\n",
       "    </tr>\n",
       "    <tr>\n",
       "      <th>28</th>\n",
       "      <td>the default placement  new  operator   declar...</td>\n",
       "      <td>passing null pointer placement new</td>\n",
       "      <td>[c++, micro-optimization, placement-new, noexc...</td>\n",
       "      <td>default placement operator declare support dyn...</td>\n",
       "      <td>43</td>\n",
       "      <td>[c++]</td>\n",
       "    </tr>\n",
       "    <tr>\n",
       "      <th>29</th>\n",
       "      <td>installing   module globally       npm in...</td>\n",
       "      <td>npm warn message about deprecated package</td>\n",
       "      <td>[node.js, npm]</td>\n",
       "      <td>instal module globally npm install npm npm war...</td>\n",
       "      <td>39</td>\n",
       "      <td>[node.js, npm]</td>\n",
       "    </tr>\n",
       "  </tbody>\n",
       "</table>\n",
       "</div>"
      ],
      "text/plain": [
       "                                                 Body  \\\n",
       "0      have   table   csv format that looks like t...   \n",
       "1    greets      reading that the default behaviou...   \n",
       "2      have installed react using  create react ap...   \n",
       "3        are used   say   every r new user that   ...   \n",
       "4      want   add some leading zeroes     string  ...   \n",
       "5      work with conda environments and need some ...   \n",
       "6    does anyone know how   install gitk   mac    ...   \n",
       "7      have   bunch   rpm files     folder      tr...   \n",
       "8    the  find  command does completely different ...   \n",
       "9    test       bit    linux with  gcc           w...   \n",
       "10     far     can tell  anywhere  std  back_inser...   \n",
       "11   getting the error message when using matplotl...   \n",
       "12    insert into opt  email  campaign_id  values ...   \n",
       "13     want   check   all the values      values c...   \n",
       "14   after debugging   website   visual studio    ...   \n",
       "15   below   have pasted     app   file         us...   \n",
       "16     have   watchdog application    watches   ma...   \n",
       "17   vscode   showing errors for jsconfig json   q...   \n",
       "18     don   know why     getting this error and  ...   \n",
       "19   when   call this promise  the output does not...   \n",
       "20     bootstrap    font size defaults   using    ...   \n",
       "21     have some components like  cricketcomponent...   \n",
       "22       been reading around   here    here  and  ...   \n",
       "23     you can see  here     have   button that la...   \n",
       "24     understand both   and lalr are bottom   par...   \n",
       "25       running wordpress with  nginx + php fpm +...   \n",
       "26   does rstudio support any automated roxygen te...   \n",
       "27     would like   list all azure locations via s...   \n",
       "28   the default placement  new  operator   declar...   \n",
       "29       installing   module globally       npm in...   \n",
       "\n",
       "                                                Title  \\\n",
       "0                         how pivot dataframe pandas    \n",
       "1              uitableview with fixed section headers   \n",
       "2                            load local images react    \n",
       "3             the apply family really not vectorized    \n",
       "4                      add leading zeroes number dart   \n",
       "5   combining conda environment yml with pip requi...   \n",
       "6                                    install gitk mac   \n",
       "7                   how ignore conflicts rpm installs   \n",
       "8   how execute bat file from cygwin bash that use...   \n",
       "9   why gcc compiled c program needs eh_frame sect...   \n",
       "10  what the benefit std back_inserter over std in...   \n",
       "11  error initializing libiomp dylib but found lib...   \n",
       "12                 oracle insert not exists statement   \n",
       "13               how check all values dictionary are    \n",
       "14  bad request invalid hostname asp net visual st...   \n",
       "15   angular app takes long time load for first ti...   \n",
       "16      how signal application without killing linux    \n",
       "17  how fix file node_modules dotenv types not fou...   \n",
       "18  attempted import error switch not exported fro...   \n",
       "19                      javascript promises curiosity   \n",
       "20                  how increase font size bootstrap    \n",
       "21  class using angular features but not decorated...   \n",
       "22  mysql and jdbc with rewritebatchedstatements true   \n",
       "23    bootstrap how load content modal body via ajax    \n",
       "24      what the difference between lalr and parsing    \n",
       "25                             how find php fpm sock    \n",
       "26  can rstudio automatically generate roxygen tem...   \n",
       "27                  there api list all azure regions    \n",
       "28                 passing null pointer placement new   \n",
       "29          npm warn message about deprecated package   \n",
       "\n",
       "                                                 Tags  \\\n",
       "0              [python, pandas, dataframe, transpose]   \n",
       "1                     [ios, objective-c, uitableview]   \n",
       "2                             [image, reactjs, local]   \n",
       "3       [r, performance, loops, vectorization, apply]   \n",
       "4                                              [dart]   \n",
       "5                      [python, pip, anaconda, conda]   \n",
       "6               [git, macos, osx-mountain-lion, gitk]   \n",
       "7                             [linux, unix, rpm, aix]   \n",
       "8                                [batch-file, cygwin]   \n",
       "9         [c, assembly, exception-handling, x86, elf]   \n",
       "10           [c++, vector, stl, iterator, containers]   \n",
       "11                        [python, macos, matplotlib]   \n",
       "12                                           [oracle]   \n",
       "13                               [python, dictionary]   \n",
       "14                               [asp.net, iis, port]   \n",
       "15                              [typescript, angular]   \n",
       "16                                   [linux, signals]   \n",
       "17      [visual-studio-code, dotenv, vscode-jsconfig]   \n",
       "18                                          [reactjs]   \n",
       "19                              [javascript, node.js]   \n",
       "20        [html, css, twitter-bootstrap, bootstrap-4]   \n",
       "21                              [angular, typescript]   \n",
       "22                           [java, mysql, sql, jdbc]   \n",
       "23  [ajax, twitter-bootstrap, twitter-bootstrap-3,...   \n",
       "24  [parsing, compiler-construction, context-free-...   \n",
       "25  [php, linux, sockets, amazon-web-services, nginx]   \n",
       "26                    [r, roxygen, rstudio, roxygen2]   \n",
       "27                          [azure, azure-powershell]   \n",
       "28  [c++, micro-optimization, placement-new, noexc...   \n",
       "29                                     [node.js, npm]   \n",
       "\n",
       "                                    Preprocessed_text  Score  \\\n",
       "0   table csv format transpose table value indicat...     46   \n",
       "1   greet read default behaviour uitableview pin s...    111   \n",
       "2   instal react create react app instal fine load...     70   \n",
       "3   r user apply vectorize patrick burn r inferno ...    144   \n",
       "4   lead zero string example total length characte...     77   \n",
       "5   work conda environment pip package pre compile...    163   \n",
       "6   install gitk mac official website gitk come gi...    281   \n",
       "7   bunch rpm file folder install rpm ivh rpm rpm ...     42   \n",
       "8   command completely different window unix windo...     42   \n",
       "9   test bit linux gcc gcc compile c program reade...     57   \n",
       "10  far tell std back_inserter work stl algorithm ...     63   \n",
       "11  error message matplotlib error initialize libi...     61   \n",
       "12  insert opt email campaign_id value mom cox net...     50   \n",
       "13  value value correspond key dictionary loop val...     61   \n",
       "14  debug website visual studio visit localhost vi...     36   \n",
       "15  paste app file angular firebase typescript rea...     42   \n",
       "16  watchdog application watch main app crash reas...     39   \n",
       "17  vscode error jsconfig json file node_module do...     31   \n",
       "18  error answer uninstalled react router dom pack...    137   \n",
       "19  promise output match sequence function come ca...     98   \n",
       "20  bootstrap font size default rem font increase ...     44   \n",
       "21  component cricketcomponent footballcomponent t...     71   \n",
       "22  reading advantage rewritebatchedstatement rewr...     65   \n",
       "23  button launch modal set href url button url au...     79   \n",
       "24  lalr parse algorithm difference difference lal...     39   \n",
       "25  run wordpress nginx php fpm apc total cache pa...     39   \n",
       "26  rstudio support automate roxygen template crea...     42   \n",
       "27  list azure location api generate config file r...     34   \n",
       "28  default placement operator declare support dyn...     43   \n",
       "29  instal module globally npm install npm npm war...     39   \n",
       "\n",
       "                                    new_tags  \n",
       "0                [python, pandas, dataframe]  \n",
       "1                         [ios, objective-c]  \n",
       "2                                  [reactjs]  \n",
       "3                           [r, performance]  \n",
       "4                                         []  \n",
       "5                                   [python]  \n",
       "6                               [git, macos]  \n",
       "7                                    [linux]  \n",
       "8                                         []  \n",
       "9                                        [c]  \n",
       "10                                     [c++]  \n",
       "11                           [python, macos]  \n",
       "12                                        []  \n",
       "13                                  [python]  \n",
       "14                                 [asp.net]  \n",
       "15                     [typescript, angular]  \n",
       "16                                   [linux]  \n",
       "17                                        []  \n",
       "18                                 [reactjs]  \n",
       "19                     [javascript, node.js]  \n",
       "20            [html, css, twitter-bootstrap]  \n",
       "21                     [angular, typescript]  \n",
       "22                        [java, mysql, sql]  \n",
       "23  [twitter-bootstrap, twitter-bootstrap-3]  \n",
       "24                                        []  \n",
       "25         [php, linux, amazon-web-services]  \n",
       "26                                       [r]  \n",
       "27                                        []  \n",
       "28                                     [c++]  \n",
       "29                            [node.js, npm]  "
      ]
     },
     "execution_count": 487,
     "metadata": {},
     "output_type": "execute_result"
    }
   ],
   "source": [
    "df.head(30)"
   ]
  },
  {
   "cell_type": "code",
   "execution_count": 488,
   "id": "09f77a4f",
   "metadata": {
    "scrolled": false
   },
   "outputs": [],
   "source": [
    "# Remove rows with missing new tags\n",
    "df = df[df['new_tags'].apply(lambda x: len(x) != 0)]\n",
    "df.reset_index(inplace=True, drop=True)"
   ]
  },
  {
   "cell_type": "code",
   "execution_count": 489,
   "id": "b2aa45a5",
   "metadata": {},
   "outputs": [],
   "source": [
    "# Preprocess text data\n",
    "X=df.Preprocessed_text.values.tolist()\n",
    "y = df.new_tags\n",
    "\n",
    "# Train test split\n",
    "X_train, X_test, y_train, y_test = train_test_split(X, y, random_state=0, test_size=0.2)"
   ]
  },
  {
   "cell_type": "code",
   "execution_count": 490,
   "id": "94136696",
   "metadata": {},
   "outputs": [],
   "source": [
    "# Use tf-idf\n",
    "vectorizer = TfidfVectorizer(min_df = 0.005, max_df=0.90,sublinear_tf=True)\n",
    "vectorised_train_documents = vectorizer.fit_transform(X_train).toarray()\n",
    "vectorised_test_documents = vectorizer.transform(X_test).toarray()"
   ]
  },
  {
   "cell_type": "code",
   "execution_count": 491,
   "id": "b5b33b07",
   "metadata": {},
   "outputs": [],
   "source": [
    "#Use multilabelbinarizer on targets\n",
    "from sklearn.preprocessing import MultiLabelBinarizer\n",
    "mlb = MultiLabelBinarizer()\n",
    "train_labels = mlb.fit_transform(y_train)\n",
    "test_labels = mlb.transform(y_test)"
   ]
  },
  {
   "cell_type": "markdown",
   "id": "280d7338",
   "metadata": {},
   "source": [
    "#### Use multi-label classifiers"
   ]
  },
  {
   "cell_type": "code",
   "execution_count": 492,
   "id": "db287aea",
   "metadata": {},
   "outputs": [],
   "source": [
    "#KNN multi label classifier\n",
    "from sklearn.neighbors import KNeighborsClassifier"
   ]
  },
  {
   "cell_type": "code",
   "execution_count": 493,
   "id": "346cf9a8",
   "metadata": {},
   "outputs": [],
   "source": [
    "from sklearn.model_selection import GridSearchCV"
   ]
  },
  {
   "cell_type": "code",
   "execution_count": 494,
   "id": "baecd42b",
   "metadata": {},
   "outputs": [],
   "source": [
    "param_grid = {'n_neighbors':np.arange(1,21)}"
   ]
  },
  {
   "cell_type": "code",
   "execution_count": 495,
   "id": "a2bc9a61",
   "metadata": {},
   "outputs": [],
   "source": [
    "score = 'accuracy'"
   ]
  },
  {
   "cell_type": "code",
   "execution_count": 496,
   "id": "9b093c5d",
   "metadata": {},
   "outputs": [
    {
     "data": {
      "text/plain": [
       "GridSearchCV(cv=5, estimator=KNeighborsClassifier(),\n",
       "             param_grid={'n_neighbors': array([ 1,  2,  3,  4,  5,  6,  7,  8,  9, 10, 11, 12, 13, 14, 15, 16, 17,\n",
       "       18, 19, 20])},\n",
       "             scoring='accuracy')"
      ]
     },
     "execution_count": 496,
     "metadata": {},
     "output_type": "execute_result"
    }
   ],
   "source": [
    "clf = GridSearchCV(KNeighborsClassifier(),\n",
    "                   param_grid,     \n",
    "                   cv=5,           \n",
    "                   scoring=score)   \n",
    "\n",
    "clf.fit(vectorised_train_documents, train_labels)"
   ]
  },
  {
   "cell_type": "code",
   "execution_count": 497,
   "id": "b5a82275",
   "metadata": {},
   "outputs": [
    {
     "name": "stdout",
     "output_type": "stream",
     "text": [
      "{'n_neighbors': 3}\n"
     ]
    }
   ],
   "source": [
    "print(clf.best_params_)"
   ]
  },
  {
   "cell_type": "code",
   "execution_count": 498,
   "id": "9a6028d9",
   "metadata": {},
   "outputs": [],
   "source": [
    "#prediction on test set\n",
    "knnPredictions = clf.predict(vectorised_test_documents)"
   ]
  },
  {
   "cell_type": "code",
   "execution_count": 499,
   "id": "9286b985",
   "metadata": {},
   "outputs": [
    {
     "data": {
      "text/plain": [
       "array([[0, 0, 0, ..., 0, 0, 0],\n",
       "       [0, 0, 0, ..., 0, 0, 0],\n",
       "       [0, 0, 0, ..., 0, 0, 0],\n",
       "       ...,\n",
       "       [0, 0, 0, ..., 0, 0, 0],\n",
       "       [0, 0, 0, ..., 0, 0, 0],\n",
       "       [0, 0, 0, ..., 0, 0, 0]])"
      ]
     },
     "execution_count": 499,
     "metadata": {},
     "output_type": "execute_result"
    }
   ],
   "source": [
    "knnPredictions"
   ]
  },
  {
   "cell_type": "code",
   "execution_count": 500,
   "id": "5e35a8e1",
   "metadata": {},
   "outputs": [
    {
     "data": {
      "text/plain": [
       "[('css',),\n",
       " ('r',),\n",
       " ('python',),\n",
       " ('python',),\n",
       " ('android',),\n",
       " ('java',),\n",
       " ('android',),\n",
       " ('c++',),\n",
       " ('java',),\n",
       " ('github',)]"
      ]
     },
     "execution_count": 500,
     "metadata": {},
     "output_type": "execute_result"
    }
   ],
   "source": [
    "mlb.inverse_transform(knnPredictions)[:10]"
   ]
  },
  {
   "cell_type": "code",
   "execution_count": 501,
   "id": "94eb0c05",
   "metadata": {},
   "outputs": [],
   "source": [
    "dg=pd.DataFrame(index=['KNN'], columns=[])"
   ]
  },
  {
   "cell_type": "code",
   "execution_count": 502,
   "id": "01f0fa36",
   "metadata": {},
   "outputs": [],
   "source": [
    "from sklearn.metrics import accuracy_score, f1_score"
   ]
  },
  {
   "cell_type": "code",
   "execution_count": 503,
   "id": "2c536b73",
   "metadata": {},
   "outputs": [],
   "source": [
    "def input_scores(model_name, prediction, dg):\n",
    "    '''add model scores in a dataframe dg'''\n",
    "    dg.loc[model_name, 'macro_f1'] = f1_score(test_labels, prediction, average='macro')\n",
    "    dg.loc[model_name, 'micro_f1'] = f1_score(test_labels, prediction, average='micro')\n",
    "    dg.loc[model_name, 'accuracy'] = accuracy_score(prediction,test_labels)\n",
    "    return dg"
   ]
  },
  {
   "cell_type": "code",
   "execution_count": 504,
   "id": "ec92c49c",
   "metadata": {},
   "outputs": [],
   "source": [
    "dg = input_scores('KNN', knnPredictions, dg)"
   ]
  },
  {
   "cell_type": "code",
   "execution_count": 505,
   "id": "a658531e",
   "metadata": {},
   "outputs": [
    {
     "data": {
      "text/html": [
       "<div>\n",
       "<style scoped>\n",
       "    .dataframe tbody tr th:only-of-type {\n",
       "        vertical-align: middle;\n",
       "    }\n",
       "\n",
       "    .dataframe tbody tr th {\n",
       "        vertical-align: top;\n",
       "    }\n",
       "\n",
       "    .dataframe thead th {\n",
       "        text-align: right;\n",
       "    }\n",
       "</style>\n",
       "<table border=\"1\" class=\"dataframe\">\n",
       "  <thead>\n",
       "    <tr style=\"text-align: right;\">\n",
       "      <th></th>\n",
       "      <th>macro_f1</th>\n",
       "      <th>micro_f1</th>\n",
       "      <th>accuracy</th>\n",
       "    </tr>\n",
       "  </thead>\n",
       "  <tbody>\n",
       "    <tr>\n",
       "      <th>KNN</th>\n",
       "      <td>0.408704</td>\n",
       "      <td>0.507636</td>\n",
       "      <td>0.232472</td>\n",
       "    </tr>\n",
       "  </tbody>\n",
       "</table>\n",
       "</div>"
      ],
      "text/plain": [
       "     macro_f1  micro_f1  accuracy\n",
       "KNN  0.408704  0.507636  0.232472"
      ]
     },
     "execution_count": 505,
     "metadata": {},
     "output_type": "execute_result"
    }
   ],
   "source": [
    "dg"
   ]
  },
  {
   "cell_type": "markdown",
   "id": "823fd541",
   "metadata": {},
   "source": [
    "#### Problem transformation : use binary classifiers and binary relevance"
   ]
  },
  {
   "cell_type": "code",
   "execution_count": 506,
   "id": "e3bea85a",
   "metadata": {},
   "outputs": [],
   "source": [
    "from skmultilearn.problem_transform import BinaryRelevance"
   ]
  },
  {
   "cell_type": "code",
   "execution_count": 507,
   "id": "4d086b60",
   "metadata": {},
   "outputs": [],
   "source": [
    "#Naive Bayes \n",
    "\n",
    "from sklearn.naive_bayes import MultinomialNB\n",
    "\n",
    "nbClassifier = BinaryRelevance(MultinomialNB())\n",
    "nbClassifier.fit(vectorised_train_documents, train_labels)\n",
    "nbPreds = nbClassifier.predict(vectorised_test_documents)"
   ]
  },
  {
   "cell_type": "code",
   "execution_count": 508,
   "id": "c92a31f2",
   "metadata": {},
   "outputs": [],
   "source": [
    "dg = input_scores('Naive Bayes', nbPreds, dg)"
   ]
  },
  {
   "cell_type": "code",
   "execution_count": 509,
   "id": "76b15d11",
   "metadata": {},
   "outputs": [],
   "source": [
    "# Support vector classification\n",
    "\n",
    "from sklearn.svm import LinearSVC\n",
    "\n",
    "svmClassifier = BinaryRelevance(LinearSVC())\n",
    "svmClassifier.fit(vectorised_train_documents, train_labels)\n",
    "svmPreds = svmClassifier.predict(vectorised_test_documents)"
   ]
  },
  {
   "cell_type": "code",
   "execution_count": 510,
   "id": "95137671",
   "metadata": {},
   "outputs": [],
   "source": [
    "dg = input_scores('Linear SVC', svmPreds, dg)"
   ]
  },
  {
   "cell_type": "code",
   "execution_count": 511,
   "id": "6ca1f8d3",
   "metadata": {},
   "outputs": [],
   "source": [
    "#too long\n",
    "#svmClassifier = BinaryRelevance(SVC(kernel='rbf'))\n",
    "#svmClassifier.fit(vectorised_train_documents, train_labels)\n",
    "#svmPreds = svmClassifier.predict(vectorised_test_documents)\n",
    "#print(accuracy_score(svmPreds,test_labels))"
   ]
  },
  {
   "cell_type": "code",
   "execution_count": 512,
   "id": "0274e72d",
   "metadata": {
    "scrolled": true
   },
   "outputs": [
    {
     "data": {
      "text/html": [
       "<div>\n",
       "<style scoped>\n",
       "    .dataframe tbody tr th:only-of-type {\n",
       "        vertical-align: middle;\n",
       "    }\n",
       "\n",
       "    .dataframe tbody tr th {\n",
       "        vertical-align: top;\n",
       "    }\n",
       "\n",
       "    .dataframe thead th {\n",
       "        text-align: right;\n",
       "    }\n",
       "</style>\n",
       "<table border=\"1\" class=\"dataframe\">\n",
       "  <thead>\n",
       "    <tr style=\"text-align: right;\">\n",
       "      <th></th>\n",
       "      <th>macro_f1</th>\n",
       "      <th>micro_f1</th>\n",
       "      <th>accuracy</th>\n",
       "    </tr>\n",
       "  </thead>\n",
       "  <tbody>\n",
       "    <tr>\n",
       "      <th>KNN</th>\n",
       "      <td>0.408704</td>\n",
       "      <td>0.507636</td>\n",
       "      <td>0.232472</td>\n",
       "    </tr>\n",
       "    <tr>\n",
       "      <th>Naive Bayes</th>\n",
       "      <td>0.054271</td>\n",
       "      <td>0.215992</td>\n",
       "      <td>0.095941</td>\n",
       "    </tr>\n",
       "    <tr>\n",
       "      <th>Linear SVC</th>\n",
       "      <td>0.503149</td>\n",
       "      <td>0.625637</td>\n",
       "      <td>0.333026</td>\n",
       "    </tr>\n",
       "  </tbody>\n",
       "</table>\n",
       "</div>"
      ],
      "text/plain": [
       "             macro_f1  micro_f1  accuracy\n",
       "KNN          0.408704  0.507636  0.232472\n",
       "Naive Bayes  0.054271  0.215992  0.095941\n",
       "Linear SVC   0.503149  0.625637  0.333026"
      ]
     },
     "execution_count": 512,
     "metadata": {},
     "output_type": "execute_result"
    }
   ],
   "source": [
    "dg"
   ]
  },
  {
   "cell_type": "markdown",
   "id": "c2ffa6a4",
   "metadata": {},
   "source": [
    "We choose lienar svc model."
   ]
  },
  {
   "cell_type": "code",
   "execution_count": 513,
   "id": "3e657152",
   "metadata": {},
   "outputs": [],
   "source": [
    "import joblib"
   ]
  },
  {
   "cell_type": "code",
   "execution_count": 514,
   "id": "a59a836c",
   "metadata": {},
   "outputs": [],
   "source": [
    "def predict_multi_labels(text):\n",
    "    '''prediction with svm model'''\n",
    "    vect = vectorizer.transform([text]).toarray()\n",
    "    return mlb.inverse_transform(svmClassifier.predict(vect))\n",
    "    "
   ]
  },
  {
   "cell_type": "code",
   "execution_count": 515,
   "id": "cd843a0f",
   "metadata": {
    "scrolled": true
   },
   "outputs": [
    {
     "name": "stdout",
     "output_type": "stream",
     "text": [
      "[('python',)]\n",
      "0.059585400000287336\n"
     ]
    }
   ],
   "source": [
    "start_time = timeit.default_timer()\n",
    "\n",
    "a = predict_multi_labels(text1)\n",
    "elapsed = timeit.default_timer() - start_time\n",
    "\n",
    "print(a)\n",
    "print(elapsed)"
   ]
  },
  {
   "cell_type": "code",
   "execution_count": 516,
   "id": "f21a9dff",
   "metadata": {},
   "outputs": [
    {
     "data": {
      "text/plain": [
       "[('python',)]"
      ]
     },
     "execution_count": 516,
     "metadata": {},
     "output_type": "execute_result"
    }
   ],
   "source": [
    "predict_multi_labels(text2)"
   ]
  },
  {
   "cell_type": "code",
   "execution_count": 517,
   "id": "583e0a34",
   "metadata": {},
   "outputs": [
    {
     "data": {
      "text/plain": [
       "[('c', 'c++')]"
      ]
     },
     "execution_count": 517,
     "metadata": {},
     "output_type": "execute_result"
    }
   ],
   "source": [
    "predict_multi_labels(text3)"
   ]
  },
  {
   "cell_type": "code",
   "execution_count": null,
   "id": "40477df3",
   "metadata": {},
   "outputs": [],
   "source": []
  },
  {
   "cell_type": "markdown",
   "id": "4381d613",
   "metadata": {},
   "source": [
    "#### PCA with multilabel classifier"
   ]
  },
  {
   "cell_type": "code",
   "execution_count": 518,
   "id": "743ec340",
   "metadata": {},
   "outputs": [],
   "source": [
    "# Apply PCA before SVC model\n",
    "from sklearn import decomposition\n",
    "\n",
    "pca = decomposition.PCA(n_components=500)\n",
    "pca.fit(vectorised_train_documents)\n",
    "vectorised_train_documents = pca.transform(vectorised_train_documents)\n",
    "vectorised_test_documents = pca.transform(vectorised_test_documents)\n"
   ]
  },
  {
   "cell_type": "code",
   "execution_count": 519,
   "id": "101d2253",
   "metadata": {},
   "outputs": [
    {
     "data": {
      "text/plain": [
       "BinaryRelevance(classifier=LinearSVC(), require_dense=[True, True])"
      ]
     },
     "execution_count": 519,
     "metadata": {},
     "output_type": "execute_result"
    }
   ],
   "source": [
    "svmClassifier2 = BinaryRelevance(LinearSVC())\n",
    "svmClassifier2.fit(vectorised_train_documents, train_labels)"
   ]
  },
  {
   "cell_type": "code",
   "execution_count": 520,
   "id": "310f8781",
   "metadata": {},
   "outputs": [],
   "source": [
    "svmPreds2 = svmClassifier2.predict(vectorised_test_documents)"
   ]
  },
  {
   "cell_type": "code",
   "execution_count": 521,
   "id": "34853913",
   "metadata": {},
   "outputs": [],
   "source": [
    "dg = input_scores('(PCA)Linear SVC', svmPreds2, dg)"
   ]
  },
  {
   "cell_type": "code",
   "execution_count": 522,
   "id": "1b764b4b",
   "metadata": {},
   "outputs": [
    {
     "data": {
      "text/html": [
       "<div>\n",
       "<style scoped>\n",
       "    .dataframe tbody tr th:only-of-type {\n",
       "        vertical-align: middle;\n",
       "    }\n",
       "\n",
       "    .dataframe tbody tr th {\n",
       "        vertical-align: top;\n",
       "    }\n",
       "\n",
       "    .dataframe thead th {\n",
       "        text-align: right;\n",
       "    }\n",
       "</style>\n",
       "<table border=\"1\" class=\"dataframe\">\n",
       "  <thead>\n",
       "    <tr style=\"text-align: right;\">\n",
       "      <th></th>\n",
       "      <th>macro_f1</th>\n",
       "      <th>micro_f1</th>\n",
       "      <th>accuracy</th>\n",
       "    </tr>\n",
       "  </thead>\n",
       "  <tbody>\n",
       "    <tr>\n",
       "      <th>KNN</th>\n",
       "      <td>0.408704</td>\n",
       "      <td>0.507636</td>\n",
       "      <td>0.232472</td>\n",
       "    </tr>\n",
       "    <tr>\n",
       "      <th>Naive Bayes</th>\n",
       "      <td>0.054271</td>\n",
       "      <td>0.215992</td>\n",
       "      <td>0.095941</td>\n",
       "    </tr>\n",
       "    <tr>\n",
       "      <th>Linear SVC</th>\n",
       "      <td>0.503149</td>\n",
       "      <td>0.625637</td>\n",
       "      <td>0.333026</td>\n",
       "    </tr>\n",
       "    <tr>\n",
       "      <th>(PCA)Linear SVC</th>\n",
       "      <td>0.468397</td>\n",
       "      <td>0.616121</td>\n",
       "      <td>0.333026</td>\n",
       "    </tr>\n",
       "  </tbody>\n",
       "</table>\n",
       "</div>"
      ],
      "text/plain": [
       "                 macro_f1  micro_f1  accuracy\n",
       "KNN              0.408704  0.507636  0.232472\n",
       "Naive Bayes      0.054271  0.215992  0.095941\n",
       "Linear SVC       0.503149  0.625637  0.333026\n",
       "(PCA)Linear SVC  0.468397  0.616121  0.333026"
      ]
     },
     "execution_count": 522,
     "metadata": {},
     "output_type": "execute_result"
    }
   ],
   "source": [
    "dg"
   ]
  },
  {
   "cell_type": "code",
   "execution_count": 523,
   "id": "ed2556ea",
   "metadata": {},
   "outputs": [
    {
     "name": "stdout",
     "output_type": "stream",
     "text": [
      "[('python',)]\n",
      "0.051596999999674154\n"
     ]
    }
   ],
   "source": [
    "vect = vectorizer.transform([text1]).toarray()\n",
    "vect = pca.transform(vect)\n",
    "\n",
    "start_time = timeit.default_timer()\n",
    "\n",
    "a = mlb.inverse_transform(svmClassifier2.predict(vect))\n",
    "\n",
    "elapsed = timeit.default_timer() - start_time\n",
    "print(a)\n",
    "print(elapsed)"
   ]
  },
  {
   "cell_type": "code",
   "execution_count": 524,
   "id": "d11a2602",
   "metadata": {},
   "outputs": [
    {
     "name": "stdout",
     "output_type": "stream",
     "text": [
      "[('python',)]\n",
      "0.05931349999991653\n"
     ]
    }
   ],
   "source": [
    "vect = vectorizer.transform([text1]).toarray()\n",
    "\n",
    "start_time = timeit.default_timer()\n",
    "\n",
    "a = mlb.inverse_transform(svmClassifier.predict(vect))\n",
    "\n",
    "elapsed = timeit.default_timer() - start_time\n",
    "print(a)\n",
    "print(elapsed)"
   ]
  },
  {
   "cell_type": "code",
   "execution_count": 525,
   "id": "87a946e3",
   "metadata": {},
   "outputs": [],
   "source": [
    "def predict_multi_labels2(text):\n",
    "    '''prediction with svm model, applying PCA to text'''\n",
    "    vect = vectorizer.transform([text]).toarray()\n",
    "    pca.transform(vect)\n",
    "    return mlb.inverse_transform(svmClassifier.predict(vect))"
   ]
  },
  {
   "cell_type": "code",
   "execution_count": 526,
   "id": "c47455e4",
   "metadata": {},
   "outputs": [
    {
     "data": {
      "text/plain": [
       "[('python',)]"
      ]
     },
     "execution_count": 526,
     "metadata": {},
     "output_type": "execute_result"
    }
   ],
   "source": [
    "predict_multi_labels2(text1)"
   ]
  },
  {
   "cell_type": "code",
   "execution_count": 527,
   "id": "9d93fd1e",
   "metadata": {},
   "outputs": [
    {
     "data": {
      "text/plain": [
       "[('python',)]"
      ]
     },
     "execution_count": 527,
     "metadata": {},
     "output_type": "execute_result"
    }
   ],
   "source": [
    "predict_multi_labels2(text2)"
   ]
  },
  {
   "cell_type": "code",
   "execution_count": 528,
   "id": "3149c116",
   "metadata": {},
   "outputs": [
    {
     "data": {
      "text/plain": [
       "[('c', 'c++')]"
      ]
     },
     "execution_count": 528,
     "metadata": {},
     "output_type": "execute_result"
    }
   ],
   "source": [
    "predict_multi_labels2(text3)"
   ]
  },
  {
   "cell_type": "code",
   "execution_count": null,
   "id": "edc59ac8",
   "metadata": {},
   "outputs": [],
   "source": []
  },
  {
   "cell_type": "code",
   "execution_count": 529,
   "id": "e9b62389",
   "metadata": {},
   "outputs": [],
   "source": [
    "d_test['Multi_label_classfication'] = d_test['Preprocessed_text'].apply(predict_multi_labels2)"
   ]
  },
  {
   "cell_type": "code",
   "execution_count": 530,
   "id": "d945213d",
   "metadata": {},
   "outputs": [
    {
     "data": {
      "text/html": [
       "<div>\n",
       "<style scoped>\n",
       "    .dataframe tbody tr th:only-of-type {\n",
       "        vertical-align: middle;\n",
       "    }\n",
       "\n",
       "    .dataframe tbody tr th {\n",
       "        vertical-align: top;\n",
       "    }\n",
       "\n",
       "    .dataframe thead th {\n",
       "        text-align: right;\n",
       "    }\n",
       "</style>\n",
       "<table border=\"1\" class=\"dataframe\">\n",
       "  <thead>\n",
       "    <tr style=\"text-align: right;\">\n",
       "      <th></th>\n",
       "      <th>Body</th>\n",
       "      <th>Title</th>\n",
       "      <th>Tags</th>\n",
       "      <th>Preprocessed_text</th>\n",
       "      <th>Score</th>\n",
       "      <th>LDA_prediction</th>\n",
       "      <th>LDA_prediction_tags</th>\n",
       "      <th>NMF_prediction</th>\n",
       "      <th>new_tags</th>\n",
       "      <th>Multi_label_classfication</th>\n",
       "    </tr>\n",
       "  </thead>\n",
       "  <tbody>\n",
       "    <tr>\n",
       "      <th>0</th>\n",
       "      <td>fairly new   spring   excuse     this    ...</td>\n",
       "      <td>spring could not resolve placeholder</td>\n",
       "      <td>[java, spring]</td>\n",
       "      <td>fairly spring excuse dumb launch program error...</td>\n",
       "      <td>30</td>\n",
       "      <td>7</td>\n",
       "      <td>[string, create, int, file, class, return, val...</td>\n",
       "      <td>[final, spring, create, class, return, propert...</td>\n",
       "      <td>[java, spring]</td>\n",
       "      <td>[(java, spring)]</td>\n",
       "    </tr>\n",
       "    <tr>\n",
       "      <th>1</th>\n",
       "      <td>now writing   extractor for   basic virtu...</td>\n",
       "      <td>how create directories automatically using ofs...</td>\n",
       "      <td>[c++, filestream]</td>\n",
       "      <td>write extractor basic virtual file archive com...</td>\n",
       "      <td>30</td>\n",
       "      <td>16</td>\n",
       "      <td>[color, unsigned]</td>\n",
       "      <td>[txt, create, save, file, path, directory, del...</td>\n",
       "      <td>[c++]</td>\n",
       "      <td>[()]</td>\n",
       "    </tr>\n",
       "    <tr>\n",
       "      <th>2</th>\n",
       "      <td>this     pseudo followup   this question   wh...</td>\n",
       "      <td>there way check column date r</td>\n",
       "      <td>[r]</td>\n",
       "      <td>pseudo followup ggplot graph percentage datum ...</td>\n",
       "      <td>30</td>\n",
       "      <td>11</td>\n",
       "      <td>[app, type, input, set, file, datum]</td>\n",
       "      <td>[input, convert, date, return, format]</td>\n",
       "      <td>[r]</td>\n",
       "      <td>[()]</td>\n",
       "    </tr>\n",
       "    <tr>\n",
       "      <th>3</th>\n",
       "      <td>suppose   have these tables     create table ...</td>\n",
       "      <td>left join with condition</td>\n",
       "      <td>[mysql, sql, tsql, left-join]</td>\n",
       "      <td>suppose table create table bug int primary key...</td>\n",
       "      <td>30</td>\n",
       "      <td>7</td>\n",
       "      <td>[string, create, result, int, return, value, w...</td>\n",
       "      <td>[create, join, insert, result, table, key, var...</td>\n",
       "      <td>[mysql, sql]</td>\n",
       "      <td>[()]</td>\n",
       "    </tr>\n",
       "    <tr>\n",
       "      <th>4</th>\n",
       "      <td>back   the old days    used   write select st...</td>\n",
       "      <td>correct way select from two tables sql server ...</td>\n",
       "      <td>[sql, sql-server, sql-server-2012]</td>\n",
       "      <td>old day write select statement select table co...</td>\n",
       "      <td>30</td>\n",
       "      <td>7</td>\n",
       "      <td>[type, string, create, example, list, datum, m...</td>\n",
       "      <td>[create, join, statement, table, datum, field,...</td>\n",
       "      <td>[sql, sql-server]</td>\n",
       "      <td>[(sql, sql-server)]</td>\n",
       "    </tr>\n",
       "  </tbody>\n",
       "</table>\n",
       "</div>"
      ],
      "text/plain": [
       "                                                Body  \\\n",
       "0       fairly new   spring   excuse     this    ...   \n",
       "1       now writing   extractor for   basic virtu...   \n",
       "2   this     pseudo followup   this question   wh...   \n",
       "3   suppose   have these tables     create table ...   \n",
       "4   back   the old days    used   write select st...   \n",
       "\n",
       "                                               Title  \\\n",
       "0               spring could not resolve placeholder   \n",
       "1  how create directories automatically using ofs...   \n",
       "2                     there way check column date r    \n",
       "3                           left join with condition   \n",
       "4  correct way select from two tables sql server ...   \n",
       "\n",
       "                                 Tags  \\\n",
       "0                      [java, spring]   \n",
       "1                   [c++, filestream]   \n",
       "2                                 [r]   \n",
       "3       [mysql, sql, tsql, left-join]   \n",
       "4  [sql, sql-server, sql-server-2012]   \n",
       "\n",
       "                                   Preprocessed_text  Score  LDA_prediction  \\\n",
       "0  fairly spring excuse dumb launch program error...     30               7   \n",
       "1  write extractor basic virtual file archive com...     30              16   \n",
       "2  pseudo followup ggplot graph percentage datum ...     30              11   \n",
       "3  suppose table create table bug int primary key...     30               7   \n",
       "4  old day write select statement select table co...     30               7   \n",
       "\n",
       "                                 LDA_prediction_tags  \\\n",
       "0  [string, create, int, file, class, return, val...   \n",
       "1                                  [color, unsigned]   \n",
       "2               [app, type, input, set, file, datum]   \n",
       "3  [string, create, result, int, return, value, w...   \n",
       "4  [type, string, create, example, list, datum, m...   \n",
       "\n",
       "                                      NMF_prediction           new_tags  \\\n",
       "0  [final, spring, create, class, return, propert...     [java, spring]   \n",
       "1  [txt, create, save, file, path, directory, del...              [c++]   \n",
       "2             [input, convert, date, return, format]                [r]   \n",
       "3  [create, join, insert, result, table, key, var...       [mysql, sql]   \n",
       "4  [create, join, statement, table, datum, field,...  [sql, sql-server]   \n",
       "\n",
       "  Multi_label_classfication  \n",
       "0          [(java, spring)]  \n",
       "1                      [()]  \n",
       "2                      [()]  \n",
       "3                      [()]  \n",
       "4       [(sql, sql-server)]  "
      ]
     },
     "execution_count": 530,
     "metadata": {},
     "output_type": "execute_result"
    }
   ],
   "source": [
    "d_test.head()"
   ]
  },
  {
   "cell_type": "code",
   "execution_count": null,
   "id": "1f27f618",
   "metadata": {},
   "outputs": [],
   "source": []
  },
  {
   "cell_type": "code",
   "execution_count": null,
   "id": "a5d2862f",
   "metadata": {},
   "outputs": [],
   "source": []
  },
  {
   "cell_type": "code",
   "execution_count": null,
   "id": "aa6ca2da",
   "metadata": {},
   "outputs": [],
   "source": []
  },
  {
   "cell_type": "code",
   "execution_count": 532,
   "id": "ad133ac5",
   "metadata": {},
   "outputs": [],
   "source": [
    "d_test[['Body','Title','Tags','LDA_prediction_tags', 'NMF_prediction', 'Multi_label_classfication', 'new_tags']].to_excel('./data/test.xlsx')"
   ]
  },
  {
   "cell_type": "code",
   "execution_count": null,
   "id": "15b321e3",
   "metadata": {},
   "outputs": [],
   "source": []
  }
 ],
 "metadata": {
  "kernelspec": {
   "display_name": "Python 3 (ipykernel)",
   "language": "python",
   "name": "python3"
  },
  "language_info": {
   "codemirror_mode": {
    "name": "ipython",
    "version": 3
   },
   "file_extension": ".py",
   "mimetype": "text/x-python",
   "name": "python",
   "nbconvert_exporter": "python",
   "pygments_lexer": "ipython3",
   "version": "3.8.3"
  }
 },
 "nbformat": 4,
 "nbformat_minor": 5
}
