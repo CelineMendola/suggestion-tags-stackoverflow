{
 "cells": [
  {
   "cell_type": "code",
   "execution_count": 1,
   "id": "cc0bbd30",
   "metadata": {},
   "outputs": [],
   "source": [
    "import pandas as pd\n",
    "import matplotlib.pyplot as plt\n",
    "import numpy as np\n",
    "import gensim\n",
    "import gensim.corpora as corpora"
   ]
  },
  {
   "cell_type": "code",
   "execution_count": 323,
   "id": "47c6cdd9",
   "metadata": {},
   "outputs": [],
   "source": [
    "import warnings\n",
    "warnings.filterwarnings(\"ignore\")"
   ]
  },
  {
   "cell_type": "code",
   "execution_count": 2,
   "id": "57a7b275",
   "metadata": {},
   "outputs": [
    {
     "data": {
      "application/javascript": [
       "IPython.OutputArea.prototype._should_scroll = function(lines) {\n",
       "    return false;\n",
       "}\n"
      ],
      "text/plain": [
       "<IPython.core.display.Javascript object>"
      ]
     },
     "metadata": {},
     "output_type": "display_data"
    }
   ],
   "source": [
    "%%javascript\n",
    "IPython.OutputArea.prototype._should_scroll = function(lines) {\n",
    "    return false;\n",
    "}"
   ]
  },
  {
   "cell_type": "code",
   "execution_count": 3,
   "id": "5d66f1da",
   "metadata": {},
   "outputs": [],
   "source": [
    "# change display options\n",
    "#pd.set_option('display.max_columns', None)\n",
    "#pd.set_option('display.expand_frame_repr', False)\n",
    "#pd.set_option('max_colwidth', -1)"
   ]
  },
  {
   "cell_type": "markdown",
   "id": "087f72f2",
   "metadata": {},
   "source": [
    "## I. Topic predictions"
   ]
  },
  {
   "cell_type": "markdown",
   "id": "6e73473f",
   "metadata": {},
   "source": [
    "### LDA"
   ]
  },
  {
   "cell_type": "markdown",
   "id": "fe34de16",
   "metadata": {},
   "source": [
    "We try topic prediction with the Latent direichlet allocation that is a probabilistic model."
   ]
  },
  {
   "cell_type": "markdown",
   "id": "f6741d66",
   "metadata": {},
   "source": [
    "#### Create model"
   ]
  },
  {
   "cell_type": "code",
   "execution_count": 4,
   "id": "1764f9a8",
   "metadata": {
    "scrolled": true
   },
   "outputs": [],
   "source": [
    "#import dataset\n",
    "df = pd.read_pickle('./data/cleaned_data.pkl')"
   ]
  },
  {
   "cell_type": "code",
   "execution_count": null,
   "id": "1ad2b233",
   "metadata": {},
   "outputs": [],
   "source": []
  },
  {
   "cell_type": "code",
   "execution_count": 5,
   "id": "6ef544df",
   "metadata": {
    "scrolled": false
   },
   "outputs": [
    {
     "data": {
      "text/html": [
       "<div>\n",
       "<style scoped>\n",
       "    .dataframe tbody tr th:only-of-type {\n",
       "        vertical-align: middle;\n",
       "    }\n",
       "\n",
       "    .dataframe tbody tr th {\n",
       "        vertical-align: top;\n",
       "    }\n",
       "\n",
       "    .dataframe thead th {\n",
       "        text-align: right;\n",
       "    }\n",
       "</style>\n",
       "<table border=\"1\" class=\"dataframe\">\n",
       "  <thead>\n",
       "    <tr style=\"text-align: right;\">\n",
       "      <th></th>\n",
       "      <th>Body</th>\n",
       "      <th>Title</th>\n",
       "      <th>Tags</th>\n",
       "      <th>Preprocessed_text</th>\n",
       "      <th>Score</th>\n",
       "    </tr>\n",
       "  </thead>\n",
       "  <tbody>\n",
       "    <tr>\n",
       "      <th>0</th>\n",
       "      <td>have   table   csv format that looks like t...</td>\n",
       "      <td>how pivot dataframe pandas</td>\n",
       "      <td>python;pandas;dataframe;transpose</td>\n",
       "      <td>table csv format transpose table value indicat...</td>\n",
       "      <td>46</td>\n",
       "    </tr>\n",
       "    <tr>\n",
       "      <th>1</th>\n",
       "      <td>greets      reading that the default behaviou...</td>\n",
       "      <td>uitableview with fixed section headers</td>\n",
       "      <td>ios;objective-c;uitableview</td>\n",
       "      <td>greet read default behaviour uitableview pin s...</td>\n",
       "      <td>111</td>\n",
       "    </tr>\n",
       "    <tr>\n",
       "      <th>3</th>\n",
       "      <td>have installed react using  create react ap...</td>\n",
       "      <td>load local images react</td>\n",
       "      <td>image;reactjs;local</td>\n",
       "      <td>instal react create react app instal fine load...</td>\n",
       "      <td>70</td>\n",
       "    </tr>\n",
       "    <tr>\n",
       "      <th>4</th>\n",
       "      <td>are used   say   every r new user that   ...</td>\n",
       "      <td>the apply family really not vectorized</td>\n",
       "      <td>r;performance;loops;vectorization;apply</td>\n",
       "      <td>r user apply vectorize patrick burn r inferno ...</td>\n",
       "      <td>144</td>\n",
       "    </tr>\n",
       "    <tr>\n",
       "      <th>5</th>\n",
       "      <td>want   add some leading zeroes     string  ...</td>\n",
       "      <td>add leading zeroes number dart</td>\n",
       "      <td>dart</td>\n",
       "      <td>lead zero string example total length characte...</td>\n",
       "      <td>77</td>\n",
       "    </tr>\n",
       "  </tbody>\n",
       "</table>\n",
       "</div>"
      ],
      "text/plain": [
       "                                                Body  \\\n",
       "0     have   table   csv format that looks like t...   \n",
       "1   greets      reading that the default behaviou...   \n",
       "3     have installed react using  create react ap...   \n",
       "4       are used   say   every r new user that   ...   \n",
       "5     want   add some leading zeroes     string  ...   \n",
       "\n",
       "                                      Title  \\\n",
       "0               how pivot dataframe pandas    \n",
       "1    uitableview with fixed section headers   \n",
       "3                  load local images react    \n",
       "4   the apply family really not vectorized    \n",
       "5            add leading zeroes number dart   \n",
       "\n",
       "                                      Tags  \\\n",
       "0        python;pandas;dataframe;transpose   \n",
       "1              ios;objective-c;uitableview   \n",
       "3                      image;reactjs;local   \n",
       "4  r;performance;loops;vectorization;apply   \n",
       "5                                     dart   \n",
       "\n",
       "                                   Preprocessed_text  Score  \n",
       "0  table csv format transpose table value indicat...     46  \n",
       "1  greet read default behaviour uitableview pin s...    111  \n",
       "3  instal react create react app instal fine load...     70  \n",
       "4  r user apply vectorize patrick burn r inferno ...    144  \n",
       "5  lead zero string example total length characte...     77  "
      ]
     },
     "execution_count": 5,
     "metadata": {},
     "output_type": "execute_result"
    }
   ],
   "source": [
    "df.head()"
   ]
  },
  {
   "cell_type": "code",
   "execution_count": 6,
   "id": "8a9282ad",
   "metadata": {},
   "outputs": [],
   "source": [
    "df.reset_index(inplace=True, drop=True)"
   ]
  },
  {
   "cell_type": "code",
   "execution_count": 7,
   "id": "35d50a67",
   "metadata": {},
   "outputs": [],
   "source": [
    "data_cleaned = []\n",
    "for i in range(df.shape[0]):\n",
    "    data_cleaned.append(df['Preprocessed_text'][i].split())"
   ]
  },
  {
   "cell_type": "code",
   "execution_count": 405,
   "id": "0c87cb70",
   "metadata": {
    "scrolled": false
   },
   "outputs": [],
   "source": [
    "#mapping between words and ids\n",
    "dictionary = corpora.Dictionary(data_cleaned)\n",
    "\n",
    "#filter on tokens\n",
    "dictionary.filter_extremes(no_below=5, no_above=0.90, keep_n=3000)\n",
    "\n",
    "# Print dictionary\n",
    "#print(dictionary.token2id)"
   ]
  },
  {
   "cell_type": "code",
   "execution_count": 9,
   "id": "396c8aaa",
   "metadata": {},
   "outputs": [],
   "source": [
    "# Term Document Frequency\n",
    "corpus = [dictionary.doc2bow(text) for text in data_cleaned]"
   ]
  },
  {
   "cell_type": "code",
   "execution_count": 10,
   "id": "4f64fce8",
   "metadata": {
    "scrolled": true
   },
   "outputs": [
    {
     "name": "stdout",
     "output_type": "stream",
     "text": [
      "[(0, 1), (1, 3), (2, 3), (3, 1), (4, 1), (5, 1), (6, 1), (7, 1), (8, 1), (9, 2), (10, 2), (11, 1), (12, 1), (13, 1), (14, 2), (15, 1), (16, 4), (17, 3)]\n"
     ]
    }
   ],
   "source": [
    "print(corpus[0])"
   ]
  },
  {
   "cell_type": "code",
   "execution_count": 11,
   "id": "a7ae23bb",
   "metadata": {},
   "outputs": [],
   "source": [
    "import pyLDAvis\n",
    "import pyLDAvis.gensim_models "
   ]
  },
  {
   "cell_type": "code",
   "execution_count": 12,
   "id": "3633867e",
   "metadata": {},
   "outputs": [],
   "source": [
    "from gensim.models import TfidfModel"
   ]
  },
  {
   "cell_type": "code",
   "execution_count": 13,
   "id": "456cda43",
   "metadata": {},
   "outputs": [],
   "source": [
    "#create TF-IDF bag of words\n",
    "\n",
    "model = TfidfModel(corpus) \n",
    "corpus = model[corpus]"
   ]
  },
  {
   "cell_type": "code",
   "execution_count": 14,
   "id": "e21498db",
   "metadata": {},
   "outputs": [],
   "source": [
    "# Look for the best number of topics : we calculate coherence score. \n",
    "\n",
    "scores = []\n",
    "\n",
    "#t is the number of topics\n",
    "for t in range(4, 30):    \n",
    "    \n",
    "    lda_model = gensim.models.LdaMulticore(corpus=corpus,\n",
    "                                           id2word=dictionary,\n",
    "                                           num_topics=t, \n",
    "                                           random_state=0,\n",
    "                                           chunksize=100,\n",
    "                                           passes=10,\n",
    "                                           per_word_topics=True)\n",
    "    \n",
    "    coherence_model_lda = gensim.models.CoherenceModel(model=lda_model, \n",
    "                                                       texts=data_cleaned, \n",
    "                                                       dictionary=dictionary, \n",
    "                                                       coherence='c_v')\n",
    "    score = coherence_model_lda.get_coherence()\n",
    "    scores.append(score)"
   ]
  },
  {
   "cell_type": "code",
   "execution_count": 15,
   "id": "8dc023f2",
   "metadata": {},
   "outputs": [
    {
     "data": {
      "image/png": "[encoded data removed]",
      "text/plain": [
       "<Figure size 432x288 with 1 Axes>"
      ]
     },
     "metadata": {
      "needs_background": "light"
     },
     "output_type": "display_data"
    }
   ],
   "source": [
    "plt.plot(np.arange(4,30),scores)\n",
    "plt.xticks(np.arange(4,30,2))\n",
    "plt.xlabel('Number of topics')\n",
    "plt.ylabel('Coherence score')\n",
    "plt.title('Cohence scores for LDA models')\n",
    "plt.grid()"
   ]
  },
  {
   "cell_type": "code",
   "execution_count": 41,
   "id": "a09e10b9",
   "metadata": {},
   "outputs": [],
   "source": [
    "# Build LDA model\n",
    "lda_model = gensim.models.LdaMulticore(corpus=corpus,\n",
    "                                       id2word=dictionary,\n",
    "                                       num_topics=17, \n",
    "                                       random_state=0,\n",
    "                                       chunksize=100,\n",
    "                                       passes=10,\n",
    "                                       per_word_topics=True)"
   ]
  },
  {
   "cell_type": "code",
   "execution_count": 42,
   "id": "bc6a0d98",
   "metadata": {},
   "outputs": [
    {
     "name": "stdout",
     "output_type": "stream",
     "text": [
      "nCoherence Score:  0.5554337811145299\n"
     ]
    }
   ],
   "source": [
    "#check coherence score\n",
    "coherence_model_lda = gensim.models.CoherenceModel(model=lda_model, texts=data_cleaned, dictionary=dictionary, coherence='c_v')\n",
    "coherence_lda = coherence_model_lda.get_coherence()\n",
    "print('nCoherence Score: ', coherence_lda)"
   ]
  },
  {
   "cell_type": "code",
   "execution_count": 175,
   "id": "8ca0b0f5",
   "metadata": {
    "scrolled": true
   },
   "outputs": [
    {
     "data": {
      "text/plain": [
       "[(0,\n",
       "  '0.031*\"job\" + 0.024*\"flask\" + 0.024*\"blank\" + 0.021*\"alpha\" + 0.021*\"unique\" + 0.018*\"user_id\" + 0.017*\"paste\" + 0.014*\"reverse\" + 0.014*\"email\" + 0.013*\"alter\" + 0.013*\"footer\" + 0.012*\"ipython\" + 0.011*\"score\" + 0.010*\"subclass\" + 0.009*\"cross\" + 0.009*\"constraint\" + 0.009*\"wrapper\" + 0.009*\"rel\" + 0.008*\"forum\" + 0.008*\"greatly\" + 0.008*\"devise\" + 0.007*\"combination\" + 0.007*\"gnu\" + 0.007*\"reveal\" + 0.007*\"grab\" + 0.007*\"country\" + 0.007*\"dispatch\" + 0.007*\"indentation\" + 0.007*\"confusion\" + 0.007*\"omit\"'),\n",
       " (1,\n",
       "  '0.029*\"dataframe\" + 0.029*\"panda\" + 0.028*\"csv\" + 0.028*\"column\" + 0.026*\"cell\" + 0.019*\"swift\" + 0.018*\"row\" + 0.016*\"func\" + 0.016*\"postgre\" + 0.014*\"excel\" + 0.013*\"cookie\" + 0.010*\"viewcontroller\" + 0.009*\"quote\" + 0.009*\"series\" + 0.009*\"objective\" + 0.009*\"sum\" + 0.009*\"cron\" + 0.009*\"tag\" + 0.008*\"center\" + 0.008*\"toast\" + 0.008*\"conf\" + 0.008*\"retrofit\" + 0.007*\"viewdidload\" + 0.007*\"weight\" + 0.007*\"medium\" + 0.007*\"channel\" + 0.007*\"xamarin\" + 0.007*\"comma\" + 0.006*\"mess\" + 0.006*\"logcat\"'),\n",
       " (2,\n",
       "  '0.030*\"table\" + 0.026*\"sql\" + 0.025*\"query\" + 0.023*\"mysql\" + 0.017*\"column\" + 0.015*\"entity\" + 0.015*\"select\" + 0.014*\"order\" + 0.013*\"database\" + 0.013*\"model\" + 0.012*\"field\" + 0.011*\"product\" + 0.009*\"array\" + 0.009*\"nuget\" + 0.009*\"row\" + 0.009*\"sort\" + 0.008*\"django\" + 0.008*\"key\" + 0.008*\"delete\" + 0.008*\"algorithm\" + 0.007*\"update\" + 0.007*\"contact\" + 0.007*\"camera\" + 0.007*\"sizeof\" + 0.007*\"photo\" + 0.007*\"determine\" + 0.007*\"varchar\" + 0.007*\"primary\" + 0.007*\"desc\" + 0.007*\"procedure\"'),\n",
       " (3,\n",
       "  '0.026*\"println\" + 0.025*\"modal\" + 0.024*\"integer\" + 0.020*\"decimal\" + 0.019*\"split\" + 0.018*\"amazon\" + 0.015*\"double\" + 0.013*\"nbsp\" + 0.013*\"logger\" + 0.013*\"represent\" + 0.013*\"scala\" + 0.012*\"identify\" + 0.012*\"gmail\" + 0.010*\"overlap\" + 0.010*\"digit\" + 0.009*\"textfield\" + 0.009*\"zip\" + 0.009*\"iteration\" + 0.009*\"kafka\" + 0.009*\"conversion\" + 0.008*\"artifactid\" + 0.008*\"revision\" + 0.008*\"groupid\" + 0.008*\"vba\" + 0.007*\"jenkin\" + 0.007*\"scheme\" + 0.007*\"foreach\" + 0.007*\"virtualenv\" + 0.007*\"convert\" + 0.007*\"administrator\"'),\n",
       " (4,\n",
       "  '0.022*\"session\" + 0.018*\"route\" + 0.017*\"placeholder\" + 0.015*\"angular\" + 0.013*\"observable\" + 0.013*\"scope\" + 0.013*\"shape\" + 0.012*\"controller\" + 0.012*\"email\" + 0.012*\"authentication\" + 0.011*\"node_modules\" + 0.010*\"symfony\" + 0.010*\"person\" + 0.010*\"powershell\" + 0.010*\"rename\" + 0.010*\"router\" + 0.010*\"security\" + 0.009*\"filter\" + 0.009*\"datepicker\" + 0.009*\"directive\" + 0.009*\"shift\" + 0.009*\"game\" + 0.009*\"compute\" + 0.009*\"builder\" + 0.008*\"brew\" + 0.008*\"subscribe\" + 0.008*\"batch\" + 0.008*\"angularjs\" + 0.008*\"picture\" + 0.007*\"authenticate\"'),\n",
       " (5,\n",
       "  '0.022*\"git\" + 0.012*\"file\" + 0.011*\"install\" + 0.011*\"npm\" + 0.011*\"branch\" + 0.010*\"run\" + 0.010*\"command\" + 0.009*\"commit\" + 0.009*\"project\" + 0.008*\"master\" + 0.008*\"local\" + 0.008*\"directory\" + 0.008*\"github\" + 0.007*\"repository\" + 0.007*\"instal\" + 0.007*\"studio\" + 0.007*\"version\" + 0.007*\"window\" + 0.007*\"xcode\" + 0.007*\"error\" + 0.006*\"remote\" + 0.006*\"visual\" + 0.006*\"express\" + 0.006*\"folder\" + 0.006*\"push\" + 0.005*\"port\" + 0.005*\"node\" + 0.005*\"c\" + 0.005*\"target\" + 0.005*\"path\"'),\n",
       " (6,\n",
       "  '0.036*\"docker\" + 0.024*\"notification\" + 0.022*\"listview\" + 0.019*\"mongodb\" + 0.018*\"architecture\" + 0.017*\"webpack\" + 0.016*\"container\" + 0.016*\"exit\" + 0.015*\"bucket\" + 0.011*\"near\" + 0.011*\"volume\" + 0.011*\"cast\" + 0.011*\"management\" + 0.010*\"loader\" + 0.009*\"jre\" + 0.009*\"sudo\" + 0.009*\"recursively\" + 0.009*\"archive\" + 0.009*\"cmd\" + 0.008*\"ubuntu\" + 0.008*\"sound\" + 0.008*\"readonly\" + 0.007*\"urlencode\" + 0.007*\"policy\" + 0.007*\"life\" + 0.007*\"myobject\" + 0.007*\"bring\" + 0.007*\"terminate\" + 0.007*\"importerror\" + 0.006*\"coordinate\"'),\n",
       " (7,\n",
       "  '0.016*\"string\" + 0.014*\"value\" + 0.013*\"array\" + 0.012*\"c\" + 0.012*\"int\" + 0.012*\"list\" + 0.011*\"date\" + 0.010*\"object\" + 0.009*\"return\" + 0.008*\"number\" + 0.008*\"function\" + 0.008*\"class\" + 0.008*\"print\" + 0.008*\"type\" + 0.007*\"python\" + 0.007*\"variable\" + 0.007*\"difference\" + 0.006*\"method\" + 0.006*\"convert\" + 0.006*\"datetime\" + 0.006*\"time\" + 0.006*\"public\" + 0.006*\"line\" + 0.006*\"java\" + 0.006*\"format\" + 0.006*\"example\" + 0.005*\"case\" + 0.005*\"amp\" + 0.005*\"var\" + 0.005*\"static\"'),\n",
       " (8,\n",
       "  '0.028*\"age\" + 0.023*\"regex\" + 0.023*\"history\" + 0.019*\"checkbox\" + 0.017*\"uuid\" + 0.014*\"haskell\" + 0.013*\"clause\" + 0.013*\"slash\" + 0.012*\"slot\" + 0.012*\"condition\" + 0.012*\"signature\" + 0.011*\"ids\" + 0.011*\"caller\" + 0.011*\"lookup\" + 0.010*\"stringify\" + 0.009*\"axios\" + 0.009*\"linq\" + 0.009*\"story\" + 0.008*\"anchor\" + 0.008*\"loss\" + 0.008*\"knockout\" + 0.008*\"invisible\" + 0.008*\"checkout\" + 0.007*\"conditional\" + 0.007*\"wifi\" + 0.007*\"arbitrary\" + 0.007*\"trim\" + 0.007*\"expr\" + 0.007*\"indicate\" + 0.006*\"dependent\"'),\n",
       " (9,\n",
       "  '0.038*\"laravel\" + 0.038*\"symbol\" + 0.022*\"blue\" + 0.021*\"employee\" + 0.017*\"linearlayout\" + 0.015*\"signal\" + 0.015*\"uiimage\" + 0.015*\"onchange\" + 0.014*\"xpath\" + 0.014*\"wordpress\" + 0.013*\"pair\" + 0.013*\"makefile\" + 0.013*\"startup\" + 0.013*\"scrollview\" + 0.012*\"center\" + 0.012*\"socket\" + 0.011*\"eval\" + 0.011*\"viewpager\" + 0.010*\"regard\" + 0.009*\"jsonobject\" + 0.009*\"circle\" + 0.009*\"deprecate\" + 0.008*\"pop\" + 0.007*\"syntaxerror\" + 0.007*\"predicate\" + 0.007*\"webapi\" + 0.006*\"kwargs\" + 0.006*\"lodash\" + 0.005*\"manufacturer\" + 0.005*\"chat\"'),\n",
       " (10,\n",
       "  '0.042*\"android\" + 0.029*\"java\" + 0.020*\"eclipse\" + 0.018*\"gradle\" + 0.015*\"std\" + 0.014*\"compile\" + 0.011*\"jar\" + 0.011*\"sdk\" + 0.011*\"studio\" + 0.011*\"maven\" + 0.010*\"dictionary\" + 0.010*\"com\" + 0.009*\"project\" + 0.008*\"gcc\" + 0.008*\"dependency\" + 0.008*\"cout\" + 0.008*\"intellij\" + 0.008*\"c++\" + 0.007*\"prompt\" + 0.007*\"driver\" + 0.007*\"external\" + 0.007*\"main\" + 0.007*\"invoke\" + 0.007*\"uri\" + 0.007*\"plugin\" + 0.007*\"error\" + 0.007*\"pycharm\" + 0.007*\"lang\" + 0.007*\"androidruntime\" + 0.006*\"jdk\"'),\n",
       " (11,\n",
       "  '0.009*\"file\" + 0.007*\"user\" + 0.006*\"app\" + 0.006*\"class\" + 0.006*\"error\" + 0.005*\"function\" + 0.005*\"test\" + 0.005*\"datum\" + 0.005*\"html\" + 0.005*\"page\" + 0.005*\"request\" + 0.004*\"url\" + 0.004*\"work\" + 0.004*\"text\" + 0.004*\"create\" + 0.004*\"api\" + 0.004*\"json\" + 0.004*\"script\" + 0.004*\"module\" + 0.004*\"application\" + 0.004*\"log\" + 0.004*\"var\" + 0.004*\"web\" + 0.004*\"server\" + 0.004*\"run\" + 0.004*\"php\" + 0.004*\"set\" + 0.004*\"line\" + 0.004*\"return\" + 0.004*\"type\"'),\n",
       " (12,\n",
       "  '0.025*\"domain\" + 0.022*\"iframe\" + 0.021*\"programmatically\" + 0.017*\"dict\" + 0.016*\"xcode\" + 0.014*\"oauth\" + 0.013*\"watch\" + 0.013*\"foreign\" + 0.013*\"drive\" + 0.012*\"protocol\" + 0.012*\"pid\" + 0.011*\"credential\" + 0.011*\"upstream\" + 0.011*\"firstname\" + 0.011*\"emac\" + 0.010*\"iterator\" + 0.010*\"websocket\" + 0.010*\"iphone\" + 0.009*\"lastname\" + 0.009*\"slide\" + 0.009*\"car\" + 0.009*\"visibility\" + 0.008*\"seed\" + 0.008*\"lion\" + 0.008*\"secure\" + 0.008*\"workspace\" + 0.007*\"advice\" + 0.007*\"complex\" + 0.007*\"share\" + 0.006*\"identity\"'),\n",
       " (13,\n",
       "  '0.024*\"area\" + 0.022*\"preference\" + 0.020*\"svn\" + 0.018*\"textbox\" + 0.015*\"occurrence\" + 0.013*\"pool\" + 0.013*\"viewmodel\" + 0.013*\"percentage\" + 0.012*\"touch\" + 0.011*\"maximum\" + 0.011*\"imagine\" + 0.011*\"pom\" + 0.011*\"singleton\" + 0.010*\"student\" + 0.010*\"logical\" + 0.010*\"asynchronous\" + 0.010*\"focus\" + 0.009*\"elem\" + 0.009*\"paragraph\" + 0.009*\"dagger\" + 0.009*\"strip\" + 0.008*\"vagrant\" + 0.008*\"kubernete\" + 0.008*\"classloader\" + 0.008*\"kubectl\" + 0.007*\"escape\" + 0.007*\"difficult\" + 0.007*\"reactjs\" + 0.007*\"circumstance\" + 0.007*\"guy\"'),\n",
       " (14,\n",
       "  '0.026*\"android\" + 0.015*\"color\" + 0.011*\"background\" + 0.010*\"width\" + 0.009*\"height\" + 0.009*\"image\" + 0.008*\"r\" + 0.008*\"activity\" + 0.008*\"style\" + 0.008*\"layout\" + 0.007*\"size\" + 0.007*\"item\" + 0.006*\"leave\" + 0.006*\"vector\" + 0.006*\"widget\" + 0.006*\"text\" + 0.006*\"merge\" + 0.006*\"button\" + 0.005*\"css\" + 0.005*\"box\" + 0.005*\"position\" + 0.005*\"bar\" + 0.005*\"io\" + 0.005*\"margin\" + 0.005*\"fragment\" + 0.005*\"max\" + 0.005*\"class\" + 0.005*\"round\" + 0.005*\"plot\" + 0.005*\"auto\"'),\n",
       " (15,\n",
       "  '0.033*\"byte\" + 0.029*\"col\" + 0.028*\"char\" + 0.025*\"random\" + 0.024*\"timestamp\" + 0.021*\"curl\" + 0.018*\"buffer\" + 0.016*\"ssl\" + 0.015*\"certificate\" + 0.015*\"nan\" + 0.015*\"arraylist\" + 0.014*\"opencv\" + 0.013*\"promise\" + 0.012*\"printf\" + 0.012*\"decode\" + 0.012*\"webkit\" + 0.012*\"stream\" + 0.012*\"millisecond\" + 0.011*\"topic\" + 0.010*\"unicode\" + 0.010*\"queue\" + 0.010*\"mail\" + 0.009*\"character\" + 0.009*\"ipad\" + 0.009*\"absolute\" + 0.008*\"reader\" + 0.008*\"unfortunately\" + 0.007*\"getter\" + 0.007*\"vary\" + 0.007*\"email\"'),\n",
       " (16,\n",
       "  '0.021*\"spring\" + 0.020*\"bean\" + 0.020*\"vim\" + 0.020*\"video\" + 0.017*\"svg\" + 0.014*\"scale\" + 0.014*\"arr\" + 0.013*\"assert\" + 0.012*\"uiview\" + 0.011*\"springframework\" + 0.011*\"shadow\" + 0.011*\"zone\" + 0.010*\"tableview\" + 0.009*\"prefix\" + 0.009*\"increment\" + 0.009*\"partition\" + 0.009*\"reach\" + 0.009*\"notify\" + 0.009*\"hex\" + 0.008*\"embed\" + 0.008*\"opacity\" + 0.007*\"tcp\" + 0.007*\"specification\" + 0.007*\"bound\" + 0.007*\"raise\" + 0.007*\"orange\" + 0.007*\"movie\" + 0.007*\"fixture\" + 0.007*\"autowire\" + 0.007*\"rgba\"')]"
      ]
     },
     "execution_count": 175,
     "metadata": {},
     "output_type": "execute_result"
    }
   ],
   "source": [
    "# See the topics\n",
    "lda_model.print_topics(-1,num_words=30)"
   ]
  },
  {
   "cell_type": "code",
   "execution_count": 44,
   "id": "108daa52",
   "metadata": {},
   "outputs": [
    {
     "name": "stderr",
     "output_type": "stream",
     "text": [
      "C:\\Users\\celine\\anaconda3\\lib\\site-packages\\pyLDAvis\\_prepare.py:246: FutureWarning: In a future version of pandas all arguments of DataFrame.drop except for the argument 'labels' will be keyword-only\n",
      "  default_term_info = default_term_info.sort_values(\n",
      "C:\\Users\\celine\\anaconda3\\lib\\site-packages\\sklearn\\manifold\\_t_sne.py:780: FutureWarning: The default initialization in TSNE will change from 'random' to 'pca' in 1.2.\n",
      "  warnings.warn(\n",
      "C:\\Users\\celine\\anaconda3\\lib\\site-packages\\sklearn\\manifold\\_t_sne.py:790: FutureWarning: The default learning rate in TSNE will change from 200.0 to 'auto' in 1.2.\n",
      "  warnings.warn(\n",
      "C:\\Users\\celine\\anaconda3\\lib\\site-packages\\sklearn\\manifold\\_t_sne.py:819: FutureWarning: 'square_distances' has been introduced in 0.24 to help phase out legacy squaring behavior. The 'legacy' setting will be removed in 1.1 (renaming of 0.26), and the default setting will be changed to True. In 1.3, 'square_distances' will be removed altogether, and distances will be squared by default. Set 'square_distances'=True to silence this warning.\n",
      "  warnings.warn(\n"
     ]
    },
    {
     "data": {
      "text/html": [
       "\n",
       "<link rel=\"stylesheet\" type=\"text/css\" href=\"https://cdn.jsdelivr.net/gh/bmabey/pyLDAvis@3.3.1/pyLDAvis/js/ldavis.v1.0.0.css\">\n",
       "\n",
       "\n",
       "<div id=\"ldavis_el990030820247282725436896234\"></div>\n",
       "<script type=\"text/javascript\">\n",
       "\n",
       "var ldavis_el990030820247282725436896234_data = {\"mdsDat\": {\"x\": [2.9721131324768066, -7.288965702056885, 38.04939270019531, -42.22704315185547, -63.238548278808594, -48.09906005859375, -48.08784103393555, 17.708776473999023, 92.84619140625, 47.89286422729492, 92.0391845703125, -94.76649475097656, -9.109380722045898, -94.60684204101562, 44.94553756713867, -1.4934841394424438, 71.31283569335938], \"y\": [-13.78672981262207, 86.1502914428711, 65.5876235961914, 6.162611484527588, -41.294517517089844, 56.47357940673828, 120.04415893554688, 131.64089965820312, -8.328437805175781, -45.58987808227539, 50.145565032958984, 15.104292869567871, -64.73255157470703, 77.71231842041016, 14.845922470092773, 35.84217834472656, 105.5743637084961], \"topics\": [1, 2, 3, 4, 5, 6, 7, 8, 9, 10, 11, 12, 13, 14, 15, 16, 17], \"cluster\": [1, 1, 1, 1, 1, 1, 1, 1, 1, 1, 1, 1, 1, 1, 1, 1, 1], \"Freq\": [35.632715044629364, 14.519860857337347, 9.233404505403042, 8.447376020410221, 4.052369449071044, 3.9626590044942103, 2.964870171587207, 2.5491591685499584, 2.3848604250252934, 2.350284258192918, 2.2878593540249206, 2.1630852406102345, 2.1548876553451923, 1.9530165690394352, 1.829999036933386, 1.78695030444468, 1.7266429349015473]}, \"tinfo\": {\"Term\": [\"android\", \"java\", \"column\", \"table\", \"git\", \"query\", \"string\", \"docker\", \"sql\", \"byte\", \"array\", \"mysql\", \"select\", \"dataframe\", \"panda\", \"angular\", \"model\", \"project\", \"file\", \"laravel\", \"row\", \"char\", \"csv\", \"color\", \"value\", \"database\", \"integer\", \"eclipse\", \"com\", \"symbol\", \"react\", \"response\", \"chrome\", \"password\", \"request\", \"txt\", \"cache\", \"url\", \"browser\", \"module\", \"console\", \"upload\", \"load\", \"icon\", \"tab\", \"asp\", \"php\", \"website\", \"month\", \"site\", \"href\", \"login\", \"redirect\", \"profile\", \"api\", \"theme\", \"ajax\", \"http\", \"page\", \"www\", \"web\", \"html\", \"export\", \"net\", \"user\", \"jquery\", \"json\", \"form\", \"event\", \"post\", \"action\", \"send\", \"client\", \"app\", \"application\", \"file\", \"log\", \"component\", \"script\", \"test\", \"datum\", \"error\", \"class\", \"function\", \"text\", \"work\", \"create\", \"var\", \"google\", \"server\", \"option\", \"com\", \"line\", \"run\", \"set\", \"return\", \"type\", \"operator\", \"datetime\", \"axis\", \"apt\", \"obj\", \"minute\", \"cpu\", \"flex\", \"kernel\", \"sheet\", \"ggplot\", \"letter\", \"num\", \"arrow\", \"restriction\", \"myclass\", \"fun\", \"keyword\", \"generic\", \"immutable\", \"arg\", \"partial\", \"lock\", \"binary\", \"tuple\", \"str\", \"compilation\", \"interval\", \"dplyr\", \"stdout\", \"range\", \"syntax\", \"kotlin\", \"duplicate\", \"date\", \"int\", \"argument\", \"print\", \"array\", \"string\", \"val\", \"list\", \"number\", \"loop\", \"value\", \"convert\", \"struct\", \"c\", \"variable\", \"format\", \"object\", \"day\", \"return\", \"constructor\", \"case\", \"static\", \"type\", \"difference\", \"function\", \"python\", \"class\", \"time\", \"method\", \"amp\", \"public\", \"line\", \"example\", \"java\", \"var\", \"branch\", \"npm\", \"master\", \"git\", \"express\", \"flutter\", \"nodejs\", \"firebase\", \"port\", \"remote\", \"ssh\", \"commit\", \"restart\", \"multi\", \"simulator\", \"pod\", \"agent\", \"pdf\", \"emulator\", \"terminal\", \"publish\", \"listen\", \"initialization\", \"stage\", \"tmp\", \"hibernate\", \"recognize\", \"dog\", \"bitmap\", \"yaml\", \"repository\", \"github\", \"kill\", \"track\", \"mac\", \"local\", \"install\", \"exe\", \"machine\", \"visual\", \"instal\", \"push\", \"studio\", \"command\", \"xcode\", \"directory\", \"run\", \"project\", \"file\", \"target\", \"window\", \"version\", \"delete\", \"node\", \"folder\", \"error\", \"c\", \"path\", \"vector\", \"fragment\", \"layout_width\", \"layout_height\", \"widget\", \"matplotlib\", \"drawable\", \"wrap_content\", \"toolbar\", \"firefox\", \"webview\", \"textview\", \"edittext\", \"plt\", \"round\", \"capture\", \"margin\", \"conflict\", \"timer\", \"delay\", \"matrix\", \"oncreate\", \"height\", \"term\", \"color\", \"match_parent\", \"left\", \"red\", \"savedinstancestate\", \"audio\", \"background\", \"merge\", \"width\", \"activity\", \"max\", \"layout\", \"plot\", \"android\", \"leave\", \"style\", \"r\", \"image\", \"position\", \"size\", \"box\", \"item\", \"css\", \"button\", \"io\", \"auto\", \"text\", \"bar\", \"class\", \"nuget\", \"camera\", \"sizeof\", \"varchar\", \"desc\", \"rate\", \"photo\", \"xampp\", \"contact\", \"webpage\", \"entity\", \"locale\", \"timezone\", \"sql\", \"uint\", \"mysql\", \"rebase\", \"straight\", \"relationship\", \"dist\", \"sequence\", \"complexity\", \"nullable\", \"weak\", \"commons\", \"sourcetree\", \"typedef\", \"sbt\", \"payload\", \"procedure\", \"product\", \"locate\", \"inject\", \"query\", \"dataset\", \"table\", \"algorithm\", \"primary\", \"order\", \"column\", \"database\", \"select\", \"model\", \"field\", \"sort\", \"determine\", \"django\", \"delete\", \"row\", \"join\", \"array\", \"key\", \"update\", \"gradle\", \"cout\", \"driver\", \"pycharm\", \"androidruntime\", \"jdk\", \"actionbar\", \"popup\", \"maven\", \"javafx\", \"selenium\", \"constexpr\", \"adb\", \"myproject\", \"cpp\", \"activitythread\", \"aug\", \"gcc\", \"jar\", \"serializable\", \"foobar\", \"anonymous\", \"vuejs\", \"cardview\", \"iostream\", \"snapshot\", \"endl\", \"compose\", \"rspec\", \"implicit\", \"eclipse\", \"dictionary\", \"uri\", \"external\", \"clang\", \"std\", \"sdk\", \"java\", \"android\", \"prompt\", \"compile\", \"invoke\", \"intellij\", \"ide\", \"lang\", \"studio\", \"dependency\", \"com\", \"c++\", \"project\", \"plugin\", \"main\", \"error\", \"placeholder\", \"observable\", \"shape\", \"symfony\", \"datepicker\", \"shift\", \"game\", \"subscribe\", \"powershell\", \"authenticate\", \"brew\", \"compute\", \"datatable\", \"sentence\", \"emit\", \"homebrew\", \"legend\", \"authentication\", \"dim\", \"observe\", \"node_modules\", \"cancel\", \"circular\", \"player\", \"subtract\", \"alias\", \"formatter\", \"foreground\", \"builder\", \"session\", \"route\", \"router\", \"directive\", \"rename\", \"scope\", \"security\", \"person\", \"angular\", \"picture\", \"email\", \"controller\", \"batch\", \"filter\", \"angularjs\", \"postgre\", \"csv\", \"viewcontroller\", \"cell\", \"cron\", \"toast\", \"excel\", \"viewdidload\", \"weight\", \"xamarin\", \"cookie\", \"channel\", \"mess\", \"logcat\", \"mercurial\", \"postman\", \"horizontally\", \"stable\", \"uiviewcontroller\", \"pagination\", \"coverage\", \"se\", \"rectangle\", \"invocation\", \"nsurl\", \"anyobject\", \"tom\", \"reply\", \"aspnet\", \"pic\", \"panda\", \"dataframe\", \"conf\", \"func\", \"retrofit\", \"objective\", \"series\", \"swift\", \"column\", \"row\", \"quote\", \"medium\", \"sum\", \"comma\", \"center\", \"tag\", \"vim\", \"svg\", \"bean\", \"scale\", \"arr\", \"uiview\", \"springframework\", \"shadow\", \"zone\", \"tableview\", \"assert\", \"prefix\", \"partition\", \"notify\", \"hex\", \"increment\", \"tcp\", \"orange\", \"opacity\", \"movie\", \"embed\", \"fixture\", \"autowire\", \"uitableview\", \"readable\", \"eax\", \"pay\", \"reach\", \"codec\", \"pyt\", \"rgba\", \"video\", \"spring\", \"specification\", \"bound\", \"raise\", \"timestamp\", \"curl\", \"ssl\", \"random\", \"nan\", \"opencv\", \"millisecond\", \"col\", \"unicode\", \"buffer\", \"mail\", \"ipad\", \"certificate\", \"reader\", \"topic\", \"vary\", \"webkit\", \"chunk\", \"cert\", \"arraylist\", \"getstre\", \"transfer\", \"promise\", \"inheritance\", \"helloworld\", \"formula\", \"absolute\", \"precision\", \"decode\", \"openssl\", \"byte\", \"char\", \"printf\", \"queue\", \"getter\", \"stream\", \"unfortunately\", \"character\", \"filename\", \"email\", \"modal\", \"amazon\", \"identify\", \"gmail\", \"logger\", \"overlap\", \"digit\", \"decimal\", \"textfield\", \"nbsp\", \"iteration\", \"kafka\", \"artifactid\", \"groupid\", \"vba\", \"scheme\", \"virtualenv\", \"nsdate\", \"valueof\", \"visit\", \"tsconfig\", \"privilege\", \"revision\", \"appdata\", \"initializer\", \"shutdown\", \"split\", \"chart\", \"println\", \"nonatomic\", \"represent\", \"integer\", \"conversion\", \"zip\", \"scala\", \"double\", \"decorator\", \"administrator\", \"jenkin\", \"foreach\", \"convert\", \"iframe\", \"domain\", \"dict\", \"watch\", \"programmatically\", \"foreign\", \"drive\", \"credential\", \"upstream\", \"emac\", \"oauth\", \"iterator\", \"websocket\", \"pid\", \"car\", \"visibility\", \"seed\", \"secure\", \"workspace\", \"slide\", \"tfs\", \"lion\", \"redundant\", \"leak\", \"packet\", \"advice\", \"iterable\", \"lazy\", \"noticed\", \"interpreter\", \"firstname\", \"lastname\", \"protocol\", \"identity\", \"xcode\", \"iphone\", \"complex\", \"share\", \"listview\", \"architecture\", \"webpack\", \"bucket\", \"notification\", \"near\", \"volume\", \"jre\", \"recursively\", \"archive\", \"management\", \"urlencode\", \"life\", \"myobject\", \"importerror\", \"readonly\", \"coordinate\", \"node_env\", \"dirname\", \"myfile\", \"fault\", \"hashmap\", \"permanently\", \"distinct\", \"iam\", \"docker\", \"useless\", \"idle\", \"zoom\", \"realise\", \"mongodb\", \"loader\", \"terminate\", \"exit\", \"cast\", \"bring\", \"sound\", \"sudo\", \"container\", \"cmd\", \"policy\", \"ubuntu\", \"flask\", \"alpha\", \"user_id\", \"alter\", \"ipython\", \"score\", \"subclass\", \"footer\", \"rel\", \"forum\", \"reverse\", \"blank\", \"devise\", \"unique\", \"reveal\", \"indentation\", \"confusion\", \"job\", \"omit\", \"paste\", \"activerecord\", \"grab\", \"investigate\", \"indent\", \"maverick\", \"tbody\", \"signup\", \"incorporate\", \"san\", \"mingw\", \"cross\", \"gnu\", \"dispatch\", \"wrapper\", \"greatly\", \"combination\", \"country\", \"email\", \"constraint\", \"preference\", \"svn\", \"textbox\", \"area\", \"occurrence\", \"viewmodel\", \"percentage\", \"singleton\", \"student\", \"logical\", \"elem\", \"dagger\", \"strip\", \"imagine\", \"vagrant\", \"kubernete\", \"classloader\", \"kubectl\", \"pom\", \"asynchronous\", \"difficult\", \"reactjs\", \"circumstance\", \"synchronous\", \"tweet\", \"mix\", \"paragraph\", \"cgrect\", \"backwards\", \"focus\", \"maximum\", \"pool\", \"touch\", \"guy\", \"happy\", \"escape\", \"history\", \"uuid\", \"slash\", \"slot\", \"age\", \"signature\", \"caller\", \"lookup\", \"stringify\", \"axios\", \"linq\", \"story\", \"anchor\", \"knockout\", \"loss\", \"invisible\", \"regex\", \"wifi\", \"arbitrary\", \"trim\", \"expr\", \"checkbox\", \"clause\", \"ids\", \"classic\", \"haskell\", \"fall\", \"isempty\", \"surely\", \"occasionally\", \"docs\", \"checkout\", \"conditional\", \"condition\", \"dependent\", \"indicate\", \"symbol\", \"blue\", \"employee\", \"signal\", \"onchange\", \"xpath\", \"laravel\", \"wordpress\", \"scrollview\", \"uiimage\", \"viewpager\", \"eval\", \"linearlayout\", \"regard\", \"startup\", \"pair\", \"syntaxerror\", \"predicate\", \"jsonobject\", \"circle\", \"webapi\", \"kwargs\", \"lodash\", \"makefile\", \"manufacturer\", \"chat\", \"uikit\", \"recompile\", \"ticket\", \"counterpart\", \"socket\", \"deprecate\", \"pop\", \"center\"], \"Freq\": [112.0, 66.0, 51.0, 52.0, 51.0, 41.0, 85.0, 25.0, 30.0, 25.0, 64.0, 27.0, 44.0, 23.0, 23.0, 30.0, 37.0, 55.0, 114.0, 18.0, 30.0, 21.0, 19.0, 34.0, 86.0, 34.0, 20.0, 23.0, 39.0, 16.0, 28.55696237915569, 26.225832969831135, 22.907344096557008, 20.873624553724905, 38.553105931532, 17.597482312615444, 17.337290715197586, 36.85713690164202, 22.952062327817465, 33.628938892211856, 25.031589121445354, 16.077941290480155, 25.716441638240703, 15.23653977154137, 14.570417608692992, 15.309248933102642, 31.363037256204517, 13.784831762455477, 13.701331140705237, 18.41500751815126, 13.337619144998513, 13.07875705078357, 13.11456467785683, 12.723074863392108, 34.884740694044446, 12.517808367044742, 12.59910455517544, 22.744030269292853, 39.456808361589815, 11.805998217658487, 32.20366062473924, 39.79759131492565, 15.410649946873916, 26.709596172033574, 57.6421833044726, 25.508528843974002, 34.24715006096101, 29.4168068447314, 23.479540768422865, 26.032366791985538, 20.75204344096995, 20.708386857120058, 19.511753813272566, 48.838936500913235, 33.17354885248107, 71.85589422624719, 32.46948110410003, 25.309232403553263, 34.05574852338347, 40.48514780661752, 40.42569555162592, 47.33456843408123, 48.14016525867441, 45.68183172010727, 35.46910427536876, 36.46964928284843, 35.10744812174713, 32.3177437304601, 29.292658617703754, 31.48608082248268, 28.737061184356666, 28.763189832597515, 31.01009130371376, 31.480522326003427, 31.162245124680496, 30.847448093506372, 29.736495665631548, 14.238514837233847, 21.315777479717568, 8.62551955746303, 7.454668295793499, 10.01181961208609, 7.501358016354866, 6.517681115213391, 6.122304731546599, 6.076547546612784, 5.934175129482931, 5.763467730839437, 5.625676728597444, 5.606844767131173, 5.591136262245697, 5.535895178029197, 5.616884761986718, 5.362859029587041, 6.1491367412863145, 7.435794507654485, 4.905422618998732, 9.242434299285572, 4.671312358064018, 7.880555444655132, 6.906567592667419, 4.384636326571345, 12.78944688904674, 4.282509533955478, 4.202480768423269, 4.117872181400257, 3.9702813889090462, 12.265468623965113, 15.020468069320687, 11.065219983294254, 11.234868967942699, 36.550995637382336, 41.02227810746321, 15.647168659168198, 25.996598036369388, 43.211758629765164, 55.8015170161482, 10.182625402997846, 39.60984952790105, 28.629275576460646, 14.414733397947902, 46.27984784962569, 21.66131359849223, 11.787196953460743, 41.61329138342727, 24.752068891487202, 19.584424105628084, 33.53690345698613, 14.658502433492297, 32.23211522220599, 13.02019707393771, 18.677964420911913, 16.589365053076584, 25.965372234245265, 22.344332807315975, 28.52565059226203, 24.786879836989357, 28.10404729138788, 20.904094668919697, 21.991164316638745, 17.819900985005052, 20.728543741572484, 20.429808881153168, 19.56696844086971, 20.271778947843657, 17.71774989308407, 23.39548433104323, 23.46123312735302, 17.53337847601328, 46.94363135237153, 12.320999980719433, 9.529290363519543, 8.297202625964728, 8.0614992505241, 11.950262208111104, 13.348074646387886, 9.52527073778041, 19.742160286502624, 8.17516640348359, 6.487871503276511, 6.332636637559433, 6.107362807803935, 5.611106724523762, 10.02475508614878, 8.852560481393173, 9.06649839913542, 4.691544128237193, 6.297892763859115, 4.567369408119947, 4.5672533891768845, 6.467386813648279, 4.470666859127548, 5.221351977911888, 4.390461798532353, 4.3903873234903, 4.227548657306144, 16.23398657902552, 16.320472874800167, 5.966248815366556, 5.957902037694231, 9.834203344877217, 17.183483582521156, 24.146604140889355, 8.996430050386532, 11.311048495128023, 12.351656339866773, 16.046403706777316, 11.967856556821545, 15.984548891237758, 20.93337591832529, 14.519292462836832, 16.719101803974013, 21.692095222258505, 19.217288561553968, 25.84592397390691, 11.455208871428448, 14.621595838971418, 14.70219202019563, 11.202510494044384, 11.88505449578032, 12.233971587699907, 14.244611282223497, 11.811630210442571, 11.380002251410806, 12.200330952314706, 10.026684018981735, 8.769425999031805, 8.48046098549986, 11.365471446842406, 8.240470720394079, 8.176992008123287, 8.136514213078174, 8.057968843235683, 8.489994333587436, 7.176843306092561, 7.119177859657745, 7.091284195329165, 6.772794447266378, 9.572311151894553, 6.485817401934921, 10.182094093547816, 5.797161393186254, 5.700821645357082, 5.484257794051484, 5.420985804517324, 5.484756987745101, 18.837710419489422, 6.3072872896424546, 29.00167224071198, 5.0725866136918425, 4.9650309986406205, 7.741754899291429, 4.495489966628999, 4.35300099011024, 22.34738229747605, 11.097669094093353, 19.147533108242136, 15.944072296667777, 9.962038203906365, 15.451355606462515, 9.532932788085523, 51.455417557720516, 12.789591795566304, 15.66157779749321, 16.569531867016973, 18.21755704171639, 10.496028061838492, 13.778252090085427, 10.552619106247493, 13.53447870619849, 10.87454573568277, 10.969561252887368, 10.256858198624727, 9.191756841940942, 11.32074888313792, 10.422991899277648, 9.896026906359879, 8.606219575075665, 6.871919341946751, 6.4944772106141775, 6.251409814478505, 6.22477963226868, 5.780535913660403, 6.2616753510436665, 5.167930546948923, 6.900998061859217, 4.882901369286993, 14.325775960233154, 4.102415523704832, 3.7635251871379163, 24.370310874313347, 3.7586356716928484, 21.663064217850714, 3.6194305666219746, 3.593008060966297, 4.604812235102621, 4.663921785211127, 5.024732004070254, 3.4408738674650285, 3.439062145234632, 3.2448140815957185, 3.172165754500639, 3.153354794671045, 3.1446973061140113, 2.9817481448213523, 2.978900930393244, 6.220861349359494, 10.88484939539839, 4.789573215726768, 4.913435159189115, 24.162168270854206, 4.974220352244144, 28.48800596702019, 7.498880183699817, 6.2469596661330025, 13.073930152861408, 16.599308588556664, 12.46666612039374, 14.207121939951998, 12.401762527835594, 11.518286010131092, 8.333091553606634, 6.253019641300801, 7.858987770962472, 7.7078027971717535, 8.381952910588119, 6.1950249629722665, 8.837559694103389, 7.748764440431893, 6.912093415233882, 16.875445234616507, 7.520506270952407, 6.925930363498518, 6.451814690833865, 6.285632967484738, 6.011097478197796, 5.6159347683443555, 5.370082565172348, 9.889470003570018, 5.219517490867483, 4.8891674403898495, 4.652612953112679, 4.5375567085682915, 4.504465693707739, 5.4029152739087, 4.307412474787486, 4.301304013294816, 7.856864330541077, 10.690088530953377, 4.008348775171361, 3.8405545954105573, 3.799181694800172, 3.745469675883067, 3.662640816632461, 3.5731101310634754, 3.5702800700259374, 3.5662911102998565, 4.083020988005081, 3.5097340277167874, 3.7254057259428457, 18.390874212528413, 9.573469423608161, 6.624691935048846, 6.834534785987388, 4.4594238894443565, 13.929613479534185, 10.502394777876845, 27.409563831302577, 39.0505667863501, 6.952484580953375, 13.154895141978077, 6.712130297525927, 7.319922433475952, 5.333604870016721, 6.311289636386817, 9.95682441260231, 7.729628995726511, 9.122837430447222, 7.223492930554474, 8.698156070733745, 6.514433487589147, 6.802957949450852, 6.47430428313232, 12.221217276498594, 9.178953478582315, 8.953081760239264, 7.280173551516527, 6.598063841597841, 6.126216918773447, 6.072958362970103, 5.5200383115613985, 7.197053894030006, 5.116645340298693, 5.869500853859701, 6.01943366080078, 4.244939856937305, 4.09488991956621, 4.043456646297272, 3.9907066317775777, 3.9690531196154164, 8.256648950903541, 3.8376832082956223, 3.791715045673814, 7.368525685601676, 3.662690020490465, 3.581721983930864, 4.885310463482345, 3.4533990906029954, 3.654659753426, 3.2812703925363236, 3.203164893541374, 5.966179660069715, 15.14265192570954, 12.566430587085787, 6.993353664639628, 6.514963055125045, 7.039328009145242, 9.074535604571347, 6.856365722389072, 7.2645223231680385, 10.252585966768573, 5.244915524933055, 8.43840219133211, 8.627047906842467, 5.516515288516383, 6.605338292026403, 5.407202013255386, 9.60720467058789, 16.836183755598064, 5.972293922863574, 15.324769514912468, 5.272119612560365, 4.982239765245795, 8.284465022090663, 4.4953772521290745, 4.439030671048625, 4.028243021966817, 7.683136058869418, 4.051030289566104, 3.793441403068805, 3.7667019329032536, 3.7282952407366285, 3.6042414543954813, 3.572699923835501, 3.5565831170369333, 3.554983828951477, 3.5322964294379875, 3.4761353176597347, 3.43491105865793, 3.2363559600539014, 3.1455772687760706, 3.1010948484429184, 3.084401492275079, 3.037990806632665, 3.035453821562347, 3.023461538732989, 3.014816655104361, 17.227458523479093, 17.387602174293363, 4.943645365836675, 9.659371058934218, 4.577859898722228, 5.402151776665076, 5.495732369196, 11.143076241820156, 16.521180231013098, 10.557331175864018, 5.581772781377896, 4.437944151033947, 5.3108085649470755, 3.964174427888126, 5.045986935149185, 5.23158100251736, 11.083541529488532, 9.552189258759764, 11.120095442576416, 7.986866701081518, 7.743335336558423, 6.606767002139035, 6.275938804681672, 6.2563302547633155, 6.184066189798062, 5.494315477753502, 7.231357050823756, 5.242872543319138, 5.087225294657233, 4.8133384167081275, 4.809900560857832, 5.169139747611508, 4.138763629388833, 4.015414586294894, 4.6831196813018865, 3.9009129971348075, 4.744802185081151, 3.876141905765254, 3.8041445258724313, 3.6685410550733897, 3.5024844520730523, 3.4792658394568443, 3.300413063805445, 5.020924088073004, 3.0914573273236163, 3.0737061512610415, 3.72075401422482, 11.077567155755998, 11.604627934841194, 4.134491695691788, 4.084462204213852, 4.065798436544244, 13.226100778288227, 11.546506669676635, 8.888183239034207, 13.85457309138798, 8.060461913702262, 7.497364636366283, 6.424597831735618, 15.908371395683412, 5.415064826176268, 10.146285402005065, 5.318847934994015, 4.94056398961115, 8.571078000700794, 4.576978801046306, 6.061133348876877, 4.042830259721114, 6.5798351706752864, 3.3917483235264068, 3.2581178218156017, 8.059474087090347, 3.084251826818813, 3.0029423482585087, 7.3656313807539755, 2.8158652684796057, 2.737640749215675, 2.736071575036331, 4.761354703773882, 2.6692160889455603, 6.640346385486715, 2.623702558117482, 18.134977972538177, 15.483197410170174, 6.766985757134188, 5.34249026246341, 4.146733628367671, 6.558200994119827, 4.264369850265246, 5.0844864581945, 3.922332435667091, 4.020569857835699, 13.56486754916781, 9.949398982843368, 6.6322274896924505, 6.30595343833512, 6.977389867766738, 5.6315232774092845, 5.607891277189161, 10.903990591250569, 5.092757559027947, 7.057811377726892, 4.760199784772488, 4.7129398014157635, 4.519965134679791, 4.3060875738409505, 4.2489390372612075, 3.986629006812875, 3.7998665086748087, 3.54982691090988, 3.4527656367337936, 3.454056878018158, 3.346310914878685, 3.2756893312363617, 4.4320065717628765, 3.1148254726952884, 3.074809546265993, 3.0658953868646006, 10.497531033589958, 2.8869674569315884, 13.866921097569154, 2.6718122124652677, 6.946768644355066, 12.770987401195594, 4.701147150603669, 4.980967145985727, 6.7598537481109116, 8.301109774536055, 3.6361515251045224, 3.6892146877431453, 3.997342317496351, 3.8136498754394066, 3.7128343856449844, 11.144008745254936, 12.68745783090939, 8.66813026419818, 6.850790648377608, 10.792290035785486, 6.528649353119748, 6.386260364500035, 5.861718328030295, 5.564623430768629, 5.443739203413458, 7.126119671747063, 5.140014419160172, 5.024414161888549, 5.9526752502528, 4.488926284066947, 4.368571403220596, 4.320220940580106, 4.198739477432924, 4.169621146695799, 4.80048064914843, 3.103880461862232, 4.209122265009487, 2.9529877470847037, 2.687287370548083, 2.6772426051367924, 3.706967787860928, 2.546804978860581, 2.5343942956674974, 2.5156506817529896, 2.514735125930337, 5.450415141177594, 4.828669893681288, 6.279129651369511, 3.165231247484104, 8.146016100415524, 4.975226714588824, 3.479003408274957, 3.4040213566132103, 11.307344683754343, 9.339920381156933, 8.831227484952153, 7.720339744847052, 11.943885705144675, 5.82581185902596, 5.722622928125142, 4.7027418460275126, 4.590856764350626, 4.537312558237012, 5.580502559399619, 3.6727514354457123, 3.578306423376022, 3.5602340182280843, 3.4467593481051018, 3.9759210923784876, 3.275538774827412, 3.2557088836141097, 3.1177419709235807, 3.040568657890777, 2.9023380749953396, 2.8629632455704526, 2.6153270268263515, 2.6074412776576574, 2.5755473513110574, 18.33215742642896, 2.411479926040799, 2.389588677718806, 2.871801045183059, 2.2750037550289655, 9.480227928545387, 5.201491419563229, 3.448471194395088, 7.932601117588716, 5.629475693709747, 3.4593819384168705, 4.108930532265691, 4.643609250422953, 8.358366305454638, 4.532938707017288, 3.6524029534168356, 4.174119265939949, 11.037538126734987, 9.89307901114862, 8.17178154972871, 6.062198839645075, 5.377111841900395, 4.870599092220289, 4.685458864319197, 5.833945954348948, 4.061390299900541, 3.8558242937536105, 6.497685587697605, 10.977635884262488, 3.521571641075156, 9.468026332895054, 3.298969579136178, 3.1500337559838734, 3.0801365902290914, 14.215860719727011, 3.0655774579574335, 7.814132396565418, 2.9238823014325255, 3.2827003687500285, 2.6162311258179436, 2.578849448342887, 2.5305467606657936, 2.3670361597095138, 2.2796301430354045, 2.254780965591044, 2.7099647958636863, 1.9986936066910426, 4.330288134932817, 3.3782793543197434, 3.2515801190372087, 4.118111569898383, 3.669535298000197, 3.4401482187722623, 3.274777085404414, 6.449877984673284, 4.172113946430822, 9.537161991262398, 8.603197490486115, 7.943697130821387, 10.547104881803502, 6.61440867532389, 5.491619593099603, 5.390915131109554, 4.582473141263723, 4.499910584285553, 4.226972694342833, 4.068396001190887, 3.956640275803334, 3.8500890669015106, 4.914401442172033, 3.579978758071581, 3.4904332003509433, 3.456417881538128, 3.3449473241321197, 4.86585701552199, 4.224698178456224, 2.946250755972823, 2.9417619709562683, 2.8981137982203546, 2.5524319660556123, 2.5022729263269583, 2.4821123533217713, 3.983604314216129, 2.441442579412832, 2.3086595310142104, 4.1024486729928356, 4.916275517949345, 5.570258479638732, 5.172886536835967, 2.88506354743672, 2.7520752584203945, 3.1586376431298175, 9.746098675631458, 7.099654404713007, 5.443683106183666, 5.155766349527925, 11.757068852903892, 4.887997133790491, 4.675572767027909, 4.568732480499303, 4.221427718237014, 3.8671379312768397, 3.774349663271566, 3.747268867630674, 3.48873000317144, 3.3827690218293958, 3.443692085642991, 3.3542978885942305, 9.884691605875139, 3.137890763504471, 3.0759150435264107, 2.947737094942735, 2.8974470742002643, 8.02656522113849, 5.589493633817308, 4.747694225574728, 2.2972097043874395, 5.826988003316456, 2.1150909713105763, 2.0312020404989983, 2.1585781427606734, 1.9559665394984334, 2.5328466299242525, 3.189689173072774, 3.146588119355134, 5.0347971739066, 2.578561675197839, 2.81267805380856, 15.286504585579252, 9.00605988057072, 8.6696375859606, 6.160602576002381, 6.0092244806875055, 5.772989901242184, 15.536156265943381, 5.512881939320317, 5.094272180259771, 6.03674914878339, 4.431524996885642, 4.542064400475753, 6.886627088652566, 4.249365824826518, 5.1003916364280215, 5.4503799634824714, 2.887141457446893, 2.8431134331043433, 3.8606791756558176, 3.8566182336011376, 2.691627712972043, 2.425169886822085, 2.377526009678609, 5.102609692964606, 2.144745087886827, 2.117049319068873, 2.1004872239253745, 1.9322180956447292, 1.7839632043186227, 1.4875326244369795, 4.869407935399053, 3.8507000055246223, 3.2829358920951575, 4.901420255213073], \"Total\": [112.0, 66.0, 51.0, 52.0, 51.0, 41.0, 85.0, 25.0, 30.0, 25.0, 64.0, 27.0, 44.0, 23.0, 23.0, 30.0, 37.0, 55.0, 114.0, 18.0, 30.0, 21.0, 19.0, 34.0, 86.0, 34.0, 20.0, 23.0, 39.0, 16.0, 29.79829021213231, 27.409223722321713, 23.959363392389704, 21.965449663560037, 40.75905496006493, 18.619220753364115, 18.359188082338136, 39.047683539537516, 24.32568294916398, 35.66684062106548, 26.588301596619754, 17.099958306992175, 27.381586405696595, 16.281652360528263, 15.592556904243487, 16.39691342408244, 33.685835881931865, 14.807084319676873, 14.722682384663356, 19.813014121022892, 14.35914911439339, 14.104543509775283, 14.149709730134152, 13.745057878793435, 37.6870837507399, 13.540552074741022, 13.63507023723473, 24.617786056269367, 42.765752036330184, 12.827865879293142, 35.65875295816389, 44.710417723891865, 16.81255604694343, 29.937219456163827, 67.64332619208562, 28.61327394893098, 39.149920954994876, 33.51899675536274, 26.433055073096927, 29.585777060374475, 23.158157147808463, 23.11050231918857, 21.71840004115356, 65.54208574599932, 42.44807712539527, 114.2514726462916, 42.15746580101682, 30.557427497533194, 45.98112589003754, 60.12984215248072, 62.24858656735953, 79.85043959605134, 87.26265138387453, 80.96331248351184, 53.73353206373792, 61.11625161280517, 61.870325170745396, 51.186215096292834, 39.986426373545434, 48.67071418020139, 38.18460025051639, 39.58119416653161, 59.134392003912005, 65.04656573776907, 62.24059807672324, 69.18336628876308, 62.95617131156252, 15.344176673934461, 23.146890933419726, 9.64563588631538, 8.474840417740788, 11.468060235329732, 8.629758961984832, 7.538944672703259, 7.142405364657052, 7.096659990066893, 6.954267640286141, 6.783685794774391, 6.645776106994398, 6.626935974252352, 6.61126070165291, 6.555986286944569, 6.684682535977745, 6.387815046908901, 7.378124680619353, 8.940061632732764, 5.925518484289371, 11.239519015135524, 5.692526553312323, 9.628929289130003, 8.458407441300663, 5.404772146952399, 15.821606324986504, 5.302660577535012, 5.222776522137565, 5.137963176853853, 4.990375728563611, 15.523177285987483, 19.085025315236958, 13.999331477295271, 14.29232076021247, 50.08928887278137, 57.490813503525494, 20.836190002737442, 36.48076140556399, 64.21103786106111, 85.63343886514485, 13.177231268800284, 66.70270084493535, 46.153228649966294, 20.590228953489593, 86.36705260218827, 34.139235882311226, 16.284604861421617, 79.33265124738874, 41.841794800824005, 31.285068822517314, 65.0491880930893, 21.962651281381522, 69.18336628876308, 19.42898726665119, 34.820670016052595, 29.144529944268434, 62.95617131156252, 49.318047872918484, 80.96331248351184, 64.73505609426579, 87.26265138387453, 48.933644039312014, 55.92191947629882, 36.609822697667134, 54.8161869969707, 59.134392003912005, 53.13988792556926, 66.81010277116143, 51.186215096292834, 24.648594459376096, 24.721606561044666, 18.555511141186276, 51.06985441775228, 13.47731970029529, 10.54907327597406, 9.317613044424862, 9.081262374457905, 13.493832341679566, 15.184538720356182, 10.855554036422502, 22.559387915906754, 9.37854536438371, 7.508734161443276, 7.352599133679776, 7.127334901031402, 6.630901211926698, 11.857492814121894, 10.542029625417621, 10.968938280625894, 5.712135172947207, 7.669583237480775, 5.587141865037463, 5.594149659750541, 7.9360416758495615, 5.4904343121206445, 6.423252804610605, 5.410231305726269, 5.410153865121464, 5.24755268691389, 20.308077771389108, 21.67071667849615, 7.518868241566975, 7.512541939596495, 13.144430140958924, 25.448797483696833, 39.32612374192964, 12.40373021383399, 17.43448100725674, 19.696557090934323, 28.330370268887332, 20.01366796052129, 31.040461192904306, 48.23486759201746, 27.566708473902537, 34.69633484637903, 65.04656573776907, 55.432900014217005, 114.2514726462916, 20.789008542036754, 38.93572832490845, 48.31233123927864, 21.290264198853404, 28.237027610068978, 34.83566112562858, 79.85043959605134, 79.33265124738874, 34.73161416866663, 13.434434619141538, 11.086941517161426, 9.790310337368457, 9.501344814236361, 12.742777163456097, 9.261451883531205, 9.199639321026298, 9.15735215926021, 9.083625724900962, 9.685508208018891, 8.197689114370366, 8.140726462138304, 8.112197321305066, 7.793653298764828, 11.051095862493225, 7.506901974517337, 11.861657371076626, 6.818546951869065, 6.721680011068928, 6.505228362976673, 6.444936772642067, 6.539052546871372, 22.489642642045816, 7.536825055635169, 34.762262089245226, 6.0935479890169715, 5.988671148163471, 9.383606131330467, 5.516912164952323, 5.373982826724472, 27.718937071447282, 13.707485250815193, 24.938617760962217, 20.653246564145142, 12.743928158605735, 21.020256937634368, 12.79534098080764, 112.88993473088681, 19.396471760598203, 32.62090658421363, 37.34292601237859, 50.0143934460064, 18.184221575194275, 33.254057413871806, 19.228126441158796, 40.356681491400586, 31.636110831787526, 39.00017416897654, 28.47111498424456, 16.67678716429525, 53.73353206373792, 36.63939359033454, 87.26265138387453, 9.621735432531661, 7.887466841607104, 7.50998886656084, 7.267182772642889, 7.240294289581594, 6.796060002331833, 7.430279510083501, 6.183460546983904, 8.35104738972501, 5.921391202829237, 17.84970549452925, 5.1179370324733, 4.779036556448167, 30.96166295275931, 4.77596382087253, 27.664278414432832, 4.634962193926233, 4.608542218265429, 5.9088190496347375, 6.010477780692552, 6.484176426367926, 4.456387850306814, 4.454583510877272, 4.260374910290595, 4.187702066426696, 4.16886614690054, 4.160212467097955, 3.9973206304648374, 4.001146242816411, 8.420985588613478, 15.158762653516538, 6.576799321801763, 6.759607963558609, 41.83815556162739, 7.012608020374155, 52.49895739717173, 11.417162919738498, 10.255349283306614, 29.68323614152415, 51.63933390798031, 34.021183861455356, 44.795907738203994, 37.132124145742125, 34.41423903876011, 19.215079222610388, 11.365097656908096, 20.511712055540524, 21.290264198853404, 30.6691791516694, 13.130242834226342, 64.21103786106111, 47.50999697223345, 39.341348944995914, 18.548644674543112, 8.534429278836795, 7.939827303508919, 7.46588900029798, 7.299505495407952, 7.0257226037446685, 6.629910970400356, 6.384401224927743, 11.801227545799076, 6.233389993145855, 5.9030824292782835, 5.666485044681082, 5.551551473153275, 5.518346448924767, 6.639765090973199, 5.321286138187457, 5.315177254314366, 9.792789002761298, 13.379441296030807, 5.022282225035897, 4.854457527996198, 4.813071047419381, 4.759349076656267, 4.676514708556437, 4.587000637142407, 4.584181262371995, 4.580187622893627, 5.253519503081008, 4.523609413815438, 4.823186462477892, 23.88244534379058, 12.462114285478519, 8.654977328465577, 9.443631372263056, 5.9271062326535855, 23.493816237459992, 17.87821264186886, 66.81010277116143, 112.88993473088681, 10.888510133986273, 27.41178992773243, 10.625726618208322, 13.07489861260534, 7.852323044744937, 11.014815179165524, 31.040461192904306, 19.487298646566433, 39.58119416653161, 25.92963438723714, 55.432900014217005, 19.847902928742133, 30.647525502360256, 79.85043959605134, 13.231681978436443, 10.189500643147127, 9.96350222627058, 8.290588659378598, 7.608466332657435, 7.136624877640987, 7.089229417474078, 6.531308485543002, 8.59008807344588, 6.1271978965114915, 7.085749167340657, 7.284406248640837, 5.255525743918737, 5.105322935491019, 5.0539400520015825, 5.001131324312476, 4.979456429713643, 10.423800592859463, 4.848090740598169, 4.802128845489778, 9.385817406982959, 4.673139892598603, 4.592124507872462, 6.311435897159237, 4.4640011888189095, 4.727752622334815, 4.291693376311735, 4.213578894599876, 7.922771534090506, 20.18558255613256, 17.64968966572275, 10.787383368627532, 9.923144868241478, 11.73357797558724, 18.001096377218637, 12.316352438017343, 14.080408403020092, 30.06798002148096, 8.790033618108266, 23.60968147603089, 26.097271191765486, 9.922595923059546, 26.058667143370364, 13.356995312703734, 10.620467154484725, 19.513439510369498, 6.978731619677063, 18.017006566273874, 6.278555429221556, 5.98867984332744, 10.136511600166585, 5.502079782763799, 5.445485334614418, 5.034719660736994, 9.607393147321977, 5.129236317902032, 4.80602185406918, 4.7731523829899665, 4.7347334745459095, 4.6106784725767405, 4.579143210598238, 4.563027033812533, 4.561834644175322, 4.538747366228805, 4.48257544761556, 4.441344864399318, 4.242795982724747, 4.152028291351317, 4.107559724171178, 4.09106497666203, 4.0444270571059695, 4.041898882186401, 4.029902339301316, 4.0213797092916, 23.089799471079825, 23.639676808961173, 6.662475693633017, 14.21489440124989, 6.342027104398802, 7.6512311177584715, 8.020002842166106, 21.670876020704274, 51.63933390798031, 30.6691791516694, 10.17813771112045, 7.50007121197025, 11.465229627024124, 6.214440610641179, 16.538974815089794, 27.93804322975271, 12.087359013849868, 10.556012656489408, 12.45646965818464, 9.014905117939799, 8.747154390475872, 7.611490227452294, 7.280397817147951, 7.260237619403412, 7.1878861919044255, 6.498874475403218, 8.594960332880953, 6.2467036762236, 6.091044749689902, 5.817185902275222, 5.813719556900642, 6.40423587473507, 5.142591325167692, 5.019618466153968, 5.863076053288294, 4.905018607878402, 5.9671483748828535, 4.87995922642705, 4.808004199244084, 4.672479935443002, 4.506327522059886, 4.48308489629372, 4.304234923409657, 6.6033764992192765, 4.0952829571710305, 4.077617204306539, 5.037293882558652, 17.856179990596917, 21.15218171201376, 5.783282322330549, 6.567330689151034, 8.579189030459222, 14.233781028875958, 12.562926701975865, 9.894292924205901, 15.538676499540589, 9.107157451145344, 8.503440599666247, 7.430627111643362, 18.657133126388587, 6.421086338173694, 12.03940967311894, 6.324875015559905, 5.9465889529097975, 10.369644122174442, 5.633570905552905, 7.649634148478672, 5.121497180066801, 8.365263437805995, 4.397792332195458, 4.264144314241355, 10.624508584411846, 4.090302173528832, 4.008970664045065, 9.889966891423805, 3.8468301965439884, 3.743663335260198, 3.742103898050119, 6.517571375625937, 3.675253457506257, 9.171633774906692, 3.6298205513685913, 25.114957830899936, 21.779492334725777, 11.29398371987931, 9.131040948044774, 6.638128020990722, 14.608096038092574, 7.357460536529164, 24.723610259086215, 10.573197162995742, 23.60968147603089, 14.572765939590198, 10.955151044505728, 7.637378715162671, 7.311358611391965, 8.094595600499828, 6.636657478117243, 6.613026913622374, 12.91363520431802, 6.0978921294547215, 8.477771827405515, 5.774468675345988, 5.718066839229582, 5.526145290555369, 5.311601388827454, 5.254066275690392, 4.991775825646781, 4.804995028561125, 4.555171628319807, 4.45979102257297, 4.4682415806656675, 4.351441475804964, 4.28082175351255, 5.818987813481722, 4.1199654027426025, 4.079955662455583, 4.07103255609529, 14.033287863776023, 3.8921027359497056, 18.90434900253532, 3.6807324881878696, 10.202148899114935, 20.698455132096985, 6.893844473008673, 7.5637213884316905, 12.815652057408215, 18.464370421105134, 5.260408033011639, 5.765820591363532, 9.484087363949751, 10.624151498808487, 34.139235882311226, 12.147549784111172, 13.950766250859362, 9.671672218828043, 7.854351554186501, 12.403899378701079, 7.5323893579991665, 7.389842938543576, 6.8694822984945185, 6.56816461021157, 6.447285251404519, 8.446401017574914, 6.143937483673799, 6.028038114148202, 7.14279437704756, 5.492736639460726, 5.372217459572206, 5.3237691997649925, 5.202328215449751, 5.173361693616798, 6.153475245785001, 4.107426524186109, 5.625509625410311, 3.956533095597796, 3.69096199110817, 3.6807839107176625, 5.134173231566257, 3.550346550256314, 3.538160929844174, 3.519197576696974, 3.5183022035422096, 8.11700945406651, 7.174598153651577, 9.596853801791317, 5.0690917003651546, 27.566708473902537, 11.933390817470071, 7.670956131772721, 13.806726910636721, 12.313069224413963, 10.346003060277791, 9.842207092230165, 8.726068717265852, 13.679545958833284, 6.83150401050322, 6.923643153718712, 5.708431881609441, 5.59690271916483, 5.543097564043602, 6.819243962151104, 4.678441927872592, 4.584044345644279, 4.565940298298039, 4.45247797854421, 5.16660195472143, 4.281232752632801, 4.261396498344848, 4.123432366805196, 4.053305997437974, 3.908027870504183, 3.868671917506649, 3.621020302262697, 3.620090863870606, 3.581897860139229, 25.95951560666387, 3.4171744161375206, 3.3952860616118126, 4.10413826887803, 3.280696737240684, 13.927150969420131, 7.856549321504827, 5.072055434816164, 14.539830304943212, 9.529665655079668, 5.202175268991693, 7.002753923040714, 8.464121714806232, 25.362861866430308, 10.053253833440966, 6.8672343617136145, 13.951190041268667, 12.038786382253583, 10.894130861612666, 9.484811078443604, 7.063223735590488, 6.378133244306129, 5.871623658878497, 5.686489492014337, 7.081625103169786, 5.062508548438962, 4.85686580840634, 8.282078987703796, 14.006780985814366, 4.522601368761878, 12.194655572174488, 4.30023504130798, 4.1511050787633454, 4.081175919476815, 18.85132431251248, 4.066654406075881, 10.46665398568463, 3.9249168438151196, 4.496923271205387, 3.61741455235077, 3.579873044964699, 3.5317309264979246, 3.3681065439487776, 3.280707588762458, 3.2558048979985843, 3.9706279368238877, 2.999728854631177, 6.570169813273626, 5.113952915227612, 4.934658493135048, 6.980113190383094, 6.009890361765606, 5.836259225759863, 5.609929132320119, 23.60968147603089, 11.757822494144625, 10.534856908104086, 9.600827532789552, 8.941328871073818, 12.30906270406044, 7.7313713077551425, 6.489366198484275, 6.3885417270986204, 5.580112660702134, 5.497541594043237, 5.225648976164159, 5.066071445671552, 4.954306720933842, 4.847722952325826, 6.256805795580785, 4.577608971038741, 4.488149575246924, 4.454073954980822, 4.342863632839454, 6.320812647029353, 5.516502721892417, 3.9439041155686905, 3.9393893817228345, 3.8957422531653565, 3.550107161930036, 3.499902725318664, 3.479757502243784, 5.596946437030389, 3.4390936892787787, 3.3062875397447065, 5.9524691892356065, 7.698348637809284, 9.591957076505276, 8.9237129677487, 4.290337324490956, 4.053889736639436, 7.6908968761456435, 10.743035288972427, 8.096528227068292, 6.4405570192431805, 6.152636708179331, 14.082456787630122, 5.884970925825789, 5.677804167346826, 5.565726258593291, 5.218372162221876, 4.864008208803645, 4.772047843854293, 4.744160113015775, 4.485604433176762, 4.3796511231808815, 4.467012812644048, 4.375611543766604, 12.99379949651082, 4.134764631523416, 4.072824114078261, 3.9446140068953777, 3.894440531057617, 10.793095046076195, 7.657093568175882, 6.690224455741902, 3.3265424481617307, 8.502122667119586, 3.111986203256492, 3.0280838373569257, 3.2442099776078352, 2.952906573364174, 3.8435306985023865, 5.051944929605341, 6.644844005394375, 16.813344308294806, 4.900368445757718, 7.263737203558214, 16.33025815486822, 10.002776641015819, 9.664350918390051, 7.155334278742652, 7.003789684775503, 6.767797160557305, 18.286265787994207, 6.507518460594289, 6.088837600887234, 7.388906536347323, 5.426090638208652, 5.576457055100316, 8.509829133676401, 5.55737924362168, 6.704950573853153, 7.261097427380823, 3.8817089798821742, 3.837680477967482, 5.212746261104889, 5.2547178612869505, 3.6861940217950537, 3.4197483842098615, 3.3721052433293033, 7.344333167440112, 3.139311057704418, 3.1116197072918723, 3.0950712939903324, 2.926794171645901, 2.778530323739449, 2.4820994619866923, 10.743056092220275, 8.486163468436168, 7.71330463851606, 16.538974815089794], \"Category\": [\"Default\", \"Default\", \"Default\", \"Default\", \"Default\", \"Default\", \"Default\", \"Default\", \"Default\", \"Default\", \"Default\", \"Default\", \"Default\", \"Default\", \"Default\", \"Default\", \"Default\", \"Default\", \"Default\", \"Default\", \"Default\", \"Default\", \"Default\", \"Default\", \"Default\", \"Default\", \"Default\", \"Default\", \"Default\", \"Default\", \"Topic1\", \"Topic1\", \"Topic1\", \"Topic1\", \"Topic1\", \"Topic1\", \"Topic1\", \"Topic1\", \"Topic1\", \"Topic1\", \"Topic1\", \"Topic1\", \"Topic1\", \"Topic1\", \"Topic1\", \"Topic1\", \"Topic1\", \"Topic1\", \"Topic1\", \"Topic1\", \"Topic1\", \"Topic1\", \"Topic1\", \"Topic1\", \"Topic1\", \"Topic1\", \"Topic1\", \"Topic1\", \"Topic1\", \"Topic1\", \"Topic1\", \"Topic1\", \"Topic1\", \"Topic1\", \"Topic1\", \"Topic1\", \"Topic1\", \"Topic1\", \"Topic1\", \"Topic1\", \"Topic1\", \"Topic1\", \"Topic1\", \"Topic1\", \"Topic1\", \"Topic1\", \"Topic1\", \"Topic1\", \"Topic1\", \"Topic1\", \"Topic1\", \"Topic1\", \"Topic1\", \"Topic1\", \"Topic1\", \"Topic1\", \"Topic1\", \"Topic1\", \"Topic1\", \"Topic1\", \"Topic1\", \"Topic1\", \"Topic1\", \"Topic1\", \"Topic1\", \"Topic1\", \"Topic1\", \"Topic2\", \"Topic2\", \"Topic2\", \"Topic2\", \"Topic2\", \"Topic2\", \"Topic2\", \"Topic2\", \"Topic2\", \"Topic2\", \"Topic2\", \"Topic2\", \"Topic2\", \"Topic2\", \"Topic2\", \"Topic2\", \"Topic2\", \"Topic2\", \"Topic2\", \"Topic2\", \"Topic2\", \"Topic2\", \"Topic2\", \"Topic2\", \"Topic2\", \"Topic2\", \"Topic2\", \"Topic2\", \"Topic2\", \"Topic2\", \"Topic2\", \"Topic2\", \"Topic2\", \"Topic2\", \"Topic2\", \"Topic2\", \"Topic2\", \"Topic2\", \"Topic2\", \"Topic2\", \"Topic2\", \"Topic2\", \"Topic2\", \"Topic2\", \"Topic2\", \"Topic2\", \"Topic2\", \"Topic2\", \"Topic2\", \"Topic2\", \"Topic2\", \"Topic2\", \"Topic2\", \"Topic2\", \"Topic2\", \"Topic2\", \"Topic2\", \"Topic2\", \"Topic2\", \"Topic2\", \"Topic2\", \"Topic2\", \"Topic2\", \"Topic2\", \"Topic2\", \"Topic2\", \"Topic2\", \"Topic2\", \"Topic2\", \"Topic3\", \"Topic3\", \"Topic3\", \"Topic3\", \"Topic3\", \"Topic3\", \"Topic3\", \"Topic3\", \"Topic3\", \"Topic3\", \"Topic3\", \"Topic3\", \"Topic3\", \"Topic3\", \"Topic3\", \"Topic3\", \"Topic3\", \"Topic3\", \"Topic3\", \"Topic3\", \"Topic3\", \"Topic3\", \"Topic3\", \"Topic3\", \"Topic3\", \"Topic3\", \"Topic3\", \"Topic3\", \"Topic3\", \"Topic3\", \"Topic3\", \"Topic3\", \"Topic3\", \"Topic3\", \"Topic3\", \"Topic3\", \"Topic3\", \"Topic3\", \"Topic3\", \"Topic3\", \"Topic3\", \"Topic3\", \"Topic3\", \"Topic3\", \"Topic3\", \"Topic3\", \"Topic3\", \"Topic3\", \"Topic3\", \"Topic3\", \"Topic3\", \"Topic3\", \"Topic3\", \"Topic3\", \"Topic3\", \"Topic3\", \"Topic3\", \"Topic3\", \"Topic4\", \"Topic4\", \"Topic4\", \"Topic4\", \"Topic4\", \"Topic4\", \"Topic4\", \"Topic4\", \"Topic4\", \"Topic4\", \"Topic4\", \"Topic4\", \"Topic4\", \"Topic4\", \"Topic4\", \"Topic4\", \"Topic4\", \"Topic4\", \"Topic4\", \"Topic4\", \"Topic4\", \"Topic4\", \"Topic4\", \"Topic4\", \"Topic4\", \"Topic4\", \"Topic4\", \"Topic4\", \"Topic4\", \"Topic4\", \"Topic4\", \"Topic4\", \"Topic4\", \"Topic4\", \"Topic4\", \"Topic4\", \"Topic4\", \"Topic4\", \"Topic4\", \"Topic4\", \"Topic4\", \"Topic4\", \"Topic4\", \"Topic4\", \"Topic4\", \"Topic4\", \"Topic4\", \"Topic4\", \"Topic4\", \"Topic4\", \"Topic4\", \"Topic4\", \"Topic4\", \"Topic5\", \"Topic5\", \"Topic5\", \"Topic5\", \"Topic5\", \"Topic5\", \"Topic5\", \"Topic5\", \"Topic5\", \"Topic5\", \"Topic5\", \"Topic5\", \"Topic5\", \"Topic5\", \"Topic5\", \"Topic5\", \"Topic5\", \"Topic5\", \"Topic5\", \"Topic5\", \"Topic5\", \"Topic5\", \"Topic5\", \"Topic5\", \"Topic5\", \"Topic5\", \"Topic5\", \"Topic5\", \"Topic5\", \"Topic5\", \"Topic5\", \"Topic5\", \"Topic5\", \"Topic5\", \"Topic5\", \"Topic5\", \"Topic5\", \"Topic5\", \"Topic5\", \"Topic5\", \"Topic5\", \"Topic5\", \"Topic5\", \"Topic5\", \"Topic5\", \"Topic5\", \"Topic5\", \"Topic5\", \"Topic5\", \"Topic5\", \"Topic5\", \"Topic5\", \"Topic5\", \"Topic6\", \"Topic6\", \"Topic6\", \"Topic6\", \"Topic6\", \"Topic6\", \"Topic6\", \"Topic6\", \"Topic6\", \"Topic6\", \"Topic6\", \"Topic6\", \"Topic6\", \"Topic6\", \"Topic6\", \"Topic6\", \"Topic6\", \"Topic6\", \"Topic6\", \"Topic6\", \"Topic6\", \"Topic6\", \"Topic6\", \"Topic6\", \"Topic6\", \"Topic6\", \"Topic6\", \"Topic6\", \"Topic6\", \"Topic6\", \"Topic6\", \"Topic6\", \"Topic6\", \"Topic6\", \"Topic6\", \"Topic6\", \"Topic6\", \"Topic6\", \"Topic6\", \"Topic6\", \"Topic6\", \"Topic6\", \"Topic6\", \"Topic6\", \"Topic6\", \"Topic6\", \"Topic6\", \"Topic6\", \"Topic6\", \"Topic6\", \"Topic6\", \"Topic6\", \"Topic6\", \"Topic7\", \"Topic7\", \"Topic7\", \"Topic7\", \"Topic7\", \"Topic7\", \"Topic7\", \"Topic7\", \"Topic7\", \"Topic7\", \"Topic7\", \"Topic7\", \"Topic7\", \"Topic7\", \"Topic7\", \"Topic7\", \"Topic7\", \"Topic7\", \"Topic7\", \"Topic7\", \"Topic7\", \"Topic7\", \"Topic7\", \"Topic7\", \"Topic7\", \"Topic7\", \"Topic7\", \"Topic7\", \"Topic7\", \"Topic7\", \"Topic7\", \"Topic7\", \"Topic7\", \"Topic7\", \"Topic7\", \"Topic7\", \"Topic7\", \"Topic7\", \"Topic7\", \"Topic7\", \"Topic7\", \"Topic7\", \"Topic7\", \"Topic7\", \"Topic8\", \"Topic8\", \"Topic8\", \"Topic8\", \"Topic8\", \"Topic8\", \"Topic8\", \"Topic8\", \"Topic8\", \"Topic8\", \"Topic8\", \"Topic8\", \"Topic8\", \"Topic8\", \"Topic8\", \"Topic8\", \"Topic8\", \"Topic8\", \"Topic8\", \"Topic8\", \"Topic8\", \"Topic8\", \"Topic8\", \"Topic8\", \"Topic8\", \"Topic8\", \"Topic8\", \"Topic8\", \"Topic8\", \"Topic8\", \"Topic8\", \"Topic8\", \"Topic8\", \"Topic8\", \"Topic8\", \"Topic8\", \"Topic8\", \"Topic8\", \"Topic8\", \"Topic8\", \"Topic8\", \"Topic8\", \"Topic8\", \"Topic8\", \"Topic8\", \"Topic8\", \"Topic9\", \"Topic9\", \"Topic9\", \"Topic9\", \"Topic9\", \"Topic9\", \"Topic9\", \"Topic9\", \"Topic9\", \"Topic9\", \"Topic9\", \"Topic9\", \"Topic9\", \"Topic9\", \"Topic9\", \"Topic9\", \"Topic9\", \"Topic9\", \"Topic9\", \"Topic9\", \"Topic9\", \"Topic9\", \"Topic9\", \"Topic9\", \"Topic9\", \"Topic9\", \"Topic9\", \"Topic9\", \"Topic9\", \"Topic9\", \"Topic9\", \"Topic9\", \"Topic9\", \"Topic9\", \"Topic9\", \"Topic9\", \"Topic10\", \"Topic10\", \"Topic10\", \"Topic10\", \"Topic10\", \"Topic10\", \"Topic10\", \"Topic10\", \"Topic10\", \"Topic10\", \"Topic10\", \"Topic10\", \"Topic10\", \"Topic10\", \"Topic10\", \"Topic10\", \"Topic10\", \"Topic10\", \"Topic10\", \"Topic10\", \"Topic10\", \"Topic10\", \"Topic10\", \"Topic10\", \"Topic10\", \"Topic10\", \"Topic10\", \"Topic10\", \"Topic10\", \"Topic10\", \"Topic10\", \"Topic10\", \"Topic10\", \"Topic10\", \"Topic10\", \"Topic10\", \"Topic10\", \"Topic10\", \"Topic10\", \"Topic10\", \"Topic11\", \"Topic11\", \"Topic11\", \"Topic11\", \"Topic11\", \"Topic11\", \"Topic11\", \"Topic11\", \"Topic11\", \"Topic11\", \"Topic11\", \"Topic11\", \"Topic11\", \"Topic11\", \"Topic11\", \"Topic11\", \"Topic11\", \"Topic11\", \"Topic11\", \"Topic11\", \"Topic11\", \"Topic11\", \"Topic11\", \"Topic11\", \"Topic11\", \"Topic11\", \"Topic11\", \"Topic11\", \"Topic11\", \"Topic11\", \"Topic11\", \"Topic11\", \"Topic11\", \"Topic11\", \"Topic11\", \"Topic11\", \"Topic11\", \"Topic11\", \"Topic11\", \"Topic11\", \"Topic11\", \"Topic12\", \"Topic12\", \"Topic12\", \"Topic12\", \"Topic12\", \"Topic12\", \"Topic12\", \"Topic12\", \"Topic12\", \"Topic12\", \"Topic12\", \"Topic12\", \"Topic12\", \"Topic12\", \"Topic12\", \"Topic12\", \"Topic12\", \"Topic12\", \"Topic12\", \"Topic12\", \"Topic12\", \"Topic12\", \"Topic12\", \"Topic12\", \"Topic12\", \"Topic12\", \"Topic12\", \"Topic12\", \"Topic12\", \"Topic12\", \"Topic12\", \"Topic12\", \"Topic12\", \"Topic12\", \"Topic12\", \"Topic12\", \"Topic12\", \"Topic12\", \"Topic13\", \"Topic13\", \"Topic13\", \"Topic13\", \"Topic13\", \"Topic13\", \"Topic13\", \"Topic13\", \"Topic13\", \"Topic13\", \"Topic13\", \"Topic13\", \"Topic13\", \"Topic13\", \"Topic13\", \"Topic13\", \"Topic13\", \"Topic13\", \"Topic13\", \"Topic13\", \"Topic13\", \"Topic13\", \"Topic13\", \"Topic13\", \"Topic13\", \"Topic13\", \"Topic13\", \"Topic13\", \"Topic13\", \"Topic13\", \"Topic13\", \"Topic13\", \"Topic13\", \"Topic13\", \"Topic13\", \"Topic13\", \"Topic13\", \"Topic13\", \"Topic13\", \"Topic13\", \"Topic13\", \"Topic13\", \"Topic14\", \"Topic14\", \"Topic14\", \"Topic14\", \"Topic14\", \"Topic14\", \"Topic14\", \"Topic14\", \"Topic14\", \"Topic14\", \"Topic14\", \"Topic14\", \"Topic14\", \"Topic14\", \"Topic14\", \"Topic14\", \"Topic14\", \"Topic14\", \"Topic14\", \"Topic14\", \"Topic14\", \"Topic14\", \"Topic14\", \"Topic14\", \"Topic14\", \"Topic14\", \"Topic14\", \"Topic14\", \"Topic14\", \"Topic14\", \"Topic14\", \"Topic14\", \"Topic14\", \"Topic14\", \"Topic14\", \"Topic14\", \"Topic14\", \"Topic14\", \"Topic14\", \"Topic15\", \"Topic15\", \"Topic15\", \"Topic15\", \"Topic15\", \"Topic15\", \"Topic15\", \"Topic15\", \"Topic15\", \"Topic15\", \"Topic15\", \"Topic15\", \"Topic15\", \"Topic15\", \"Topic15\", \"Topic15\", \"Topic15\", \"Topic15\", \"Topic15\", \"Topic15\", \"Topic15\", \"Topic15\", \"Topic15\", \"Topic15\", \"Topic15\", \"Topic15\", \"Topic15\", \"Topic15\", \"Topic15\", \"Topic15\", \"Topic15\", \"Topic15\", \"Topic15\", \"Topic15\", \"Topic15\", \"Topic15\", \"Topic16\", \"Topic16\", \"Topic16\", \"Topic16\", \"Topic16\", \"Topic16\", \"Topic16\", \"Topic16\", \"Topic16\", \"Topic16\", \"Topic16\", \"Topic16\", \"Topic16\", \"Topic16\", \"Topic16\", \"Topic16\", \"Topic16\", \"Topic16\", \"Topic16\", \"Topic16\", \"Topic16\", \"Topic16\", \"Topic16\", \"Topic16\", \"Topic16\", \"Topic16\", \"Topic16\", \"Topic16\", \"Topic16\", \"Topic16\", \"Topic16\", \"Topic16\", \"Topic16\", \"Topic16\", \"Topic16\", \"Topic16\", \"Topic17\", \"Topic17\", \"Topic17\", \"Topic17\", \"Topic17\", \"Topic17\", \"Topic17\", \"Topic17\", \"Topic17\", \"Topic17\", \"Topic17\", \"Topic17\", \"Topic17\", \"Topic17\", \"Topic17\", \"Topic17\", \"Topic17\", \"Topic17\", \"Topic17\", \"Topic17\", \"Topic17\", \"Topic17\", \"Topic17\", \"Topic17\", \"Topic17\", \"Topic17\", \"Topic17\", \"Topic17\", \"Topic17\", \"Topic17\", \"Topic17\", \"Topic17\", \"Topic17\", \"Topic17\"], \"logprob\": [30.0, 29.0, 28.0, 27.0, 26.0, 25.0, 24.0, 23.0, 22.0, 21.0, 20.0, 19.0, 18.0, 17.0, 16.0, 15.0, 14.0, 13.0, 12.0, 11.0, 10.0, 9.0, 8.0, 7.0, 6.0, 5.0, 4.0, 3.0, 2.0, 1.0, -5.6838, -5.7689, -5.9042, -5.9972, -5.3836, -6.1679, -6.1828, -5.4286, -5.9023, -5.5203, -5.8155, -6.2582, -5.7885, -6.312, -6.3567, -6.3072, -5.59, -6.4121, -6.4182, -6.1225, -6.4451, -6.4647, -6.4619, -6.4922, -5.4836, -6.5085, -6.502, -5.9114, -5.3605, -6.5671, -5.5636, -5.3519, -6.3006, -5.7506, -4.9814, -5.7967, -5.5021, -5.6541, -5.8795, -5.7763, -6.003, -6.0051, -6.0646, -5.1471, -5.5339, -4.761, -5.5554, -5.8045, -5.5077, -5.3347, -5.3362, -5.1784, -5.1616, -5.214, -5.467, -5.4392, -5.4773, -5.5601, -5.6583, -5.5861, -5.6775, -5.6766, -5.6014, -5.5863, -5.5965, -5.6066, -5.6433, -5.482, -5.0785, -5.9832, -6.1291, -5.8342, -6.1228, -6.2634, -6.326, -6.3335, -6.3572, -6.3864, -6.4106, -6.4139, -6.4167, -6.4267, -6.4121, -6.4584, -6.3216, -6.1316, -6.5476, -5.9141, -6.5965, -6.0735, -6.2054, -6.6598, -5.5893, -6.6834, -6.7022, -6.7226, -6.7591, -5.6311, -5.4285, -5.7341, -5.7189, -4.5392, -4.4238, -5.3876, -4.88, -4.3718, -4.1161, -5.8172, -4.4588, -4.7835, -5.4697, -4.3032, -5.0624, -5.6709, -4.4095, -4.929, -5.1632, -4.6253, -5.4529, -4.665, -5.5714, -5.2106, -5.3292, -4.8812, -5.0313, -4.7871, -4.9276, -4.802, -5.098, -5.0473, -5.2576, -5.1064, -5.1209, -5.1641, -5.1287, -5.2634, -4.5327, -4.5299, -4.8211, -3.8363, -5.1739, -5.4309, -5.5693, -5.5981, -5.2045, -5.0939, -5.4313, -4.7025, -5.5841, -5.8153, -5.8395, -5.8757, -5.9605, -5.3802, -5.5045, -5.4806, -6.1395, -5.845, -6.1663, -6.1663, -5.8185, -6.1877, -6.0325, -6.2058, -6.2058, -6.2436, -4.8981, -4.8928, -5.8991, -5.9005, -5.3994, -4.8413, -4.5011, -5.4884, -5.2595, -5.1714, -4.9097, -5.203, -4.9136, -4.6439, -5.0098, -4.8687, -4.6083, -4.7294, -4.4331, -5.2468, -5.0027, -4.9972, -5.2691, -5.2099, -5.181, -5.0289, -5.2161, -5.2534, -5.0948, -5.291, -5.425, -5.4585, -5.1657, -5.4872, -5.4949, -5.4999, -5.5096, -5.4574, -5.6254, -5.6335, -5.6374, -5.6833, -5.3374, -5.7266, -5.2756, -5.8389, -5.8556, -5.8944, -5.906, -5.8943, -4.6604, -5.7546, -4.2289, -5.9724, -5.9938, -5.5496, -6.0932, -6.1254, -4.4895, -5.1895, -4.6441, -4.8272, -5.2975, -4.8586, -5.3415, -3.6555, -5.0476, -4.845, -4.7887, -4.6939, -5.2453, -4.9732, -5.2399, -4.991, -5.2098, -5.2011, -5.2683, -5.378, -5.1696, -5.2522, -5.3041, -4.7092, -4.9343, -4.9908, -5.0289, -5.0332, -5.1072, -5.0273, -5.2192, -4.93, -5.276, -4.1996, -5.4501, -5.5363, -3.6683, -5.5376, -3.7861, -5.5754, -5.5827, -5.3346, -5.3218, -5.2473, -5.626, -5.6265, -5.6846, -5.7073, -5.7132, -5.716, -5.7692, -5.7702, -5.0338, -4.4743, -5.2953, -5.2697, -3.6769, -5.2574, -3.5122, -4.847, -5.0296, -4.2911, -4.0523, -4.3386, -4.208, -4.3439, -4.4178, -4.7415, -5.0286, -4.8, -4.8195, -4.7356, -5.038, -4.6827, -4.8142, -4.9284, -4.0135, -4.8217, -4.904, -4.975, -5.0011, -5.0457, -5.1137, -5.1585, -4.5478, -5.1869, -5.2523, -5.3019, -5.3269, -5.3342, -5.1524, -5.379, -5.3804, -4.7779, -4.47, -5.4509, -5.4937, -5.5045, -5.5188, -5.5411, -5.5659, -5.5667, -5.5678, -5.4325, -5.5838, -5.5241, -3.9275, -4.5803, -4.9485, -4.9173, -5.3443, -4.2053, -4.4877, -3.5284, -3.1745, -4.9002, -4.2625, -4.9354, -4.8487, -5.1653, -4.997, -4.5411, -4.7943, -4.6285, -4.862, -4.6762, -4.9653, -4.922, -4.9715, -4.0461, -4.3323, -4.3572, -4.5641, -4.6625, -4.7367, -4.7454, -4.8409, -4.5756, -4.9167, -4.7795, -4.7542, -5.1035, -5.1395, -5.1521, -5.1653, -5.1707, -4.4382, -5.2044, -5.2164, -4.552, -5.251, -5.2734, -4.963, -5.3099, -5.2532, -5.361, -5.3851, -4.7631, -3.8317, -4.0182, -4.6043, -4.6751, -4.5977, -4.3438, -4.6241, -4.5662, -4.2217, -4.892, -4.4164, -4.3943, -4.8415, -4.6614, -4.8615, -4.1357, -3.5746, -4.611, -3.6687, -4.7357, -4.7923, -4.2838, -4.8951, -4.9077, -5.0048, -4.3591, -4.9992, -5.0649, -5.072, -5.0822, -5.1161, -5.1248, -5.1294, -5.1298, -5.1362, -5.1522, -5.1642, -5.2237, -5.2522, -5.2664, -5.2718, -5.287, -5.2878, -5.2918, -5.2946, -3.5517, -3.5424, -4.8001, -4.1302, -4.8769, -4.7114, -4.6942, -3.9873, -3.5935, -4.0413, -4.6787, -4.908, -4.7284, -5.0209, -4.7796, -4.7435, -3.9261, -4.0748, -3.9228, -4.2537, -4.2847, -4.4434, -4.4948, -4.4979, -4.5096, -4.6278, -4.3531, -4.6747, -4.7048, -4.7602, -4.7609, -4.6888, -4.9111, -4.9414, -4.7876, -4.9703, -4.7745, -4.9767, -4.9955, -5.0317, -5.0781, -5.0847, -5.1375, -4.7179, -5.2029, -5.2087, -5.0176, -3.9266, -3.8801, -4.9122, -4.9244, -4.9289, -3.7347, -3.8706, -4.1322, -3.6883, -4.23, -4.3024, -4.4568, -3.5501, -4.6278, -3.9998, -4.6457, -4.7195, -4.1685, -4.7959, -4.515, -4.92, -4.4329, -5.0956, -5.1358, -4.2301, -5.1906, -5.2173, -4.3201, -5.2817, -5.3098, -5.3104, -4.7564, -5.3352, -4.4238, -5.3524, -3.4191, -3.5772, -4.4049, -4.6412, -4.8946, -4.4362, -4.8666, -4.6907, -4.9503, -4.9255, -3.6825, -3.9925, -4.3981, -4.4485, -4.3473, -4.5616, -4.5658, -3.9009, -4.6622, -4.3359, -4.7297, -4.7397, -4.7815, -4.83, -4.8434, -4.9071, -4.9551, -5.0231, -5.0508, -5.0505, -5.0822, -5.1035, -4.8012, -5.1538, -5.1668, -5.1697, -3.9389, -5.2298, -3.6605, -5.3073, -4.3517, -3.7428, -4.7422, -4.6844, -4.379, -4.1736, -4.9991, -4.9846, -4.9044, -4.9514, -4.9782, -3.823, -3.6933, -4.0743, -4.3096, -3.8551, -4.3577, -4.3798, -4.4655, -4.5175, -4.5395, -4.2702, -4.5969, -4.6196, -4.4501, -4.7323, -4.7595, -4.7706, -4.7992, -4.8061, -4.6652, -5.1013, -4.7967, -5.1511, -5.2454, -5.2492, -4.9237, -5.2991, -5.304, -5.3114, -5.3118, -4.5382, -4.6594, -4.3967, -5.0817, -4.1364, -4.6295, -4.9872, -5.009, -3.8047, -3.9958, -4.0518, -4.1863, -3.7499, -4.4678, -4.4857, -4.682, -4.7061, -4.7178, -4.5109, -4.9292, -4.9553, -4.9603, -4.9927, -4.8499, -5.0437, -5.0497, -5.093, -5.1181, -5.1646, -5.1783, -5.2688, -5.2718, -5.2841, -3.3215, -5.3499, -5.359, -5.1752, -5.4082, -3.9809, -4.5812, -4.9922, -4.1592, -4.5021, -4.9891, -4.817, -4.6946, -4.1069, -4.7188, -4.9348, -4.8012, -3.7305, -3.8399, -4.0311, -4.3297, -4.4496, -4.5486, -4.5873, -4.3681, -4.7303, -4.7822, -4.2603, -3.7359, -4.8729, -3.8839, -4.9382, -4.9844, -5.0068, -3.4774, -5.0115, -4.0758, -5.0589, -4.9431, -5.17, -5.1844, -5.2033, -5.2701, -5.3078, -5.3187, -5.1348, -5.4393, -4.6661, -4.9144, -4.9526, -4.7164, -4.8317, -4.8963, -4.9455, -4.2677, -4.7034, -3.8115, -3.9146, -3.9943, -3.7109, -4.1775, -4.3635, -4.382, -4.5445, -4.5627, -4.6252, -4.6635, -4.6913, -4.7186, -4.4745, -4.7914, -4.8167, -4.8265, -4.8593, -4.4845, -4.6258, -4.9862, -4.9877, -5.0027, -5.1297, -5.1495, -5.1576, -4.6845, -5.1741, -5.2301, -4.6551, -4.4742, -4.3493, -4.4233, -5.0072, -5.0544, -4.9166, -3.766, -4.0829, -4.3485, -4.4028, -3.5785, -4.4561, -4.5006, -4.5237, -4.6027, -4.6904, -4.7147, -4.7219, -4.7934, -4.8242, -4.8064, -4.8327, -3.7519, -4.8994, -4.9193, -4.9619, -4.9791, -3.9602, -4.322, -4.4853, -5.2112, -4.2804, -5.2938, -5.3343, -5.2735, -5.372, -5.1136, -4.883, -4.8966, -4.4265, -5.0957, -5.0088, -3.2816, -3.8107, -3.8488, -4.1904, -4.2153, -4.2554, -3.2654, -4.3015, -4.3805, -4.2107, -4.5198, -4.4952, -4.079, -4.5618, -4.3793, -4.3129, -4.9483, -4.9637, -4.6577, -4.6588, -5.0184, -5.1227, -5.1425, -4.3788, -5.2456, -5.2586, -5.2664, -5.3499, -5.4297, -5.6115, -4.4256, -4.6603, -4.8198, -4.4191], \"loglift\": [30.0, 29.0, 28.0, 27.0, 26.0, 25.0, 24.0, 23.0, 22.0, 21.0, 20.0, 19.0, 18.0, 17.0, 16.0, 15.0, 14.0, 13.0, 12.0, 11.0, 10.0, 9.0, 8.0, 7.0, 6.0, 5.0, 4.0, 3.0, 2.0, 1.0, 0.9894, 0.9878, 0.987, 0.9809, 0.9763, 0.9755, 0.9746, 0.9742, 0.9738, 0.9731, 0.9716, 0.9703, 0.9692, 0.9656, 0.9641, 0.9633, 0.9605, 0.9604, 0.96, 0.9587, 0.9581, 0.9564, 0.9559, 0.9546, 0.9546, 0.9534, 0.9529, 0.9527, 0.9514, 0.9489, 0.93, 0.9155, 0.9448, 0.9178, 0.8719, 0.917, 0.8981, 0.9014, 0.9134, 0.904, 0.9222, 0.9222, 0.9248, 0.7377, 0.7854, 0.5682, 0.7708, 0.8435, 0.7317, 0.6363, 0.6002, 0.509, 0.4371, 0.4596, 0.6165, 0.5156, 0.4653, 0.5721, 0.7207, 0.5964, 0.7477, 0.7126, 0.3864, 0.3062, 0.3401, 0.2242, 0.2818, 1.8549, 1.8472, 1.8179, 1.8014, 1.7939, 1.7895, 1.7841, 1.7755, 1.7745, 1.771, 1.7667, 1.763, 1.7625, 1.7621, 1.7605, 1.7556, 1.7548, 1.7474, 1.7454, 1.7407, 1.734, 1.7319, 1.7293, 1.727, 1.7205, 1.7169, 1.716, 1.7123, 1.7083, 1.701, 1.6941, 1.6902, 1.6945, 1.689, 1.6146, 1.5921, 1.6433, 1.5908, 1.5336, 1.5014, 1.6718, 1.4085, 1.4521, 1.5731, 1.3058, 1.4747, 1.6064, 1.2844, 1.4047, 1.4612, 1.2672, 1.5253, 1.1659, 1.5294, 1.3068, 1.3661, 1.044, 1.1379, 0.8865, 0.9697, 0.7966, 1.0791, 0.9963, 1.2097, 0.9572, 0.8668, 0.9306, 0.737, 0.8687, 2.3302, 2.33, 2.3257, 2.2981, 2.2926, 2.2807, 2.2664, 2.2632, 2.2609, 2.2534, 2.2516, 2.2489, 2.245, 2.2362, 2.233, 2.2279, 2.2153, 2.2144, 2.2077, 2.1919, 2.1855, 2.1853, 2.1808, 2.1795, 2.1777, 2.1769, 2.1752, 2.1735, 2.1735, 2.1662, 2.1584, 2.0988, 2.151, 2.1505, 2.0922, 1.9896, 1.8946, 2.0612, 1.9497, 1.9157, 1.8139, 1.8682, 1.7187, 1.5476, 1.7412, 1.6523, 1.2842, 1.323, 0.8961, 1.7864, 1.4029, 1.1927, 1.7402, 1.517, 1.3359, 0.6586, 0.4778, 1.2665, 2.375, 2.3708, 2.3612, 2.3576, 2.3569, 2.3545, 2.3535, 2.3531, 2.3515, 2.3396, 2.3383, 2.3372, 2.3368, 2.3309, 2.3277, 2.3251, 2.3186, 2.309, 2.3066, 2.3006, 2.2983, 2.2955, 2.2941, 2.2932, 2.2901, 2.2879, 2.2839, 2.279, 2.2666, 2.2606, 2.2559, 2.2601, 2.2071, 2.2125, 2.225, 2.1635, 2.177, 1.6856, 2.0549, 1.7376, 1.6587, 1.4614, 1.9218, 1.5902, 1.8713, 1.3788, 1.4034, 1.2029, 1.4504, 1.8756, 0.9139, 1.2142, 0.2945, 3.0943, 3.068, 3.0606, 3.0553, 3.0547, 3.044, 3.0348, 3.0265, 3.0151, 3.013, 2.9859, 2.9847, 2.967, 2.9665, 2.9663, 2.9613, 2.9586, 2.9569, 2.9565, 2.9522, 2.9509, 2.9473, 2.9471, 2.9336, 2.9281, 2.9267, 2.926, 2.9128, 2.9108, 2.903, 2.8747, 2.8888, 2.8869, 2.6568, 2.8624, 2.5946, 2.7855, 2.7102, 2.3859, 2.0709, 2.2019, 2.0575, 2.1092, 2.1113, 2.3704, 2.6084, 2.2465, 2.1899, 1.9087, 2.4547, 1.2227, 1.3925, 1.4669, 3.1337, 3.1018, 3.0916, 3.0823, 3.0787, 3.0723, 3.0623, 3.0552, 3.0515, 3.0507, 3.0398, 3.0311, 3.0266, 3.0252, 3.0221, 3.0169, 3.0166, 3.008, 3.0039, 3.0027, 2.994, 2.9917, 2.9887, 2.9839, 2.9785, 2.9783, 2.978, 2.9762, 2.9745, 2.97, 2.967, 2.9646, 2.9609, 2.9049, 2.9437, 2.7055, 2.6963, 2.3373, 2.1667, 2.7796, 2.4941, 2.7689, 2.6482, 2.8415, 2.6714, 2.0912, 2.3036, 1.7607, 1.9502, 1.3762, 2.1142, 1.7231, 0.7159, 3.4389, 3.4139, 3.4114, 3.3884, 3.3759, 3.3657, 3.3636, 3.3501, 3.3414, 3.3381, 3.33, 3.3276, 3.3048, 3.2978, 3.2953, 3.2926, 3.2915, 3.2853, 3.2846, 3.2821, 3.2764, 3.2747, 3.2698, 3.2622, 3.2617, 3.2609, 3.2499, 3.2442, 3.2347, 3.2309, 3.1786, 3.0849, 3.0976, 3.0074, 2.8334, 2.9326, 2.8566, 2.4424, 3.002, 2.4895, 2.4114, 2.9313, 2.1459, 2.614, 3.5691, 3.5218, 3.5137, 3.5076, 3.4947, 3.4854, 3.4676, 3.4673, 3.4651, 3.4464, 3.4459, 3.4334, 3.4328, 3.4326, 3.4304, 3.4231, 3.4212, 3.4202, 3.42, 3.4187, 3.4151, 3.4124, 3.3986, 3.3918, 3.3883, 3.387, 3.3833, 3.3831, 3.3821, 3.3813, 3.3765, 3.3622, 3.371, 3.283, 3.3434, 3.3213, 3.2914, 3.0043, 2.5298, 2.603, 3.0687, 3.1447, 2.8998, 3.2198, 2.4823, 1.9941, 3.6493, 3.6361, 3.6225, 3.6149, 3.6141, 3.5945, 3.5876, 3.5872, 3.5856, 3.5681, 3.5633, 3.5608, 3.5559, 3.5466, 3.5465, 3.5218, 3.5189, 3.5128, 3.5113, 3.507, 3.5068, 3.5057, 3.5018, 3.4941, 3.484, 3.4825, 3.4705, 3.4621, 3.4548, 3.4534, 3.4331, 3.2586, 3.1357, 3.4004, 3.2611, 2.9893, 3.6772, 3.6663, 3.6434, 3.6359, 3.6285, 3.6247, 3.6052, 3.5913, 3.5802, 3.5796, 3.5774, 3.5653, 3.5601, 3.5429, 3.5179, 3.5141, 3.5106, 3.4909, 3.4815, 3.4743, 3.4683, 3.4617, 3.4559, 3.4387, 3.4377, 3.4375, 3.4367, 3.4308, 3.4277, 3.426, 3.425, 3.4094, 3.2384, 3.2146, 3.2801, 2.9498, 3.2052, 2.1691, 2.759, 1.9804, 3.7059, 3.6813, 3.6364, 3.6296, 3.629, 3.6133, 3.6127, 3.6084, 3.5974, 3.5942, 3.5844, 3.5842, 3.5766, 3.5677, 3.5652, 3.5527, 3.5429, 3.5282, 3.5216, 3.5201, 3.5149, 3.5099, 3.5053, 3.4979, 3.4947, 3.494, 3.4873, 3.4788, 3.4677, 3.4572, 3.3932, 3.2947, 3.3947, 3.3598, 3.1379, 2.9781, 3.4083, 3.331, 2.9136, 2.753, 1.5589, 3.7474, 3.7387, 3.7241, 3.6969, 3.6945, 3.6906, 3.6877, 3.675, 3.6678, 3.6644, 3.6637, 3.6552, 3.6515, 3.6514, 3.6318, 3.6268, 3.6248, 3.6193, 3.6179, 3.5853, 3.5535, 3.5436, 3.5411, 3.5163, 3.5153, 3.5079, 3.5014, 3.5, 3.4979, 3.4978, 3.4354, 3.4377, 3.4094, 3.3627, 2.6146, 2.9588, 3.0429, 2.4334, 3.7522, 3.7351, 3.729, 3.715, 3.7017, 3.6782, 3.6469, 3.6436, 3.6393, 3.6372, 3.637, 3.5954, 3.5897, 3.5886, 3.5814, 3.5755, 3.5697, 3.5682, 3.5579, 3.5499, 3.5399, 3.5364, 3.5121, 3.5093, 3.5076, 3.4896, 3.4889, 3.4862, 3.4804, 3.4714, 3.4528, 3.425, 3.4516, 3.2315, 3.311, 3.4294, 3.3043, 3.2371, 2.7274, 3.0409, 3.2061, 2.6308, 3.849, 3.8394, 3.7868, 3.783, 3.7651, 3.7489, 3.7422, 3.742, 3.7155, 3.705, 3.6931, 3.6921, 3.6856, 3.6827, 3.6707, 3.6598, 3.6544, 3.6536, 3.6532, 3.6435, 3.6414, 3.6211, 3.6118, 3.6078, 3.6024, 3.5831, 3.5717, 3.5684, 3.5538, 3.5298, 3.5189, 3.5212, 3.5187, 3.4081, 3.4425, 3.4072, 3.3975, 2.6382, 2.8997, 3.9014, 3.8911, 3.8825, 3.8464, 3.8448, 3.8339, 3.8311, 3.8039, 3.8006, 3.7888, 3.7815, 3.776, 3.7704, 3.7594, 3.755, 3.7494, 3.7473, 3.7398, 3.7392, 3.7341, 3.7092, 3.7088, 3.705, 3.6709, 3.6653, 3.663, 3.6608, 3.6582, 3.6417, 3.6286, 3.5524, 3.4574, 3.4556, 3.604, 3.6135, 3.111, 3.9273, 3.8933, 3.8565, 3.8479, 3.8442, 3.839, 3.8304, 3.8273, 3.8126, 3.7953, 3.7901, 3.7888, 3.7733, 3.7664, 3.7645, 3.7589, 3.7512, 3.7488, 3.7439, 3.7333, 3.7289, 3.7285, 3.7099, 3.6817, 3.6544, 3.6468, 3.6385, 3.6254, 3.6172, 3.6128, 3.6076, 3.5648, 3.2771, 2.8189, 3.3826, 3.0759, 3.9929, 3.954, 3.9504, 3.9093, 3.9058, 3.9, 3.896, 3.8931, 3.8807, 3.8569, 3.8565, 3.8538, 3.8474, 3.7906, 3.7855, 3.7721, 3.763, 3.759, 3.7587, 3.7497, 3.7445, 3.7153, 3.7095, 3.6948, 3.678, 3.6739, 3.6713, 3.6438, 3.6159, 3.547, 3.2677, 3.2688, 3.2048, 2.8428]}, \"token.table\": {\"Topic\": [2, 10, 1, 2, 4, 6, 14, 1, 4, 6, 6, 5, 11, 12, 12, 16, 3, 1, 4, 5, 7, 14, 14, 11, 1, 2, 3, 4, 16, 1, 3, 4, 6, 6, 1, 7, 1, 7, 6, 8, 1, 3, 4, 1, 3, 4, 6, 11, 1, 3, 4, 6, 2, 16, 13, 13, 5, 15, 2, 4, 2, 3, 4, 7, 9, 1, 2, 4, 5, 3, 10, 2, 11, 1, 8, 9, 15, 4, 6, 7, 7, 12, 1, 3, 4, 6, 9, 16, 2, 1, 3, 4, 15, 1, 2, 4, 1, 7, 9, 2, 7, 3, 8, 13, 14, 17, 2, 9, 1, 4, 15, 3, 7, 5, 13, 1, 13, 6, 10, 5, 7, 1, 3, 4, 1, 5, 10, 1, 2, 3, 4, 6, 1, 2, 3, 4, 6, 1, 16, 5, 7, 4, 12, 6, 1, 2, 3, 4, 1, 13, 2, 8, 17, 1, 8, 17, 10, 1, 10, 15, 8, 6, 10, 1, 2, 10, 11, 17, 1, 16, 5, 16, 1, 10, 17, 7, 15, 6, 9, 1, 2, 4, 16, 15, 9, 16, 1, 3, 10, 2, 13, 9, 10, 14, 1, 4, 1, 2, 4, 5, 8, 1, 3, 6, 7, 12, 14, 8, 11, 1, 2, 3, 6, 13, 1, 3, 5, 2, 1, 2, 3, 6, 1, 12, 5, 1, 7, 6, 7, 2, 4, 12, 16, 15, 16, 8, 12, 4, 14, 1, 6, 1, 9, 14, 1, 2, 5, 2, 3, 4, 13, 14, 1, 7, 3, 5, 11, 1, 2, 5, 11, 1, 8, 13, 17, 2, 14, 6, 8, 6, 2, 1, 2, 3, 4, 5, 12, 8, 14, 17, 1, 4, 1, 8, 10, 15, 1, 3, 5, 2, 8, 2, 5, 7, 1, 2, 7, 1, 2, 1, 2, 4, 5, 1, 2, 4, 4, 11, 6, 10, 11, 1, 11, 4, 3, 5, 8, 1, 6, 12, 16, 3, 17, 5, 5, 6, 7, 15, 16, 14, 12, 3, 6, 1, 2, 3, 4, 13, 15, 11, 7, 1, 7, 1, 3, 13, 13, 14, 15, 5, 13, 1, 5, 13, 3, 13, 16, 3, 12, 1, 3, 6, 11, 2, 4, 12, 6, 2, 5, 9, 1, 2, 6, 4, 15, 12, 3, 5, 7, 10, 14, 9, 7, 17, 3, 4, 6, 3, 5, 1, 2, 3, 4, 5, 6, 1, 15, 17, 1, 4, 7, 1, 2, 3, 4, 5, 1, 8, 3, 13, 2, 6, 7, 13, 1, 16, 3, 4, 6, 16, 13, 1, 2, 4, 5, 1, 2, 3, 4, 6, 13, 2, 4, 10, 1, 3, 5, 7, 3, 4, 5, 12, 9, 14, 2, 3, 2, 15, 1, 3, 6, 13, 6, 14, 3, 5, 7, 11, 7, 12, 1, 2, 7, 1, 2, 4, 7, 10, 14, 4, 2, 3, 7, 8, 11, 1, 2, 4, 7, 7, 3, 6, 2, 7, 10, 1, 10, 2, 1, 3, 1, 3, 11, 2, 14, 1, 2, 4, 6, 12, 13, 14, 1, 6, 2, 14, 11, 15, 15, 13, 1, 16, 1, 4, 10, 9, 3, 16, 7, 8, 1, 1, 4, 1, 3, 13, 1, 2, 6, 11, 4, 12, 13, 2, 16, 12, 1, 3, 4, 13, 15, 2, 6, 13, 14, 9, 14, 14, 5, 6, 7, 16, 10, 3, 11, 5, 10, 1, 3, 6, 1, 3, 6, 1, 2, 4, 5, 6, 11, 1, 4, 11, 2, 3, 6, 12, 2, 14, 16, 8, 6, 7, 9, 12, 1, 3, 4, 6, 10, 1, 4, 12, 14, 16, 1, 2, 4, 12, 11, 12, 1, 6, 1, 2, 3, 4, 6, 6, 6, 1, 11, 4, 5, 12, 14, 2, 4, 5, 1, 4, 13, 1, 2, 17, 11, 2, 1, 2, 3, 5, 2, 1, 3, 16, 1, 2, 15, 15, 17, 1, 6, 14, 17, 5, 12, 1, 4, 4, 4, 12, 12, 2, 3, 4, 5, 4, 7, 2, 13, 1, 2, 3, 4, 12, 17, 16, 12, 1, 2, 3, 4, 5, 11, 3, 13, 1, 4, 6, 13, 1, 3, 5, 5, 12, 2, 4, 17, 1, 2, 3, 6, 8, 11, 15, 1, 16, 1, 2, 4, 11, 16, 1, 3, 1, 3, 15, 10, 1, 2, 4, 6, 1, 17, 13, 17, 1, 4, 3, 4, 4, 4, 1, 6, 14, 4, 5, 5, 6, 15, 8, 9, 13, 14, 8, 4, 6, 12, 8, 1, 2, 3, 4, 10, 14, 2, 15, 11, 1, 2, 5, 1, 1, 13, 1, 9, 3, 2, 13, 13, 6, 1, 5, 10, 11, 13, 1, 5, 1, 3, 13, 2, 7, 3, 11, 12, 7, 13, 9, 3, 11, 8, 5, 5, 2, 1, 2, 4, 5, 11, 12, 2, 14, 1, 2, 4, 5, 4, 8, 7, 7, 16, 15, 14, 17, 4, 9, 10, 10, 2, 1, 2, 3, 9, 1, 2, 3, 5, 11, 12, 1, 4, 8, 4, 17, 2, 8, 8, 15, 2, 9, 1, 3, 14, 1, 2, 3, 13, 9, 5, 3, 4, 15, 13, 2, 5, 7, 5, 1, 5, 11, 8, 5, 7, 12, 7, 7, 2, 4, 4, 1, 6, 3, 7, 13, 11, 15, 1, 15, 3, 7, 17, 6, 3, 2, 3, 4, 5, 10, 1, 2, 3, 8, 8, 7, 10, 17, 15, 9, 1, 5, 1, 2, 4, 4, 10, 3, 5, 9, 11, 13, 11, 4, 5, 2, 3, 5, 1, 3, 12, 1, 3, 6, 7, 10, 2, 6, 2, 11, 12, 1, 2, 4, 3, 1, 3, 6, 9, 1, 2, 3, 4, 1, 2, 5, 9, 10, 12, 6, 7, 8, 15, 1, 2, 3, 4, 2, 5, 9, 3, 10, 1, 2, 11, 5, 9, 10, 1, 15, 9, 10, 13, 13, 5, 3, 17, 8, 13, 4, 1, 12, 17, 1, 16, 14, 5, 1, 3, 2, 7, 8, 1, 3, 5, 11, 1, 3, 1, 3, 2, 3, 8, 1, 2, 4, 5, 7, 14, 5, 14, 11, 9, 2, 4, 3, 7, 14, 1, 7, 1, 2, 4, 5, 8, 6, 1, 2, 3, 4, 6, 13, 14, 4, 5, 1, 4, 11, 9, 11, 1, 2, 7, 14, 1, 2, 3, 17, 1, 6, 8, 12, 5, 7, 11, 12, 12, 1, 2, 4, 5, 6, 1, 2, 7, 5, 6, 1, 8, 1, 3, 5, 13, 5, 6, 7, 14, 1, 2, 3, 4, 5, 9, 7, 3, 6, 7, 12, 15, 2, 7, 11, 17, 16, 14, 3, 15, 1, 1, 2, 4, 9, 5, 16, 12, 16, 6, 10, 11, 12, 17, 1, 2, 3, 5, 3, 8, 13, 5, 5, 9, 10, 11, 13, 3, 7, 9, 9, 1, 2, 5, 3, 10, 8, 3, 10, 17, 1, 2, 4, 6, 2, 16, 1, 2, 10, 5, 3, 6, 7, 9, 10, 1, 2, 4, 11, 16, 15, 2, 5, 15, 1, 3, 6, 1, 2, 4, 14, 7, 7, 1, 13, 1, 8, 16, 9, 15, 2, 3, 8, 9, 11, 17, 7, 15, 2, 3, 4, 5, 17, 1, 1, 2, 4, 5, 8, 14, 9, 1, 3, 4, 8, 2, 3, 4, 17, 14, 9, 4, 3, 6, 7, 13, 1, 2, 3, 6, 1, 2, 4, 15, 11, 4, 12, 1, 17, 1, 2, 3, 4, 5, 4, 10, 5, 3, 8, 8, 4, 10, 12, 3, 15, 3, 10, 16, 11, 2, 15, 1, 1, 2, 3, 4, 5, 5, 1, 3, 13, 17, 17, 5, 9, 9, 8, 5, 9, 10, 10, 3, 14, 1, 2, 3, 4, 5, 1, 12, 6, 13, 1, 3, 13, 13, 1, 2, 3, 4, 5, 14, 16, 15, 2, 4, 7, 1, 2, 4, 5, 11, 11, 1, 2, 5, 1, 2, 3, 6, 10, 11, 4, 1, 2, 3, 4, 6, 4, 9, 8, 8, 15, 17, 9, 11, 12, 11, 1, 2, 3, 13, 6, 12, 5, 1, 3, 17, 9, 10, 13, 5, 1, 12, 4, 8, 4, 1, 4, 16, 1, 2, 3, 4, 6, 17, 1, 2, 3, 4, 5, 12, 4, 6, 14, 1, 8, 5, 2, 3, 4, 12, 17, 3, 6, 11, 9, 13], \"Freq\": [0.1534313845399141, 0.7671569226995705, 0.9068079064308148, 0.04318132887765784, 0.04318132887765784, 0.904989528032483, 0.7643474038761858, 0.19367415130482, 0.77469660521928, 0.7516979722805294, 0.900649129199194, 0.17343585083064728, 0.6937434033225891, 0.7790933066704762, 0.07101033683827024, 0.8521240420592429, 0.9048543792521105, 0.9534237648809115, 0.2627623010278207, 0.6131120357315817, 0.8460679564965452, 0.9179254524320716, 0.8494704719272775, 0.9128126083679368, 0.4370411769576682, 0.49167132407737674, 0.027315073559854262, 0.027315073559854262, 0.6688061875922844, 0.15058915607069423, 0.035432742604869234, 0.45176746821208275, 0.345469240397475, 0.821973488995185, 0.6319014442082956, 0.3325797074780504, 0.5240699600562376, 0.37433568575445547, 0.8310702170383867, 0.733305390433508, 0.9287001411806731, 0.026534289748019232, 0.026534289748019232, 0.7476112400495426, 0.15257372245909032, 0.06102948898363613, 0.030514744491818065, 0.7281614544634143, 0.7774203741317931, 0.1177909657775444, 0.02355819315550888, 0.04711638631101776, 0.8259742549660953, 0.7365896282213854, 0.8699011538624414, 0.9020227304735692, 0.08124095424992238, 0.8936504967491462, 0.8007460094938483, 0.08897177883264983, 0.7678947061769897, 0.09598683827212372, 0.04799341913606186, 0.04799341913606186, 0.914583148173377, 0.1401628177926989, 0.6696667961206726, 0.03114729284282198, 0.1401628177926989, 0.18824400056811819, 0.7529760022724727, 0.9075424901183997, 0.9047898195050004, 0.9148063182409215, 0.7444349136560279, 0.8144307511485237, 0.7250970771981807, 0.7443269040809466, 0.7525619200663858, 0.8160337048762111, 0.767474389857398, 0.09593429873217475, 0.2398543532751884, 0.0599635883187971, 0.5396722948691739, 0.1199271766375942, 0.8319460287969136, 0.8223670331723891, 0.9330644558922893, 0.10822925829613574, 0.036076419432045245, 0.7936812275049954, 0.6049080656047323, 0.3548093657158506, 0.32751633758386206, 0.27293028131988506, 0.30234023669432825, 0.6046804733886565, 0.8830752453824144, 0.8275789560361494, 0.11822556514802134, 0.7393505064222782, 0.07139399131126338, 0.07139399131126338, 0.7853339044238972, 0.8997501716769332, 0.30453773300983905, 0.6090754660196781, 0.3120428825117714, 0.5720786179382477, 0.10401429417059048, 0.9331160865138505, 0.8467700250602933, 0.19222727960756003, 0.5766818388226801, 0.9455027448999314, 0.9167931469724488, 0.08306055090331843, 0.8306055090331843, 0.12621845722764424, 0.7573107433658656, 0.6666636894325003, 0.025640911132019245, 0.28205002245221167, 0.15926763751435172, 0.07963381875717586, 0.7167043688145827, 0.25210300784770895, 0.5294163164801888, 0.15126180470862535, 0.05042060156954179, 0.012605150392385448, 0.03856591207827486, 0.5013568570175732, 0.03856591207827486, 0.11569773623482459, 0.269961384547924, 0.9259668741208823, 0.8806221300754097, 0.8874839210827948, 0.8559555442231179, 0.7992644662694927, 0.728234441692205, 0.8553378422356623, 0.3446228919336678, 0.5456529122283074, 0.0574371486556113, 0.02871857432780565, 0.3148064274847762, 0.6296128549695524, 0.05550311569913645, 0.8325467354870467, 0.05550311569913645, 0.3627794386944548, 0.30231619891204564, 0.30231619891204564, 0.7035409167510172, 0.09643532489814192, 0.8679179240832773, 0.5815485650288944, 0.7798431875792546, 0.22957376247139943, 0.6887212874141982, 0.20223583641723367, 0.5662603419682543, 0.20223583641723367, 0.7707915755384024, 0.6427520674564228, 0.18530365863192277, 0.7412146345276911, 0.19794356706855873, 0.5938307012056762, 0.9599587277559123, 0.6821604508329172, 0.7612206983497962, 0.8710565214733704, 0.7700714793342525, 0.6748655824596528, 0.1687163956149132, 0.5500635064232077, 0.32087037874687113, 0.11459656383816827, 0.6012248546851441, 0.6735406799083823, 0.13059785558271894, 0.7835871334963137, 0.9208781476583259, 0.04604390738291629, 0.04604390738291629, 0.49735141306868114, 0.49735141306868114, 0.7325501146988783, 0.8575808454391984, 0.1071976056798998, 0.11506731034162253, 0.8342379999767633, 0.019365083248013403, 0.2517460822241743, 0.05809524974404021, 0.32920641521622784, 0.32920641521622784, 0.7326711740425792, 0.02526452324284756, 0.22738070918562803, 0.17134262912555998, 0.17134262912555998, 0.5140278873766799, 0.6436621170939627, 0.16091552927349068, 0.39390592217867665, 0.1036594532049149, 0.4353697034606426, 0.02073189064098298, 0.02073189064098298, 0.08865488759957837, 0.8865488759957838, 0.7163833416066906, 0.7543383064996091, 0.2553645719033517, 0.18240326564525122, 0.036480653129050244, 0.4742484906776532, 0.39108553724797723, 0.39108553724797723, 0.6731909566160081, 0.818131696525114, 0.13090107144401825, 0.7613943371970234, 0.8236772902554016, 0.5352891034034127, 0.059476567044823646, 0.059476567044823646, 0.29738283522411824, 0.4514778672854561, 0.4514778672854561, 0.750471781049534, 0.1500943562099068, 0.8799528759357316, 0.7350822555045812, 0.9402631420119862, 0.8823812223228779, 0.3401990463788676, 0.2551492847841507, 0.3401990463788676, 0.2573474330585532, 0.6691033259522383, 0.8382182106417793, 0.039427727252009236, 0.19713863626004616, 0.3548495452680831, 0.3154218180160739, 0.039427727252009236, 0.6130909198295225, 0.3448636424041064, 0.14505694230777608, 0.14505694230777608, 0.7252847115388804, 0.20504266774251245, 0.6444198129050391, 0.02929180967750178, 0.11716723871000712, 0.10408650761614206, 0.8326920609291365, 0.7007327499667264, 0.40288474145173536, 0.1782553712200686, 0.5347661136602058, 0.9373796112925743, 0.6692581162456074, 0.7530386890942167, 0.9285119209516618, 0.5656993058208349, 0.17779121040083384, 0.09697702385500027, 0.06465134923666685, 0.08081418654583356, 0.8734282642106713, 0.7963615287569298, 0.6088122702580462, 0.15220306756451155, 0.6321889598358682, 0.34770392790972754, 0.10249346348895562, 0.8711944396561228, 0.9551914362528813, 0.8073783528780059, 0.5290821175800787, 0.08818035293001313, 0.3527214117200525, 0.21150881377974817, 0.7191299668511437, 0.1426002989322431, 0.7130014946612155, 0.7611036830384613, 0.23957217740659176, 0.7386808803369912, 0.9200277288412586, 0.04320234639185124, 0.9072492742288761, 0.6425848714928778, 0.20884008323518527, 0.08032310893660972, 0.03212924357464389, 0.273191060729831, 0.6829776518245775, 0.04553184345497183, 0.07743752895123003, 0.8518128184635304, 0.1090318284116369, 0.7632227988814583, 0.1090318284116369, 0.1900993219013639, 0.7603972876054556, 0.7686125253429369, 0.5166680834610032, 0.3757586061534569, 0.046969825769182114, 0.5131547569196796, 0.4105238055357437, 0.20406628829424178, 0.6121988648827253, 0.4713555206516804, 0.4713555206516804, 0.8286955971711933, 0.5279321111995016, 0.08798868519991693, 0.08798868519991693, 0.08798868519991693, 0.08798868519991693, 0.8844467318363398, 0.9305526279601903, 0.16048641138931782, 0.802432056946589, 0.28387173872077925, 0.44608416084693886, 0.08110621106307979, 0.10138276382884974, 0.040553105531539894, 0.7606675801669219, 0.9073001030194537, 0.8250670653714849, 0.20154900755312952, 0.7054215264359533, 0.4323223206835469, 0.48996529677468653, 0.028821488045569797, 0.7275492194684345, 0.6079448059421968, 0.20264826864739893, 0.8318806228785158, 0.8287084807568603, 0.48752634460363575, 0.3900210756829086, 0.09750526892072715, 0.2696506400991197, 0.6933873602548792, 0.7805323374076174, 0.7393399235567508, 0.9318484566537129, 0.27079179446513396, 0.05415835889302679, 0.16247507667908037, 0.4332668711442143, 0.7785186196000209, 0.8695993093680907, 0.8119252398052329, 0.8816312663257081, 0.7696440756229203, 0.1399352864768946, 0.6691820631101981, 0.12561527753187127, 0.04187175917729042, 0.7536916651912275, 0.8628981424818031, 0.7895664407610353, 0.7755202081233752, 0.1270665173117931, 0.0423555057705977, 0.3388440461647816, 0.1694220230823908, 0.2541330346235862, 0.8379211787402822, 0.7914617029174741, 0.9312575749783801, 0.8537255461984595, 0.09485839402205105, 0.8733266689788831, 0.11204666657458183, 0.7843266660220728, 0.5886003914037836, 0.12523412583059226, 0.17532777616282916, 0.012523412583059225, 0.012523412583059225, 0.07514047549835536, 0.5200953886674181, 0.39007154150056356, 0.8966266485324981, 0.8701226527314647, 0.03783141968397673, 0.03783141968397673, 0.5269111602045226, 0.3763651144318018, 0.018818255721590092, 0.07527302288636037, 0.018818255721590092, 0.09865326844627355, 0.7892261475701884, 0.7255881774953651, 0.16124181722119224, 0.13755318721429957, 0.20632978082144934, 0.06877659360714979, 0.5502127488571983, 0.8921903343023824, 0.7703288767861316, 0.8903847550442154, 0.10589146913729668, 0.7412402839610767, 0.6426763710928826, 0.7676506154529966, 0.40680835581551184, 0.20340417790775592, 0.029057739701107987, 0.3486928764132959, 0.6301888136085831, 0.08752622411230322, 0.22756818269198836, 0.008752622411230322, 0.03501048964492129, 0.008752622411230322, 0.37831508656617785, 0.09457877164154446, 0.37831508656617785, 0.4604993775766825, 0.03837494813139021, 0.23024968878834126, 0.2686246369197315, 0.880934794098772, 0.8259762759146274, 0.2463961649075113, 0.6159904122687783, 0.8196789797624338, 0.9137133636838293, 0.8400531324769039, 0.9479505676366287, 0.16799750963993082, 0.6719900385597233, 0.5167118813989555, 0.34447458759930366, 0.028706215633275304, 0.05741243126655061, 0.823984961642275, 0.8472631511253479, 0.18825032758844815, 0.2823754913826722, 0.09412516379422407, 0.3765006551768963, 0.7119838206529848, 0.9293199896213828, 0.8651810259016853, 0.02983382847936846, 0.05966765695873692, 0.28767716801448373, 0.6392825955877416, 0.031964129779387083, 0.6990247757583717, 0.8016880561662643, 0.8235763881054191, 0.9019620049876736, 0.7827402583328595, 0.07034874630599239, 0.07034874630599239, 0.7034874630599238, 0.14069749261198478, 0.5681585719379736, 0.35818692578698336, 0.03705381990899828, 0.03705381990899828, 0.8463543280473811, 0.10211595488456122, 0.8169276390764898, 0.7829923648815234, 0.11185605212593192, 0.7334421450363913, 0.301289760257065, 0.60257952051413, 0.8844749272765433, 0.058743069354769424, 0.9203080865580543, 0.18458088208818677, 0.7383235283527471, 0.8206409121625203, 0.1955434507467482, 0.5866303522402446, 0.7252461054930898, 0.02500848639631344, 0.05001697279262688, 0.1250424319815672, 0.02500848639631344, 0.02500848639631344, 0.6671227901995889, 0.05391229480892689, 0.9165090117517571, 0.16639238651705063, 0.6655695460682025, 0.7530685582720293, 0.6992457173180309, 0.7400299946211457, 0.7754599159531455, 0.23523537336559922, 0.7057061200967977, 0.13339473853583203, 0.8448333440602694, 0.8013541099553733, 0.8600346045356125, 0.7285398153602581, 0.9308356280151903, 0.7998190290573692, 0.8735258575757503, 0.9053461243723001, 0.8946460810771006, 0.08946460810771006, 0.9342838526351817, 0.04062103707109486, 0.8375448204107612, 0.9212824145763373, 0.12735084818870726, 0.6367542409435363, 0.9165448331248433, 0.1972740007697956, 0.5918220023093869, 0.5890519866978627, 0.14947181617228814, 0.7473590808614406, 0.9055324073985561, 0.5798330840762325, 0.019994244278490773, 0.35989639701283394, 0.019994244278490773, 0.7991298057439351, 0.8438080166751238, 0.8293272572226073, 0.6737821084026754, 0.6142874228211416, 0.7807332674496221, 0.8380185448809911, 0.7226991230233394, 0.13767017885918836, 0.2753403577183767, 0.13767017885918836, 0.4130105365775651, 0.779862860257054, 0.8949119461756273, 0.7353021082083046, 0.73968786754428, 0.14793757350885597, 0.38827589952399244, 0.5647649447621708, 0.03529780904763567, 0.3559974558355253, 0.6102813528609005, 0.02542838970253752, 0.01739408331626195, 0.71315741596674, 0.12175858321383365, 0.0695763332650478, 0.0695763332650478, 0.01739408331626195, 0.19325113755940274, 0.14493835316955206, 0.6280661970680589, 0.22944728589388363, 0.1529648572625891, 0.5353770004190618, 0.8526840011013308, 0.7658761547704305, 0.8293215932496472, 0.6856184489854295, 0.7225384292898499, 0.6587784771353659, 0.09411121101933799, 0.09411121101933799, 0.09411121101933799, 0.3863564881841549, 0.21073990264590267, 0.3512331710765045, 0.8720295278816237, 0.8408181630837943, 0.33519391606148846, 0.16759695803074423, 0.41899239507686054, 0.7839284330510949, 0.6604836944493939, 0.47080184241731127, 0.17345331036427256, 0.3469066207285451, 0.8449879349900132, 0.865880530506197, 0.8138103640029593, 0.14948307300345398, 0.8221569015189969, 0.20954914630131505, 0.2993559232875929, 0.04490338849313894, 0.014967796164379647, 0.40413049643825044, 0.8021317462083918, 0.8540046822802306, 0.5271988551060433, 0.4217590840848346, 0.05304667106789174, 0.10609334213578347, 0.05304667106789174, 0.7426533949504843, 0.3808002687480082, 0.07616005374960164, 0.4569603224976098, 0.9086691738388568, 0.06989762875683514, 0.8758972873282839, 0.8684564149972356, 0.10217134294085124, 0.7673498381929996, 0.8744213981020323, 0.8454681509890745, 0.4630604378454831, 0.3157230258037385, 0.021048201720249234, 0.16838561376199387, 0.8132147747191951, 0.13299873968686468, 0.797992438121188, 0.6849860675252006, 0.14286396484315608, 0.7857518066373584, 0.6907884413673238, 0.6684269206502436, 0.584838349287532, 0.363147264383154, 0.544720896574731, 0.10937170131876209, 0.8749736105500967, 0.13938062851520694, 0.6969031425760346, 0.1902926311446963, 0.7135973667926111, 0.8419860721203574, 0.9192762731583762, 0.8478981198099784, 0.8127962323175492, 0.1546673042926379, 0.10311153619509192, 0.6702249852680975, 0.05155576809754596, 0.8349097614974794, 0.8033005321888178, 0.9028290907491232, 0.8725919075806426, 0.5242296225511072, 0.3382126597103917, 0.06764253194207834, 0.05073189895655876, 0.11751117258543378, 0.8225782080980364, 0.8382145634083324, 0.7110466902291096, 0.2398703470373023, 0.5996758675932558, 0.05996758675932558, 0.04497569006949418, 0.02998379337966279, 0.014991896689831394, 0.7823110870846768, 0.8933597139362742, 0.9495432300661307, 0.12728234229534016, 0.12728234229534016, 0.6364117114767008, 0.2750621126394826, 0.6680079878387435, 0.7815649107482191, 0.7602482233911636, 0.1520496446782327, 0.830829655071942, 0.10385370688399274, 0.5931012989456361, 0.7590589090682053, 0.07116177272514425, 0.11860295454190707, 0.023720590908381415, 0.8380205949960362, 0.8647745169094997, 0.7654551651374342, 0.9216888154508673, 0.8983553569994879, 0.14570017685459324, 0.6799341586547685, 0.04856672561819775, 0.04856672561819775, 0.6715897459502215, 0.15215570234329642, 0.7607785117164821, 0.22943040279404264, 0.6309336076836173, 0.05735760069851066, 0.7905294551591038, 0.45680686354015165, 0.22840343177007583, 0.06525812336287881, 0.22840343177007583, 0.13615940034329255, 0.6807970017164627, 0.8798629339706632, 0.6370824563853431, 0.08430525083605873, 0.8430525083605873, 0.970062202169508, 0.8205400218414649, 0.8637954502820093, 0.7758028009249619, 0.08473694758609866, 0.8473694758609865, 0.8494418353027843, 0.7846874115691862, 0.15693748231383725, 0.12989798813327966, 0.12989798813327966, 0.6494899406663983, 0.533328269419086, 0.1333320673547715, 0.1333320673547715, 0.1333320673547715, 0.8448205208390585, 0.8024812574097662, 0.07295284158270601, 0.07295284158270601, 0.8322891824999226, 0.5006981209196, 0.39340566643682856, 0.01788207574712857, 0.07152830298851429, 0.807468859606526, 0.666726926639476, 0.9270247332794579, 0.5747526943214805, 0.9606961408723275, 0.6194097571613707, 0.02693085900701612, 0.32317030808419345, 0.9532663787416872, 0.21540658291039605, 0.6462197487311881, 0.9509136741674075, 0.8154912997832937, 0.7990694398011186, 0.8975744125031063, 0.7401365704677242, 0.8760517524705712, 0.9060685200317995, 0.180738493341342, 0.7952493707019048, 0.8784299648837075, 0.8256886529278338, 0.8782839021649099, 0.9018873659771673, 0.06680647155386425, 0.5312173861618205, 0.4249739089294564, 0.7039945710673058, 0.10654373046464867, 0.7458061132525406, 0.8585889928952085, 0.8150551580772408, 0.8524670566566259, 0.07310184146530614, 0.8772220975836736, 0.8595221270209701, 0.930360247551326, 0.8781227857874184, 0.7303606524200543, 0.9353821941071527, 0.6734636341814119, 0.9053958003082891, 0.23833652209742065, 0.6283417400750181, 0.0650008696629329, 0.02166695655431097, 0.04333391310862194, 0.82875534626342, 0.8719870487942617, 0.08719870487942617, 0.3996975329314247, 0.5226813892180169, 0.030745964071648053, 0.030745964071648053, 0.1306979209762733, 0.6534896048813665, 0.8832621259073067, 0.832963905947016, 0.6772987733646613, 0.9054021235506406, 0.7377071421455875, 0.8566790651984465, 0.7646367672014295, 0.8527946686271893, 0.823196201344047, 0.8264871382881109, 0.9123982535851631, 0.7594684718378797, 0.13094283997204823, 0.07856570398322893, 0.7968733135737307, 0.23582334374275438, 0.23582334374275438, 0.06737809821221553, 0.437957638379401, 0.9040695590790295, 0.8150437713185595, 0.9119446786968433, 0.046766393779325295, 0.8813004287840668, 0.13772022893248986, 0.6886011446624493, 0.21654583905167923, 0.7362558527757094, 0.17866885296307697, 0.7146754118523079, 0.878344607297552, 0.8208772395334236, 0.9560468973616467, 0.09554151702805043, 0.7643321362244034, 0.5470520289592812, 0.028792212050488486, 0.31671433255537335, 0.05758442410097697, 0.6969879789050896, 0.7497851410420573, 0.8433486030107747, 0.08433486030107748, 0.7826512236417321, 0.8284957690310008, 0.2840826690184671, 0.14204133450923356, 0.49714467078231744, 0.8075066344216938, 0.9202680945384386, 0.029686067565756084, 0.029686067565756084, 0.7460126167813372, 0.34129562301328725, 0.5688260383554787, 0.8400073813240683, 0.9069141791312922, 0.7922127518161896, 0.1563068935013063, 0.7815344675065315, 0.8981667174121526, 0.604597878329129, 0.35268209569199194, 0.8418293911138841, 0.29123805809664116, 0.5824761161932823, 0.15820750524380417, 0.7910375262190208, 0.3127620334486544, 0.6255240668973088, 0.2592922351352603, 0.12964611756763014, 0.3889383527028904, 0.7831587996815769, 0.8892951754657988, 0.1649781920878265, 0.05499273069594216, 0.5499273069594216, 0.05499273069594216, 0.05499273069594216, 0.8788006462342656, 0.06760004971032813, 0.03380002485516406, 0.941578167376308, 0.8675512777113138, 0.8148926926184562, 0.8162702340631408, 0.7817221931902117, 0.9492297889976428, 0.8004221520913753, 0.2925302607570198, 0.5850605215140396, 0.24670537711494514, 0.7127044227765081, 0.02741170856832724, 0.35417086647285734, 0.6197990163275003, 0.05289788079271532, 0.05289788079271532, 0.05289788079271532, 0.7405703310980144, 0.05289788079271532, 0.7008000268963325, 0.11875094541809456, 0.7125056725085673, 0.13193688995031788, 0.13193688995031788, 0.7256528947267483, 0.9457944895275452, 0.08061980909947682, 0.886817900094245, 0.46903553653753854, 0.34275673823897046, 0.1623584549553018, 0.202225146146275, 0.7077880115119625, 0.2755197876554396, 0.642879504529359, 0.10420081629391326, 0.10420081629391326, 0.6252048977634795, 0.5107980239768841, 0.38309851798266303, 0.09121393285301502, 0.8753294256200564, 0.3497609740407462, 0.5995902412127078, 0.8036551306563126, 0.7357237939921327, 0.4634274195470635, 0.3861895162892196, 0.0926854839094127, 0.04634274195470635, 0.28681952726917087, 0.11950813636215453, 0.5736390545383417, 0.10951653877032821, 0.547582693851641, 0.10951653877032821, 0.09824980054135228, 0.09824980054135228, 0.5894988032481137, 0.09824980054135228, 0.24100950196073662, 0.26778833551192954, 0.026778833551192958, 0.45524017037028025, 0.349683401233953, 0.11656113374465098, 0.4662445349786039, 0.06435554534065792, 0.9009776347692108, 0.06441980153783874, 0.773037618454065, 0.06441980153783874, 0.8828644829417791, 0.7571883869700834, 0.15143767739401667, 0.9732102007716104, 0.761539342599333, 0.8876407629979726, 0.8875365347885465, 0.7742032451996139, 0.6096266007452285, 0.8630059604891054, 0.7784217984400371, 0.6833415275237095, 0.707080899532997, 0.8933512428006074, 0.8525507025800229, 0.9187467621554346, 0.7582395818546104, 0.7197637275863229, 0.15391956760122805, 0.7695978380061402, 0.7901221226052864, 0.846192776932149, 0.06585646218277372, 0.8561340083760582, 0.34090198303725927, 0.5965784703152037, 0.7422253963902228, 0.14772446874447806, 0.787863833303883, 0.19603713097870054, 0.6861299584254519, 0.9568425970182963, 0.0245344255645717, 0.9485857849679246, 0.8530107483812018, 0.9151941046533689, 0.15767829174151657, 0.7883914587075829, 0.44808458539889073, 0.46253892686337106, 0.04336302439344104, 0.014454341464480346, 0.014454341464480346, 0.6976362852686084, 0.12074263013968788, 0.7244557808381272, 0.6874047735127748, 0.7940771559606192, 0.09048876350751256, 0.9048876350751256, 0.11331643999861232, 0.7365568599909801, 0.11331643999861232, 0.2781026591420461, 0.6489062046647743, 0.1304240971112613, 0.09781807283344597, 0.1630301213890766, 0.2608481942225226, 0.35866626705596855, 0.8842496409578828, 0.4765816557475832, 0.06149440719323654, 0.338219239562801, 0.015373601798309135, 0.06149440719323654, 0.046120805394927404, 0.7555480009037828, 0.7250432634057656, 0.7505027185300215, 0.234088752297689, 0.15605916819845933, 0.5462070886946077, 0.8874192124418345, 0.8013180358478383, 0.38886520316945133, 0.05555217188135019, 0.49996954693215173, 0.8515532143207931, 0.739433829465376, 0.0869922152312207, 0.13048832284683104, 0.8211748001410689, 0.33560401815272306, 0.6152740332799923, 0.6754710772512242, 0.7688865127965004, 0.2435786094217139, 0.5683500886506657, 0.08119286980723796, 0.08119286980723796, 0.7513473724925138, 0.49111628965244514, 0.13394080626884866, 0.044646935422949556, 0.3125285479606469, 0.8470151077682486, 0.9086777825059983, 0.04327037059552373, 0.783495980674, 0.7711079512993327, 0.7964506614264215, 0.12468823511413023, 0.6234411755706512, 0.6369333288437834, 0.2054623641431559, 0.10273118207157796, 0.02054623641431559, 0.09908061827982181, 0.04954030913991091, 0.7431046370986636, 0.04954030913991091, 0.4980671934062502, 0.24100025487399204, 0.08033341829133069, 0.11246678560786295, 0.04820005097479841, 0.8264192323354055, 0.9032968323397238, 0.3621423116689585, 0.0724284623337917, 0.0724284623337917, 0.2172853870013751, 0.2172853870013751, 0.8627795636224784, 0.8407335544282245, 0.736913782600018, 0.838535247448192, 0.8496218695079435, 0.6096245842972052, 0.8160379603065838, 0.8960392565570281, 0.9084937753565134, 0.24057214734532906, 0.2706436657634952, 0.42100125785432585, 0.030071518418166132, 0.7989359380698614, 0.776330367864291, 0.812548974406762, 0.8126597160129716, 0.8725658456904642, 0.27925014765328177, 0.09308338255109393, 0.09308338255109393, 0.4654169127554696, 0.2081698416987633, 0.31225476254814494, 0.05204246042469082, 0.4163396833975266, 0.14280096244846813, 0.14280096244846813, 0.5712038497938725, 0.7196201303393811, 0.17291218796958535, 0.6916487518783414, 0.1425182765018723, 0.7125913825093615, 0.07125913825093615, 0.23638223555729765, 0.1891057884458381, 0.5673173653375143, 0.8241307893736034, 0.09689402034307203, 0.06459601356204801, 0.7751521627445762, 0.9211874369975083, 0.9096152771040306, 0.8766110676880849, 0.8937908894312571, 0.14914353043848422, 0.7457176521924211, 0.37742931593114476, 0.5832998518935874, 0.3405151346695351, 0.5959014856716864, 0.801542853197414, 0.8431418638308296, 0.06320470750310196, 0.8216611975403255, 0.06320470750310196, 0.8679534244357052, 0.2053655720894151, 0.06845519069647171, 0.13691038139294343, 0.06845519069647171, 0.47918633487530193, 0.2802643490447124, 0.6539501477709957, 0.01167768121019635, 0.03503304363058905, 0.766522562142613, 0.8251296617684993, 0.7368923042417881, 0.24563076808059606, 0.7275979511158458, 0.12886406471674397, 0.5154562588669759, 0.3221601617918599, 0.42917262167002673, 0.061310374524289536, 0.4904829961943163, 0.8792771018079979, 0.9186520608054191, 0.6720428317792951, 0.3544372471336417, 0.5907287452227362, 0.43610116523220327, 0.43610116523220327, 0.616482907642966, 0.9473273977037538, 0.9374191932166727, 0.2768692873452657, 0.046144881224210954, 0.5075936934663204, 0.046144881224210954, 0.09228976244842191, 0.9185402862433222, 0.8443308777696213, 0.8450449136214335, 0.785956515762356, 0.10479420210164747, 0.052397101050823736, 0.052397101050823736, 0.7728554653499713, 0.9619974512273722, 0.20952797056104208, 0.13333598126611768, 0.038095994647462196, 0.5333439250644707, 0.038095994647462196, 0.05714399197119329, 0.7693639904761783, 0.6442827742792967, 0.03579348745996093, 0.10738046237988279, 0.17896743729980463, 0.19240936824436503, 0.5291257626720038, 0.19240936824436503, 0.048102342061091256, 0.5938054434748357, 0.7778179806791405, 0.7960911863695034, 0.8204987364999974, 0.0911665262777775, 0.19715872841919063, 0.591476185257572, 0.6652270913761206, 0.1995681274128362, 0.08315338642201507, 0.016630677284403015, 0.6513623552325486, 0.11166211803986548, 0.20471388307308672, 0.8947215917625936, 0.8199554688493815, 0.859874119657047, 0.7303843373301615, 0.9600790224979537, 0.7198049929173801, 0.3678450757834276, 0.4291525884139989, 0.12261502526114254, 0.06130751263057127, 0.02043583754352376, 0.8926339828911074, 0.9133202185439697, 0.836988784821693, 0.7560444167347059, 0.834908549264155, 0.7417614306404824, 0.8807055951314224, 0.7843512360905855, 0.1307252060150976, 0.3361829331403124, 0.5603048885671873, 0.7986644265339389, 0.7483217642139067, 0.7605306868443538, 0.6894267144992537, 0.7400867032397451, 0.8571666801759046, 0.9667429286345276, 0.47652198942552604, 0.4129857241687892, 0.0158840663141842, 0.0476521989425526, 0.0317681326283684, 0.7211170159520036, 0.28671389237532424, 0.3583923654691553, 0.28671389237532424, 0.8120281357579705, 0.6461886690246454, 0.8375272824552579, 0.8560764423316365, 0.9196622199885591, 0.8768401996129587, 0.13591646126201906, 0.13591646126201906, 0.5436658450480762, 0.7786844369736533, 0.08200313605263106, 0.7380282244736796, 0.5337895258589278, 0.025418548850425136, 0.20334839080340109, 0.025418548850425136, 0.17792984195297595, 0.9356747959705608, 0.9134972029586104, 0.808783170000633, 0.1155404528572333, 0.9475594105995009, 0.02560971379998651, 0.8549854976652244, 0.5852788755982282, 0.8574386161215427, 0.044350273247666, 0.05913369766355467, 0.014783424415888667, 0.014783424415888667, 0.8434538056516301, 0.8645680968044572, 0.8738186300548797, 0.7588847608432728, 0.07588847608432728, 0.07588847608432728, 0.312619212842235, 0.5326105107682523, 0.06947093618716334, 0.06947093618716334, 0.011578489364527222, 0.6726772588257334, 0.6251683180676822, 0.3516571789130713, 0.8256294340892093, 0.28679458080425557, 0.5974887100088657, 0.07169864520106389, 0.02389954840035463, 0.7810216152355329, 0.7613151015066695, 0.8932270199820885, 0.5174662318856315, 0.04139729855085052, 0.3104797391313789, 0.04139729855085052, 0.08279459710170103, 0.3360181182738753, 0.616033216835438, 0.8597550854488436, 0.7269978186304533, 0.7704912694197861, 0.7371789869917368, 0.910041638326126, 0.8324670423639993, 0.7445714977290817, 0.6714050585315638, 0.2538514714483444, 0.10154058857933776, 0.6092435314760266, 0.8665957887759395, 0.8404510649616488, 0.89122570484751, 0.7041633807282406, 0.897395375478877, 0.056087210967429815, 0.813847557199146, 0.11954196152156993, 0.8367937306509895, 0.9144290417446065, 0.8443961610931909, 0.9454933664013547, 0.8294572637596088, 0.8538991784561769, 0.7345534427526341, 0.8632341175631592, 0.20049226656927127, 0.7618706129632309, 0.7255552050358614, 0.5136670318095822, 0.02568335159047911, 0.38525027385718663, 0.05136670318095822, 0.02568335159047911, 0.9220104462757158, 0.5890413605218097, 0.17998486015944182, 0.09817356008696827, 0.08181130007247356, 0.01636226001449471, 0.7731916376416207, 0.873614977437571, 0.28652830483544534, 0.5730566096708907, 0.9354634756020103, 0.7944831628250918, 0.8086087009059744, 0.07255128053802304, 0.5441346040351728, 0.07255128053802304, 0.29020512215209215, 0.8865513929654949, 0.7622600931620981, 0.132210052254099, 0.6610502612704949, 0.834737757361501, 0.7309695247719141], \"Term\": [\"absolute\", \"absolute\", \"action\", \"action\", \"action\", \"actionbar\", \"activerecord\", \"activity\", \"activity\", \"activitythread\", \"adb\", \"administrator\", \"administrator\", \"advice\", \"age\", \"age\", \"agent\", \"ajax\", \"algorithm\", \"algorithm\", \"alias\", \"alpha\", \"alter\", \"amazon\", \"amp\", \"amp\", \"amp\", \"amp\", \"anchor\", \"android\", \"android\", \"android\", \"android\", \"androidruntime\", \"angular\", \"angular\", \"angularjs\", \"angularjs\", \"anonymous\", \"anyobject\", \"api\", \"api\", \"api\", \"app\", \"app\", \"app\", \"app\", \"appdata\", \"application\", \"application\", \"application\", \"application\", \"apt\", \"arbitrary\", \"architecture\", \"archive\", \"area\", \"area\", \"arg\", \"arg\", \"argument\", \"argument\", \"argument\", \"argument\", \"arr\", \"array\", \"array\", \"array\", \"array\", \"arraylist\", \"arraylist\", \"arrow\", \"artifactid\", \"asp\", \"aspnet\", \"assert\", \"asynchronous\", \"audio\", \"aug\", \"authenticate\", \"authentication\", \"authentication\", \"auto\", \"auto\", \"auto\", \"auto\", \"autowire\", \"axios\", \"axis\", \"background\", \"background\", \"background\", \"backwards\", \"bar\", \"bar\", \"bar\", \"batch\", \"batch\", \"bean\", \"binary\", \"binary\", \"bitmap\", \"blank\", \"blank\", \"blank\", \"blue\", \"bound\", \"bound\", \"box\", \"box\", \"box\", \"branch\", \"brew\", \"bring\", \"bring\", \"browser\", \"bucket\", \"buffer\", \"buffer\", \"builder\", \"builder\", \"button\", \"button\", \"button\", \"byte\", \"byte\", \"byte\", \"c\", \"c\", \"c\", \"c\", \"c\", \"c++\", \"c++\", \"c++\", \"c++\", \"c++\", \"cache\", \"caller\", \"camera\", \"cancel\", \"capture\", \"car\", \"cardview\", \"case\", \"case\", \"case\", \"case\", \"cast\", \"cast\", \"cell\", \"cell\", \"cell\", \"center\", \"center\", \"center\", \"cert\", \"certificate\", \"certificate\", \"cgrect\", \"channel\", \"char\", \"char\", \"character\", \"character\", \"character\", \"chart\", \"chat\", \"checkbox\", \"checkbox\", \"checkout\", \"checkout\", \"chrome\", \"chunk\", \"circle\", \"circular\", \"circumstance\", \"clang\", \"clang\", \"class\", \"class\", \"class\", \"classic\", \"classloader\", \"clause\", \"clause\", \"client\", \"client\", \"client\", \"cmd\", \"cmd\", \"codec\", \"col\", \"col\", \"color\", \"color\", \"column\", \"column\", \"column\", \"column\", \"column\", \"com\", \"com\", \"com\", \"combination\", \"combination\", \"combination\", \"comma\", \"comma\", \"command\", \"command\", \"command\", \"command\", \"command\", \"commit\", \"commit\", \"commons\", \"compilation\", \"compile\", \"compile\", \"compile\", \"compile\", \"complex\", \"complex\", \"complexity\", \"component\", \"component\", \"compose\", \"compute\", \"condition\", \"condition\", \"condition\", \"condition\", \"conditional\", \"conditional\", \"conf\", \"conf\", \"conflict\", \"confusion\", \"console\", \"constexpr\", \"constraint\", \"constraint\", \"constraint\", \"constructor\", \"constructor\", \"contact\", \"container\", \"container\", \"container\", \"container\", \"container\", \"controller\", \"controller\", \"conversion\", \"conversion\", \"conversion\", \"convert\", \"convert\", \"convert\", \"convert\", \"cookie\", \"cookie\", \"coordinate\", \"counterpart\", \"country\", \"country\", \"cout\", \"coverage\", \"cpp\", \"cpu\", \"create\", \"create\", \"create\", \"create\", \"create\", \"credential\", \"cron\", \"cross\", \"cross\", \"css\", \"css\", \"csv\", \"csv\", \"curl\", \"dagger\", \"database\", \"database\", \"database\", \"dataframe\", \"dataframe\", \"dataset\", \"dataset\", \"datatable\", \"date\", \"date\", \"datepicker\", \"datetime\", \"datetime\", \"datum\", \"datum\", \"datum\", \"datum\", \"day\", \"day\", \"day\", \"decimal\", \"decimal\", \"decode\", \"decode\", \"decode\", \"decorator\", \"decorator\", \"delay\", \"delete\", \"delete\", \"delete\", \"dependency\", \"dependency\", \"dependent\", \"dependent\", \"deprecate\", \"deprecate\", \"desc\", \"determine\", \"determine\", \"determine\", \"determine\", \"determine\", \"devise\", \"dict\", \"dictionary\", \"dictionary\", \"difference\", \"difference\", \"difference\", \"difference\", \"difference\", \"difficult\", \"digit\", \"dim\", \"directive\", \"directive\", \"directory\", \"directory\", \"directory\", \"dirname\", \"dispatch\", \"dispatch\", \"dist\", \"distinct\", \"django\", \"django\", \"django\", \"docker\", \"docker\", \"docs\", \"dog\", \"domain\", \"double\", \"double\", \"double\", \"double\", \"dplyr\", \"drawable\", \"drive\", \"driver\", \"duplicate\", \"duplicate\", \"eax\", \"eclipse\", \"eclipse\", \"eclipse\", \"edittext\", \"elem\", \"emac\", \"email\", \"email\", \"email\", \"email\", \"email\", \"embed\", \"emit\", \"employee\", \"emulator\", \"emulator\", \"endl\", \"entity\", \"entity\", \"error\", \"error\", \"error\", \"error\", \"error\", \"error\", \"escape\", \"escape\", \"eval\", \"event\", \"event\", \"event\", \"example\", \"example\", \"example\", \"example\", \"example\", \"excel\", \"excel\", \"exe\", \"exe\", \"exit\", \"exit\", \"exit\", \"exit\", \"export\", \"expr\", \"express\", \"external\", \"external\", \"fall\", \"fault\", \"field\", \"field\", \"field\", \"field\", \"file\", \"file\", \"file\", \"file\", \"file\", \"file\", \"filename\", \"filename\", \"filename\", \"filter\", \"filter\", \"filter\", \"filter\", \"firebase\", \"firefox\", \"firstname\", \"firstname\", \"fixture\", \"flask\", \"flex\", \"flutter\", \"focus\", \"focus\", \"folder\", \"folder\", \"folder\", \"folder\", \"foobar\", \"footer\", \"foreach\", \"foreach\", \"foreach\", \"foreach\", \"foreground\", \"foreign\", \"form\", \"form\", \"form\", \"format\", \"format\", \"format\", \"formatter\", \"formula\", \"forum\", \"fragment\", \"fun\", \"func\", \"func\", \"func\", \"func\", \"function\", \"function\", \"function\", \"function\", \"game\", \"gcc\", \"gcc\", \"generic\", \"generic\", \"getstre\", \"getter\", \"getter\", \"ggplot\", \"git\", \"git\", \"github\", \"github\", \"gmail\", \"gnu\", \"gnu\", \"google\", \"google\", \"google\", \"google\", \"google\", \"google\", \"grab\", \"gradle\", \"gradle\", \"greatly\", \"greatly\", \"groupid\", \"guy\", \"happy\", \"hashmap\", \"haskell\", \"haskell\", \"height\", \"height\", \"helloworld\", \"hex\", \"hibernate\", \"history\", \"homebrew\", \"horizontally\", \"href\", \"html\", \"html\", \"http\", \"http\", \"iam\", \"icon\", \"ide\", \"ide\", \"identify\", \"identity\", \"identity\", \"idle\", \"ids\", \"ids\", \"iframe\", \"image\", \"image\", \"image\", \"image\", \"imagine\", \"immutable\", \"implicit\", \"importerror\", \"incorporate\", \"increment\", \"indent\", \"indentation\", \"indicate\", \"indicate\", \"indicate\", \"indicate\", \"inheritance\", \"initialization\", \"initializer\", \"inject\", \"inject\", \"instal\", \"instal\", \"instal\", \"install\", \"install\", \"install\", \"int\", \"int\", \"int\", \"int\", \"int\", \"int\", \"integer\", \"integer\", \"integer\", \"intellij\", \"intellij\", \"intellij\", \"interpreter\", \"interval\", \"investigate\", \"invisible\", \"invocation\", \"invoke\", \"invoke\", \"invoke\", \"invoke\", \"io\", \"io\", \"io\", \"iostream\", \"ipad\", \"iphone\", \"iphone\", \"iphone\", \"ipython\", \"isempty\", \"item\", \"item\", \"item\", \"iterable\", \"iteration\", \"iterator\", \"jar\", \"jar\", \"java\", \"java\", \"java\", \"java\", \"java\", \"javafx\", \"jdk\", \"jenkin\", \"jenkin\", \"job\", \"job\", \"job\", \"job\", \"join\", \"join\", \"join\", \"jquery\", \"jquery\", \"jre\", \"json\", \"json\", \"jsonobject\", \"kafka\", \"kernel\", \"key\", \"key\", \"key\", \"key\", \"keyword\", \"kill\", \"kill\", \"knockout\", \"kotlin\", \"kotlin\", \"kubectl\", \"kubernete\", \"kwargs\", \"lang\", \"lang\", \"laravel\", \"laravel\", \"lastname\", \"lastname\", \"layout\", \"layout\", \"layout_height\", \"layout_width\", \"lazy\", \"leak\", \"leave\", \"leave\", \"leave\", \"leave\", \"left\", \"legend\", \"letter\", \"life\", \"line\", \"line\", \"line\", \"line\", \"linearlayout\", \"linearlayout\", \"linq\", \"lion\", \"list\", \"list\", \"list\", \"list\", \"list\", \"list\", \"listen\", \"listview\", \"load\", \"loader\", \"loader\", \"loader\", \"local\", \"local\", \"locale\", \"locate\", \"locate\", \"lock\", \"lock\", \"lodash\", \"log\", \"log\", \"log\", \"log\", \"logcat\", \"logger\", \"logical\", \"login\", \"lookup\", \"loop\", \"loop\", \"loop\", \"loop\", \"loss\", \"mac\", \"mac\", \"machine\", \"machine\", \"machine\", \"mail\", \"main\", \"main\", \"main\", \"main\", \"makefile\", \"makefile\", \"management\", \"manufacturer\", \"margin\", \"margin\", \"master\", \"match_parent\", \"matplotlib\", \"matrix\", \"maven\", \"maven\", \"maverick\", \"max\", \"max\", \"maximum\", \"maximum\", \"maximum\", \"medium\", \"medium\", \"medium\", \"medium\", \"mercurial\", \"merge\", \"merge\", \"merge\", \"mess\", \"method\", \"method\", \"method\", \"method\", \"millisecond\", \"mingw\", \"minute\", \"mix\", \"modal\", \"model\", \"model\", \"model\", \"module\", \"mongodb\", \"mongodb\", \"month\", \"movie\", \"multi\", \"myclass\", \"myfile\", \"myobject\", \"myproject\", \"mysql\", \"mysql\", \"nan\", \"nbsp\", \"near\", \"net\", \"net\", \"node\", \"node\", \"node_env\", \"node_modules\", \"node_modules\", \"nodejs\", \"nonatomic\", \"noticed\", \"notification\", \"notification\", \"notify\", \"npm\", \"nsdate\", \"nsurl\", \"nuget\", \"nullable\", \"num\", \"number\", \"number\", \"number\", \"number\", \"number\", \"oauth\", \"obj\", \"obj\", \"object\", \"object\", \"object\", \"object\", \"objective\", \"objective\", \"observable\", \"observe\", \"occasionally\", \"occurrence\", \"omit\", \"onchange\", \"oncreate\", \"opacity\", \"opencv\", \"openssl\", \"operator\", \"option\", \"option\", \"option\", \"orange\", \"order\", \"order\", \"order\", \"order\", \"overlap\", \"packet\", \"page\", \"page\", \"pagination\", \"pair\", \"pair\", \"panda\", \"panda\", \"paragraph\", \"paragraph\", \"partial\", \"partition\", \"password\", \"paste\", \"paste\", \"path\", \"path\", \"path\", \"path\", \"pay\", \"payload\", \"pdf\", \"pdf\", \"percentage\", \"permanently\", \"person\", \"person\", \"person\", \"photo\", \"php\", \"php\", \"php\", \"pic\", \"picture\", \"picture\", \"pid\", \"placeholder\", \"player\", \"plot\", \"plot\", \"plt\", \"plugin\", \"plugin\", \"pod\", \"policy\", \"policy\", \"pom\", \"pom\", \"pool\", \"pool\", \"pop\", \"pop\", \"pop\", \"popup\", \"port\", \"position\", \"position\", \"position\", \"position\", \"position\", \"post\", \"post\", \"post\", \"postgre\", \"postman\", \"powershell\", \"precision\", \"predicate\", \"preference\", \"prefix\", \"primary\", \"primary\", \"print\", \"print\", \"print\", \"printf\", \"printf\", \"println\", \"println\", \"println\", \"println\", \"println\", \"privilege\", \"procedure\", \"procedure\", \"product\", \"product\", \"product\", \"profile\", \"programmatically\", \"programmatically\", \"project\", \"project\", \"project\", \"promise\", \"promise\", \"prompt\", \"prompt\", \"protocol\", \"protocol\", \"protocol\", \"public\", \"public\", \"public\", \"publish\", \"push\", \"push\", \"pycharm\", \"pyt\", \"python\", \"python\", \"python\", \"python\", \"query\", \"query\", \"query\", \"queue\", \"queue\", \"queue\", \"quote\", \"quote\", \"quote\", \"quote\", \"r\", \"r\", \"r\", \"r\", \"raise\", \"raise\", \"raise\", \"random\", \"random\", \"range\", \"range\", \"range\", \"rate\", \"reach\", \"reach\", \"react\", \"reactjs\", \"readable\", \"reader\", \"readonly\", \"realise\", \"rebase\", \"recognize\", \"recompile\", \"rectangle\", \"recursively\", \"red\", \"redirect\", \"redundant\", \"regard\", \"regex\", \"regex\", \"rel\", \"relationship\", \"remote\", \"remote\", \"rename\", \"rename\", \"reply\", \"repository\", \"repository\", \"represent\", \"represent\", \"request\", \"request\", \"response\", \"restart\", \"restriction\", \"retrofit\", \"retrofit\", \"return\", \"return\", \"return\", \"return\", \"return\", \"reveal\", \"reverse\", \"reverse\", \"revision\", \"rgba\", \"round\", \"round\", \"route\", \"route\", \"route\", \"router\", \"router\", \"row\", \"row\", \"row\", \"row\", \"row\", \"rspec\", \"run\", \"run\", \"run\", \"run\", \"run\", \"run\", \"san\", \"savedinstancestate\", \"sbt\", \"scala\", \"scala\", \"scala\", \"scale\", \"scheme\", \"scope\", \"scope\", \"scope\", \"score\", \"script\", \"script\", \"script\", \"scrollview\", \"sdk\", \"sdk\", \"se\", \"secure\", \"security\", \"security\", \"security\", \"security\", \"seed\", \"select\", \"select\", \"select\", \"select\", \"selenium\", \"send\", \"send\", \"sentence\", \"sequence\", \"serializable\", \"series\", \"series\", \"server\", \"server\", \"server\", \"server\", \"session\", \"session\", \"session\", \"session\", \"set\", \"set\", \"set\", \"set\", \"set\", \"shadow\", \"shape\", \"share\", \"share\", \"share\", \"share\", \"share\", \"sheet\", \"shift\", \"shutdown\", \"signal\", \"signature\", \"signup\", \"simulator\", \"singleton\", \"site\", \"size\", \"size\", \"size\", \"size\", \"sizeof\", \"slash\", \"slide\", \"slot\", \"snapshot\", \"socket\", \"socket\", \"socket\", \"socket\", \"sort\", \"sort\", \"sort\", \"sort\", \"sound\", \"sound\", \"sound\", \"sourcetree\", \"specification\", \"specification\", \"split\", \"split\", \"split\", \"spring\", \"spring\", \"spring\", \"springframework\", \"sql\", \"sql\", \"sql\", \"ssh\", \"ssl\", \"stable\", \"stage\", \"startup\", \"startup\", \"static\", \"static\", \"std\", \"std\", \"stdout\", \"story\", \"str\", \"str\", \"str\", \"straight\", \"stream\", \"stream\", \"stream\", \"stream\", \"stream\", \"string\", \"string\", \"string\", \"string\", \"stringify\", \"strip\", \"struct\", \"struct\", \"student\", \"studio\", \"studio\", \"studio\", \"style\", \"style\", \"style\", \"subclass\", \"subscribe\", \"subtract\", \"sudo\", \"sudo\", \"sum\", \"sum\", \"surely\", \"svg\", \"svn\", \"swift\", \"swift\", \"swift\", \"swift\", \"swift\", \"symbol\", \"symfony\", \"synchronous\", \"syntax\", \"syntax\", \"syntax\", \"syntax\", \"syntaxerror\", \"tab\", \"table\", \"table\", \"table\", \"table\", \"table\", \"table\", \"tableview\", \"tag\", \"tag\", \"tag\", \"tag\", \"target\", \"target\", \"target\", \"target\", \"tbody\", \"tcp\", \"term\", \"terminal\", \"terminal\", \"terminate\", \"terminate\", \"test\", \"test\", \"test\", \"test\", \"text\", \"text\", \"text\", \"textbox\", \"textfield\", \"textview\", \"tfs\", \"theme\", \"ticket\", \"time\", \"time\", \"time\", \"time\", \"time\", \"timer\", \"timestamp\", \"timezone\", \"tmp\", \"toast\", \"tom\", \"toolbar\", \"topic\", \"topic\", \"touch\", \"touch\", \"track\", \"transfer\", \"trim\", \"tsconfig\", \"tuple\", \"tweet\", \"txt\", \"type\", \"type\", \"type\", \"type\", \"type\", \"typedef\", \"ubuntu\", \"ubuntu\", \"ubuntu\", \"uiimage\", \"uikit\", \"uint\", \"uitableview\", \"uiview\", \"uiviewcontroller\", \"unfortunately\", \"unfortunately\", \"unfortunately\", \"unicode\", \"unique\", \"unique\", \"update\", \"update\", \"update\", \"update\", \"update\", \"upload\", \"upstream\", \"uri\", \"uri\", \"url\", \"url\", \"urlencode\", \"useless\", \"user\", \"user\", \"user\", \"user\", \"user\", \"user_id\", \"uuid\", \"vagrant\", \"val\", \"val\", \"val\", \"value\", \"value\", \"value\", \"value\", \"value\", \"valueof\", \"var\", \"var\", \"varchar\", \"variable\", \"variable\", \"variable\", \"variable\", \"vary\", \"vba\", \"vector\", \"version\", \"version\", \"version\", \"version\", \"version\", \"video\", \"video\", \"viewcontroller\", \"viewdidload\", \"viewmodel\", \"viewpager\", \"vim\", \"virtualenv\", \"visibility\", \"visit\", \"visual\", \"visual\", \"visual\", \"volume\", \"vuejs\", \"watch\", \"weak\", \"web\", \"web\", \"webapi\", \"webkit\", \"webkit\", \"webpack\", \"webpage\", \"website\", \"websocket\", \"webview\", \"weight\", \"widget\", \"width\", \"width\", \"wifi\", \"window\", \"window\", \"window\", \"window\", \"window\", \"wordpress\", \"work\", \"work\", \"work\", \"work\", \"work\", \"workspace\", \"wrap_content\", \"wrapper\", \"wrapper\", \"www\", \"xamarin\", \"xampp\", \"xcode\", \"xcode\", \"xcode\", \"xcode\", \"xpath\", \"yaml\", \"zip\", \"zip\", \"zone\", \"zoom\"]}, \"R\": 30, \"lambda.step\": 0.01, \"plot.opts\": {\"xlab\": \"PC1\", \"ylab\": \"PC2\"}, \"topic.order\": [12, 8, 6, 15, 3, 11, 5, 2, 17, 16, 4, 13, 7, 1, 14, 9, 10]};\n",
       "\n",
       "function LDAvis_load_lib(url, callback){\n",
       "  var s = document.createElement('script');\n",
       "  s.src = url;\n",
       "  s.async = true;\n",
       "  s.onreadystatechange = s.onload = callback;\n",
       "  s.onerror = function(){console.warn(\"failed to load library \" + url);};\n",
       "  document.getElementsByTagName(\"head\")[0].appendChild(s);\n",
       "}\n",
       "\n",
       "if(typeof(LDAvis) !== \"undefined\"){\n",
       "   // already loaded: just create the visualization\n",
       "   !function(LDAvis){\n",
       "       new LDAvis(\"#\" + \"ldavis_el990030820247282725436896234\", ldavis_el990030820247282725436896234_data);\n",
       "   }(LDAvis);\n",
       "}else if(typeof define === \"function\" && define.amd){\n",
       "   // require.js is available: use it to load d3/LDAvis\n",
       "   require.config({paths: {d3: \"https://d3js.org/d3.v5\"}});\n",
       "   require([\"d3\"], function(d3){\n",
       "      window.d3 = d3;\n",
       "      LDAvis_load_lib(\"https://cdn.jsdelivr.net/gh/bmabey/pyLDAvis@3.3.1/pyLDAvis/js/ldavis.v3.0.0.js\", function(){\n",
       "        new LDAvis(\"#\" + \"ldavis_el990030820247282725436896234\", ldavis_el990030820247282725436896234_data);\n",
       "      });\n",
       "    });\n",
       "}else{\n",
       "    // require.js not available: dynamically load d3 & LDAvis\n",
       "    LDAvis_load_lib(\"https://d3js.org/d3.v5.js\", function(){\n",
       "         LDAvis_load_lib(\"https://cdn.jsdelivr.net/gh/bmabey/pyLDAvis@3.3.1/pyLDAvis/js/ldavis.v3.0.0.js\", function(){\n",
       "                 new LDAvis(\"#\" + \"ldavis_el990030820247282725436896234\", ldavis_el990030820247282725436896234_data);\n",
       "            })\n",
       "         });\n",
       "}\n",
       "</script>"
      ],
      "text/plain": [
       "PreparedData(topic_coordinates=               x           y  topics  cluster       Freq\n",
       "topic                                                   \n",
       "11      2.972113  -13.786730       1        1  35.632715\n",
       "7      -7.288966   86.150291       2        1  14.519861\n",
       "5      38.049393   65.587624       3        1   9.233405\n",
       "14    -42.227043    6.162611       4        1   8.447376\n",
       "2     -63.238548  -41.294518       5        1   4.052369\n",
       "10    -48.099060   56.473579       6        1   3.962659\n",
       "4     -48.087841  120.044159       7        1   2.964870\n",
       "1      17.708776  131.640900       8        1   2.549159\n",
       "16     92.846191   -8.328438       9        1   2.384860\n",
       "15     47.892864  -45.589878      10        1   2.350284\n",
       "3      92.039185   50.145565      11        1   2.287859\n",
       "12    -94.766495   15.104293      12        1   2.163085\n",
       "6      -9.109381  -64.732552      13        1   2.154888\n",
       "0     -94.606842   77.712318      14        1   1.953017\n",
       "13     44.945538   14.845922      15        1   1.829999\n",
       "8      -1.493484   35.842178      16        1   1.786950\n",
       "9      71.312836  105.574364      17        1   1.726643, topic_info=             Term        Freq       Total Category  logprob  loglift\n",
       "710       android  112.000000  112.000000  Default  30.0000  30.0000\n",
       "707          java   66.000000   66.000000  Default  29.0000  29.0000\n",
       "1          column   51.000000   51.000000  Default  28.0000  28.0000\n",
       "14          table   52.000000   52.000000  Default  27.0000  27.0000\n",
       "222           git   51.000000   51.000000  Default  26.0000  26.0000\n",
       "...           ...         ...         ...      ...      ...      ...\n",
       "1219  counterpart    1.487533    2.482099  Topic17  -5.6115   3.5470\n",
       "559        socket    4.869408   10.743056  Topic17  -4.4256   3.2677\n",
       "634     deprecate    3.850700    8.486163  Topic17  -4.6603   3.2688\n",
       "1911          pop    3.282936    7.713305  Topic17  -4.8198   3.2048\n",
       "1161       center    4.901420   16.538975  Topic17  -4.4191   2.8428\n",
       "\n",
       "[815 rows x 6 columns], token_table=      Topic      Freq      Term\n",
       "term                           \n",
       "1159      2  0.153431  absolute\n",
       "1159     10  0.767157  absolute\n",
       "384       1  0.906808    action\n",
       "384       2  0.043181    action\n",
       "384       4  0.043181    action\n",
       "...     ...       ...       ...\n",
       "1930      3  0.762260      yaml\n",
       "1852      6  0.132210       zip\n",
       "1852     11  0.661050       zip\n",
       "1574      9  0.834738      zone\n",
       "2461     13  0.730970      zoom\n",
       "\n",
       "[1363 rows x 3 columns], R=30, lambda_step=0.01, plot_opts={'xlab': 'PC1', 'ylab': 'PC2'}, topic_order=[12, 8, 6, 15, 3, 11, 5, 2, 17, 16, 4, 13, 7, 1, 14, 9, 10])"
      ]
     },
     "execution_count": 44,
     "metadata": {},
     "output_type": "execute_result"
    }
   ],
   "source": [
    "pyLDAvis.enable_notebook()\n",
    "plot=pyLDAvis.gensim_models.prepare(lda_model, corpus, dictionary,mds='tsne')\n",
    "plot"
   ]
  },
  {
   "cell_type": "code",
   "execution_count": 36,
   "id": "57895937",
   "metadata": {},
   "outputs": [],
   "source": [
    "#pyLDAvis.save_html(plot, 'lda.html')"
   ]
  },
  {
   "cell_type": "markdown",
   "id": "e50a7a6f",
   "metadata": {},
   "source": [
    "#### Test model"
   ]
  },
  {
   "cell_type": "code",
   "execution_count": 364,
   "id": "a18f97a6",
   "metadata": {},
   "outputs": [],
   "source": [
    "#Import test data\n",
    "d_test = pd.read_pickle('./data/test_data.pkl')\n",
    "d_test.reset_index(drop=True, inplace=True)"
   ]
  },
  {
   "cell_type": "code",
   "execution_count": 365,
   "id": "c96f3d39",
   "metadata": {},
   "outputs": [
    {
     "data": {
      "text/html": [
       "<div>\n",
       "<style scoped>\n",
       "    .dataframe tbody tr th:only-of-type {\n",
       "        vertical-align: middle;\n",
       "    }\n",
       "\n",
       "    .dataframe tbody tr th {\n",
       "        vertical-align: top;\n",
       "    }\n",
       "\n",
       "    .dataframe thead th {\n",
       "        text-align: right;\n",
       "    }\n",
       "</style>\n",
       "<table border=\"1\" class=\"dataframe\">\n",
       "  <thead>\n",
       "    <tr style=\"text-align: right;\">\n",
       "      <th></th>\n",
       "      <th>Body</th>\n",
       "      <th>Title</th>\n",
       "      <th>Tags</th>\n",
       "      <th>Preprocessed_text</th>\n",
       "      <th>Score</th>\n",
       "    </tr>\n",
       "  </thead>\n",
       "  <tbody>\n",
       "    <tr>\n",
       "      <th>0</th>\n",
       "      <td>graphql you can write something like this  ...</td>\n",
       "      <td>what the purpose template literals backticks f...</td>\n",
       "      <td>javascript;ecmascript-6;graphql;styled-compone...</td>\n",
       "      <td>graphql write define query const user_query gq...</td>\n",
       "      <td>30</td>\n",
       "    </tr>\n",
       "    <tr>\n",
       "      <th>1</th>\n",
       "      <td>know this question has been asked before bu...</td>\n",
       "      <td>typeerror cannot unpack non iterable nonetype ...</td>\n",
       "      <td>python;python-3.x</td>\n",
       "      <td>ask work import numpy def load_dataset def dow...</td>\n",
       "      <td>30</td>\n",
       "    </tr>\n",
       "    <tr>\n",
       "      <th>2</th>\n",
       "      <td>using the new action bar support and all ...</td>\n",
       "      <td>action bar not showing action view icons</td>\n",
       "      <td>android;android-actionbar;android-support-libr...</td>\n",
       "      <td>action bar support action overflow icon bar ap...</td>\n",
       "      <td>30</td>\n",
       "    </tr>\n",
       "    <tr>\n",
       "      <th>3</th>\n",
       "      <td>found some topics here      but   still can...</td>\n",
       "      <td>postgresql group clause used aggregate function</td>\n",
       "      <td>sql;ruby-on-rails-3;postgresql;heroku</td>\n",
       "      <td>topic setup query query work localhost car car...</td>\n",
       "      <td>30</td>\n",
       "    </tr>\n",
       "    <tr>\n",
       "      <th>4</th>\n",
       "      <td>there any   built method   java where you c...</td>\n",
       "      <td>java check input positive integer negative int...</td>\n",
       "      <td>java</td>\n",
       "      <td>method java user input type positive negative ...</td>\n",
       "      <td>30</td>\n",
       "    </tr>\n",
       "  </tbody>\n",
       "</table>\n",
       "</div>"
      ],
      "text/plain": [
       "                                                Body  \\\n",
       "0     graphql you can write something like this  ...   \n",
       "1     know this question has been asked before bu...   \n",
       "2       using the new action bar support and all ...   \n",
       "3     found some topics here      but   still can...   \n",
       "4     there any   built method   java where you c...   \n",
       "\n",
       "                                               Title  \\\n",
       "0  what the purpose template literals backticks f...   \n",
       "1  typeerror cannot unpack non iterable nonetype ...   \n",
       "2           action bar not showing action view icons   \n",
       "3    postgresql group clause used aggregate function   \n",
       "4  java check input positive integer negative int...   \n",
       "\n",
       "                                                Tags  \\\n",
       "0  javascript;ecmascript-6;graphql;styled-compone...   \n",
       "1                                  python;python-3.x   \n",
       "2  android;android-actionbar;android-support-libr...   \n",
       "3              sql;ruby-on-rails-3;postgresql;heroku   \n",
       "4                                               java   \n",
       "\n",
       "                                   Preprocessed_text  Score  \n",
       "0  graphql write define query const user_query gq...     30  \n",
       "1  ask work import numpy def load_dataset def dow...     30  \n",
       "2  action bar support action overflow icon bar ap...     30  \n",
       "3  topic setup query query work localhost car car...     30  \n",
       "4  method java user input type positive negative ...     30  "
      ]
     },
     "execution_count": 365,
     "metadata": {},
     "output_type": "execute_result"
    }
   ],
   "source": [
    "d_test.head()"
   ]
  },
  {
   "cell_type": "code",
   "execution_count": 366,
   "id": "2ec2cb3d",
   "metadata": {},
   "outputs": [],
   "source": [
    "#Prepare test data\n",
    "data_test = []\n",
    "for i in range(d_test.shape[0]):\n",
    "    data_test.append(df['Preprocessed_text'][i].split())"
   ]
  },
  {
   "cell_type": "code",
   "execution_count": 367,
   "id": "6d1f38d0",
   "metadata": {},
   "outputs": [],
   "source": [
    "corpus_new = [dictionary.doc2bow(text) for text in data_test]"
   ]
  },
  {
   "cell_type": "code",
   "execution_count": 368,
   "id": "09430bda",
   "metadata": {},
   "outputs": [
    {
     "name": "stdout",
     "output_type": "stream",
     "text": [
      "[(0, 0.06961664), (1, 0.18949825), (7, 0.7143134)]\n"
     ]
    }
   ],
   "source": [
    "#prediction of topic number with weight\n",
    "print(lda_model.get_document_topics(corpus_new[0]))"
   ]
  },
  {
   "cell_type": "code",
   "execution_count": 369,
   "id": "4ab7984d",
   "metadata": {},
   "outputs": [],
   "source": [
    "#prepare column for predicted topic number\n",
    "d_test['LDA_prediction'] = int(0)"
   ]
  },
  {
   "cell_type": "code",
   "execution_count": 370,
   "id": "16218f37",
   "metadata": {},
   "outputs": [
    {
     "data": {
      "text/html": [
       "<div>\n",
       "<style scoped>\n",
       "    .dataframe tbody tr th:only-of-type {\n",
       "        vertical-align: middle;\n",
       "    }\n",
       "\n",
       "    .dataframe tbody tr th {\n",
       "        vertical-align: top;\n",
       "    }\n",
       "\n",
       "    .dataframe thead th {\n",
       "        text-align: right;\n",
       "    }\n",
       "</style>\n",
       "<table border=\"1\" class=\"dataframe\">\n",
       "  <thead>\n",
       "    <tr style=\"text-align: right;\">\n",
       "      <th></th>\n",
       "      <th>Body</th>\n",
       "      <th>Title</th>\n",
       "      <th>Tags</th>\n",
       "      <th>Preprocessed_text</th>\n",
       "      <th>Score</th>\n",
       "      <th>LDA_prediction</th>\n",
       "    </tr>\n",
       "  </thead>\n",
       "  <tbody>\n",
       "    <tr>\n",
       "      <th>0</th>\n",
       "      <td>graphql you can write something like this  ...</td>\n",
       "      <td>what the purpose template literals backticks f...</td>\n",
       "      <td>javascript;ecmascript-6;graphql;styled-compone...</td>\n",
       "      <td>graphql write define query const user_query gq...</td>\n",
       "      <td>30</td>\n",
       "      <td>0</td>\n",
       "    </tr>\n",
       "    <tr>\n",
       "      <th>1</th>\n",
       "      <td>know this question has been asked before bu...</td>\n",
       "      <td>typeerror cannot unpack non iterable nonetype ...</td>\n",
       "      <td>python;python-3.x</td>\n",
       "      <td>ask work import numpy def load_dataset def dow...</td>\n",
       "      <td>30</td>\n",
       "      <td>0</td>\n",
       "    </tr>\n",
       "    <tr>\n",
       "      <th>2</th>\n",
       "      <td>using the new action bar support and all ...</td>\n",
       "      <td>action bar not showing action view icons</td>\n",
       "      <td>android;android-actionbar;android-support-libr...</td>\n",
       "      <td>action bar support action overflow icon bar ap...</td>\n",
       "      <td>30</td>\n",
       "      <td>0</td>\n",
       "    </tr>\n",
       "    <tr>\n",
       "      <th>3</th>\n",
       "      <td>found some topics here      but   still can...</td>\n",
       "      <td>postgresql group clause used aggregate function</td>\n",
       "      <td>sql;ruby-on-rails-3;postgresql;heroku</td>\n",
       "      <td>topic setup query query work localhost car car...</td>\n",
       "      <td>30</td>\n",
       "      <td>0</td>\n",
       "    </tr>\n",
       "    <tr>\n",
       "      <th>4</th>\n",
       "      <td>there any   built method   java where you c...</td>\n",
       "      <td>java check input positive integer negative int...</td>\n",
       "      <td>java</td>\n",
       "      <td>method java user input type positive negative ...</td>\n",
       "      <td>30</td>\n",
       "      <td>0</td>\n",
       "    </tr>\n",
       "  </tbody>\n",
       "</table>\n",
       "</div>"
      ],
      "text/plain": [
       "                                                Body  \\\n",
       "0     graphql you can write something like this  ...   \n",
       "1     know this question has been asked before bu...   \n",
       "2       using the new action bar support and all ...   \n",
       "3     found some topics here      but   still can...   \n",
       "4     there any   built method   java where you c...   \n",
       "\n",
       "                                               Title  \\\n",
       "0  what the purpose template literals backticks f...   \n",
       "1  typeerror cannot unpack non iterable nonetype ...   \n",
       "2           action bar not showing action view icons   \n",
       "3    postgresql group clause used aggregate function   \n",
       "4  java check input positive integer negative int...   \n",
       "\n",
       "                                                Tags  \\\n",
       "0  javascript;ecmascript-6;graphql;styled-compone...   \n",
       "1                                  python;python-3.x   \n",
       "2  android;android-actionbar;android-support-libr...   \n",
       "3              sql;ruby-on-rails-3;postgresql;heroku   \n",
       "4                                               java   \n",
       "\n",
       "                                   Preprocessed_text  Score  LDA_prediction  \n",
       "0  graphql write define query const user_query gq...     30               0  \n",
       "1  ask work import numpy def load_dataset def dow...     30               0  \n",
       "2  action bar support action overflow icon bar ap...     30               0  \n",
       "3  topic setup query query work localhost car car...     30               0  \n",
       "4  method java user input type positive negative ...     30               0  "
      ]
     },
     "execution_count": 370,
     "metadata": {},
     "output_type": "execute_result"
    }
   ],
   "source": [
    "d_test.head()"
   ]
  },
  {
   "cell_type": "code",
   "execution_count": 371,
   "id": "9e3a7b69",
   "metadata": {
    "scrolled": true
   },
   "outputs": [],
   "source": [
    "#make prediction of topic number for each document\n",
    "from operator import itemgetter\n",
    "for i in range(len(corpus_new)):\n",
    "    d_test.loc[i,'LDA_prediction']=max(lda_model.get_document_topics(corpus_new[i]), key=itemgetter(1))[0]"
   ]
  },
  {
   "cell_type": "code",
   "execution_count": 372,
   "id": "54663bfd",
   "metadata": {},
   "outputs": [],
   "source": [
    "def main_tag(elt):\n",
    "    ''' returns the most weighted token\n",
    "    given topic number'''\n",
    "    N=lda_model.get_topic_terms(elt, topn=30)[0][0]\n",
    "    Topic=[key  for (key, value) in dictionary.token2id.items() if value == N]\n",
    "    return Topic"
   ]
  },
  {
   "cell_type": "code",
   "execution_count": 373,
   "id": "e1187086",
   "metadata": {},
   "outputs": [
    {
     "data": {
      "text/html": [
       "<div>\n",
       "<style scoped>\n",
       "    .dataframe tbody tr th:only-of-type {\n",
       "        vertical-align: middle;\n",
       "    }\n",
       "\n",
       "    .dataframe tbody tr th {\n",
       "        vertical-align: top;\n",
       "    }\n",
       "\n",
       "    .dataframe thead th {\n",
       "        text-align: right;\n",
       "    }\n",
       "</style>\n",
       "<table border=\"1\" class=\"dataframe\">\n",
       "  <thead>\n",
       "    <tr style=\"text-align: right;\">\n",
       "      <th></th>\n",
       "      <th>Body</th>\n",
       "      <th>Title</th>\n",
       "      <th>Tags</th>\n",
       "      <th>Preprocessed_text</th>\n",
       "      <th>Score</th>\n",
       "      <th>LDA_prediction</th>\n",
       "    </tr>\n",
       "  </thead>\n",
       "  <tbody>\n",
       "    <tr>\n",
       "      <th>0</th>\n",
       "      <td>graphql you can write something like this  ...</td>\n",
       "      <td>what the purpose template literals backticks f...</td>\n",
       "      <td>javascript;ecmascript-6;graphql;styled-compone...</td>\n",
       "      <td>graphql write define query const user_query gq...</td>\n",
       "      <td>30</td>\n",
       "      <td>7</td>\n",
       "    </tr>\n",
       "    <tr>\n",
       "      <th>1</th>\n",
       "      <td>know this question has been asked before bu...</td>\n",
       "      <td>typeerror cannot unpack non iterable nonetype ...</td>\n",
       "      <td>python;python-3.x</td>\n",
       "      <td>ask work import numpy def load_dataset def dow...</td>\n",
       "      <td>30</td>\n",
       "      <td>11</td>\n",
       "    </tr>\n",
       "    <tr>\n",
       "      <th>2</th>\n",
       "      <td>using the new action bar support and all ...</td>\n",
       "      <td>action bar not showing action view icons</td>\n",
       "      <td>android;android-actionbar;android-support-libr...</td>\n",
       "      <td>action bar support action overflow icon bar ap...</td>\n",
       "      <td>30</td>\n",
       "      <td>11</td>\n",
       "    </tr>\n",
       "    <tr>\n",
       "      <th>3</th>\n",
       "      <td>found some topics here      but   still can...</td>\n",
       "      <td>postgresql group clause used aggregate function</td>\n",
       "      <td>sql;ruby-on-rails-3;postgresql;heroku</td>\n",
       "      <td>topic setup query query work localhost car car...</td>\n",
       "      <td>30</td>\n",
       "      <td>7</td>\n",
       "    </tr>\n",
       "    <tr>\n",
       "      <th>4</th>\n",
       "      <td>there any   built method   java where you c...</td>\n",
       "      <td>java check input positive integer negative int...</td>\n",
       "      <td>java</td>\n",
       "      <td>method java user input type positive negative ...</td>\n",
       "      <td>30</td>\n",
       "      <td>7</td>\n",
       "    </tr>\n",
       "  </tbody>\n",
       "</table>\n",
       "</div>"
      ],
      "text/plain": [
       "                                                Body  \\\n",
       "0     graphql you can write something like this  ...   \n",
       "1     know this question has been asked before bu...   \n",
       "2       using the new action bar support and all ...   \n",
       "3     found some topics here      but   still can...   \n",
       "4     there any   built method   java where you c...   \n",
       "\n",
       "                                               Title  \\\n",
       "0  what the purpose template literals backticks f...   \n",
       "1  typeerror cannot unpack non iterable nonetype ...   \n",
       "2           action bar not showing action view icons   \n",
       "3    postgresql group clause used aggregate function   \n",
       "4  java check input positive integer negative int...   \n",
       "\n",
       "                                                Tags  \\\n",
       "0  javascript;ecmascript-6;graphql;styled-compone...   \n",
       "1                                  python;python-3.x   \n",
       "2  android;android-actionbar;android-support-libr...   \n",
       "3              sql;ruby-on-rails-3;postgresql;heroku   \n",
       "4                                               java   \n",
       "\n",
       "                                   Preprocessed_text  Score  LDA_prediction  \n",
       "0  graphql write define query const user_query gq...     30               7  \n",
       "1  ask work import numpy def load_dataset def dow...     30              11  \n",
       "2  action bar support action overflow icon bar ap...     30              11  \n",
       "3  topic setup query query work localhost car car...     30               7  \n",
       "4  method java user input type positive negative ...     30               7  "
      ]
     },
     "execution_count": 373,
     "metadata": {},
     "output_type": "execute_result"
    }
   ],
   "source": [
    "d_test.head()"
   ]
  },
  {
   "cell_type": "code",
   "execution_count": 374,
   "id": "3966a569",
   "metadata": {
    "scrolled": false
   },
   "outputs": [],
   "source": [
    "#Define main tag\n",
    "d_test['LDA_prediction_tags'] = d_test['LDA_prediction'].apply(main_tag)"
   ]
  },
  {
   "cell_type": "code",
   "execution_count": 375,
   "id": "53703a60",
   "metadata": {},
   "outputs": [],
   "source": [
    "def tags_2(elt, text):\n",
    "    \n",
    "    '''returns words that are contained\n",
    "    in the document text and in the topic 50 first words '''\n",
    "    \n",
    "    list_id=[x[0] for x in lda_model.get_topic_terms(elt, topn=50)]\n",
    "    words_topic = []\n",
    "    \n",
    "    for word_id in list_id:\n",
    "        Topic = [key  for (key, value) in dictionary.token2id.items() if value == word_id][0]\n",
    "        words_topic.append(Topic)\n",
    "        \n",
    "    a = [w for w in words_topic if w in text.split()]\n",
    "    return a"
   ]
  },
  {
   "cell_type": "code",
   "execution_count": 376,
   "id": "3b21a8c2",
   "metadata": {},
   "outputs": [
    {
     "data": {
      "text/html": [
       "<div>\n",
       "<style scoped>\n",
       "    .dataframe tbody tr th:only-of-type {\n",
       "        vertical-align: middle;\n",
       "    }\n",
       "\n",
       "    .dataframe tbody tr th {\n",
       "        vertical-align: top;\n",
       "    }\n",
       "\n",
       "    .dataframe thead th {\n",
       "        text-align: right;\n",
       "    }\n",
       "</style>\n",
       "<table border=\"1\" class=\"dataframe\">\n",
       "  <thead>\n",
       "    <tr style=\"text-align: right;\">\n",
       "      <th></th>\n",
       "      <th>Body</th>\n",
       "      <th>Title</th>\n",
       "      <th>Tags</th>\n",
       "      <th>Preprocessed_text</th>\n",
       "      <th>Score</th>\n",
       "      <th>LDA_prediction</th>\n",
       "      <th>LDA_prediction_tags</th>\n",
       "    </tr>\n",
       "  </thead>\n",
       "  <tbody>\n",
       "    <tr>\n",
       "      <th>0</th>\n",
       "      <td>graphql you can write something like this  ...</td>\n",
       "      <td>what the purpose template literals backticks f...</td>\n",
       "      <td>javascript;ecmascript-6;graphql;styled-compone...</td>\n",
       "      <td>graphql write define query const user_query gq...</td>\n",
       "      <td>30</td>\n",
       "      <td>7</td>\n",
       "      <td>[string]</td>\n",
       "    </tr>\n",
       "    <tr>\n",
       "      <th>1</th>\n",
       "      <td>know this question has been asked before bu...</td>\n",
       "      <td>typeerror cannot unpack non iterable nonetype ...</td>\n",
       "      <td>python;python-3.x</td>\n",
       "      <td>ask work import numpy def load_dataset def dow...</td>\n",
       "      <td>30</td>\n",
       "      <td>11</td>\n",
       "      <td>[file]</td>\n",
       "    </tr>\n",
       "    <tr>\n",
       "      <th>2</th>\n",
       "      <td>using the new action bar support and all ...</td>\n",
       "      <td>action bar not showing action view icons</td>\n",
       "      <td>android;android-actionbar;android-support-libr...</td>\n",
       "      <td>action bar support action overflow icon bar ap...</td>\n",
       "      <td>30</td>\n",
       "      <td>11</td>\n",
       "      <td>[file]</td>\n",
       "    </tr>\n",
       "    <tr>\n",
       "      <th>3</th>\n",
       "      <td>found some topics here      but   still can...</td>\n",
       "      <td>postgresql group clause used aggregate function</td>\n",
       "      <td>sql;ruby-on-rails-3;postgresql;heroku</td>\n",
       "      <td>topic setup query query work localhost car car...</td>\n",
       "      <td>30</td>\n",
       "      <td>7</td>\n",
       "      <td>[string]</td>\n",
       "    </tr>\n",
       "    <tr>\n",
       "      <th>4</th>\n",
       "      <td>there any   built method   java where you c...</td>\n",
       "      <td>java check input positive integer negative int...</td>\n",
       "      <td>java</td>\n",
       "      <td>method java user input type positive negative ...</td>\n",
       "      <td>30</td>\n",
       "      <td>7</td>\n",
       "      <td>[string]</td>\n",
       "    </tr>\n",
       "  </tbody>\n",
       "</table>\n",
       "</div>"
      ],
      "text/plain": [
       "                                                Body  \\\n",
       "0     graphql you can write something like this  ...   \n",
       "1     know this question has been asked before bu...   \n",
       "2       using the new action bar support and all ...   \n",
       "3     found some topics here      but   still can...   \n",
       "4     there any   built method   java where you c...   \n",
       "\n",
       "                                               Title  \\\n",
       "0  what the purpose template literals backticks f...   \n",
       "1  typeerror cannot unpack non iterable nonetype ...   \n",
       "2           action bar not showing action view icons   \n",
       "3    postgresql group clause used aggregate function   \n",
       "4  java check input positive integer negative int...   \n",
       "\n",
       "                                                Tags  \\\n",
       "0  javascript;ecmascript-6;graphql;styled-compone...   \n",
       "1                                  python;python-3.x   \n",
       "2  android;android-actionbar;android-support-libr...   \n",
       "3              sql;ruby-on-rails-3;postgresql;heroku   \n",
       "4                                               java   \n",
       "\n",
       "                                   Preprocessed_text  Score  LDA_prediction  \\\n",
       "0  graphql write define query const user_query gq...     30               7   \n",
       "1  ask work import numpy def load_dataset def dow...     30              11   \n",
       "2  action bar support action overflow icon bar ap...     30              11   \n",
       "3  topic setup query query work localhost car car...     30               7   \n",
       "4  method java user input type positive negative ...     30               7   \n",
       "\n",
       "  LDA_prediction_tags  \n",
       "0            [string]  \n",
       "1              [file]  \n",
       "2              [file]  \n",
       "3            [string]  \n",
       "4            [string]  "
      ]
     },
     "execution_count": 376,
     "metadata": {},
     "output_type": "execute_result"
    }
   ],
   "source": [
    "d_test.head()"
   ]
  },
  {
   "cell_type": "code",
   "execution_count": 377,
   "id": "37d812f5",
   "metadata": {},
   "outputs": [],
   "source": [
    "#Define other tags\n",
    "d_test['LDA_predictions_tags2'] = d_test.apply(lambda x: tags_2(x.LDA_prediction, x.Preprocessed_text), axis=1)"
   ]
  },
  {
   "cell_type": "code",
   "execution_count": 378,
   "id": "583f0e13",
   "metadata": {},
   "outputs": [
    {
     "data": {
      "text/html": [
       "<div>\n",
       "<style scoped>\n",
       "    .dataframe tbody tr th:only-of-type {\n",
       "        vertical-align: middle;\n",
       "    }\n",
       "\n",
       "    .dataframe tbody tr th {\n",
       "        vertical-align: top;\n",
       "    }\n",
       "\n",
       "    .dataframe thead th {\n",
       "        text-align: right;\n",
       "    }\n",
       "</style>\n",
       "<table border=\"1\" class=\"dataframe\">\n",
       "  <thead>\n",
       "    <tr style=\"text-align: right;\">\n",
       "      <th></th>\n",
       "      <th>Body</th>\n",
       "      <th>Title</th>\n",
       "      <th>Tags</th>\n",
       "      <th>Preprocessed_text</th>\n",
       "      <th>Score</th>\n",
       "      <th>LDA_prediction</th>\n",
       "      <th>LDA_prediction_tags</th>\n",
       "      <th>LDA_predictions_tags2</th>\n",
       "    </tr>\n",
       "  </thead>\n",
       "  <tbody>\n",
       "    <tr>\n",
       "      <th>0</th>\n",
       "      <td>graphql you can write something like this  ...</td>\n",
       "      <td>what the purpose template literals backticks f...</td>\n",
       "      <td>javascript;ecmascript-6;graphql;styled-compone...</td>\n",
       "      <td>graphql write define query const user_query gq...</td>\n",
       "      <td>30</td>\n",
       "      <td>7</td>\n",
       "      <td>[string]</td>\n",
       "      <td>[function, variable, syntax]</td>\n",
       "    </tr>\n",
       "    <tr>\n",
       "      <th>1</th>\n",
       "      <td>know this question has been asked before bu...</td>\n",
       "      <td>typeerror cannot unpack non iterable nonetype ...</td>\n",
       "      <td>python;python-3.x</td>\n",
       "      <td>ask work import numpy def load_dataset def dow...</td>\n",
       "      <td>30</td>\n",
       "      <td>11</td>\n",
       "      <td>[file]</td>\n",
       "      <td>[file, user, error, datum, work, module, line,...</td>\n",
       "    </tr>\n",
       "    <tr>\n",
       "      <th>2</th>\n",
       "      <td>using the new action bar support and all ...</td>\n",
       "      <td>action bar not showing action view icons</td>\n",
       "      <td>android;android-actionbar;android-support-libr...</td>\n",
       "      <td>action bar support action overflow icon bar ap...</td>\n",
       "      <td>30</td>\n",
       "      <td>11</td>\n",
       "      <td>[file]</td>\n",
       "      <td>[app, class, api, return, public, project]</td>\n",
       "    </tr>\n",
       "    <tr>\n",
       "      <th>3</th>\n",
       "      <td>found some topics here      but   still can...</td>\n",
       "      <td>postgresql group clause used aggregate function</td>\n",
       "      <td>sql;ruby-on-rails-3;postgresql;heroku</td>\n",
       "      <td>topic setup query query work localhost car car...</td>\n",
       "      <td>30</td>\n",
       "      <td>7</td>\n",
       "      <td>[string]</td>\n",
       "      <td>[function, column, count]</td>\n",
       "    </tr>\n",
       "    <tr>\n",
       "      <th>4</th>\n",
       "      <td>there any   built method   java where you c...</td>\n",
       "      <td>java check input positive integer negative int...</td>\n",
       "      <td>java</td>\n",
       "      <td>method java user input type positive negative ...</td>\n",
       "      <td>30</td>\n",
       "      <td>7</td>\n",
       "      <td>[string]</td>\n",
       "      <td>[string, int, number, class, print, type, meth...</td>\n",
       "    </tr>\n",
       "  </tbody>\n",
       "</table>\n",
       "</div>"
      ],
      "text/plain": [
       "                                                Body  \\\n",
       "0     graphql you can write something like this  ...   \n",
       "1     know this question has been asked before bu...   \n",
       "2       using the new action bar support and all ...   \n",
       "3     found some topics here      but   still can...   \n",
       "4     there any   built method   java where you c...   \n",
       "\n",
       "                                               Title  \\\n",
       "0  what the purpose template literals backticks f...   \n",
       "1  typeerror cannot unpack non iterable nonetype ...   \n",
       "2           action bar not showing action view icons   \n",
       "3    postgresql group clause used aggregate function   \n",
       "4  java check input positive integer negative int...   \n",
       "\n",
       "                                                Tags  \\\n",
       "0  javascript;ecmascript-6;graphql;styled-compone...   \n",
       "1                                  python;python-3.x   \n",
       "2  android;android-actionbar;android-support-libr...   \n",
       "3              sql;ruby-on-rails-3;postgresql;heroku   \n",
       "4                                               java   \n",
       "\n",
       "                                   Preprocessed_text  Score  LDA_prediction  \\\n",
       "0  graphql write define query const user_query gq...     30               7   \n",
       "1  ask work import numpy def load_dataset def dow...     30              11   \n",
       "2  action bar support action overflow icon bar ap...     30              11   \n",
       "3  topic setup query query work localhost car car...     30               7   \n",
       "4  method java user input type positive negative ...     30               7   \n",
       "\n",
       "  LDA_prediction_tags                              LDA_predictions_tags2  \n",
       "0            [string]                       [function, variable, syntax]  \n",
       "1              [file]  [file, user, error, datum, work, module, line,...  \n",
       "2              [file]         [app, class, api, return, public, project]  \n",
       "3            [string]                          [function, column, count]  \n",
       "4            [string]  [string, int, number, class, print, type, meth...  "
      ]
     },
     "execution_count": 378,
     "metadata": {},
     "output_type": "execute_result"
    }
   ],
   "source": [
    "d_test.head()"
   ]
  },
  {
   "cell_type": "code",
   "execution_count": 379,
   "id": "a2c4efc6",
   "metadata": {},
   "outputs": [],
   "source": [
    "def Union(lst1, lst2):\n",
    "    final_list = list(set(lst1) | set(lst2))\n",
    "    return final_list"
   ]
  },
  {
   "cell_type": "code",
   "execution_count": 380,
   "id": "5c5c7d90",
   "metadata": {
    "scrolled": true
   },
   "outputs": [],
   "source": [
    "#Conclude all tags with LDA\n",
    "d_test['LDA_prediction_tags'] = d_test.apply(lambda x: Union(x.LDA_prediction_tags, x.LDA_predictions_tags2), axis=1)\n",
    "d_test.drop(['LDA_predictions_tags2'], axis=1, inplace=True)"
   ]
  },
  {
   "cell_type": "code",
   "execution_count": 381,
   "id": "5c171405",
   "metadata": {},
   "outputs": [
    {
     "data": {
      "text/html": [
       "<div>\n",
       "<style scoped>\n",
       "    .dataframe tbody tr th:only-of-type {\n",
       "        vertical-align: middle;\n",
       "    }\n",
       "\n",
       "    .dataframe tbody tr th {\n",
       "        vertical-align: top;\n",
       "    }\n",
       "\n",
       "    .dataframe thead th {\n",
       "        text-align: right;\n",
       "    }\n",
       "</style>\n",
       "<table border=\"1\" class=\"dataframe\">\n",
       "  <thead>\n",
       "    <tr style=\"text-align: right;\">\n",
       "      <th></th>\n",
       "      <th>Body</th>\n",
       "      <th>Title</th>\n",
       "      <th>Tags</th>\n",
       "      <th>Preprocessed_text</th>\n",
       "      <th>Score</th>\n",
       "      <th>LDA_prediction</th>\n",
       "      <th>LDA_prediction_tags</th>\n",
       "    </tr>\n",
       "  </thead>\n",
       "  <tbody>\n",
       "    <tr>\n",
       "      <th>0</th>\n",
       "      <td>graphql you can write something like this  ...</td>\n",
       "      <td>what the purpose template literals backticks f...</td>\n",
       "      <td>javascript;ecmascript-6;graphql;styled-compone...</td>\n",
       "      <td>graphql write define query const user_query gq...</td>\n",
       "      <td>30</td>\n",
       "      <td>7</td>\n",
       "      <td>[syntax, string, variable, function]</td>\n",
       "    </tr>\n",
       "    <tr>\n",
       "      <th>1</th>\n",
       "      <td>know this question has been asked before bu...</td>\n",
       "      <td>typeerror cannot unpack non iterable nonetype ...</td>\n",
       "      <td>python;python-3.x</td>\n",
       "      <td>ask work import numpy def load_dataset def dow...</td>\n",
       "      <td>30</td>\n",
       "      <td>11</td>\n",
       "      <td>[error, project, import, datum, user, file, re...</td>\n",
       "    </tr>\n",
       "    <tr>\n",
       "      <th>2</th>\n",
       "      <td>using the new action bar support and all ...</td>\n",
       "      <td>action bar not showing action view icons</td>\n",
       "      <td>android;android-actionbar;android-support-libr...</td>\n",
       "      <td>action bar support action overflow icon bar ap...</td>\n",
       "      <td>30</td>\n",
       "      <td>11</td>\n",
       "      <td>[project, api, app, return, class, public, file]</td>\n",
       "    </tr>\n",
       "    <tr>\n",
       "      <th>3</th>\n",
       "      <td>found some topics here      but   still can...</td>\n",
       "      <td>postgresql group clause used aggregate function</td>\n",
       "      <td>sql;ruby-on-rails-3;postgresql;heroku</td>\n",
       "      <td>topic setup query query work localhost car car...</td>\n",
       "      <td>30</td>\n",
       "      <td>7</td>\n",
       "      <td>[column, function, string, count]</td>\n",
       "    </tr>\n",
       "    <tr>\n",
       "      <th>4</th>\n",
       "      <td>there any   built method   java where you c...</td>\n",
       "      <td>java check input positive integer negative int...</td>\n",
       "      <td>java</td>\n",
       "      <td>method java user input type positive negative ...</td>\n",
       "      <td>30</td>\n",
       "      <td>7</td>\n",
       "      <td>[static, print, class, method, string, java, t...</td>\n",
       "    </tr>\n",
       "  </tbody>\n",
       "</table>\n",
       "</div>"
      ],
      "text/plain": [
       "                                                Body  \\\n",
       "0     graphql you can write something like this  ...   \n",
       "1     know this question has been asked before bu...   \n",
       "2       using the new action bar support and all ...   \n",
       "3     found some topics here      but   still can...   \n",
       "4     there any   built method   java where you c...   \n",
       "\n",
       "                                               Title  \\\n",
       "0  what the purpose template literals backticks f...   \n",
       "1  typeerror cannot unpack non iterable nonetype ...   \n",
       "2           action bar not showing action view icons   \n",
       "3    postgresql group clause used aggregate function   \n",
       "4  java check input positive integer negative int...   \n",
       "\n",
       "                                                Tags  \\\n",
       "0  javascript;ecmascript-6;graphql;styled-compone...   \n",
       "1                                  python;python-3.x   \n",
       "2  android;android-actionbar;android-support-libr...   \n",
       "3              sql;ruby-on-rails-3;postgresql;heroku   \n",
       "4                                               java   \n",
       "\n",
       "                                   Preprocessed_text  Score  LDA_prediction  \\\n",
       "0  graphql write define query const user_query gq...     30               7   \n",
       "1  ask work import numpy def load_dataset def dow...     30              11   \n",
       "2  action bar support action overflow icon bar ap...     30              11   \n",
       "3  topic setup query query work localhost car car...     30               7   \n",
       "4  method java user input type positive negative ...     30               7   \n",
       "\n",
       "                                 LDA_prediction_tags  \n",
       "0               [syntax, string, variable, function]  \n",
       "1  [error, project, import, datum, user, file, re...  \n",
       "2   [project, api, app, return, class, public, file]  \n",
       "3                  [column, function, string, count]  \n",
       "4  [static, print, class, method, string, java, t...  "
      ]
     },
     "execution_count": 381,
     "metadata": {},
     "output_type": "execute_result"
    }
   ],
   "source": [
    "d_test.head()"
   ]
  },
  {
   "cell_type": "markdown",
   "id": "6dd11b2b",
   "metadata": {},
   "source": [
    "### Test on particular questions"
   ]
  },
  {
   "cell_type": "code",
   "execution_count": 384,
   "id": "c603df2d",
   "metadata": {},
   "outputs": [],
   "source": [
    "from functions import *"
   ]
  },
  {
   "cell_type": "code",
   "execution_count": 399,
   "id": "c764c7ed",
   "metadata": {},
   "outputs": [],
   "source": [
    "def predict_lda(text):\n",
    "    ''' predicts tags obtaned with lda model'''\n",
    "    #clean text\n",
    "    text = clean_text(text)\n",
    "    text = remove_stop_words(text)\n",
    "    text = lemmatize(text)\n",
    "    \n",
    "    #make prediction\n",
    "    corpus = dictionary.doc2bow(text.split())\n",
    "    num_topic = max(lda_model.get_document_topics(corpus),\n",
    "                    key=itemgetter(1))[0]\n",
    "    m_tag = main_tag(num_topic)\n",
    "    other_tags = tags_2(num_topic, text)\n",
    "    a = Union(m_tag, other_tags)\n",
    "    \n",
    "    return a"
   ]
  },
  {
   "cell_type": "code",
   "execution_count": 418,
   "id": "dc99fab4",
   "metadata": {},
   "outputs": [],
   "source": [
    "text1 =\"\"\"How can I safely create a nested directory?\n",
    "        What is the most elegant way to check if the directory a file is going to be written to exists, \n",
    "        and if not, create the directory using Python? Here is what I tried:\n",
    "        import os\\ file_path =\"/my/directory/filename.txt\" \n",
    "        directory = os.path.dirname(file_path) \n",
    "        try: \n",
    "        os.stat(directory) \n",
    "        except: \n",
    "        os.mkdir(directory) \n",
    "        f = file(filename) \n",
    "        Somehow, I missed os.path.exists (thanks kanja, Blair, and Douglas). This is what I have now: \n",
    "        def ensure_dir(file_path): \n",
    "        directory = os.path.dirname(file_path) \n",
    "        if not os.path.exists(directory): \n",
    "        os.makedirs(directory) \n",
    "        Is there a flag for open(), that makes this happen automatically?\"\"\""
   ]
  },
  {
   "cell_type": "code",
   "execution_count": 400,
   "id": "667b0282",
   "metadata": {},
   "outputs": [
    {
     "data": {
      "text/plain": [
       "['git', 'directory', 'file', 'path']"
      ]
     },
     "execution_count": 400,
     "metadata": {},
     "output_type": "execute_result"
    }
   ],
   "source": [
    "predict_lda(text)"
   ]
  },
  {
   "cell_type": "code",
   "execution_count": 419,
   "id": "dadab5a1",
   "metadata": {},
   "outputs": [],
   "source": [
    "text2 = \"\"\"I need a good explanation (references are a plus) on Python's slice notation.\n",
    "To me, this notation needs a bit of picking up.\n",
    "It looks extremely powerful, but I haven't quite got my head around it.\"\"\""
   ]
  },
  {
   "cell_type": "code",
   "execution_count": 402,
   "id": "c0a6662d",
   "metadata": {},
   "outputs": [
    {
     "data": {
      "text/plain": [
       "['python', 'string']"
      ]
     },
     "execution_count": 402,
     "metadata": {},
     "output_type": "execute_result"
    }
   ],
   "source": [
    "predict_lda(text)"
   ]
  },
  {
   "cell_type": "code",
   "execution_count": 420,
   "id": "b821a7f2",
   "metadata": {},
   "outputs": [],
   "source": [
    "text3 = \"\"\"After reading Hidden Features and Dark Corners of C++/STL on comp.lang.c++.moderated, \n",
    "I was completely surprised that the following snippet compiled and worked in both Visual Studio 2008 and G++ 4.4.\n",
    "Here's the code:\n",
    "\n",
    "#include <stdio.h>\n",
    "int main()\n",
    "{\n",
    "    int x = 10;\n",
    "    while (x --> 0) // x goes to 0\n",
    "    {\n",
    "        printf(\"%d \", x);\n",
    "    }\n",
    "}\n",
    "Output:\n",
    "\n",
    "9 8 7 6 5 4 3 2 1 0\n",
    "I'd assume this is C, since it works in GCC as well. Where is this defined in the standard, and where has it come from?\"\"\""
   ]
  },
  {
   "cell_type": "code",
   "execution_count": 404,
   "id": "40bc3e6c",
   "metadata": {},
   "outputs": [
    {
     "data": {
      "text/plain": [
       "['c', 'string', 'c++', 'int']"
      ]
     },
     "execution_count": 404,
     "metadata": {},
     "output_type": "execute_result"
    }
   ],
   "source": [
    "predict_lda(text)"
   ]
  },
  {
   "cell_type": "markdown",
   "id": "eb8b48ab",
   "metadata": {},
   "source": [
    "### NMF"
   ]
  },
  {
   "cell_type": "markdown",
   "id": "03856d4f",
   "metadata": {},
   "source": [
    "We try topic prediction with the non negative matrix factorization that is a linear algebra model."
   ]
  },
  {
   "cell_type": "code",
   "execution_count": 407,
   "id": "b405bb03",
   "metadata": {},
   "outputs": [],
   "source": [
    "df = pd.read_pickle('./data/cleaned_data.pkl')\n",
    "df.reset_index(drop=True, inplace=True)"
   ]
  },
  {
   "cell_type": "code",
   "execution_count": 408,
   "id": "d6b705c1",
   "metadata": {},
   "outputs": [],
   "source": [
    "documents = []\n",
    "for i in range(df.shape[0]):\n",
    "    documents.append(df['Preprocessed_text'][i])"
   ]
  },
  {
   "cell_type": "code",
   "execution_count": 409,
   "id": "87994c6c",
   "metadata": {},
   "outputs": [],
   "source": [
    "from sklearn.feature_extraction.text import TfidfVectorizer\n",
    "from sklearn.decomposition import NMF"
   ]
  },
  {
   "cell_type": "code",
   "execution_count": 410,
   "id": "c01f9912",
   "metadata": {},
   "outputs": [],
   "source": [
    "tfidf_vectorizer = TfidfVectorizer(max_df=0.90, \n",
    "                                   min_df=2, \n",
    "                                   stop_words='english')\n",
    "\n",
    "tfidf = tfidf_vectorizer.fit_transform(documents)\n",
    "\n",
    "tfidf_feature_names = tfidf_vectorizer.get_feature_names()"
   ]
  },
  {
   "cell_type": "code",
   "execution_count": 413,
   "id": "4817270a",
   "metadata": {},
   "outputs": [
    {
     "data": {
      "text/plain": [
       "NMF(alpha=0.1, init='nndsvd', l1_ratio=0.5, n_components=18, random_state=1)"
      ]
     },
     "execution_count": 413,
     "metadata": {},
     "output_type": "execute_result"
    }
   ],
   "source": [
    "# alpha=0 means no regularization, l1_ratio=.5, the penalty is a combination of L1 and L2\n",
    "# Run NMF\n",
    "nmf = NMF(n_components=18, random_state=1, alpha=.1, l1_ratio=.5, init='nndsvd')\n",
    "nmf.fit(tfidf)\n"
   ]
  },
  {
   "cell_type": "code",
   "execution_count": 424,
   "id": "699eacad",
   "metadata": {},
   "outputs": [],
   "source": [
    "tfidf_new = tfidf_vectorizer.transform([text1])"
   ]
  },
  {
   "cell_type": "code",
   "execution_count": 425,
   "id": "524a159b",
   "metadata": {},
   "outputs": [],
   "source": [
    "X_new = nmf.transform(tfidf_new)"
   ]
  },
  {
   "cell_type": "code",
   "execution_count": 429,
   "id": "96b47635",
   "metadata": {},
   "outputs": [
    {
     "data": {
      "text/plain": [
       "array([[0.00190057, 0.        , 0.057456  , 0.        , 0.        ,\n",
       "        0.        , 0.        , 0.        , 0.        , 0.01260549,\n",
       "        0.        , 0.        , 0.        , 0.        , 0.        ,\n",
       "        0.        , 0.        , 0.        ]])"
      ]
     },
     "execution_count": 429,
     "metadata": {},
     "output_type": "execute_result"
    }
   ],
   "source": [
    "X_new"
   ]
  },
  {
   "cell_type": "code",
   "execution_count": 430,
   "id": "d12f4c8a",
   "metadata": {},
   "outputs": [
    {
     "data": {
      "text/plain": [
       "(1, 18)"
      ]
     },
     "execution_count": 430,
     "metadata": {},
     "output_type": "execute_result"
    }
   ],
   "source": [
    "X_new.shape"
   ]
  },
  {
   "cell_type": "code",
   "execution_count": 426,
   "id": "9262d02a",
   "metadata": {},
   "outputs": [],
   "source": [
    "predicted_topics = [np.argsort(each)[::-1][0] for each in X_new]"
   ]
  },
  {
   "cell_type": "code",
   "execution_count": 427,
   "id": "7f7ce147",
   "metadata": {},
   "outputs": [
    {
     "data": {
      "text/plain": [
       "[2]"
      ]
     },
     "execution_count": 427,
     "metadata": {},
     "output_type": "execute_result"
    }
   ],
   "source": [
    "predicted_topics"
   ]
  },
  {
   "cell_type": "code",
   "execution_count": 414,
   "id": "3f981c6e",
   "metadata": {},
   "outputs": [],
   "source": [
    "def display_topics(model, feature_names, no_top_words):\n",
    "    for topic_idx, topic in enumerate(model.components_):\n",
    "        print(\"Topic {}:\".format(topic_idx))\n",
    "        print(\" \".join([feature_names[i] for i in topic.argsort()[:-no_top_words - 1:-1]]))"
   ]
  },
  {
   "cell_type": "code",
   "execution_count": null,
   "id": "e4a6712e",
   "metadata": {},
   "outputs": [],
   "source": []
  },
  {
   "cell_type": "code",
   "execution_count": 417,
   "id": "0ddca469",
   "metadata": {
    "scrolled": false
   },
   "outputs": [
    {
     "name": "stdout",
     "output_type": "stream",
     "text": [
      "Topic 0:\n",
      "error user run request server test web api application net url project log work version\n",
      "Topic 1:\n",
      "android studio layout_width com layout_height wrap_content activity layout xml support gradle item match_parent sdk widget\n",
      "Topic 2:\n",
      "file directory folder line project path open txt command upload text create bash copy include\n",
      "Topic 3:\n",
      "string convert object json public stre format str character number return char contain method set\n",
      "Topic 4:\n",
      "git branch commit master push repository github merge remote origin pull repo rebase local clone\n",
      "Topic 5:\n",
      "table sql query key select database mysql create row field primary foreign column server schema\n",
      "Topic 6:\n",
      "class public static method type extend object href span bootstrap btn override constructor col model\n",
      "Topic 7:\n",
      "function return var console datum javascript log jquery scope react test component object method event\n",
      "Topic 8:\n",
      "date day datetime month format year time hour convert number timestamp return datepicker iso end\n",
      "Topic 9:\n",
      "python line module print import package install pip lib usr instal script run version command\n",
      "Topic 10:\n",
      "image background color css text width button html height style size tag page center bootstrap\n",
      "Topic 11:\n",
      "array numpy object arr php convert index return byte remove store test javascript create loop\n",
      "Topic 12:\n",
      "list item loop collection index contain convert object arraylist type return map generic foreach dict\n",
      "Topic 13:\n",
      "value select option type key input property default variable set text label return dictionary number\n",
      "Topic 14:\n",
      "int std struct amp cout main char include return type static byte pointer const compiler\n",
      "Topic 15:\n",
      "java org lang method eclipse androidruntime exception util apache main activitythread springframework bean maven jdk\n",
      "Topic 16:\n",
      "column dataframe panda datum row frame index csv col data series nan count sum grid\n",
      "Topic 17:\n",
      "app io xcode component react play device google angular store import route simulator iphone router\n"
     ]
    }
   ],
   "source": [
    "display_topics(nmf, tfidf_feature_names, 15)"
   ]
  },
  {
   "cell_type": "code",
   "execution_count": 459,
   "id": "af5196d0",
   "metadata": {},
   "outputs": [],
   "source": [
    "def tags_nmf(text):\n",
    "         #clean text\n",
    "        text = clean_text(text)\n",
    "        text = remove_stop_words(text)\n",
    "        text = lemmatize(text)\n",
    "         \n",
    "        #apply tfidf transformation\n",
    "        tfidf_new = tfidf_vectorizer.transform([text])\n",
    "        X_new = nmf.transform(tfidf_new)\n",
    "        \n",
    "        #predict topic number\n",
    "        predicted_topics = [np.argsort(each)[::-1][0] for each in X_new][0]\n",
    "        \n",
    "        main_tag = [tfidf_feature_names[nmf.components_[predicted_topics].argsort()[:-2:-1][0]]]\n",
    "        other_tags = [tfidf_feature_names[i] for i in nmf.components_[predicted_topics].argsort()[:-16:-1]\n",
    "                      if (tfidf_feature_names[i] in text.split())]\n",
    "        return Union(main_tag, other_tags)"
   ]
  },
  {
   "cell_type": "code",
   "execution_count": 460,
   "id": "475bd72a",
   "metadata": {},
   "outputs": [
    {
     "data": {
      "text/plain": [
       "['directory', 'path', 'open', 'txt', 'file', 'create']"
      ]
     },
     "execution_count": 460,
     "metadata": {},
     "output_type": "execute_result"
    }
   ],
   "source": [
    "tags_nmf(text1)"
   ]
  },
  {
   "cell_type": "code",
   "execution_count": 461,
   "id": "42d14a46",
   "metadata": {},
   "outputs": [
    {
     "data": {
      "text/plain": [
       "['python']"
      ]
     },
     "execution_count": 461,
     "metadata": {},
     "output_type": "execute_result"
    }
   ],
   "source": [
    "tags_nmf(text2)"
   ]
  },
  {
   "cell_type": "code",
   "execution_count": 462,
   "id": "1ca662b7",
   "metadata": {},
   "outputs": [
    {
     "data": {
      "text/plain": [
       "['main', 'int', 'include']"
      ]
     },
     "execution_count": 462,
     "metadata": {},
     "output_type": "execute_result"
    }
   ],
   "source": [
    "tags_nmf(text3)"
   ]
  },
  {
   "cell_type": "code",
   "execution_count": 464,
   "id": "9d480718",
   "metadata": {},
   "outputs": [],
   "source": [
    "d_test['NMF_prediction'] = d_test['Preprocessed_text'].apply(tags_nmf)"
   ]
  },
  {
   "cell_type": "code",
   "execution_count": null,
   "id": "6dcfacfc",
   "metadata": {},
   "outputs": [],
   "source": []
  },
  {
   "cell_type": "code",
   "execution_count": null,
   "id": "6b9bb297",
   "metadata": {},
   "outputs": [],
   "source": []
  },
  {
   "cell_type": "code",
   "execution_count": null,
   "id": "2d155df9",
   "metadata": {},
   "outputs": [],
   "source": []
  },
  {
   "cell_type": "code",
   "execution_count": 465,
   "id": "cab448a0",
   "metadata": {},
   "outputs": [],
   "source": [
    "d_test[['Body','Title','Tags','LDA_prediction','LDA_prediction_tags']].to_excel('./data/test.xlsx')"
   ]
  },
  {
   "cell_type": "code",
   "execution_count": null,
   "id": "fd771000",
   "metadata": {},
   "outputs": [],
   "source": []
  }
 ],
 "metadata": {
  "kernelspec": {
   "display_name": "Python 3 (ipykernel)",
   "language": "python",
   "name": "python3"
  },
  "language_info": {
   "codemirror_mode": {
    "name": "ipython",
    "version": 3
   },
   "file_extension": ".py",
   "mimetype": "text/x-python",
   "name": "python",
   "nbconvert_exporter": "python",
   "pygments_lexer": "ipython3",
   "version": "3.8.3"
  }
 },
 "nbformat": 4,
 "nbformat_minor": 5
}
